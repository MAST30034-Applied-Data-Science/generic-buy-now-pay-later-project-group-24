{
 "cells": [
  {
   "cell_type": "code",
   "execution_count": 1,
   "metadata": {},
   "outputs": [],
   "source": [
    "import sys\n",
    "sys.path.append('../scripts/')\n",
    "from read_utils import read_file, create_folder, temp_record_query, temp_record_sdf"
   ]
  },
  {
   "cell_type": "code",
   "execution_count": 2,
   "metadata": {},
   "outputs": [],
   "source": [
    "from pyspark.sql import SparkSession\n",
    "import pyspark.sql.functions as F"
   ]
  },
  {
   "cell_type": "code",
   "execution_count": 3,
   "metadata": {},
   "outputs": [
    {
     "name": "stderr",
     "output_type": "stream",
     "text": [
      "Setting default log level to \"WARN\".\n",
      "To adjust logging level use sc.setLogLevel(newLevel). For SparkR, use setLogLevel(newLevel).\n"
     ]
    },
    {
     "name": "stdout",
     "output_type": "stream",
     "text": [
      "22/10/10 02:26:21 WARN NativeCodeLoader: Unable to load native-hadoop library for your platform... using builtin-java classes where applicable\n",
      "22/10/10 02:26:22 WARN Utils: Service 'SparkUI' could not bind on port 4040. Attempting port 4041.\n"
     ]
    }
   ],
   "source": [
    "spark = (\n",
    "    # Create a spark session (which will run spark jobs)\n",
    "    SparkSession.builder.appName(\"Project 2\")\n",
    "    .config(\"spark.sql.repl.eagerEval.enabled\", True) \n",
    "    .config(\"spark.sql.parquet.cacheMetadata\", \"true\")\n",
    "    .config('spark.executor.memory','10g')\n",
    "    .config('spark.driver.memory','12g')\n",
    "    .config('spark.driver.maxResultsSize', '10GiB')\n",
    "    # .config(\"spark.network.timeout\", \"3600s\")\n",
    "    # .master(\"local[6]\")\n",
    "    .getOrCreate()\n",
    "    )"
   ]
  },
  {
   "cell_type": "code",
   "execution_count": 4,
   "metadata": {},
   "outputs": [
    {
     "name": "stdout",
     "output_type": "stream",
     "text": [
      "|> Loading File...\n"
     ]
    },
    {
     "name": "stderr",
     "output_type": "stream",
     "text": [
      "                                                                                \r"
     ]
    },
    {
     "name": "stdout",
     "output_type": "stream",
     "text": [
      "|> Loading Finished!\n",
      "-RECORD 0------------------------------\n",
      " user_id           | 3188              \n",
      " order_datetime    | 2021-11-26        \n",
      " consumer_id       | 404921            \n",
      " fraud_probability | 9.611722331189984 \n",
      "only showing top 1 row\n",
      "\n"
     ]
    },
    {
     "name": "stderr",
     "output_type": "stream",
     "text": [
      "                                                                                \r"
     ]
    },
    {
     "data": {
      "text/plain": [
       "7994010"
      ]
     },
     "execution_count": 4,
     "metadata": {},
     "output_type": "execute_result"
    }
   ],
   "source": [
    "consumer_fraud_sdf = read_file(spark, 'consumer_fraud.parquet', '../data/curated/')\n",
    "consumer_fraud_sdf.count()"
   ]
  },
  {
   "cell_type": "code",
   "execution_count": 5,
   "metadata": {},
   "outputs": [
    {
     "name": "stdout",
     "output_type": "stream",
     "text": [
      "+-------+--------------+-----------+-----------------+\n",
      "|user_id|order_datetime|consumer_id|fraud_probability|\n",
      "+-------+--------------+-----------+-----------------+\n",
      "|   3188|    2021-11-26|     404921|9.611722331189984|\n",
      "|  21208|    2021-11-26|     111788|9.611722331189984|\n",
      "|  18693|    2021-11-26|     188626|9.611722331189984|\n",
      "|   9704|    2021-11-26|     365098|9.611722331189984|\n",
      "|  15686|    2021-11-26|    1346536|9.611722331189984|\n",
      "+-------+--------------+-----------+-----------------+\n",
      "only showing top 5 rows\n",
      "\n"
     ]
    }
   ],
   "source": [
    "consumer_fraud_sdf.show(5)"
   ]
  },
  {
   "cell_type": "code",
   "execution_count": 6,
   "metadata": {},
   "outputs": [
    {
     "name": "stdout",
     "output_type": "stream",
     "text": [
      "|> Loading File...\n",
      "|> Loading Finished!\n",
      "-RECORD 0------------------------------\n",
      " merchant_abn      | 10023283211       \n",
      " order_datetime    | 2021-03-01        \n",
      " fraud_probability | 30.57903215900633 \n",
      "only showing top 1 row\n",
      "\n"
     ]
    },
    {
     "data": {
      "text/plain": [
       "1204541"
      ]
     },
     "execution_count": 6,
     "metadata": {},
     "output_type": "execute_result"
    }
   ],
   "source": [
    "merchant_fraud_sdf = read_file(spark, 'merchants_fraud.parquet', '../data/curated/')\n",
    "merchant_fraud_sdf.count()"
   ]
  },
  {
   "cell_type": "code",
   "execution_count": 7,
   "metadata": {},
   "outputs": [
    {
     "name": "stdout",
     "output_type": "stream",
     "text": [
      "+------------+--------------+------------------+\n",
      "|merchant_abn|order_datetime| fraud_probability|\n",
      "+------------+--------------+------------------+\n",
      "| 10023283211|    2021-03-01| 30.57903215900633|\n",
      "| 10023283211|    2021-03-05| 30.57903215900633|\n",
      "| 10023283211|    2021-03-06|29.563080709651327|\n",
      "| 10023283211|    2021-03-15| 80.80054474543395|\n",
      "| 10023283211|    2021-03-17| 30.57903215900633|\n",
      "+------------+--------------+------------------+\n",
      "only showing top 5 rows\n",
      "\n"
     ]
    }
   ],
   "source": [
    "merchant_fraud_sdf.show(5)"
   ]
  },
  {
   "cell_type": "markdown",
   "metadata": {},
   "source": [
    "### Join with transaction data"
   ]
  },
  {
   "cell_type": "code",
   "execution_count": 8,
   "metadata": {},
   "outputs": [
    {
     "name": "stdout",
     "output_type": "stream",
     "text": [
      "|> Loading File...\n"
     ]
    },
    {
     "name": "stderr",
     "output_type": "stream",
     "text": [
      "                                                                                \r"
     ]
    },
    {
     "name": "stdout",
     "output_type": "stream",
     "text": [
      "|> Loading Finished!\n",
      "-RECORD 0-------------------------------------------------------------------------------------------\n",
      " user_id         | 9521                                                                             \n",
      " merchant_abn    | 10023283211                                                                      \n",
      " dollar_value    | 86.95574860858353                                                                \n",
      " order_id        | c6c473f9-e796-4c1c-b952-4df1c93f3b4a                                             \n",
      " tags            | furniture, home furnishings and equipment shops, and manufacturers, except ap... \n",
      " take_rate       | 0.18                                                                             \n",
      " type            | e                                                                                \n",
      " postcode        | 4753                                                                             \n",
      " consumer_id     | 838133                                                                           \n",
      " name            | Jason Acosta                                                                     \n",
      " address         | 76877 Jeremy Stravenue                                                           \n",
      " state           | QLD                                                                              \n",
      " gender          | Male                                                                             \n",
      " POA_CODE21      | 4753                                                                             \n",
      " population      | 1166.5481439933797                                                               \n",
      " latitude        | 148.92823860389205                                                               \n",
      " longitude       | -21.146681581985078                                                              \n",
      " New cases / day | 1621.0                                                                           \n",
      " month           | 2021-11-01                                                                       \n",
      " total_retail    | 33345.0                                                                          \n",
      " genderIndex     | 0.0                                                                              \n",
      " typeIndex       | 4.0                                                                              \n",
      " tagIndex        | 9.0                                                                              \n",
      " tag_vec         | (24,[9],[1.0])                                                                   \n",
      " order_datetime  | 2021-11-26                                                                       \n",
      "only showing top 1 row\n",
      "\n"
     ]
    }
   ],
   "source": [
    "trans_sdf = read_file(spark, 'changed_data', '../data/curated/')"
   ]
  },
  {
   "cell_type": "code",
   "execution_count": 9,
   "metadata": {},
   "outputs": [],
   "source": [
    "trans_sdf = trans_sdf.select('order_id', 'order_datetime', 'user_id', 'merchant_abn')"
   ]
  },
  {
   "cell_type": "code",
   "execution_count": 10,
   "metadata": {},
   "outputs": [
    {
     "name": "stdout",
     "output_type": "stream",
     "text": [
      "+--------------------+--------------+-------+------------+\n",
      "|            order_id|order_datetime|user_id|merchant_abn|\n",
      "+--------------------+--------------+-------+------------+\n",
      "|c6c473f9-e796-4c1...|    2021-11-26|   9521| 10023283211|\n",
      "|f1727faa-de41-4c1...|    2021-11-26|  22450| 10023283211|\n",
      "|4b6ba050-bb75-446...|    2021-11-26|   4380| 10023283211|\n",
      "|a4b4af18-b067-4ac...|    2021-11-26|  16219| 10023283211|\n",
      "|5cc7048f-bfea-4db...|    2021-11-26|  19326| 10023283211|\n",
      "+--------------------+--------------+-------+------------+\n",
      "only showing top 5 rows\n",
      "\n"
     ]
    }
   ],
   "source": [
    "trans_sdf.show(5)"
   ]
  },
  {
   "cell_type": "code",
   "execution_count": 11,
   "metadata": {},
   "outputs": [],
   "source": [
    "trans_sdf = trans_sdf.join(consumer_fraud_sdf, on=['user_id', 'order_datetime'], how = 'left').withColumnRenamed('fraud_probability', 'consumer_fraud')"
   ]
  },
  {
   "cell_type": "code",
   "execution_count": 12,
   "metadata": {},
   "outputs": [
    {
     "name": "stderr",
     "output_type": "stream",
     "text": [
      "[Stage 20:>                                                         (0 + 1) / 1]\r"
     ]
    },
    {
     "name": "stdout",
     "output_type": "stream",
     "text": [
      "+-------+--------------+--------------------+------------+-----------+-----------------+\n",
      "|user_id|order_datetime|            order_id|merchant_abn|consumer_id|   consumer_fraud|\n",
      "+-------+--------------+--------------------+------------+-----------+-----------------+\n",
      "|   2442|    2021-06-26|70b8d40f-1ec4-4be...| 10023283211|    1157533|9.611722331189984|\n",
      "|   3224|    2021-05-05|0105037f-9620-475...| 10023283211|     741775|9.611722331189984|\n",
      "|   4084|    2022-02-03|931c77f1-d707-49f...| 10023283211|    1213148|9.611722331189984|\n",
      "|   4739|    2021-03-09|bf2a2a00-e9d3-447...| 10023283211|     225564|9.611722331189984|\n",
      "|   6139|    2021-05-20|275af4b9-ea83-47b...| 10023283211|     188846|9.611722331189984|\n",
      "+-------+--------------+--------------------+------------+-----------+-----------------+\n",
      "only showing top 5 rows\n",
      "\n"
     ]
    },
    {
     "name": "stderr",
     "output_type": "stream",
     "text": [
      "                                                                                \r"
     ]
    }
   ],
   "source": [
    "trans_sdf.show(5)"
   ]
  },
  {
   "cell_type": "code",
   "execution_count": 13,
   "metadata": {},
   "outputs": [
    {
     "name": "stdout",
     "output_type": "stream",
     "text": [
      "+------------+--------------+------------------+\n",
      "|merchant_abn|order_datetime| fraud_probability|\n",
      "+------------+--------------+------------------+\n",
      "| 10023283211|    2021-03-01| 30.57903215900633|\n",
      "| 10023283211|    2021-03-05| 30.57903215900633|\n",
      "| 10023283211|    2021-03-06|29.563080709651327|\n",
      "| 10023283211|    2021-03-15| 80.80054474543395|\n",
      "| 10023283211|    2021-03-17| 30.57903215900633|\n",
      "+------------+--------------+------------------+\n",
      "only showing top 5 rows\n",
      "\n"
     ]
    }
   ],
   "source": [
    "merchant_fraud_sdf.show(5)"
   ]
  },
  {
   "cell_type": "code",
   "execution_count": 14,
   "metadata": {},
   "outputs": [],
   "source": [
    "trans_sdf = trans_sdf.join(merchant_fraud_sdf, on=['merchant_abn', 'order_datetime'], how = 'left').withColumnRenamed('fraud_probability', 'merchant_fraud')"
   ]
  },
  {
   "cell_type": "code",
   "execution_count": 15,
   "metadata": {},
   "outputs": [
    {
     "name": "stderr",
     "output_type": "stream",
     "text": [
      "[Stage 27:>                                                         (0 + 1) / 1]\r"
     ]
    },
    {
     "name": "stdout",
     "output_type": "stream",
     "text": [
      "+------------+--------------+-------+--------------------+-----------+-----------------+------------------+\n",
      "|merchant_abn|order_datetime|user_id|            order_id|consumer_id|   consumer_fraud|    merchant_fraud|\n",
      "+------------+--------------+-------+--------------------+-----------+-----------------+------------------+\n",
      "| 10023283211|    2021-06-26|   2442|70b8d40f-1ec4-4be...|    1157533|9.611722331189984| 30.57903215900633|\n",
      "| 10023283211|    2021-05-05|   3224|0105037f-9620-475...|     741775|9.611722331189984|29.563080709651327|\n",
      "| 10023283211|    2022-02-03|   4084|931c77f1-d707-49f...|    1213148|9.611722331189984|29.563080709651327|\n",
      "| 10023283211|    2021-03-09|   4739|bf2a2a00-e9d3-447...|     225564|9.611722331189984|29.563080709651327|\n",
      "| 10023283211|    2021-05-20|   6139|275af4b9-ea83-47b...|     188846|9.611722331189984|29.563080709651327|\n",
      "+------------+--------------+-------+--------------------+-----------+-----------------+------------------+\n",
      "only showing top 5 rows\n",
      "\n"
     ]
    },
    {
     "name": "stderr",
     "output_type": "stream",
     "text": [
      "                                                                                \r"
     ]
    }
   ],
   "source": [
    "trans_sdf.show(5)"
   ]
  },
  {
   "cell_type": "markdown",
   "metadata": {},
   "source": [
    "- prob of trans by daily fraud probs"
   ]
  },
  {
   "cell_type": "code",
   "execution_count": 16,
   "metadata": {},
   "outputs": [],
   "source": [
    "trans_sdf = trans_sdf.withColumn('average_probability', ((trans_sdf.consumer_fraud + trans_sdf.merchant_fraud)/2))"
   ]
  },
  {
   "cell_type": "code",
   "execution_count": 17,
   "metadata": {},
   "outputs": [
    {
     "name": "stderr",
     "output_type": "stream",
     "text": [
      "[Stage 33:>                                                         (0 + 1) / 1]\r"
     ]
    },
    {
     "name": "stdout",
     "output_type": "stream",
     "text": [
      "+------------+--------------+-------+--------------------+-----------+-----------------+------------------+-------------------+\n",
      "|merchant_abn|order_datetime|user_id|            order_id|consumer_id|   consumer_fraud|    merchant_fraud|average_probability|\n",
      "+------------+--------------+-------+--------------------+-----------+-----------------+------------------+-------------------+\n",
      "| 10023283211|    2021-06-26|   2442|70b8d40f-1ec4-4be...|    1157533|9.611722331189984| 30.57903215900633| 20.095377245098156|\n",
      "| 10023283211|    2021-05-05|   3224|0105037f-9620-475...|     741775|9.611722331189984|29.563080709651327| 19.587401520420656|\n",
      "| 10023283211|    2022-02-03|   4084|931c77f1-d707-49f...|    1213148|9.611722331189984|29.563080709651327| 19.587401520420656|\n",
      "| 10023283211|    2021-03-09|   4739|bf2a2a00-e9d3-447...|     225564|9.611722331189984|29.563080709651327| 19.587401520420656|\n",
      "| 10023283211|    2021-05-20|   6139|275af4b9-ea83-47b...|     188846|9.611722331189984|29.563080709651327| 19.587401520420656|\n",
      "+------------+--------------+-------+--------------------+-----------+-----------------+------------------+-------------------+\n",
      "only showing top 5 rows\n",
      "\n"
     ]
    },
    {
     "name": "stderr",
     "output_type": "stream",
     "text": [
      "                                                                                \r"
     ]
    }
   ],
   "source": [
    "trans_sdf.show(5)"
   ]
  },
  {
   "cell_type": "markdown",
   "metadata": {},
   "source": [
    "- calculate fraud prob on merchats"
   ]
  },
  {
   "cell_type": "code",
   "execution_count": 18,
   "metadata": {},
   "outputs": [
    {
     "name": "stderr",
     "output_type": "stream",
     "text": [
      "[Stage 39:===================================================>      (8 + 1) / 9]\r"
     ]
    },
    {
     "name": "stdout",
     "output_type": "stream",
     "text": [
      "+------------+------------------+\n",
      "|merchant_abn|        fraud_prob|\n",
      "+------------+------------------+\n",
      "| 73256306726| 19.66385103484991|\n",
      "| 83412691377|20.111579242679717|\n",
      "| 24406529929| 20.13478111396258|\n",
      "| 38700038932|26.792685232792838|\n",
      "| 34440496342| 45.03580683409474|\n",
      "+------------+------------------+\n",
      "only showing top 5 rows\n",
      "\n"
     ]
    },
    {
     "name": "stderr",
     "output_type": "stream",
     "text": [
      "                                                                                \r"
     ]
    }
   ],
   "source": [
    "merchants = trans_sdf.groupBy('merchant_abn').agg(\n",
    "    F.avg('average_probability').alias('fraud_prob'))\n",
    "merchants.show(5)"
   ]
  },
  {
   "cell_type": "markdown",
   "metadata": {},
   "source": [
    "### Three categories based on life cycle"
   ]
  },
  {
   "cell_type": "code",
   "execution_count": 19,
   "metadata": {},
   "outputs": [
    {
     "name": "stdout",
     "output_type": "stream",
     "text": [
      "|> Loading File...\n",
      "|> Loading Finished!\n",
      "-RECORD 0-------------------------------------------------------------------------------------------\n",
      " user_id         | 10285                                                                            \n",
      " merchant_abn    | 10023283211                                                                      \n",
      " dollar_value    | 311.8728694054186                                                                \n",
      " order_id        | e41d1fb7-d7b9-4758-9c20-1d34337a312d                                             \n",
      " merchant_name   | Felis Limited                                                                    \n",
      " tags            | furniture, home furnishings and equipment shops, and manufacturers, except ap... \n",
      " take_rate       | 0.18                                                                             \n",
      " type            | e                                                                                \n",
      " postcode        | 6479                                                                             \n",
      " consumer_id     | 191378                                                                           \n",
      " name            | Monica Johnson                                                                   \n",
      " address         | 39257 Lisa Coves                                                                 \n",
      " state           | WA                                                                               \n",
      " gender          | Female                                                                           \n",
      " POA_CODE21      | 6479                                                                             \n",
      " 2021_popu       | 243.95979717723918                                                               \n",
      " latitude        | 118.3969352824164                                                                \n",
      " longitude       | -30.651793761742862                                                              \n",
      " New cases / day | 5.0                                                                              \n",
      " month           | 2021-02-01                                                                       \n",
      " total           | 30332.5                                                                          \n",
      " order_datetime  | 2021-02-28                                                                       \n",
      "only showing top 1 row\n",
      "\n"
     ]
    }
   ],
   "source": [
    "merchant_name = read_file(spark, 'filled.parquet', '../data/curated/')"
   ]
  },
  {
   "cell_type": "code",
   "execution_count": 20,
   "metadata": {},
   "outputs": [],
   "source": [
    "merchant_name = merchant_name.select('merchant_abn', 'merchant_name', 'tags', 'take_rate', 'type').drop_duplicates()"
   ]
  },
  {
   "cell_type": "code",
   "execution_count": 21,
   "metadata": {},
   "outputs": [
    {
     "name": "stderr",
     "output_type": "stream",
     "text": [
      "                                                                                \r"
     ]
    },
    {
     "data": {
      "text/plain": [
       "4422"
      ]
     },
     "execution_count": 21,
     "metadata": {},
     "output_type": "execute_result"
    }
   ],
   "source": [
    "merchant_name.count()"
   ]
  },
  {
   "cell_type": "code",
   "execution_count": 22,
   "metadata": {},
   "outputs": [],
   "source": [
    "merchants = merchants.join(merchant_name, on=['merchant_abn'], how = 'left')"
   ]
  },
  {
   "cell_type": "code",
   "execution_count": 23,
   "metadata": {},
   "outputs": [],
   "source": [
    "high_interval = ['antique shops - sales, repairs, and restoration services', 'art dealers and galleries', 'bicycle shops - sales and service', 'equipment, tool, furniture, and appliance rent al and leasing', 'health and beauty spas', 'hobby, toy and game shops', 'jewelry, watch, clock, and silverware shops', 'stationery, office supplies and printing and writing paper', 'telecom']\n",
    "\n",
    "mid_interval = ['artist supply and craft shops', 'books, periodicals, and newspapers', 'computer programming , data processing, and integrated systems design services', 'furniture, home furnishings and equipment shops, and manufacturers, except appliances', 'lawn and garden supply outlets, including nurseries', 'motor vehicle supplies and new parts', 'music shops - musical instruments, pianos, and sheet music', 'shoe shops', ]\n",
    "\n",
    "low_interval = ['cable, satellite, and other pay television and radio services', 'computers, computer peripheral equipment, and software', 'digital goods: books, movies, music', 'florists supplies, nursery stock, and flowers', 'gift, card, novelty, and souvenir shops', 'opticians, optical goods, and eyeglasses', 'tent and awning shops', 'watch, clock, and jewelry repair shops']"
   ]
  },
  {
   "cell_type": "code",
   "execution_count": 24,
   "metadata": {},
   "outputs": [
    {
     "name": "stdout",
     "output_type": "stream",
     "text": [
      "9\n",
      "8\n",
      "8\n"
     ]
    }
   ],
   "source": [
    "print(len(high_interval))\n",
    "print(len(mid_interval))\n",
    "print(len(low_interval))"
   ]
  },
  {
   "cell_type": "code",
   "execution_count": 25,
   "metadata": {},
   "outputs": [
    {
     "name": "stderr",
     "output_type": "stream",
     "text": [
      "                                                                                \r"
     ]
    },
    {
     "data": {
      "text/plain": [
       "4422"
      ]
     },
     "execution_count": 25,
     "metadata": {},
     "output_type": "execute_result"
    }
   ],
   "source": [
    "merchants.count()"
   ]
  },
  {
   "cell_type": "code",
   "execution_count": 26,
   "metadata": {},
   "outputs": [
    {
     "name": "stderr",
     "output_type": "stream",
     "text": [
      "/Library/Frameworks/Python.framework/Versions/3.7/lib/python3.7/site-packages/pyspark/sql/dataframe.py:3315: FutureWarning: DataFrame.to_pandas_on_spark is deprecated. Use DataFrame.pandas_api instead.\n",
      "  FutureWarning,\n",
      "WARNING:root:'PYARROW_IGNORE_TIMEZONE' environment variable was not set. It is required to set this environment variable to '1' in both driver and executor sides if you use pyarrow>=2.0.0. pandas-on-Spark will set it for you but it does not work if there is a Spark context already launched.\n"
     ]
    }
   ],
   "source": [
    "merchant_df = merchants.to_pandas_on_spark()"
   ]
  },
  {
   "cell_type": "code",
   "execution_count": 27,
   "metadata": {},
   "outputs": [],
   "source": [
    "from collections import defaultdict\n",
    "lifecycle_count = defaultdict()\n",
    "for type in high_interval:\n",
    "    lifecycle_count[type] = 0\n",
    "    \n",
    "for type in mid_interval:\n",
    "    lifecycle_count[type] = 1\n",
    "\n",
    "for type in low_interval:\n",
    "    lifecycle_count[type] = 2"
   ]
  },
  {
   "cell_type": "code",
   "execution_count": 28,
   "metadata": {},
   "outputs": [
    {
     "name": "stderr",
     "output_type": "stream",
     "text": [
      "                                                                                \r"
     ]
    }
   ],
   "source": [
    "merchant_df['lifecycle_count'] = merchant_df.tags.apply(lambda x: lifecycle_count[x] )"
   ]
  },
  {
   "cell_type": "code",
   "execution_count": 29,
   "metadata": {},
   "outputs": [
    {
     "name": "stderr",
     "output_type": "stream",
     "text": [
      "/Library/Frameworks/Python.framework/Versions/3.7/lib/python3.7/site-packages/pyspark/pandas/utils.py:975: PandasAPIOnSparkAdviceWarning: If `index_col` is not specified for `to_spark`, the existing index is lost when converting to Spark DataFrame.\n",
      "  warnings.warn(message, PandasAPIOnSparkAdviceWarning)\n"
     ]
    }
   ],
   "source": [
    "merchant_group = merchant_df.to_spark()"
   ]
  },
  {
   "cell_type": "code",
   "execution_count": 30,
   "metadata": {},
   "outputs": [],
   "source": [
    "tag1 = merchant_group.filter(merchant_group.lifecycle_count == 0).orderBy('fraud_prob', ascending=False)"
   ]
  },
  {
   "cell_type": "code",
   "execution_count": 31,
   "metadata": {},
   "outputs": [],
   "source": [
    "from pyspark.sql.window import Window\n",
    "fraud_on_mercants = Window.partitionBy(\"lifecycle_count\").orderBy(\"fraud_prob\")\n",
    "rank = merchant_group.withColumn(\"rank\",F.rank().over(fraud_on_mercants))"
   ]
  },
  {
   "cell_type": "code",
   "execution_count": 32,
   "metadata": {},
   "outputs": [
    {
     "name": "stderr",
     "output_type": "stream",
     "text": [
      "WARNING:root:'PYARROW_IGNORE_TIMEZONE' environment variable was not set. It is required to set this environment variable to '1' in both driver and executor sides if you use pyarrow>=2.0.0. pandas-on-Spark will set it for you but it does not work if there is a Spark context already launched.\n"
     ]
    },
    {
     "name": "stdout",
     "output_type": "stream",
     "text": [
      "+------------+------------------+--------------------+--------------------+-----------------+----+---------------+----+\n",
      "|merchant_abn|        fraud_prob|       merchant_name|                tags|        take_rate|type|lifecycle_count|rank|\n",
      "+------------+------------------+--------------------+--------------------+-----------------+----+---------------+----+\n",
      "| 52266154043|13.827869164841578|Lobortis Tellus J...|art dealers and g...|             6.88|   a|              0|   1|\n",
      "| 17175760321| 13.83522474132005|Morbi Metus Vivam...|hobby, toy and ga...|             6.33|   a|              0|   2|\n",
      "| 15073921424|13.863470528314354|                null|             telecom|4.466589049638232|   b|              0|   3|\n",
      "| 28717590335|13.877677438359955|                null|             telecom|4.400444888935293|   b|              0|   4|\n",
      "| 85684792409| 13.91130688006743|Risus Donec Nibh LLC|health and beauty...|             6.37|   a|              0|   5|\n",
      "| 27207000299| 13.91130688006743|Egestas Sed Phare...|bicycle shops - s...|             5.84|   a|              0|   5|\n",
      "| 20877828351| 13.91130688006743|      Semper Dui LLP|health and beauty...|             4.98|   b|              0|   5|\n",
      "| 78526643558|13.911306880067432|      Arcu Institute|health and beauty...|             6.29|   a|              0|   8|\n",
      "| 39961396807|13.911306880067432| Sed Dolor Fusce LLP|hobby, toy and ga...|             5.53|   a|              0|   8|\n",
      "| 25876985396|13.911306880067434|Vitae Erat Vivamu...|stationery, offic...|             4.19|   b|              0|  10|\n",
      "+------------+------------------+--------------------+--------------------+-----------------+----+---------------+----+\n",
      "only showing top 10 rows\n",
      "\n"
     ]
    },
    {
     "name": "stderr",
     "output_type": "stream",
     "text": [
      "                                                                                \r"
     ]
    }
   ],
   "source": [
    "rank.show(10)"
   ]
  },
  {
   "cell_type": "code",
   "execution_count": 33,
   "metadata": {},
   "outputs": [
    {
     "name": "stderr",
     "output_type": "stream",
     "text": [
      "WARNING:root:'PYARROW_IGNORE_TIMEZONE' environment variable was not set. It is required to set this environment variable to '1' in both driver and executor sides if you use pyarrow>=2.0.0. pandas-on-Spark will set it for you but it does not work if there is a Spark context already launched.\n",
      "                                                                                \r"
     ]
    },
    {
     "data": {
      "text/html": [
       "<table border='1'>\n",
       "<tr><th>merchant_abn</th><th>fraud_prob</th><th>merchant_name</th><th>tags</th><th>take_rate</th><th>type</th><th>lifecycle_count</th><th>rank</th></tr>\n",
       "<tr><td>52266154043</td><td>13.827869164841578</td><td>Lobortis Tellus J...</td><td>art dealers and g...</td><td>6.88</td><td>a</td><td>0</td><td>1</td></tr>\n",
       "<tr><td>17175760321</td><td>13.83522474132005</td><td>Morbi Metus Vivam...</td><td>hobby, toy and ga...</td><td>6.33</td><td>a</td><td>0</td><td>2</td></tr>\n",
       "<tr><td>15073921424</td><td>13.863470528314354</td><td>null</td><td>telecom</td><td>4.466589049638232</td><td>b</td><td>0</td><td>3</td></tr>\n",
       "<tr><td>28717590335</td><td>13.877677438359955</td><td>null</td><td>telecom</td><td>4.400444888935293</td><td>b</td><td>0</td><td>4</td></tr>\n",
       "<tr><td>85684792409</td><td>13.91130688006743</td><td>Risus Donec Nibh LLC</td><td>health and beauty...</td><td>6.37</td><td>a</td><td>0</td><td>5</td></tr>\n",
       "<tr><td>27207000299</td><td>13.91130688006743</td><td>Egestas Sed Phare...</td><td>bicycle shops - s...</td><td>5.84</td><td>a</td><td>0</td><td>5</td></tr>\n",
       "<tr><td>20877828351</td><td>13.91130688006743</td><td>Semper Dui LLP</td><td>health and beauty...</td><td>4.98</td><td>b</td><td>0</td><td>5</td></tr>\n",
       "<tr><td>78526643558</td><td>13.911306880067432</td><td>Arcu Institute</td><td>health and beauty...</td><td>6.29</td><td>a</td><td>0</td><td>8</td></tr>\n",
       "<tr><td>39961396807</td><td>13.911306880067432</td><td>Sed Dolor Fusce LLP</td><td>hobby, toy and ga...</td><td>5.53</td><td>a</td><td>0</td><td>8</td></tr>\n",
       "<tr><td>25876985396</td><td>13.911306880067434</td><td>Vitae Erat Vivamu...</td><td>stationery, offic...</td><td>4.19</td><td>b</td><td>0</td><td>10</td></tr>\n",
       "<tr><td>56939946451</td><td>13.911910004133764</td><td>Neque Et Corporation</td><td>stationery, offic...</td><td>5.85</td><td>a</td><td>0</td><td>11</td></tr>\n",
       "<tr><td>77593244679</td><td>13.925383461812112</td><td>Mattis Ornare Ass...</td><td>stationery, offic...</td><td>5.98</td><td>a</td><td>0</td><td>12</td></tr>\n",
       "<tr><td>55306852930</td><td>13.927681837197818</td><td>Pede Nunc LLC</td><td>hobby, toy and ga...</td><td>5.0</td><td>b</td><td>0</td><td>13</td></tr>\n",
       "<tr><td>70306626982</td><td>13.942100710084143</td><td>Posuere Cubilia C...</td><td>bicycle shops - s...</td><td>6.85</td><td>a</td><td>0</td><td>14</td></tr>\n",
       "<tr><td>33654290585</td><td>13.945858489804372</td><td>Lacus Pede Corpor...</td><td>bicycle shops - s...</td><td>6.95</td><td>a</td><td>0</td><td>15</td></tr>\n",
       "<tr><td>64523396248</td><td>13.957644207313264</td><td>Sapien Nunc Pulvi...</td><td>bicycle shops - s...</td><td>4.38</td><td>b</td><td>0</td><td>16</td></tr>\n",
       "<tr><td>73648278886</td><td>13.969732270714555</td><td>Cras Vulputate Ve...</td><td>equipment, tool, ...</td><td>4.08</td><td>b</td><td>0</td><td>17</td></tr>\n",
       "<tr><td>17507773571</td><td>13.980989811487776</td><td>Libero Nec Limited</td><td>hobby, toy and ga...</td><td>5.89</td><td>a</td><td>0</td><td>18</td></tr>\n",
       "<tr><td>36105169298</td><td>13.984853660383232</td><td>Amet Diam Company</td><td>bicycle shops - s...</td><td>6.63</td><td>a</td><td>0</td><td>19</td></tr>\n",
       "<tr><td>33150692829</td><td>13.996168549662583</td><td>Mauris LLP</td><td>bicycle shops - s...</td><td>4.47</td><td>b</td><td>0</td><td>20</td></tr>\n",
       "</table>\n",
       "only showing top 20 rows\n"
      ],
      "text/plain": [
       "+------------+------------------+--------------------+--------------------+-----------------+----+---------------+----+\n",
       "|merchant_abn|        fraud_prob|       merchant_name|                tags|        take_rate|type|lifecycle_count|rank|\n",
       "+------------+------------------+--------------------+--------------------+-----------------+----+---------------+----+\n",
       "| 52266154043|13.827869164841578|Lobortis Tellus J...|art dealers and g...|             6.88|   a|              0|   1|\n",
       "| 17175760321| 13.83522474132005|Morbi Metus Vivam...|hobby, toy and ga...|             6.33|   a|              0|   2|\n",
       "| 15073921424|13.863470528314354|                null|             telecom|4.466589049638232|   b|              0|   3|\n",
       "| 28717590335|13.877677438359955|                null|             telecom|4.400444888935293|   b|              0|   4|\n",
       "| 85684792409| 13.91130688006743|Risus Donec Nibh LLC|health and beauty...|             6.37|   a|              0|   5|\n",
       "| 27207000299| 13.91130688006743|Egestas Sed Phare...|bicycle shops - s...|             5.84|   a|              0|   5|\n",
       "| 20877828351| 13.91130688006743|      Semper Dui LLP|health and beauty...|             4.98|   b|              0|   5|\n",
       "| 78526643558|13.911306880067432|      Arcu Institute|health and beauty...|             6.29|   a|              0|   8|\n",
       "| 39961396807|13.911306880067432| Sed Dolor Fusce LLP|hobby, toy and ga...|             5.53|   a|              0|   8|\n",
       "| 25876985396|13.911306880067434|Vitae Erat Vivamu...|stationery, offic...|             4.19|   b|              0|  10|\n",
       "| 56939946451|13.911910004133764|Neque Et Corporation|stationery, offic...|             5.85|   a|              0|  11|\n",
       "| 77593244679|13.925383461812112|Mattis Ornare Ass...|stationery, offic...|             5.98|   a|              0|  12|\n",
       "| 55306852930|13.927681837197818|       Pede Nunc LLC|hobby, toy and ga...|              5.0|   b|              0|  13|\n",
       "| 70306626982|13.942100710084143|Posuere Cubilia C...|bicycle shops - s...|             6.85|   a|              0|  14|\n",
       "| 33654290585|13.945858489804372|Lacus Pede Corpor...|bicycle shops - s...|             6.95|   a|              0|  15|\n",
       "| 64523396248|13.957644207313264|Sapien Nunc Pulvi...|bicycle shops - s...|             4.38|   b|              0|  16|\n",
       "| 73648278886|13.969732270714555|Cras Vulputate Ve...|equipment, tool, ...|             4.08|   b|              0|  17|\n",
       "| 17507773571|13.980989811487776|  Libero Nec Limited|hobby, toy and ga...|             5.89|   a|              0|  18|\n",
       "| 36105169298|13.984853660383232|   Amet Diam Company|bicycle shops - s...|             6.63|   a|              0|  19|\n",
       "| 33150692829|13.996168549662583|          Mauris LLP|bicycle shops - s...|             4.47|   b|              0|  20|\n",
       "+------------+------------------+--------------------+--------------------+-----------------+----+---------------+----+\n",
       "only showing top 20 rows"
      ]
     },
     "execution_count": 33,
     "metadata": {},
     "output_type": "execute_result"
    }
   ],
   "source": [
    "rank.filter(F.col('lifecycle_count')==0)"
   ]
  },
  {
   "cell_type": "code",
   "execution_count": 34,
   "metadata": {},
   "outputs": [
    {
     "name": "stderr",
     "output_type": "stream",
     "text": [
      "                                                                                \r"
     ]
    },
    {
     "data": {
      "text/html": [
       "<table border='1'>\n",
       "<tr><th>merchant_abn</th><th>fraud_prob</th><th>merchant_name</th><th>tags</th><th>take_rate</th><th>type</th><th>lifecycle_count</th><th>rank</th></tr>\n",
       "<tr><td>95856918319</td><td>13.903626047428073</td><td>Scelerisque Scele...</td><td>music shops - mus...</td><td>6.43</td><td>a</td><td>1</td><td>1</td></tr>\n",
       "<tr><td>24314208971</td><td>13.91130688006743</td><td>Metus Ltd</td><td>computer programm...</td><td>5.73</td><td>a</td><td>1</td><td>2</td></tr>\n",
       "<tr><td>87824427219</td><td>13.91130688006743</td><td>Phasellus Ferment...</td><td>artist supply and...</td><td>6.72</td><td>a</td><td>1</td><td>2</td></tr>\n",
       "<tr><td>29917527785</td><td>13.911306880067432</td><td>Ullamcorper Corp.</td><td>books, periodical...</td><td>4.1</td><td>b</td><td>1</td><td>4</td></tr>\n",
       "<tr><td>27950649624</td><td>13.911306880067432</td><td>null</td><td>motor vehicle sup...</td><td>4.277697083403025</td><td>b</td><td>1</td><td>4</td></tr>\n",
       "<tr><td>35194643826</td><td>13.911306880067432</td><td>Orci Industries</td><td>music shops - mus...</td><td>6.61</td><td>a</td><td>1</td><td>4</td></tr>\n",
       "<tr><td>40751557554</td><td>13.911306880067432</td><td>Nisi Cum Industries</td><td>artist supply and...</td><td>4.48</td><td>b</td><td>1</td><td>4</td></tr>\n",
       "<tr><td>68275485458</td><td>13.911306880067432</td><td>Morbi Sit Inc.</td><td>artist supply and...</td><td>5.62</td><td>a</td><td>1</td><td>4</td></tr>\n",
       "<tr><td>20073297612</td><td>13.911306880067432</td><td>Dictum Sapien Ass...</td><td>artist supply and...</td><td>4.0</td><td>b</td><td>1</td><td>4</td></tr>\n",
       "<tr><td>20415536115</td><td>13.911306880067434</td><td>Nibh Phasellus Nu...</td><td>lawn and garden s...</td><td>5.84</td><td>a</td><td>1</td><td>10</td></tr>\n",
       "<tr><td>87233538213</td><td>13.917331467590321</td><td>Posuere At Incorp...</td><td>music shops - mus...</td><td>4.0</td><td>b</td><td>1</td><td>11</td></tr>\n",
       "<tr><td>43078277216</td><td>13.918332612460668</td><td>Fermentum Risus Ltd</td><td>lawn and garden s...</td><td>5.95</td><td>a</td><td>1</td><td>12</td></tr>\n",
       "<tr><td>88644745666</td><td>13.93242175268445</td><td>Orci Adipiscing N...</td><td>artist supply and...</td><td>6.42</td><td>a</td><td>1</td><td>13</td></tr>\n",
       "<tr><td>58786009971</td><td>13.952037300380825</td><td>Tortor Integer Al...</td><td>motor vehicle sup...</td><td>6.8</td><td>a</td><td>1</td><td>14</td></tr>\n",
       "<tr><td>41027080823</td><td>13.954627664344658</td><td>Dolor Donec Ltd</td><td>furniture, home f...</td><td>6.89</td><td>a</td><td>1</td><td>15</td></tr>\n",
       "<tr><td>56703883889</td><td>13.958815343455722</td><td>null</td><td>furniture, home f...</td><td>4.2645071383611</td><td>b</td><td>1</td><td>16</td></tr>\n",
       "<tr><td>69030600619</td><td>13.967042121618022</td><td>Sit Inc.</td><td>lawn and garden s...</td><td>6.74</td><td>a</td><td>1</td><td>17</td></tr>\n",
       "<tr><td>49867386620</td><td>13.970237393123465</td><td>A Malesuada Id Ltd</td><td>music shops - mus...</td><td>6.38</td><td>a</td><td>1</td><td>18</td></tr>\n",
       "<tr><td>29276411530</td><td>13.975091725457796</td><td>Arcu Vel Corporation</td><td>artist supply and...</td><td>3.95</td><td>b</td><td>1</td><td>19</td></tr>\n",
       "<tr><td>67254399155</td><td>13.978970745641842</td><td>null</td><td>music shops - mus...</td><td>4.395556908971581</td><td>b</td><td>1</td><td>20</td></tr>\n",
       "</table>\n",
       "only showing top 20 rows\n"
      ],
      "text/plain": [
       "+------------+------------------+--------------------+--------------------+-----------------+----+---------------+----+\n",
       "|merchant_abn|        fraud_prob|       merchant_name|                tags|        take_rate|type|lifecycle_count|rank|\n",
       "+------------+------------------+--------------------+--------------------+-----------------+----+---------------+----+\n",
       "| 95856918319|13.903626047428073|Scelerisque Scele...|music shops - mus...|             6.43|   a|              1|   1|\n",
       "| 24314208971| 13.91130688006743|           Metus Ltd|computer programm...|             5.73|   a|              1|   2|\n",
       "| 87824427219| 13.91130688006743|Phasellus Ferment...|artist supply and...|             6.72|   a|              1|   2|\n",
       "| 29917527785|13.911306880067432|   Ullamcorper Corp.|books, periodical...|              4.1|   b|              1|   4|\n",
       "| 27950649624|13.911306880067432|                null|motor vehicle sup...|4.277697083403025|   b|              1|   4|\n",
       "| 35194643826|13.911306880067432|     Orci Industries|music shops - mus...|             6.61|   a|              1|   4|\n",
       "| 40751557554|13.911306880067432| Nisi Cum Industries|artist supply and...|             4.48|   b|              1|   4|\n",
       "| 68275485458|13.911306880067432|      Morbi Sit Inc.|artist supply and...|             5.62|   a|              1|   4|\n",
       "| 20073297612|13.911306880067432|Dictum Sapien Ass...|artist supply and...|              4.0|   b|              1|   4|\n",
       "| 20415536115|13.911306880067434|Nibh Phasellus Nu...|lawn and garden s...|             5.84|   a|              1|  10|\n",
       "| 87233538213|13.917331467590321|Posuere At Incorp...|music shops - mus...|              4.0|   b|              1|  11|\n",
       "| 43078277216|13.918332612460668| Fermentum Risus Ltd|lawn and garden s...|             5.95|   a|              1|  12|\n",
       "| 88644745666| 13.93242175268445|Orci Adipiscing N...|artist supply and...|             6.42|   a|              1|  13|\n",
       "| 58786009971|13.952037300380825|Tortor Integer Al...|motor vehicle sup...|              6.8|   a|              1|  14|\n",
       "| 41027080823|13.954627664344658|     Dolor Donec Ltd|furniture, home f...|             6.89|   a|              1|  15|\n",
       "| 56703883889|13.958815343455722|                null|furniture, home f...|  4.2645071383611|   b|              1|  16|\n",
       "| 69030600619|13.967042121618022|            Sit Inc.|lawn and garden s...|             6.74|   a|              1|  17|\n",
       "| 49867386620|13.970237393123465|  A Malesuada Id Ltd|music shops - mus...|             6.38|   a|              1|  18|\n",
       "| 29276411530|13.975091725457796|Arcu Vel Corporation|artist supply and...|             3.95|   b|              1|  19|\n",
       "| 67254399155|13.978970745641842|                null|music shops - mus...|4.395556908971581|   b|              1|  20|\n",
       "+------------+------------------+--------------------+--------------------+-----------------+----+---------------+----+\n",
       "only showing top 20 rows"
      ]
     },
     "execution_count": 34,
     "metadata": {},
     "output_type": "execute_result"
    }
   ],
   "source": [
    "rank.filter(F.col('lifecycle_count')==1)"
   ]
  },
  {
   "cell_type": "code",
   "execution_count": 35,
   "metadata": {},
   "outputs": [
    {
     "name": "stderr",
     "output_type": "stream",
     "text": [
      "                                                                                \r"
     ]
    },
    {
     "data": {
      "text/html": [
       "<table border='1'>\n",
       "<tr><th>merchant_abn</th><th>fraud_prob</th><th>merchant_name</th><th>tags</th><th>take_rate</th><th>type</th><th>lifecycle_count</th><th>rank</th></tr>\n",
       "<tr><td>43308864284</td><td>13.910174767241156</td><td>Eleifend Incorpor...</td><td>tent and awning s...</td><td>4.67</td><td>b</td><td>2</td><td>1</td></tr>\n",
       "<tr><td>57798993346</td><td>13.91130688006743</td><td>Malesuada LLC</td><td>tent and awning s...</td><td>4.34</td><td>b</td><td>2</td><td>2</td></tr>\n",
       "<tr><td>61569154734</td><td>13.91130688006743</td><td>Blandit At Nisi PC</td><td>tent and awning s...</td><td>5.78</td><td>a</td><td>2</td><td>2</td></tr>\n",
       "<tr><td>60218700582</td><td>13.911306880067432</td><td>null</td><td>tent and awning s...</td><td>4.415571705599518</td><td>b</td><td>2</td><td>4</td></tr>\n",
       "<tr><td>97748234104</td><td>13.911306880067432</td><td>Vitae Diam PC</td><td>florists supplies...</td><td>6.63</td><td>a</td><td>2</td><td>4</td></tr>\n",
       "<tr><td>29681526553</td><td>13.911306880067432</td><td>Cras Vehicula Ali...</td><td>tent and awning s...</td><td>6.24</td><td>a</td><td>2</td><td>4</td></tr>\n",
       "<tr><td>66650274915</td><td>13.911306880067432</td><td>Gravida Praesent ...</td><td>florists supplies...</td><td>6.3</td><td>a</td><td>2</td><td>4</td></tr>\n",
       "<tr><td>45783462228</td><td>13.911306880067432</td><td>Pretium Neque Mor...</td><td>tent and awning s...</td><td>6.61</td><td>a</td><td>2</td><td>4</td></tr>\n",
       "<tr><td>52379134298</td><td>13.911306880067436</td><td>Eu Foundation</td><td>computers, comput...</td><td>6.53</td><td>a</td><td>2</td><td>9</td></tr>\n",
       "<tr><td>68656010159</td><td>13.921709607218327</td><td>Suspendisse Limited</td><td>tent and awning s...</td><td>5.97</td><td>a</td><td>2</td><td>10</td></tr>\n",
       "<tr><td>40361137142</td><td>13.9366012834987</td><td>Porttitor Corp.</td><td>tent and awning s...</td><td>6.19</td><td>a</td><td>2</td><td>11</td></tr>\n",
       "<tr><td>83316055023</td><td>13.980717478531046</td><td>null</td><td>tent and awning s...</td><td>4.364929370596836</td><td>b</td><td>2</td><td>12</td></tr>\n",
       "<tr><td>91162493125</td><td>14.00984151929236</td><td>null</td><td>tent and awning s...</td><td>4.2499832330871525</td><td>b</td><td>2</td><td>13</td></tr>\n",
       "<tr><td>34339412732</td><td>14.018156736467944</td><td>Suspendisse Eleif...</td><td>tent and awning s...</td><td>3.97</td><td>b</td><td>2</td><td>14</td></tr>\n",
       "<tr><td>90938232295</td><td>14.02235080859453</td><td>Lorem Sit Ltd</td><td>tent and awning s...</td><td>6.58</td><td>a</td><td>2</td><td>15</td></tr>\n",
       "<tr><td>38249941422</td><td>14.027124950307288</td><td>Amet Faucibus Inc...</td><td>tent and awning s...</td><td>5.1</td><td>b</td><td>2</td><td>16</td></tr>\n",
       "<tr><td>89249209432</td><td>14.029628276566443</td><td>Sem Pellentesque ...</td><td>tent and awning s...</td><td>3.99</td><td>b</td><td>2</td><td>17</td></tr>\n",
       "<tr><td>66145449222</td><td>14.096376918175276</td><td>null</td><td>tent and awning s...</td><td>4.530549754709861</td><td>b</td><td>2</td><td>18</td></tr>\n",
       "<tr><td>88555435517</td><td>14.237171141970256</td><td>null</td><td>tent and awning s...</td><td>4.364661542765768</td><td>b</td><td>2</td><td>19</td></tr>\n",
       "<tr><td>13467303030</td><td>14.32362737314514</td><td>Duis LLP</td><td>tent and awning s...</td><td>5.51</td><td>a</td><td>2</td><td>20</td></tr>\n",
       "</table>\n",
       "only showing top 20 rows\n"
      ],
      "text/plain": [
       "+------------+------------------+--------------------+--------------------+------------------+----+---------------+----+\n",
       "|merchant_abn|        fraud_prob|       merchant_name|                tags|         take_rate|type|lifecycle_count|rank|\n",
       "+------------+------------------+--------------------+--------------------+------------------+----+---------------+----+\n",
       "| 43308864284|13.910174767241156|Eleifend Incorpor...|tent and awning s...|              4.67|   b|              2|   1|\n",
       "| 57798993346| 13.91130688006743|       Malesuada LLC|tent and awning s...|              4.34|   b|              2|   2|\n",
       "| 61569154734| 13.91130688006743|  Blandit At Nisi PC|tent and awning s...|              5.78|   a|              2|   2|\n",
       "| 60218700582|13.911306880067432|                null|tent and awning s...| 4.415571705599518|   b|              2|   4|\n",
       "| 97748234104|13.911306880067432|       Vitae Diam PC|florists supplies...|              6.63|   a|              2|   4|\n",
       "| 29681526553|13.911306880067432|Cras Vehicula Ali...|tent and awning s...|              6.24|   a|              2|   4|\n",
       "| 66650274915|13.911306880067432|Gravida Praesent ...|florists supplies...|               6.3|   a|              2|   4|\n",
       "| 45783462228|13.911306880067432|Pretium Neque Mor...|tent and awning s...|              6.61|   a|              2|   4|\n",
       "| 52379134298|13.911306880067436|       Eu Foundation|computers, comput...|              6.53|   a|              2|   9|\n",
       "| 68656010159|13.921709607218327| Suspendisse Limited|tent and awning s...|              5.97|   a|              2|  10|\n",
       "| 40361137142|  13.9366012834987|     Porttitor Corp.|tent and awning s...|              6.19|   a|              2|  11|\n",
       "| 83316055023|13.980717478531046|                null|tent and awning s...| 4.364929370596836|   b|              2|  12|\n",
       "| 91162493125| 14.00984151929236|                null|tent and awning s...|4.2499832330871525|   b|              2|  13|\n",
       "| 34339412732|14.018156736467944|Suspendisse Eleif...|tent and awning s...|              3.97|   b|              2|  14|\n",
       "| 90938232295| 14.02235080859453|       Lorem Sit Ltd|tent and awning s...|              6.58|   a|              2|  15|\n",
       "| 38249941422|14.027124950307288|Amet Faucibus Inc...|tent and awning s...|               5.1|   b|              2|  16|\n",
       "| 89249209432|14.029628276566443|Sem Pellentesque ...|tent and awning s...|              3.99|   b|              2|  17|\n",
       "| 66145449222|14.096376918175276|                null|tent and awning s...| 4.530549754709861|   b|              2|  18|\n",
       "| 88555435517|14.237171141970256|                null|tent and awning s...| 4.364661542765768|   b|              2|  19|\n",
       "| 13467303030| 14.32362737314514|            Duis LLP|tent and awning s...|              5.51|   a|              2|  20|\n",
       "+------------+------------------+--------------------+--------------------+------------------+----+---------------+----+\n",
       "only showing top 20 rows"
      ]
     },
     "execution_count": 35,
     "metadata": {},
     "output_type": "execute_result"
    }
   ],
   "source": [
    "rank.filter(F.col('lifecycle_count')==2)"
   ]
  },
  {
   "cell_type": "code",
   "execution_count": 36,
   "metadata": {},
   "outputs": [
    {
     "name": "stderr",
     "output_type": "stream",
     "text": [
      "                                                                                \r"
     ]
    },
    {
     "data": {
      "text/html": [
       "<table border='1'>\n",
       "<tr><th>merchant_abn</th><th>fraud_prob</th><th>merchant_name</th><th>tags</th><th>take_rate</th><th>type</th><th>lifecycle_count</th></tr>\n",
       "<tr><td>52266154043</td><td>13.827869164841578</td><td>Lobortis Tellus J...</td><td>art dealers and g...</td><td>6.88</td><td>a</td><td>0</td></tr>\n",
       "<tr><td>17175760321</td><td>13.83522474132005</td><td>Morbi Metus Vivam...</td><td>hobby, toy and ga...</td><td>6.33</td><td>a</td><td>0</td></tr>\n",
       "<tr><td>15073921424</td><td>13.863470528314354</td><td>null</td><td>telecom</td><td>4.466589049638232</td><td>b</td><td>0</td></tr>\n",
       "<tr><td>28717590335</td><td>13.877677438359955</td><td>null</td><td>telecom</td><td>4.400444888935293</td><td>b</td><td>0</td></tr>\n",
       "<tr><td>95856918319</td><td>13.903626047428073</td><td>Scelerisque Scele...</td><td>music shops - mus...</td><td>6.43</td><td>a</td><td>1</td></tr>\n",
       "<tr><td>43308864284</td><td>13.910174767241156</td><td>Eleifend Incorpor...</td><td>tent and awning s...</td><td>4.67</td><td>b</td><td>2</td></tr>\n",
       "<tr><td>20877828351</td><td>13.91130688006743</td><td>Semper Dui LLP</td><td>health and beauty...</td><td>4.98</td><td>b</td><td>0</td></tr>\n",
       "<tr><td>85684792409</td><td>13.91130688006743</td><td>Risus Donec Nibh LLC</td><td>health and beauty...</td><td>6.37</td><td>a</td><td>0</td></tr>\n",
       "<tr><td>57798993346</td><td>13.91130688006743</td><td>Malesuada LLC</td><td>tent and awning s...</td><td>4.34</td><td>b</td><td>2</td></tr>\n",
       "<tr><td>87824427219</td><td>13.91130688006743</td><td>Phasellus Ferment...</td><td>artist supply and...</td><td>6.72</td><td>a</td><td>1</td></tr>\n",
       "<tr><td>27207000299</td><td>13.91130688006743</td><td>Egestas Sed Phare...</td><td>bicycle shops - s...</td><td>5.84</td><td>a</td><td>0</td></tr>\n",
       "<tr><td>24314208971</td><td>13.91130688006743</td><td>Metus Ltd</td><td>computer programm...</td><td>5.73</td><td>a</td><td>1</td></tr>\n",
       "<tr><td>61569154734</td><td>13.91130688006743</td><td>Blandit At Nisi PC</td><td>tent and awning s...</td><td>5.78</td><td>a</td><td>2</td></tr>\n",
       "<tr><td>29917527785</td><td>13.911306880067432</td><td>Ullamcorper Corp.</td><td>books, periodical...</td><td>4.1</td><td>b</td><td>1</td></tr>\n",
       "<tr><td>97748234104</td><td>13.911306880067432</td><td>Vitae Diam PC</td><td>florists supplies...</td><td>6.63</td><td>a</td><td>2</td></tr>\n",
       "<tr><td>60218700582</td><td>13.911306880067432</td><td>null</td><td>tent and awning s...</td><td>4.415571705599518</td><td>b</td><td>2</td></tr>\n",
       "<tr><td>27950649624</td><td>13.911306880067432</td><td>null</td><td>motor vehicle sup...</td><td>4.277697083403025</td><td>b</td><td>1</td></tr>\n",
       "<tr><td>78526643558</td><td>13.911306880067432</td><td>Arcu Institute</td><td>health and beauty...</td><td>6.29</td><td>a</td><td>0</td></tr>\n",
       "<tr><td>66650274915</td><td>13.911306880067432</td><td>Gravida Praesent ...</td><td>florists supplies...</td><td>6.3</td><td>a</td><td>2</td></tr>\n",
       "<tr><td>40751557554</td><td>13.911306880067432</td><td>Nisi Cum Industries</td><td>artist supply and...</td><td>4.48</td><td>b</td><td>1</td></tr>\n",
       "</table>\n",
       "only showing top 20 rows\n"
      ],
      "text/plain": [
       "+------------+------------------+--------------------+--------------------+-----------------+----+---------------+\n",
       "|merchant_abn|        fraud_prob|       merchant_name|                tags|        take_rate|type|lifecycle_count|\n",
       "+------------+------------------+--------------------+--------------------+-----------------+----+---------------+\n",
       "| 52266154043|13.827869164841578|Lobortis Tellus J...|art dealers and g...|             6.88|   a|              0|\n",
       "| 17175760321| 13.83522474132005|Morbi Metus Vivam...|hobby, toy and ga...|             6.33|   a|              0|\n",
       "| 15073921424|13.863470528314354|                null|             telecom|4.466589049638232|   b|              0|\n",
       "| 28717590335|13.877677438359955|                null|             telecom|4.400444888935293|   b|              0|\n",
       "| 95856918319|13.903626047428073|Scelerisque Scele...|music shops - mus...|             6.43|   a|              1|\n",
       "| 43308864284|13.910174767241156|Eleifend Incorpor...|tent and awning s...|             4.67|   b|              2|\n",
       "| 20877828351| 13.91130688006743|      Semper Dui LLP|health and beauty...|             4.98|   b|              0|\n",
       "| 85684792409| 13.91130688006743|Risus Donec Nibh LLC|health and beauty...|             6.37|   a|              0|\n",
       "| 57798993346| 13.91130688006743|       Malesuada LLC|tent and awning s...|             4.34|   b|              2|\n",
       "| 87824427219| 13.91130688006743|Phasellus Ferment...|artist supply and...|             6.72|   a|              1|\n",
       "| 27207000299| 13.91130688006743|Egestas Sed Phare...|bicycle shops - s...|             5.84|   a|              0|\n",
       "| 24314208971| 13.91130688006743|           Metus Ltd|computer programm...|             5.73|   a|              1|\n",
       "| 61569154734| 13.91130688006743|  Blandit At Nisi PC|tent and awning s...|             5.78|   a|              2|\n",
       "| 29917527785|13.911306880067432|   Ullamcorper Corp.|books, periodical...|              4.1|   b|              1|\n",
       "| 97748234104|13.911306880067432|       Vitae Diam PC|florists supplies...|             6.63|   a|              2|\n",
       "| 60218700582|13.911306880067432|                null|tent and awning s...|4.415571705599518|   b|              2|\n",
       "| 27950649624|13.911306880067432|                null|motor vehicle sup...|4.277697083403025|   b|              1|\n",
       "| 78526643558|13.911306880067432|      Arcu Institute|health and beauty...|             6.29|   a|              0|\n",
       "| 66650274915|13.911306880067432|Gravida Praesent ...|florists supplies...|              6.3|   a|              2|\n",
       "| 40751557554|13.911306880067432| Nisi Cum Industries|artist supply and...|             4.48|   b|              1|\n",
       "+------------+------------------+--------------------+--------------------+-----------------+----+---------------+\n",
       "only showing top 20 rows"
      ]
     },
     "execution_count": 36,
     "metadata": {},
     "output_type": "execute_result"
    }
   ],
   "source": [
    "merchant_group.sort('fraud_prob')"
   ]
  },
  {
   "cell_type": "code",
   "execution_count": null,
   "metadata": {},
   "outputs": [],
   "source": []
  }
 ],
 "metadata": {
  "kernelspec": {
   "display_name": "Python 3.7.9 64-bit",
   "language": "python",
   "name": "python3"
  },
  "language_info": {
   "codemirror_mode": {
    "name": "ipython",
    "version": 3
   },
   "file_extension": ".py",
   "mimetype": "text/x-python",
   "name": "python",
   "nbconvert_exporter": "python",
   "pygments_lexer": "ipython3",
   "version": "3.7.9"
  },
  "orig_nbformat": 4,
  "vscode": {
   "interpreter": {
    "hash": "aee8b7b246df8f9039afb4144a1f6fd8d2ca17a180786b69acc140d282b71a49"
   }
  }
 },
 "nbformat": 4,
 "nbformat_minor": 2
}
