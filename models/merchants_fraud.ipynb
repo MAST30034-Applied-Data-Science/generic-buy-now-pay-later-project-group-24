{
 "cells": [
  {
   "cell_type": "code",
   "execution_count": 1,
   "metadata": {},
   "outputs": [],
   "source": [
    "import sys\n",
    "sys.path.append('../scripts/')\n",
    "from read_utils import read_file, create_folder, temp_record_query, temp_record_sdf"
   ]
  },
  {
   "cell_type": "code",
   "execution_count": 2,
   "metadata": {},
   "outputs": [],
   "source": [
    "from pyspark.sql import SparkSession"
   ]
  },
  {
   "cell_type": "code",
   "execution_count": 3,
   "metadata": {},
   "outputs": [
    {
     "name": "stderr",
     "output_type": "stream",
     "text": [
      "Setting default log level to \"WARN\".\n",
      "To adjust logging level use sc.setLogLevel(newLevel). For SparkR, use setLogLevel(newLevel).\n"
     ]
    },
    {
     "name": "stdout",
     "output_type": "stream",
     "text": [
      "22/10/10 02:18:27 WARN NativeCodeLoader: Unable to load native-hadoop library for your platform... using builtin-java classes where applicable\n",
      "22/10/10 02:18:30 WARN Utils: Service 'SparkUI' could not bind on port 4040. Attempting port 4041.\n",
      "22/10/10 02:18:30 WARN Utils: Service 'SparkUI' could not bind on port 4041. Attempting port 4042.\n"
     ]
    }
   ],
   "source": [
    "spark = (\n",
    "    # Create a spark session (which will run spark jobs)\n",
    "    SparkSession.builder.appName(\"Project 2\")\n",
    "    .config(\"spark.sql.repl.eagerEval.enabled\", True) \n",
    "    .config(\"spark.sql.parquet.cacheMetadata\", \"true\")\n",
    "    .config('spark.executor.memory','10g')\n",
    "    .config('spark.driver.memory','12g')\n",
    "    .config('spark.driver.maxResultsSize', '10GiB')\n",
    "    # .config(\"spark.network.timeout\", \"3600s\")\n",
    "    # .master(\"local[6]\")\n",
    "    .getOrCreate()\n",
    "    )"
   ]
  },
  {
   "cell_type": "markdown",
   "metadata": {},
   "source": [
    "### dataset"
   ]
  },
  {
   "cell_type": "code",
   "execution_count": 4,
   "metadata": {},
   "outputs": [
    {
     "name": "stdout",
     "output_type": "stream",
     "text": [
      "|> Loading File...\n"
     ]
    },
    {
     "name": "stderr",
     "output_type": "stream",
     "text": [
      "                                                                                \r"
     ]
    },
    {
     "name": "stdout",
     "output_type": "stream",
     "text": [
      "|> Loading Finished!\n"
     ]
    },
    {
     "name": "stderr",
     "output_type": "stream",
     "text": [
      "[Stage 2:>                                                          (0 + 1) / 1]\r"
     ]
    },
    {
     "name": "stdout",
     "output_type": "stream",
     "text": [
      "-RECORD 0-------------------------------------------------------------------------------------------\n",
      " user_id         | 9521                                                                             \n",
      " merchant_abn    | 10023283211                                                                      \n",
      " dollar_value    | 86.95574860858353                                                                \n",
      " order_id        | c6c473f9-e796-4c1c-b952-4df1c93f3b4a                                             \n",
      " tags            | furniture, home furnishings and equipment shops, and manufacturers, except ap... \n",
      " take_rate       | 0.18                                                                             \n",
      " type            | e                                                                                \n",
      " postcode        | 4753                                                                             \n",
      " consumer_id     | 838133                                                                           \n",
      " name            | Jason Acosta                                                                     \n",
      " address         | 76877 Jeremy Stravenue                                                           \n",
      " state           | QLD                                                                              \n",
      " gender          | Male                                                                             \n",
      " POA_CODE21      | 4753                                                                             \n",
      " population      | 1166.5481439933797                                                               \n",
      " latitude        | 148.92823860389205                                                               \n",
      " longitude       | -21.146681581985078                                                              \n",
      " New cases / day | 1621.0                                                                           \n",
      " month           | 2021-11-01                                                                       \n",
      " total_retail    | 33345.0                                                                          \n",
      " genderIndex     | 0.0                                                                              \n",
      " typeIndex       | 4.0                                                                              \n",
      " tagIndex        | 9.0                                                                              \n",
      " tag_vec         | (24,[9],[1.0])                                                                   \n",
      " order_datetime  | 2021-11-26                                                                       \n",
      "only showing top 1 row\n",
      "\n"
     ]
    },
    {
     "name": "stderr",
     "output_type": "stream",
     "text": [
      "                                                                                \r"
     ]
    }
   ],
   "source": [
    "trans_sdf = read_file(spark, 'changed_data', '../data/curated/')"
   ]
  },
  {
   "cell_type": "code",
   "execution_count": 5,
   "metadata": {},
   "outputs": [
    {
     "name": "stdout",
     "output_type": "stream",
     "text": [
      "|> Loading File...\n",
      "|> Loading Finished!\n",
      "-RECORD 0-------------------------------\n",
      " merchant_abn      | 19492220327        \n",
      " order_datetime    | 2021-11-28         \n",
      " fraud_probability | 44.403658647495355 \n",
      "only showing top 1 row\n",
      "\n"
     ]
    },
    {
     "data": {
      "text/plain": [
       "114"
      ]
     },
     "execution_count": 5,
     "metadata": {},
     "output_type": "execute_result"
    }
   ],
   "source": [
    "merchant_fraud_sdf = read_file(spark,'merchant_fraud_probability.csv', '../data/tables/', 'csv')\n",
    "merchant_fraud_sdf.count()"
   ]
  },
  {
   "cell_type": "markdown",
   "metadata": {},
   "source": [
    "Feature Attribute"
   ]
  },
  {
   "cell_type": "code",
   "execution_count": 6,
   "metadata": {},
   "outputs": [],
   "source": [
    "sdf = trans_sdf.select( 'user_id', 'merchant_abn', 'order_datetime', 'dollar_value', 'take_rate', 'consumer_id', 'POA_CODE21', 'longitude', 'latitude', 'genderIndex', 'typeIndex', 'tagIndex', 'tag_vec', 'New_cases_daily')"
   ]
  },
  {
   "cell_type": "code",
   "execution_count": 7,
   "metadata": {},
   "outputs": [],
   "source": [
    "import pyspark.sql.functions as F\n",
    "from pyspark.sql.functions import datediff"
   ]
  },
  {
   "cell_type": "code",
   "execution_count": 8,
   "metadata": {},
   "outputs": [],
   "source": [
    "sdf_merchant = sdf.groupby('merchant_abn').agg(\n",
    "    (F.count(\"*\") / F.datediff(F.max('order_datetime'), F.min('order_datetime'))).alias('sales_frequency'),\n",
    "    (F.datediff(F.max('order_datetime'),F.min('order_datetime')) / F.count(\"*\")).alias('single_sale_duration'),\n",
    "    (F.count(\"*\")).alias(\"total_sales\"),\n",
    "    (F.avg(\"dollar_value\")).alias('sales_average')\n",
    ")"
   ]
  },
  {
   "cell_type": "code",
   "execution_count": 9,
   "metadata": {},
   "outputs": [
    {
     "name": "stderr",
     "output_type": "stream",
     "text": [
      "[Stage 8:======================================================>  (25 + 1) / 26]\r"
     ]
    },
    {
     "name": "stdout",
     "output_type": "stream",
     "text": [
      "+------------+------------------+--------------------+-----------+------------------+\n",
      "|merchant_abn|   sales_frequency|single_sale_duration|total_sales|     sales_average|\n",
      "+------------+------------------+--------------------+-----------+------------------+\n",
      "| 15613631617|2.9267399267399266| 0.34167709637046306|       1598|303.59594789409743|\n",
      "| 19839532017|1.2311926605504586|   0.812220566318927|        671|             157.0|\n",
      "| 35344855546| 2.457875457875458|  0.4068554396423249|       1342| 86.84866375872545|\n",
      "| 38700038932|11.615384615384615| 0.08609271523178808|       6342|1337.2767986337328|\n",
      "| 41956465747|0.4540441176470588|  2.2024291497975708|        247|226.22034040135608|\n",
      "+------------+------------------+--------------------+-----------+------------------+\n",
      "only showing top 5 rows\n",
      "\n"
     ]
    },
    {
     "name": "stderr",
     "output_type": "stream",
     "text": [
      "                                                                                \r"
     ]
    }
   ],
   "source": [
    "sdf_merchant.show(5)"
   ]
  },
  {
   "cell_type": "code",
   "execution_count": 10,
   "metadata": {},
   "outputs": [],
   "source": [
    "sdf_daily = sdf.groupby('merchant_abn', 'order_datetime', 'take_rate', 'typeIndex', 'tagIndex', 'tag_vec', 'New_cases_daily').agg(\n",
    "    F.count(\"*\").alias(\"daily_sales\"), \n",
    "    F.avg(\"dollar_value\").alias(\"daily_average\"),\n",
    "    F.min(\"dollar_value\").alias(\"trans_min\"),\n",
    "    F.max(\"dollar_value\").alias(\"trans_max\"),\n",
    "    )"
   ]
  },
  {
   "cell_type": "code",
   "execution_count": 11,
   "metadata": {},
   "outputs": [
    {
     "name": "stderr",
     "output_type": "stream",
     "text": [
      "                                                                                \r"
     ]
    },
    {
     "data": {
      "text/plain": [
       "1204427"
      ]
     },
     "execution_count": 11,
     "metadata": {},
     "output_type": "execute_result"
    }
   ],
   "source": [
    "sdf_daily.count()"
   ]
  },
  {
   "cell_type": "code",
   "execution_count": 12,
   "metadata": {},
   "outputs": [],
   "source": [
    "sdf_daily = sdf_daily.join(sdf_merchant, on=['merchant_abn'], how = 'left')"
   ]
  },
  {
   "cell_type": "code",
   "execution_count": 13,
   "metadata": {},
   "outputs": [
    {
     "name": "stderr",
     "output_type": "stream",
     "text": [
      "                                                                                \r"
     ]
    },
    {
     "data": {
      "text/plain": [
       "1204427"
      ]
     },
     "execution_count": 13,
     "metadata": {},
     "output_type": "execute_result"
    }
   ],
   "source": [
    "sdf_daily.count()"
   ]
  },
  {
   "cell_type": "code",
   "execution_count": 14,
   "metadata": {},
   "outputs": [],
   "source": [
    "from pyspark.sql.functions import year, month, dayofmonth"
   ]
  },
  {
   "cell_type": "code",
   "execution_count": 15,
   "metadata": {},
   "outputs": [],
   "source": [
    "sdf_daily = (sdf_daily\n",
    "                .withColumn('order_year', year(sdf_daily.order_datetime))\n",
    "                .withColumn('order_month', month(sdf_daily.order_datetime))\n",
    "                .withColumn('order_day', dayofmonth(sdf_daily.order_datetime))\n",
    "                )"
   ]
  },
  {
   "cell_type": "code",
   "execution_count": 16,
   "metadata": {},
   "outputs": [],
   "source": [
    "sdf_daily = (sdf_daily\n",
    "                    .withColumn('daily_sales', sdf_daily['daily_sales'].cast('double'))\n",
    "                    .withColumn('total_sales', sdf_daily['total_sales'].cast('double'))\n",
    "                    )"
   ]
  },
  {
   "cell_type": "markdown",
   "metadata": {},
   "source": [
    "- join data"
   ]
  },
  {
   "cell_type": "code",
   "execution_count": 17,
   "metadata": {},
   "outputs": [],
   "source": [
    "train_data = sdf_daily.join(merchant_fraud_sdf, on=['merchant_abn', 'order_datetime'], how = 'inner')"
   ]
  },
  {
   "cell_type": "code",
   "execution_count": 18,
   "metadata": {},
   "outputs": [],
   "source": [
    "trans_data = sdf_daily.join(merchant_fraud_sdf, on=['merchant_abn', 'order_datetime'], how = 'outer')"
   ]
  },
  {
   "cell_type": "code",
   "execution_count": 19,
   "metadata": {},
   "outputs": [
    {
     "name": "stderr",
     "output_type": "stream",
     "text": [
      "                                                                                \r"
     ]
    },
    {
     "data": {
      "text/plain": [
       "114"
      ]
     },
     "execution_count": 19,
     "metadata": {},
     "output_type": "execute_result"
    }
   ],
   "source": [
    "train_data.count()"
   ]
  },
  {
   "cell_type": "code",
   "execution_count": 20,
   "metadata": {},
   "outputs": [
    {
     "name": "stderr",
     "output_type": "stream",
     "text": [
      "                                                                                \r"
     ]
    },
    {
     "data": {
      "text/plain": [
       "1204427"
      ]
     },
     "execution_count": 20,
     "metadata": {},
     "output_type": "execute_result"
    }
   ],
   "source": [
    "trans_data.count()"
   ]
  },
  {
   "cell_type": "code",
   "execution_count": 21,
   "metadata": {},
   "outputs": [],
   "source": [
    "train_data = (train_data\n",
    "                .withColumn('fraud_probability', train_data['fraud_probability'].cast('double')))"
   ]
  },
  {
   "cell_type": "markdown",
   "metadata": {},
   "source": [
    "- Test Data"
   ]
  },
  {
   "cell_type": "code",
   "execution_count": 22,
   "metadata": {},
   "outputs": [],
   "source": [
    "trans_data = trans_data.drop('fraud_probability')"
   ]
  },
  {
   "cell_type": "code",
   "execution_count": 23,
   "metadata": {},
   "outputs": [],
   "source": [
    "import matplotlib.pyplot as plt\n",
    "import seaborn as sns"
   ]
  },
  {
   "cell_type": "code",
   "execution_count": 24,
   "metadata": {},
   "outputs": [
    {
     "name": "stderr",
     "output_type": "stream",
     "text": [
      "                                                                                \r"
     ]
    }
   ],
   "source": [
    "train_corr = train_data.toPandas()"
   ]
  },
  {
   "cell_type": "code",
   "execution_count": 25,
   "metadata": {},
   "outputs": [],
   "source": [
    "columns = ['merchant_abn', 'take_rate', 'typeIndex', 'tagIndex', 'tag_vec', 'daily_sales', 'daily_average', 'trans_min', 'trans_max','total_sales','sales_average','sales_frequency', 'single_sale_duration', 'fraud_probability']\n",
    "corr = train_corr[columns].corr(method='spearman')"
   ]
  },
  {
   "cell_type": "code",
   "execution_count": 26,
   "metadata": {},
   "outputs": [
    {
     "data": {
      "image/png": "[encoded data removed]",
      "text/plain": [
       "<Figure size 1440x1152 with 2 Axes>"
      ]
     },
     "metadata": {
      "needs_background": "light"
     },
     "output_type": "display_data"
    }
   ],
   "source": [
    "fig = plt.figure(figsize=(20,16))\n",
    "sns.heatmap(corr,annot = True, linewidths=1)\n",
    "plt.show()"
   ]
  },
  {
   "cell_type": "markdown",
   "metadata": {},
   "source": [
    "### Feature Engineering"
   ]
  },
  {
   "cell_type": "code",
   "execution_count": 27,
   "metadata": {},
   "outputs": [],
   "source": [
    "from pyspark.ml.feature import VectorAssembler\n",
    "from pyspark.ml.regression import LinearRegression"
   ]
  },
  {
   "cell_type": "code",
   "execution_count": 28,
   "metadata": {},
   "outputs": [],
   "source": [
    "input_col = ['take_rate', 'tag_vec', 'daily_sales', 'daily_average', 'New_cases_daily', 'trans_min', 'trans_max','total_sales','sales_average']"
   ]
  },
  {
   "cell_type": "code",
   "execution_count": 29,
   "metadata": {},
   "outputs": [],
   "source": [
    "vecAssembler = VectorAssembler(inputCols=input_col, outputCol=\"features\")"
   ]
  },
  {
   "cell_type": "code",
   "execution_count": 30,
   "metadata": {},
   "outputs": [],
   "source": [
    "train_dataset = vecAssembler.transform(train_data)"
   ]
  },
  {
   "cell_type": "code",
   "execution_count": 31,
   "metadata": {},
   "outputs": [],
   "source": [
    "test_dataset = vecAssembler.transform(trans_data)"
   ]
  },
  {
   "cell_type": "code",
   "execution_count": 32,
   "metadata": {},
   "outputs": [],
   "source": [
    "train_dataset = train_dataset.withColumnRenamed('fraud_probability', 'label')"
   ]
  },
  {
   "cell_type": "markdown",
   "metadata": {},
   "source": [
    "### Decision Tree Regression Model"
   ]
  },
  {
   "cell_type": "code",
   "execution_count": 33,
   "metadata": {},
   "outputs": [
    {
     "name": "stderr",
     "output_type": "stream",
     "text": [
      "                                                                                \r"
     ]
    },
    {
     "name": "stdout",
     "output_type": "stream",
     "text": [
      "+------------------+------------------+--------------------+\n",
      "|        prediction|             label|            features|\n",
      "+------------------+------------------+--------------------+\n",
      "| 32.78610817270478| 46.45775596795885|(32,[0,22,25,26,2...|\n",
      "| 32.78610817270478| 28.98838429202166|(32,[0,22,25,26,2...|\n",
      "| 44.43787807900269| 44.43787807900268|(32,[0,22,25,26,2...|\n",
      "|23.943274591766023|25.054391991473924|(32,[0,25,26,27,2...|\n",
      "| 32.78610817270478|24.872618445353506|(32,[0,25,26,27,2...|\n",
      "+------------------+------------------+--------------------+\n",
      "only showing top 5 rows\n",
      "\n"
     ]
    },
    {
     "name": "stderr",
     "output_type": "stream",
     "text": [
      "[Stage 125:======>                                                  (1 + 8) / 9]\r"
     ]
    },
    {
     "name": "stdout",
     "output_type": "stream",
     "text": [
      "Root Mean Squared Error (RMSE) on test data = 4.948\n"
     ]
    },
    {
     "name": "stderr",
     "output_type": "stream",
     "text": [
      "                                                                                \r"
     ]
    }
   ],
   "source": [
    "from pyspark.ml.regression import DecisionTreeRegressor\n",
    "from pyspark.ml.evaluation import RegressionEvaluator\n",
    "\n",
    "\n",
    "# Using a decision tree model\n",
    "dt = DecisionTreeRegressor(featuresCol=\"features\")\n",
    "\n",
    "\n",
    "model = dt.fit(train_dataset)\n",
    "\n",
    "# Predictions\n",
    "dfpredictions = model.transform(train_dataset)\n",
    "dfpredictions.select(\"prediction\", \"label\", \"features\").show(5)\n",
    "\n",
    "# Evaluation\n",
    "evaluator = RegressionEvaluator(\n",
    "    labelCol=\"label\", predictionCol=\"prediction\", metricName=\"rmse\")\n",
    "rmse = evaluator.evaluate(dfpredictions)\n",
    "print(\"Root Mean Squared Error (RMSE) on test data = %g\" % rmse)"
   ]
  },
  {
   "cell_type": "code",
   "execution_count": 34,
   "metadata": {},
   "outputs": [],
   "source": [
    "test_dt_prediction = model.transform(test_dataset)"
   ]
  },
  {
   "cell_type": "code",
   "execution_count": 35,
   "metadata": {},
   "outputs": [],
   "source": [
    "test_dt_prediction = test_dt_prediction.withColumnRenamed('prediction', 'fraud_probability')"
   ]
  },
  {
   "cell_type": "code",
   "execution_count": 36,
   "metadata": {},
   "outputs": [
    {
     "name": "stderr",
     "output_type": "stream",
     "text": [
      "[Stage 137:==================================================>      (8 + 1) / 9]\r"
     ]
    },
    {
     "name": "stdout",
     "output_type": "stream",
     "text": [
      "+----------------------+----------------------+----------------------+\n",
      "|avg(fraud_probability)|max(fraud_probability)|min(fraud_probability)|\n",
      "+----------------------+----------------------+----------------------+\n",
      "|     49.23671829673013|     94.13470048088911|     18.21089142894488|\n",
      "+----------------------+----------------------+----------------------+\n",
      "\n"
     ]
    },
    {
     "name": "stderr",
     "output_type": "stream",
     "text": [
      "                                                                                \r"
     ]
    }
   ],
   "source": [
    "test_dt_prediction.agg(\n",
    "    F.mean('fraud_probability'), \n",
    "    F.max('fraud_probability'),\n",
    "    F.min('fraud_probability'), \n",
    ").show()"
   ]
  },
  {
   "cell_type": "code",
   "execution_count": 37,
   "metadata": {},
   "outputs": [
    {
     "name": "stderr",
     "output_type": "stream",
     "text": [
      "                                                                                \r"
     ]
    },
    {
     "data": {
      "text/html": [
       "<table border='1'>\n",
       "<tr><th>merchant_abn</th><th>order_datetime</th><th>take_rate</th><th>typeIndex</th><th>tagIndex</th><th>tag_vec</th><th>New cases / day</th><th>daily_sales</th><th>daily_average</th><th>trans_min</th><th>trans_max</th><th>sales_frequency</th><th>single_sale_duration</th><th>total_sales</th><th>sales_average</th><th>order_year</th><th>order_month</th><th>order_day</th><th>label</th><th>features</th></tr>\n",
       "<tr><td>14827550074</td><td>2021-11-26</td><td>4.248542756219157</td><td>1.0</td><td>21.0</td><td>(24,[21],[1.0])</td><td>1621.0</td><td>9.0</td><td>7434.455583426204</td><td>594.1572766659802</td><td>23232.211150027288</td><td>2.347985347985348</td><td>0.42589703588143524</td><td>1282.0</td><td>4733.581650588678</td><td>2021</td><td>11</td><td>26</td><td>46.45775596795885</td><td>(32,[0,22,25,26,2...</td></tr>\n",
       "<tr><td>93260930990</td><td>2021-11-28</td><td>3.15</td><td>1.0</td><td>21.0</td><td>(24,[21],[1.0])</td><td>1236.0</td><td>10.0</td><td>4189.261960580331</td><td>1903.0947079530436</td><td>8918.141987820347</td><td>3.899267399267399</td><td>0.2564584311883513</td><td>2129.0</td><td>3711.578203133962</td><td>2021</td><td>11</td><td>28</td><td>28.98838429202166</td><td>(32,[0,22,25,26,2...</td></tr>\n",
       "<tr><td>29674997261</td><td>2021-12-26</td><td>3.6745166860335354</td><td>1.0</td><td>21.0</td><td>(24,[21],[1.0])</td><td>9374.0</td><td>1.0</td><td>46337.713978159205</td><td>46337.713978159205</td><td>46337.713978159205</td><td>0.012958963282937365</td><td>77.16666666666667</td><td>6.0</td><td>23677.68097131452</td><td>2021</td><td>12</td><td>26</td><td>44.43787807900268</td><td>(32,[0,22,25,26,2...</td></tr>\n",
       "<tr><td>15043504837</td><td>2021-10-08</td><td>4.62</td><td>1.0</td><td>24.0</td><td>(24,[],[])</td><td>2510.0</td><td>2.0</td><td>21857.365760481523</td><td>11966.825863344562</td><td>31747.90565761848</td><td>0.3252788104089219</td><td>3.0742857142857143</td><td>175.0</td><td>16222.073064587443</td><td>2021</td><td>10</td><td>8</td><td>25.054391991473924</td><td>(32,[0,25,26,27,2...</td></tr>\n",
       "<tr><td>19492220327</td><td>2021-11-03</td><td>4.93</td><td>1.0</td><td>24.0</td><td>(24,[],[])</td><td>1110.0</td><td>3.0</td><td>13886.322330489382</td><td>6012.997382959105</td><td>28809.63925919443</td><td>1.3517495395948436</td><td>0.7397820163487738</td><td>734.0</td><td>9935.265132054748</td><td>2021</td><td>11</td><td>3</td><td>24.872618445353506</td><td>(32,[0,25,26,27,2...</td></tr>\n",
       "</table>\n"
      ],
      "text/plain": [
       "+------------+--------------+------------------+---------+--------+---------------+---------------+-----------+------------------+------------------+------------------+--------------------+--------------------+-----------+------------------+----------+-----------+---------+------------------+--------------------+\n",
       "|merchant_abn|order_datetime|         take_rate|typeIndex|tagIndex|        tag_vec|New cases / day|daily_sales|     daily_average|         trans_min|         trans_max|     sales_frequency|single_sale_duration|total_sales|     sales_average|order_year|order_month|order_day|             label|            features|\n",
       "+------------+--------------+------------------+---------+--------+---------------+---------------+-----------+------------------+------------------+------------------+--------------------+--------------------+-----------+------------------+----------+-----------+---------+------------------+--------------------+\n",
       "| 29674997261|    2021-12-26|3.6745166860335354|      1.0|    21.0|(24,[21],[1.0])|         9374.0|        1.0|46337.713978159205|46337.713978159205|46337.713978159205|0.012958963282937365|   77.16666666666667|        6.0| 23677.68097131452|      2021|         12|       26| 44.43787807900268|(32,[0,22,25,26,2...|\n",
       "| 19492220327|    2021-11-03|              4.93|      1.0|    24.0|     (24,[],[])|         1110.0|        3.0|13886.322330489382| 6012.997382959105| 28809.63925919443|  1.3517495395948436|  0.7397820163487738|      734.0| 9935.265132054748|      2021|         11|        3|24.872618445353506|(32,[0,25,26,27,2...|\n",
       "| 15043504837|    2021-10-08|              4.62|      1.0|    24.0|     (24,[],[])|         2510.0|        2.0|21857.365760481523|11966.825863344562| 31747.90565761848|  0.3252788104089219|  3.0742857142857143|      175.0|16222.073064587443|      2021|         10|        8|25.054391991473924|(32,[0,25,26,27,2...|\n",
       "| 89109402284|    2022-02-12|              3.87|      1.0|    20.0|(24,[20],[1.0])|        19642.0|        1.0| 43415.16340467725| 43415.16340467725| 43415.16340467725|0.015306122448979591|   65.33333333333333|        3.0|23969.005623462697|      2022|          2|       12| 29.07408314204997|(32,[0,21,25,26,2...|\n",
       "| 14827550074|    2021-11-26| 4.248542756219157|      1.0|    21.0|(24,[21],[1.0])|         1621.0|        9.0| 7434.455583426204| 594.1572766659802|23232.211150027288|   2.347985347985348| 0.42589703588143524|     1282.0| 4733.581650588678|      2021|         11|       26| 46.45775596795885|(32,[0,22,25,26,2...|\n",
       "+------------+--------------+------------------+---------+--------+---------------+---------------+-----------+------------------+------------------+------------------+--------------------+--------------------+-----------+------------------+----------+-----------+---------+------------------+--------------------+"
      ]
     },
     "execution_count": 37,
     "metadata": {},
     "output_type": "execute_result"
    }
   ],
   "source": [
    "train_dataset.limit(5)"
   ]
  },
  {
   "cell_type": "code",
   "execution_count": 38,
   "metadata": {},
   "outputs": [],
   "source": [
    "final_train = train_dataset.select('merchant_abn', 'order_datetime', 'label').withColumnRenamed('label', 'fraud_probability')"
   ]
  },
  {
   "cell_type": "code",
   "execution_count": 39,
   "metadata": {},
   "outputs": [],
   "source": [
    "final_test = test_dt_prediction.select('merchant_abn', 'order_datetime', 'fraud_probability')"
   ]
  },
  {
   "cell_type": "code",
   "execution_count": 40,
   "metadata": {},
   "outputs": [],
   "source": [
    "dt = final_train.union(final_test)"
   ]
  },
  {
   "cell_type": "code",
   "execution_count": 41,
   "metadata": {},
   "outputs": [
    {
     "name": "stderr",
     "output_type": "stream",
     "text": [
      "                                                                                \r"
     ]
    }
   ],
   "source": [
    "dt.write.parquet('../data/curated/merchants_fraud.parquet', mode = 'overwrite')"
   ]
  },
  {
   "cell_type": "markdown",
   "metadata": {},
   "source": [
    "### Linear Reg Model"
   ]
  },
  {
   "cell_type": "code",
   "execution_count": 42,
   "metadata": {},
   "outputs": [
    {
     "name": "stderr",
     "output_type": "stream",
     "text": [
      "                                                                                \r"
     ]
    },
    {
     "name": "stdout",
     "output_type": "stream",
     "text": [
      "22/10/10 02:24:28 WARN Instrumentation: [5e0a2a69] regParam is zero, which might cause numerical instability and overfitting.\n"
     ]
    },
    {
     "name": "stderr",
     "output_type": "stream",
     "text": [
      "[Stage 207:>                                                        (0 + 8) / 9]\r"
     ]
    },
    {
     "name": "stdout",
     "output_type": "stream",
     "text": [
      "22/10/10 02:24:29 WARN InstanceBuilder$NativeBLAS: Failed to load implementation from:dev.ludovic.netlib.blas.JNIBLAS\n",
      "22/10/10 02:24:29 WARN InstanceBuilder$NativeBLAS: Failed to load implementation from:dev.ludovic.netlib.blas.ForeignLinkerBLAS\n"
     ]
    },
    {
     "name": "stderr",
     "output_type": "stream",
     "text": [
      "                                                                                \r"
     ]
    },
    {
     "name": "stdout",
     "output_type": "stream",
     "text": [
      "22/10/10 02:24:29 WARN InstanceBuilder$NativeLAPACK: Failed to load implementation from:dev.ludovic.netlib.lapack.JNILAPACK\n",
      "22/10/10 02:24:29 WARN Instrumentation: [5e0a2a69] Cholesky solver failed due to singular covariance matrix. Retrying with Quasi-Newton solver.\n"
     ]
    },
    {
     "name": "stderr",
     "output_type": "stream",
     "text": [
      "                                                                                \r"
     ]
    }
   ],
   "source": [
    "lr = LinearRegression(featuresCol='features',labelCol='label', maxIter=5, regParam=0.0, solver=\"normal\")\n",
    "lr_model=lr.fit(train_dataset)"
   ]
  },
  {
   "cell_type": "code",
   "execution_count": 43,
   "metadata": {},
   "outputs": [
    {
     "name": "stdout",
     "output_type": "stream",
     "text": [
      "Correlation coefficient:[0.40025237341417896,2.938694757340567,33.70607420686052,21.98758057109375,0.0,45.04604354706478,22.17266813174563,17.84617293393413,17.272630217865302,6.283257112421345,9.035953370387999,9.8087219941388,10.971261710031055,21.74779026519353,0.0,0.8177024807408046,3.7574866399003457,6.142651205791583,0.0,3.026929742514629,-0.2910673836155278,-2.8905529451252963,-0.8510055936760412,0.0,4.124165154199979,-0.05138487757120158,0.00033568131871820255,-7.020638130049985e-05,0.0004810713003542449,2.8452663929716057e-05,-0.00025193614055916866,-0.001441017464948993]\n",
      "Intercept:39.51692360033173\n"
     ]
    }
   ],
   "source": [
    "print(\"Correlation coefficient:{}\".format(lr_model.coefficients))\n",
    "print(\"Intercept:{}\".format(lr_model.intercept))"
   ]
  },
  {
   "cell_type": "code",
   "execution_count": 44,
   "metadata": {},
   "outputs": [
    {
     "name": "stderr",
     "output_type": "stream",
     "text": [
      "                                                                                \r"
     ]
    }
   ],
   "source": [
    "training_predictions=lr_model.evaluate(train_dataset) "
   ]
  },
  {
   "cell_type": "code",
   "execution_count": 45,
   "metadata": {},
   "outputs": [
    {
     "name": "stdout",
     "output_type": "stream",
     "text": [
      "Mean Square Error:128.63613639464228\n",
      "R2 determination factor：0.5607097117265689\n"
     ]
    }
   ],
   "source": [
    "print('{}{}'.format('Mean Square Error:',training_predictions.meanSquaredError))\n",
    "print('{}{}'.format('R2 determination factor：',training_predictions.r2 ))"
   ]
  },
  {
   "cell_type": "code",
   "execution_count": 46,
   "metadata": {},
   "outputs": [],
   "source": [
    "test_pred = lr_model.transform(test_dataset)"
   ]
  },
  {
   "cell_type": "code",
   "execution_count": 47,
   "metadata": {},
   "outputs": [],
   "source": [
    "test_pred = test_pred.withColumnRenamed('prediction', 'fraud_probability')"
   ]
  },
  {
   "cell_type": "code",
   "execution_count": 48,
   "metadata": {},
   "outputs": [
    {
     "name": "stderr",
     "output_type": "stream",
     "text": [
      "[Stage 239:>                                                        (0 + 8) / 9]\r"
     ]
    },
    {
     "name": "stdout",
     "output_type": "stream",
     "text": [
      "+----------------------+----------------------+----------------------+\n",
      "|avg(fraud_probability)|max(fraud_probability)|min(fraud_probability)|\n",
      "+----------------------+----------------------+----------------------+\n",
      "|    50.180159645144975|     96.74081785822557|    -72.92382406111867|\n",
      "+----------------------+----------------------+----------------------+\n",
      "\n"
     ]
    },
    {
     "name": "stderr",
     "output_type": "stream",
     "text": [
      "                                                                                \r"
     ]
    }
   ],
   "source": [
    "test_pred.agg(\n",
    "    F.mean('fraud_probability'), \n",
    "    F.max('fraud_probability'),\n",
    "    F.min('fraud_probability'), \n",
    ").show()"
   ]
  },
  {
   "cell_type": "markdown",
   "metadata": {},
   "source": [
    "### GLM Model"
   ]
  },
  {
   "cell_type": "code",
   "execution_count": 49,
   "metadata": {},
   "outputs": [],
   "source": [
    "from pyspark.ml.regression import GeneralizedLinearRegression"
   ]
  },
  {
   "cell_type": "code",
   "execution_count": 50,
   "metadata": {},
   "outputs": [
    {
     "name": "stderr",
     "output_type": "stream",
     "text": [
      "                                                                                \r"
     ]
    },
    {
     "name": "stdout",
     "output_type": "stream",
     "text": [
      "Coefficients: [-0.1492324313582948,3.7793571069407514,37.7914322689839,21.434254867117716,0.0,56.06708590848219,21.734659714602095,24.167733325141658,18.396315848599244,9.87829388491512,9.93618820523373,10.696749057144494,12.371828606837134,21.281019247035655,0.0,3.750318758656226,6.755702426240873,7.0766260766931,0.0,3.2814898113841866,2.3213107767387426,-1.1553910071211466,-0.8082190638416068,0.0,3.2863289065572925,-0.050951992695918734,0.00039617263265578326,-5.037762435290084e-05,0.00037809871845779624,-8.207786343727333e-05,-0.00040151958409831364,-0.0012322344284572374]\n",
      "Intercept: 42.65214099584176\n"
     ]
    },
    {
     "name": "stderr",
     "output_type": "stream",
     "text": [
      "                                                                                \r"
     ]
    },
    {
     "name": "stdout",
     "output_type": "stream",
     "text": [
      "Coefficient Standard Errors: [1.1665057335042992, 7.865033298451538, 12.265365512299283, 10.361580552702446, inf, 21.538441610477413, 10.256739589030614, 12.707932161501814, 10.388704230336131, 14.687882550637056, 7.315929830493991, 10.373821377103692, 10.405213204074297, 13.827124072554286, inf, 11.178460980108634, 14.541329658781159, 8.826775308828715, inf, 13.760774991840071, 9.393874188408427, 3.9343027320840456, 3.9746262748578656, inf, 7.8318886886404355, 0.07700673705138948, 0.00036132043705429905, 0.00010845988710861438, 0.0002557964777369367, 0.0002245513889589821, 0.00039805311583118746, 0.00022865615845595478, 6.539782919411951]\n",
      "T Values: [-0.12793115976377223, 0.4805265233504897, 3.0811501076823156, 2.0686279239056207, 0.0, 2.603117111370224, 2.119061279263334, 1.90178331281598, 1.7707998457478487, 0.6725471728725574, 1.3581579423873196, 1.0311290958559922, 1.1890028934719745, 1.539077767391756, 0.0, 0.335495088754139, 0.46458629195310674, 0.8017226936336443, 0.0, 0.23846693324540658, 0.24710899147479798, -0.29367109899779437, -0.20334466889481553, 0.0, 0.419608735160379, -0.661656299784739, 1.0964578585302847, -0.4644816226154786, 1.4781232400183253, -0.3655192863325649, -1.0087085570474377, -5.38902794824395, 6.521950578701623]\n",
      "P Values: [0.898520539305252, 0.6321483538595429, 0.0028169481090813964, 0.041770844753488356, 1.0, 0.010984145511512944, 0.037148367774117785, 0.06075462609719873, 0.08035602752118187, 0.503149522124535, 0.17818459377895923, 0.3055493555219, 0.2379125523377008, 0.12768289328016968, 1.0, 0.738119049307294, 0.6434741454683688, 0.42505914277874135, 1.0, 0.8121212212899382, 0.805449124875719, 0.7697603956312371, 0.8393756136827073, 1.0, 0.6758821550221752, 0.5100694257108245, 0.2761276305564684, 0.6435487981027708, 0.1432529316353901, 0.7156766069541165, 0.3161182483659073, 6.802266148131508e-07, 5.5519229213985e-09]\n",
      "Dispersion: 173.48791214540933\n"
     ]
    },
    {
     "name": "stderr",
     "output_type": "stream",
     "text": [
      "                                                                                \r"
     ]
    },
    {
     "name": "stdout",
     "output_type": "stream",
     "text": [
      "Null Deviance: 33382.29854027973\n",
      "Residual Degree Of Freedom Null: 113\n",
      "Deviance: 14052.520883778156\n",
      "Residual Degree Of Freedom: 81\n"
     ]
    },
    {
     "name": "stderr",
     "output_type": "stream",
     "text": [
      "                                                                                \r"
     ]
    },
    {
     "name": "stdout",
     "output_type": "stream",
     "text": [
      "AIC: 940.3548696877607\n",
      "Deviance Residuals: \n"
     ]
    },
    {
     "name": "stderr",
     "output_type": "stream",
     "text": [
      "                                                                                \r"
     ]
    },
    {
     "name": "stdout",
     "output_type": "stream",
     "text": [
      "+--------------------+\n",
      "|   devianceResiduals|\n",
      "+--------------------+\n",
      "|  10.872587159520727|\n",
      "|  -8.032545739980232|\n",
      "|  0.7697039964019439|\n",
      "|  -7.198411884827326|\n",
      "|  -9.707994239846048|\n",
      "|  -7.854487350391668|\n",
      "|  -11.31972291833057|\n",
      "|  -8.055935911264001|\n",
      "|-0.40720223404273526|\n",
      "|  -6.011203590416784|\n",
      "|   11.36588892422759|\n",
      "|  -8.767115719932779|\n",
      "|   4.066712317796398|\n",
      "|   6.373587042048975|\n",
      "|  20.276093259968192|\n",
      "| -3.0344655223068813|\n",
      "| -1.5000357323238305|\n",
      "|  32.336951647083225|\n",
      "|  30.127646763619282|\n",
      "|  -7.068436658314937|\n",
      "+--------------------+\n",
      "only showing top 20 rows\n",
      "\n"
     ]
    }
   ],
   "source": [
    "glr = GeneralizedLinearRegression(family=\"gaussian\", link=\"identity\", maxIter=10, regParam=0.3)\n",
    " \n",
    "# Fit the model\n",
    "glr_model = glr.fit(train_dataset)\n",
    " \n",
    "# Print the coefficients and intercept for generalized linear regression model\n",
    "print(\"Coefficients: \" + str(glr_model.coefficients))\n",
    "print(\"Intercept: \" + str(glr_model.intercept))\n",
    " \n",
    "# Summarize the model over the training set and print out some metrics\n",
    "summary = glr_model.summary\n",
    "print(\"Coefficient Standard Errors: \" + str(summary.coefficientStandardErrors))\n",
    "print(\"T Values: \" + str(summary.tValues))\n",
    "print(\"P Values: \" + str(summary.pValues))\n",
    "print(\"Dispersion: \" + str(summary.dispersion))\n",
    "print(\"Null Deviance: \" + str(summary.nullDeviance))\n",
    "print(\"Residual Degree Of Freedom Null: \" + str(summary.residualDegreeOfFreedomNull))\n",
    "print(\"Deviance: \" + str(summary.deviance))\n",
    "print(\"Residual Degree Of Freedom: \" + str(summary.residualDegreeOfFreedom))\n",
    "print(\"AIC: \" + str(summary.aic))\n",
    "print(\"Deviance Residuals: \")\n",
    "summary.residuals().show()"
   ]
  },
  {
   "cell_type": "code",
   "execution_count": 51,
   "metadata": {},
   "outputs": [],
   "source": [
    "train_glr_pred = glr_model.transform(train_dataset)"
   ]
  },
  {
   "cell_type": "code",
   "execution_count": 52,
   "metadata": {},
   "outputs": [],
   "source": [
    "test_glr_pred = glr_model.transform(test_dataset)"
   ]
  },
  {
   "cell_type": "code",
   "execution_count": 53,
   "metadata": {},
   "outputs": [],
   "source": [
    "test_glr_pred = test_glr_pred.withColumnRenamed('prediction', 'fraud_probability')"
   ]
  },
  {
   "cell_type": "code",
   "execution_count": 54,
   "metadata": {},
   "outputs": [
    {
     "name": "stderr",
     "output_type": "stream",
     "text": [
      "[Stage 316:>                                                        (0 + 8) / 9]\r"
     ]
    },
    {
     "name": "stdout",
     "output_type": "stream",
     "text": [
      "+----------------------+----------------------+----------------------+\n",
      "|avg(fraud_probability)|max(fraud_probability)|min(fraud_probability)|\n",
      "+----------------------+----------------------+----------------------+\n",
      "|    52.361087009882844|      98.8137245368043|   -104.52857181520253|\n",
      "+----------------------+----------------------+----------------------+\n",
      "\n"
     ]
    },
    {
     "name": "stderr",
     "output_type": "stream",
     "text": [
      "                                                                                \r"
     ]
    }
   ],
   "source": [
    "test_glr_pred.agg(\n",
    "    F.mean('fraud_probability'), \n",
    "    F.max('fraud_probability'),\n",
    "    F.min('fraud_probability'), \n",
    ").show()"
   ]
  },
  {
   "cell_type": "code",
   "execution_count": null,
   "metadata": {},
   "outputs": [],
   "source": []
  }
 ],
 "metadata": {
  "kernelspec": {
   "display_name": "Python 3.7.9 64-bit",
   "language": "python",
   "name": "python3"
  },
  "language_info": {
   "codemirror_mode": {
    "name": "ipython",
    "version": 3
   },
   "file_extension": ".py",
   "mimetype": "text/x-python",
   "name": "python",
   "nbconvert_exporter": "python",
   "pygments_lexer": "ipython3",
   "version": "3.7.9"
  },
  "orig_nbformat": 4,
  "vscode": {
   "interpreter": {
    "hash": "aee8b7b246df8f9039afb4144a1f6fd8d2ca17a180786b69acc140d282b71a49"
   }
  }
 },
 "nbformat": 4,
 "nbformat_minor": 2
}
