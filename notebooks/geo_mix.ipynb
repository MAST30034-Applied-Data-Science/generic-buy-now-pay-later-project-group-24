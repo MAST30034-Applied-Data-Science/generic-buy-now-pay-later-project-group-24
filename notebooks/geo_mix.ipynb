{
 "cells": [
  {
   "cell_type": "code",
   "execution_count": 2,
   "metadata": {},
   "outputs": [],
   "source": [
    "import pandas as pd\n",
    "import geopandas as gpd\n",
    "\n",
    "import sys\n",
    "sys.path.append('../scripts/')\n",
    "from read_utils import read_file, create_folder, temp_record_query, temp_record_sdf\n",
    "from pyspark.sql import SparkSession"
   ]
  },
  {
   "cell_type": "code",
   "execution_count": 3,
   "metadata": {},
   "outputs": [
    {
     "name": "stdout",
     "output_type": "stream",
     "text": [
      "22/09/26 20:41:14 WARN Utils: Your hostname, Runyus-MacBook-Pro.local resolves to a loopback address: 127.0.0.1; using 192.168.3.12 instead (on interface en0)\n",
      "22/09/26 20:41:14 WARN Utils: Set SPARK_LOCAL_IP if you need to bind to another address\n"
     ]
    },
    {
     "name": "stderr",
     "output_type": "stream",
     "text": [
      "Setting default log level to \"WARN\".\n",
      "To adjust logging level use sc.setLogLevel(newLevel). For SparkR, use setLogLevel(newLevel).\n"
     ]
    },
    {
     "name": "stdout",
     "output_type": "stream",
     "text": [
      "22/09/26 20:41:15 WARN NativeCodeLoader: Unable to load native-hadoop library for your platform... using builtin-java classes where applicable\n"
     ]
    }
   ],
   "source": [
    "spark = (\n",
    "    # Create a spark session (which will run spark jobs)\n",
    "    SparkSession.builder.appName(\"Project 2\")\n",
    "    .config(\"spark.sql.repl.eagerEval.enabled\", True) \n",
    "    .config(\"spark.sql.parquet.cacheMetadata\", \"true\")\n",
    "    .config('spark.executor.memory','10g')\n",
    "    .config('spark.driver.memory','12g')\n",
    "    .config('spark.driver.maxResultsSize', '10GiB')\n",
    "    # .config(\"spark.network.timeout\", \"3600s\")\n",
    "    # .master(\"local[6]\")\n",
    "    .getOrCreate()\n",
    "    )"
   ]
  },
  {
   "cell_type": "code",
   "execution_count": 26,
   "metadata": {},
   "outputs": [],
   "source": [
    "POA_df = pd.read_csv('../data/tables/au_postcodes.csv')\n",
    "pos_df = POA_df.drop_duplicates(['postcode'])\n",
    "POA_geo = gpd.GeoDataFrame(data = pos_df)"
   ]
  },
  {
   "cell_type": "code",
   "execution_count": 78,
   "metadata": {},
   "outputs": [],
   "source": [
    "sa2_sf = gpd.read_file('../data/SA2_2021_AUST_SHP_GDA2020/SA2_2021_AUST_GDA2020.shp')\n",
    "sa2_sf['geometry'] = sa2_sf['geometry'].to_crs(\"+proj=longlat +ellps=WGS84 +datum=WGS84 +no_defs\")\n",
    "sa2_gdf = gpd.GeoDataFrame(sa2_sf)\n",
    "sa2_gdf = sa2_gdf.dropna()\n",
    "sa2_gdf['centroid'] = sa2_gdf['geometry'].apply(lambda x: (x.centroid.y, x.centroid.x))\n",
    "bound = sa2_gdf['geometry'].bounds\n",
    "sa2_geo = sa2_gdf.join(bound)"
   ]
  },
  {
   "cell_type": "code",
   "execution_count": 92,
   "metadata": {},
   "outputs": [],
   "source": [
    "sa2_geo_info = sa2_geo[['SA2_CODE21', 'geometry','centroid']].drop_duplicates('SA2_CODE21')"
   ]
  },
  {
   "cell_type": "code",
   "execution_count": 60,
   "metadata": {},
   "outputs": [],
   "source": [
    "def match_sa2_and_postcode(sa2_df, pos_df):\n",
    "    # pos_new_df = pos_df.reindex(columns=[*pos_df.columns.tolist(), 'SA2_CODE21'], fill_value=0)\n",
    "    for i in pos_df.index:\n",
    "        for j in sa2_df.index:\n",
    "            if ((pos_df['latitude'][i] >= sa2_df['miny'][j])& (pos_df['latitude'][i] <= sa2_df['maxy'][j])\n",
    "                &(pos_df['longitude'][i] >= sa2_df['minx'][j]) & (pos_df['longitude'][i] <= sa2_df['maxx'][j])):\n",
    "                pos_df.loc[i, 'SA2_CODE21'] = sa2_df['SA2_CODE21'][j]\n",
    "    return pos_df"
   ]
  },
  {
   "cell_type": "code",
   "execution_count": 61,
   "metadata": {},
   "outputs": [],
   "source": [
    "mix_df = match_sa2_and_postcode(sa2_geo, POA_geo)"
   ]
  },
  {
   "cell_type": "code",
   "execution_count": 72,
   "metadata": {},
   "outputs": [],
   "source": [
    "mix_df = mix_df.dropna()"
   ]
  },
  {
   "cell_type": "code",
   "execution_count": 73,
   "metadata": {},
   "outputs": [
    {
     "data": {
      "text/plain": [
       "postcode        int64\n",
       "place_name     object\n",
       "state_name     object\n",
       "state_code     object\n",
       "latitude      float64\n",
       "longitude     float64\n",
       "accuracy      float64\n",
       "SA2_CODE21     object\n",
       "dtype: object"
      ]
     },
     "execution_count": 73,
     "metadata": {},
     "output_type": "execute_result"
    }
   ],
   "source": [
    "mix_df.dtypes"
   ]
  },
  {
   "cell_type": "code",
   "execution_count": 74,
   "metadata": {},
   "outputs": [
    {
     "name": "stderr",
     "output_type": "stream",
     "text": [
      "/Library/Frameworks/Python.framework/Versions/3.7/lib/python3.7/site-packages/pandas/core/indexing.py:1773: SettingWithCopyWarning: \n",
      "A value is trying to be set on a copy of a slice from a DataFrame.\n",
      "Try using .loc[row_indexer,col_indexer] = value instead\n",
      "\n",
      "See the caveats in the documentation: https://pandas.pydata.org/pandas-docs/stable/user_guide/indexing.html#returning-a-view-versus-a-copy\n",
      "  self._setitem_single_column(ilocs[0], value, pi)\n"
     ]
    }
   ],
   "source": [
    "mix_df.loc[:,'SA2_CODE21'] = mix_df.loc[:,'SA2_CODE21'].astype('int')"
   ]
  },
  {
   "cell_type": "code",
   "execution_count": 81,
   "metadata": {},
   "outputs": [
    {
     "data": {
      "text/plain": [
       "postcode        int64\n",
       "place_name     object\n",
       "state_name     object\n",
       "state_code     object\n",
       "latitude      float64\n",
       "longitude     float64\n",
       "accuracy      float64\n",
       "SA2_CODE21      int64\n",
       "dtype: object"
      ]
     },
     "execution_count": 81,
     "metadata": {},
     "output_type": "execute_result"
    }
   ],
   "source": [
    "mix_df.dtypes"
   ]
  },
  {
   "cell_type": "code",
   "execution_count": 93,
   "metadata": {},
   "outputs": [],
   "source": [
    "sa2_geo_info.loc[:,'SA2_CODE21'] = sa2_geo_info.loc[:,'SA2_CODE21'].astype('int')"
   ]
  },
  {
   "cell_type": "code",
   "execution_count": 83,
   "metadata": {},
   "outputs": [
    {
     "data": {
      "text/plain": [
       "SA2_CODE21       int64\n",
       "geometry      geometry\n",
       "dtype: object"
      ]
     },
     "execution_count": 83,
     "metadata": {},
     "output_type": "execute_result"
    }
   ],
   "source": [
    "sa2_geo_info.dtypes"
   ]
  },
  {
   "cell_type": "code",
   "execution_count": 94,
   "metadata": {},
   "outputs": [],
   "source": [
    "final_df = pd.merge(mix_df, sa2_geo_info, on='SA2_CODE21',how='inner')"
   ]
  },
  {
   "cell_type": "code",
   "execution_count": 99,
   "metadata": {},
   "outputs": [
    {
     "data": {
      "text/html": [
       "<div>\n",
       "<style scoped>\n",
       "    .dataframe tbody tr th:only-of-type {\n",
       "        vertical-align: middle;\n",
       "    }\n",
       "\n",
       "    .dataframe tbody tr th {\n",
       "        vertical-align: top;\n",
       "    }\n",
       "\n",
       "    .dataframe thead th {\n",
       "        text-align: right;\n",
       "    }\n",
       "</style>\n",
       "<table border=\"1\" class=\"dataframe\">\n",
       "  <thead>\n",
       "    <tr style=\"text-align: right;\">\n",
       "      <th></th>\n",
       "      <th>postcode</th>\n",
       "      <th>place_name</th>\n",
       "      <th>state_name</th>\n",
       "      <th>state_code</th>\n",
       "      <th>latitude</th>\n",
       "      <th>longitude</th>\n",
       "      <th>accuracy</th>\n",
       "      <th>SA2_CODE21</th>\n",
       "      <th>geometry</th>\n",
       "      <th>centroid</th>\n",
       "    </tr>\n",
       "  </thead>\n",
       "  <tbody>\n",
       "    <tr>\n",
       "      <th>0</th>\n",
       "      <td>200</td>\n",
       "      <td>Australian National University</td>\n",
       "      <td>Australian Capital Territory</td>\n",
       "      <td>ACT</td>\n",
       "      <td>-35.2777</td>\n",
       "      <td>149.1189</td>\n",
       "      <td>1.0</td>\n",
       "      <td>801051049</td>\n",
       "      <td>POLYGON ((149.11002 -35.28400, 149.10987 -35.2...</td>\n",
       "      <td>(-35.281339155480744, 149.11505674306417)</td>\n",
       "    </tr>\n",
       "    <tr>\n",
       "      <th>1</th>\n",
       "      <td>221</td>\n",
       "      <td>Barton</td>\n",
       "      <td>Australian Capital Territory</td>\n",
       "      <td>ACT</td>\n",
       "      <td>-35.3049</td>\n",
       "      <td>149.1412</td>\n",
       "      <td>4.0</td>\n",
       "      <td>801061129</td>\n",
       "      <td>POLYGON ((149.12961 -35.30890, 149.12962 -35.3...</td>\n",
       "      <td>(-35.30925425962516, 149.13585270514673)</td>\n",
       "    </tr>\n",
       "    <tr>\n",
       "      <th>2</th>\n",
       "      <td>2540</td>\n",
       "      <td>Wreck Bay</td>\n",
       "      <td>Australian Capital Territory</td>\n",
       "      <td>ACT</td>\n",
       "      <td>-35.1627</td>\n",
       "      <td>150.6907</td>\n",
       "      <td>4.0</td>\n",
       "      <td>901031003</td>\n",
       "      <td>MULTIPOLYGON (((150.69567 -35.18295, 150.69556...</td>\n",
       "      <td>(-35.15235858081164, 150.6912049877714)</td>\n",
       "    </tr>\n",
       "    <tr>\n",
       "      <th>3</th>\n",
       "      <td>2600</td>\n",
       "      <td>Deakin West</td>\n",
       "      <td>Australian Capital Territory</td>\n",
       "      <td>ACT</td>\n",
       "      <td>-35.3126</td>\n",
       "      <td>149.1278</td>\n",
       "      <td>3.0</td>\n",
       "      <td>801061063</td>\n",
       "      <td>POLYGON ((149.11789 -35.31529, 149.11887 -35.3...</td>\n",
       "      <td>(-35.3171832215981, 149.12476387791898)</td>\n",
       "    </tr>\n",
       "    <tr>\n",
       "      <th>4</th>\n",
       "      <td>2601</td>\n",
       "      <td>City</td>\n",
       "      <td>Australian Capital Territory</td>\n",
       "      <td>ACT</td>\n",
       "      <td>-35.2813</td>\n",
       "      <td>149.1293</td>\n",
       "      <td>4.0</td>\n",
       "      <td>801051053</td>\n",
       "      <td>POLYGON ((149.12464 -35.27583, 149.12474 -35.2...</td>\n",
       "      <td>(-35.28126033741348, 149.12916957590815)</td>\n",
       "    </tr>\n",
       "  </tbody>\n",
       "</table>\n",
       "</div>"
      ],
      "text/plain": [
       "   postcode                      place_name                    state_name  \\\n",
       "0       200  Australian National University  Australian Capital Territory   \n",
       "1       221                          Barton  Australian Capital Territory   \n",
       "2      2540                       Wreck Bay  Australian Capital Territory   \n",
       "3      2600                     Deakin West  Australian Capital Territory   \n",
       "4      2601                            City  Australian Capital Territory   \n",
       "\n",
       "  state_code  latitude  longitude  accuracy  SA2_CODE21  \\\n",
       "0        ACT  -35.2777   149.1189       1.0   801051049   \n",
       "1        ACT  -35.3049   149.1412       4.0   801061129   \n",
       "2        ACT  -35.1627   150.6907       4.0   901031003   \n",
       "3        ACT  -35.3126   149.1278       3.0   801061063   \n",
       "4        ACT  -35.2813   149.1293       4.0   801051053   \n",
       "\n",
       "                                            geometry  \\\n",
       "0  POLYGON ((149.11002 -35.28400, 149.10987 -35.2...   \n",
       "1  POLYGON ((149.12961 -35.30890, 149.12962 -35.3...   \n",
       "2  MULTIPOLYGON (((150.69567 -35.18295, 150.69556...   \n",
       "3  POLYGON ((149.11789 -35.31529, 149.11887 -35.3...   \n",
       "4  POLYGON ((149.12464 -35.27583, 149.12474 -35.2...   \n",
       "\n",
       "                                    centroid  \n",
       "0  (-35.281339155480744, 149.11505674306417)  \n",
       "1   (-35.30925425962516, 149.13585270514673)  \n",
       "2    (-35.15235858081164, 150.6912049877714)  \n",
       "3    (-35.3171832215981, 149.12476387791898)  \n",
       "4   (-35.28126033741348, 149.12916957590815)  "
      ]
     },
     "execution_count": 99,
     "metadata": {},
     "output_type": "execute_result"
    }
   ],
   "source": [
    "final_df.head(5)"
   ]
  },
  {
   "cell_type": "code",
   "execution_count": 100,
   "metadata": {},
   "outputs": [],
   "source": [
    "final_df.to_csv('../data/curated/sa2_pos_geometry.csv')"
   ]
  },
  {
   "cell_type": "code",
   "execution_count": 102,
   "metadata": {},
   "outputs": [
    {
     "name": "stdout",
     "output_type": "stream",
     "text": [
      "|> Loading File...\n",
      "|> Loading Finished!\n",
      "22/09/26 21:58:04 WARN CSVHeaderChecker: CSV header does not conform to the schema.\n",
      " Header: , postcode, place_name, state_name, state_code, latitude, longitude, accuracy, SA2_CODE21, geometry, centroid\n",
      " Schema: _c0, postcode, place_name, state_name, state_code, latitude, longitude, accuracy, SA2_CODE21, geometry, centroid\n",
      "Expected: _c0 but found: \n",
      "CSV file: file:///Users/runyuyang/Downloads/2022S2/generic-buy-now-pay-later-project-group-24/data/curated/sa2_pos_geometry.csv\n",
      "-RECORD 0--------------------------------------------------------------------------------------\n",
      " _c0        | 0                                                                                \n",
      " postcode   | 200                                                                              \n",
      " place_name | Australian National University                                                   \n",
      " state_name | Australian Capital Territory                                                     \n",
      " state_code | ACT                                                                              \n",
      " latitude   | -35.2777                                                                         \n",
      " longitude  | 149.1189                                                                         \n",
      " accuracy   | 1.0                                                                              \n",
      " SA2_CODE21 | 801051049                                                                        \n",
      " geometry   | POLYGON ((149.11001759648548 -35.28399857925649, 149.10987363648582 -35.28417... \n",
      " centroid   | (-35.281339155480744, 149.11505674306417)                                        \n",
      "only showing top 1 row\n",
      "\n"
     ]
    }
   ],
   "source": [
    "geometry = read_file(spark, '../curated/sa2_pos_geometry.csv',type='csv')"
   ]
  }
 ],
 "metadata": {
  "kernelspec": {
   "display_name": "Python 3.7.9 64-bit",
   "language": "python",
   "name": "python3"
  },
  "language_info": {
   "codemirror_mode": {
    "name": "ipython",
    "version": 3
   },
   "file_extension": ".py",
   "mimetype": "text/x-python",
   "name": "python",
   "nbconvert_exporter": "python",
   "pygments_lexer": "ipython3",
   "version": "3.7.9"
  },
  "orig_nbformat": 4,
  "vscode": {
   "interpreter": {
    "hash": "aee8b7b246df8f9039afb4144a1f6fd8d2ca17a180786b69acc140d282b71a49"
   }
  }
 },
 "nbformat": 4,
 "nbformat_minor": 2
}
