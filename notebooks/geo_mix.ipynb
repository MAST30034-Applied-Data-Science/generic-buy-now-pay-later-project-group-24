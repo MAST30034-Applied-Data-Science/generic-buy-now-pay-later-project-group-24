{
 "cells": [
  {
   "cell_type": "code",
   "execution_count": 40,
   "metadata": {},
   "outputs": [],
   "source": [
    "import pandas as pd\n",
    "import geopandas as gpd\n",
    "import requests, json, geojson\n",
    "from shapely.geometry import shape\n",
    "import shapely.wkt\n",
    "\n",
    "import sys\n",
    "sys.path.append('../scripts/')\n",
    "from read_utils import read_file, create_folder, temp_record_query, temp_record_sdf\n",
    "from pyspark.sql import SparkSession"
   ]
  },
  {
   "cell_type": "code",
   "execution_count": 2,
   "metadata": {},
   "outputs": [
    {
     "name": "stderr",
     "output_type": "stream",
     "text": [
      "Setting default log level to \"WARN\".\n",
      "To adjust logging level use sc.setLogLevel(newLevel). For SparkR, use setLogLevel(newLevel).\n"
     ]
    },
    {
     "name": "stdout",
     "output_type": "stream",
     "text": [
      "22/09/28 13:03:09 WARN NativeCodeLoader: Unable to load native-hadoop library for your platform... using builtin-java classes where applicable\n",
      "22/09/28 13:03:10 WARN Utils: Service 'SparkUI' could not bind on port 4040. Attempting port 4041.\n"
     ]
    }
   ],
   "source": [
    "spark = (\n",
    "    # Create a spark session (which will run spark jobs)\n",
    "    SparkSession.builder.appName(\"Project 2\")\n",
    "    .config(\"spark.sql.repl.eagerEval.enabled\", True) \n",
    "    .config(\"spark.sql.parquet.cacheMetadata\", \"true\")\n",
    "    .config('spark.executor.memory','10g')\n",
    "    .config('spark.driver.memory','12g')\n",
    "    .config('spark.driver.maxResultsSize', '10GiB')\n",
    "    # .config(\"spark.network.timeout\", \"3600s\")\n",
    "    # .master(\"local[6]\")\n",
    "    .getOrCreate()\n",
    "    )"
   ]
  },
  {
   "cell_type": "code",
   "execution_count": 3,
   "metadata": {},
   "outputs": [],
   "source": [
    "POA_df = pd.read_csv('../data/tables/external_postcode.csv')\n",
    "pos_df = POA_df.drop_duplicates(['postcode'])\n",
    "POA_geo = gpd.GeoDataFrame(data = pos_df)"
   ]
  },
  {
   "cell_type": "code",
   "execution_count": 4,
   "metadata": {},
   "outputs": [
    {
     "data": {
      "text/html": [
       "<div>\n",
       "<style scoped>\n",
       "    .dataframe tbody tr th:only-of-type {\n",
       "        vertical-align: middle;\n",
       "    }\n",
       "\n",
       "    .dataframe tbody tr th {\n",
       "        vertical-align: top;\n",
       "    }\n",
       "\n",
       "    .dataframe thead th {\n",
       "        text-align: right;\n",
       "    }\n",
       "</style>\n",
       "<table border=\"1\" class=\"dataframe\">\n",
       "  <thead>\n",
       "    <tr style=\"text-align: right;\">\n",
       "      <th></th>\n",
       "      <th>postcode</th>\n",
       "      <th>place_name</th>\n",
       "      <th>state_name</th>\n",
       "      <th>state_code</th>\n",
       "      <th>latitude</th>\n",
       "      <th>longitude</th>\n",
       "      <th>accuracy</th>\n",
       "    </tr>\n",
       "  </thead>\n",
       "  <tbody>\n",
       "    <tr>\n",
       "      <th>0</th>\n",
       "      <td>200</td>\n",
       "      <td>Australian National University</td>\n",
       "      <td>Australian Capital Territory</td>\n",
       "      <td>ACT</td>\n",
       "      <td>-35.2777</td>\n",
       "      <td>149.1189</td>\n",
       "      <td>1.0</td>\n",
       "    </tr>\n",
       "    <tr>\n",
       "      <th>1</th>\n",
       "      <td>221</td>\n",
       "      <td>Barton</td>\n",
       "      <td>Australian Capital Territory</td>\n",
       "      <td>ACT</td>\n",
       "      <td>-35.3049</td>\n",
       "      <td>149.1412</td>\n",
       "      <td>4.0</td>\n",
       "    </tr>\n",
       "    <tr>\n",
       "      <th>2</th>\n",
       "      <td>2540</td>\n",
       "      <td>Wreck Bay</td>\n",
       "      <td>Australian Capital Territory</td>\n",
       "      <td>ACT</td>\n",
       "      <td>-35.1627</td>\n",
       "      <td>150.6907</td>\n",
       "      <td>4.0</td>\n",
       "    </tr>\n",
       "    <tr>\n",
       "      <th>3</th>\n",
       "      <td>2540</td>\n",
       "      <td>Hmas Creswell</td>\n",
       "      <td>Australian Capital Territory</td>\n",
       "      <td>ACT</td>\n",
       "      <td>-35.0280</td>\n",
       "      <td>150.5501</td>\n",
       "      <td>3.0</td>\n",
       "    </tr>\n",
       "    <tr>\n",
       "      <th>4</th>\n",
       "      <td>2540</td>\n",
       "      <td>Jervis Bay</td>\n",
       "      <td>Australian Capital Territory</td>\n",
       "      <td>ACT</td>\n",
       "      <td>-35.1333</td>\n",
       "      <td>150.7000</td>\n",
       "      <td>4.0</td>\n",
       "    </tr>\n",
       "  </tbody>\n",
       "</table>\n",
       "</div>"
      ],
      "text/plain": [
       "   postcode                      place_name                    state_name  \\\n",
       "0       200  Australian National University  Australian Capital Territory   \n",
       "1       221                          Barton  Australian Capital Territory   \n",
       "2      2540                       Wreck Bay  Australian Capital Territory   \n",
       "3      2540                   Hmas Creswell  Australian Capital Territory   \n",
       "4      2540                      Jervis Bay  Australian Capital Territory   \n",
       "\n",
       "  state_code  latitude  longitude  accuracy  \n",
       "0        ACT  -35.2777   149.1189       1.0  \n",
       "1        ACT  -35.3049   149.1412       4.0  \n",
       "2        ACT  -35.1627   150.6907       4.0  \n",
       "3        ACT  -35.0280   150.5501       3.0  \n",
       "4        ACT  -35.1333   150.7000       4.0  "
      ]
     },
     "execution_count": 4,
     "metadata": {},
     "output_type": "execute_result"
    }
   ],
   "source": [
    "POA_df.head(5)"
   ]
  },
  {
   "cell_type": "code",
   "execution_count": 5,
   "metadata": {},
   "outputs": [],
   "source": [
    "sa2_sf = gpd.read_file('../data/tables/external_SA2/SA2_2021_AUST_GDA2020.shp')\n",
    "sa2_sf['geometry'] = sa2_sf['geometry'].to_crs(\"+proj=longlat +ellps=WGS84 +datum=WGS84 +no_defs\")\n",
    "sa2_gdf = gpd.GeoDataFrame(sa2_sf)\n",
    "sa2_gdf = sa2_gdf.dropna()\n",
    "sa2_gdf['centroid'] = sa2_gdf['geometry'].apply(lambda x: (x.centroid.y, x.centroid.x))\n",
    "bound = sa2_gdf['geometry'].bounds\n",
    "sa2_geo = sa2_gdf.join(bound)"
   ]
  },
  {
   "cell_type": "code",
   "execution_count": 6,
   "metadata": {},
   "outputs": [],
   "source": [
    "sa2_geo_info = sa2_geo[['SA2_CODE21', 'geometry','centroid']].drop_duplicates('SA2_CODE21')"
   ]
  },
  {
   "cell_type": "code",
   "execution_count": 7,
   "metadata": {},
   "outputs": [],
   "source": [
    "def match_sa2_and_postcode(sa2_df, pos_df):\n",
    "    # pos_new_df = pos_df.reindex(columns=[*pos_df.columns.tolist(), 'SA2_CODE21'], fill_value=0)\n",
    "    for i in pos_df.index:\n",
    "        for j in sa2_df.index:\n",
    "            if ((pos_df['latitude'][i] >= sa2_df['miny'][j])& (pos_df['latitude'][i] <= sa2_df['maxy'][j])\n",
    "                &(pos_df['longitude'][i] >= sa2_df['minx'][j]) & (pos_df['longitude'][i] <= sa2_df['maxx'][j])):\n",
    "                pos_df.loc[i, 'SA2_CODE21'] = sa2_df['SA2_CODE21'][j]\n",
    "    return pos_df"
   ]
  },
  {
   "cell_type": "code",
   "execution_count": 8,
   "metadata": {},
   "outputs": [],
   "source": [
    "mix_df = match_sa2_and_postcode(sa2_geo, POA_geo)"
   ]
  },
  {
   "cell_type": "code",
   "execution_count": 9,
   "metadata": {},
   "outputs": [],
   "source": [
    "mix_df = mix_df.dropna()"
   ]
  },
  {
   "cell_type": "code",
   "execution_count": 15,
   "metadata": {},
   "outputs": [
    {
     "data": {
      "text/plain": [
       "postcode        int64\n",
       "place_name     object\n",
       "state_name     object\n",
       "state_code     object\n",
       "latitude      float64\n",
       "longitude     float64\n",
       "accuracy      float64\n",
       "SA2_CODE21      int64\n",
       "dtype: object"
      ]
     },
     "execution_count": 15,
     "metadata": {},
     "output_type": "execute_result"
    }
   ],
   "source": [
    "mix_df.dtypes"
   ]
  },
  {
   "cell_type": "code",
   "execution_count": 16,
   "metadata": {},
   "outputs": [],
   "source": [
    "sa2_geo_info.loc[:,'SA2_CODE21'] = sa2_geo_info.loc[:,'SA2_CODE21'].astype('int')"
   ]
  },
  {
   "cell_type": "code",
   "execution_count": 17,
   "metadata": {},
   "outputs": [
    {
     "data": {
      "text/plain": [
       "SA2_CODE21       int64\n",
       "geometry      geometry\n",
       "centroid        object\n",
       "dtype: object"
      ]
     },
     "execution_count": 17,
     "metadata": {},
     "output_type": "execute_result"
    }
   ],
   "source": [
    "sa2_geo_info.dtypes"
   ]
  },
  {
   "cell_type": "code",
   "execution_count": 18,
   "metadata": {},
   "outputs": [],
   "source": [
    "final_df = pd.merge(mix_df, sa2_geo_info, on='SA2_CODE21',how='inner')"
   ]
  },
  {
   "cell_type": "code",
   "execution_count": 19,
   "metadata": {},
   "outputs": [
    {
     "data": {
      "text/html": [
       "<div>\n",
       "<style scoped>\n",
       "    .dataframe tbody tr th:only-of-type {\n",
       "        vertical-align: middle;\n",
       "    }\n",
       "\n",
       "    .dataframe tbody tr th {\n",
       "        vertical-align: top;\n",
       "    }\n",
       "\n",
       "    .dataframe thead th {\n",
       "        text-align: right;\n",
       "    }\n",
       "</style>\n",
       "<table border=\"1\" class=\"dataframe\">\n",
       "  <thead>\n",
       "    <tr style=\"text-align: right;\">\n",
       "      <th></th>\n",
       "      <th>postcode</th>\n",
       "      <th>place_name</th>\n",
       "      <th>state_name</th>\n",
       "      <th>state_code</th>\n",
       "      <th>latitude</th>\n",
       "      <th>longitude</th>\n",
       "      <th>accuracy</th>\n",
       "      <th>SA2_CODE21</th>\n",
       "      <th>geometry</th>\n",
       "      <th>centroid</th>\n",
       "    </tr>\n",
       "  </thead>\n",
       "  <tbody>\n",
       "    <tr>\n",
       "      <th>0</th>\n",
       "      <td>200</td>\n",
       "      <td>Australian National University</td>\n",
       "      <td>Australian Capital Territory</td>\n",
       "      <td>ACT</td>\n",
       "      <td>-35.2777</td>\n",
       "      <td>149.1189</td>\n",
       "      <td>1.0</td>\n",
       "      <td>801051049</td>\n",
       "      <td>POLYGON ((149.11002 -35.28400, 149.10987 -35.2...</td>\n",
       "      <td>(-35.281339155480744, 149.11505674306417)</td>\n",
       "    </tr>\n",
       "    <tr>\n",
       "      <th>1</th>\n",
       "      <td>221</td>\n",
       "      <td>Barton</td>\n",
       "      <td>Australian Capital Territory</td>\n",
       "      <td>ACT</td>\n",
       "      <td>-35.3049</td>\n",
       "      <td>149.1412</td>\n",
       "      <td>4.0</td>\n",
       "      <td>801061129</td>\n",
       "      <td>POLYGON ((149.12961 -35.30890, 149.12962 -35.3...</td>\n",
       "      <td>(-35.30925425962516, 149.13585270514673)</td>\n",
       "    </tr>\n",
       "    <tr>\n",
       "      <th>2</th>\n",
       "      <td>2540</td>\n",
       "      <td>Wreck Bay</td>\n",
       "      <td>Australian Capital Territory</td>\n",
       "      <td>ACT</td>\n",
       "      <td>-35.1627</td>\n",
       "      <td>150.6907</td>\n",
       "      <td>4.0</td>\n",
       "      <td>901031003</td>\n",
       "      <td>MULTIPOLYGON (((150.69567 -35.18295, 150.69556...</td>\n",
       "      <td>(-35.15235858081164, 150.6912049877714)</td>\n",
       "    </tr>\n",
       "    <tr>\n",
       "      <th>3</th>\n",
       "      <td>2600</td>\n",
       "      <td>Deakin West</td>\n",
       "      <td>Australian Capital Territory</td>\n",
       "      <td>ACT</td>\n",
       "      <td>-35.3126</td>\n",
       "      <td>149.1278</td>\n",
       "      <td>3.0</td>\n",
       "      <td>801061063</td>\n",
       "      <td>POLYGON ((149.11789 -35.31529, 149.11887 -35.3...</td>\n",
       "      <td>(-35.3171832215981, 149.12476387791898)</td>\n",
       "    </tr>\n",
       "    <tr>\n",
       "      <th>4</th>\n",
       "      <td>2601</td>\n",
       "      <td>City</td>\n",
       "      <td>Australian Capital Territory</td>\n",
       "      <td>ACT</td>\n",
       "      <td>-35.2813</td>\n",
       "      <td>149.1293</td>\n",
       "      <td>4.0</td>\n",
       "      <td>801051053</td>\n",
       "      <td>POLYGON ((149.12464 -35.27583, 149.12474 -35.2...</td>\n",
       "      <td>(-35.28126033741348, 149.12916957590815)</td>\n",
       "    </tr>\n",
       "  </tbody>\n",
       "</table>\n",
       "</div>"
      ],
      "text/plain": [
       "   postcode                      place_name                    state_name  \\\n",
       "0       200  Australian National University  Australian Capital Territory   \n",
       "1       221                          Barton  Australian Capital Territory   \n",
       "2      2540                       Wreck Bay  Australian Capital Territory   \n",
       "3      2600                     Deakin West  Australian Capital Territory   \n",
       "4      2601                            City  Australian Capital Territory   \n",
       "\n",
       "  state_code  latitude  longitude  accuracy  SA2_CODE21  \\\n",
       "0        ACT  -35.2777   149.1189       1.0   801051049   \n",
       "1        ACT  -35.3049   149.1412       4.0   801061129   \n",
       "2        ACT  -35.1627   150.6907       4.0   901031003   \n",
       "3        ACT  -35.3126   149.1278       3.0   801061063   \n",
       "4        ACT  -35.2813   149.1293       4.0   801051053   \n",
       "\n",
       "                                            geometry  \\\n",
       "0  POLYGON ((149.11002 -35.28400, 149.10987 -35.2...   \n",
       "1  POLYGON ((149.12961 -35.30890, 149.12962 -35.3...   \n",
       "2  MULTIPOLYGON (((150.69567 -35.18295, 150.69556...   \n",
       "3  POLYGON ((149.11789 -35.31529, 149.11887 -35.3...   \n",
       "4  POLYGON ((149.12464 -35.27583, 149.12474 -35.2...   \n",
       "\n",
       "                                    centroid  \n",
       "0  (-35.281339155480744, 149.11505674306417)  \n",
       "1   (-35.30925425962516, 149.13585270514673)  \n",
       "2    (-35.15235858081164, 150.6912049877714)  \n",
       "3    (-35.3171832215981, 149.12476387791898)  \n",
       "4   (-35.28126033741348, 149.12916957590815)  "
      ]
     },
     "execution_count": 19,
     "metadata": {},
     "output_type": "execute_result"
    }
   ],
   "source": [
    "final_df.head(5)"
   ]
  },
  {
   "cell_type": "code",
   "execution_count": 20,
   "metadata": {},
   "outputs": [],
   "source": [
    "final_df = final_df.dropna()"
   ]
  },
  {
   "cell_type": "code",
   "execution_count": 21,
   "metadata": {},
   "outputs": [
    {
     "data": {
      "text/plain": [
       "postcode         int64\n",
       "place_name      object\n",
       "state_name      object\n",
       "state_code      object\n",
       "latitude       float64\n",
       "longitude      float64\n",
       "accuracy       float64\n",
       "SA2_CODE21       int64\n",
       "geometry      geometry\n",
       "centroid        object\n",
       "dtype: object"
      ]
     },
     "execution_count": 21,
     "metadata": {},
     "output_type": "execute_result"
    }
   ],
   "source": [
    "final_df.dtypes"
   ]
  },
  {
   "cell_type": "code",
   "execution_count": 23,
   "metadata": {},
   "outputs": [
    {
     "data": {
      "text/plain": [
       "3306"
      ]
     },
     "execution_count": 23,
     "metadata": {},
     "output_type": "execute_result"
    }
   ],
   "source": [
    "len(final_df)"
   ]
  },
  {
   "cell_type": "markdown",
   "metadata": {},
   "source": [
    "- seperate data into state"
   ]
  },
  {
   "cell_type": "code",
   "execution_count": 28,
   "metadata": {},
   "outputs": [],
   "source": [
    "def get_states(dataframe):\n",
    "    state_list = []\n",
    "    for state in dataframe['state_code']:\n",
    "        if state not in state_list:\n",
    "            state_list.append(state)\n",
    "    return state_list        "
   ]
  },
  {
   "cell_type": "code",
   "execution_count": 29,
   "metadata": {},
   "outputs": [],
   "source": [
    "state_list = get_states(final_df)"
   ]
  },
  {
   "cell_type": "code",
   "execution_count": 30,
   "metadata": {},
   "outputs": [
    {
     "data": {
      "text/plain": [
       "['ACT', 'NSW', 'QLD', 'VIC', 'NT', 'SA', 'TAS', 'WA']"
      ]
     },
     "execution_count": 30,
     "metadata": {},
     "output_type": "execute_result"
    }
   ],
   "source": [
    "state_list"
   ]
  },
  {
   "cell_type": "code",
   "execution_count": 31,
   "metadata": {},
   "outputs": [],
   "source": [
    "ACT_df = final_df[final_df['state_code'] == 'ACT']\n",
    "ACT_JSON = ACT_df[['postcode', 'place_name', 'geometry']].to_json()"
   ]
  },
  {
   "cell_type": "code",
   "execution_count": 32,
   "metadata": {},
   "outputs": [],
   "source": [
    "NSW_df = final_df[final_df['state_code'] == 'NSW']\n",
    "NSW_JSON = NSW_df[['postcode', 'place_name', 'geometry']].to_json()"
   ]
  },
  {
   "cell_type": "code",
   "execution_count": 54,
   "metadata": {},
   "outputs": [
    {
     "data": {
      "text/plain": [
       "960"
      ]
     },
     "execution_count": 54,
     "metadata": {},
     "output_type": "execute_result"
    }
   ],
   "source": [
    "len(NSW_df)"
   ]
  },
  {
   "cell_type": "code",
   "execution_count": 33,
   "metadata": {},
   "outputs": [],
   "source": [
    "QLD_df = final_df[final_df['state_code'] == 'QLD']\n",
    "QLD_JSON = QLD_df[['postcode', 'place_name', 'geometry']].to_json()"
   ]
  },
  {
   "cell_type": "code",
   "execution_count": 55,
   "metadata": {},
   "outputs": [
    {
     "data": {
      "text/plain": [
       "464"
      ]
     },
     "execution_count": 55,
     "metadata": {},
     "output_type": "execute_result"
    }
   ],
   "source": [
    "len(QLD_df)"
   ]
  },
  {
   "cell_type": "code",
   "execution_count": 56,
   "metadata": {},
   "outputs": [],
   "source": [
    "VIC_df = final_df[final_df['state_code'] == 'VIC']\n",
    "VIC_JSON =VIC_df[['postcode', 'place_name', 'geometry']].to_json()"
   ]
  },
  {
   "cell_type": "code",
   "execution_count": 57,
   "metadata": {},
   "outputs": [
    {
     "data": {
      "text/plain": [
       "751"
      ]
     },
     "execution_count": 57,
     "metadata": {},
     "output_type": "execute_result"
    }
   ],
   "source": [
    "len(VIC_df)"
   ]
  },
  {
   "cell_type": "code",
   "execution_count": 35,
   "metadata": {},
   "outputs": [],
   "source": [
    "NT_df = final_df[final_df['state_code'] == 'NT']\n",
    "NT_JSON = NT_df[['postcode', 'place_name', 'geometry']].to_json()"
   ]
  },
  {
   "cell_type": "code",
   "execution_count": 58,
   "metadata": {},
   "outputs": [
    {
     "data": {
      "text/plain": [
       "49"
      ]
     },
     "execution_count": 58,
     "metadata": {},
     "output_type": "execute_result"
    }
   ],
   "source": [
    "len(NT_df)"
   ]
  },
  {
   "cell_type": "code",
   "execution_count": 36,
   "metadata": {},
   "outputs": [],
   "source": [
    "SA_df = final_df[final_df['state_code'] == 'SA']\n",
    "SA_JSON = SA_df[['postcode', 'place_name', 'geometry']].to_json()"
   ]
  },
  {
   "cell_type": "code",
   "execution_count": 59,
   "metadata": {},
   "outputs": [
    {
     "data": {
      "text/plain": [
       "391"
      ]
     },
     "execution_count": 59,
     "metadata": {},
     "output_type": "execute_result"
    }
   ],
   "source": [
    "len(SA_df)"
   ]
  },
  {
   "cell_type": "code",
   "execution_count": 37,
   "metadata": {},
   "outputs": [],
   "source": [
    "TAS_df = final_df[final_df['state_code'] == 'TAS']\n",
    "TAS_JSON = TAS_df[['postcode', 'place_name', 'geometry']].to_json()"
   ]
  },
  {
   "cell_type": "code",
   "execution_count": 60,
   "metadata": {},
   "outputs": [
    {
     "data": {
      "text/plain": [
       "158"
      ]
     },
     "execution_count": 60,
     "metadata": {},
     "output_type": "execute_result"
    }
   ],
   "source": [
    "len(TAS_df)"
   ]
  },
  {
   "cell_type": "code",
   "execution_count": 38,
   "metadata": {},
   "outputs": [],
   "source": [
    "WA_df = final_df[final_df['state_code'] == 'WA']\n",
    "WA_JSON = WA_df[['postcode', 'place_name', 'geometry']].to_json()"
   ]
  },
  {
   "cell_type": "code",
   "execution_count": 61,
   "metadata": {},
   "outputs": [
    {
     "data": {
      "text/plain": [
       "500"
      ]
     },
     "execution_count": 61,
     "metadata": {},
     "output_type": "execute_result"
    }
   ],
   "source": [
    "len(WA_df)"
   ]
  },
  {
   "cell_type": "code",
   "execution_count": 64,
   "metadata": {},
   "outputs": [
    {
     "data": {
      "text/plain": [
       "<folium.features.GeoJson at 0x7f886b157490>"
      ]
     },
     "execution_count": 64,
     "metadata": {},
     "output_type": "execute_result"
    }
   ],
   "source": [
    "import folium\n",
    "m = folium.Map(location=[-26, 133], tiles=\"Stamen Terrain\", zoom_start=5)\n",
    "\n",
    "# Mouse over display\n",
    "tooltip=folium.features.GeoJsonTooltip(\n",
    "    fields=['postcode'],\n",
    "    localize=True,\n",
    "    sticky=False,\n",
    "    labels=True,\n",
    "    style=\"\"\"\n",
    "        background-color: #F0EFEF;\n",
    "        border: 2px solid black;\n",
    "        border-radius: 3px;\n",
    "        box-shadow: 3px;\n",
    "    \"\"\")\n",
    "\n",
    "# draw map\n",
    "folium.GeoJson(\n",
    "    ACT_JSON,\n",
    "    # style_function=lambda x: {'fillColor': 'orange'}\n",
    "    tooltip=tooltip\n",
    ").add_to(m)\n",
    "\n",
    "# # station popup\n",
    "# for postcode, place_name, centroid in sa2_map:\n",
    "#     m.add_child(\n",
    "#         folium.Marker(location=centroid, popup=f'{postcode}\\n>>>>\\n{place_name}')\n",
    "#     )\n",
    "\n",
    "# m.save('../plots/foliumStationToNTA.png')\n",
    "# m"
   ]
  },
  {
   "cell_type": "code",
   "execution_count": 52,
   "metadata": {},
   "outputs": [
    {
     "data": {
      "text/plain": [
       "<folium.features.GeoJson at 0x7f886c315310>"
      ]
     },
     "execution_count": 52,
     "metadata": {},
     "output_type": "execute_result"
    }
   ],
   "source": [
    "# draw map\n",
    "folium.GeoJson(\n",
    "    NSW_JSON,\n",
    "    # style_function=lambda x: {'fillColor': 'orange'}\n",
    "    tooltip=tooltip\n",
    ").add_to(m)"
   ]
  },
  {
   "cell_type": "code",
   "execution_count": null,
   "metadata": {},
   "outputs": [],
   "source": [
    "# draw map\n",
    "folium.GeoJson(\n",
    "    QLD_JSON,\n",
    "    # style_function=lambda x: {'fillColor': 'orange'}\n",
    "    tooltip=tooltip\n",
    ").add_to(m)"
   ]
  },
  {
   "cell_type": "code",
   "execution_count": null,
   "metadata": {},
   "outputs": [],
   "source": [
    "# draw map\n",
    "folium.GeoJson(\n",
    "    VIC_JSON,\n",
    "    # style_function=lambda x: {'fillColor': 'orange'}\n",
    "    tooltip=tooltip\n",
    ").add_to(m)"
   ]
  },
  {
   "cell_type": "code",
   "execution_count": 67,
   "metadata": {},
   "outputs": [
    {
     "data": {
      "text/plain": [
       "<folium.features.GeoJson at 0x7f8859bf1690>"
      ]
     },
     "execution_count": 67,
     "metadata": {},
     "output_type": "execute_result"
    }
   ],
   "source": [
    "# draw map\n",
    "folium.GeoJson(\n",
    "    NT_JSON,\n",
    "    # style_function=lambda x: {'fillColor': 'orange'}\n",
    "    tooltip=tooltip\n",
    ").add_to(m)"
   ]
  },
  {
   "cell_type": "code",
   "execution_count": null,
   "metadata": {},
   "outputs": [],
   "source": [
    "# draw map\n",
    "folium.GeoJson(\n",
    "    SA_JSON,\n",
    "    # style_function=lambda x: {'fillColor': 'orange'}\n",
    "    tooltip=tooltip\n",
    ").add_to(m)"
   ]
  },
  {
   "cell_type": "code",
   "execution_count": null,
   "metadata": {},
   "outputs": [],
   "source": [
    "# draw map\n",
    "folium.GeoJson(\n",
    "    TAS_JSON,\n",
    "    # style_function=lambda x: {'fillColor': 'orange'}\n",
    "    tooltip=tooltip\n",
    ").add_to(m)"
   ]
  },
  {
   "cell_type": "code",
   "execution_count": null,
   "metadata": {},
   "outputs": [],
   "source": [
    "# draw map\n",
    "folium.GeoJson(\n",
    "    WA_JSON,\n",
    "    # style_function=lambda x: {'fillColor': 'orange'}\n",
    "    tooltip=tooltip\n",
    ").add_to(m)"
   ]
  },
  {
   "cell_type": "code",
   "execution_count": 22,
   "metadata": {},
   "outputs": [
    {
     "name": "stderr",
     "output_type": "stream",
     "text": [
      "/Library/Frameworks/Python.framework/Versions/3.7/lib/python3.7/site-packages/ipykernel_launcher.py:1: UserWarning: this is an initial implementation of Parquet/Feather file support and associated metadata.  This is tracking version 0.1.0 of the metadata specification at https://github.com/geopandas/geo-arrow-spec\n",
      "\n",
      "This metadata specification does not yet make stability promises.  We do not yet recommend using this in a production setting unless you are able to rewrite your Parquet/Feather files.\n",
      "\n",
      "To further ignore this warning, you can do: \n",
      "import warnings; warnings.filterwarnings('ignore', message='.*initial implementation of Parquet.*')\n",
      "  \"\"\"Entry point for launching an IPython kernel.\n"
     ]
    }
   ],
   "source": [
    "final_df.to_parquet('../data/curated/sa2_pos_geometry.parquet')"
   ]
  },
  {
   "cell_type": "markdown",
   "metadata": {},
   "source": [
    "- Compare with the consumer data"
   ]
  },
  {
   "cell_type": "code",
   "execution_count": 23,
   "metadata": {},
   "outputs": [],
   "source": [
    "geo_data = gpd.read_parquet('../data/curated/sa2_pos_geometry.parquet')"
   ]
  },
  {
   "cell_type": "code",
   "execution_count": 24,
   "metadata": {},
   "outputs": [
    {
     "data": {
      "text/plain": [
       "postcode         int64\n",
       "place_name      object\n",
       "state_name      object\n",
       "state_code      object\n",
       "latitude       float64\n",
       "longitude      float64\n",
       "accuracy       float64\n",
       "SA2_CODE21       int64\n",
       "geometry      geometry\n",
       "centroid        object\n",
       "dtype: object"
      ]
     },
     "execution_count": 24,
     "metadata": {},
     "output_type": "execute_result"
    }
   ],
   "source": [
    "geo_data.dtypes"
   ]
  },
  {
   "cell_type": "code",
   "execution_count": 64,
   "metadata": {},
   "outputs": [
    {
     "data": {
      "text/html": [
       "<div>\n",
       "<style scoped>\n",
       "    .dataframe tbody tr th:only-of-type {\n",
       "        vertical-align: middle;\n",
       "    }\n",
       "\n",
       "    .dataframe tbody tr th {\n",
       "        vertical-align: top;\n",
       "    }\n",
       "\n",
       "    .dataframe thead th {\n",
       "        text-align: right;\n",
       "    }\n",
       "</style>\n",
       "<table border=\"1\" class=\"dataframe\">\n",
       "  <thead>\n",
       "    <tr style=\"text-align: right;\">\n",
       "      <th></th>\n",
       "      <th>postcode</th>\n",
       "      <th>place_name</th>\n",
       "      <th>state_name</th>\n",
       "      <th>state_code</th>\n",
       "      <th>latitude</th>\n",
       "      <th>longitude</th>\n",
       "      <th>accuracy</th>\n",
       "      <th>SA2_CODE21</th>\n",
       "      <th>geometry</th>\n",
       "      <th>centroid</th>\n",
       "    </tr>\n",
       "  </thead>\n",
       "  <tbody>\n",
       "    <tr>\n",
       "      <th>0</th>\n",
       "      <td>200</td>\n",
       "      <td>Australian National University</td>\n",
       "      <td>Australian Capital Territory</td>\n",
       "      <td>ACT</td>\n",
       "      <td>-35.2777</td>\n",
       "      <td>149.1189</td>\n",
       "      <td>1.0</td>\n",
       "      <td>801051049</td>\n",
       "      <td>POLYGON ((149.11002 -35.28400, 149.10987 -35.2...</td>\n",
       "      <td>[-35.281339155480744, 149.11505674306417]</td>\n",
       "    </tr>\n",
       "    <tr>\n",
       "      <th>1</th>\n",
       "      <td>221</td>\n",
       "      <td>Barton</td>\n",
       "      <td>Australian Capital Territory</td>\n",
       "      <td>ACT</td>\n",
       "      <td>-35.3049</td>\n",
       "      <td>149.1412</td>\n",
       "      <td>4.0</td>\n",
       "      <td>801061129</td>\n",
       "      <td>POLYGON ((149.12961 -35.30890, 149.12962 -35.3...</td>\n",
       "      <td>[-35.30925425962516, 149.13585270514673]</td>\n",
       "    </tr>\n",
       "    <tr>\n",
       "      <th>2</th>\n",
       "      <td>2540</td>\n",
       "      <td>Wreck Bay</td>\n",
       "      <td>Australian Capital Territory</td>\n",
       "      <td>ACT</td>\n",
       "      <td>-35.1627</td>\n",
       "      <td>150.6907</td>\n",
       "      <td>4.0</td>\n",
       "      <td>901031003</td>\n",
       "      <td>MULTIPOLYGON (((150.69567 -35.18295, 150.69556...</td>\n",
       "      <td>[-35.15235858081164, 150.6912049877714]</td>\n",
       "    </tr>\n",
       "    <tr>\n",
       "      <th>3</th>\n",
       "      <td>2600</td>\n",
       "      <td>Deakin West</td>\n",
       "      <td>Australian Capital Territory</td>\n",
       "      <td>ACT</td>\n",
       "      <td>-35.3126</td>\n",
       "      <td>149.1278</td>\n",
       "      <td>3.0</td>\n",
       "      <td>801061063</td>\n",
       "      <td>POLYGON ((149.11789 -35.31529, 149.11887 -35.3...</td>\n",
       "      <td>[-35.3171832215981, 149.12476387791898]</td>\n",
       "    </tr>\n",
       "    <tr>\n",
       "      <th>4</th>\n",
       "      <td>2601</td>\n",
       "      <td>City</td>\n",
       "      <td>Australian Capital Territory</td>\n",
       "      <td>ACT</td>\n",
       "      <td>-35.2813</td>\n",
       "      <td>149.1293</td>\n",
       "      <td>4.0</td>\n",
       "      <td>801051053</td>\n",
       "      <td>POLYGON ((149.12464 -35.27583, 149.12474 -35.2...</td>\n",
       "      <td>[-35.28126033741348, 149.12916957590815]</td>\n",
       "    </tr>\n",
       "  </tbody>\n",
       "</table>\n",
       "</div>"
      ],
      "text/plain": [
       "   postcode                      place_name                    state_name  \\\n",
       "0       200  Australian National University  Australian Capital Territory   \n",
       "1       221                          Barton  Australian Capital Territory   \n",
       "2      2540                       Wreck Bay  Australian Capital Territory   \n",
       "3      2600                     Deakin West  Australian Capital Territory   \n",
       "4      2601                            City  Australian Capital Territory   \n",
       "\n",
       "  state_code  latitude  longitude  accuracy  SA2_CODE21  \\\n",
       "0        ACT  -35.2777   149.1189       1.0   801051049   \n",
       "1        ACT  -35.3049   149.1412       4.0   801061129   \n",
       "2        ACT  -35.1627   150.6907       4.0   901031003   \n",
       "3        ACT  -35.3126   149.1278       3.0   801061063   \n",
       "4        ACT  -35.2813   149.1293       4.0   801051053   \n",
       "\n",
       "                                            geometry  \\\n",
       "0  POLYGON ((149.11002 -35.28400, 149.10987 -35.2...   \n",
       "1  POLYGON ((149.12961 -35.30890, 149.12962 -35.3...   \n",
       "2  MULTIPOLYGON (((150.69567 -35.18295, 150.69556...   \n",
       "3  POLYGON ((149.11789 -35.31529, 149.11887 -35.3...   \n",
       "4  POLYGON ((149.12464 -35.27583, 149.12474 -35.2...   \n",
       "\n",
       "                                    centroid  \n",
       "0  [-35.281339155480744, 149.11505674306417]  \n",
       "1   [-35.30925425962516, 149.13585270514673]  \n",
       "2    [-35.15235858081164, 150.6912049877714]  \n",
       "3    [-35.3171832215981, 149.12476387791898]  \n",
       "4   [-35.28126033741348, 149.12916957590815]  "
      ]
     },
     "execution_count": 64,
     "metadata": {},
     "output_type": "execute_result"
    }
   ],
   "source": [
    "geo_data.head()"
   ]
  },
  {
   "cell_type": "code",
   "execution_count": 25,
   "metadata": {},
   "outputs": [],
   "source": [
    "consumer_df = pd.read_parquet('../data/curated/new_consumer_data.parquet')"
   ]
  },
  {
   "cell_type": "code",
   "execution_count": 26,
   "metadata": {},
   "outputs": [
    {
     "data": {
      "text/html": [
       "<div>\n",
       "<style scoped>\n",
       "    .dataframe tbody tr th:only-of-type {\n",
       "        vertical-align: middle;\n",
       "    }\n",
       "\n",
       "    .dataframe tbody tr th {\n",
       "        vertical-align: top;\n",
       "    }\n",
       "\n",
       "    .dataframe thead th {\n",
       "        text-align: right;\n",
       "    }\n",
       "</style>\n",
       "<table border=\"1\" class=\"dataframe\">\n",
       "  <thead>\n",
       "    <tr style=\"text-align: right;\">\n",
       "      <th></th>\n",
       "      <th>consumer_id</th>\n",
       "      <th>name</th>\n",
       "      <th>address</th>\n",
       "      <th>state</th>\n",
       "      <th>postcode</th>\n",
       "      <th>gender</th>\n",
       "      <th>user_id</th>\n",
       "    </tr>\n",
       "  </thead>\n",
       "  <tbody>\n",
       "    <tr>\n",
       "      <th>0</th>\n",
       "      <td>1195503</td>\n",
       "      <td>Yolanda Williams</td>\n",
       "      <td>413 Haney Gardens Apt. 742</td>\n",
       "      <td>WA</td>\n",
       "      <td>6935</td>\n",
       "      <td>Female</td>\n",
       "      <td>1</td>\n",
       "    </tr>\n",
       "    <tr>\n",
       "      <th>1</th>\n",
       "      <td>179208</td>\n",
       "      <td>Mary Smith</td>\n",
       "      <td>3764 Amber Oval</td>\n",
       "      <td>NSW</td>\n",
       "      <td>2782</td>\n",
       "      <td>Female</td>\n",
       "      <td>2</td>\n",
       "    </tr>\n",
       "    <tr>\n",
       "      <th>2</th>\n",
       "      <td>1194530</td>\n",
       "      <td>Jill Jones MD</td>\n",
       "      <td>40693 Henry Greens</td>\n",
       "      <td>NT</td>\n",
       "      <td>862</td>\n",
       "      <td>Female</td>\n",
       "      <td>3</td>\n",
       "    </tr>\n",
       "    <tr>\n",
       "      <th>3</th>\n",
       "      <td>154128</td>\n",
       "      <td>Lindsay Jimenez</td>\n",
       "      <td>00653 Davenport Crossroad</td>\n",
       "      <td>NSW</td>\n",
       "      <td>2780</td>\n",
       "      <td>Female</td>\n",
       "      <td>4</td>\n",
       "    </tr>\n",
       "    <tr>\n",
       "      <th>4</th>\n",
       "      <td>712975</td>\n",
       "      <td>Rebecca Blanchard</td>\n",
       "      <td>9271 Michael Manors Suite 651</td>\n",
       "      <td>WA</td>\n",
       "      <td>6355</td>\n",
       "      <td>Female</td>\n",
       "      <td>5</td>\n",
       "    </tr>\n",
       "  </tbody>\n",
       "</table>\n",
       "</div>"
      ],
      "text/plain": [
       "  consumer_id               name                        address state  \\\n",
       "0     1195503   Yolanda Williams     413 Haney Gardens Apt. 742    WA   \n",
       "1      179208         Mary Smith                3764 Amber Oval   NSW   \n",
       "2     1194530      Jill Jones MD             40693 Henry Greens    NT   \n",
       "3      154128    Lindsay Jimenez      00653 Davenport Crossroad   NSW   \n",
       "4      712975  Rebecca Blanchard  9271 Michael Manors Suite 651    WA   \n",
       "\n",
       "  postcode  gender  user_id  \n",
       "0     6935  Female        1  \n",
       "1     2782  Female        2  \n",
       "2      862  Female        3  \n",
       "3     2780  Female        4  \n",
       "4     6355  Female        5  "
      ]
     },
     "execution_count": 26,
     "metadata": {},
     "output_type": "execute_result"
    }
   ],
   "source": [
    "consumer_df.head()"
   ]
  },
  {
   "cell_type": "code",
   "execution_count": 27,
   "metadata": {},
   "outputs": [
    {
     "data": {
      "text/plain": [
       "consumer_id    object\n",
       "name           object\n",
       "address        object\n",
       "state          object\n",
       "postcode        int64\n",
       "gender         object\n",
       "user_id         int64\n",
       "dtype: object"
      ]
     },
     "execution_count": 27,
     "metadata": {},
     "output_type": "execute_result"
    }
   ],
   "source": [
    "consumer_df.loc[:,'postcode'] = consumer_df.loc[:,'postcode'].astype('int')\n",
    "consumer_df.dtypes"
   ]
  },
  {
   "cell_type": "code",
   "execution_count": 69,
   "metadata": {},
   "outputs": [],
   "source": [
    "conn_by_postcode = pd.merge(consumer_df,geo_data, on='postcode', how='left')"
   ]
  },
  {
   "cell_type": "code",
   "execution_count": 70,
   "metadata": {},
   "outputs": [
    {
     "data": {
      "text/html": [
       "<div>\n",
       "<style scoped>\n",
       "    .dataframe tbody tr th:only-of-type {\n",
       "        vertical-align: middle;\n",
       "    }\n",
       "\n",
       "    .dataframe tbody tr th {\n",
       "        vertical-align: top;\n",
       "    }\n",
       "\n",
       "    .dataframe thead th {\n",
       "        text-align: right;\n",
       "    }\n",
       "</style>\n",
       "<table border=\"1\" class=\"dataframe\">\n",
       "  <thead>\n",
       "    <tr style=\"text-align: right;\">\n",
       "      <th></th>\n",
       "      <th>consumer_id</th>\n",
       "      <th>name</th>\n",
       "      <th>address</th>\n",
       "      <th>state</th>\n",
       "      <th>postcode</th>\n",
       "      <th>gender</th>\n",
       "      <th>user_id</th>\n",
       "      <th>place_name</th>\n",
       "      <th>state_name</th>\n",
       "      <th>state_code</th>\n",
       "      <th>latitude</th>\n",
       "      <th>longitude</th>\n",
       "      <th>accuracy</th>\n",
       "      <th>SA2_CODE21</th>\n",
       "      <th>geometry</th>\n",
       "      <th>centroid</th>\n",
       "    </tr>\n",
       "  </thead>\n",
       "  <tbody>\n",
       "    <tr>\n",
       "      <th>0</th>\n",
       "      <td>1195503</td>\n",
       "      <td>Yolanda Williams</td>\n",
       "      <td>413 Haney Gardens Apt. 742</td>\n",
       "      <td>WA</td>\n",
       "      <td>6935</td>\n",
       "      <td>Female</td>\n",
       "      <td>1</td>\n",
       "      <td>Guildford</td>\n",
       "      <td>Western Australia</td>\n",
       "      <td>WA</td>\n",
       "      <td>-31.9000</td>\n",
       "      <td>115.9667</td>\n",
       "      <td>4.0</td>\n",
       "      <td>504031066.0</td>\n",
       "      <td>POLYGON ((115.98662 -31.88821, 115.98724 -31.8...</td>\n",
       "      <td>[-31.894690777603778, 116.00345049359626]</td>\n",
       "    </tr>\n",
       "    <tr>\n",
       "      <th>1</th>\n",
       "      <td>179208</td>\n",
       "      <td>Mary Smith</td>\n",
       "      <td>3764 Amber Oval</td>\n",
       "      <td>NSW</td>\n",
       "      <td>2782</td>\n",
       "      <td>Female</td>\n",
       "      <td>2</td>\n",
       "      <td>Wentworth Falls</td>\n",
       "      <td>New South Wales</td>\n",
       "      <td>NSW</td>\n",
       "      <td>-33.7103</td>\n",
       "      <td>150.3753</td>\n",
       "      <td>4.0</td>\n",
       "      <td>124021456.0</td>\n",
       "      <td>POLYGON ((150.17345 -33.81724, 150.17340 -33.8...</td>\n",
       "      <td>[-33.99341257065195, 150.28795736716887]</td>\n",
       "    </tr>\n",
       "    <tr>\n",
       "      <th>2</th>\n",
       "      <td>1194530</td>\n",
       "      <td>Jill Jones MD</td>\n",
       "      <td>40693 Henry Greens</td>\n",
       "      <td>NT</td>\n",
       "      <td>862</td>\n",
       "      <td>Female</td>\n",
       "      <td>3</td>\n",
       "      <td>Warrego</td>\n",
       "      <td>Northern Territory</td>\n",
       "      <td>NT</td>\n",
       "      <td>-19.4362</td>\n",
       "      <td>133.8208</td>\n",
       "      <td>4.0</td>\n",
       "      <td>702021055.0</td>\n",
       "      <td>POLYGON ((132.40205 -17.30632, 132.40207 -17.0...</td>\n",
       "      <td>[-19.280833088965764, 135.0622557037591]</td>\n",
       "    </tr>\n",
       "    <tr>\n",
       "      <th>3</th>\n",
       "      <td>154128</td>\n",
       "      <td>Lindsay Jimenez</td>\n",
       "      <td>00653 Davenport Crossroad</td>\n",
       "      <td>NSW</td>\n",
       "      <td>2780</td>\n",
       "      <td>Female</td>\n",
       "      <td>4</td>\n",
       "      <td>Katoomba</td>\n",
       "      <td>New South Wales</td>\n",
       "      <td>NSW</td>\n",
       "      <td>-33.7198</td>\n",
       "      <td>150.3074</td>\n",
       "      <td>4.0</td>\n",
       "      <td>124021456.0</td>\n",
       "      <td>POLYGON ((150.17345 -33.81724, 150.17340 -33.8...</td>\n",
       "      <td>[-33.99341257065195, 150.28795736716887]</td>\n",
       "    </tr>\n",
       "    <tr>\n",
       "      <th>4</th>\n",
       "      <td>712975</td>\n",
       "      <td>Rebecca Blanchard</td>\n",
       "      <td>9271 Michael Manors Suite 651</td>\n",
       "      <td>WA</td>\n",
       "      <td>6355</td>\n",
       "      <td>Female</td>\n",
       "      <td>5</td>\n",
       "      <td>Lake Biddy</td>\n",
       "      <td>Western Australia</td>\n",
       "      <td>WA</td>\n",
       "      <td>-33.0019</td>\n",
       "      <td>118.9292</td>\n",
       "      <td>4.0</td>\n",
       "      <td>509031247.0</td>\n",
       "      <td>POLYGON ((117.63905 -32.58162, 117.63989 -32.5...</td>\n",
       "      <td>[-32.83646424681477, 118.9108199259583]</td>\n",
       "    </tr>\n",
       "  </tbody>\n",
       "</table>\n",
       "</div>"
      ],
      "text/plain": [
       "  consumer_id               name                        address state  \\\n",
       "0     1195503   Yolanda Williams     413 Haney Gardens Apt. 742    WA   \n",
       "1      179208         Mary Smith                3764 Amber Oval   NSW   \n",
       "2     1194530      Jill Jones MD             40693 Henry Greens    NT   \n",
       "3      154128    Lindsay Jimenez      00653 Davenport Crossroad   NSW   \n",
       "4      712975  Rebecca Blanchard  9271 Michael Manors Suite 651    WA   \n",
       "\n",
       "   postcode  gender  user_id       place_name          state_name state_code  \\\n",
       "0      6935  Female        1        Guildford   Western Australia         WA   \n",
       "1      2782  Female        2  Wentworth Falls     New South Wales        NSW   \n",
       "2       862  Female        3          Warrego  Northern Territory         NT   \n",
       "3      2780  Female        4         Katoomba     New South Wales        NSW   \n",
       "4      6355  Female        5       Lake Biddy   Western Australia         WA   \n",
       "\n",
       "   latitude  longitude  accuracy   SA2_CODE21  \\\n",
       "0  -31.9000   115.9667       4.0  504031066.0   \n",
       "1  -33.7103   150.3753       4.0  124021456.0   \n",
       "2  -19.4362   133.8208       4.0  702021055.0   \n",
       "3  -33.7198   150.3074       4.0  124021456.0   \n",
       "4  -33.0019   118.9292       4.0  509031247.0   \n",
       "\n",
       "                                            geometry  \\\n",
       "0  POLYGON ((115.98662 -31.88821, 115.98724 -31.8...   \n",
       "1  POLYGON ((150.17345 -33.81724, 150.17340 -33.8...   \n",
       "2  POLYGON ((132.40205 -17.30632, 132.40207 -17.0...   \n",
       "3  POLYGON ((150.17345 -33.81724, 150.17340 -33.8...   \n",
       "4  POLYGON ((117.63905 -32.58162, 117.63989 -32.5...   \n",
       "\n",
       "                                    centroid  \n",
       "0  [-31.894690777603778, 116.00345049359626]  \n",
       "1   [-33.99341257065195, 150.28795736716887]  \n",
       "2   [-19.280833088965764, 135.0622557037591]  \n",
       "3   [-33.99341257065195, 150.28795736716887]  \n",
       "4    [-32.83646424681477, 118.9108199259583]  "
      ]
     },
     "execution_count": 70,
     "metadata": {},
     "output_type": "execute_result"
    }
   ],
   "source": [
    "conn_by_postcode.head()"
   ]
  },
  {
   "cell_type": "code",
   "execution_count": 71,
   "metadata": {},
   "outputs": [
    {
     "name": "stdout",
     "output_type": "stream",
     "text": [
      "There are 499999 data, and 4024 of them have no null value.\n"
     ]
    }
   ],
   "source": [
    "temp = conn_by_postcode[conn_by_postcode.SA2_CODE21.isna()]\n",
    "print( f'There are {len(conn_by_postcode)} data, and {len(temp)} of them have no null value.')"
   ]
  },
  {
   "cell_type": "code",
   "execution_count": 72,
   "metadata": {},
   "outputs": [
    {
     "data": {
      "text/html": [
       "<div>\n",
       "<style scoped>\n",
       "    .dataframe tbody tr th:only-of-type {\n",
       "        vertical-align: middle;\n",
       "    }\n",
       "\n",
       "    .dataframe tbody tr th {\n",
       "        vertical-align: top;\n",
       "    }\n",
       "\n",
       "    .dataframe thead th {\n",
       "        text-align: right;\n",
       "    }\n",
       "</style>\n",
       "<table border=\"1\" class=\"dataframe\">\n",
       "  <thead>\n",
       "    <tr style=\"text-align: right;\">\n",
       "      <th></th>\n",
       "      <th>consumer_id</th>\n",
       "      <th>name</th>\n",
       "      <th>address</th>\n",
       "      <th>state</th>\n",
       "      <th>postcode</th>\n",
       "      <th>gender</th>\n",
       "      <th>user_id</th>\n",
       "      <th>place_name</th>\n",
       "      <th>state_name</th>\n",
       "      <th>state_code</th>\n",
       "      <th>latitude</th>\n",
       "      <th>longitude</th>\n",
       "      <th>accuracy</th>\n",
       "      <th>SA2_CODE21</th>\n",
       "      <th>geometry</th>\n",
       "      <th>centroid</th>\n",
       "    </tr>\n",
       "  </thead>\n",
       "  <tbody>\n",
       "    <tr>\n",
       "      <th>140</th>\n",
       "      <td>751248</td>\n",
       "      <td>James Donovan</td>\n",
       "      <td>455 Trevino Ports Apt. 032</td>\n",
       "      <td>WA</td>\n",
       "      <td>6435</td>\n",
       "      <td>Undisclosed</td>\n",
       "      <td>141</td>\n",
       "      <td>NaN</td>\n",
       "      <td>NaN</td>\n",
       "      <td>NaN</td>\n",
       "      <td>NaN</td>\n",
       "      <td>NaN</td>\n",
       "      <td>NaN</td>\n",
       "      <td>NaN</td>\n",
       "      <td>None</td>\n",
       "      <td>NaN</td>\n",
       "    </tr>\n",
       "    <tr>\n",
       "      <th>192</th>\n",
       "      <td>1010604</td>\n",
       "      <td>Eric Glover</td>\n",
       "      <td>27850 Charles Stream Suite 645</td>\n",
       "      <td>QLD</td>\n",
       "      <td>4314</td>\n",
       "      <td>Male</td>\n",
       "      <td>193</td>\n",
       "      <td>NaN</td>\n",
       "      <td>NaN</td>\n",
       "      <td>NaN</td>\n",
       "      <td>NaN</td>\n",
       "      <td>NaN</td>\n",
       "      <td>NaN</td>\n",
       "      <td>NaN</td>\n",
       "      <td>None</td>\n",
       "      <td>NaN</td>\n",
       "    </tr>\n",
       "    <tr>\n",
       "      <th>879</th>\n",
       "      <td>474979</td>\n",
       "      <td>Ashley Adams</td>\n",
       "      <td>507 Smith Islands</td>\n",
       "      <td>SA</td>\n",
       "      <td>5717</td>\n",
       "      <td>Female</td>\n",
       "      <td>880</td>\n",
       "      <td>NaN</td>\n",
       "      <td>NaN</td>\n",
       "      <td>NaN</td>\n",
       "      <td>NaN</td>\n",
       "      <td>NaN</td>\n",
       "      <td>NaN</td>\n",
       "      <td>NaN</td>\n",
       "      <td>None</td>\n",
       "      <td>NaN</td>\n",
       "    </tr>\n",
       "    <tr>\n",
       "      <th>1461</th>\n",
       "      <td>1258545</td>\n",
       "      <td>Katrina Rodriguez</td>\n",
       "      <td>9530 Jamie Trace Suite 775</td>\n",
       "      <td>NSW</td>\n",
       "      <td>1441</td>\n",
       "      <td>Female</td>\n",
       "      <td>1462</td>\n",
       "      <td>NaN</td>\n",
       "      <td>NaN</td>\n",
       "      <td>NaN</td>\n",
       "      <td>NaN</td>\n",
       "      <td>NaN</td>\n",
       "      <td>NaN</td>\n",
       "      <td>NaN</td>\n",
       "      <td>None</td>\n",
       "      <td>NaN</td>\n",
       "    </tr>\n",
       "    <tr>\n",
       "      <th>1548</th>\n",
       "      <td>31376</td>\n",
       "      <td>Brandy Russell</td>\n",
       "      <td>88973 Anthony Roads Apt. 529</td>\n",
       "      <td>NT</td>\n",
       "      <td>874</td>\n",
       "      <td>Female</td>\n",
       "      <td>1549</td>\n",
       "      <td>NaN</td>\n",
       "      <td>NaN</td>\n",
       "      <td>NaN</td>\n",
       "      <td>NaN</td>\n",
       "      <td>NaN</td>\n",
       "      <td>NaN</td>\n",
       "      <td>NaN</td>\n",
       "      <td>None</td>\n",
       "      <td>NaN</td>\n",
       "    </tr>\n",
       "  </tbody>\n",
       "</table>\n",
       "</div>"
      ],
      "text/plain": [
       "     consumer_id               name                         address state  \\\n",
       "140       751248      James Donovan      455 Trevino Ports Apt. 032    WA   \n",
       "192      1010604        Eric Glover  27850 Charles Stream Suite 645   QLD   \n",
       "879       474979       Ashley Adams               507 Smith Islands    SA   \n",
       "1461     1258545  Katrina Rodriguez      9530 Jamie Trace Suite 775   NSW   \n",
       "1548       31376     Brandy Russell    88973 Anthony Roads Apt. 529    NT   \n",
       "\n",
       "      postcode       gender  user_id place_name state_name state_code  \\\n",
       "140       6435  Undisclosed      141        NaN        NaN        NaN   \n",
       "192       4314         Male      193        NaN        NaN        NaN   \n",
       "879       5717       Female      880        NaN        NaN        NaN   \n",
       "1461      1441       Female     1462        NaN        NaN        NaN   \n",
       "1548       874       Female     1549        NaN        NaN        NaN   \n",
       "\n",
       "      latitude  longitude  accuracy  SA2_CODE21 geometry centroid  \n",
       "140        NaN        NaN       NaN         NaN     None      NaN  \n",
       "192        NaN        NaN       NaN         NaN     None      NaN  \n",
       "879        NaN        NaN       NaN         NaN     None      NaN  \n",
       "1461       NaN        NaN       NaN         NaN     None      NaN  \n",
       "1548       NaN        NaN       NaN         NaN     None      NaN  "
      ]
     },
     "execution_count": 72,
     "metadata": {},
     "output_type": "execute_result"
    }
   ],
   "source": [
    "len(temp.drop_duplicates('postcode'))\n",
    "temp.drop_duplicates('postcode').head()"
   ]
  },
  {
   "cell_type": "code",
   "execution_count": 73,
   "metadata": {},
   "outputs": [],
   "source": [
    "null_pos = temp.drop_duplicates('postcode').reset_index()"
   ]
  },
  {
   "cell_type": "code",
   "execution_count": 74,
   "metadata": {},
   "outputs": [
    {
     "data": {
      "text/html": [
       "<div>\n",
       "<style scoped>\n",
       "    .dataframe tbody tr th:only-of-type {\n",
       "        vertical-align: middle;\n",
       "    }\n",
       "\n",
       "    .dataframe tbody tr th {\n",
       "        vertical-align: top;\n",
       "    }\n",
       "\n",
       "    .dataframe thead th {\n",
       "        text-align: right;\n",
       "    }\n",
       "</style>\n",
       "<table border=\"1\" class=\"dataframe\">\n",
       "  <thead>\n",
       "    <tr style=\"text-align: right;\">\n",
       "      <th></th>\n",
       "      <th>index</th>\n",
       "      <th>consumer_id</th>\n",
       "      <th>name</th>\n",
       "      <th>address</th>\n",
       "      <th>state</th>\n",
       "      <th>postcode</th>\n",
       "      <th>gender</th>\n",
       "      <th>user_id</th>\n",
       "      <th>place_name</th>\n",
       "      <th>state_name</th>\n",
       "      <th>state_code</th>\n",
       "      <th>latitude</th>\n",
       "      <th>longitude</th>\n",
       "      <th>accuracy</th>\n",
       "      <th>SA2_CODE21</th>\n",
       "      <th>geometry</th>\n",
       "      <th>centroid</th>\n",
       "    </tr>\n",
       "  </thead>\n",
       "  <tbody>\n",
       "    <tr>\n",
       "      <th>0</th>\n",
       "      <td>140</td>\n",
       "      <td>751248</td>\n",
       "      <td>James Donovan</td>\n",
       "      <td>455 Trevino Ports Apt. 032</td>\n",
       "      <td>WA</td>\n",
       "      <td>6435</td>\n",
       "      <td>Undisclosed</td>\n",
       "      <td>141</td>\n",
       "      <td>NaN</td>\n",
       "      <td>NaN</td>\n",
       "      <td>NaN</td>\n",
       "      <td>NaN</td>\n",
       "      <td>NaN</td>\n",
       "      <td>NaN</td>\n",
       "      <td>NaN</td>\n",
       "      <td>None</td>\n",
       "      <td>NaN</td>\n",
       "    </tr>\n",
       "    <tr>\n",
       "      <th>1</th>\n",
       "      <td>192</td>\n",
       "      <td>1010604</td>\n",
       "      <td>Eric Glover</td>\n",
       "      <td>27850 Charles Stream Suite 645</td>\n",
       "      <td>QLD</td>\n",
       "      <td>4314</td>\n",
       "      <td>Male</td>\n",
       "      <td>193</td>\n",
       "      <td>NaN</td>\n",
       "      <td>NaN</td>\n",
       "      <td>NaN</td>\n",
       "      <td>NaN</td>\n",
       "      <td>NaN</td>\n",
       "      <td>NaN</td>\n",
       "      <td>NaN</td>\n",
       "      <td>None</td>\n",
       "      <td>NaN</td>\n",
       "    </tr>\n",
       "    <tr>\n",
       "      <th>2</th>\n",
       "      <td>879</td>\n",
       "      <td>474979</td>\n",
       "      <td>Ashley Adams</td>\n",
       "      <td>507 Smith Islands</td>\n",
       "      <td>SA</td>\n",
       "      <td>5717</td>\n",
       "      <td>Female</td>\n",
       "      <td>880</td>\n",
       "      <td>NaN</td>\n",
       "      <td>NaN</td>\n",
       "      <td>NaN</td>\n",
       "      <td>NaN</td>\n",
       "      <td>NaN</td>\n",
       "      <td>NaN</td>\n",
       "      <td>NaN</td>\n",
       "      <td>None</td>\n",
       "      <td>NaN</td>\n",
       "    </tr>\n",
       "    <tr>\n",
       "      <th>3</th>\n",
       "      <td>1461</td>\n",
       "      <td>1258545</td>\n",
       "      <td>Katrina Rodriguez</td>\n",
       "      <td>9530 Jamie Trace Suite 775</td>\n",
       "      <td>NSW</td>\n",
       "      <td>1441</td>\n",
       "      <td>Female</td>\n",
       "      <td>1462</td>\n",
       "      <td>NaN</td>\n",
       "      <td>NaN</td>\n",
       "      <td>NaN</td>\n",
       "      <td>NaN</td>\n",
       "      <td>NaN</td>\n",
       "      <td>NaN</td>\n",
       "      <td>NaN</td>\n",
       "      <td>None</td>\n",
       "      <td>NaN</td>\n",
       "    </tr>\n",
       "    <tr>\n",
       "      <th>4</th>\n",
       "      <td>1548</td>\n",
       "      <td>31376</td>\n",
       "      <td>Brandy Russell</td>\n",
       "      <td>88973 Anthony Roads Apt. 529</td>\n",
       "      <td>NT</td>\n",
       "      <td>874</td>\n",
       "      <td>Female</td>\n",
       "      <td>1549</td>\n",
       "      <td>NaN</td>\n",
       "      <td>NaN</td>\n",
       "      <td>NaN</td>\n",
       "      <td>NaN</td>\n",
       "      <td>NaN</td>\n",
       "      <td>NaN</td>\n",
       "      <td>NaN</td>\n",
       "      <td>None</td>\n",
       "      <td>NaN</td>\n",
       "    </tr>\n",
       "  </tbody>\n",
       "</table>\n",
       "</div>"
      ],
      "text/plain": [
       "   index consumer_id               name                         address state  \\\n",
       "0    140      751248      James Donovan      455 Trevino Ports Apt. 032    WA   \n",
       "1    192     1010604        Eric Glover  27850 Charles Stream Suite 645   QLD   \n",
       "2    879      474979       Ashley Adams               507 Smith Islands    SA   \n",
       "3   1461     1258545  Katrina Rodriguez      9530 Jamie Trace Suite 775   NSW   \n",
       "4   1548       31376     Brandy Russell    88973 Anthony Roads Apt. 529    NT   \n",
       "\n",
       "   postcode       gender  user_id place_name state_name state_code  latitude  \\\n",
       "0      6435  Undisclosed      141        NaN        NaN        NaN       NaN   \n",
       "1      4314         Male      193        NaN        NaN        NaN       NaN   \n",
       "2      5717       Female      880        NaN        NaN        NaN       NaN   \n",
       "3      1441       Female     1462        NaN        NaN        NaN       NaN   \n",
       "4       874       Female     1549        NaN        NaN        NaN       NaN   \n",
       "\n",
       "   longitude  accuracy  SA2_CODE21 geometry centroid  \n",
       "0        NaN       NaN         NaN     None      NaN  \n",
       "1        NaN       NaN         NaN     None      NaN  \n",
       "2        NaN       NaN         NaN     None      NaN  \n",
       "3        NaN       NaN         NaN     None      NaN  \n",
       "4        NaN       NaN         NaN     None      NaN  "
      ]
     },
     "execution_count": 74,
     "metadata": {},
     "output_type": "execute_result"
    }
   ],
   "source": [
    "null_pos.head()"
   ]
  },
  {
   "cell_type": "code",
   "execution_count": 39,
   "metadata": {},
   "outputs": [],
   "source": [
    "poa_sf = gpd.read_file('../data/tables/external_POA/POA_2021_AUST_GDA2020.shp')"
   ]
  },
  {
   "cell_type": "code",
   "execution_count": 41,
   "metadata": {},
   "outputs": [
    {
     "data": {
      "text/html": [
       "<div>\n",
       "<style scoped>\n",
       "    .dataframe tbody tr th:only-of-type {\n",
       "        vertical-align: middle;\n",
       "    }\n",
       "\n",
       "    .dataframe tbody tr th {\n",
       "        vertical-align: top;\n",
       "    }\n",
       "\n",
       "    .dataframe thead th {\n",
       "        text-align: right;\n",
       "    }\n",
       "</style>\n",
       "<table border=\"1\" class=\"dataframe\">\n",
       "  <thead>\n",
       "    <tr style=\"text-align: right;\">\n",
       "      <th></th>\n",
       "      <th>POA_CODE21</th>\n",
       "      <th>POA_NAME21</th>\n",
       "      <th>AUS_CODE21</th>\n",
       "      <th>AUS_NAME21</th>\n",
       "      <th>AREASQKM21</th>\n",
       "      <th>LOCI_URI21</th>\n",
       "      <th>SHAPE_Leng</th>\n",
       "      <th>SHAPE_Area</th>\n",
       "      <th>geometry</th>\n",
       "    </tr>\n",
       "  </thead>\n",
       "  <tbody>\n",
       "    <tr>\n",
       "      <th>0</th>\n",
       "      <td>0800</td>\n",
       "      <td>0800</td>\n",
       "      <td>AUS</td>\n",
       "      <td>Australia</td>\n",
       "      <td>3.1731</td>\n",
       "      <td>http://linked.data.gov.au/dataset/asgsed3/POA/...</td>\n",
       "      <td>0.081893</td>\n",
       "      <td>0.000264</td>\n",
       "      <td>POLYGON ((130.83681 -12.45376, 130.83684 -12.4...</td>\n",
       "    </tr>\n",
       "    <tr>\n",
       "      <th>1</th>\n",
       "      <td>0810</td>\n",
       "      <td>0810</td>\n",
       "      <td>AUS</td>\n",
       "      <td>Australia</td>\n",
       "      <td>24.4283</td>\n",
       "      <td>http://linked.data.gov.au/dataset/asgsed3/POA/...</td>\n",
       "      <td>0.241859</td>\n",
       "      <td>0.002031</td>\n",
       "      <td>POLYGON ((130.89986 -12.36567, 130.89875 -12.3...</td>\n",
       "    </tr>\n",
       "    <tr>\n",
       "      <th>2</th>\n",
       "      <td>0812</td>\n",
       "      <td>0812</td>\n",
       "      <td>AUS</td>\n",
       "      <td>Australia</td>\n",
       "      <td>35.8899</td>\n",
       "      <td>http://linked.data.gov.au/dataset/asgsed3/POA/...</td>\n",
       "      <td>0.278788</td>\n",
       "      <td>0.002983</td>\n",
       "      <td>POLYGON ((130.91915 -12.40786, 130.91831 -12.4...</td>\n",
       "    </tr>\n",
       "    <tr>\n",
       "      <th>3</th>\n",
       "      <td>0820</td>\n",
       "      <td>0820</td>\n",
       "      <td>AUS</td>\n",
       "      <td>Australia</td>\n",
       "      <td>39.0642</td>\n",
       "      <td>http://linked.data.gov.au/dataset/asgsed3/POA/...</td>\n",
       "      <td>0.409134</td>\n",
       "      <td>0.003248</td>\n",
       "      <td>POLYGON ((130.85260 -12.43994, 130.85089 -12.4...</td>\n",
       "    </tr>\n",
       "    <tr>\n",
       "      <th>4</th>\n",
       "      <td>0822</td>\n",
       "      <td>0822</td>\n",
       "      <td>AUS</td>\n",
       "      <td>Australia</td>\n",
       "      <td>150775.8030</td>\n",
       "      <td>http://linked.data.gov.au/dataset/asgsed3/POA/...</td>\n",
       "      <td>90.601831</td>\n",
       "      <td>12.564238</td>\n",
       "      <td>MULTIPOLYGON (((136.56648 -12.08392, 136.56704...</td>\n",
       "    </tr>\n",
       "  </tbody>\n",
       "</table>\n",
       "</div>"
      ],
      "text/plain": [
       "  POA_CODE21 POA_NAME21 AUS_CODE21 AUS_NAME21   AREASQKM21  \\\n",
       "0       0800       0800        AUS  Australia       3.1731   \n",
       "1       0810       0810        AUS  Australia      24.4283   \n",
       "2       0812       0812        AUS  Australia      35.8899   \n",
       "3       0820       0820        AUS  Australia      39.0642   \n",
       "4       0822       0822        AUS  Australia  150775.8030   \n",
       "\n",
       "                                          LOCI_URI21  SHAPE_Leng  SHAPE_Area  \\\n",
       "0  http://linked.data.gov.au/dataset/asgsed3/POA/...    0.081893    0.000264   \n",
       "1  http://linked.data.gov.au/dataset/asgsed3/POA/...    0.241859    0.002031   \n",
       "2  http://linked.data.gov.au/dataset/asgsed3/POA/...    0.278788    0.002983   \n",
       "3  http://linked.data.gov.au/dataset/asgsed3/POA/...    0.409134    0.003248   \n",
       "4  http://linked.data.gov.au/dataset/asgsed3/POA/...   90.601831   12.564238   \n",
       "\n",
       "                                            geometry  \n",
       "0  POLYGON ((130.83681 -12.45376, 130.83684 -12.4...  \n",
       "1  POLYGON ((130.89986 -12.36567, 130.89875 -12.3...  \n",
       "2  POLYGON ((130.91915 -12.40786, 130.91831 -12.4...  \n",
       "3  POLYGON ((130.85260 -12.43994, 130.85089 -12.4...  \n",
       "4  MULTIPOLYGON (((136.56648 -12.08392, 136.56704...  "
      ]
     },
     "execution_count": 41,
     "metadata": {},
     "output_type": "execute_result"
    }
   ],
   "source": [
    "poa_sf.head()"
   ]
  },
  {
   "cell_type": "code",
   "execution_count": 42,
   "metadata": {},
   "outputs": [
    {
     "data": {
      "text/plain": [
       "'http://linked.data.gov.au/dataset/asgsed3/POA/0800'"
      ]
     },
     "execution_count": 42,
     "metadata": {},
     "output_type": "execute_result"
    }
   ],
   "source": [
    "poa_sf['LOCI_URI21'][0]"
   ]
  },
  {
   "cell_type": "code",
   "execution_count": 43,
   "metadata": {},
   "outputs": [],
   "source": [
    "url = 'http://linked.data.gov.au/dataset/asgsed3/POA/'"
   ]
  },
  {
   "cell_type": "code",
   "execution_count": 57,
   "metadata": {},
   "outputs": [],
   "source": [
    "def merge_code_and_link(code, link):\n",
    "    code_string = str(code)\n",
    "    return link + code_string"
   ]
  },
  {
   "cell_type": "code",
   "execution_count": 62,
   "metadata": {},
   "outputs": [],
   "source": [
    "def get_geo_info(link):\n",
    "    req = requests.get(link, headers={'accept': 'application/geo+json'})\n",
    "    res_json = json.loads(req.text)\n",
    "    try:\n",
    "        geo = res_json['geometry']\n",
    "    except Exception:\n",
    "        return None\n",
    "    return shape(geo)"
   ]
  },
  {
   "cell_type": "code",
   "execution_count": 58,
   "metadata": {},
   "outputs": [],
   "source": [
    "def request_data(dataframe, link):\n",
    "    new_df = dataframe.copy()\n",
    "    for i in new_df.index:\n",
    "        pos_url = merge_code_and_link(new_df['postcode'][i], link)\n",
    "        new_df.loc[i, 'pos_url'] = pos_url\n",
    "    return new_df"
   ]
  },
  {
   "cell_type": "code",
   "execution_count": 59,
   "metadata": {},
   "outputs": [],
   "source": [
    "new_df = request_data(null_pos, url)"
   ]
  },
  {
   "cell_type": "code",
   "execution_count": 60,
   "metadata": {},
   "outputs": [
    {
     "data": {
      "text/html": [
       "<div>\n",
       "<style scoped>\n",
       "    .dataframe tbody tr th:only-of-type {\n",
       "        vertical-align: middle;\n",
       "    }\n",
       "\n",
       "    .dataframe tbody tr th {\n",
       "        vertical-align: top;\n",
       "    }\n",
       "\n",
       "    .dataframe thead th {\n",
       "        text-align: right;\n",
       "    }\n",
       "</style>\n",
       "<table border=\"1\" class=\"dataframe\">\n",
       "  <thead>\n",
       "    <tr style=\"text-align: right;\">\n",
       "      <th></th>\n",
       "      <th>index</th>\n",
       "      <th>consumer_id</th>\n",
       "      <th>name</th>\n",
       "      <th>address</th>\n",
       "      <th>state</th>\n",
       "      <th>postcode</th>\n",
       "      <th>gender</th>\n",
       "      <th>user_id</th>\n",
       "      <th>place_name</th>\n",
       "      <th>state_name</th>\n",
       "      <th>state_code</th>\n",
       "      <th>latitude</th>\n",
       "      <th>longitude</th>\n",
       "      <th>accuracy</th>\n",
       "      <th>SA2_CODE21</th>\n",
       "      <th>geometry</th>\n",
       "      <th>centroid</th>\n",
       "      <th>pos_url</th>\n",
       "    </tr>\n",
       "  </thead>\n",
       "  <tbody>\n",
       "    <tr>\n",
       "      <th>0</th>\n",
       "      <td>140</td>\n",
       "      <td>751248</td>\n",
       "      <td>James Donovan</td>\n",
       "      <td>455 Trevino Ports Apt. 032</td>\n",
       "      <td>WA</td>\n",
       "      <td>6435</td>\n",
       "      <td>Undisclosed</td>\n",
       "      <td>141</td>\n",
       "      <td>NaN</td>\n",
       "      <td>NaN</td>\n",
       "      <td>NaN</td>\n",
       "      <td>NaN</td>\n",
       "      <td>NaN</td>\n",
       "      <td>NaN</td>\n",
       "      <td>NaN</td>\n",
       "      <td>None</td>\n",
       "      <td>NaN</td>\n",
       "      <td>http://linked.data.gov.au/dataset/asgsed3/POA/...</td>\n",
       "    </tr>\n",
       "    <tr>\n",
       "      <th>1</th>\n",
       "      <td>192</td>\n",
       "      <td>1010604</td>\n",
       "      <td>Eric Glover</td>\n",
       "      <td>27850 Charles Stream Suite 645</td>\n",
       "      <td>QLD</td>\n",
       "      <td>4314</td>\n",
       "      <td>Male</td>\n",
       "      <td>193</td>\n",
       "      <td>NaN</td>\n",
       "      <td>NaN</td>\n",
       "      <td>NaN</td>\n",
       "      <td>NaN</td>\n",
       "      <td>NaN</td>\n",
       "      <td>NaN</td>\n",
       "      <td>NaN</td>\n",
       "      <td>None</td>\n",
       "      <td>NaN</td>\n",
       "      <td>http://linked.data.gov.au/dataset/asgsed3/POA/...</td>\n",
       "    </tr>\n",
       "    <tr>\n",
       "      <th>2</th>\n",
       "      <td>879</td>\n",
       "      <td>474979</td>\n",
       "      <td>Ashley Adams</td>\n",
       "      <td>507 Smith Islands</td>\n",
       "      <td>SA</td>\n",
       "      <td>5717</td>\n",
       "      <td>Female</td>\n",
       "      <td>880</td>\n",
       "      <td>NaN</td>\n",
       "      <td>NaN</td>\n",
       "      <td>NaN</td>\n",
       "      <td>NaN</td>\n",
       "      <td>NaN</td>\n",
       "      <td>NaN</td>\n",
       "      <td>NaN</td>\n",
       "      <td>None</td>\n",
       "      <td>NaN</td>\n",
       "      <td>http://linked.data.gov.au/dataset/asgsed3/POA/...</td>\n",
       "    </tr>\n",
       "    <tr>\n",
       "      <th>3</th>\n",
       "      <td>1461</td>\n",
       "      <td>1258545</td>\n",
       "      <td>Katrina Rodriguez</td>\n",
       "      <td>9530 Jamie Trace Suite 775</td>\n",
       "      <td>NSW</td>\n",
       "      <td>1441</td>\n",
       "      <td>Female</td>\n",
       "      <td>1462</td>\n",
       "      <td>NaN</td>\n",
       "      <td>NaN</td>\n",
       "      <td>NaN</td>\n",
       "      <td>NaN</td>\n",
       "      <td>NaN</td>\n",
       "      <td>NaN</td>\n",
       "      <td>NaN</td>\n",
       "      <td>None</td>\n",
       "      <td>NaN</td>\n",
       "      <td>http://linked.data.gov.au/dataset/asgsed3/POA/...</td>\n",
       "    </tr>\n",
       "    <tr>\n",
       "      <th>4</th>\n",
       "      <td>1548</td>\n",
       "      <td>31376</td>\n",
       "      <td>Brandy Russell</td>\n",
       "      <td>88973 Anthony Roads Apt. 529</td>\n",
       "      <td>NT</td>\n",
       "      <td>874</td>\n",
       "      <td>Female</td>\n",
       "      <td>1549</td>\n",
       "      <td>NaN</td>\n",
       "      <td>NaN</td>\n",
       "      <td>NaN</td>\n",
       "      <td>NaN</td>\n",
       "      <td>NaN</td>\n",
       "      <td>NaN</td>\n",
       "      <td>NaN</td>\n",
       "      <td>None</td>\n",
       "      <td>NaN</td>\n",
       "      <td>http://linked.data.gov.au/dataset/asgsed3/POA/874</td>\n",
       "    </tr>\n",
       "  </tbody>\n",
       "</table>\n",
       "</div>"
      ],
      "text/plain": [
       "   index consumer_id               name                         address state  \\\n",
       "0    140      751248      James Donovan      455 Trevino Ports Apt. 032    WA   \n",
       "1    192     1010604        Eric Glover  27850 Charles Stream Suite 645   QLD   \n",
       "2    879      474979       Ashley Adams               507 Smith Islands    SA   \n",
       "3   1461     1258545  Katrina Rodriguez      9530 Jamie Trace Suite 775   NSW   \n",
       "4   1548       31376     Brandy Russell    88973 Anthony Roads Apt. 529    NT   \n",
       "\n",
       "   postcode       gender  user_id place_name state_name state_code  latitude  \\\n",
       "0      6435  Undisclosed      141        NaN        NaN        NaN       NaN   \n",
       "1      4314         Male      193        NaN        NaN        NaN       NaN   \n",
       "2      5717       Female      880        NaN        NaN        NaN       NaN   \n",
       "3      1441       Female     1462        NaN        NaN        NaN       NaN   \n",
       "4       874       Female     1549        NaN        NaN        NaN       NaN   \n",
       "\n",
       "   longitude  accuracy  SA2_CODE21 geometry centroid  \\\n",
       "0        NaN       NaN         NaN     None      NaN   \n",
       "1        NaN       NaN         NaN     None      NaN   \n",
       "2        NaN       NaN         NaN     None      NaN   \n",
       "3        NaN       NaN         NaN     None      NaN   \n",
       "4        NaN       NaN         NaN     None      NaN   \n",
       "\n",
       "                                             pos_url  \n",
       "0  http://linked.data.gov.au/dataset/asgsed3/POA/...  \n",
       "1  http://linked.data.gov.au/dataset/asgsed3/POA/...  \n",
       "2  http://linked.data.gov.au/dataset/asgsed3/POA/...  \n",
       "3  http://linked.data.gov.au/dataset/asgsed3/POA/...  \n",
       "4  http://linked.data.gov.au/dataset/asgsed3/POA/874  "
      ]
     },
     "execution_count": 60,
     "metadata": {},
     "output_type": "execute_result"
    }
   ],
   "source": [
    "new_df.head()"
   ]
  },
  {
   "cell_type": "code",
   "execution_count": 88,
   "metadata": {},
   "outputs": [],
   "source": [
    "geo = new_df.pos_url.apply(lambda x: get_geo_info(x))"
   ]
  },
  {
   "cell_type": "code",
   "execution_count": 92,
   "metadata": {},
   "outputs": [],
   "source": [
    "gdf = gpd.GeoDataFrame(data=new_df[['state', 'postcode']], geometry=geo, crs=4329)"
   ]
  },
  {
   "cell_type": "code",
   "execution_count": 96,
   "metadata": {},
   "outputs": [
    {
     "data": {
      "text/plain": [
       "state         object\n",
       "postcode       int64\n",
       "geometry    geometry\n",
       "dtype: object"
      ]
     },
     "execution_count": 96,
     "metadata": {},
     "output_type": "execute_result"
    }
   ],
   "source": [
    "gdf.dtypes"
   ]
  },
  {
   "cell_type": "code",
   "execution_count": 99,
   "metadata": {},
   "outputs": [
    {
     "ename": "AttributeError",
     "evalue": "'NoneType' object has no attribute 'apply'",
     "output_type": "error",
     "traceback": [
      "\u001b[0;31m---------------------------------------------------------------------------\u001b[0m",
      "\u001b[0;31mAttributeError\u001b[0m                            Traceback (most recent call last)",
      "\u001b[0;32m/var/folders/px/8f9gkhvs7wnf17_m27m6s_fc0000gn/T/ipykernel_19384/2827474430.py\u001b[0m in \u001b[0;36m<module>\u001b[0;34m\u001b[0m\n\u001b[1;32m      1\u001b[0m \u001b[0;32mfor\u001b[0m \u001b[0mi\u001b[0m \u001b[0;32min\u001b[0m \u001b[0mgdf\u001b[0m\u001b[0;34m.\u001b[0m\u001b[0mindex\u001b[0m\u001b[0;34m:\u001b[0m\u001b[0;34m\u001b[0m\u001b[0;34m\u001b[0m\u001b[0m\n\u001b[1;32m      2\u001b[0m     \u001b[0;32mif\u001b[0m \u001b[0mgdf\u001b[0m\u001b[0;34m.\u001b[0m\u001b[0mloc\u001b[0m\u001b[0;34m[\u001b[0m\u001b[0mi\u001b[0m\u001b[0;34m,\u001b[0m \u001b[0;34m'geometry'\u001b[0m\u001b[0;34m]\u001b[0m \u001b[0;32mis\u001b[0m \u001b[0;32mnot\u001b[0m \u001b[0;34m'None'\u001b[0m\u001b[0;34m:\u001b[0m\u001b[0;34m\u001b[0m\u001b[0;34m\u001b[0m\u001b[0m\n\u001b[0;32m----> 3\u001b[0;31m         \u001b[0mgdf\u001b[0m\u001b[0;34m.\u001b[0m\u001b[0mloc\u001b[0m\u001b[0;34m[\u001b[0m\u001b[0mi\u001b[0m\u001b[0;34m,\u001b[0m \u001b[0;34m'centroid'\u001b[0m\u001b[0;34m]\u001b[0m \u001b[0;34m=\u001b[0m \u001b[0mgdf\u001b[0m\u001b[0;34m.\u001b[0m\u001b[0mloc\u001b[0m\u001b[0;34m[\u001b[0m\u001b[0mi\u001b[0m\u001b[0;34m,\u001b[0m \u001b[0;34m'geometry'\u001b[0m\u001b[0;34m]\u001b[0m\u001b[0;34m.\u001b[0m\u001b[0mapply\u001b[0m\u001b[0;34m(\u001b[0m\u001b[0;32mlambda\u001b[0m \u001b[0mx\u001b[0m\u001b[0;34m:\u001b[0m \u001b[0;34m(\u001b[0m\u001b[0mx\u001b[0m\u001b[0;34m.\u001b[0m\u001b[0mcentroid\u001b[0m\u001b[0;34m.\u001b[0m\u001b[0my\u001b[0m\u001b[0;34m,\u001b[0m \u001b[0mx\u001b[0m\u001b[0;34m.\u001b[0m\u001b[0mcentroid\u001b[0m\u001b[0;34m.\u001b[0m\u001b[0mx\u001b[0m\u001b[0;34m)\u001b[0m\u001b[0;34m)\u001b[0m\u001b[0;34m\u001b[0m\u001b[0;34m\u001b[0m\u001b[0m\n\u001b[0m",
      "\u001b[0;31mAttributeError\u001b[0m: 'NoneType' object has no attribute 'apply'"
     ]
    }
   ],
   "source": [
    "# for i in gdf.index:\n",
    "#     if gdf.loc[i, 'geometry'] is not 'None':\n",
    "#         gdf.loc[i, 'centroid'] = gdf.loc[i, 'geometry'].apply(lambda x: (x.centroid.y, x.centroid.x)) "
   ]
  }
 ],
 "metadata": {
  "kernelspec": {
   "display_name": "Python 3.7.9 64-bit",
   "language": "python",
   "name": "python3"
  },
  "language_info": {
   "codemirror_mode": {
    "name": "ipython",
    "version": 3
   },
   "file_extension": ".py",
   "mimetype": "text/x-python",
   "name": "python",
   "nbconvert_exporter": "python",
   "pygments_lexer": "ipython3",
   "version": "3.7.9"
  },
  "orig_nbformat": 4,
  "vscode": {
   "interpreter": {
    "hash": "aee8b7b246df8f9039afb4144a1f6fd8d2ca17a180786b69acc140d282b71a49"
   }
  }
 },
 "nbformat": 4,
 "nbformat_minor": 2
}
