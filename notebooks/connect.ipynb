{
 "cells": [
  {
   "cell_type": "code",
   "execution_count": 13,
   "metadata": {},
   "outputs": [],
   "source": [
    "import sys\n",
    "sys.path.append('../scripts/')\n",
    "from utility import read_file, create_folder, temp_record_query, temp_record_sdf"
   ]
  },
  {
   "cell_type": "code",
   "execution_count": 14,
   "metadata": {},
   "outputs": [],
   "source": [
    "from pyspark.sql import SparkSession"
   ]
  },
  {
   "cell_type": "code",
   "execution_count": 15,
   "metadata": {},
   "outputs": [],
   "source": [
    "spark = (\n",
    "    # Create a spark session (which will run spark jobs)\n",
    "    SparkSession.builder.appName(\"Project 2\")\n",
    "    .config(\"spark.sql.repl.eagerEval.enabled\", True) \n",
    "    .config(\"spark.sql.parquet.cacheMetadata\", \"true\")\n",
    "    .config('spark.executor.memory','10g')\n",
    "    .config('spark.driver.memory','12g')\n",
    "    .config('spark.driver.maxResultsSize', '10GiB')\n",
    "    # .config(\"spark.network.timeout\", \"3600s\")\n",
    "    # .master(\"local[6]\")\n",
    "    .getOrCreate()\n",
    "    )"
   ]
  },
  {
   "cell_type": "markdown",
   "metadata": {},
   "source": [
    "### 1. Connect Transactions and Merchants AS `sdf`"
   ]
  },
  {
   "cell_type": "code",
   "execution_count": 16,
   "metadata": {},
   "outputs": [
    {
     "name": "stdout",
     "output_type": "stream",
     "text": [
      "================ Transactions ================\n",
      "|> Loading File...\n",
      "|> Loading Finished!\n",
      "-RECORD 0----------------------------------------------\n",
      " user_id        | 14935                                \n",
      " merchant_abn   | 79417999332                          \n",
      " dollar_value   | 136.06570809815838                   \n",
      " order_id       | 23acbb7b-cf98-4580-9775-86b8e0a2bd88 \n",
      " order_datetime | 2021-11-26                           \n",
      "only showing top 1 row\n",
      "\n"
     ]
    },
    {
     "name": "stderr",
     "output_type": "stream",
     "text": [
      "                                                                                \r"
     ]
    },
    {
     "name": "stdout",
     "output_type": "stream",
     "text": [
      "There are 4508106 data, and 4508106 of them have no null value.\n"
     ]
    }
   ],
   "source": [
    "print(\"================ Transactions ================\")\n",
    "# transactions_sdf = read_file(spark, 'transactions_20210228_20210827_snapshot')\n",
    "transactions_sdf = read_file(spark, 'transactions_20210828_20220227_snapshot')\n",
    "# transactions_sdf = read_file(spark, 'transactions_20220228_20220828_snapshot')\n",
    "temp = transactions_sdf.dropna(how='any').count()\n",
    "print( f'There are {transactions_sdf.count()} data, and {temp} of them have no null value.')"
   ]
  },
  {
   "cell_type": "code",
   "execution_count": 17,
   "metadata": {},
   "outputs": [
    {
     "name": "stdout",
     "output_type": "stream",
     "text": [
      "================ Merchant ================\n",
      "|> Loading File...\n",
      "|> Loading Finished!\n",
      "-RECORD 0-----------------------------\n",
      " merchant_name | Felis Limited        \n",
      " tags          | furniture, home f... \n",
      " merchant_abn  | 10023283211          \n",
      " take_rate     | 0.18                 \n",
      " type          | e                    \n",
      "only showing top 1 row\n",
      "\n",
      "There are 4026 data, and 4026 of them have no null value.\n"
     ]
    }
   ],
   "source": [
    "print(\"================ Merchant ================\")\n",
    "merchants_sdf = read_file(spark, 'merchants_data.parquet', '../data/curated/', truncate=20)\n",
    "temp = merchants_sdf.dropna(how='any').count()\n",
    "print( f'There are {merchants_sdf.count()} data, and {temp} of them have no null value.')"
   ]
  },
  {
   "cell_type": "markdown",
   "metadata": {},
   "source": [
    "- Known that Transactions and Merchants table have no null value"
   ]
  },
  {
   "cell_type": "code",
   "execution_count": 18,
   "metadata": {},
   "outputs": [
    {
     "name": "stdout",
     "output_type": "stream",
     "text": [
      "There are 4508106 data, and 4323692 of them have no null value.\n"
     ]
    }
   ],
   "source": [
    "sdf = transactions_sdf.join(merchants_sdf, how='left', on='merchant_abn')\n",
    "temp = sdf.dropna(how='any', subset=['merchant_name']).count()\n",
    "print( f'There are {sdf.count()} data, and {temp} of them have no null value.')"
   ]
  },
  {
   "cell_type": "markdown",
   "metadata": {},
   "source": [
    "- After connect the Transactions and Merchants Table by `merchant_abn`, we find that some Transactions not from the merchants in the table. Because they are not in our list of rank therefore, delete those null value."
   ]
  },
  {
   "cell_type": "code",
   "execution_count": 19,
   "metadata": {},
   "outputs": [],
   "source": [
    "# sdf = sdf.dropna(how='any', subset=['merchant_name'])"
   ]
  },
  {
   "cell_type": "markdown",
   "metadata": {},
   "source": [
    "- There are 4026 merchants, and for `transactions_20210228_20210827_snapshot` have 3643266 records. \n",
    "\n",
    "    After combination, there are **3494038** rest. **3643266 - 3494038 = 149228** records has been deleted. \n",
    "    \n",
    "    `149228 / 3643266 = 0.04095995186736297`"
   ]
  },
  {
   "cell_type": "code",
   "execution_count": 20,
   "metadata": {},
   "outputs": [
    {
     "name": "stdout",
     "output_type": "stream",
     "text": [
      "+------------+-------+------------------+--------------------+--------------+--------------------+--------------------+---------+----+\n",
      "|merchant_abn|user_id|      dollar_value|            order_id|order_datetime|       merchant_name|                tags|take_rate|type|\n",
      "+------------+-------+------------------+--------------------+--------------+--------------------+--------------------+---------+----+\n",
      "| 79417999332|  14935|136.06570809815838|23acbb7b-cf98-458...|    2021-11-26|Phasellus At Company|gift, card, novel...|     4.95|   b|\n",
      "| 46451548968|      1| 72.61581642788431|76bab304-fa2d-400...|    2021-11-26|Tempus Eu Ligula ...|health and beauty...|     6.04|   a|\n",
      "| 89518629617|  14936|3.0783487174439297|a2ae446a-2959-41c...|    2021-11-26|Vulputate Velit E...|tent and awning s...|     3.09|   c|\n",
      "| 49167531725|      1| 51.58228625503599|7080c274-17f7-4cc...|    2021-11-26|     Felis Institute|digital goods: bo...|     6.42|   a|\n",
      "| 31101120643|  14936|25.228114942417797|8e301c0f-06ab-45c...|    2021-11-26|Commodo Hendrerit...|cable, satellite,...|     6.37|   a|\n",
      "+------------+-------+------------------+--------------------+--------------+--------------------+--------------------+---------+----+\n",
      "only showing top 5 rows\n",
      "\n"
     ]
    }
   ],
   "source": [
    "sdf.show(5)"
   ]
  },
  {
   "cell_type": "markdown",
   "metadata": {},
   "source": [
    "### 2. `sdf` join with Customer"
   ]
  },
  {
   "cell_type": "code",
   "execution_count": 21,
   "metadata": {},
   "outputs": [
    {
     "name": "stdout",
     "output_type": "stream",
     "text": [
      "================ Customer ================\n",
      "|> Loading File...\n",
      "|> Loading Finished!\n",
      "-RECORD 0---------------------------------\n",
      " consumer_id | 680810                     \n",
      " name        | Courtney Mendez            \n",
      " address     | 802 Knapp Harbors Apt. 769 \n",
      " state       | QLD                        \n",
      " postcode    | 9013                       \n",
      " gender      | Female                     \n",
      " user_id     | 71144                      \n",
      "only showing top 1 row\n",
      "\n",
      "There are 499999 data, and 499999 of them have no null value.\n"
     ]
    }
   ],
   "source": [
    "print(\"================ Customer ================\")\n",
    "customer_sdf = read_file(spark, 'new_consumer_data.parquet', '../data/curated/')\n",
    "temp = customer_sdf.dropna(how='any').count()\n",
    "print( f'There are {customer_sdf.count()} data, and {temp} of them have no null value.')"
   ]
  },
  {
   "cell_type": "code",
   "execution_count": 22,
   "metadata": {},
   "outputs": [
    {
     "name": "stdout",
     "output_type": "stream",
     "text": [
      "There are 4508106 data, and 4508106 of them have no null value.\n"
     ]
    }
   ],
   "source": [
    "sdf = sdf.join(customer_sdf, how='left', on='user_id')\n",
    "temp = sdf.dropna(how='any', subset=['consumer_id']).count()\n",
    "print( f'There are {sdf.count()} data, and {temp} of them have no null value.')"
   ]
  },
  {
   "cell_type": "code",
   "execution_count": 23,
   "metadata": {},
   "outputs": [
    {
     "name": "stderr",
     "output_type": "stream",
     "text": [
      "[Stage 96:=====================>                                    (3 + 5) / 8]\r"
     ]
    },
    {
     "name": "stdout",
     "output_type": "stream",
     "text": [
      "+-------+------------+------------------+--------------------+--------------+--------------------+--------------------+---------+----+-----------+---------------+--------------------+-----+--------+------+\n",
      "|user_id|merchant_abn|      dollar_value|            order_id|order_datetime|       merchant_name|                tags|take_rate|type|consumer_id|           name|             address|state|postcode|gender|\n",
      "+-------+------------+------------------+--------------------+--------------+--------------------+--------------------+---------+----+-----------+---------------+--------------------+-----+--------+------+\n",
      "|  14935| 79417999332|136.06570809815838|23acbb7b-cf98-458...|    2021-11-26|Phasellus At Company|gift, card, novel...|     4.95|   b|    1059280|  Cameron Adams|0280 Carpenter Lodge|  QLD|    4563|  Male|\n",
      "|  14935| 72472909171|52.973387548612614|01d968a6-dde1-48c...|    2021-12-01|   Nullam Consulting|digital goods: bo...|     6.33|   a|    1059280|  Cameron Adams|0280 Carpenter Lodge|  QLD|    4563|  Male|\n",
      "|  14935| 81219314324|57.278048696966124|5300ac4f-8b9f-451...|    2021-09-09|    Faucibus Leo Ltd|gift, card, novel...|     6.35|   a|    1059280|  Cameron Adams|0280 Carpenter Lodge|  QLD|    4563|  Male|\n",
      "|  14939| 32234779638|   79.831028187241|c5a256f9-5a1b-41a...|    2021-12-21|                null|                null|     null|null|     764252|Cassandra Myers|910 Payne Heights...|  VIC|    3885|Female|\n",
      "|  14939| 97903083009| 150.2863343649252|8de5b62a-c9df-47a...|    2021-10-14| Praesent Eu Dui LLP|stationery, offic...|      5.7|   a|     764252|Cassandra Myers|910 Payne Heights...|  VIC|    3885|Female|\n",
      "+-------+------------+------------------+--------------------+--------------+--------------------+--------------------+---------+----+-----------+---------------+--------------------+-----+--------+------+\n",
      "only showing top 5 rows\n",
      "\n"
     ]
    },
    {
     "name": "stderr",
     "output_type": "stream",
     "text": [
      "                                                                                \r"
     ]
    }
   ],
   "source": [
    "sdf.show(5)"
   ]
  },
  {
   "cell_type": "markdown",
   "metadata": {},
   "source": [
    "### 3. `sdf` join with the external dataset  --- rrm"
   ]
  },
  {
   "cell_type": "code",
   "execution_count": 24,
   "metadata": {},
   "outputs": [
    {
     "name": "stdout",
     "output_type": "stream",
     "text": [
      "================ RRM_External ================\n",
      "|> Loading File...\n",
      "|> Loading Finished!\n",
      "-RECORD 0----------\n",
      " Date | 2020-02-21 \n",
      " AUS  | 1          \n",
      " NSW  | 1          \n",
      " VIC  | 1          \n",
      " QLD  | -1         \n",
      " SA   | 2          \n",
      " WA   | 2          \n",
      " TAS  | -1         \n",
      " NT   | 4          \n",
      " ACT  | 4          \n",
      "only showing top 1 row\n",
      "\n",
      "There are 761 data, and 761 of them have no null value.\n"
     ]
    }
   ],
   "source": [
    "print(\"================ RRM_External ================\")\n",
    "rrm_sdf = read_file(spark, 'external_rrm.parquet', '../data/curated/', truncate=20)\n",
    "temp = rrm_sdf.dropna(how='any').count()\n",
    "print( f'There are {rrm_sdf.count()} data, and {temp} of them have no null value.')"
   ]
  },
  {
   "cell_type": "code",
   "execution_count": 25,
   "metadata": {},
   "outputs": [
    {
     "name": "stdout",
     "output_type": "stream",
     "text": [
      "There are 4508106 data, and 4508106 of them have no null value.\n"
     ]
    },
    {
     "name": "stderr",
     "output_type": "stream",
     "text": [
      "                                                                                \r"
     ]
    }
   ],
   "source": [
    "sdf = sdf.join(rrm_sdf, sdf.order_datetime == rrm_sdf.Date, 'left')\n",
    "temp = sdf.dropna(how='any', subset=['Date']).count()\n",
    "print( f'There are {sdf.count()} data, and {temp} of them have no null value.')"
   ]
  },
  {
   "cell_type": "code",
   "execution_count": 26,
   "metadata": {},
   "outputs": [
    {
     "name": "stdout",
     "output_type": "stream",
     "text": [
      "+-------+------------+------------------+--------------------+--------------+--------------------+--------------------+---------+----+-----------+---------------+--------------------+-----+--------+------+----------+---+---+---+---+---+---+---+---+---+\n",
      "|user_id|merchant_abn|      dollar_value|            order_id|order_datetime|       merchant_name|                tags|take_rate|type|consumer_id|           name|             address|state|postcode|gender|      Date|AUS|NSW|VIC|QLD| SA| WA|TAS| NT|ACT|\n",
      "+-------+------------+------------------+--------------------+--------------+--------------------+--------------------+---------+----+-----------+---------------+--------------------+-----+--------+------+----------+---+---+---+---+---+---+---+---+---+\n",
      "|  14935| 79417999332|136.06570809815838|23acbb7b-cf98-458...|    2021-11-26|Phasellus At Company|gift, card, novel...|     4.95|   b|    1059280|  Cameron Adams|0280 Carpenter Lodge|  QLD|    4563|  Male|2021-11-26| -1|-10| -9|  5|  8| 16|  7| 14|  2|\n",
      "|  14935| 72472909171|52.973387548612614|01d968a6-dde1-48c...|    2021-12-01|   Nullam Consulting|digital goods: bo...|     6.33|   a|    1059280|  Cameron Adams|0280 Carpenter Lodge|  QLD|    4563|  Male|2021-12-01|  0| -7| -8|  6|  9| 17|  8| 18|  5|\n",
      "|  14935| 81219314324|57.278048696966124|5300ac4f-8b9f-451...|    2021-09-09|    Faucibus Leo Ltd|gift, card, novel...|     6.35|   a|    1059280|  Cameron Adams|0280 Carpenter Lodge|  QLD|    4563|  Male|2021-09-09|-23|-44|-43|  4|  3| 12| -2| 30|-51|\n",
      "|  14939| 32234779638|   79.831028187241|c5a256f9-5a1b-41a...|    2021-12-21|                null|                null|     null|null|     764252|Cassandra Myers|910 Payne Heights...|  VIC|    3885|Female|2021-12-21|  6| -3| -2| 13| 13| 23| 16| 17| 12|\n",
      "|  14939| 97903083009| 150.2863343649252|8de5b62a-c9df-47a...|    2021-10-14| Praesent Eu Dui LLP|stationery, offic...|      5.7|   a|     764252|Cassandra Myers|910 Payne Heights...|  VIC|    3885|Female|2021-10-14|-16|-28|-35|  2|  3| 12| -1| 21|-41|\n",
      "+-------+------------+------------------+--------------------+--------------+--------------------+--------------------+---------+----+-----------+---------------+--------------------+-----+--------+------+----------+---+---+---+---+---+---+---+---+---+\n",
      "only showing top 5 rows\n",
      "\n"
     ]
    }
   ],
   "source": [
    "sdf.show(5)"
   ]
  },
  {
   "cell_type": "code",
   "execution_count": 27,
   "metadata": {},
   "outputs": [],
   "source": [
    "sdf = sdf.drop('Date')"
   ]
  },
  {
   "cell_type": "markdown",
   "metadata": {},
   "source": [
    "- 处理 external table 的信息，只保留其所对应的洲的数值"
   ]
  },
  {
   "cell_type": "code",
   "execution_count": 28,
   "metadata": {},
   "outputs": [],
   "source": [
    "import pandas as pd"
   ]
  },
  {
   "cell_type": "code",
   "execution_count": 29,
   "metadata": {},
   "outputs": [
    {
     "name": "stderr",
     "output_type": "stream",
     "text": [
      "                                                                                \r"
     ]
    }
   ],
   "source": [
    "cols = ['state', 'AUS', 'NSW', 'VIC', 'QLD', 'SA', 'WA', 'TAS', 'NT', 'ACT']\n",
    "temp_df = sdf.select(['order_id'] + cols).toDF('order_id', 'state', 'AUS', 'NSW', 'VIC', 'QLD', 'SA', 'WA', 'TAS', 'NT', 'ACT')\n",
    "temp_df = pd.DataFrame(temp_df.collect(), columns=['order_id'] + cols)"
   ]
  },
  {
   "cell_type": "code",
   "execution_count": 30,
   "metadata": {},
   "outputs": [],
   "source": [
    "temp_df['target'] = temp_df.apply(lambda x: x[x['state']], axis=1)\n",
    "temp_df = temp_df.drop(cols, axis=1)"
   ]
  },
  {
   "cell_type": "code",
   "execution_count": 31,
   "metadata": {},
   "outputs": [
    {
     "name": "stdout",
     "output_type": "stream",
     "text": [
      "22/09/20 22:52:41 WARN TaskSetManager: Stage 133 contains a task of very large size (24542 KiB). The maximum recommended task size is 1000 KiB.\n"
     ]
    },
    {
     "name": "stderr",
     "output_type": "stream",
     "text": [
      "[Stage 133:>                                                        (0 + 1) / 1]\r"
     ]
    },
    {
     "name": "stdout",
     "output_type": "stream",
     "text": [
      "22/09/20 22:52:46 WARN PythonRunner: Detected deadlock while completing task 0.0 in stage 133 (TID 693): Attempting to kill Python Worker\n",
      "+--------------------+------+\n",
      "|            order_id|target|\n",
      "+--------------------+------+\n",
      "|23acbb7b-cf98-458...|     5|\n",
      "|76bab304-fa2d-400...|    16|\n",
      "|a2ae446a-2959-41c...|     8|\n",
      "|7080c274-17f7-4cc...|    16|\n",
      "|8e301c0f-06ab-45c...|     8|\n",
      "+--------------------+------+\n",
      "only showing top 5 rows\n",
      "\n"
     ]
    },
    {
     "name": "stderr",
     "output_type": "stream",
     "text": [
      "                                                                                \r"
     ]
    }
   ],
   "source": [
    "temp_sdf = spark.createDataFrame(temp_df)\n",
    "temp_sdf.show(5)"
   ]
  },
  {
   "cell_type": "code",
   "execution_count": 32,
   "metadata": {},
   "outputs": [],
   "source": [
    "sdf = sdf.join(temp_sdf, on='order_id', how='left')"
   ]
  },
  {
   "cell_type": "code",
   "execution_count": 33,
   "metadata": {},
   "outputs": [
    {
     "name": "stderr",
     "output_type": "stream",
     "text": [
      "[Stage 134:>  (1 + 7) / 8][Stage 135:>  (0 + 1) / 8][Stage 136:>  (0 + 0) / 1]8]\r"
     ]
    },
    {
     "name": "stdout",
     "output_type": "stream",
     "text": [
      "22/09/20 22:52:47 WARN TaskSetManager: Stage 135 contains a task of very large size (24542 KiB). The maximum recommended task size is 1000 KiB.\n"
     ]
    },
    {
     "name": "stderr",
     "output_type": "stream",
     "text": [
      "                                                                                \r"
     ]
    },
    {
     "name": "stdout",
     "output_type": "stream",
     "text": [
      "+--------------------+-------+------------+------------------+--------------+--------------------+--------------------+---------+----+-----------+----------------+--------------------+-----+--------+------+---+---+---+---+---+---+---+---+---+------+\n",
      "|            order_id|user_id|merchant_abn|      dollar_value|order_datetime|       merchant_name|                tags|take_rate|type|consumer_id|            name|             address|state|postcode|gender|AUS|NSW|VIC|QLD| SA| WA|TAS| NT|ACT|target|\n",
      "+--------------------+-------+------------+------------------+--------------+--------------------+--------------------+---------+----+-----------+----------------+--------------------+-----+--------+------+---+---+---+---+---+---+---+---+---+------+\n",
      "|01d968a6-dde1-48c...|  14935| 72472909171|52.973387548612614|    2021-12-01|   Nullam Consulting|digital goods: bo...|     6.33|   a|    1059280|   Cameron Adams|0280 Carpenter Lodge|  QLD|    4563|  Male|  0| -7| -8|  6|  9| 17|  8| 18|  5|     6|\n",
      "|a2ae446a-2959-41c...|  14936| 89518629617|3.0783487174439297|    2021-11-26|Vulputate Velit E...|tent and awning s...|     3.09|   c|     986886|     Maria Riley|416 Phillip View ...|   SA|    5157|Female| -1|-10| -9|  5|  8| 16|  7| 14|  2|     8|\n",
      "|c5a256f9-5a1b-41a...|  14939| 32234779638|   79.831028187241|    2021-12-21|                null|                null|     null|null|     764252| Cassandra Myers|910 Payne Heights...|  VIC|    3885|Female|  6| -3| -2| 13| 13| 23| 16| 17| 12|    -2|\n",
      "|097c78c6-1481-4e9...|      1| 64403598239| 48.19464772177598|    2021-12-21|Lobortis Ultrices...|music shops - mus...|     6.31|   a|    1195503|Yolanda Williams|413 Haney Gardens...|   WA|    6935|Female|  6| -3| -2| 13| 13| 23| 16| 17| 12|    23|\n",
      "|1dbb5f8f-b53e-494...|      1| 60978195146|31.370675467887526|    2021-12-21|Lobortis Tellus C...|          shoe shops|     1.44|   c|    1195503|Yolanda Williams|413 Haney Gardens...|   WA|    6935|Female|  6| -3| -2| 13| 13| 23| 16| 17| 12|    23|\n",
      "+--------------------+-------+------------+------------------+--------------+--------------------+--------------------+---------+----+-----------+----------------+--------------------+-----+--------+------+---+---+---+---+---+---+---+---+---+------+\n",
      "only showing top 5 rows\n",
      "\n"
     ]
    }
   ],
   "source": [
    "sdf.show(5)"
   ]
  },
  {
   "cell_type": "markdown",
   "metadata": {},
   "source": [
    "### 4. `sdf` join with the external dataset  --- ncd"
   ]
  },
  {
   "cell_type": "code",
   "execution_count": 34,
   "metadata": {},
   "outputs": [
    {
     "name": "stdout",
     "output_type": "stream",
     "text": [
      "================  ================\n",
      "|> Loading File...\n",
      "|> Loading Finished!\n",
      "-RECORD 0---------------------\n",
      " Date            | 2020-01-25 \n",
      " New cases / day | 4          \n",
      "only showing top 1 row\n",
      "\n",
      "There are 959 data, and 959 have no null value.\n"
     ]
    }
   ],
   "source": [
    "print(\"================  ================\")\n",
    "ncd_sdf = read_file(spark, 'external_ncd.parquet', '../data/curated/')\n",
    "temp = ncd_sdf.dropna(how='any').count()\n",
    "print( f'There are {ncd_sdf.count()} data, and {temp} have no null value.')"
   ]
  },
  {
   "cell_type": "code",
   "execution_count": 35,
   "metadata": {},
   "outputs": [
    {
     "name": "stdout",
     "output_type": "stream",
     "text": [
      "+----------+---------------+\n",
      "|      Date|New cases / day|\n",
      "+----------+---------------+\n",
      "|2020-01-25|              4|\n",
      "|2020-01-26|              0|\n",
      "|2020-01-27|              1|\n",
      "|2020-01-28|              0|\n",
      "|2020-01-29|              4|\n",
      "+----------+---------------+\n",
      "only showing top 5 rows\n",
      "\n"
     ]
    }
   ],
   "source": [
    "ncd_sdf.show(5)"
   ]
  },
  {
   "cell_type": "code",
   "execution_count": 36,
   "metadata": {},
   "outputs": [
    {
     "name": "stdout",
     "output_type": "stream",
     "text": [
      "22/09/20 22:53:01 WARN package: Truncated the string representation of a plan since it was too large. This behavior can be adjusted by setting 'spark.sql.debug.maxToStringFields'.\n"
     ]
    },
    {
     "name": "stderr",
     "output_type": "stream",
     "text": [
      "[Stage 161:>  (1 + 7) / 8][Stage 162:>  (0 + 1) / 8][Stage 163:>  (0 + 0) / 1]\r"
     ]
    },
    {
     "name": "stdout",
     "output_type": "stream",
     "text": [
      "22/09/20 22:53:02 WARN TaskSetManager: Stage 162 contains a task of very large size (24542 KiB). The maximum recommended task size is 1000 KiB.\n"
     ]
    },
    {
     "name": "stderr",
     "output_type": "stream",
     "text": [
      "                                                                                \r"
     ]
    },
    {
     "name": "stdout",
     "output_type": "stream",
     "text": [
      "+--------------------+-------+------------+------------------+--------------+--------------------+--------------------+---------+----+-----------+----------------+--------------------+-----+--------+------+---+---+---+---+---+---+---+---+---+------+----------+---------------+\n",
      "|            order_id|user_id|merchant_abn|      dollar_value|order_datetime|       merchant_name|                tags|take_rate|type|consumer_id|            name|             address|state|postcode|gender|AUS|NSW|VIC|QLD| SA| WA|TAS| NT|ACT|target|      Date|New cases / day|\n",
      "+--------------------+-------+------------+------------------+--------------+--------------------+--------------------+---------+----+-----------+----------------+--------------------+-----+--------+------+---+---+---+---+---+---+---+---+---+------+----------+---------------+\n",
      "|01d968a6-dde1-48c...|  14935| 72472909171|52.973387548612614|    2021-12-01|   Nullam Consulting|digital goods: bo...|     6.33|   a|    1059280|   Cameron Adams|0280 Carpenter Lodge|  QLD|    4563|  Male|  0| -7| -8|  6|  9| 17|  8| 18|  5|     6|2021-12-01|          1,418|\n",
      "|a2ae446a-2959-41c...|  14936| 89518629617|3.0783487174439297|    2021-11-26|Vulputate Velit E...|tent and awning s...|     3.09|   c|     986886|     Maria Riley|416 Phillip View ...|   SA|    5157|Female| -1|-10| -9|  5|  8| 16|  7| 14|  2|     8|2021-11-26|          1,621|\n",
      "|c5a256f9-5a1b-41a...|  14939| 32234779638|   79.831028187241|    2021-12-21|                null|                null|     null|null|     764252| Cassandra Myers|910 Payne Heights...|  VIC|    3885|Female|  6| -3| -2| 13| 13| 23| 16| 17| 12|    -2|2021-12-21|          4,522|\n",
      "|097c78c6-1481-4e9...|      1| 64403598239| 48.19464772177598|    2021-12-21|Lobortis Ultrices...|music shops - mus...|     6.31|   a|    1195503|Yolanda Williams|413 Haney Gardens...|   WA|    6935|Female|  6| -3| -2| 13| 13| 23| 16| 17| 12|    23|2021-12-21|          4,522|\n",
      "|1dbb5f8f-b53e-494...|      1| 60978195146|31.370675467887526|    2021-12-21|Lobortis Tellus C...|          shoe shops|     1.44|   c|    1195503|Yolanda Williams|413 Haney Gardens...|   WA|    6935|Female|  6| -3| -2| 13| 13| 23| 16| 17| 12|    23|2021-12-21|          4,522|\n",
      "+--------------------+-------+------------+------------------+--------------+--------------------+--------------------+---------+----+-----------+----------------+--------------------+-----+--------+------+---+---+---+---+---+---+---+---+---+------+----------+---------------+\n",
      "only showing top 5 rows\n",
      "\n"
     ]
    }
   ],
   "source": [
    "sdf = sdf.join(ncd_sdf, sdf.order_datetime == ncd_sdf.Date, 'left')\n",
    "sdf.show(5)"
   ]
  },
  {
   "cell_type": "code",
   "execution_count": 37,
   "metadata": {},
   "outputs": [
    {
     "name": "stdout",
     "output_type": "stream",
     "text": [
      "22/09/20 22:53:15 WARN TaskSetManager: Stage 180 contains a task of very large size (24542 KiB). The maximum recommended task size is 1000 KiB.\n"
     ]
    },
    {
     "name": "stderr",
     "output_type": "stream",
     "text": [
      "                                                                                \r"
     ]
    },
    {
     "name": "stdout",
     "output_type": "stream",
     "text": [
      "22/09/20 22:53:35 WARN TaskSetManager: Stage 193 contains a task of very large size (24542 KiB). The maximum recommended task size is 1000 KiB.\n"
     ]
    },
    {
     "name": "stderr",
     "output_type": "stream",
     "text": [
      "[Stage 201:============================================>            (7 + 2) / 9]\r"
     ]
    },
    {
     "name": "stdout",
     "output_type": "stream",
     "text": [
      "There are 4508106 data, and 4508106 have no null value.\n"
     ]
    },
    {
     "name": "stderr",
     "output_type": "stream",
     "text": [
      "                                                                                \r"
     ]
    }
   ],
   "source": [
    "temp = sdf.dropna(how='any', subset=['Date']).count()\n",
    "print( f'There are {sdf.count()} data, and {temp} have no null value.')"
   ]
  },
  {
   "cell_type": "code",
   "execution_count": 38,
   "metadata": {},
   "outputs": [],
   "source": [
    "sdf = sdf.drop('Date')"
   ]
  },
  {
   "cell_type": "code",
   "execution_count": 39,
   "metadata": {},
   "outputs": [],
   "source": [
    "# temp = sdf.to_pandas_on_spark()\n",
    "# temp[temp.Date.isna()]"
   ]
  },
  {
   "cell_type": "code",
   "execution_count": 40,
   "metadata": {},
   "outputs": [
    {
     "name": "stdout",
     "output_type": "stream",
     "text": [
      "|> Create Successfully!\n",
      "22/09/20 22:53:53 WARN TaskSetManager: Stage 208 contains a task of very large size (24542 KiB). The maximum recommended task size is 1000 KiB.\n"
     ]
    },
    {
     "name": "stderr",
     "output_type": "stream",
     "text": [
      "                                                                                \r"
     ]
    }
   ],
   "source": [
    "path = '../data/curated/data'\n",
    "if (create_folder(path)):\n",
    "    sdf.write.partitionBy('order_datetime').parquet(path, mode='append')\n",
    "else:\n",
    "    sdf.write.partitionBy('order_datetime').parquet(path, mode='overwrite')\n"
   ]
  },
  {
   "cell_type": "markdown",
   "metadata": {},
   "source": [
    "### 5. `sdf` join with the fraud datasets"
   ]
  }
 ],
 "metadata": {
  "kernelspec": {
   "display_name": "Python 3.7.9 64-bit",
   "language": "python",
   "name": "python3"
  },
  "language_info": {
   "codemirror_mode": {
    "name": "ipython",
    "version": 3
   },
   "file_extension": ".py",
   "mimetype": "text/x-python",
   "name": "python",
   "nbconvert_exporter": "python",
   "pygments_lexer": "ipython3",
   "version": "3.7.9"
  },
  "orig_nbformat": 4,
  "vscode": {
   "interpreter": {
    "hash": "aee8b7b246df8f9039afb4144a1f6fd8d2ca17a180786b69acc140d282b71a49"
   }
  }
 },
 "nbformat": 4,
 "nbformat_minor": 2
}
