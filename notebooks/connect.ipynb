{
 "cells": [
  {
   "cell_type": "code",
   "execution_count": 3,
   "metadata": {},
   "outputs": [],
   "source": [
    "import sys\n",
    "sys.path.append('../scripts/')\n",
    "from utility import read_file, create_folder, temp_record_query, temp_record_sdf"
   ]
  },
  {
   "cell_type": "code",
   "execution_count": 4,
   "metadata": {},
   "outputs": [],
   "source": [
    "from pyspark.sql import SparkSession\n",
    "import pyspark.sql.functions as F"
   ]
  },
  {
   "cell_type": "code",
   "execution_count": 5,
   "metadata": {},
   "outputs": [
    {
     "name": "stdout",
     "output_type": "stream",
     "text": [
      "22/10/01 23:11:19 WARN Utils: Your hostname, Runyus-MacBook-Pro.local resolves to a loopback address: 127.0.0.1; using 192.168.3.12 instead (on interface en0)\n",
      "22/10/01 23:11:19 WARN Utils: Set SPARK_LOCAL_IP if you need to bind to another address\n"
     ]
    },
    {
     "name": "stderr",
     "output_type": "stream",
     "text": [
      "Setting default log level to \"WARN\".\n",
      "To adjust logging level use sc.setLogLevel(newLevel). For SparkR, use setLogLevel(newLevel).\n"
     ]
    },
    {
     "name": "stdout",
     "output_type": "stream",
     "text": [
      "22/10/01 23:11:19 WARN NativeCodeLoader: Unable to load native-hadoop library for your platform... using builtin-java classes where applicable\n"
     ]
    }
   ],
   "source": [
    "spark = (\n",
    "    # Create a spark session (which will run spark jobs)\n",
    "    SparkSession.builder.appName(\"Project 2\")\n",
    "    .config(\"spark.sql.repl.eagerEval.enabled\", True) \n",
    "    .config(\"spark.sql.parquet.cacheMetadata\", \"true\")\n",
    "    .config('spark.executor.memory','10g')\n",
    "    .config('spark.driver.memory','12g')\n",
    "    .config('spark.driver.maxResultsSize', '10GiB')\n",
    "    # .config(\"spark.network.timeout\", \"3600s\")\n",
    "    # .master(\"local[6]\")\n",
    "    .getOrCreate()\n",
    "    )"
   ]
  },
  {
   "cell_type": "markdown",
   "metadata": {},
   "source": [
    "### 1. Connect Transactions and Merchants AS `sdf`"
   ]
  },
  {
   "cell_type": "code",
   "execution_count": 6,
   "metadata": {},
   "outputs": [
    {
     "name": "stdout",
     "output_type": "stream",
     "text": [
      "================ Transactions ================\n",
      "|> Loading File...\n"
     ]
    },
    {
     "name": "stderr",
     "output_type": "stream",
     "text": [
      "                                                                                \r"
     ]
    },
    {
     "name": "stdout",
     "output_type": "stream",
     "text": [
      "|> Loading Finished!\n"
     ]
    },
    {
     "name": "stderr",
     "output_type": "stream",
     "text": [
      "                                                                                \r"
     ]
    },
    {
     "name": "stdout",
     "output_type": "stream",
     "text": [
      "-RECORD 0----------------------------------------------\n",
      " user_id        | 14935                                \n",
      " merchant_abn   | 79417999332                          \n",
      " dollar_value   | 136.06570809815838                   \n",
      " order_id       | 23acbb7b-cf98-4580-9775-86b8e0a2bd88 \n",
      " order_datetime | 2021-11-26                           \n",
      "only showing top 1 row\n",
      "\n"
     ]
    },
    {
     "name": "stderr",
     "output_type": "stream",
     "text": [
      "                                                                                \r"
     ]
    },
    {
     "name": "stdout",
     "output_type": "stream",
     "text": [
      "There are 4508106 data, and 4508106 of them have no null value.\n"
     ]
    }
   ],
   "source": [
    "print(\"================ Transactions ================\")\n",
    "# transactions_sdf = read_file(spark, 'transactions_20210228_20210827_snapshot')\n",
    "transactions_sdf = read_file(spark, 'transactions_20210828_20220227_snapshot')\n",
    "# transactions_sdf = read_file(spark, 'transactions_20220228_20220828_snapshot')\n",
    "temp = transactions_sdf.dropna(how='any').count()\n",
    "print( f'There are {transactions_sdf.count()} data, and {temp} of them have no null value.')"
   ]
  },
  {
   "cell_type": "code",
   "execution_count": 7,
   "metadata": {},
   "outputs": [
    {
     "name": "stdout",
     "output_type": "stream",
     "text": [
      "================ Merchant ================\n",
      "|> Loading File...\n",
      "|> Loading Finished!\n",
      "-RECORD 0-----------------------------\n",
      " merchant_name | Felis Limited        \n",
      " tags          | furniture, home f... \n",
      " merchant_abn  | 10023283211          \n",
      " take_rate     | 0.18                 \n",
      " type          | e                    \n",
      "only showing top 1 row\n",
      "\n",
      "There are 4026 data, and 4026 of them have no null value.\n"
     ]
    }
   ],
   "source": [
    "print(\"================ Merchant ================\")\n",
    "merchants_sdf = read_file(spark, 'merchants_data.parquet', '../data/curated/', truncate=20)\n",
    "temp = merchants_sdf.dropna(how='any').count()\n",
    "print( f'There are {merchants_sdf.count()} data, and {temp} of them have no null value.')"
   ]
  },
  {
   "cell_type": "markdown",
   "metadata": {},
   "source": [
    "- Known that Transactions and Merchants table have no null value"
   ]
  },
  {
   "cell_type": "code",
   "execution_count": 8,
   "metadata": {},
   "outputs": [
    {
     "name": "stdout",
     "output_type": "stream",
     "text": [
      "There are 4508106 data, and 4323692 of them have no null value.\n"
     ]
    }
   ],
   "source": [
    "sdf = transactions_sdf.join(merchants_sdf, how='left', on='merchant_abn')\n",
    "temp = sdf.dropna(how='any', subset=['merchant_name']).count()\n",
    "print( f'There are {sdf.count()} data, and {temp} of them have no null value.')"
   ]
  },
  {
   "cell_type": "markdown",
   "metadata": {},
   "source": [
    "- After connect the Transactions and Merchants Table by `merchant_abn`, we find that some Transactions not from the merchants in the table. Because they are not in our list of rank therefore, delete those null value."
   ]
  },
  {
   "cell_type": "code",
   "execution_count": 7,
   "metadata": {},
   "outputs": [],
   "source": [
    "# sdf = sdf.dropna(how='any', subset=['merchant_name'])"
   ]
  },
  {
   "cell_type": "markdown",
   "metadata": {},
   "source": [
    "- There are 4026 merchants, and for `transactions_20210228_20210827_snapshot` have 3643266 records. \n",
    "\n",
    "    After combination, there are **3494038** rest. **3643266 - 3494038 = 149228** records has been deleted. \n",
    "    \n",
    "    `149228 / 3643266 = 0.04095995186736297`"
   ]
  },
  {
   "cell_type": "code",
   "execution_count": 9,
   "metadata": {},
   "outputs": [
    {
     "name": "stdout",
     "output_type": "stream",
     "text": [
      "+------------+-------+------------------+--------------------+--------------+--------------------+--------------------+---------+----+\n",
      "|merchant_abn|user_id|      dollar_value|            order_id|order_datetime|       merchant_name|                tags|take_rate|type|\n",
      "+------------+-------+------------------+--------------------+--------------+--------------------+--------------------+---------+----+\n",
      "| 79417999332|  14935|136.06570809815838|23acbb7b-cf98-458...|    2021-11-26|Phasellus At Company|gift, card, novel...|     4.95|   b|\n",
      "| 46451548968|      1| 72.61581642788431|76bab304-fa2d-400...|    2021-11-26|Tempus Eu Ligula ...|health and beauty...|     6.04|   a|\n",
      "| 89518629617|  14936|3.0783487174439297|a2ae446a-2959-41c...|    2021-11-26|Vulputate Velit E...|tent and awning s...|     3.09|   c|\n",
      "| 49167531725|      1| 51.58228625503599|7080c274-17f7-4cc...|    2021-11-26|     Felis Institute|digital goods: bo...|     6.42|   a|\n",
      "| 31101120643|  14936|25.228114942417797|8e301c0f-06ab-45c...|    2021-11-26|Commodo Hendrerit...|cable, satellite,...|     6.37|   a|\n",
      "+------------+-------+------------------+--------------------+--------------+--------------------+--------------------+---------+----+\n",
      "only showing top 5 rows\n",
      "\n"
     ]
    }
   ],
   "source": [
    "sdf.show(5)"
   ]
  },
  {
   "cell_type": "code",
   "execution_count": 10,
   "metadata": {},
   "outputs": [],
   "source": [
    "null_df = sdf.filter(sdf.merchant_name.isNull())\n",
    "# 184414\n",
    "null_df.count()\n",
    "# 381\n",
    "new_merchant = null_df.drop_duplicates(['merchant_abn'])"
   ]
  },
  {
   "cell_type": "markdown",
   "metadata": {},
   "source": [
    "### 2. `sdf` join with consumer"
   ]
  },
  {
   "cell_type": "code",
   "execution_count": 11,
   "metadata": {},
   "outputs": [
    {
     "name": "stdout",
     "output_type": "stream",
     "text": [
      "================ Customer ================\n",
      "|> Loading File...\n",
      "|> Loading Finished!\n",
      "-RECORD 0---------------------------------\n",
      " consumer_id | 680810                     \n",
      " name        | Courtney Mendez            \n",
      " address     | 802 Knapp Harbors Apt. 769 \n",
      " state       | QLD                        \n",
      " postcode    | 9013                       \n",
      " gender      | Female                     \n",
      " user_id     | 71144                      \n",
      "only showing top 1 row\n",
      "\n",
      "There are 499999 data, and 499999 of them have no null value.\n"
     ]
    }
   ],
   "source": [
    "print(\"================ Customer ================\")\n",
    "consumer = read_file(spark, 'new_consumer_data.parquet', '../data/curated/')\n",
    "temp = consumer.dropna(how='any').count()\n",
    "print( f'There are {consumer.count()} data, and {temp} of them have no null value.')"
   ]
  },
  {
   "cell_type": "markdown",
   "metadata": {},
   "source": [
    "- consumer join with poa population data"
   ]
  },
  {
   "cell_type": "code",
   "execution_count": 12,
   "metadata": {},
   "outputs": [
    {
     "name": "stdout",
     "output_type": "stream",
     "text": [
      "================  ================\n",
      "|> Loading File...\n",
      "|> Loading Finished!\n"
     ]
    },
    {
     "name": "stderr",
     "output_type": "stream",
     "text": [
      "[Stage 41:===========================================>              (3 + 1) / 4]\r"
     ]
    },
    {
     "name": "stdout",
     "output_type": "stream",
     "text": [
      "-RECORD 0--------------------------------------------------------------------------------------\n",
      " postcode   | 6935                                                                             \n",
      " POA_CODE21 | 6055                                                                             \n",
      " geometry   | [01 03 00 00 00 01 00 00 00 F2 05 00 00 68 A7 F7 0B 98 FD 5C 40 C0 AB 6F 9D 5... \n",
      " 2020(no.)  | 33667.56962451867                                                                \n",
      " 2021(no.)  | 35471.46982550462                                                                \n",
      "only showing top 1 row\n",
      "\n"
     ]
    },
    {
     "name": "stderr",
     "output_type": "stream",
     "text": [
      "                                                                                \r"
     ]
    }
   ],
   "source": [
    "print(\"================  ================\")\n",
    "poa_sdf = read_file(spark, 'external_pos_population.parquet', '../data/curated/')"
   ]
  },
  {
   "cell_type": "code",
   "execution_count": 13,
   "metadata": {},
   "outputs": [],
   "source": [
    "poa_sdf = poa_sdf.drop('geometry')\n",
    "poa_sdf = poa_sdf.withColumnRenamed('2020(no.)', '2020_popu').withColumnRenamed('2021(no.)', '2021_popu')"
   ]
  },
  {
   "cell_type": "code",
   "execution_count": 14,
   "metadata": {},
   "outputs": [
    {
     "name": "stdout",
     "output_type": "stream",
     "text": [
      "+--------+----------+-----------------+-----------------+\n",
      "|postcode|POA_CODE21|        2020_popu|        2021_popu|\n",
      "+--------+----------+-----------------+-----------------+\n",
      "|    6935|      6055|33667.56962451867|35471.46982550462|\n",
      "|    1109|      2000|31245.01595130939|29155.59319547952|\n",
      "|    6849|      6014|23594.15360007898|23626.47316732434|\n",
      "|    1114|      2000|31245.01595130939|29155.59319547952|\n",
      "|    1825|      2144|42033.87774893655|40303.38192096321|\n",
      "+--------+----------+-----------------+-----------------+\n",
      "only showing top 5 rows\n",
      "\n"
     ]
    }
   ],
   "source": [
    "poa_sdf.show(5)"
   ]
  },
  {
   "cell_type": "code",
   "execution_count": 15,
   "metadata": {},
   "outputs": [
    {
     "name": "stdout",
     "output_type": "stream",
     "text": [
      "There are 3158 data, and 3158 have no null value.\n"
     ]
    }
   ],
   "source": [
    "temp = poa_sdf.dropna(how='any').count()\n",
    "print( f'There are {poa_sdf.count()} data, and {temp} have no null value.')"
   ]
  },
  {
   "cell_type": "code",
   "execution_count": 16,
   "metadata": {},
   "outputs": [],
   "source": [
    "consumer = consumer.join(poa_sdf, on='postcode', how='left')"
   ]
  },
  {
   "cell_type": "code",
   "execution_count": 17,
   "metadata": {},
   "outputs": [
    {
     "name": "stdout",
     "output_type": "stream",
     "text": [
      "+--------+-----------+--------------------+--------------------+-----+-----------+-------+----------+-----------------+-----------------+\n",
      "|postcode|consumer_id|                name|             address|state|     gender|user_id|POA_CODE21|        2020_popu|        2021_popu|\n",
      "+--------+-----------+--------------------+--------------------+-----+-----------+-------+----------+-----------------+-----------------+\n",
      "|    3341|     824277|     Jessica Perkins|   004 Joseph Stream|  VIC|     Female|  71164|      3341|3837.071226952807|3949.498607935793|\n",
      "|    3612|     240015|           Paul Bond|0126 Copeland Hil...|  VIC|Undisclosed|  71150|      3612|1261.665090031683|1280.963899794179|\n",
      "|    3919|    1089439|       Michael Frank|515 Martinez Harb...|  VIC|       Male|  71157|      3919|1456.085532548059|1461.088434365399|\n",
      "|    4006|     360950|          Scott Diaz|10879 Warren Trai...|  QLD|       Male|  71160|      4006|29285.45099563307|29731.72434655262|\n",
      "|    1108|     257426|          Evan Poole|1546 Nicholas Isl...|  NSW|       Male|  71159|      2000|31245.01595130939|29155.59319547952|\n",
      "|    8205|     699376|     Jeffrey Harding|665 Doyle Oval Ap...|  VIC|       Male|  71147|      3000|51550.57421324455|44766.40475584961|\n",
      "|    5201|    1440589|          Adam Bowen|77454 Lopez Plaza...|   SA|       Male|  71146|      5201|2560.103615184667| 2615.94816085507|\n",
      "|    9013|     680810|     Courtney Mendez|802 Knapp Harbors...|  QLD|     Female|  71144|      4000|21606.62524352172| 21142.3135518536|\n",
      "|    3889|     967190|         Sandra Hill|  553 Hernandez Spur|  VIC|     Female|  71153|      3889|996.3213905233993|1008.684942887642|\n",
      "|    5301|     531402|          John Garza|90413 Wyatt Fort ...|   SA|       Male|  71145|      5301| 983.393818743602|982.7221238179577|\n",
      "|    2206|    1237914|     Taylor Saunders|05394 Jeremy Turn...|  NSW|       Male|  71156|      2206|20523.37480919313|20271.33100657384|\n",
      "|    2044|      20363|         Rodney Hull|3384 Christopher ...|  NSW|       Male|  71162|      2044|8340.000454384506|8335.000457311606|\n",
      "|    6256|    1143238|         David Brown|    2148 Miller Lock|   WA|       Male|  71158|      6256|1385.281629227216| 1427.82084329362|\n",
      "|    2023|     524221|         Mark Nguyen|       350 Clark Run|  NSW|       Male|  71161|      2023|11290.90418551015|10917.85006403222|\n",
      "|    5095|     772666|     Julie Rodriguez| 0697 Vanessa Fields|   SA|     Female|  71154|      5095| 14961.9700637272|14735.59008830705|\n",
      "|    5131|    1065543|       Allison Baker|   973 Pearson Views|   SA|     Female|  71155|      5131|6075.433769618161| 6095.43754036546|\n",
      "|    6919|     173131|         Jason Terry|962 Robles Plains...|   WA|       Male|  71151|      6010|19139.10594032991|19338.32747799709|\n",
      "|    5352|    1306078|       Joshua Butler|912 Wanda Mountai...|   SA|       Male|  71149|      5352|6035.565030422013|6006.404840822259|\n",
      "|    2905|      60298|       Crystal Smith|382 Tran Port Sui...|  ACT|     Female|  71163|      2905| 29028.9997862312|28635.99979385052|\n",
      "|    4075|     829756|Mr. Antonio Peterson|   29569 Brett Green|  QLD|       Male|  71148|      4075|25388.26118364224|25455.51720383068|\n",
      "+--------+-----------+--------------------+--------------------+-----+-----------+-------+----------+-----------------+-----------------+\n",
      "only showing top 20 rows\n",
      "\n"
     ]
    }
   ],
   "source": [
    "consumer.show(20)"
   ]
  },
  {
   "cell_type": "code",
   "execution_count": 18,
   "metadata": {},
   "outputs": [
    {
     "data": {
      "text/plain": [
       "498587"
      ]
     },
     "execution_count": 18,
     "metadata": {},
     "output_type": "execute_result"
    }
   ],
   "source": [
    "consumer.dropna(how='any').count()"
   ]
  },
  {
   "cell_type": "code",
   "execution_count": 19,
   "metadata": {},
   "outputs": [
    {
     "name": "stderr",
     "output_type": "stream",
     "text": [
      "                                                                                \r"
     ]
    },
    {
     "data": {
      "text/html": [
       "<table border='1'>\n",
       "<tr><th>postcode</th><th>consumer_id</th><th>name</th><th>address</th><th>state</th><th>gender</th><th>user_id</th><th>POA_CODE21</th><th>2020_popu</th><th>2021_popu</th></tr>\n",
       "<tr><td>1441</td><td>341498</td><td>Courtney Alexander</td><td>82265 Hardy Hill</td><td>NSW</td><td>Female</td><td>77783</td><td>null</td><td>null</td><td>null</td></tr>\n",
       "<tr><td>1476</td><td>588776</td><td>Elizabeth Sanchez</td><td>343 Middleton Shoal</td><td>NSW</td><td>Female</td><td>73404</td><td>null</td><td>null</td><td>null</td></tr>\n",
       "<tr><td>1819</td><td>1131147</td><td>Marc Wilson</td><td>162 Shields Inlet...</td><td>NSW</td><td>Male</td><td>72313</td><td>null</td><td>null</td><td>null</td></tr>\n",
       "<tr><td>2013</td><td>861495</td><td>Erin Rodriguez</td><td>707 Xavier Brook</td><td>NSW</td><td>Female</td><td>75224</td><td>null</td><td>null</td><td>null</td></tr>\n",
       "<tr><td>3399</td><td>724573</td><td>Andrea Stone</td><td>627 Christine Cor...</td><td>VIC</td><td>Female</td><td>72496</td><td>null</td><td>null</td><td>null</td></tr>\n",
       "<tr><td>3989</td><td>1093754</td><td>Tracey Williams</td><td>49197 Nunez Burg</td><td>VIC</td><td>Female</td><td>71746</td><td>null</td><td>null</td><td>null</td></tr>\n",
       "<tr><td>6435</td><td>1217055</td><td>Douglas Jones</td><td>71897 Kristina Hi...</td><td>WA</td><td>Undisclosed</td><td>71334</td><td>null</td><td>null</td><td>null</td></tr>\n",
       "<tr><td>8785</td><td>806615</td><td>Destiny Morgan</td><td>68138 Welch Divid...</td><td>VIC</td><td>Female</td><td>72252</td><td>null</td><td>null</td><td>null</td></tr>\n",
       "<tr><td>9999</td><td>545212</td><td>Daniel Walker</td><td>2217 Fleming Rest...</td><td>VIC</td><td>Male</td><td>72597</td><td>null</td><td>null</td><td>null</td></tr>\n",
       "</table>\n"
      ],
      "text/plain": [
       "+--------+-----------+------------------+--------------------+-----+-----------+-------+----------+---------+---------+\n",
       "|postcode|consumer_id|              name|             address|state|     gender|user_id|POA_CODE21|2020_popu|2021_popu|\n",
       "+--------+-----------+------------------+--------------------+-----+-----------+-------+----------+---------+---------+\n",
       "|    1441|     341498|Courtney Alexander|    82265 Hardy Hill|  NSW|     Female|  77783|      null|     null|     null|\n",
       "|    1476|     588776| Elizabeth Sanchez| 343 Middleton Shoal|  NSW|     Female|  73404|      null|     null|     null|\n",
       "|    1819|    1131147|       Marc Wilson|162 Shields Inlet...|  NSW|       Male|  72313|      null|     null|     null|\n",
       "|    2013|     861495|    Erin Rodriguez|    707 Xavier Brook|  NSW|     Female|  75224|      null|     null|     null|\n",
       "|    3399|     724573|      Andrea Stone|627 Christine Cor...|  VIC|     Female|  72496|      null|     null|     null|\n",
       "|    3989|    1093754|   Tracey Williams|    49197 Nunez Burg|  VIC|     Female|  71746|      null|     null|     null|\n",
       "|    6435|    1217055|     Douglas Jones|71897 Kristina Hi...|   WA|Undisclosed|  71334|      null|     null|     null|\n",
       "|    8785|     806615|    Destiny Morgan|68138 Welch Divid...|  VIC|     Female|  72252|      null|     null|     null|\n",
       "|    9999|     545212|     Daniel Walker|2217 Fleming Rest...|  VIC|       Male|  72597|      null|     null|     null|\n",
       "+--------+-----------+------------------+--------------------+-----+-----------+-------+----------+---------+---------+"
      ]
     },
     "execution_count": 19,
     "metadata": {},
     "output_type": "execute_result"
    }
   ],
   "source": [
    "# 有9个postcode没有找到对应的数据\n",
    "# 就是做预处理找过的 --- 保留到fraud做处理\n",
    "consumer[consumer.POA_CODE21.isNull()].drop_duplicates(['postcode'])"
   ]
  },
  {
   "cell_type": "code",
   "execution_count": 20,
   "metadata": {},
   "outputs": [],
   "source": [
    "consumer = consumer.na.fill(subset='2021_popu', value = 0)"
   ]
  },
  {
   "cell_type": "code",
   "execution_count": 22,
   "metadata": {},
   "outputs": [],
   "source": [
    "consumer = consumer.na.fill(subset='POA_CODE21', value = 0)"
   ]
  },
  {
   "cell_type": "code",
   "execution_count": 24,
   "metadata": {},
   "outputs": [
    {
     "data": {
      "text/html": [
       "<table border='1'>\n",
       "<tr><th>postcode</th><th>consumer_id</th><th>name</th><th>address</th><th>state</th><th>gender</th><th>user_id</th><th>POA_CODE21</th><th>2020_popu</th><th>2021_popu</th></tr>\n",
       "</table>\n"
      ],
      "text/plain": [
       "+--------+-----------+----+-------+-----+------+-------+----------+---------+---------+\n",
       "|postcode|consumer_id|name|address|state|gender|user_id|POA_CODE21|2020_popu|2021_popu|\n",
       "+--------+-----------+----+-------+-----+------+-------+----------+---------+---------+\n",
       "+--------+-----------+----+-------+-----+------+-------+----------+---------+---------+"
      ]
     },
     "execution_count": 24,
     "metadata": {},
     "output_type": "execute_result"
    }
   ],
   "source": [
    "consumer[consumer.POA_CODE21.isNull()].drop_duplicates(['postcode'])"
   ]
  },
  {
   "cell_type": "markdown",
   "metadata": {},
   "source": [
    "- join\n"
   ]
  },
  {
   "cell_type": "code",
   "execution_count": 25,
   "metadata": {},
   "outputs": [
    {
     "data": {
      "text/html": [
       "<table border='1'>\n",
       "<tr><th>merchant_abn</th><th>user_id</th><th>dollar_value</th><th>order_id</th><th>order_datetime</th><th>merchant_name</th><th>tags</th><th>take_rate</th><th>type</th></tr>\n",
       "<tr><td>79417999332</td><td>14935</td><td>136.06570809815838</td><td>23acbb7b-cf98-458...</td><td>2021-11-26</td><td>Phasellus At Company</td><td>gift, card, novel...</td><td>4.95</td><td>b</td></tr>\n",
       "<tr><td>46451548968</td><td>1</td><td>72.61581642788431</td><td>76bab304-fa2d-400...</td><td>2021-11-26</td><td>Tempus Eu Ligula ...</td><td>health and beauty...</td><td>6.04</td><td>a</td></tr>\n",
       "<tr><td>89518629617</td><td>14936</td><td>3.0783487174439297</td><td>a2ae446a-2959-41c...</td><td>2021-11-26</td><td>Vulputate Velit E...</td><td>tent and awning s...</td><td>3.09</td><td>c</td></tr>\n",
       "<tr><td>49167531725</td><td>1</td><td>51.58228625503599</td><td>7080c274-17f7-4cc...</td><td>2021-11-26</td><td>Felis Institute</td><td>digital goods: bo...</td><td>6.42</td><td>a</td></tr>\n",
       "<tr><td>31101120643</td><td>14936</td><td>25.228114942417797</td><td>8e301c0f-06ab-45c...</td><td>2021-11-26</td><td>Commodo Hendrerit...</td><td>cable, satellite,...</td><td>6.37</td><td>a</td></tr>\n",
       "<tr><td>67978471888</td><td>2</td><td>691.5028234458998</td><td>0380e9ad-b0e8-420...</td><td>2021-11-26</td><td>Magna Malesuada C...</td><td>artist supply and...</td><td>5.56</td><td>a</td></tr>\n",
       "<tr><td>60956456424</td><td>14936</td><td>102.13952056640888</td><td>5ac3da9c-5147-452...</td><td>2021-11-26</td><td>Ultricies Digniss...</td><td>gift, card, novel...</td><td>4.69</td><td>b</td></tr>\n",
       "<tr><td>47644196714</td><td>2</td><td>644.5220654863093</td><td>4e368e44-86f8-4de...</td><td>2021-11-26</td><td>Auctor Non Feugia...</td><td>motor vehicle sup...</td><td>1.89</td><td>c</td></tr>\n",
       "<tr><td>39649557865</td><td>14938</td><td>209.12780951421405</td><td>4d78cd01-4bab-494...</td><td>2021-11-26</td><td>Arcu Morbi Institute</td><td>artist supply and...</td><td>1.47</td><td>c</td></tr>\n",
       "<tr><td>88402174457</td><td>3</td><td>141.0387993699113</td><td>c50c957d-ecfc-430...</td><td>2021-11-26</td><td>Duis Dignissim LLC</td><td>furniture, home f...</td><td>6.06</td><td>a</td></tr>\n",
       "<tr><td>32234779638</td><td>14938</td><td>102.04090324888061</td><td>e94ff357-b036-493...</td><td>2021-11-26</td><td>null</td><td>null</td><td>null</td><td>null</td></tr>\n",
       "<tr><td>24015173965</td><td>4</td><td>157.0</td><td>5b867ac9-d1e0-430...</td><td>2021-11-26</td><td>Lectus Limited</td><td>cable, satellite,...</td><td>6.79</td><td>a</td></tr>\n",
       "<tr><td>79830510987</td><td>14939</td><td>246.13590152514766</td><td>666909ed-79c2-45b...</td><td>2021-11-26</td><td>Fusce Corporation</td><td>books, periodical...</td><td>6.61</td><td>a</td></tr>\n",
       "<tr><td>76646764782</td><td>5</td><td>35.463129852951695</td><td>0c855413-67fa-467...</td><td>2021-11-26</td><td>Tempor Diam Inc.</td><td>florists supplies...</td><td>5.09</td><td>b</td></tr>\n",
       "<tr><td>17324645993</td><td>14939</td><td>24.108258533478818</td><td>40fd2f7f-a274-420...</td><td>2021-11-26</td><td>Eget Metus In Cor...</td><td>tent and awning s...</td><td>5.73</td><td>a</td></tr>\n",
       "<tr><td>71041015148</td><td>5</td><td>89.76800577775657</td><td>93255de9-c8fe-426...</td><td>2021-11-26</td><td>Orci Ltd</td><td>digital goods: bo...</td><td>2.19</td><td>c</td></tr>\n",
       "<tr><td>75089928159</td><td>14939</td><td>14.806519329659501</td><td>2c5ba1f3-1c5a-4e5...</td><td>2021-11-26</td><td>Porttitor Vulputa...</td><td>gift, card, novel...</td><td>1.67</td><td>c</td></tr>\n",
       "<tr><td>80324045558</td><td>5</td><td>62.79195913018835</td><td>564f81c8-c3c1-4f4...</td><td>2021-11-26</td><td>Ipsum Dolor Sit C...</td><td>gift, card, novel...</td><td>1.47</td><td>c</td></tr>\n",
       "<tr><td>50315283629</td><td>14939</td><td>575.3321071340728</td><td>026c6d3d-4f7c-4f4...</td><td>2021-11-26</td><td>Iaculis Aliquet D...</td><td>lawn and garden s...</td><td>1.76</td><td>c</td></tr>\n",
       "<tr><td>11566786699</td><td>6</td><td>15.856637357709419</td><td>0230e104-aef0-48f...</td><td>2021-11-26</td><td>Euismod Et Institute</td><td>opticians, optica...</td><td>2.62</td><td>c</td></tr>\n",
       "</table>\n",
       "only showing top 20 rows\n"
      ],
      "text/plain": [
       "+------------+-------+------------------+--------------------+--------------+--------------------+--------------------+---------+----+\n",
       "|merchant_abn|user_id|      dollar_value|            order_id|order_datetime|       merchant_name|                tags|take_rate|type|\n",
       "+------------+-------+------------------+--------------------+--------------+--------------------+--------------------+---------+----+\n",
       "| 79417999332|  14935|136.06570809815838|23acbb7b-cf98-458...|    2021-11-26|Phasellus At Company|gift, card, novel...|     4.95|   b|\n",
       "| 46451548968|      1| 72.61581642788431|76bab304-fa2d-400...|    2021-11-26|Tempus Eu Ligula ...|health and beauty...|     6.04|   a|\n",
       "| 89518629617|  14936|3.0783487174439297|a2ae446a-2959-41c...|    2021-11-26|Vulputate Velit E...|tent and awning s...|     3.09|   c|\n",
       "| 49167531725|      1| 51.58228625503599|7080c274-17f7-4cc...|    2021-11-26|     Felis Institute|digital goods: bo...|     6.42|   a|\n",
       "| 31101120643|  14936|25.228114942417797|8e301c0f-06ab-45c...|    2021-11-26|Commodo Hendrerit...|cable, satellite,...|     6.37|   a|\n",
       "| 67978471888|      2| 691.5028234458998|0380e9ad-b0e8-420...|    2021-11-26|Magna Malesuada C...|artist supply and...|     5.56|   a|\n",
       "| 60956456424|  14936|102.13952056640888|5ac3da9c-5147-452...|    2021-11-26|Ultricies Digniss...|gift, card, novel...|     4.69|   b|\n",
       "| 47644196714|      2| 644.5220654863093|4e368e44-86f8-4de...|    2021-11-26|Auctor Non Feugia...|motor vehicle sup...|     1.89|   c|\n",
       "| 39649557865|  14938|209.12780951421405|4d78cd01-4bab-494...|    2021-11-26|Arcu Morbi Institute|artist supply and...|     1.47|   c|\n",
       "| 88402174457|      3| 141.0387993699113|c50c957d-ecfc-430...|    2021-11-26|  Duis Dignissim LLC|furniture, home f...|     6.06|   a|\n",
       "| 32234779638|  14938|102.04090324888061|e94ff357-b036-493...|    2021-11-26|                null|                null|     null|null|\n",
       "| 24015173965|      4|             157.0|5b867ac9-d1e0-430...|    2021-11-26|      Lectus Limited|cable, satellite,...|     6.79|   a|\n",
       "| 79830510987|  14939|246.13590152514766|666909ed-79c2-45b...|    2021-11-26|   Fusce Corporation|books, periodical...|     6.61|   a|\n",
       "| 76646764782|      5|35.463129852951695|0c855413-67fa-467...|    2021-11-26|    Tempor Diam Inc.|florists supplies...|     5.09|   b|\n",
       "| 17324645993|  14939|24.108258533478818|40fd2f7f-a274-420...|    2021-11-26|Eget Metus In Cor...|tent and awning s...|     5.73|   a|\n",
       "| 71041015148|      5| 89.76800577775657|93255de9-c8fe-426...|    2021-11-26|            Orci Ltd|digital goods: bo...|     2.19|   c|\n",
       "| 75089928159|  14939|14.806519329659501|2c5ba1f3-1c5a-4e5...|    2021-11-26|Porttitor Vulputa...|gift, card, novel...|     1.67|   c|\n",
       "| 80324045558|      5| 62.79195913018835|564f81c8-c3c1-4f4...|    2021-11-26|Ipsum Dolor Sit C...|gift, card, novel...|     1.47|   c|\n",
       "| 50315283629|  14939| 575.3321071340728|026c6d3d-4f7c-4f4...|    2021-11-26|Iaculis Aliquet D...|lawn and garden s...|     1.76|   c|\n",
       "| 11566786699|      6|15.856637357709419|0230e104-aef0-48f...|    2021-11-26|Euismod Et Institute|opticians, optica...|     2.62|   c|\n",
       "+------------+-------+------------------+--------------------+--------------+--------------------+--------------------+---------+----+\n",
       "only showing top 20 rows"
      ]
     },
     "execution_count": 25,
     "metadata": {},
     "output_type": "execute_result"
    }
   ],
   "source": [
    "sdf"
   ]
  },
  {
   "cell_type": "code",
   "execution_count": 26,
   "metadata": {},
   "outputs": [
    {
     "name": "stderr",
     "output_type": "stream",
     "text": [
      "                                                                                \r"
     ]
    },
    {
     "name": "stdout",
     "output_type": "stream",
     "text": [
      "There are 4508106 data, and 4508106 of them have no null value.\n"
     ]
    }
   ],
   "source": [
    "sdf = sdf.join(consumer, how='left', on='user_id')\n",
    "temp = sdf.dropna(how='any', subset=['consumer_id']).count()\n",
    "print( f'There are {sdf.count()} data, and {temp} of them have no null value.')"
   ]
  },
  {
   "cell_type": "code",
   "execution_count": 27,
   "metadata": {},
   "outputs": [
    {
     "name": "stderr",
     "output_type": "stream",
     "text": [
      "[Stage 116:==============>                                          (2 + 6) / 8]\r"
     ]
    },
    {
     "name": "stdout",
     "output_type": "stream",
     "text": [
      "+-------+------------+------------------+--------------------+--------------+--------------------+--------------------+---------+----+--------+-----------+---------------+--------------------+-----+------+----------+-----------------+-----------------+\n",
      "|user_id|merchant_abn|      dollar_value|            order_id|order_datetime|       merchant_name|                tags|take_rate|type|postcode|consumer_id|           name|             address|state|gender|POA_CODE21|        2020_popu|        2021_popu|\n",
      "+-------+------------+------------------+--------------------+--------------+--------------------+--------------------+---------+----+--------+-----------+---------------+--------------------+-----+------+----------+-----------------+-----------------+\n",
      "|  14935| 79417999332|136.06570809815838|23acbb7b-cf98-458...|    2021-11-26|Phasellus At Company|gift, card, novel...|     4.95|   b|    4563|    1059280|  Cameron Adams|0280 Carpenter Lodge|  QLD|  Male|      4563|4880.286405609036|4951.486136674352|\n",
      "|  14935| 72472909171|52.973387548612614|01d968a6-dde1-48c...|    2021-12-01|   Nullam Consulting|digital goods: bo...|     6.33|   a|    4563|    1059280|  Cameron Adams|0280 Carpenter Lodge|  QLD|  Male|      4563|4880.286405609036|4951.486136674352|\n",
      "|  14935| 81219314324|57.278048696966124|5300ac4f-8b9f-451...|    2021-09-09|    Faucibus Leo Ltd|gift, card, novel...|     6.35|   a|    4563|    1059280|  Cameron Adams|0280 Carpenter Lodge|  QLD|  Male|      4563|4880.286405609036|4951.486136674352|\n",
      "|  14939| 32234779638|   79.831028187241|c5a256f9-5a1b-41a...|    2021-12-21|                null|                null|     null|null|    3885|     764252|Cassandra Myers|910 Payne Heights...|  VIC|Female|      3885|1642.750560233047|1662.920356540894|\n",
      "|  14939| 97903083009| 150.2863343649252|8de5b62a-c9df-47a...|    2021-10-14| Praesent Eu Dui LLP|stationery, offic...|      5.7|   a|    3885|     764252|Cassandra Myers|910 Payne Heights...|  VIC|Female|      3885|1642.750560233047|1662.920356540894|\n",
      "+-------+------------+------------------+--------------------+--------------+--------------------+--------------------+---------+----+--------+-----------+---------------+--------------------+-----+------+----------+-----------------+-----------------+\n",
      "only showing top 5 rows\n",
      "\n"
     ]
    },
    {
     "name": "stderr",
     "output_type": "stream",
     "text": [
      "                                                                                \r"
     ]
    }
   ],
   "source": [
    "sdf.show(5)"
   ]
  },
  {
   "cell_type": "markdown",
   "metadata": {},
   "source": [
    "### 3. `sdf` join with the external dataset  --- ncd"
   ]
  },
  {
   "cell_type": "code",
   "execution_count": 28,
   "metadata": {},
   "outputs": [
    {
     "name": "stdout",
     "output_type": "stream",
     "text": [
      "================  ================\n",
      "|> Loading File...\n",
      "|> Loading Finished!\n",
      "-RECORD 0---------------------\n",
      " Date            | 2020-01-25 \n",
      " New cases / day | 4          \n",
      "only showing top 1 row\n",
      "\n",
      "There are 959 data, and 959 have no null value.\n"
     ]
    }
   ],
   "source": [
    "print(\"================  ================\")\n",
    "ncd_sdf = read_file(spark, 'external_ncd.parquet', '../data/curated/')\n",
    "temp = ncd_sdf.dropna(how='any').count()\n",
    "print( f'There are {ncd_sdf.count()} data, and {temp} have no null value.')"
   ]
  },
  {
   "cell_type": "code",
   "execution_count": 29,
   "metadata": {},
   "outputs": [
    {
     "name": "stdout",
     "output_type": "stream",
     "text": [
      "+----------+---------------+\n",
      "|      Date|New cases / day|\n",
      "+----------+---------------+\n",
      "|2020-01-25|              4|\n",
      "|2020-01-26|              0|\n",
      "|2020-01-27|              1|\n",
      "|2020-01-28|              0|\n",
      "|2020-01-29|              4|\n",
      "+----------+---------------+\n",
      "only showing top 5 rows\n",
      "\n"
     ]
    }
   ],
   "source": [
    "ncd_sdf.show(5)"
   ]
  },
  {
   "cell_type": "code",
   "execution_count": 30,
   "metadata": {},
   "outputs": [
    {
     "name": "stderr",
     "output_type": "stream",
     "text": [
      "                                                                                \r"
     ]
    },
    {
     "name": "stdout",
     "output_type": "stream",
     "text": [
      "+-------+------------+------------------+--------------------+--------------+--------------------+--------------------+---------+----+--------+-----------+---------------+--------------------+-----+------+----------+-----------------+-----------------+----------+---------------+\n",
      "|user_id|merchant_abn|      dollar_value|            order_id|order_datetime|       merchant_name|                tags|take_rate|type|postcode|consumer_id|           name|             address|state|gender|POA_CODE21|        2020_popu|        2021_popu|      Date|New cases / day|\n",
      "+-------+------------+------------------+--------------------+--------------+--------------------+--------------------+---------+----+--------+-----------+---------------+--------------------+-----+------+----------+-----------------+-----------------+----------+---------------+\n",
      "|  14935| 79417999332|136.06570809815838|23acbb7b-cf98-458...|    2021-11-26|Phasellus At Company|gift, card, novel...|     4.95|   b|    4563|    1059280|  Cameron Adams|0280 Carpenter Lodge|  QLD|  Male|      4563|4880.286405609036|4951.486136674352|2021-11-26|          1,621|\n",
      "|  14935| 72472909171|52.973387548612614|01d968a6-dde1-48c...|    2021-12-01|   Nullam Consulting|digital goods: bo...|     6.33|   a|    4563|    1059280|  Cameron Adams|0280 Carpenter Lodge|  QLD|  Male|      4563|4880.286405609036|4951.486136674352|2021-12-01|          1,418|\n",
      "|  14935| 81219314324|57.278048696966124|5300ac4f-8b9f-451...|    2021-09-09|    Faucibus Leo Ltd|gift, card, novel...|     6.35|   a|    4563|    1059280|  Cameron Adams|0280 Carpenter Lodge|  QLD|  Male|      4563|4880.286405609036|4951.486136674352|2021-09-09|          1,727|\n",
      "|  14939| 32234779638|   79.831028187241|c5a256f9-5a1b-41a...|    2021-12-21|                null|                null|     null|null|    3885|     764252|Cassandra Myers|910 Payne Heights...|  VIC|Female|      3885|1642.750560233047|1662.920356540894|2021-12-21|          4,522|\n",
      "|  14939| 97903083009| 150.2863343649252|8de5b62a-c9df-47a...|    2021-10-14| Praesent Eu Dui LLP|stationery, offic...|      5.7|   a|    3885|     764252|Cassandra Myers|910 Payne Heights...|  VIC|Female|      3885|1642.750560233047|1662.920356540894|2021-10-14|          2,683|\n",
      "+-------+------------+------------------+--------------------+--------------+--------------------+--------------------+---------+----+--------+-----------+---------------+--------------------+-----+------+----------+-----------------+-----------------+----------+---------------+\n",
      "only showing top 5 rows\n",
      "\n"
     ]
    }
   ],
   "source": [
    "sdf = sdf.join(ncd_sdf, sdf.order_datetime == ncd_sdf.Date, 'left')\n",
    "sdf.show(5)"
   ]
  },
  {
   "cell_type": "code",
   "execution_count": 31,
   "metadata": {},
   "outputs": [
    {
     "name": "stderr",
     "output_type": "stream",
     "text": [
      "                                                                                \r"
     ]
    },
    {
     "name": "stdout",
     "output_type": "stream",
     "text": [
      "There are 4508106 data, and 4508106 have no null value.\n"
     ]
    }
   ],
   "source": [
    "temp = sdf.dropna(how='any', subset=['Date']).count()\n",
    "print( f'There are {sdf.count()} data, and {temp} have no null value.')"
   ]
  },
  {
   "cell_type": "code",
   "execution_count": 32,
   "metadata": {},
   "outputs": [],
   "source": [
    "sdf = sdf.drop('Date')"
   ]
  },
  {
   "cell_type": "code",
   "execution_count": 29,
   "metadata": {},
   "outputs": [],
   "source": [
    "# temp = sdf.to_pandas_on_spark()\n",
    "# temp[temp.Date.isna()]"
   ]
  },
  {
   "cell_type": "markdown",
   "metadata": {},
   "source": [
    "### 4. join with external retail trade seasonal"
   ]
  },
  {
   "cell_type": "code",
   "execution_count": 33,
   "metadata": {},
   "outputs": [
    {
     "name": "stdout",
     "output_type": "stream",
     "text": [
      "================  ================\n",
      "|> Loading File...\n",
      "|> Loading Finished!\n",
      "-RECORD 0----------------------------------------------\n",
      " month                                    | 2022-04-01 \n",
      " food                                     | 13182.7    \n",
      " household goods                          | 6023.3     \n",
      " clothing footwear and personal accessory | 2912.8     \n",
      " department store                         | 1782.5     \n",
      " other                                    | 5317.8     \n",
      " cafes restaurants and takeway foods      | 4704       \n",
      " total                                    | 33923.1    \n",
      "only showing top 1 row\n",
      "\n",
      "There are 18 data, and 18 have no null value.\n"
     ]
    }
   ],
   "source": [
    "print(\"================  ================\")\n",
    "rts_sdf = read_file(spark, 'external_retail_trade_seasonal.parquet', '../data/curated/')\n",
    "temp = rts_sdf.dropna(how='any').count()\n",
    "print( f'There are {rts_sdf.count()} data, and {temp} have no null value.')"
   ]
  },
  {
   "cell_type": "code",
   "execution_count": 34,
   "metadata": {},
   "outputs": [
    {
     "name": "stdout",
     "output_type": "stream",
     "text": [
      "root\n",
      " |-- month: date (nullable = true)\n",
      " |-- food: string (nullable = true)\n",
      " |-- household goods: string (nullable = true)\n",
      " |-- clothing footwear and personal accessory: string (nullable = true)\n",
      " |-- department store: string (nullable = true)\n",
      " |-- other: string (nullable = true)\n",
      " |-- cafes restaurants and takeway foods: string (nullable = true)\n",
      " |-- total: string (nullable = true)\n",
      "\n"
     ]
    }
   ],
   "source": [
    "rts_sdf.printSchema()"
   ]
  },
  {
   "cell_type": "code",
   "execution_count": 35,
   "metadata": {},
   "outputs": [],
   "source": [
    "rts_sdf = rts_sdf.select(['month', 'total'])"
   ]
  },
  {
   "cell_type": "code",
   "execution_count": 36,
   "metadata": {},
   "outputs": [],
   "source": [
    "sdf = sdf.join(rts_sdf, (F.months_between(sdf.order_datetime, rts_sdf.month) < 1) & (F.months_between(sdf.order_datetime, rts_sdf.month) >= 0), 'left')"
   ]
  },
  {
   "cell_type": "code",
   "execution_count": 37,
   "metadata": {},
   "outputs": [
    {
     "name": "stderr",
     "output_type": "stream",
     "text": [
      "[Stage 197:=================================================>       (7 + 1) / 8]\r"
     ]
    },
    {
     "name": "stdout",
     "output_type": "stream",
     "text": [
      "There are 4508106 data, and 4508106 have no null value.\n"
     ]
    },
    {
     "name": "stderr",
     "output_type": "stream",
     "text": [
      "                                                                                \r"
     ]
    }
   ],
   "source": [
    "temp = sdf.dropna(how='any', subset=['month']).count()\n",
    "print( f'There are {sdf.count()} data, and {temp} have no null value.')"
   ]
  },
  {
   "cell_type": "code",
   "execution_count": 38,
   "metadata": {},
   "outputs": [
    {
     "name": "stdout",
     "output_type": "stream",
     "text": [
      "+-------+------------+------------------+--------------------+--------------+--------------------+--------------------+---------+----+--------+-----------+---------------+--------------------+-----+------+----------+-----------------+-----------------+---------------+----------+-------+\n",
      "|user_id|merchant_abn|      dollar_value|            order_id|order_datetime|       merchant_name|                tags|take_rate|type|postcode|consumer_id|           name|             address|state|gender|POA_CODE21|        2020_popu|        2021_popu|New cases / day|     month|  total|\n",
      "+-------+------------+------------------+--------------------+--------------+--------------------+--------------------+---------+----+--------+-----------+---------------+--------------------+-----+------+----------+-----------------+-----------------+---------------+----------+-------+\n",
      "|  14935| 79417999332|136.06570809815838|23acbb7b-cf98-458...|    2021-11-26|Phasellus At Company|gift, card, novel...|     4.95|   b|    4563|    1059280|  Cameron Adams|0280 Carpenter Lodge|  QLD|  Male|      4563|4880.286405609036|4951.486136674352|          1,621|2021-11-01|  33345|\n",
      "|  14935| 72472909171|52.973387548612614|01d968a6-dde1-48c...|    2021-12-01|   Nullam Consulting|digital goods: bo...|     6.33|   a|    4563|    1059280|  Cameron Adams|0280 Carpenter Lodge|  QLD|  Male|      4563|4880.286405609036|4951.486136674352|          1,418|2021-12-01|31967.9|\n",
      "|  14935| 81219314324|57.278048696966124|5300ac4f-8b9f-451...|    2021-09-09|    Faucibus Leo Ltd|gift, card, novel...|     6.35|   a|    4563|    1059280|  Cameron Adams|0280 Carpenter Lodge|  QLD|  Male|      4563|4880.286405609036|4951.486136674352|          1,727|2021-09-01|29756.7|\n",
      "|  14939| 32234779638|   79.831028187241|c5a256f9-5a1b-41a...|    2021-12-21|                null|                null|     null|null|    3885|     764252|Cassandra Myers|910 Payne Heights...|  VIC|Female|      3885|1642.750560233047|1662.920356540894|          4,522|2021-12-01|31967.9|\n",
      "|  14939| 97903083009| 150.2863343649252|8de5b62a-c9df-47a...|    2021-10-14| Praesent Eu Dui LLP|stationery, offic...|      5.7|   a|    3885|     764252|Cassandra Myers|910 Payne Heights...|  VIC|Female|      3885|1642.750560233047|1662.920356540894|          2,683|2021-10-01|31132.7|\n",
      "+-------+------------+------------------+--------------------+--------------+--------------------+--------------------+---------+----+--------+-----------+---------------+--------------------+-----+------+----------+-----------------+-----------------+---------------+----------+-------+\n",
      "only showing top 5 rows\n",
      "\n"
     ]
    }
   ],
   "source": [
    "sdf.show(5)"
   ]
  },
  {
   "cell_type": "code",
   "execution_count": 39,
   "metadata": {},
   "outputs": [],
   "source": [
    "sdf = sdf.drop('2020_popu')"
   ]
  },
  {
   "cell_type": "code",
   "execution_count": 40,
   "metadata": {},
   "outputs": [
    {
     "name": "stdout",
     "output_type": "stream",
     "text": [
      "22/10/01 23:17:50 WARN package: Truncated the string representation of a plan since it was too large. This behavior can be adjusted by setting 'spark.sql.debug.maxToStringFields'.\n"
     ]
    },
    {
     "name": "stderr",
     "output_type": "stream",
     "text": [
      "                                                                                \r"
     ]
    },
    {
     "data": {
      "text/html": [
       "<table border='1'>\n",
       "<tr><th>user_id</th><th>merchant_abn</th><th>dollar_value</th><th>order_id</th><th>order_datetime</th><th>merchant_name</th><th>tags</th><th>take_rate</th><th>type</th><th>postcode</th><th>consumer_id</th><th>name</th><th>address</th><th>state</th><th>gender</th><th>POA_CODE21</th><th>2021_popu</th><th>New cases / day</th><th>month</th><th>total</th></tr>\n",
       "</table>\n"
      ],
      "text/plain": [
       "+-------+------------+------------+--------+--------------+-------------+----+---------+----+--------+-----------+----+-------+-----+------+----------+---------+---------------+-----+-----+\n",
       "|user_id|merchant_abn|dollar_value|order_id|order_datetime|merchant_name|tags|take_rate|type|postcode|consumer_id|name|address|state|gender|POA_CODE21|2021_popu|New cases / day|month|total|\n",
       "+-------+------------+------------+--------+--------------+-------------+----+---------+----+--------+-----------+----+-------+-----+------+----------+---------+---------------+-----+-----+\n",
       "+-------+------------+------------+--------+--------------+-------------+----+---------+----+--------+-----------+----+-------+-----+------+----------+---------+---------------+-----+-----+"
      ]
     },
     "execution_count": 40,
     "metadata": {},
     "output_type": "execute_result"
    }
   ],
   "source": [
    "sdf[sdf.POA_CODE21.isNull()].drop_duplicates(['postcode'])"
   ]
  },
  {
   "cell_type": "code",
   "execution_count": 41,
   "metadata": {},
   "outputs": [
    {
     "name": "stderr",
     "output_type": "stream",
     "text": [
      "                                                                                \r"
     ]
    },
    {
     "name": "stdout",
     "output_type": "stream",
     "text": [
      "+-------+------------+------------------+--------------------+--------------+--------------------+--------------------+---------+----+--------+-----------+---------------+--------------------+-----+------+----------+-----------------+---------------+----------+-------+\n",
      "|user_id|merchant_abn|      dollar_value|            order_id|order_datetime|       merchant_name|                tags|take_rate|type|postcode|consumer_id|           name|             address|state|gender|POA_CODE21|        2021_popu|New cases / day|     month|  total|\n",
      "+-------+------------+------------------+--------------------+--------------+--------------------+--------------------+---------+----+--------+-----------+---------------+--------------------+-----+------+----------+-----------------+---------------+----------+-------+\n",
      "|  14935| 79417999332|136.06570809815838|23acbb7b-cf98-458...|    2021-11-26|Phasellus At Company|gift, card, novel...|     4.95|   b|    4563|    1059280|  Cameron Adams|0280 Carpenter Lodge|  QLD|  Male|      4563|4951.486136674352|          1,621|2021-11-01|  33345|\n",
      "|  14935| 72472909171|52.973387548612614|01d968a6-dde1-48c...|    2021-12-01|   Nullam Consulting|digital goods: bo...|     6.33|   a|    4563|    1059280|  Cameron Adams|0280 Carpenter Lodge|  QLD|  Male|      4563|4951.486136674352|          1,418|2021-12-01|31967.9|\n",
      "|  14935| 81219314324|57.278048696966124|5300ac4f-8b9f-451...|    2021-09-09|    Faucibus Leo Ltd|gift, card, novel...|     6.35|   a|    4563|    1059280|  Cameron Adams|0280 Carpenter Lodge|  QLD|  Male|      4563|4951.486136674352|          1,727|2021-09-01|29756.7|\n",
      "|  14939| 32234779638|   79.831028187241|c5a256f9-5a1b-41a...|    2021-12-21|                null|                null|     null|null|    3885|     764252|Cassandra Myers|910 Payne Heights...|  VIC|Female|      3885|1662.920356540894|          4,522|2021-12-01|31967.9|\n",
      "|  14939| 97903083009| 150.2863343649252|8de5b62a-c9df-47a...|    2021-10-14| Praesent Eu Dui LLP|stationery, offic...|      5.7|   a|    3885|     764252|Cassandra Myers|910 Payne Heights...|  VIC|Female|      3885|1662.920356540894|          2,683|2021-10-01|31132.7|\n",
      "+-------+------------+------------------+--------------------+--------------+--------------------+--------------------+---------+----+--------+-----------+---------------+--------------------+-----+------+----------+-----------------+---------------+----------+-------+\n",
      "only showing top 5 rows\n",
      "\n"
     ]
    }
   ],
   "source": [
    "sdf.show(5)"
   ]
  },
  {
   "cell_type": "code",
   "execution_count": null,
   "metadata": {},
   "outputs": [],
   "source": [
    "# from pyspark.sql.functions import datediff, months_between\n",
    "\n",
    "# # 1.日期差\n",
    "# df = spark.createDataFrame([('2015-04-08','2015-05-10')], ['d1', 'd2'])\n",
    "# df.select(datediff(df.d1, df.d2).alias('diff')).show()\n",
    "\n",
    "# # 2. 月份差\n",
    "# df = spark.createDataFrame([('1999-02-28 10:30:00', '1996-10-30')], ['t', 'd'])\n",
    "# df.select(months_between(df.t, df.d).alias('months')).show()"
   ]
  },
  {
   "cell_type": "code",
   "execution_count": 42,
   "metadata": {},
   "outputs": [
    {
     "name": "stdout",
     "output_type": "stream",
     "text": [
      "|> The folder already exist!\n",
      "|> Files already exist under this folder:\n",
      "   ['order_datetime=2021-10-19', 'order_datetime=2021-10-26', 'order_datetime=2021-10-21', 'order_datetime=2021-10-28', 'order_datetime=2021-10-17', 'order_datetime=2021-10-10', 'order_datetime=2022-02-24', 'order_datetime=2022-01-03', 'order_datetime=2022-01-04', 'order_datetime=2022-02-23', 'order_datetime=2022-02-15', 'order_datetime=2022-02-12', 'order_datetime=2021-10-11', 'order_datetime=2021-10-29', 'order_datetime=2021-10-16', 'order_datetime=2021-10-20', 'order_datetime=2021-10-18', 'order_datetime=2021-10-27', 'order_datetime=2022-02-13', 'order_datetime=2022-02-14', 'order_datetime=2022-02-22', 'order_datetime=2022-01-05', 'order_datetime=2022-01-02', 'order_datetime=2022-02-25', 'order_datetime=2021-09-25', 'order_datetime=2021-12-09', 'order_datetime=2021-11-11', 'order_datetime=2021-11-29', 'order_datetime=2021-09-22', 'order_datetime=2021-11-16', 'order_datetime=2021-12-31', 'order_datetime=2021-09-14', 'order_datetime=2021-11-20', 'order_datetime=2021-12-07', 'order_datetime=2021-09-13', 'order_datetime=2021-11-18', 'order_datetime=2021-11-27', 'order_datetime=2021-11-19', 'order_datetime=2021-09-12', 'order_datetime=2021-11-26', 'order_datetime=2021-12-01', 'order_datetime=2021-09-15', 'order_datetime=2021-12-06', 'order_datetime=2021-11-21', 'order_datetime=2021-09-23', 'order_datetime=2021-11-28', 'order_datetime=2021-12-30', 'order_datetime=2021-11-17', 'order_datetime=2021-09-24', 'order_datetime=2021-12-08', 'order_datetime=2021-11-10', '._SUCCESS.crc', 'order_datetime=2021-12-15', 'order_datetime=2021-09-06', 'order_datetime=2021-12-12', 'order_datetime=2021-09-01', 'order_datetime=2021-09-08', 'order_datetime=2021-12-24', 'order_datetime=2021-11-03', 'order_datetime=2021-11-04', 'order_datetime=2021-12-23', 'order_datetime=2021-09-30', 'order_datetime=2021-12-22', 'order_datetime=2021-11-05', 'order_datetime=2021-11-02', 'order_datetime=2021-09-09', 'order_datetime=2021-12-25', 'order_datetime=2021-12-13', 'order_datetime=2021-12-14', 'order_datetime=2021-09-07', 'order_datetime=2022-01-20', 'order_datetime=2022-02-07', 'order_datetime=2022-01-18', 'order_datetime=2022-01-27', 'order_datetime=2022-02-09', 'order_datetime=2022-01-11', 'order_datetime=2022-01-29', 'order_datetime=2022-01-16', 'order_datetime=2021-10-05', 'order_datetime=2021-08-31', 'order_datetime=2021-10-02', 'order_datetime=2022-01-28', 'order_datetime=2022-01-17', 'order_datetime=2022-02-08', 'order_datetime=2022-01-10', 'order_datetime=2022-01-19', 'order_datetime=2022-01-26', 'order_datetime=2022-02-01', 'order_datetime=2022-02-06', 'order_datetime=2022-01-21', 'order_datetime=2021-10-03', 'order_datetime=2021-10-04', 'order_datetime=2021-08-30', 'order_datetime=2022-01-07', 'order_datetime=2022-02-20', 'order_datetime=2022-02-27', 'order_datetime=2022-02-18', 'order_datetime=2022-02-11', 'order_datetime=2022-01-09', 'order_datetime=2022-01-31', 'order_datetime=2022-02-16', 'order_datetime=2021-08-29', 'order_datetime=2021-10-22', 'order_datetime=2021-10-25', 'order_datetime=2021-10-13', 'order_datetime=2021-10-14', 'order_datetime=2022-02-17', 'order_datetime=2022-01-30', 'order_datetime=2022-02-10', 'order_datetime=2022-01-08', 'order_datetime=2022-01-01', 'order_datetime=2022-02-26', 'order_datetime=2022-02-19', 'order_datetime=2022-02-21', 'order_datetime=2022-01-06', 'order_datetime=2021-10-15', 'order_datetime=2021-10-12', 'order_datetime=2021-10-24', 'order_datetime=2021-10-23', 'order_datetime=2021-08-28', 'order_datetime=2021-09-21', 'order_datetime=2021-11-15', 'order_datetime=2021-09-26', 'order_datetime=2021-09-19', 'order_datetime=2021-11-12', 'order_datetime=2021-09-10', 'order_datetime=2021-12-03', 'order_datetime=2021-11-24', 'order_datetime=2021-09-17', 'order_datetime=2021-11-23', 'order_datetime=2021-12-04', 'order_datetime=2021-09-28', 'order_datetime=2021-09-16', 'order_datetime=2021-12-05', 'order_datetime=2021-09-29', 'order_datetime=2021-11-22', 'order_datetime=2021-09-11', 'order_datetime=2021-11-25', 'order_datetime=2021-12-02', 'order_datetime=2021-09-27', 'order_datetime=2021-11-13', 'order_datetime=2021-09-18', 'order_datetime=2021-09-20', 'order_datetime=2021-11-14', 'order_datetime=2021-12-11', 'order_datetime=2021-09-02', 'order_datetime=2021-11-09', 'order_datetime=2021-12-16', 'order_datetime=2021-12-29', 'order_datetime=2021-09-05', 'order_datetime=2021-11-07', 'order_datetime=2021-12-20', 'order_datetime=2021-12-27', 'order_datetime=2021-12-18', '_SUCCESS', 'order_datetime=2021-11-01', 'order_datetime=2021-12-26', 'order_datetime=2021-12-19', 'order_datetime=2021-12-21', 'order_datetime=2021-11-06', 'order_datetime=2021-12-17', 'order_datetime=2021-11-30', 'order_datetime=2021-12-28', 'order_datetime=2021-09-04', 'order_datetime=2021-12-10', 'order_datetime=2021-11-08', 'order_datetime=2021-09-03', 'order_datetime=2021-10-01', 'order_datetime=2021-10-06', 'order_datetime=2021-10-30', 'order_datetime=2021-10-08', 'order_datetime=2022-02-03', 'order_datetime=2022-01-24', 'order_datetime=2022-01-23', 'order_datetime=2022-02-04', 'order_datetime=2022-01-15', 'order_datetime=2022-01-12', 'order_datetime=2021-10-09', 'order_datetime=2021-10-31', 'order_datetime=2021-10-07', 'order_datetime=2022-01-13', 'order_datetime=2022-01-14', 'order_datetime=2022-02-05', 'order_datetime=2022-01-22', 'order_datetime=2022-01-25', 'order_datetime=2022-02-02']\n"
     ]
    },
    {
     "name": "stderr",
     "output_type": "stream",
     "text": [
      "                                                                                \r"
     ]
    }
   ],
   "source": [
    "path = '../data/curated/data'\n",
    "if (create_folder(path)):\n",
    "    sdf.write.partitionBy('order_datetime').parquet(path, mode='append')\n",
    "else:\n",
    "    sdf.write.partitionBy('order_datetime').parquet(path, mode='overwrite')\n"
   ]
  },
  {
   "cell_type": "code",
   "execution_count": 43,
   "metadata": {},
   "outputs": [
    {
     "name": "stderr",
     "output_type": "stream",
     "text": [
      "                                                                                \r"
     ]
    },
    {
     "data": {
      "text/html": [
       "<table border='1'>\n",
       "<tr><th>user_id</th><th>merchant_abn</th><th>dollar_value</th><th>order_id</th><th>order_datetime</th><th>merchant_name</th><th>tags</th><th>take_rate</th><th>type</th><th>postcode</th><th>consumer_id</th><th>name</th><th>address</th><th>state</th><th>gender</th><th>POA_CODE21</th><th>2021_popu</th><th>New cases / day</th><th>month</th><th>total</th></tr>\n",
       "<tr><td>7</td><td>62224020443</td><td>212.60670786220882</td><td>3dfa8cb9-b785-40d...</td><td>2021-12-21</td><td>Hendrerit A Corpo...</td><td>watch, clock, and...</td><td>6.64</td><td>a</td><td>4606</td><td>511685</td><td>Andrea Jones</td><td>122 Brandon Cliff</td><td>QLD</td><td>Female</td><td>4606</td><td>557.0307901493427</td><td>4,522</td><td>2021-12-01</td><td>31967.9</td></tr>\n",
       "<tr><td>7</td><td>99275601275</td><td>111.48028697136225</td><td>58af5b18-f28b-464...</td><td>2021-10-14</td><td>Proin Velit Sed F...</td><td>furniture, home f...</td><td>1.87</td><td>c</td><td>4606</td><td>511685</td><td>Andrea Jones</td><td>122 Brandon Cliff</td><td>QLD</td><td>Female</td><td>4606</td><td>557.0307901493427</td><td>2,683</td><td>2021-10-01</td><td>31132.7</td></tr>\n",
       "<tr><td>7</td><td>26749181046</td><td>154.59228188209104</td><td>8673c0d9-1515-487...</td><td>2021-10-14</td><td>Neque Tellus Inco...</td><td>watch, clock, and...</td><td>3.34</td><td>b</td><td>4606</td><td>511685</td><td>Andrea Jones</td><td>122 Brandon Cliff</td><td>QLD</td><td>Female</td><td>4606</td><td>557.0307901493427</td><td>2,683</td><td>2021-10-01</td><td>31132.7</td></tr>\n",
       "<tr><td>7</td><td>63685007785</td><td>63.33801058439837</td><td>a5962e5d-ab47-431...</td><td>2021-10-14</td><td>Augue Eu Tempor A...</td><td>cable, satellite,...</td><td>0.38</td><td>e</td><td>4606</td><td>511685</td><td>Andrea Jones</td><td>122 Brandon Cliff</td><td>QLD</td><td>Female</td><td>4606</td><td>557.0307901493427</td><td>2,683</td><td>2021-10-01</td><td>31132.7</td></tr>\n",
       "<tr><td>7</td><td>88435572170</td><td>43.22350867054218</td><td>abaae4de-a0ff-4b1...</td><td>2021-09-10</td><td>Et LLP</td><td>gift, card, novel...</td><td>2.84</td><td>c</td><td>4606</td><td>511685</td><td>Andrea Jones</td><td>122 Brandon Cliff</td><td>QLD</td><td>Female</td><td>4606</td><td>557.0307901493427</td><td>1,866</td><td>2021-09-01</td><td>29756.7</td></tr>\n",
       "<tr><td>7</td><td>52065114842</td><td>96.79882878080512</td><td>04a5a999-4756-4b3...</td><td>2021-09-09</td><td>Gravida Non PC</td><td>digital goods: bo...</td><td>3.98</td><td>b</td><td>4606</td><td>511685</td><td>Andrea Jones</td><td>122 Brandon Cliff</td><td>QLD</td><td>Female</td><td>4606</td><td>557.0307901493427</td><td>1,727</td><td>2021-09-01</td><td>29756.7</td></tr>\n",
       "<tr><td>7</td><td>82065156333</td><td>27.987127270166056</td><td>f3149d19-98df-4fc...</td><td>2021-09-09</td><td>Nascetur Ridiculu...</td><td>tent and awning s...</td><td>5.88</td><td>a</td><td>4606</td><td>511685</td><td>Andrea Jones</td><td>122 Brandon Cliff</td><td>QLD</td><td>Female</td><td>4606</td><td>557.0307901493427</td><td>1,727</td><td>2021-09-01</td><td>29756.7</td></tr>\n",
       "<tr><td>7</td><td>43698901053</td><td>504.8594541188235</td><td>f58962c7-4d0d-4bd...</td><td>2022-02-07</td><td>Pede Praesent Ltd</td><td>tent and awning s...</td><td>5.98</td><td>a</td><td>4606</td><td>511685</td><td>Andrea Jones</td><td>122 Brandon Cliff</td><td>QLD</td><td>Female</td><td>4606</td><td>557.0307901493427</td><td>20,276</td><td>2022-02-01</td><td>33085.4</td></tr>\n",
       "<tr><td>7</td><td>76314317957</td><td>11.774892752790667</td><td>0b6a695c-503d-432...</td><td>2022-01-14</td><td>Semper Corp.</td><td>florists supplies...</td><td>5.93</td><td>a</td><td>4606</td><td>511685</td><td>Andrea Jones</td><td>122 Brandon Cliff</td><td>QLD</td><td>Female</td><td>4606</td><td>557.0307901493427</td><td>66,635</td><td>2022-01-01</td><td>32492</td></tr>\n",
       "<tr><td>14935</td><td>79417999332</td><td>136.06570809815838</td><td>23acbb7b-cf98-458...</td><td>2021-11-26</td><td>Phasellus At Company</td><td>gift, card, novel...</td><td>4.95</td><td>b</td><td>4563</td><td>1059280</td><td>Cameron Adams</td><td>0280 Carpenter Lodge</td><td>QLD</td><td>Male</td><td>4563</td><td>4951.486136674352</td><td>1,621</td><td>2021-11-01</td><td>33345</td></tr>\n",
       "<tr><td>14935</td><td>72472909171</td><td>52.973387548612614</td><td>01d968a6-dde1-48c...</td><td>2021-12-01</td><td>Nullam Consulting</td><td>digital goods: bo...</td><td>6.33</td><td>a</td><td>4563</td><td>1059280</td><td>Cameron Adams</td><td>0280 Carpenter Lodge</td><td>QLD</td><td>Male</td><td>4563</td><td>4951.486136674352</td><td>1,418</td><td>2021-12-01</td><td>31967.9</td></tr>\n",
       "<tr><td>14935</td><td>81219314324</td><td>57.278048696966124</td><td>5300ac4f-8b9f-451...</td><td>2021-09-09</td><td>Faucibus Leo Ltd</td><td>gift, card, novel...</td><td>6.35</td><td>a</td><td>4563</td><td>1059280</td><td>Cameron Adams</td><td>0280 Carpenter Lodge</td><td>QLD</td><td>Male</td><td>4563</td><td>4951.486136674352</td><td>1,727</td><td>2021-09-01</td><td>29756.7</td></tr>\n",
       "<tr><td>14939</td><td>79830510987</td><td>246.13590152514766</td><td>666909ed-79c2-45b...</td><td>2021-11-26</td><td>Fusce Corporation</td><td>books, periodical...</td><td>6.61</td><td>a</td><td>3885</td><td>764252</td><td>Cassandra Myers</td><td>910 Payne Heights...</td><td>VIC</td><td>Female</td><td>3885</td><td>1662.920356540894</td><td>1,621</td><td>2021-11-01</td><td>33345</td></tr>\n",
       "<tr><td>14939</td><td>17324645993</td><td>24.108258533478818</td><td>40fd2f7f-a274-420...</td><td>2021-11-26</td><td>Eget Metus In Cor...</td><td>tent and awning s...</td><td>5.73</td><td>a</td><td>3885</td><td>764252</td><td>Cassandra Myers</td><td>910 Payne Heights...</td><td>VIC</td><td>Female</td><td>3885</td><td>1662.920356540894</td><td>1,621</td><td>2021-11-01</td><td>33345</td></tr>\n",
       "<tr><td>14939</td><td>75089928159</td><td>14.806519329659501</td><td>2c5ba1f3-1c5a-4e5...</td><td>2021-11-26</td><td>Porttitor Vulputa...</td><td>gift, card, novel...</td><td>1.67</td><td>c</td><td>3885</td><td>764252</td><td>Cassandra Myers</td><td>910 Payne Heights...</td><td>VIC</td><td>Female</td><td>3885</td><td>1662.920356540894</td><td>1,621</td><td>2021-11-01</td><td>33345</td></tr>\n",
       "<tr><td>14939</td><td>50315283629</td><td>575.3321071340728</td><td>026c6d3d-4f7c-4f4...</td><td>2021-11-26</td><td>Iaculis Aliquet D...</td><td>lawn and garden s...</td><td>1.76</td><td>c</td><td>3885</td><td>764252</td><td>Cassandra Myers</td><td>910 Payne Heights...</td><td>VIC</td><td>Female</td><td>3885</td><td>1662.920356540894</td><td>1,621</td><td>2021-11-01</td><td>33345</td></tr>\n",
       "<tr><td>14939</td><td>56490929085</td><td>48.281688001353515</td><td>f38ad0f5-c2d6-4c9...</td><td>2021-12-01</td><td>Ipsum Nunc LLP</td><td>furniture, home f...</td><td>4.87</td><td>b</td><td>3885</td><td>764252</td><td>Cassandra Myers</td><td>910 Payne Heights...</td><td>VIC</td><td>Female</td><td>3885</td><td>1662.920356540894</td><td>1,418</td><td>2021-12-01</td><td>31967.9</td></tr>\n",
       "<tr><td>14939</td><td>17324645993</td><td>4.902788107139594</td><td>7606470b-1b54-492...</td><td>2021-12-01</td><td>Eget Metus In Cor...</td><td>tent and awning s...</td><td>5.73</td><td>a</td><td>3885</td><td>764252</td><td>Cassandra Myers</td><td>910 Payne Heights...</td><td>VIC</td><td>Female</td><td>3885</td><td>1662.920356540894</td><td>1,418</td><td>2021-12-01</td><td>31967.9</td></tr>\n",
       "<tr><td>14939</td><td>32234779638</td><td>79.831028187241</td><td>c5a256f9-5a1b-41a...</td><td>2021-12-21</td><td>null</td><td>null</td><td>null</td><td>null</td><td>3885</td><td>764252</td><td>Cassandra Myers</td><td>910 Payne Heights...</td><td>VIC</td><td>Female</td><td>3885</td><td>1662.920356540894</td><td>4,522</td><td>2021-12-01</td><td>31967.9</td></tr>\n",
       "<tr><td>14939</td><td>13473158710</td><td>480.08089167318343</td><td>64c69659-8586-4f9...</td><td>2021-12-21</td><td>Tempor Lorem Eget...</td><td>books, periodical...</td><td>6.95</td><td>a</td><td>3885</td><td>764252</td><td>Cassandra Myers</td><td>910 Payne Heights...</td><td>VIC</td><td>Female</td><td>3885</td><td>1662.920356540894</td><td>4,522</td><td>2021-12-01</td><td>31967.9</td></tr>\n",
       "</table>\n",
       "only showing top 20 rows\n"
      ],
      "text/plain": [
       "+-------+------------+------------------+--------------------+--------------+--------------------+--------------------+---------+----+--------+-----------+---------------+--------------------+-----+------+----------+-----------------+---------------+----------+-------+\n",
       "|user_id|merchant_abn|      dollar_value|            order_id|order_datetime|       merchant_name|                tags|take_rate|type|postcode|consumer_id|           name|             address|state|gender|POA_CODE21|        2021_popu|New cases / day|     month|  total|\n",
       "+-------+------------+------------------+--------------------+--------------+--------------------+--------------------+---------+----+--------+-----------+---------------+--------------------+-----+------+----------+-----------------+---------------+----------+-------+\n",
       "|      7| 62224020443|212.60670786220882|3dfa8cb9-b785-40d...|    2021-12-21|Hendrerit A Corpo...|watch, clock, and...|     6.64|   a|    4606|     511685|   Andrea Jones|   122 Brandon Cliff|  QLD|Female|      4606|557.0307901493427|          4,522|2021-12-01|31967.9|\n",
       "|      7| 99275601275|111.48028697136225|58af5b18-f28b-464...|    2021-10-14|Proin Velit Sed F...|furniture, home f...|     1.87|   c|    4606|     511685|   Andrea Jones|   122 Brandon Cliff|  QLD|Female|      4606|557.0307901493427|          2,683|2021-10-01|31132.7|\n",
       "|      7| 26749181046|154.59228188209104|8673c0d9-1515-487...|    2021-10-14|Neque Tellus Inco...|watch, clock, and...|     3.34|   b|    4606|     511685|   Andrea Jones|   122 Brandon Cliff|  QLD|Female|      4606|557.0307901493427|          2,683|2021-10-01|31132.7|\n",
       "|      7| 63685007785| 63.33801058439837|a5962e5d-ab47-431...|    2021-10-14|Augue Eu Tempor A...|cable, satellite,...|     0.38|   e|    4606|     511685|   Andrea Jones|   122 Brandon Cliff|  QLD|Female|      4606|557.0307901493427|          2,683|2021-10-01|31132.7|\n",
       "|      7| 88435572170| 43.22350867054218|abaae4de-a0ff-4b1...|    2021-09-10|              Et LLP|gift, card, novel...|     2.84|   c|    4606|     511685|   Andrea Jones|   122 Brandon Cliff|  QLD|Female|      4606|557.0307901493427|          1,866|2021-09-01|29756.7|\n",
       "|      7| 52065114842| 96.79882878080512|04a5a999-4756-4b3...|    2021-09-09|      Gravida Non PC|digital goods: bo...|     3.98|   b|    4606|     511685|   Andrea Jones|   122 Brandon Cliff|  QLD|Female|      4606|557.0307901493427|          1,727|2021-09-01|29756.7|\n",
       "|      7| 82065156333|27.987127270166056|f3149d19-98df-4fc...|    2021-09-09|Nascetur Ridiculu...|tent and awning s...|     5.88|   a|    4606|     511685|   Andrea Jones|   122 Brandon Cliff|  QLD|Female|      4606|557.0307901493427|          1,727|2021-09-01|29756.7|\n",
       "|      7| 43698901053| 504.8594541188235|f58962c7-4d0d-4bd...|    2022-02-07|   Pede Praesent Ltd|tent and awning s...|     5.98|   a|    4606|     511685|   Andrea Jones|   122 Brandon Cliff|  QLD|Female|      4606|557.0307901493427|         20,276|2022-02-01|33085.4|\n",
       "|      7| 76314317957|11.774892752790667|0b6a695c-503d-432...|    2022-01-14|        Semper Corp.|florists supplies...|     5.93|   a|    4606|     511685|   Andrea Jones|   122 Brandon Cliff|  QLD|Female|      4606|557.0307901493427|         66,635|2022-01-01|  32492|\n",
       "|  14935| 79417999332|136.06570809815838|23acbb7b-cf98-458...|    2021-11-26|Phasellus At Company|gift, card, novel...|     4.95|   b|    4563|    1059280|  Cameron Adams|0280 Carpenter Lodge|  QLD|  Male|      4563|4951.486136674352|          1,621|2021-11-01|  33345|\n",
       "|  14935| 72472909171|52.973387548612614|01d968a6-dde1-48c...|    2021-12-01|   Nullam Consulting|digital goods: bo...|     6.33|   a|    4563|    1059280|  Cameron Adams|0280 Carpenter Lodge|  QLD|  Male|      4563|4951.486136674352|          1,418|2021-12-01|31967.9|\n",
       "|  14935| 81219314324|57.278048696966124|5300ac4f-8b9f-451...|    2021-09-09|    Faucibus Leo Ltd|gift, card, novel...|     6.35|   a|    4563|    1059280|  Cameron Adams|0280 Carpenter Lodge|  QLD|  Male|      4563|4951.486136674352|          1,727|2021-09-01|29756.7|\n",
       "|  14939| 79830510987|246.13590152514766|666909ed-79c2-45b...|    2021-11-26|   Fusce Corporation|books, periodical...|     6.61|   a|    3885|     764252|Cassandra Myers|910 Payne Heights...|  VIC|Female|      3885|1662.920356540894|          1,621|2021-11-01|  33345|\n",
       "|  14939| 17324645993|24.108258533478818|40fd2f7f-a274-420...|    2021-11-26|Eget Metus In Cor...|tent and awning s...|     5.73|   a|    3885|     764252|Cassandra Myers|910 Payne Heights...|  VIC|Female|      3885|1662.920356540894|          1,621|2021-11-01|  33345|\n",
       "|  14939| 75089928159|14.806519329659501|2c5ba1f3-1c5a-4e5...|    2021-11-26|Porttitor Vulputa...|gift, card, novel...|     1.67|   c|    3885|     764252|Cassandra Myers|910 Payne Heights...|  VIC|Female|      3885|1662.920356540894|          1,621|2021-11-01|  33345|\n",
       "|  14939| 50315283629| 575.3321071340728|026c6d3d-4f7c-4f4...|    2021-11-26|Iaculis Aliquet D...|lawn and garden s...|     1.76|   c|    3885|     764252|Cassandra Myers|910 Payne Heights...|  VIC|Female|      3885|1662.920356540894|          1,621|2021-11-01|  33345|\n",
       "|  14939| 56490929085|48.281688001353515|f38ad0f5-c2d6-4c9...|    2021-12-01|      Ipsum Nunc LLP|furniture, home f...|     4.87|   b|    3885|     764252|Cassandra Myers|910 Payne Heights...|  VIC|Female|      3885|1662.920356540894|          1,418|2021-12-01|31967.9|\n",
       "|  14939| 17324645993| 4.902788107139594|7606470b-1b54-492...|    2021-12-01|Eget Metus In Cor...|tent and awning s...|     5.73|   a|    3885|     764252|Cassandra Myers|910 Payne Heights...|  VIC|Female|      3885|1662.920356540894|          1,418|2021-12-01|31967.9|\n",
       "|  14939| 32234779638|   79.831028187241|c5a256f9-5a1b-41a...|    2021-12-21|                null|                null|     null|null|    3885|     764252|Cassandra Myers|910 Payne Heights...|  VIC|Female|      3885|1662.920356540894|          4,522|2021-12-01|31967.9|\n",
       "|  14939| 13473158710|480.08089167318343|64c69659-8586-4f9...|    2021-12-21|Tempor Lorem Eget...|books, periodical...|     6.95|   a|    3885|     764252|Cassandra Myers|910 Payne Heights...|  VIC|Female|      3885|1662.920356540894|          4,522|2021-12-01|31967.9|\n",
       "+-------+------------+------------------+--------------------+--------------+--------------------+--------------------+---------+----+--------+-----------+---------------+--------------------+-----+------+----------+-----------------+---------------+----------+-------+\n",
       "only showing top 20 rows"
      ]
     },
     "execution_count": 43,
     "metadata": {},
     "output_type": "execute_result"
    }
   ],
   "source": [
    "sdf"
   ]
  },
  {
   "cell_type": "code",
   "execution_count": 44,
   "metadata": {},
   "outputs": [
    {
     "name": "stderr",
     "output_type": "stream",
     "text": [
      "                                                                                \r"
     ]
    },
    {
     "data": {
      "text/plain": [
       "4508106"
      ]
     },
     "execution_count": 44,
     "metadata": {},
     "output_type": "execute_result"
    }
   ],
   "source": [
    "sdf.count()"
   ]
  },
  {
   "cell_type": "code",
   "execution_count": null,
   "metadata": {},
   "outputs": [],
   "source": []
  }
 ],
 "metadata": {
  "kernelspec": {
   "display_name": "Python 3.7.9 64-bit",
   "language": "python",
   "name": "python3"
  },
  "language_info": {
   "codemirror_mode": {
    "name": "ipython",
    "version": 3
   },
   "file_extension": ".py",
   "mimetype": "text/x-python",
   "name": "python",
   "nbconvert_exporter": "python",
   "pygments_lexer": "ipython3",
   "version": "3.7.9"
  },
  "orig_nbformat": 4,
  "vscode": {
   "interpreter": {
    "hash": "aee8b7b246df8f9039afb4144a1f6fd8d2ca17a180786b69acc140d282b71a49"
   }
  }
 },
 "nbformat": 4,
 "nbformat_minor": 2
}
