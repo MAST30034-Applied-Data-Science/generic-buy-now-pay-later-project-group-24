{
 "cells": [
  {
   "cell_type": "code",
   "execution_count": 1,
   "metadata": {},
   "outputs": [],
   "source": [
    "import sys\n",
    "sys.path.append('../scripts/')\n",
    "from utility import read_file, create_folder, temp_record_query, temp_record_sdf"
   ]
  },
  {
   "cell_type": "code",
   "execution_count": 2,
   "metadata": {},
   "outputs": [],
   "source": [
    "from pyspark.sql import SparkSession"
   ]
  },
  {
   "cell_type": "code",
   "execution_count": 3,
   "metadata": {},
   "outputs": [
    {
     "name": "stderr",
     "output_type": "stream",
     "text": [
      "Setting default log level to \"WARN\".\n",
      "To adjust logging level use sc.setLogLevel(newLevel). For SparkR, use setLogLevel(newLevel).\n"
     ]
    },
    {
     "name": "stdout",
     "output_type": "stream",
     "text": [
      "22/09/14 12:30:29 WARN NativeCodeLoader: Unable to load native-hadoop library for your platform... using builtin-java classes where applicable\n",
      "22/09/14 12:30:30 WARN Utils: Service 'SparkUI' could not bind on port 4040. Attempting port 4041.\n"
     ]
    }
   ],
   "source": [
    "spark = (\n",
    "    # Create a spark session (which will run spark jobs)\n",
    "    SparkSession.builder.appName(\"Project 2\")\n",
    "    .config(\"spark.sql.repl.eagerEval.enabled\", True) \n",
    "    .config(\"spark.sql.parquet.cacheMetadata\", \"true\")\n",
    "    .config('spark.executor.memory','10g')\n",
    "    .config('spark.driver.memory','12g')\n",
    "    .config('spark.driver.maxResultsSize', '10 GiB')\n",
    "    .config('spark.shuffle.file.buffer', '64k')\n",
    "    # .config(\"spark.network.timeout\", \"3600s\")\n",
    "    # .master(\"local[6]\")\n",
    "    .getOrCreate()\n",
    "    )"
   ]
  },
  {
   "cell_type": "markdown",
   "metadata": {},
   "source": [
    "### 1. Connect Merchants and Transactions AS `df`"
   ]
  },
  {
   "cell_type": "code",
   "execution_count": 4,
   "metadata": {},
   "outputs": [
    {
     "name": "stdout",
     "output_type": "stream",
     "text": [
      "================ Merchant ================\n",
      "|> Loading File...\n"
     ]
    },
    {
     "name": "stderr",
     "output_type": "stream",
     "text": [
      "                                                                                \r"
     ]
    },
    {
     "name": "stdout",
     "output_type": "stream",
     "text": [
      "|> Loading Finished!\n",
      "-RECORD 0-----------------------------\n",
      " merchant_name | Felis Limited        \n",
      " tags          | furniture, home f... \n",
      " merchant_abn  | 10023283211          \n",
      " take_rate     | 0.18                 \n",
      " type          | e                    \n",
      "only showing top 1 row\n",
      "\n"
     ]
    }
   ],
   "source": [
    "print(\"================ Merchant ================\")\n",
    "merchants_sdf = read_file(spark, 'split_tags.parquet', '../data/merchants_preprocess/', truncate=20)"
   ]
  },
  {
   "cell_type": "code",
   "execution_count": 5,
   "metadata": {},
   "outputs": [
    {
     "name": "stdout",
     "output_type": "stream",
     "text": [
      "================ Transactions ================\n",
      "|> Loading File...\n"
     ]
    },
    {
     "name": "stderr",
     "output_type": "stream",
     "text": [
      "                                                                                \r"
     ]
    },
    {
     "name": "stdout",
     "output_type": "stream",
     "text": [
      "|> Loading Finished!\n",
      "-RECORD 0----------------------------------------------\n",
      " user_id        | 18478                                \n",
      " merchant_abn   | 62191208634                          \n",
      " dollar_value   | 63.255848959735246                   \n",
      " order_id       | 949a63c8-29f7-4ab0-ada4-99ac50a88952 \n",
      " order_datetime | 2021-08-20                           \n",
      "only showing top 1 row\n",
      "\n"
     ]
    }
   ],
   "source": [
    "print(\"================ Transactions ================\")\n",
    "transactions_sdf = read_file(spark, 'transactions_20210228_20210827_snapshot')"
   ]
  },
  {
   "cell_type": "code",
   "execution_count": 6,
   "metadata": {},
   "outputs": [],
   "source": [
    "df = transactions_sdf.join(merchants_sdf, how='left', on='merchant_abn')"
   ]
  },
  {
   "cell_type": "markdown",
   "metadata": {},
   "source": [
    "### 2. `df` join with Customer"
   ]
  },
  {
   "cell_type": "code",
   "execution_count": 7,
   "metadata": {},
   "outputs": [
    {
     "name": "stdout",
     "output_type": "stream",
     "text": [
      "|> Loading File...\n",
      "|> Loading Finished!\n",
      "-RECORD 0---------------------------------\n",
      " name        | Courtney Mendez            \n",
      " address     | 802 Knapp Harbors Apt. 769 \n",
      " state       | QLD                        \n",
      " postcode    | 9013                       \n",
      " gender      | Female                     \n",
      " consumer_id | 680810                     \n",
      "only showing top 1 row\n",
      "\n"
     ]
    }
   ],
   "source": [
    "customer_sdf = read_file(spark, 'consumer_data.parquet', '../data/curated/')"
   ]
  },
  {
   "cell_type": "code",
   "execution_count": 8,
   "metadata": {},
   "outputs": [
    {
     "name": "stdout",
     "output_type": "stream",
     "text": [
      "+------------+-------+------------------+--------------------+--------------+--------------------+--------------------+---------+----+\n",
      "|merchant_abn|user_id|      dollar_value|            order_id|order_datetime|       merchant_name|                tags|take_rate|type|\n",
      "+------------+-------+------------------+--------------------+--------------+--------------------+--------------------+---------+----+\n",
      "| 62191208634|  18478|63.255848959735246|949a63c8-29f7-4ab...|    2021-08-20|Cursus Non Egesta...|furniture, home f...|     2.17|   c|\n",
      "| 15549624934|      2| 130.3505283105634|6a84c3cf-612a-457...|    2021-08-20|  Commodo Associates|opticians, optica...|     2.76|   c|\n",
      "| 64403598239|  18479|120.15860593212783|b10dcc33-e53f-425...|    2021-08-20|Lobortis Ultrices...|music shops - mus...|     6.31|   a|\n",
      "+------------+-------+------------------+--------------------+--------------+--------------------+--------------------+---------+----+\n",
      "only showing top 3 rows\n",
      "\n"
     ]
    }
   ],
   "source": [
    "df.show(3)"
   ]
  },
  {
   "cell_type": "code",
   "execution_count": 9,
   "metadata": {},
   "outputs": [],
   "source": [
    "df = df.join(customer_sdf, df.user_id == customer_sdf.consumer_id, 'left')"
   ]
  },
  {
   "cell_type": "markdown",
   "metadata": {},
   "source": [
    "### 3. `df` join with the external dataset "
   ]
  },
  {
   "cell_type": "code",
   "execution_count": 10,
   "metadata": {},
   "outputs": [
    {
     "name": "stdout",
     "output_type": "stream",
     "text": [
      "|> Loading File...\n",
      "|> Loading Finished!\n"
     ]
    },
    {
     "name": "stderr",
     "output_type": "stream",
     "text": [
      "                                                                                \r"
     ]
    },
    {
     "name": "stdout",
     "output_type": "stream",
     "text": [
      "-RECORD 0----------\n",
      " Date | 2020-02-21 \n",
      " AUS  | 1          \n",
      " NSW  | 1          \n",
      " VIC  | 1          \n",
      " QLD  | -1         \n",
      " SA   | 2          \n",
      " WA   | 2          \n",
      " TAS  | -1         \n",
      " NT   | 4          \n",
      " ACT  | 4          \n",
      "only showing top 1 row\n",
      "\n"
     ]
    }
   ],
   "source": [
    "rrm_sdf = read_file(spark, 'external_rrm.parquet', '../data/curated/', truncate=20)"
   ]
  },
  {
   "cell_type": "code",
   "execution_count": 11,
   "metadata": {},
   "outputs": [
    {
     "name": "stderr",
     "output_type": "stream",
     "text": [
      "[Stage 13:>                                                         (0 + 8) / 8]\r"
     ]
    },
    {
     "name": "stdout",
     "output_type": "stream",
     "text": [
      "+------------+-------+------------------+--------------------+--------------+--------------------+--------------------+---------+----+--------------+---------------+-----+--------+------+-----------+\n",
      "|merchant_abn|user_id|      dollar_value|            order_id|order_datetime|       merchant_name|                tags|take_rate|type|          name|        address|state|postcode|gender|consumer_id|\n",
      "+------------+-------+------------------+--------------------+--------------+--------------------+--------------------+---------+----+--------------+---------------+-----+--------+------+-----------+\n",
      "| 96442520325|      7|29.863817960377617|48dd50dd-291d-43d...|    2021-04-07|Nullam Lobortis Q...|computers, comput...|     3.65|   b|James Williams|3709 Mary River|  TAS|    7248|  Male|          7|\n",
      "| 29566626791|      7| 80.43460573195489|13d12435-4f1d-4b6...|    2021-04-07|                null|                null|     null|null|James Williams|3709 Mary River|  TAS|    7248|  Male|          7|\n",
      "| 47374330858|  18481|228.79479290791025|74c6220e-4c5c-4fa...|    2021-06-18|Aliquam Ultrices ...|computer programm...|     3.16|   b|          null|           null| null|    null|  null|       null|\n",
      "| 29936037423|  18481|44.908946485232335|9527ca89-dfe2-469...|    2021-06-11|Sodales Incorporated|hobby, toy and ga...|     1.97|   c|          null|           null| null|    null|  null|       null|\n",
      "| 60602272553|  18481| 57.19833587226845|8821a39f-2c86-4ac...|    2021-05-24|Sagittis Duis Gra...|opticians, optica...|     4.93|   b|          null|           null| null|    null|  null|       null|\n",
      "+------------+-------+------------------+--------------------+--------------+--------------------+--------------------+---------+----+--------------+---------------+-----+--------+------+-----------+\n",
      "only showing top 5 rows\n",
      "\n"
     ]
    },
    {
     "name": "stderr",
     "output_type": "stream",
     "text": [
      "                                                                                \r"
     ]
    }
   ],
   "source": [
    "df.show(5)"
   ]
  },
  {
   "cell_type": "code",
   "execution_count": 12,
   "metadata": {},
   "outputs": [
    {
     "name": "stdout",
     "output_type": "stream",
     "text": [
      "+----------+---+---+---+---+---+---+---+---+---+\n",
      "|      Date|AUS|NSW|VIC|QLD| SA| WA|TAS| NT|ACT|\n",
      "+----------+---+---+---+---+---+---+---+---+---+\n",
      "|2020-02-21|  1|  1|  1| -1|  2|  2| -1|  4|  4|\n",
      "|2020-02-22|  1|  1|  1| -1|  2|  1| -1|  5|  6|\n",
      "|2020-02-23|  1|  0|  1| -1|  2|  2| -1|  6|  7|\n",
      "|2020-02-24|  1|  1|  1| -1|  2|  2| -1|  6|  7|\n",
      "|2020-02-25|  1|  1|  2| -1|  3|  1| -1|  7|  8|\n",
      "+----------+---+---+---+---+---+---+---+---+---+\n",
      "only showing top 5 rows\n",
      "\n"
     ]
    }
   ],
   "source": [
    "rrm_sdf.show(5)"
   ]
  },
  {
   "cell_type": "code",
   "execution_count": 21,
   "metadata": {},
   "outputs": [],
   "source": [
    "df = df.join(rrm_sdf, df.order_datetime == rrm_sdf.Date, 'left')"
   ]
  },
  {
   "cell_type": "code",
   "execution_count": 28,
   "metadata": {},
   "outputs": [
    {
     "name": "stderr",
     "output_type": "stream",
     "text": [
      "                                                                                \r"
     ]
    },
    {
     "data": {
      "text/html": [
       "<table border='1'>\n",
       "<tr><th>state</th><th>AUS</th><th>NSW</th><th>VIC</th><th>QLD</th><th>SA</th><th>WA</th><th>TAS</th><th>NT</th><th>ACT</th></tr>\n",
       "<tr><td>null</td><td>-24</td><td>-47</td><td>-39</td><td>1</td><td>2</td><td>11</td><td>-6</td><td>11</td><td>-59</td></tr>\n",
       "<tr><td>null</td><td>-24</td><td>-47</td><td>-39</td><td>1</td><td>2</td><td>11</td><td>-6</td><td>11</td><td>-59</td></tr>\n",
       "<tr><td>null</td><td>-24</td><td>-47</td><td>-39</td><td>1</td><td>2</td><td>11</td><td>-6</td><td>11</td><td>-59</td></tr>\n",
       "<tr><td>null</td><td>-24</td><td>-47</td><td>-39</td><td>1</td><td>2</td><td>11</td><td>-6</td><td>11</td><td>-59</td></tr>\n",
       "<tr><td>null</td><td>-24</td><td>-47</td><td>-39</td><td>1</td><td>2</td><td>11</td><td>-6</td><td>11</td><td>-59</td></tr>\n",
       "<tr><td>null</td><td>-24</td><td>-47</td><td>-39</td><td>1</td><td>2</td><td>11</td><td>-6</td><td>11</td><td>-59</td></tr>\n",
       "<tr><td>null</td><td>-24</td><td>-47</td><td>-39</td><td>1</td><td>2</td><td>11</td><td>-6</td><td>11</td><td>-59</td></tr>\n",
       "<tr><td>null</td><td>-24</td><td>-47</td><td>-39</td><td>1</td><td>2</td><td>11</td><td>-6</td><td>11</td><td>-59</td></tr>\n",
       "<tr><td>NSW</td><td>-24</td><td>-47</td><td>-39</td><td>1</td><td>2</td><td>11</td><td>-6</td><td>11</td><td>-59</td></tr>\n",
       "<tr><td>NSW</td><td>-24</td><td>-47</td><td>-39</td><td>1</td><td>2</td><td>11</td><td>-6</td><td>11</td><td>-59</td></tr>\n",
       "<tr><td>NSW</td><td>-24</td><td>-47</td><td>-39</td><td>1</td><td>2</td><td>11</td><td>-6</td><td>11</td><td>-59</td></tr>\n",
       "<tr><td>TAS</td><td>-24</td><td>-47</td><td>-39</td><td>1</td><td>2</td><td>11</td><td>-6</td><td>11</td><td>-59</td></tr>\n",
       "<tr><td>null</td><td>-24</td><td>-47</td><td>-39</td><td>1</td><td>2</td><td>11</td><td>-6</td><td>11</td><td>-59</td></tr>\n",
       "<tr><td>TAS</td><td>-24</td><td>-47</td><td>-39</td><td>1</td><td>2</td><td>11</td><td>-6</td><td>11</td><td>-59</td></tr>\n",
       "<tr><td>null</td><td>-24</td><td>-47</td><td>-39</td><td>1</td><td>2</td><td>11</td><td>-6</td><td>11</td><td>-59</td></tr>\n",
       "<tr><td>TAS</td><td>-24</td><td>-47</td><td>-39</td><td>1</td><td>2</td><td>11</td><td>-6</td><td>11</td><td>-59</td></tr>\n",
       "<tr><td>null</td><td>-24</td><td>-47</td><td>-39</td><td>1</td><td>2</td><td>11</td><td>-6</td><td>11</td><td>-59</td></tr>\n",
       "<tr><td>null</td><td>-24</td><td>-47</td><td>-39</td><td>1</td><td>2</td><td>11</td><td>-6</td><td>11</td><td>-59</td></tr>\n",
       "<tr><td>null</td><td>-24</td><td>-47</td><td>-39</td><td>1</td><td>2</td><td>11</td><td>-6</td><td>11</td><td>-59</td></tr>\n",
       "<tr><td>QLD</td><td>-24</td><td>-47</td><td>-39</td><td>1</td><td>2</td><td>11</td><td>-6</td><td>11</td><td>-59</td></tr>\n",
       "</table>\n",
       "only showing top 20 rows\n"
      ],
      "text/plain": [
       "+-----+---+---+---+---+---+---+---+---+---+\n",
       "|state|AUS|NSW|VIC|QLD| SA| WA|TAS| NT|ACT|\n",
       "+-----+---+---+---+---+---+---+---+---+---+\n",
       "| null|-24|-47|-39|  1|  2| 11| -6| 11|-59|\n",
       "| null|-24|-47|-39|  1|  2| 11| -6| 11|-59|\n",
       "| null|-24|-47|-39|  1|  2| 11| -6| 11|-59|\n",
       "| null|-24|-47|-39|  1|  2| 11| -6| 11|-59|\n",
       "| null|-24|-47|-39|  1|  2| 11| -6| 11|-59|\n",
       "| null|-24|-47|-39|  1|  2| 11| -6| 11|-59|\n",
       "| null|-24|-47|-39|  1|  2| 11| -6| 11|-59|\n",
       "| null|-24|-47|-39|  1|  2| 11| -6| 11|-59|\n",
       "|  NSW|-24|-47|-39|  1|  2| 11| -6| 11|-59|\n",
       "|  NSW|-24|-47|-39|  1|  2| 11| -6| 11|-59|\n",
       "|  NSW|-24|-47|-39|  1|  2| 11| -6| 11|-59|\n",
       "|  TAS|-24|-47|-39|  1|  2| 11| -6| 11|-59|\n",
       "| null|-24|-47|-39|  1|  2| 11| -6| 11|-59|\n",
       "|  TAS|-24|-47|-39|  1|  2| 11| -6| 11|-59|\n",
       "| null|-24|-47|-39|  1|  2| 11| -6| 11|-59|\n",
       "|  TAS|-24|-47|-39|  1|  2| 11| -6| 11|-59|\n",
       "| null|-24|-47|-39|  1|  2| 11| -6| 11|-59|\n",
       "| null|-24|-47|-39|  1|  2| 11| -6| 11|-59|\n",
       "| null|-24|-47|-39|  1|  2| 11| -6| 11|-59|\n",
       "|  QLD|-24|-47|-39|  1|  2| 11| -6| 11|-59|\n",
       "+-----+---+---+---+---+---+---+---+---+---+\n",
       "only showing top 20 rows"
      ]
     },
     "execution_count": 28,
     "metadata": {},
     "output_type": "execute_result"
    }
   ],
   "source": [
    "cols = ['state', 'AUS', 'NSW', 'VIC', 'QLD', 'SA', 'WA', 'TAS', 'NT', 'ACT']\n",
    "df.select(cols).toDF('state', 'AUS', 'NSW', 'VIC', 'QLD', 'SA', 'WA', 'TAS', 'NT', 'ACT')"
   ]
  },
  {
   "cell_type": "code",
   "execution_count": null,
   "metadata": {},
   "outputs": [],
   "source": []
  }
 ],
 "metadata": {
  "kernelspec": {
   "display_name": "Python 3.7.9 64-bit",
   "language": "python",
   "name": "python3"
  },
  "language_info": {
   "codemirror_mode": {
    "name": "ipython",
    "version": 3
   },
   "file_extension": ".py",
   "mimetype": "text/x-python",
   "name": "python",
   "nbconvert_exporter": "python",
   "pygments_lexer": "ipython3",
   "version": "3.7.9"
  },
  "orig_nbformat": 4,
  "vscode": {
   "interpreter": {
    "hash": "aee8b7b246df8f9039afb4144a1f6fd8d2ca17a180786b69acc140d282b71a49"
   }
  }
 },
 "nbformat": 4,
 "nbformat_minor": 2
}
