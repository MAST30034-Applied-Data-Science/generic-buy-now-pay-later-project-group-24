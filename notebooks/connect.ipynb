{
 "cells": [
  {
   "cell_type": "code",
   "execution_count": 1,
   "metadata": {},
   "outputs": [],
   "source": [
    "import sys\n",
    "sys.path.append('../scripts/')\n",
    "from utility import read_file, create_folder, temp_record_query, temp_record_sdf"
   ]
  },
  {
   "cell_type": "code",
   "execution_count": 2,
   "metadata": {},
   "outputs": [],
   "source": [
    "from pyspark.sql import SparkSession"
   ]
  },
  {
   "cell_type": "code",
   "execution_count": 3,
   "metadata": {},
   "outputs": [
    {
     "name": "stdout",
     "output_type": "stream",
     "text": [
      "22/09/19 12:40:40 WARN Utils: Your hostname, SukiXuudeMacBook-Pro.local resolves to a loopback address: 127.0.0.1; using 100.70.12.31 instead (on interface en0)\n",
      "22/09/19 12:40:40 WARN Utils: Set SPARK_LOCAL_IP if you need to bind to another address\n"
     ]
    },
    {
     "name": "stderr",
     "output_type": "stream",
     "text": [
      "Setting default log level to \"WARN\".\n",
      "To adjust logging level use sc.setLogLevel(newLevel). For SparkR, use setLogLevel(newLevel).\n"
     ]
    },
    {
     "name": "stdout",
     "output_type": "stream",
     "text": [
      "22/09/19 12:40:41 WARN NativeCodeLoader: Unable to load native-hadoop library for your platform... using builtin-java classes where applicable\n",
      "22/09/19 12:40:42 WARN Utils: Service 'SparkUI' could not bind on port 4040. Attempting port 4041.\n",
      "22/09/19 12:40:42 WARN Utils: Service 'SparkUI' could not bind on port 4041. Attempting port 4042.\n"
     ]
    }
   ],
   "source": [
    "spark = (\n",
    "    # Create a spark session (which will run spark jobs)\n",
    "    SparkSession.builder.appName(\"Project 2\")\n",
    "    .config(\"spark.sql.repl.eagerEval.enabled\", True) \n",
    "    .config(\"spark.sql.parquet.cacheMetadata\", \"true\")\n",
    "    .config('spark.executor.memory','10g')\n",
    "    .config('spark.driver.memory','12g')\n",
    "    .config('spark.driver.maxResultsSize', '10 GiB')\n",
    "    .config('spark.shuffle.file.buffer', '64k')\n",
    "    # .config(\"spark.network.timeout\", \"3600s\")\n",
    "    # .master(\"local[6]\")\n",
    "    .getOrCreate()\n",
    "    )"
   ]
  },
  {
   "cell_type": "markdown",
   "metadata": {},
   "source": [
    "### 1. Connect Merchants and Transactions AS `sdf`"
   ]
  },
  {
   "cell_type": "code",
   "execution_count": 4,
   "metadata": {},
   "outputs": [
    {
     "name": "stdout",
     "output_type": "stream",
     "text": [
      "================ Merchant ================\n",
      "|> Loading File...\n"
     ]
    },
    {
     "name": "stderr",
     "output_type": "stream",
     "text": [
      "                                                                                \r"
     ]
    },
    {
     "name": "stdout",
     "output_type": "stream",
     "text": [
      "|> Loading Finished!\n",
      "-RECORD 0-----------------------------\n",
      " merchant_name | Felis Limited        \n",
      " tags          | furniture, home f... \n",
      " merchant_abn  | 10023283211          \n",
      " take_rate     | 0.18                 \n",
      " type          | e                    \n",
      "only showing top 1 row\n",
      "\n",
      "There are 4026 data, and 4026 of them have no null value.\n"
     ]
    }
   ],
   "source": [
    "print(\"================ Merchant ================\")\n",
    "merchants_sdf = read_file(spark, 'merchants_data.parquet', '../data/curated/', truncate=20)\n",
    "temp = merchants_sdf.dropna(how='any').count()\n",
    "print( f'There are {merchants_sdf.count()} data, and {temp} of them have no null value.')"
   ]
  },
  {
   "cell_type": "code",
   "execution_count": 5,
   "metadata": {},
   "outputs": [
    {
     "name": "stdout",
     "output_type": "stream",
     "text": [
      "================ Transactions ================\n",
      "|> Loading File...\n"
     ]
    },
    {
     "name": "stderr",
     "output_type": "stream",
     "text": [
      "                                                                                \r"
     ]
    },
    {
     "name": "stdout",
     "output_type": "stream",
     "text": [
      "|> Loading Finished!\n",
      "-RECORD 0----------------------------------------------\n",
      " user_id        | 18478                                \n",
      " merchant_abn   | 62191208634                          \n",
      " dollar_value   | 63.255848959735246                   \n",
      " order_id       | 949a63c8-29f7-4ab0-ada4-99ac50a88952 \n",
      " order_datetime | 2021-08-20                           \n",
      "only showing top 1 row\n",
      "\n"
     ]
    },
    {
     "name": "stderr",
     "output_type": "stream",
     "text": [
      "                                                                                \r"
     ]
    },
    {
     "name": "stdout",
     "output_type": "stream",
     "text": [
      "There are 3643266 data, and 3643266 of them have no null value.\n"
     ]
    },
    {
     "name": "stderr",
     "output_type": "stream",
     "text": [
      "                                                                                \r"
     ]
    }
   ],
   "source": [
    "print(\"================ Transactions ================\")\n",
    "transactions_sdf = read_file(spark, 'transactions_20210228_20210827_snapshot')\n",
    "temp = transactions_sdf.dropna(how='any').count()\n",
    "print( f'There are {transactions_sdf.count()} data, and {temp} of them have no null value.')"
   ]
  },
  {
   "cell_type": "markdown",
   "metadata": {},
   "source": [
    "- Known that Transactions and Merchants table have no null value"
   ]
  },
  {
   "cell_type": "code",
   "execution_count": 6,
   "metadata": {},
   "outputs": [
    {
     "name": "stderr",
     "output_type": "stream",
     "text": [
      "                                                                                \r"
     ]
    },
    {
     "name": "stdout",
     "output_type": "stream",
     "text": [
      "There are 3643266 data, and 3494038 of them have no null value.\n"
     ]
    }
   ],
   "source": [
    "sdf = transactions_sdf.join(merchants_sdf, how='left', on='merchant_abn')\n",
    "temp = sdf.dropna(how='any', subset=['merchant_name']).count()\n",
    "print( f'There are {sdf.count()} data, and {temp} of them have no null value.')"
   ]
  },
  {
   "cell_type": "markdown",
   "metadata": {},
   "source": [
    "- After connect the Transactions and Merchants Table by `merchant_abn`, we find that some Transactions not from the merchants in the table. Because they are not in our list of rank therefore, delete those null value."
   ]
  },
  {
   "cell_type": "code",
   "execution_count": 7,
   "metadata": {},
   "outputs": [],
   "source": [
    "# sdf = sdf.dropna(how='any', subset=['merchant_name'])"
   ]
  },
  {
   "cell_type": "markdown",
   "metadata": {},
   "source": [
    "- There are 4026 merchants, and for `transactions_20210228_20210827_snapshot` have 3643266 records. \n",
    "\n",
    "    After combination, there are **3494038** rest. **3643266 - 3494038 = 149228** records has been deleted. \n",
    "    \n",
    "    `149228 / 3643266 = 0.04095995186736297`"
   ]
  },
  {
   "cell_type": "code",
   "execution_count": 8,
   "metadata": {},
   "outputs": [
    {
     "name": "stdout",
     "output_type": "stream",
     "text": [
      "+------------+-------+------------------+--------------------+--------------+--------------------+--------------------+---------+----+\n",
      "|merchant_abn|user_id|      dollar_value|            order_id|order_datetime|       merchant_name|                tags|take_rate|type|\n",
      "+------------+-------+------------------+--------------------+--------------+--------------------+--------------------+---------+----+\n",
      "| 62191208634|  18478|63.255848959735246|949a63c8-29f7-4ab...|    2021-08-20|Cursus Non Egesta...|furniture, home f...|     2.17|   c|\n",
      "| 15549624934|      2| 130.3505283105634|6a84c3cf-612a-457...|    2021-08-20|  Commodo Associates|opticians, optica...|     2.76|   c|\n",
      "| 64403598239|  18479|120.15860593212783|b10dcc33-e53f-425...|    2021-08-20|Lobortis Ultrices...|music shops - mus...|     6.31|   a|\n",
      "| 60956456424|      3| 136.6785200286976|0f09c5a5-784e-447...|    2021-08-20|Ultricies Digniss...|gift, card, novel...|     4.69|   b|\n",
      "| 94493496784|  18479| 72.96316578355305|f6c78c1a-4600-4c5...|    2021-08-20|Dictum Phasellus ...|gift, card, novel...|     5.65|   a|\n",
      "+------------+-------+------------------+--------------------+--------------+--------------------+--------------------+---------+----+\n",
      "only showing top 5 rows\n",
      "\n"
     ]
    }
   ],
   "source": [
    "sdf.show(5)"
   ]
  },
  {
   "cell_type": "markdown",
   "metadata": {},
   "source": [
    "### 2. `sdf` join with Customer"
   ]
  },
  {
   "cell_type": "code",
   "execution_count": 9,
   "metadata": {},
   "outputs": [
    {
     "name": "stdout",
     "output_type": "stream",
     "text": [
      "================ Customer ================\n",
      "|> Loading File...\n",
      "|> Loading Finished!\n",
      "-RECORD 0---------------------------------\n",
      " consumer_id | 680810                     \n",
      " name        | Courtney Mendez            \n",
      " address     | 802 Knapp Harbors Apt. 769 \n",
      " state       | QLD                        \n",
      " postcode    | 9013                       \n",
      " gender      | Female                     \n",
      " user_id     | 71144                      \n",
      "only showing top 1 row\n",
      "\n",
      "There are 499999 data, and 499999 of them have no null value.\n"
     ]
    }
   ],
   "source": [
    "print(\"================ Customer ================\")\n",
    "customer_sdf = read_file(spark, 'new_consumer_data.parquet', '../data/curated/')\n",
    "temp = customer_sdf.dropna(how='any').count()\n",
    "print( f'There are {customer_sdf.count()} data, and {temp} of them have no null value.')"
   ]
  },
  {
   "cell_type": "code",
   "execution_count": 10,
   "metadata": {},
   "outputs": [
    {
     "name": "stderr",
     "output_type": "stream",
     "text": [
      "[Stage 42:>                                                         (0 + 8) / 8]\r"
     ]
    },
    {
     "name": "stdout",
     "output_type": "stream",
     "text": [
      "There are 3643266 data, and 3643266 of them have no null value.\n"
     ]
    },
    {
     "name": "stderr",
     "output_type": "stream",
     "text": [
      "                                                                                \r"
     ]
    }
   ],
   "source": [
    "sdf = sdf.join(customer_sdf, how='left', on='user_id')\n",
    "temp = sdf.dropna(how='any', subset=['consumer_id']).count()\n",
    "print( f'There are {sdf.count()} data, and {temp} of them have no null value.')"
   ]
  },
  {
   "cell_type": "code",
   "execution_count": 11,
   "metadata": {},
   "outputs": [
    {
     "name": "stderr",
     "output_type": "stream",
     "text": [
      "[Stage 46:>                                                         (0 + 8) / 8]\r"
     ]
    },
    {
     "name": "stdout",
     "output_type": "stream",
     "text": [
      "+-------+------------+------------------+--------------------+--------------+--------------------+--------------------+---------+----+-----------+------------+--------------------+-----+--------+-----------+\n",
      "|user_id|merchant_abn|      dollar_value|            order_id|order_datetime|       merchant_name|                tags|take_rate|type|consumer_id|        name|             address|state|postcode|     gender|\n",
      "+-------+------------+------------------+--------------------+--------------+--------------------+--------------------+---------+----+-----------+------------+--------------------+-----+--------+-----------+\n",
      "|      7| 96442520325|29.863817960377617|48dd50dd-291d-43d...|    2021-04-07|Nullam Lobortis Q...|computers, comput...|     3.65|   b|     511685|Andrea Jones|   122 Brandon Cliff|  QLD|    4606|     Female|\n",
      "|      7| 29566626791| 80.43460573195489|13d12435-4f1d-4b6...|    2021-04-07|                null|                null|     null|null|     511685|Andrea Jones|   122 Brandon Cliff|  QLD|    4606|     Female|\n",
      "|  18481| 47374330858|228.79479290791025|74c6220e-4c5c-4fa...|    2021-06-18|Aliquam Ultrices ...|computer programm...|     3.16|   b|      54430|Amanda Vance|5373 Jonathan For...|   WA|    6258|Undisclosed|\n",
      "|  18481| 29936037423|44.908946485232335|9527ca89-dfe2-469...|    2021-06-11|Sodales Incorporated|hobby, toy and ga...|     1.97|   c|      54430|Amanda Vance|5373 Jonathan For...|   WA|    6258|Undisclosed|\n",
      "|  18481| 60602272553| 57.19833587226845|8821a39f-2c86-4ac...|    2021-05-24|Sagittis Duis Gra...|opticians, optica...|     4.93|   b|      54430|Amanda Vance|5373 Jonathan For...|   WA|    6258|Undisclosed|\n",
      "+-------+------------+------------------+--------------------+--------------+--------------------+--------------------+---------+----+-----------+------------+--------------------+-----+--------+-----------+\n",
      "only showing top 5 rows\n",
      "\n"
     ]
    },
    {
     "name": "stderr",
     "output_type": "stream",
     "text": [
      "                                                                                \r"
     ]
    }
   ],
   "source": [
    "sdf.show(5)"
   ]
  },
  {
   "cell_type": "markdown",
   "metadata": {},
   "source": [
    "### 3. `sdf` join with the external dataset  --- rrm"
   ]
  },
  {
   "cell_type": "code",
   "execution_count": 11,
   "metadata": {},
   "outputs": [
    {
     "name": "stdout",
     "output_type": "stream",
     "text": [
      "================ RRM_External ================\n",
      "|> Loading File...\n",
      "|> Loading Finished!\n"
     ]
    },
    {
     "name": "stderr",
     "output_type": "stream",
     "text": [
      "                                                                                \r"
     ]
    },
    {
     "name": "stdout",
     "output_type": "stream",
     "text": [
      "-RECORD 0----------\n",
      " Date | 2020-02-21 \n",
      " AUS  | 1          \n",
      " NSW  | 1          \n",
      " VIC  | 1          \n",
      " QLD  | -1         \n",
      " SA   | 2          \n",
      " WA   | 2          \n",
      " TAS  | -1         \n",
      " NT   | 4          \n",
      " ACT  | 4          \n",
      "only showing top 1 row\n",
      "\n",
      "There are 761 data, and 761 of them have no null value.\n"
     ]
    }
   ],
   "source": [
    "print(\"================ RRM_External ================\")\n",
    "rrm_sdf = read_file(spark, 'external_rrm.parquet', '../data/curated/', truncate=20)\n",
    "temp = rrm_sdf.dropna(how='any').count()\n",
    "print( f'There are {rrm_sdf.count()} data, and {temp} of them have no null value.')"
   ]
  },
  {
   "cell_type": "code",
   "execution_count": 12,
   "metadata": {},
   "outputs": [
    {
     "name": "stdout",
     "output_type": "stream",
     "text": [
      "There are 3643266 data, and 3643266 of them have no null value.\n"
     ]
    }
   ],
   "source": [
    "sdf = sdf.join(rrm_sdf, sdf.order_datetime == rrm_sdf.Date, 'left')\n",
    "temp = sdf.dropna(how='any', subset=['Date']).count()\n",
    "print( f'There are {sdf.count()} data, and {temp} of them have no null value.')"
   ]
  },
  {
   "cell_type": "code",
   "execution_count": 13,
   "metadata": {},
   "outputs": [
    {
     "name": "stderr",
     "output_type": "stream",
     "text": [
      "                                                                                \r"
     ]
    },
    {
     "name": "stdout",
     "output_type": "stream",
     "text": [
      "+-------+------------+------------------+--------------------+--------------+--------------------+--------------------+---------+----+-----------+------------+--------------------+-----+--------+-----------+----------+---+---+---+---+---+---+---+---+---+\n",
      "|user_id|merchant_abn|      dollar_value|            order_id|order_datetime|       merchant_name|                tags|take_rate|type|consumer_id|        name|             address|state|postcode|     gender|      Date|AUS|NSW|VIC|QLD| SA| WA|TAS| NT|ACT|\n",
      "+-------+------------+------------------+--------------------+--------------+--------------------+--------------------+---------+----+-----------+------------+--------------------+-----+--------+-----------+----------+---+---+---+---+---+---+---+---+---+\n",
      "|      7| 96442520325|29.863817960377617|48dd50dd-291d-43d...|    2021-04-07|Nullam Lobortis Q...|computers, comput...|     3.65|   b|     511685|Andrea Jones|   122 Brandon Cliff|  QLD|    4606|     Female|2021-04-07|-12|-11|-17|-16|-11| -2|-12|  6| -6|\n",
      "|      7| 29566626791| 80.43460573195489|13d12435-4f1d-4b6...|    2021-04-07|                null|                null|     null|null|     511685|Andrea Jones|   122 Brandon Cliff|  QLD|    4606|     Female|2021-04-07|-12|-11|-17|-16|-11| -2|-12|  6| -6|\n",
      "|  18481| 47374330858|228.79479290791025|74c6220e-4c5c-4fa...|    2021-06-18|Aliquam Ultrices ...|computer programm...|     3.16|   b|      54430|Amanda Vance|5373 Jonathan For...|   WA|    6258|Undisclosed|2021-06-18| -5| -6|-18|  1| -2|  7| -7| 30|  2|\n",
      "|  18481| 29936037423|44.908946485232335|9527ca89-dfe2-469...|    2021-06-11|Sodales Incorporated|hobby, toy and ga...|     1.97|   c|      54430|Amanda Vance|5373 Jonathan For...|   WA|    6258|Undisclosed|2021-06-11|-12| -7|-39|  0|  0|  6|-10| 32|  1|\n",
      "|  18481| 60602272553| 57.19833587226845|8821a39f-2c86-4ac...|    2021-05-24|Sagittis Duis Gra...|opticians, optica...|     4.93|   b|      54430|Amanda Vance|5373 Jonathan For...|   WA|    6258|Undisclosed|2021-05-24| -5| -7|-13|  1|  1|  5| -6| 26|  2|\n",
      "+-------+------------+------------------+--------------------+--------------+--------------------+--------------------+---------+----+-----------+------------+--------------------+-----+--------+-----------+----------+---+---+---+---+---+---+---+---+---+\n",
      "only showing top 5 rows\n",
      "\n"
     ]
    }
   ],
   "source": [
    "sdf.show(5)"
   ]
  },
  {
   "cell_type": "code",
   "execution_count": 14,
   "metadata": {},
   "outputs": [],
   "source": [
    "sdf = sdf.drop('Date')"
   ]
  },
  {
   "cell_type": "markdown",
   "metadata": {},
   "source": [
    "- 处理 external table 的信息，只保留其所对应的洲的数值"
   ]
  },
  {
   "cell_type": "code",
   "execution_count": 15,
   "metadata": {},
   "outputs": [],
   "source": [
    "import pandas as pd"
   ]
  },
  {
   "cell_type": "code",
   "execution_count": 16,
   "metadata": {},
   "outputs": [
    {
     "name": "stderr",
     "output_type": "stream",
     "text": [
      "                                                                                \r"
     ]
    }
   ],
   "source": [
    "cols = ['state', 'AUS', 'NSW', 'VIC', 'QLD', 'SA', 'WA', 'TAS', 'NT', 'ACT']\n",
    "temp_df = sdf.select(['order_id'] + cols).toDF('order_id', 'state', 'AUS', 'NSW', 'VIC', 'QLD', 'SA', 'WA', 'TAS', 'NT', 'ACT')\n",
    "temp_df = pd.DataFrame(temp_df.collect(), columns=['order_id'] + cols)"
   ]
  },
  {
   "cell_type": "code",
   "execution_count": 17,
   "metadata": {},
   "outputs": [],
   "source": [
    "temp_df['target'] = temp_df.apply(lambda x: x[x['state']], axis=1)\n",
    "temp_df = temp_df.drop(cols, axis=1)"
   ]
  },
  {
   "cell_type": "code",
   "execution_count": 18,
   "metadata": {},
   "outputs": [
    {
     "name": "stdout",
     "output_type": "stream",
     "text": [
      "22/09/19 12:43:41 WARN TaskSetManager: Stage 79 contains a task of very large size (19939 KiB). The maximum recommended task size is 1000 KiB.\n"
     ]
    },
    {
     "name": "stderr",
     "output_type": "stream",
     "text": [
      "[Stage 79:>                                                         (0 + 1) / 1]\r"
     ]
    },
    {
     "name": "stdout",
     "output_type": "stream",
     "text": [
      "22/09/19 12:43:46 WARN PythonRunner: Detected deadlock while completing task 0.0 in stage 79 (TID 367): Attempting to kill Python Worker\n",
      "+--------------------+------+\n",
      "|            order_id|target|\n",
      "+--------------------+------+\n",
      "|949a63c8-29f7-4ab...|    -6|\n",
      "|6a84c3cf-612a-457...|   -47|\n",
      "|b10dcc33-e53f-425...|    -6|\n",
      "|0f09c5a5-784e-447...|    11|\n",
      "|f6c78c1a-4600-4c5...|    -6|\n",
      "+--------------------+------+\n",
      "only showing top 5 rows\n",
      "\n"
     ]
    },
    {
     "name": "stderr",
     "output_type": "stream",
     "text": [
      "                                                                                \r"
     ]
    }
   ],
   "source": [
    "temp_sdf = spark.createDataFrame(temp_df)\n",
    "temp_sdf.show(5)"
   ]
  },
  {
   "cell_type": "code",
   "execution_count": 19,
   "metadata": {},
   "outputs": [],
   "source": [
    "sdf = sdf.join(temp_sdf, on='order_id', how='left')"
   ]
  },
  {
   "cell_type": "code",
   "execution_count": 20,
   "metadata": {},
   "outputs": [
    {
     "name": "stderr",
     "output_type": "stream",
     "text": [
      "[Stage 80:>   (1 + 7) / 8][Stage 81:>   (0 + 0) / 1][Stage 82:>   (0 + 1) / 1]1]\r"
     ]
    },
    {
     "name": "stdout",
     "output_type": "stream",
     "text": [
      "22/09/19 12:43:48 WARN TaskSetManager: Stage 83 contains a task of very large size (19939 KiB). The maximum recommended task size is 1000 KiB.\n"
     ]
    },
    {
     "name": "stderr",
     "output_type": "stream",
     "text": [
      "                                                                                \r"
     ]
    },
    {
     "name": "stdout",
     "output_type": "stream",
     "text": [
      "+--------------------+-------+------------+------------------+--------------+--------------------+--------------------+---------+----+-----------+------------+--------------------+-----+--------+-----------+---+---+---+---+---+---+---+---+---+------+\n",
      "|            order_id|user_id|merchant_abn|      dollar_value|order_datetime|       merchant_name|                tags|take_rate|type|consumer_id|        name|             address|state|postcode|     gender|AUS|NSW|VIC|QLD| SA| WA|TAS| NT|ACT|target|\n",
      "+--------------------+-------+------------+------------------+--------------+--------------------+--------------------+---------+----+-----------+------------+--------------------+-----+--------+-----------+---+---+---+---+---+---+---+---+---+------+\n",
      "|3dba1ecb-1d9e-415...|  18482| 47529937246|110.27705449024003|    2021-05-24|Nisi Dictum Augue...|books, periodical...|     2.85|   c|     918448|  Ethan Webb|94306 Ray Springs...|  NSW|    1430|       Male| -5| -7|-13|  1|  1|  5| -6| 26|  2|    -7|\n",
      "|6a84c3cf-612a-457...|      2| 15549624934| 130.3505283105634|    2021-08-20|  Commodo Associates|opticians, optica...|     2.76|   c|     179208|  Mary Smith|     3764 Amber Oval|  NSW|    2782|     Female|-24|-47|-39|  1|  2| 11| -6| 11|-59|   -47|\n",
      "|74c6220e-4c5c-4fa...|  18481| 47374330858|228.79479290791025|    2021-06-18|Aliquam Ultrices ...|computer programm...|     3.16|   b|      54430|Amanda Vance|5373 Jonathan For...|   WA|    6258|Undisclosed| -5| -6|-18|  1| -2|  7| -7| 30|  2|     7|\n",
      "|efd09221-8b30-446...|  18478| 72472909171| 60.53310323547151|    2021-06-18|   Nullam Consulting|digital goods: bo...|     6.33|   a|     651338| James Smith|27393 Wiley Lane ...|  TAS|    7001|       Male| -5| -6|-18|  1| -2|  7| -7| 30|  2|    -7|\n",
      "|fe3e7a0c-181f-4b7...|      2| 43186523025|  66.2346879083737|    2021-05-24|Lorem Ipsum Sodal...|florists supplies...|     4.47|   b|     179208|  Mary Smith|     3764 Amber Oval|  NSW|    2782|     Female| -5| -7|-13|  1|  1|  5| -6| 26|  2|    -7|\n",
      "+--------------------+-------+------------+------------------+--------------+--------------------+--------------------+---------+----+-----------+------------+--------------------+-----+--------+-----------+---+---+---+---+---+---+---+---+---+------+\n",
      "only showing top 5 rows\n",
      "\n"
     ]
    }
   ],
   "source": [
    "sdf.show(5)"
   ]
  },
  {
   "cell_type": "markdown",
   "metadata": {},
   "source": [
    "### 4. `sdf` join with the external dataset  --- ncd"
   ]
  },
  {
   "cell_type": "code",
   "execution_count": 21,
   "metadata": {},
   "outputs": [
    {
     "name": "stdout",
     "output_type": "stream",
     "text": [
      "================  ================\n",
      "|> Loading File...\n",
      "|> Loading Finished!\n",
      "-RECORD 0---------------------\n",
      " Date            | 2020-10-23 \n",
      " Net cases / day | 18         \n",
      "only showing top 1 row\n",
      "\n",
      "There are 687 data, and 687 have no null value.\n"
     ]
    }
   ],
   "source": [
    "print(\"================  ================\")\n",
    "ncd_sdf = read_file(spark, 'external_ncd.parquet', '../data/curated/')\n",
    "temp = ncd_sdf.dropna(how='any').count()\n",
    "print( f'There are {ncd_sdf.count()} data, and {temp} have no null value.')"
   ]
  },
  {
   "cell_type": "code",
   "execution_count": 22,
   "metadata": {},
   "outputs": [
    {
     "name": "stdout",
     "output_type": "stream",
     "text": [
      "+----------+---------------+\n",
      "|      Date|Net cases / day|\n",
      "+----------+---------------+\n",
      "|2020-10-23|             18|\n",
      "|2020-10-24|             15|\n",
      "|2020-10-25|             21|\n",
      "|2020-10-26|              7|\n",
      "|2020-10-27|             14|\n",
      "+----------+---------------+\n",
      "only showing top 5 rows\n",
      "\n"
     ]
    }
   ],
   "source": [
    "ncd_sdf.show(5)"
   ]
  },
  {
   "cell_type": "code",
   "execution_count": 23,
   "metadata": {},
   "outputs": [
    {
     "name": "stdout",
     "output_type": "stream",
     "text": [
      "22/09/19 12:43:55 WARN package: Truncated the string representation of a plan since it was too large. This behavior can be adjusted by setting 'spark.sql.debug.maxToStringFields'.\n",
      "22/09/19 12:43:55 WARN TaskSetManager: Stage 110 contains a task of very large size (19939 KiB). The maximum recommended task size is 1000 KiB.\n"
     ]
    },
    {
     "name": "stderr",
     "output_type": "stream",
     "text": [
      "                                                                                \r"
     ]
    },
    {
     "name": "stdout",
     "output_type": "stream",
     "text": [
      "+--------------------+-------+------------+------------------+--------------+--------------------+--------------------+---------+----+-----------+------------+--------------------+-----+--------+-----------+---+---+---+---+---+---+---+---+---+------+----------+---------------+\n",
      "|            order_id|user_id|merchant_abn|      dollar_value|order_datetime|       merchant_name|                tags|take_rate|type|consumer_id|        name|             address|state|postcode|     gender|AUS|NSW|VIC|QLD| SA| WA|TAS| NT|ACT|target|      Date|Net cases / day|\n",
      "+--------------------+-------+------------+------------------+--------------+--------------------+--------------------+---------+----+-----------+------------+--------------------+-----+--------+-----------+---+---+---+---+---+---+---+---+---+------+----------+---------------+\n",
      "|3dba1ecb-1d9e-415...|  18482| 47529937246|110.27705449024003|    2021-05-24|Nisi Dictum Augue...|books, periodical...|     2.85|   c|     918448|  Ethan Webb|94306 Ray Springs...|  NSW|    1430|       Male| -5| -7|-13|  1|  1|  5| -6| 26|  2|    -7|2021-05-24|             10|\n",
      "|6a84c3cf-612a-457...|      2| 15549624934| 130.3505283105634|    2021-08-20|  Commodo Associates|opticians, optica...|     2.76|   c|     179208|  Mary Smith|     3764 Amber Oval|  NSW|    2782|     Female|-24|-47|-39|  1|  2| 11| -6| 11|-59|   -47|2021-08-20|            706|\n",
      "|74c6220e-4c5c-4fa...|  18481| 47374330858|228.79479290791025|    2021-06-18|Aliquam Ultrices ...|computer programm...|     3.16|   b|      54430|Amanda Vance|5373 Jonathan For...|   WA|    6258|Undisclosed| -5| -6|-18|  1| -2|  7| -7| 30|  2|     7|2021-06-18|              9|\n",
      "|efd09221-8b30-446...|  18478| 72472909171| 60.53310323547151|    2021-06-18|   Nullam Consulting|digital goods: bo...|     6.33|   a|     651338| James Smith|27393 Wiley Lane ...|  TAS|    7001|       Male| -5| -6|-18|  1| -2|  7| -7| 30|  2|    -7|2021-06-18|              9|\n",
      "|fe3e7a0c-181f-4b7...|      2| 43186523025|  66.2346879083737|    2021-05-24|Lorem Ipsum Sodal...|florists supplies...|     4.47|   b|     179208|  Mary Smith|     3764 Amber Oval|  NSW|    2782|     Female| -5| -7|-13|  1|  1|  5| -6| 26|  2|    -7|2021-05-24|             10|\n",
      "+--------------------+-------+------------+------------------+--------------+--------------------+--------------------+---------+----+-----------+------------+--------------------+-----+--------+-----------+---+---+---+---+---+---+---+---+---+------+----------+---------------+\n",
      "only showing top 5 rows\n",
      "\n"
     ]
    }
   ],
   "source": [
    "sdf = sdf.join(ncd_sdf, sdf.order_datetime == ncd_sdf.Date, 'left')\n",
    "sdf.show(5)"
   ]
  },
  {
   "cell_type": "code",
   "execution_count": 24,
   "metadata": {},
   "outputs": [
    {
     "name": "stdout",
     "output_type": "stream",
     "text": [
      "22/09/19 12:44:45 WARN TaskSetManager: Stage 129 contains a task of very large size (19939 KiB). The maximum recommended task size is 1000 KiB.\n"
     ]
    },
    {
     "name": "stderr",
     "output_type": "stream",
     "text": [
      "                                                                                \r"
     ]
    },
    {
     "name": "stdout",
     "output_type": "stream",
     "text": [
      "22/09/19 12:44:53 WARN TaskSetManager: Stage 139 contains a task of very large size (19939 KiB). The maximum recommended task size is 1000 KiB.\n"
     ]
    },
    {
     "name": "stderr",
     "output_type": "stream",
     "text": [
      "                                                                                \r"
     ]
    },
    {
     "name": "stdout",
     "output_type": "stream",
     "text": [
      "There are 3660963 data, and 3643975 have no null value.\n"
     ]
    }
   ],
   "source": [
    "temp = sdf.dropna(how='any', subset=['Date']).count()\n",
    "print( f'There are {sdf.count()} data, and {temp} have no null value.')"
   ]
  },
  {
   "cell_type": "code",
   "execution_count": 28,
   "metadata": {},
   "outputs": [],
   "source": [
    "sdf = sdf.drop('Date')"
   ]
  },
  {
   "cell_type": "code",
   "execution_count": 27,
   "metadata": {},
   "outputs": [],
   "source": [
    "# temp = sdf.to_pandas_on_spark()\n",
    "# temp[temp.Date.isna()]\n"
   ]
  },
  {
   "cell_type": "code",
   "execution_count": 29,
   "metadata": {},
   "outputs": [
    {
     "name": "stdout",
     "output_type": "stream",
     "text": [
      "|> Waitting for saving...\n"
     ]
    },
    {
     "name": "stderr",
     "output_type": "stream",
     "text": [
      "                                                                                \r"
     ]
    },
    {
     "name": "stdout",
     "output_type": "stream",
     "text": [
      "22/09/19 12:46:01 WARN TaskSetManager: Stage 176 contains a task of very large size (19939 KiB). The maximum recommended task size is 1000 KiB.\n"
     ]
    },
    {
     "name": "stderr",
     "output_type": "stream",
     "text": [
      "[Stage 185:=================================>                      (9 + 6) / 15]\r"
     ]
    },
    {
     "name": "stdout",
     "output_type": "stream",
     "text": [
      "|> Save Successfully!\n"
     ]
    },
    {
     "name": "stderr",
     "output_type": "stream",
     "text": [
      "                                                                                \r"
     ]
    }
   ],
   "source": [
    "temp_record_sdf(sdf, path='../data/curated/dataset.parquet', overwrite=True)"
   ]
  },
  {
   "cell_type": "markdown",
   "metadata": {},
   "source": [
    "### 5. `sdf` join with the fraud datasets"
   ]
  }
 ],
 "metadata": {
  "kernelspec": {
   "display_name": "Python 3.7.9 64-bit",
   "language": "python",
   "name": "python3"
  },
  "language_info": {
   "codemirror_mode": {
    "name": "ipython",
    "version": 3
   },
   "file_extension": ".py",
   "mimetype": "text/x-python",
   "name": "python",
   "nbconvert_exporter": "python",
   "pygments_lexer": "ipython3",
   "version": "3.7.9"
  },
  "orig_nbformat": 4,
  "vscode": {
   "interpreter": {
    "hash": "aee8b7b246df8f9039afb4144a1f6fd8d2ca17a180786b69acc140d282b71a49"
   }
  }
 },
 "nbformat": 4,
 "nbformat_minor": 2
}
