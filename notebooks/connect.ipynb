{
 "cells": [
  {
   "cell_type": "code",
   "execution_count": 92,
   "metadata": {},
   "outputs": [],
   "source": [
    "import sys\n",
    "sys.path.append('../scripts/')\n",
    "from utility import read_file, create_folder, temp_record_query, temp_record_sdf"
   ]
  },
  {
   "cell_type": "code",
   "execution_count": 93,
   "metadata": {},
   "outputs": [],
   "source": [
    "from pyspark.sql import SparkSession"
   ]
  },
  {
   "cell_type": "code",
   "execution_count": 94,
   "metadata": {},
   "outputs": [],
   "source": [
    "spark = (\n",
    "    # Create a spark session (which will run spark jobs)\n",
    "    SparkSession.builder.appName(\"Project 2\")\n",
    "    .config(\"spark.sql.repl.eagerEval.enabled\", True) \n",
    "    .config(\"spark.sql.parquet.cacheMetadata\", \"true\")\n",
    "    .config('spark.executor.memory','10g')\n",
    "    .config('spark.driver.memory','12g')\n",
    "    .config('spark.driver.maxResultsSize', '10GiB')\n",
    "    # .config(\"spark.network.timeout\", \"3600s\")\n",
    "    # .master(\"local[6]\")\n",
    "    .getOrCreate()\n",
    "    )"
   ]
  },
  {
   "cell_type": "markdown",
   "metadata": {},
   "source": [
    "### 1. Connect Transactions and Merchants AS `sdf`"
   ]
  },
  {
   "cell_type": "code",
   "execution_count": 95,
   "metadata": {},
   "outputs": [
    {
     "name": "stdout",
     "output_type": "stream",
     "text": [
      "================ Transactions ================\n",
      "|> Loading File...\n",
      "|> Loading Finished!\n",
      "-RECORD 0----------------------------------------------\n",
      " user_id        | 14935                                \n",
      " merchant_abn   | 79417999332                          \n",
      " dollar_value   | 136.06570809815838                   \n",
      " order_id       | 23acbb7b-cf98-4580-9775-86b8e0a2bd88 \n",
      " order_datetime | 2021-11-26                           \n",
      "only showing top 1 row\n",
      "\n"
     ]
    },
    {
     "name": "stderr",
     "output_type": "stream",
     "text": [
      "[Stage 421:>                                                        (0 + 8) / 8]\r"
     ]
    },
    {
     "name": "stdout",
     "output_type": "stream",
     "text": [
      "There are 4508106 data, and 4508106 of them have no null value.\n"
     ]
    },
    {
     "name": "stderr",
     "output_type": "stream",
     "text": [
      "                                                                                \r"
     ]
    }
   ],
   "source": [
    "print(\"================ Transactions ================\")\n",
    "# transactions_sdf = read_file(spark, 'transactions_20210228_20210827_snapshot')\n",
    "transactions_sdf = read_file(spark, 'transactions_20210828_20220227_snapshot')\n",
    "# transactions_sdf = read_file(spark, 'transactions_20220228_20220828_snapshot')\n",
    "temp = transactions_sdf.dropna(how='any').count()\n",
    "print( f'There are {transactions_sdf.count()} data, and {temp} of them have no null value.')"
   ]
  },
  {
   "cell_type": "code",
   "execution_count": 96,
   "metadata": {},
   "outputs": [
    {
     "name": "stdout",
     "output_type": "stream",
     "text": [
      "================ Merchant ================\n",
      "|> Loading File...\n",
      "|> Loading Finished!\n",
      "-RECORD 0-----------------------------\n",
      " merchant_name | Felis Limited        \n",
      " tags          | furniture, home f... \n",
      " merchant_abn  | 10023283211          \n",
      " take_rate     | 0.18                 \n",
      " type          | e                    \n",
      "only showing top 1 row\n",
      "\n",
      "There are 4026 data, and 4026 of them have no null value.\n"
     ]
    }
   ],
   "source": [
    "print(\"================ Merchant ================\")\n",
    "merchants_sdf = read_file(spark, 'merchants_data.parquet', '../data/curated/', truncate=20)\n",
    "temp = merchants_sdf.dropna(how='any').count()\n",
    "print( f'There are {merchants_sdf.count()} data, and {temp} of them have no null value.')"
   ]
  },
  {
   "cell_type": "markdown",
   "metadata": {},
   "source": [
    "- Known that Transactions and Merchants table have no null value"
   ]
  },
  {
   "cell_type": "code",
   "execution_count": 97,
   "metadata": {},
   "outputs": [
    {
     "name": "stderr",
     "output_type": "stream",
     "text": [
      "                                                                                \r"
     ]
    },
    {
     "name": "stdout",
     "output_type": "stream",
     "text": [
      "There are 4508106 data, and 4323692 of them have no null value.\n"
     ]
    }
   ],
   "source": [
    "sdf = transactions_sdf.join(merchants_sdf, how='left', on='merchant_abn')\n",
    "temp = sdf.dropna(how='any', subset=['merchant_name']).count()\n",
    "print( f'There are {sdf.count()} data, and {temp} of them have no null value.')"
   ]
  },
  {
   "cell_type": "markdown",
   "metadata": {},
   "source": [
    "- After connect the Transactions and Merchants Table by `merchant_abn`, we find that some Transactions not from the merchants in the table. Because they are not in our list of rank therefore, delete those null value."
   ]
  },
  {
   "cell_type": "code",
   "execution_count": 98,
   "metadata": {},
   "outputs": [],
   "source": [
    "# sdf = sdf.dropna(how='any', subset=['merchant_name'])"
   ]
  },
  {
   "cell_type": "markdown",
   "metadata": {},
   "source": [
    "- There are 4026 merchants, and for `transactions_20210228_20210827_snapshot` have 3643266 records. \n",
    "\n",
    "    After combination, there are **3494038** rest. **3643266 - 3494038 = 149228** records has been deleted. \n",
    "    \n",
    "    `149228 / 3643266 = 0.04095995186736297`"
   ]
  },
  {
   "cell_type": "code",
   "execution_count": 99,
   "metadata": {},
   "outputs": [
    {
     "name": "stdout",
     "output_type": "stream",
     "text": [
      "+------------+-------+------------------+--------------------+--------------+--------------------+--------------------+---------+----+\n",
      "|merchant_abn|user_id|      dollar_value|            order_id|order_datetime|       merchant_name|                tags|take_rate|type|\n",
      "+------------+-------+------------------+--------------------+--------------+--------------------+--------------------+---------+----+\n",
      "| 79417999332|  14935|136.06570809815838|23acbb7b-cf98-458...|    2021-11-26|Phasellus At Company|gift, card, novel...|     4.95|   b|\n",
      "| 46451548968|      1| 72.61581642788431|76bab304-fa2d-400...|    2021-11-26|Tempus Eu Ligula ...|health and beauty...|     6.04|   a|\n",
      "| 89518629617|  14936|3.0783487174439297|a2ae446a-2959-41c...|    2021-11-26|Vulputate Velit E...|tent and awning s...|     3.09|   c|\n",
      "| 49167531725|      1| 51.58228625503599|7080c274-17f7-4cc...|    2021-11-26|     Felis Institute|digital goods: bo...|     6.42|   a|\n",
      "| 31101120643|  14936|25.228114942417797|8e301c0f-06ab-45c...|    2021-11-26|Commodo Hendrerit...|cable, satellite,...|     6.37|   a|\n",
      "+------------+-------+------------------+--------------------+--------------+--------------------+--------------------+---------+----+\n",
      "only showing top 5 rows\n",
      "\n"
     ]
    }
   ],
   "source": [
    "sdf.show(5)"
   ]
  },
  {
   "cell_type": "markdown",
   "metadata": {},
   "source": [
    "### 2. `sdf` join with Customer"
   ]
  },
  {
   "cell_type": "code",
   "execution_count": 100,
   "metadata": {},
   "outputs": [
    {
     "name": "stdout",
     "output_type": "stream",
     "text": [
      "================ Customer ================\n",
      "|> Loading File...\n",
      "|> Loading Finished!\n",
      "-RECORD 0---------------------------------\n",
      " consumer_id | 680810                     \n",
      " name        | Courtney Mendez            \n",
      " address     | 802 Knapp Harbors Apt. 769 \n",
      " state       | QLD                        \n",
      " postcode    | 9013                       \n",
      " gender      | Female                     \n",
      " user_id     | 71144                      \n",
      "only showing top 1 row\n",
      "\n",
      "There are 499999 data, and 499999 of them have no null value.\n"
     ]
    }
   ],
   "source": [
    "print(\"================ Customer ================\")\n",
    "customer_sdf = read_file(spark, 'new_consumer_data.parquet', '../data/curated/')\n",
    "temp = customer_sdf.dropna(how='any').count()\n",
    "print( f'There are {customer_sdf.count()} data, and {temp} of them have no null value.')"
   ]
  },
  {
   "cell_type": "code",
   "execution_count": 101,
   "metadata": {},
   "outputs": [
    {
     "name": "stdout",
     "output_type": "stream",
     "text": [
      "There are 4508106 data, and 4508106 of them have no null value.\n"
     ]
    }
   ],
   "source": [
    "sdf = sdf.join(customer_sdf, how='left', on='user_id')\n",
    "temp = sdf.dropna(how='any', subset=['consumer_id']).count()\n",
    "print( f'There are {sdf.count()} data, and {temp} of them have no null value.')"
   ]
  },
  {
   "cell_type": "code",
   "execution_count": 102,
   "metadata": {},
   "outputs": [
    {
     "name": "stdout",
     "output_type": "stream",
     "text": [
      "+-------+------------+------------------+--------------------+--------------+--------------------+--------------------+---------+----+-----------+---------------+--------------------+-----+--------+------+\n",
      "|user_id|merchant_abn|      dollar_value|            order_id|order_datetime|       merchant_name|                tags|take_rate|type|consumer_id|           name|             address|state|postcode|gender|\n",
      "+-------+------------+------------------+--------------------+--------------+--------------------+--------------------+---------+----+-----------+---------------+--------------------+-----+--------+------+\n",
      "|  14935| 79417999332|136.06570809815838|23acbb7b-cf98-458...|    2021-11-26|Phasellus At Company|gift, card, novel...|     4.95|   b|    1059280|  Cameron Adams|0280 Carpenter Lodge|  QLD|    4563|  Male|\n",
      "|  14935| 72472909171|52.973387548612614|01d968a6-dde1-48c...|    2021-12-01|   Nullam Consulting|digital goods: bo...|     6.33|   a|    1059280|  Cameron Adams|0280 Carpenter Lodge|  QLD|    4563|  Male|\n",
      "|  14935| 81219314324|57.278048696966124|5300ac4f-8b9f-451...|    2021-09-09|    Faucibus Leo Ltd|gift, card, novel...|     6.35|   a|    1059280|  Cameron Adams|0280 Carpenter Lodge|  QLD|    4563|  Male|\n",
      "|  14939| 32234779638|   79.831028187241|c5a256f9-5a1b-41a...|    2021-12-21|                null|                null|     null|null|     764252|Cassandra Myers|910 Payne Heights...|  VIC|    3885|Female|\n",
      "|  14939| 97903083009| 150.2863343649252|8de5b62a-c9df-47a...|    2021-10-14| Praesent Eu Dui LLP|stationery, offic...|      5.7|   a|     764252|Cassandra Myers|910 Payne Heights...|  VIC|    3885|Female|\n",
      "+-------+------------+------------------+--------------------+--------------+--------------------+--------------------+---------+----+-----------+---------------+--------------------+-----+--------+------+\n",
      "only showing top 5 rows\n",
      "\n"
     ]
    },
    {
     "name": "stderr",
     "output_type": "stream",
     "text": [
      "                                                                                \r"
     ]
    }
   ],
   "source": [
    "sdf.show(5)"
   ]
  },
  {
   "cell_type": "markdown",
   "metadata": {},
   "source": [
    "### 3. `sdf` join with the external dataset  --- rrm"
   ]
  },
  {
   "cell_type": "code",
   "execution_count": 103,
   "metadata": {},
   "outputs": [],
   "source": [
    "# print(\"================ RRM_External ================\")\n",
    "# rrm_sdf = read_file(spark, 'external_rrm.parquet', '../data/curated/', truncate=20)\n",
    "# temp = rrm_sdf.dropna(how='any').count()\n",
    "# print( f'There are {rrm_sdf.count()} data, and {temp} of them have no null value.')"
   ]
  },
  {
   "cell_type": "code",
   "execution_count": 104,
   "metadata": {},
   "outputs": [],
   "source": [
    "# sdf = sdf.join(rrm_sdf, sdf.order_datetime == rrm_sdf.Date, 'left')\n",
    "# temp = sdf.dropna(how='any', subset=['Date']).count()\n",
    "# print( f'There are {sdf.count()} data, and {temp} of them have no null value.')"
   ]
  },
  {
   "cell_type": "code",
   "execution_count": 105,
   "metadata": {},
   "outputs": [],
   "source": [
    "# sdf.show(5)"
   ]
  },
  {
   "cell_type": "code",
   "execution_count": 106,
   "metadata": {},
   "outputs": [],
   "source": [
    "# sdf = sdf.drop('Date')"
   ]
  },
  {
   "cell_type": "markdown",
   "metadata": {},
   "source": [
    "- 处理 external table 的信息，只保留其所对应的洲的数值"
   ]
  },
  {
   "cell_type": "code",
   "execution_count": 107,
   "metadata": {},
   "outputs": [],
   "source": [
    "# import pandas as pd"
   ]
  },
  {
   "cell_type": "code",
   "execution_count": 108,
   "metadata": {},
   "outputs": [],
   "source": [
    "# cols = ['state', 'AUS', 'NSW', 'VIC', 'QLD', 'SA', 'WA', 'TAS', 'NT', 'ACT']\n",
    "# temp_df = sdf.select(['order_id'] + cols).toDF('order_id', 'state', 'AUS', 'NSW', 'VIC', 'QLD', 'SA', 'WA', 'TAS', 'NT', 'ACT')\n",
    "# temp_df = pd.DataFrame(temp_df.collect(), columns=['order_id'] + cols)"
   ]
  },
  {
   "cell_type": "code",
   "execution_count": 109,
   "metadata": {},
   "outputs": [],
   "source": [
    "# temp_df['target'] = temp_df.apply(lambda x: x[x['state']], axis=1)\n",
    "# temp_df = temp_df.drop(cols, axis=1)"
   ]
  },
  {
   "cell_type": "code",
   "execution_count": 110,
   "metadata": {},
   "outputs": [],
   "source": [
    "# temp_sdf = spark.createDataFrame(temp_df)\n",
    "# temp_sdf.show(5)"
   ]
  },
  {
   "cell_type": "code",
   "execution_count": 111,
   "metadata": {},
   "outputs": [],
   "source": [
    "# sdf = sdf.join(temp_sdf, on='order_id', how='left')"
   ]
  },
  {
   "cell_type": "code",
   "execution_count": 112,
   "metadata": {},
   "outputs": [],
   "source": [
    "# sdf.show(5)"
   ]
  },
  {
   "cell_type": "markdown",
   "metadata": {},
   "source": [
    "### 4. `sdf` join with the external dataset  --- ncd"
   ]
  },
  {
   "cell_type": "code",
   "execution_count": 113,
   "metadata": {},
   "outputs": [
    {
     "name": "stdout",
     "output_type": "stream",
     "text": [
      "================  ================\n",
      "|> Loading File...\n",
      "|> Loading Finished!\n",
      "-RECORD 0---------------------\n",
      " Date            | 2020-01-25 \n",
      " New cases / day | 4          \n",
      "only showing top 1 row\n",
      "\n",
      "There are 959 data, and 959 have no null value.\n"
     ]
    }
   ],
   "source": [
    "print(\"================  ================\")\n",
    "ncd_sdf = read_file(spark, 'external_ncd.parquet', '../data/curated/')\n",
    "temp = ncd_sdf.dropna(how='any').count()\n",
    "print( f'There are {ncd_sdf.count()} data, and {temp} have no null value.')"
   ]
  },
  {
   "cell_type": "code",
   "execution_count": 114,
   "metadata": {},
   "outputs": [
    {
     "name": "stdout",
     "output_type": "stream",
     "text": [
      "+----------+---------------+\n",
      "|      Date|New cases / day|\n",
      "+----------+---------------+\n",
      "|2020-01-25|              4|\n",
      "|2020-01-26|              0|\n",
      "|2020-01-27|              1|\n",
      "|2020-01-28|              0|\n",
      "|2020-01-29|              4|\n",
      "+----------+---------------+\n",
      "only showing top 5 rows\n",
      "\n"
     ]
    }
   ],
   "source": [
    "ncd_sdf.show(5)"
   ]
  },
  {
   "cell_type": "code",
   "execution_count": 115,
   "metadata": {},
   "outputs": [
    {
     "name": "stdout",
     "output_type": "stream",
     "text": [
      "+-------+------------+------------------+--------------------+--------------+--------------------+--------------------+---------+----+-----------+---------------+--------------------+-----+--------+------+----------+---------------+\n",
      "|user_id|merchant_abn|      dollar_value|            order_id|order_datetime|       merchant_name|                tags|take_rate|type|consumer_id|           name|             address|state|postcode|gender|      Date|New cases / day|\n",
      "+-------+------------+------------------+--------------------+--------------+--------------------+--------------------+---------+----+-----------+---------------+--------------------+-----+--------+------+----------+---------------+\n",
      "|  14935| 79417999332|136.06570809815838|23acbb7b-cf98-458...|    2021-11-26|Phasellus At Company|gift, card, novel...|     4.95|   b|    1059280|  Cameron Adams|0280 Carpenter Lodge|  QLD|    4563|  Male|2021-11-26|          1,621|\n",
      "|  14935| 72472909171|52.973387548612614|01d968a6-dde1-48c...|    2021-12-01|   Nullam Consulting|digital goods: bo...|     6.33|   a|    1059280|  Cameron Adams|0280 Carpenter Lodge|  QLD|    4563|  Male|2021-12-01|          1,418|\n",
      "|  14935| 81219314324|57.278048696966124|5300ac4f-8b9f-451...|    2021-09-09|    Faucibus Leo Ltd|gift, card, novel...|     6.35|   a|    1059280|  Cameron Adams|0280 Carpenter Lodge|  QLD|    4563|  Male|2021-09-09|          1,727|\n",
      "|  14939| 32234779638|   79.831028187241|c5a256f9-5a1b-41a...|    2021-12-21|                null|                null|     null|null|     764252|Cassandra Myers|910 Payne Heights...|  VIC|    3885|Female|2021-12-21|          4,522|\n",
      "|  14939| 97903083009| 150.2863343649252|8de5b62a-c9df-47a...|    2021-10-14| Praesent Eu Dui LLP|stationery, offic...|      5.7|   a|     764252|Cassandra Myers|910 Payne Heights...|  VIC|    3885|Female|2021-10-14|          2,683|\n",
      "+-------+------------+------------------+--------------------+--------------+--------------------+--------------------+---------+----+-----------+---------------+--------------------+-----+--------+------+----------+---------------+\n",
      "only showing top 5 rows\n",
      "\n"
     ]
    }
   ],
   "source": [
    "sdf = sdf.join(ncd_sdf, sdf.order_datetime == ncd_sdf.Date, 'left')\n",
    "sdf.show(5)"
   ]
  },
  {
   "cell_type": "code",
   "execution_count": 116,
   "metadata": {},
   "outputs": [
    {
     "name": "stdout",
     "output_type": "stream",
     "text": [
      "There are 4508106 data, and 4508106 have no null value.\n"
     ]
    }
   ],
   "source": [
    "temp = sdf.dropna(how='any', subset=['Date']).count()\n",
    "print( f'There are {sdf.count()} data, and {temp} have no null value.')"
   ]
  },
  {
   "cell_type": "code",
   "execution_count": 117,
   "metadata": {},
   "outputs": [],
   "source": [
    "sdf = sdf.drop('Date')"
   ]
  },
  {
   "cell_type": "code",
   "execution_count": 118,
   "metadata": {},
   "outputs": [],
   "source": [
    "# temp = sdf.to_pandas_on_spark()\n",
    "# temp[temp.Date.isna()]"
   ]
  },
  {
   "cell_type": "code",
   "execution_count": 119,
   "metadata": {},
   "outputs": [
    {
     "name": "stdout",
     "output_type": "stream",
     "text": [
      "|> The folder already exist!\n",
      "|> Files already exist under this folder:\n",
      "   ['order_datetime=2021-10-19', 'order_datetime=2021-10-26', 'order_datetime=2021-10-21', 'order_datetime=2021-10-28', 'order_datetime=2021-10-17', 'order_datetime=2021-10-10', 'order_datetime=2022-02-24', 'order_datetime=2022-01-03', 'order_datetime=2022-01-04', 'order_datetime=2022-02-23', 'order_datetime=2022-02-15', 'order_datetime=2022-02-12', 'order_datetime=2021-10-11', 'order_datetime=2021-10-29', 'order_datetime=2021-10-16', 'order_datetime=2021-10-20', 'order_datetime=2021-10-18', 'order_datetime=2021-10-27', 'order_datetime=2022-02-13', 'order_datetime=2022-02-14', 'order_datetime=2022-02-22', 'order_datetime=2022-01-05', 'order_datetime=2022-01-02', 'order_datetime=2022-02-25', 'order_datetime=2021-09-25', 'order_datetime=2021-12-09', 'order_datetime=2021-11-11', 'order_datetime=2021-11-29', 'order_datetime=2021-09-22', 'order_datetime=2021-11-16', 'order_datetime=2021-12-31', 'order_datetime=2021-09-14', 'order_datetime=2021-11-20', 'order_datetime=2021-12-07', 'order_datetime=2021-09-13', 'order_datetime=2021-11-18', 'order_datetime=2021-11-27', 'order_datetime=2021-11-19', 'order_datetime=2021-09-12', 'order_datetime=2021-11-26', 'order_datetime=2021-12-01', 'order_datetime=2021-09-15', 'order_datetime=2021-12-06', 'order_datetime=2021-11-21', 'order_datetime=2021-09-23', 'order_datetime=2021-11-28', 'order_datetime=2021-12-30', 'order_datetime=2021-11-17', 'order_datetime=2021-09-24', 'order_datetime=2021-12-08', 'order_datetime=2021-11-10', '._SUCCESS.crc', 'order_datetime=2021-12-15', 'order_datetime=2021-09-06', 'order_datetime=2021-12-12', 'order_datetime=2021-09-01', 'order_datetime=2021-09-08', 'order_datetime=2021-12-24', 'order_datetime=2021-11-03', 'order_datetime=2021-11-04', 'order_datetime=2021-12-23', 'order_datetime=2021-09-30', 'order_datetime=2021-12-22', 'order_datetime=2021-11-05', 'order_datetime=2021-11-02', 'order_datetime=2021-09-09', 'order_datetime=2021-12-25', 'order_datetime=2021-12-13', 'order_datetime=2021-12-14', 'order_datetime=2021-09-07', 'order_datetime=2022-01-20', 'order_datetime=2022-02-07', 'order_datetime=2022-01-18', 'order_datetime=2022-01-27', 'order_datetime=2022-02-09', 'order_datetime=2022-01-11', 'order_datetime=2022-01-29', 'order_datetime=2022-01-16', 'order_datetime=2021-10-05', 'order_datetime=2021-08-31', 'order_datetime=2021-10-02', 'order_datetime=2022-01-28', 'order_datetime=2022-01-17', 'order_datetime=2022-02-08', 'order_datetime=2022-01-10', 'order_datetime=2022-01-19', 'order_datetime=2022-01-26', 'order_datetime=2022-02-01', 'order_datetime=2022-02-06', 'order_datetime=2022-01-21', 'order_datetime=2021-10-03', 'order_datetime=2021-10-04', 'order_datetime=2021-08-30', 'order_datetime=2022-01-07', 'order_datetime=2022-02-20', 'order_datetime=2022-02-27', 'order_datetime=2022-02-18', 'order_datetime=2022-02-11', 'order_datetime=2022-01-09', 'order_datetime=2022-01-31', 'order_datetime=2022-02-16', 'order_datetime=2021-08-29', 'order_datetime=2021-10-22', 'order_datetime=2021-10-25', 'order_datetime=2021-10-13', 'order_datetime=2021-10-14', 'order_datetime=2022-02-17', 'order_datetime=2022-01-30', 'order_datetime=2022-02-10', 'order_datetime=2022-01-08', 'order_datetime=2022-01-01', 'order_datetime=2022-02-26', 'order_datetime=2022-02-19', 'order_datetime=2022-02-21', 'order_datetime=2022-01-06', 'order_datetime=2021-10-15', 'order_datetime=2021-10-12', 'order_datetime=2021-10-24', 'order_datetime=2021-10-23', 'order_datetime=2021-08-28', 'order_datetime=2021-09-21', 'order_datetime=2021-11-15', 'order_datetime=2021-09-26', 'order_datetime=2021-09-19', 'order_datetime=2021-11-12', 'order_datetime=2021-09-10', 'order_datetime=2021-12-03', 'order_datetime=2021-11-24', 'order_datetime=2021-09-17', 'order_datetime=2021-11-23', 'order_datetime=2021-12-04', 'order_datetime=2021-09-28', 'order_datetime=2021-09-16', 'order_datetime=2021-12-05', 'order_datetime=2021-09-29', 'order_datetime=2021-11-22', 'order_datetime=2021-09-11', 'order_datetime=2021-11-25', 'order_datetime=2021-12-02', 'order_datetime=2021-09-27', 'order_datetime=2021-11-13', 'order_datetime=2021-09-18', 'order_datetime=2021-09-20', 'order_datetime=2021-11-14', 'order_datetime=2021-12-11', 'order_datetime=2021-09-02', 'order_datetime=2021-11-09', 'order_datetime=2021-12-16', 'order_datetime=2021-12-29', 'order_datetime=2021-09-05', 'order_datetime=2021-11-07', 'order_datetime=2021-12-20', 'order_datetime=2021-12-27', 'order_datetime=2021-12-18', '_SUCCESS', 'order_datetime=2021-11-01', 'order_datetime=2021-12-26', 'order_datetime=2021-12-19', 'order_datetime=2021-12-21', 'order_datetime=2021-11-06', 'order_datetime=2021-12-17', 'order_datetime=2021-11-30', 'order_datetime=2021-12-28', 'order_datetime=2021-09-04', 'order_datetime=2021-12-10', 'order_datetime=2021-11-08', 'order_datetime=2021-09-03', 'order_datetime=2021-10-01', 'order_datetime=2021-10-06', 'order_datetime=2021-10-30', 'order_datetime=2021-10-08', 'order_datetime=2022-02-03', 'order_datetime=2022-01-24', 'order_datetime=2022-01-23', 'order_datetime=2022-02-04', 'order_datetime=2022-01-15', 'order_datetime=2022-01-12', 'order_datetime=2021-10-09', 'order_datetime=2021-10-31', 'order_datetime=2021-10-07', 'order_datetime=2022-01-13', 'order_datetime=2022-01-14', 'order_datetime=2022-02-05', 'order_datetime=2022-01-22', 'order_datetime=2022-01-25', 'order_datetime=2022-02-02']\n"
     ]
    },
    {
     "name": "stderr",
     "output_type": "stream",
     "text": [
      "                                                                                \r"
     ]
    }
   ],
   "source": [
    "path = '../data/curated/data'\n",
    "if (create_folder(path)):\n",
    "    sdf.write.partitionBy('order_datetime').parquet(path, mode='append')\n",
    "else:\n",
    "    sdf.write.partitionBy('order_datetime').parquet(path, mode='overwrite')\n"
   ]
  },
  {
   "cell_type": "markdown",
   "metadata": {},
   "source": [
    "### 5. `sdf` join with the fraud datasets"
   ]
  },
  {
   "cell_type": "markdown",
   "metadata": {},
   "source": [
    "- consumer fraud datasets"
   ]
  },
  {
   "cell_type": "code",
   "execution_count": 120,
   "metadata": {},
   "outputs": [
    {
     "name": "stdout",
     "output_type": "stream",
     "text": [
      "|> Loading File...\n"
     ]
    },
    {
     "name": "stderr",
     "output_type": "stream",
     "text": [
      "                                                                                \r"
     ]
    },
    {
     "name": "stdout",
     "output_type": "stream",
     "text": [
      "|> Loading Finished!\n",
      "-RECORD 0-----------------------------------------------\n",
      " user_id         | 1                                    \n",
      " merchant_abn    | 46451548968                          \n",
      " dollar_value    | 72.61581642788431                    \n",
      " order_id        | 76bab304-fa2d-4004-8179-8638b56a873e \n",
      " merchant_name   | Tempus Eu Ligula Limited             \n",
      " tags            | health and beauty spas               \n",
      " take_rate       | 6.04                                 \n",
      " type            | a                                    \n",
      " consumer_id     | 1195503                              \n",
      " name            | Yolanda Williams                     \n",
      " address         | 413 Haney Gardens Apt. 742           \n",
      " state           | WA                                   \n",
      " postcode        | 6935                                 \n",
      " gender          | Female                               \n",
      " New cases / day | 1,621                                \n",
      " order_datetime  | 2021-11-26                           \n",
      "only showing top 1 row\n",
      "\n"
     ]
    }
   ],
   "source": [
    "sdf = read_file(spark, 'data', '../data/curated/')"
   ]
  },
  {
   "cell_type": "code",
   "execution_count": 121,
   "metadata": {},
   "outputs": [
    {
     "name": "stdout",
     "output_type": "stream",
     "text": [
      "|> Loading File...\n",
      "|> Loading Finished!\n",
      "-RECORD 0-----------------------------\n",
      " user_id           | 6228             \n",
      " order_datetime    | 2021-12-19       \n",
      " fraud_probability | 97.6298077657765 \n",
      "only showing top 1 row\n",
      "\n",
      "There are 34864 data, and 34864 have no null value.\n"
     ]
    }
   ],
   "source": [
    "consumer_fraud_prob = read_file(spark, file_name='consumer_fraud_probability.csv', type='csv')\n",
    "temp1 = consumer_fraud_prob.dropna(how='any').count()\n",
    "\n",
    "consumer_fraud_prob = (consumer_fraud_prob\n",
    " \n",
    " \n",
    " .withColumnRenamed('order_datetime','date')\n",
    " \n",
    " \n",
    " .withColumnRenamed('user_id', 'id'))\n",
    "print( f'There are {consumer_fraud_prob.count()} data, and {temp1} have no null value.')"
   ]
  },
  {
   "cell_type": "code",
   "execution_count": 122,
   "metadata": {},
   "outputs": [
    {
     "name": "stdout",
     "output_type": "stream",
     "text": [
      "+-----+----------+-----------------+\n",
      "|   id|      date|fraud_probability|\n",
      "+-----+----------+-----------------+\n",
      "| 6228|2021-12-19| 97.6298077657765|\n",
      "|21419|2021-12-10|99.24738020302328|\n",
      "| 5606|2021-10-17|84.05825045251777|\n",
      "| 3101|2021-04-17|91.42192091901347|\n",
      "|22239|2021-10-19|94.70342477508035|\n",
      "+-----+----------+-----------------+\n",
      "only showing top 5 rows\n",
      "\n"
     ]
    }
   ],
   "source": [
    "consumer_fraud_prob.show(5)"
   ]
  },
  {
   "cell_type": "code",
   "execution_count": 123,
   "metadata": {},
   "outputs": [
    {
     "name": "stdout",
     "output_type": "stream",
     "text": [
      "+-------+------------+------------------+--------------------+--------------------+--------------------+---------+----+-----------+-----------------+--------------------+-----+--------+------+---------------+--------------+\n",
      "|user_id|merchant_abn|      dollar_value|            order_id|       merchant_name|                tags|take_rate|type|consumer_id|             name|             address|state|postcode|gender|New cases / day|order_datetime|\n",
      "+-------+------------+------------------+--------------------+--------------------+--------------------+---------+----+-----------+-----------------+--------------------+-----+--------+------+---------------+--------------+\n",
      "|      1| 46451548968| 72.61581642788431|76bab304-fa2d-400...|Tempus Eu Ligula ...|health and beauty...|     6.04|   a|    1195503| Yolanda Williams|413 Haney Gardens...|   WA|    6935|Female|          1,621|    2021-11-26|\n",
      "|      1| 49167531725| 51.58228625503599|7080c274-17f7-4cc...|     Felis Institute|digital goods: bo...|     6.42|   a|    1195503| Yolanda Williams|413 Haney Gardens...|   WA|    6935|Female|          1,621|    2021-11-26|\n",
      "|      5| 76646764782|35.463129852951695|0c855413-67fa-467...|    Tempor Diam Inc.|florists supplies...|     5.09|   b|     712975|Rebecca Blanchard|9271 Michael Mano...|   WA|    6355|Female|          1,621|    2021-11-26|\n",
      "|      5| 71041015148| 89.76800577775657|93255de9-c8fe-426...|            Orci Ltd|digital goods: bo...|     2.19|   c|     712975|Rebecca Blanchard|9271 Michael Mano...|   WA|    6355|Female|          1,621|    2021-11-26|\n",
      "|      5| 80324045558| 62.79195913018835|564f81c8-c3c1-4f4...|Ipsum Dolor Sit C...|gift, card, novel...|     1.47|   c|     712975|Rebecca Blanchard|9271 Michael Mano...|   WA|    6355|Female|          1,621|    2021-11-26|\n",
      "+-------+------------+------------------+--------------------+--------------------+--------------------+---------+----+-----------+-----------------+--------------------+-----+--------+------+---------------+--------------+\n",
      "only showing top 5 rows\n",
      "\n"
     ]
    }
   ],
   "source": [
    "sdf.show(5)"
   ]
  },
  {
   "cell_type": "code",
   "execution_count": 124,
   "metadata": {},
   "outputs": [],
   "source": [
    "sdf = sdf.join(consumer_fraud_prob, [sdf.user_id == consumer_fraud_prob.id, sdf.order_datetime == consumer_fraud_prob.date], how = 'inner')"
   ]
  },
  {
   "cell_type": "code",
   "execution_count": 125,
   "metadata": {},
   "outputs": [
    {
     "name": "stdout",
     "output_type": "stream",
     "text": [
      "+-------+------------+------------------+--------------------+--------------------+--------------------+---------+----+-----------+-----------+--------------------+-----+--------+------+---------------+--------------+---+----------+------------------+\n",
      "|user_id|merchant_abn|      dollar_value|            order_id|       merchant_name|                tags|take_rate|type|consumer_id|       name|             address|state|postcode|gender|New cases / day|order_datetime| id|      date| fraud_probability|\n",
      "+-------+------------+------------------+--------------------+--------------------+--------------------+---------+----+-----------+-----------+--------------------+-----+--------+------+---------------+--------------+---+----------+------------------+\n",
      "|    226| 80682333501|15.725222523439964|1ec01b59-6a14-429...|          Orci Corp.|florists supplies...|     4.88|   b|     710483|Emily Singh|0107 Flores Stree...|   SA|    5642|Female|          1,621|    2021-11-26|226|2021-11-26|13.934739454102626|\n",
      "|    226| 92773401740|3560.1210099528566|58860383-3f81-4d7...|       Massa Limited|equipment, tool, ...|     3.65|   b|     710483|Emily Singh|0107 Flores Stree...|   SA|    5642|Female|          1,621|    2021-11-26|226|2021-11-26|13.934739454102626|\n",
      "|    226| 79953723663| 72.34844507350473|34ecbf83-3727-45d...|                null|                null|     null|null|     710483|Emily Singh|0107 Flores Stree...|   SA|    5642|Female|          1,621|    2021-11-26|226|2021-11-26|13.934739454102626|\n",
      "|    226| 94547309480|142.60400137782662|6df86507-6255-461...|  Lorem Ac Institute|bicycle shops - s...|     2.66|   c|     710483|Emily Singh|0107 Flores Stree...|   SA|    5642|Female|          1,621|    2021-11-26|226|2021-11-26|13.934739454102626|\n",
      "|    226| 64644843223|450.32966307531916|1496b76a-45e9-4a5...|Dictum Augue Cons...|motor vehicle sup...|     5.53|   a|     710483|Emily Singh|0107 Flores Stree...|   SA|    5642|Female|          1,621|    2021-11-26|226|2021-11-26|13.934739454102626|\n",
      "+-------+------------+------------------+--------------------+--------------------+--------------------+---------+----+-----------+-----------+--------------------+-----+--------+------+---------------+--------------+---+----------+------------------+\n",
      "only showing top 5 rows\n",
      "\n"
     ]
    }
   ],
   "source": [
    "sdf.show(5)"
   ]
  },
  {
   "cell_type": "code",
   "execution_count": 126,
   "metadata": {},
   "outputs": [],
   "source": [
    "sdf = sdf.drop('id','date')"
   ]
  },
  {
   "cell_type": "code",
   "execution_count": 127,
   "metadata": {},
   "outputs": [
    {
     "name": "stderr",
     "output_type": "stream",
     "text": [
      "                                                                                \r"
     ]
    },
    {
     "data": {
      "text/plain": [
       "70714"
      ]
     },
     "execution_count": 127,
     "metadata": {},
     "output_type": "execute_result"
    }
   ],
   "source": [
    "sdf.count()"
   ]
  },
  {
   "cell_type": "code",
   "execution_count": 128,
   "metadata": {},
   "outputs": [
    {
     "name": "stdout",
     "output_type": "stream",
     "text": [
      "+-------+------------+------------------+--------------------+--------------------+--------------------+---------+----+-----------+-----------+--------------------+-----+--------+------+---------------+--------------+------------------+\n",
      "|user_id|merchant_abn|      dollar_value|            order_id|       merchant_name|                tags|take_rate|type|consumer_id|       name|             address|state|postcode|gender|New cases / day|order_datetime| fraud_probability|\n",
      "+-------+------------+------------------+--------------------+--------------------+--------------------+---------+----+-----------+-----------+--------------------+-----+--------+------+---------------+--------------+------------------+\n",
      "|    226| 80682333501|15.725222523439964|1ec01b59-6a14-429...|          Orci Corp.|florists supplies...|     4.88|   b|     710483|Emily Singh|0107 Flores Stree...|   SA|    5642|Female|          1,621|    2021-11-26|13.934739454102626|\n",
      "|    226| 92773401740|3560.1210099528566|58860383-3f81-4d7...|       Massa Limited|equipment, tool, ...|     3.65|   b|     710483|Emily Singh|0107 Flores Stree...|   SA|    5642|Female|          1,621|    2021-11-26|13.934739454102626|\n",
      "|    226| 79953723663| 72.34844507350473|34ecbf83-3727-45d...|                null|                null|     null|null|     710483|Emily Singh|0107 Flores Stree...|   SA|    5642|Female|          1,621|    2021-11-26|13.934739454102626|\n",
      "|    226| 94547309480|142.60400137782662|6df86507-6255-461...|  Lorem Ac Institute|bicycle shops - s...|     2.66|   c|     710483|Emily Singh|0107 Flores Stree...|   SA|    5642|Female|          1,621|    2021-11-26|13.934739454102626|\n",
      "|    226| 64644843223|450.32966307531916|1496b76a-45e9-4a5...|Dictum Augue Cons...|motor vehicle sup...|     5.53|   a|     710483|Emily Singh|0107 Flores Stree...|   SA|    5642|Female|          1,621|    2021-11-26|13.934739454102626|\n",
      "+-------+------------+------------------+--------------------+--------------------+--------------------+---------+----+-----------+-----------+--------------------+-----+--------+------+---------------+--------------+------------------+\n",
      "only showing top 5 rows\n",
      "\n"
     ]
    }
   ],
   "source": [
    "sdf.show(5)"
   ]
  },
  {
   "cell_type": "code",
   "execution_count": 137,
   "metadata": {},
   "outputs": [
    {
     "name": "stdout",
     "output_type": "stream",
     "text": [
      "|> Waitting for saving...\n"
     ]
    },
    {
     "name": "stderr",
     "output_type": "stream",
     "text": [
      "[Stage 546:================================================>      (48 + 6) / 54]\r"
     ]
    },
    {
     "name": "stdout",
     "output_type": "stream",
     "text": [
      "|> Save Successfully!\n"
     ]
    },
    {
     "name": "stderr",
     "output_type": "stream",
     "text": [
      "                                                                                \r"
     ]
    }
   ],
   "source": [
    "temp_record_sdf(sdf, path = '../data/curated/consumer_fraud_table.parquet')"
   ]
  },
  {
   "cell_type": "markdown",
   "metadata": {},
   "source": [
    "- merchants fraud dataset"
   ]
  },
  {
   "cell_type": "code",
   "execution_count": 130,
   "metadata": {},
   "outputs": [
    {
     "name": "stdout",
     "output_type": "stream",
     "text": [
      "|> Loading File...\n",
      "|> Loading Finished!\n",
      "-RECORD 0-------------------------------\n",
      " merchant_abn      | 19492220327        \n",
      " order_datetime    | 2021-11-28         \n",
      " fraud_probability | 44.403658647495355 \n",
      "only showing top 1 row\n",
      "\n",
      "There are 114 data, and 114 have no null value.\n"
     ]
    }
   ],
   "source": [
    "merchants_fraud_prob = read_file(spark, file_name='merchant_fraud_probability.csv', type='csv')\n",
    "temp = merchants_fraud_prob.dropna(how='any').count()\n",
    "merchants_fraud_prob = (merchants_fraud_prob\n",
    " \n",
    " \n",
    " .withColumnRenamed('order_datetime','date')\n",
    " \n",
    " \n",
    " .withColumnRenamed('merchant_abn', 'abn'))\n",
    "print( f'There are {merchants_fraud_prob.count()} data, and {temp} have no null value.')"
   ]
  },
  {
   "cell_type": "code",
   "execution_count": 131,
   "metadata": {},
   "outputs": [
    {
     "name": "stdout",
     "output_type": "stream",
     "text": [
      "+-----------+----------+------------------+\n",
      "|        abn|      date| fraud_probability|\n",
      "+-----------+----------+------------------+\n",
      "|19492220327|2021-11-28|44.403658647495355|\n",
      "|31334588839|2021-10-02| 42.75530083865367|\n",
      "|19492220327|2021-12-22|38.867790051131095|\n",
      "|82999039227|2021-12-19|  94.1347004808891|\n",
      "|90918180829|2021-09-02| 43.32551731714902|\n",
      "+-----------+----------+------------------+\n",
      "only showing top 5 rows\n",
      "\n"
     ]
    }
   ],
   "source": [
    "merchants_fraud_prob.show(5)"
   ]
  },
  {
   "cell_type": "code",
   "execution_count": 132,
   "metadata": {},
   "outputs": [],
   "source": [
    "sdf = sdf.join(merchants_fraud_prob, [sdf.order_datetime == merchants_fraud_prob.date, sdf.merchant_abn == merchants_fraud_prob.abn], 'inner')"
   ]
  },
  {
   "cell_type": "code",
   "execution_count": 133,
   "metadata": {},
   "outputs": [
    {
     "name": "stderr",
     "output_type": "stream",
     "text": [
      "                                                                                \r"
     ]
    },
    {
     "data": {
      "text/plain": [
       "4055"
      ]
     },
     "execution_count": 133,
     "metadata": {},
     "output_type": "execute_result"
    }
   ],
   "source": [
    "sdf.count()"
   ]
  },
  {
   "cell_type": "code",
   "execution_count": 134,
   "metadata": {},
   "outputs": [],
   "source": [
    "sdf = sdf.drop('date', 'abn')"
   ]
  },
  {
   "cell_type": "code",
   "execution_count": 135,
   "metadata": {},
   "outputs": [
    {
     "name": "stdout",
     "output_type": "stream",
     "text": [
      "+-------+------------+------------------+--------------------+--------------------+--------------------+---------+----+-----------+--------------+--------------------+-----+--------+-----------+---------------+--------------+------------------+\n",
      "|user_id|merchant_abn|      dollar_value|            order_id|       merchant_name|                tags|take_rate|type|consumer_id|          name|             address|state|postcode|     gender|New cases / day|order_datetime| fraud_probability|\n",
      "+-------+------------+------------------+--------------------+--------------------+--------------------+---------+----+-----------+--------------+--------------------+-----+--------+-----------+---------------+--------------+------------------+\n",
      "|     17| 76767266140|193.80299344578378|95330094-01e5-487...|Phasellus At Limited|furniture, home f...|     4.65|   b|    1331093| Alyssa Wilson|  44353 Nathan Ridge|  VIC|    3719|     Female|          1,621|    2021-11-26|29.539733207182703|\n",
      "|    242| 48534649627| 33.25124583172033|1f4c62e3-6f21-47a...|Dignissim Maecena...|opticians, optica...|     6.64|   a|     822059|Chad Rodriguez|   611 James Mission|   WA|    6947|       Male|          1,621|    2021-11-26|29.005907009831038|\n",
      "|    248| 21439773999| 92.45070854352478|fcb7ff47-8ad1-44e...|Mauris Non Institute|cable, satellite,...|      6.1|   a|     928836|  George Davis| 417 Jackson Viaduct|   NT|     822|       Male|          1,621|    2021-11-26|28.504479048104585|\n",
      "|    250| 94493496784| 53.44816342420479|2e39e977-be79-41b...|Dictum Phasellus ...|gift, card, novel...|     5.65|   a|     470403|  Robert Ochoa|   326 Hodges Square|  VIC|    3447|       Male|          1,621|    2021-11-26| 30.57903215900633|\n",
      "|    307| 96680767841|227.95221653534222|b75983b5-7bc5-4aa...|      Ornare Limited|motor vehicle sup...|     5.91|   a|     776335|  Joshua Baker|8495 Alicia Commo...|  TAS|    7212|Undisclosed|          1,621|    2021-11-26|29.555244690425017|\n",
      "+-------+------------+------------------+--------------------+--------------------+--------------------+---------+----+-----------+--------------+--------------------+-----+--------+-----------+---------------+--------------+------------------+\n",
      "only showing top 5 rows\n",
      "\n"
     ]
    }
   ],
   "source": [
    "sdf.show(5)"
   ]
  },
  {
   "cell_type": "code",
   "execution_count": 136,
   "metadata": {},
   "outputs": [
    {
     "name": "stdout",
     "output_type": "stream",
     "text": [
      "|> Waitting for saving...\n"
     ]
    },
    {
     "name": "stderr",
     "output_type": "stream",
     "text": [
      "                                                                                \r"
     ]
    },
    {
     "name": "stdout",
     "output_type": "stream",
     "text": [
      "|> Save Successfully!\n"
     ]
    }
   ],
   "source": [
    "temp_record_sdf(sdf, path = '../data/curated/merchants_fraud_table.parquet')"
   ]
  }
 ],
 "metadata": {
  "kernelspec": {
   "display_name": "Python 3.7.9 64-bit",
   "language": "python",
   "name": "python3"
  },
  "language_info": {
   "codemirror_mode": {
    "name": "ipython",
    "version": 3
   },
   "file_extension": ".py",
   "mimetype": "text/x-python",
   "name": "python",
   "nbconvert_exporter": "python",
   "pygments_lexer": "ipython3",
   "version": "3.7.9"
  },
  "orig_nbformat": 4,
  "vscode": {
   "interpreter": {
    "hash": "aee8b7b246df8f9039afb4144a1f6fd8d2ca17a180786b69acc140d282b71a49"
   }
  }
 },
 "nbformat": 4,
 "nbformat_minor": 2
}
