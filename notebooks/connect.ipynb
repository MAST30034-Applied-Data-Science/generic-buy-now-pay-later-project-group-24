{
 "cells": [
  {
   "cell_type": "code",
   "execution_count": 1,
   "metadata": {},
   "outputs": [],
   "source": [
    "import sys\n",
    "sys.path.append('../scripts/')\n",
    "from utility import read_file, create_folder, temp_record_query, temp_record_sdf"
   ]
  },
  {
   "cell_type": "code",
   "execution_count": 2,
   "metadata": {},
   "outputs": [],
   "source": [
    "from pyspark.sql import SparkSession\n",
    "import pyspark.sql.functions as F"
   ]
  },
  {
   "cell_type": "code",
   "execution_count": 3,
   "metadata": {},
   "outputs": [
    {
     "name": "stderr",
     "output_type": "stream",
     "text": [
      "Setting default log level to \"WARN\".\n",
      "To adjust logging level use sc.setLogLevel(newLevel). For SparkR, use setLogLevel(newLevel).\n"
     ]
    },
    {
     "name": "stdout",
     "output_type": "stream",
     "text": [
      "22/10/10 01:32:35 WARN NativeCodeLoader: Unable to load native-hadoop library for your platform... using builtin-java classes where applicable\n",
      "22/10/10 01:32:37 WARN Utils: Service 'SparkUI' could not bind on port 4040. Attempting port 4041.\n",
      "22/10/10 01:32:37 WARN Utils: Service 'SparkUI' could not bind on port 4041. Attempting port 4042.\n",
      "22/10/10 01:32:37 WARN Utils: Service 'SparkUI' could not bind on port 4042. Attempting port 4043.\n",
      "22/10/10 01:32:37 WARN Utils: Service 'SparkUI' could not bind on port 4043. Attempting port 4044.\n"
     ]
    }
   ],
   "source": [
    "spark = (\n",
    "    # Create a spark session (which will run spark jobs)\n",
    "    SparkSession.builder.appName(\"Project 2\")\n",
    "    .config(\"spark.sql.repl.eagerEval.enabled\", True) \n",
    "    .config(\"spark.sql.parquet.cacheMetadata\", \"true\")\n",
    "    .config('spark.executor.memory','10g')\n",
    "    .config('spark.driver.memory','12g')\n",
    "    .config('spark.driver.maxResultsSize', '10GiB')\n",
    "    # .config(\"spark.network.timeout\", \"3600s\")\n",
    "    # .master(\"local[6]\")\n",
    "    .getOrCreate()\n",
    "    )"
   ]
  },
  {
   "cell_type": "markdown",
   "metadata": {},
   "source": [
    "### 1. Connect Transactions and Merchants AS `sdf`"
   ]
  },
  {
   "cell_type": "code",
   "execution_count": 4,
   "metadata": {},
   "outputs": [
    {
     "name": "stdout",
     "output_type": "stream",
     "text": [
      "================ Transactions ================\n",
      "|> Loading File...\n"
     ]
    },
    {
     "name": "stderr",
     "output_type": "stream",
     "text": [
      "                                                                                \r"
     ]
    },
    {
     "name": "stdout",
     "output_type": "stream",
     "text": [
      "|> Loading Finished!\n",
      "-RECORD 0----------------------------------------------\n",
      " user_id        | 18478                                \n",
      " merchant_abn   | 62191208634                          \n",
      " dollar_value   | 63.255848959735246                   \n",
      " order_id       | 949a63c8-29f7-4ab0-ada4-99ac50a88952 \n",
      " order_datetime | 2021-08-20                           \n",
      "only showing top 1 row\n",
      "\n",
      "|> Loading File...\n"
     ]
    },
    {
     "name": "stderr",
     "output_type": "stream",
     "text": [
      "                                                                                \r"
     ]
    },
    {
     "name": "stdout",
     "output_type": "stream",
     "text": [
      "|> Loading Finished!\n",
      "-RECORD 0----------------------------------------------\n",
      " user_id        | 14935                                \n",
      " merchant_abn   | 79417999332                          \n",
      " dollar_value   | 136.06570809815838                   \n",
      " order_id       | 23acbb7b-cf98-4580-9775-86b8e0a2bd88 \n",
      " order_datetime | 2021-11-26                           \n",
      "only showing top 1 row\n",
      "\n",
      "|> Loading File...\n"
     ]
    },
    {
     "name": "stderr",
     "output_type": "stream",
     "text": [
      "                                                                                \r"
     ]
    },
    {
     "name": "stdout",
     "output_type": "stream",
     "text": [
      "|> Loading Finished!\n",
      "-RECORD 0----------------------------------------------\n",
      " user_id        | 11139                                \n",
      " merchant_abn   | 96152467973                          \n",
      " dollar_value   | 16.213590228273233                   \n",
      " order_id       | 785b0080-9e4b-471a-9b1f-6a8a9dc535c2 \n",
      " order_datetime | 2022-08-20                           \n",
      "only showing top 1 row\n",
      "\n"
     ]
    },
    {
     "name": "stderr",
     "output_type": "stream",
     "text": [
      "[Stage 12:==================================>                     (16 + 8) / 26]\r"
     ]
    },
    {
     "name": "stdout",
     "output_type": "stream",
     "text": [
      "There are 14195505 data, and 14195505 of them have no null value.\n"
     ]
    },
    {
     "name": "stderr",
     "output_type": "stream",
     "text": [
      "                                                                                \r"
     ]
    }
   ],
   "source": [
    "print(\"================ Transactions ================\")\n",
    "FILE_LIST = ['transactions_20210228_20210827_snapshot', 'transactions_20210828_20220227_snapshot', 'transactions_20220228_20220828_snapshot']\n",
    "transactions_sdf = read_file(spark, FILE_LIST[0])\n",
    "\n",
    "for path in FILE_LIST[1:]:\n",
    "    temp_sdf = read_file(spark, path)\n",
    "    transactions_sdf = transactions_sdf.union(temp_sdf)\n",
    "temp = transactions_sdf.dropna(how='any').count()\n",
    "print( f'There are {transactions_sdf.count()} data, and {temp} of them have no null value.')"
   ]
  },
  {
   "cell_type": "code",
   "execution_count": 5,
   "metadata": {},
   "outputs": [
    {
     "name": "stdout",
     "output_type": "stream",
     "text": [
      "================ Merchant ================\n",
      "|> Loading File...\n",
      "|> Loading Finished!\n",
      "-RECORD 0-----------------------------\n",
      " merchant_name | Felis Limited        \n",
      " tags          | furniture, home f... \n",
      " merchant_abn  | 10023283211          \n",
      " take_rate     | 0.18                 \n",
      " type          | e                    \n",
      "only showing top 1 row\n",
      "\n",
      "There are 4026 data, and 4026 of them have no null value.\n"
     ]
    }
   ],
   "source": [
    "print(\"================ Merchant ================\")\n",
    "merchants_sdf = read_file(spark, 'merchants_data.parquet', '../data/curated/', truncate=20)\n",
    "temp = merchants_sdf.dropna(how='any').count()\n",
    "print( f'There are {merchants_sdf.count()} data, and {temp} of them have no null value.')"
   ]
  },
  {
   "cell_type": "markdown",
   "metadata": {},
   "source": [
    "- Known that Transactions and Merchants table have no null value"
   ]
  },
  {
   "cell_type": "code",
   "execution_count": 6,
   "metadata": {},
   "outputs": [
    {
     "name": "stderr",
     "output_type": "stream",
     "text": [
      "[Stage 28:====================================>                   (17 + 8) / 26]\r"
     ]
    },
    {
     "name": "stdout",
     "output_type": "stream",
     "text": [
      "There are 14195505 data, and 13614675 of them have no null value.\n"
     ]
    },
    {
     "name": "stderr",
     "output_type": "stream",
     "text": [
      "                                                                                \r"
     ]
    }
   ],
   "source": [
    "sdf = transactions_sdf.join(merchants_sdf, how='left', on='merchant_abn')\n",
    "temp = sdf.dropna(how='any', subset=['merchant_name']).count()\n",
    "print( f'There are {sdf.count()} data, and {temp} of them have no null value.')"
   ]
  },
  {
   "cell_type": "code",
   "execution_count": 7,
   "metadata": {},
   "outputs": [
    {
     "name": "stderr",
     "output_type": "stream",
     "text": [
      "                                                                                \r"
     ]
    },
    {
     "data": {
      "text/html": [
       "<table border='1'>\n",
       "<tr><th>merchant_abn</th><th>user_id</th><th>dollar_value</th><th>order_id</th><th>order_datetime</th><th>merchant_name</th><th>tags</th><th>take_rate</th><th>type</th></tr>\n",
       "<tr><td>0</td><td>0</td><td>0</td><td>0</td><td>0</td><td>580830</td><td>580830</td><td>580830</td><td>580830</td></tr>\n",
       "</table>\n"
      ],
      "text/plain": [
       "+------------+-------+------------+--------+--------------+-------------+------+---------+------+\n",
       "|merchant_abn|user_id|dollar_value|order_id|order_datetime|merchant_name|  tags|take_rate|  type|\n",
       "+------------+-------+------------+--------+--------------+-------------+------+---------+------+\n",
       "|           0|      0|           0|       0|             0|       580830|580830|   580830|580830|\n",
       "+------------+-------+------------+--------+--------------+-------------+------+---------+------+"
      ]
     },
     "execution_count": 7,
     "metadata": {},
     "output_type": "execute_result"
    }
   ],
   "source": [
    "sdf_agg = sdf.agg(*[F.count(F.when(F.isnull(c), c)).alias(c) for c in sdf.columns])\n",
    "sdf_agg"
   ]
  },
  {
   "cell_type": "code",
   "execution_count": 8,
   "metadata": {},
   "outputs": [
    {
     "data": {
      "text/plain": [
       "0.040916473207539994"
      ]
     },
     "execution_count": 8,
     "metadata": {},
     "output_type": "execute_result"
    }
   ],
   "source": [
    "580830/14195505"
   ]
  },
  {
   "cell_type": "markdown",
   "metadata": {},
   "source": [
    "- There are 4026 merchants, and for all three batches data have 14195505 records. \n",
    "\n",
    "    After combination, there are **3494038** rest. **14195505 - 13614675 = 580830** records has been deleted. \n",
    "    \n",
    "    `580830/14195505 = 0.040916473207539994`"
   ]
  },
  {
   "cell_type": "code",
   "execution_count": 9,
   "metadata": {},
   "outputs": [
    {
     "name": "stdout",
     "output_type": "stream",
     "text": [
      "+------------+-------+------------------+--------------------+--------------+--------------------+--------------------+---------+----+\n",
      "|merchant_abn|user_id|      dollar_value|            order_id|order_datetime|       merchant_name|                tags|take_rate|type|\n",
      "+------------+-------+------------------+--------------------+--------------+--------------------+--------------------+---------+----+\n",
      "| 62191208634|  18478|63.255848959735246|949a63c8-29f7-4ab...|    2021-08-20|Cursus Non Egesta...|furniture, home f...|     2.17|   c|\n",
      "| 15549624934|      2| 130.3505283105634|6a84c3cf-612a-457...|    2021-08-20|  Commodo Associates|opticians, optica...|     2.76|   c|\n",
      "| 64403598239|  18479|120.15860593212783|b10dcc33-e53f-425...|    2021-08-20|Lobortis Ultrices...|music shops - mus...|     6.31|   a|\n",
      "| 60956456424|      3| 136.6785200286976|0f09c5a5-784e-447...|    2021-08-20|Ultricies Digniss...|gift, card, novel...|     4.69|   b|\n",
      "| 94493496784|  18479| 72.96316578355305|f6c78c1a-4600-4c5...|    2021-08-20|Dictum Phasellus ...|gift, card, novel...|     5.65|   a|\n",
      "+------------+-------+------------------+--------------------+--------------+--------------------+--------------------+---------+----+\n",
      "only showing top 5 rows\n",
      "\n"
     ]
    }
   ],
   "source": [
    "sdf.show(5)"
   ]
  },
  {
   "cell_type": "code",
   "execution_count": 10,
   "metadata": {},
   "outputs": [
    {
     "name": "stderr",
     "output_type": "stream",
     "text": [
      "                                                                                \r"
     ]
    },
    {
     "name": "stdout",
     "output_type": "stream",
     "text": [
      "580830\n"
     ]
    },
    {
     "name": "stderr",
     "output_type": "stream",
     "text": [
      "                                                                                \r"
     ]
    },
    {
     "data": {
      "text/plain": [
       "396"
      ]
     },
     "execution_count": 10,
     "metadata": {},
     "output_type": "execute_result"
    }
   ],
   "source": [
    "null_df = sdf.filter(sdf.merchant_name.isNull())\n",
    "# 580830\n",
    "print(null_df.count())\n",
    "# 396\n",
    "new_merchant = null_df.drop_duplicates(['merchant_abn'])\n",
    "new_merchant.count()"
   ]
  },
  {
   "cell_type": "code",
   "execution_count": null,
   "metadata": {},
   "outputs": [],
   "source": []
  },
  {
   "cell_type": "markdown",
   "metadata": {},
   "source": [
    "### 2. `sdf` join with consumer"
   ]
  },
  {
   "cell_type": "code",
   "execution_count": 11,
   "metadata": {},
   "outputs": [
    {
     "name": "stdout",
     "output_type": "stream",
     "text": [
      "================ Customer ================\n",
      "|> Loading File...\n",
      "|> Loading Finished!\n",
      "-RECORD 0---------------------------------\n",
      " consumer_id | 680810                     \n",
      " name        | Courtney Mendez            \n",
      " address     | 802 Knapp Harbors Apt. 769 \n",
      " state       | QLD                        \n",
      " postcode    | 9013                       \n",
      " gender      | Female                     \n",
      " user_id     | 71144                      \n",
      "only showing top 1 row\n",
      "\n",
      "There are 499999 data, and 499999 of them have no null value.\n"
     ]
    }
   ],
   "source": [
    "print(\"================ Customer ================\")\n",
    "consumer = read_file(spark, 'new_consumer_data.parquet', '../data/curated/')\n",
    "temp = consumer.dropna(how='any').count()\n",
    "print( f'There are {consumer.count()} data, and {temp} of them have no null value.')"
   ]
  },
  {
   "cell_type": "markdown",
   "metadata": {},
   "source": [
    "- consumer join with poa population data"
   ]
  },
  {
   "cell_type": "code",
   "execution_count": 12,
   "metadata": {},
   "outputs": [
    {
     "name": "stdout",
     "output_type": "stream",
     "text": [
      "================  ================\n",
      "|> Loading File...\n",
      "|> Loading Finished!\n"
     ]
    },
    {
     "name": "stderr",
     "output_type": "stream",
     "text": [
      "                                                                                \r"
     ]
    },
    {
     "name": "stdout",
     "output_type": "stream",
     "text": [
      "-RECORD 0--------------------------------------------------------------------------------------\n",
      " postcode   | 6935                                                                             \n",
      " POA_CODE21 | 6055                                                                             \n",
      " geometry   | [01 03 00 00 00 01 00 00 00 F2 05 00 00 68 A7 F7 0B 98 FD 5C 40 C0 AB 6F 9D 5... \n",
      " 2020(no.)  | 33667.56962451867                                                                \n",
      " 2021(no.)  | 35471.469825504624                                                               \n",
      " latitude   | 115.98678832411451                                                               \n",
      " longitude  | -31.863786871018736                                                              \n",
      "only showing top 1 row\n",
      "\n"
     ]
    }
   ],
   "source": [
    "print(\"================  ================\")\n",
    "poa_sdf = read_file(spark, 'external_pos_population.parquet', '../data/curated/')"
   ]
  },
  {
   "cell_type": "code",
   "execution_count": 13,
   "metadata": {},
   "outputs": [],
   "source": [
    "poa_sdf = poa_sdf.drop('geometry')\n",
    "poa_sdf = poa_sdf.withColumnRenamed('2020(no.)', '2020_popu').withColumnRenamed('2021(no.)', '2021_popu')"
   ]
  },
  {
   "cell_type": "code",
   "execution_count": 14,
   "metadata": {},
   "outputs": [
    {
     "name": "stdout",
     "output_type": "stream",
     "text": [
      "+--------+----------+------------------+------------------+------------------+-------------------+\n",
      "|postcode|POA_CODE21|         2020_popu|         2021_popu|          latitude|          longitude|\n",
      "+--------+----------+------------------+------------------+------------------+-------------------+\n",
      "|    6935|      6055| 33667.56962451867|35471.469825504624|115.98678832411451|-31.863786871018736|\n",
      "|    1109|      2000| 31245.01595130939|29155.593195479523| 151.2082196508253|  -33.8683837718929|\n",
      "|    6849|      6014| 23594.15360007898|23626.473167324344|115.80478169490398| -31.93687853219304|\n",
      "|    1114|      2000| 31245.01595130939|29155.593195479523| 151.2082196508253|  -33.8683837718929|\n",
      "|    1825|      2144|42033.877748936546|40303.381920963206|151.02620831540813| -33.85468695739709|\n",
      "+--------+----------+------------------+------------------+------------------+-------------------+\n",
      "only showing top 5 rows\n",
      "\n"
     ]
    }
   ],
   "source": [
    "poa_sdf.show(5)"
   ]
  },
  {
   "cell_type": "code",
   "execution_count": 15,
   "metadata": {},
   "outputs": [
    {
     "name": "stdout",
     "output_type": "stream",
     "text": [
      "There are 3158 data, and 3158 have no null value.\n"
     ]
    }
   ],
   "source": [
    "temp = poa_sdf.dropna(how='any').count()\n",
    "print( f'There are {poa_sdf.count()} data, and {temp} have no null value.')"
   ]
  },
  {
   "cell_type": "code",
   "execution_count": 16,
   "metadata": {},
   "outputs": [],
   "source": [
    "consumer = consumer.join(poa_sdf, on='postcode', how='left')"
   ]
  },
  {
   "cell_type": "code",
   "execution_count": 17,
   "metadata": {},
   "outputs": [
    {
     "name": "stdout",
     "output_type": "stream",
     "text": [
      "+--------+-----------+---------------+--------------------+-----+------+-------+----------+------------------+------------------+------------------+-------------------+\n",
      "|postcode|consumer_id|           name|             address|state|gender|user_id|POA_CODE21|         2020_popu|         2021_popu|          latitude|          longitude|\n",
      "+--------+-----------+---------------+--------------------+-----+------+-------+----------+------------------+------------------+------------------+-------------------+\n",
      "|    8205|     699376|Jeffrey Harding|665 Doyle Oval Ap...|  VIC|  Male|  71147|      3000| 51550.57421324455| 44766.40475584961|144.96238093177988| -37.81314234745685|\n",
      "|    5201|    1440589|     Adam Bowen|77454 Lopez Plaza...|   SA|  Male|  71146|      5201|2560.1036151846665|2615.9481608550705| 138.7323332150744| -35.20611204854585|\n",
      "|    9013|     680810|Courtney Mendez|802 Knapp Harbors...|  QLD|Female|  71144|      4000|21606.625243521717|  21142.3135518536|153.02369142357665|-27.465171792936314|\n",
      "|    5301|     531402|     John Garza|90413 Wyatt Fort ...|   SA|  Male|  71145|      5301|  983.393818743602| 982.7221238179577|140.04219157926605| -35.42152166407791|\n",
      "|    5352|    1306078|  Joshua Butler|912 Wanda Mountai...|   SA|  Male|  71149|      5352| 6035.565030422013| 6006.404840822259|138.94272571579566| -34.54409331436517|\n",
      "+--------+-----------+---------------+--------------------+-----+------+-------+----------+------------------+------------------+------------------+-------------------+\n",
      "only showing top 5 rows\n",
      "\n"
     ]
    }
   ],
   "source": [
    "consumer.show(5)"
   ]
  },
  {
   "cell_type": "code",
   "execution_count": 18,
   "metadata": {},
   "outputs": [
    {
     "name": "stderr",
     "output_type": "stream",
     "text": [
      "                                                                                \r"
     ]
    },
    {
     "data": {
      "text/plain": [
       "498587"
      ]
     },
     "execution_count": 18,
     "metadata": {},
     "output_type": "execute_result"
    }
   ],
   "source": [
    "consumer.dropna(how='any').count()"
   ]
  },
  {
   "cell_type": "code",
   "execution_count": 19,
   "metadata": {},
   "outputs": [
    {
     "name": "stderr",
     "output_type": "stream",
     "text": [
      "                                                                                \r"
     ]
    },
    {
     "data": {
      "text/html": [
       "<table border='1'>\n",
       "<tr><th>postcode</th><th>consumer_id</th><th>name</th><th>address</th><th>state</th><th>gender</th><th>user_id</th><th>POA_CODE21</th><th>2020_popu</th><th>2021_popu</th><th>latitude</th><th>longitude</th></tr>\n",
       "<tr><td>1441</td><td>341498</td><td>Courtney Alexander</td><td>82265 Hardy Hill</td><td>NSW</td><td>Female</td><td>77783</td><td>null</td><td>null</td><td>null</td><td>null</td><td>null</td></tr>\n",
       "<tr><td>1476</td><td>588776</td><td>Elizabeth Sanchez</td><td>343 Middleton Shoal</td><td>NSW</td><td>Female</td><td>73404</td><td>null</td><td>null</td><td>null</td><td>null</td><td>null</td></tr>\n",
       "<tr><td>1819</td><td>1131147</td><td>Marc Wilson</td><td>162 Shields Inlet...</td><td>NSW</td><td>Male</td><td>72313</td><td>null</td><td>null</td><td>null</td><td>null</td><td>null</td></tr>\n",
       "<tr><td>2013</td><td>861495</td><td>Erin Rodriguez</td><td>707 Xavier Brook</td><td>NSW</td><td>Female</td><td>75224</td><td>null</td><td>null</td><td>null</td><td>null</td><td>null</td></tr>\n",
       "<tr><td>3399</td><td>724573</td><td>Andrea Stone</td><td>627 Christine Cor...</td><td>VIC</td><td>Female</td><td>72496</td><td>null</td><td>null</td><td>null</td><td>null</td><td>null</td></tr>\n",
       "<tr><td>3989</td><td>1093754</td><td>Tracey Williams</td><td>49197 Nunez Burg</td><td>VIC</td><td>Female</td><td>71746</td><td>null</td><td>null</td><td>null</td><td>null</td><td>null</td></tr>\n",
       "<tr><td>6435</td><td>1217055</td><td>Douglas Jones</td><td>71897 Kristina Hi...</td><td>WA</td><td>Undisclosed</td><td>71334</td><td>null</td><td>null</td><td>null</td><td>null</td><td>null</td></tr>\n",
       "<tr><td>8785</td><td>806615</td><td>Destiny Morgan</td><td>68138 Welch Divid...</td><td>VIC</td><td>Female</td><td>72252</td><td>null</td><td>null</td><td>null</td><td>null</td><td>null</td></tr>\n",
       "<tr><td>9999</td><td>545212</td><td>Daniel Walker</td><td>2217 Fleming Rest...</td><td>VIC</td><td>Male</td><td>72597</td><td>null</td><td>null</td><td>null</td><td>null</td><td>null</td></tr>\n",
       "</table>\n"
      ],
      "text/plain": [
       "+--------+-----------+------------------+--------------------+-----+-----------+-------+----------+---------+---------+--------+---------+\n",
       "|postcode|consumer_id|              name|             address|state|     gender|user_id|POA_CODE21|2020_popu|2021_popu|latitude|longitude|\n",
       "+--------+-----------+------------------+--------------------+-----+-----------+-------+----------+---------+---------+--------+---------+\n",
       "|    1441|     341498|Courtney Alexander|    82265 Hardy Hill|  NSW|     Female|  77783|      null|     null|     null|    null|     null|\n",
       "|    1476|     588776| Elizabeth Sanchez| 343 Middleton Shoal|  NSW|     Female|  73404|      null|     null|     null|    null|     null|\n",
       "|    1819|    1131147|       Marc Wilson|162 Shields Inlet...|  NSW|       Male|  72313|      null|     null|     null|    null|     null|\n",
       "|    2013|     861495|    Erin Rodriguez|    707 Xavier Brook|  NSW|     Female|  75224|      null|     null|     null|    null|     null|\n",
       "|    3399|     724573|      Andrea Stone|627 Christine Cor...|  VIC|     Female|  72496|      null|     null|     null|    null|     null|\n",
       "|    3989|    1093754|   Tracey Williams|    49197 Nunez Burg|  VIC|     Female|  71746|      null|     null|     null|    null|     null|\n",
       "|    6435|    1217055|     Douglas Jones|71897 Kristina Hi...|   WA|Undisclosed|  71334|      null|     null|     null|    null|     null|\n",
       "|    8785|     806615|    Destiny Morgan|68138 Welch Divid...|  VIC|     Female|  72252|      null|     null|     null|    null|     null|\n",
       "|    9999|     545212|     Daniel Walker|2217 Fleming Rest...|  VIC|       Male|  72597|      null|     null|     null|    null|     null|\n",
       "+--------+-----------+------------------+--------------------+-----+-----------+-------+----------+---------+---------+--------+---------+"
      ]
     },
     "execution_count": 19,
     "metadata": {},
     "output_type": "execute_result"
    }
   ],
   "source": [
    "# 有9个postcode没有找到对应的数据\n",
    "# 就是做预处理找过的 --- 保留到fraud做处理\n",
    "consumer[consumer.POA_CODE21.isNull()].drop_duplicates(['postcode'])"
   ]
  },
  {
   "cell_type": "code",
   "execution_count": 20,
   "metadata": {},
   "outputs": [],
   "source": [
    "consumer = consumer.na.fill(subset='2021_popu', value = 0)\n",
    "consumer = consumer.na.fill(subset='2020_popu', value = 0)"
   ]
  },
  {
   "cell_type": "code",
   "execution_count": 21,
   "metadata": {},
   "outputs": [],
   "source": [
    "consumer = consumer.na.fill(subset='POA_CODE21', value = 0)"
   ]
  },
  {
   "cell_type": "code",
   "execution_count": 22,
   "metadata": {},
   "outputs": [
    {
     "name": "stderr",
     "output_type": "stream",
     "text": [
      "                                                                                \r"
     ]
    },
    {
     "data": {
      "text/plain": [
       "{'postcode': 4037.0854181708364,\n",
       " 'consumer_id': 750895.2123184246,\n",
       " 'name': None,\n",
       " 'address': None,\n",
       " 'state': None,\n",
       " 'gender': None,\n",
       " 'user_id': 250000.0,\n",
       " 'POA_CODE21': 4003.05151010302,\n",
       " '2020_popu': 12533.471767338458,\n",
       " '2021_popu': 12385.711385835375,\n",
       " 'latitude': 142.10512461626408,\n",
       " 'longitude': -32.99312950584857}"
      ]
     },
     "execution_count": 22,
     "metadata": {},
     "output_type": "execute_result"
    }
   ],
   "source": [
    "mean = consumer.agg(*(F.mean(c).alias(c) for c in consumer.columns))\n",
    "meaninfo = mean.first().asDict()\n",
    "meaninfo"
   ]
  },
  {
   "cell_type": "code",
   "execution_count": 23,
   "metadata": {},
   "outputs": [],
   "source": [
    "consumer = consumer.na.fill(subset='latitude', value = meaninfo['latitude'])\n",
    "consumer = consumer.na.fill(subset='longitude', value = meaninfo['longitude'])"
   ]
  },
  {
   "cell_type": "code",
   "execution_count": 24,
   "metadata": {},
   "outputs": [
    {
     "data": {
      "text/html": [
       "<table border='1'>\n",
       "<tr><th>postcode</th><th>consumer_id</th><th>name</th><th>address</th><th>state</th><th>gender</th><th>user_id</th><th>POA_CODE21</th><th>2020_popu</th><th>2021_popu</th><th>latitude</th><th>longitude</th></tr>\n",
       "</table>\n"
      ],
      "text/plain": [
       "+--------+-----------+----+-------+-----+------+-------+----------+---------+---------+--------+---------+\n",
       "|postcode|consumer_id|name|address|state|gender|user_id|POA_CODE21|2020_popu|2021_popu|latitude|longitude|\n",
       "+--------+-----------+----+-------+-----+------+-------+----------+---------+---------+--------+---------+\n",
       "+--------+-----------+----+-------+-----+------+-------+----------+---------+---------+--------+---------+"
      ]
     },
     "execution_count": 24,
     "metadata": {},
     "output_type": "execute_result"
    }
   ],
   "source": [
    "consumer[consumer.longitude.isNull()].drop_duplicates(['postcode'])"
   ]
  },
  {
   "cell_type": "markdown",
   "metadata": {},
   "source": [
    "- join\n"
   ]
  },
  {
   "cell_type": "code",
   "execution_count": 25,
   "metadata": {},
   "outputs": [
    {
     "data": {
      "text/html": [
       "<table border='1'>\n",
       "<tr><th>merchant_abn</th><th>user_id</th><th>dollar_value</th><th>order_id</th><th>order_datetime</th><th>merchant_name</th><th>tags</th><th>take_rate</th><th>type</th></tr>\n",
       "<tr><td>62191208634</td><td>18478</td><td>63.255848959735246</td><td>949a63c8-29f7-4ab...</td><td>2021-08-20</td><td>Cursus Non Egesta...</td><td>furniture, home f...</td><td>2.17</td><td>c</td></tr>\n",
       "<tr><td>15549624934</td><td>2</td><td>130.3505283105634</td><td>6a84c3cf-612a-457...</td><td>2021-08-20</td><td>Commodo Associates</td><td>opticians, optica...</td><td>2.76</td><td>c</td></tr>\n",
       "<tr><td>64403598239</td><td>18479</td><td>120.15860593212783</td><td>b10dcc33-e53f-425...</td><td>2021-08-20</td><td>Lobortis Ultrices...</td><td>music shops - mus...</td><td>6.31</td><td>a</td></tr>\n",
       "<tr><td>60956456424</td><td>3</td><td>136.6785200286976</td><td>0f09c5a5-784e-447...</td><td>2021-08-20</td><td>Ultricies Digniss...</td><td>gift, card, novel...</td><td>4.69</td><td>b</td></tr>\n",
       "<tr><td>94493496784</td><td>18479</td><td>72.96316578355305</td><td>f6c78c1a-4600-4c5...</td><td>2021-08-20</td><td>Dictum Phasellus ...</td><td>gift, card, novel...</td><td>5.65</td><td>a</td></tr>\n",
       "<tr><td>76819856970</td><td>3</td><td>448.529684285612</td><td>5ace6a24-cdf0-4aa...</td><td>2021-08-20</td><td>Egestas Blandit Ltd</td><td>tent and awning s...</td><td>3.19</td><td>b</td></tr>\n",
       "<tr><td>67609108741</td><td>18479</td><td>86.4040605836911</td><td>d0e180f0-cb06-42a...</td><td>2021-08-20</td><td>Metus Sit Amet In...</td><td>cable, satellite,...</td><td>0.38</td><td>e</td></tr>\n",
       "<tr><td>34096466752</td><td>3</td><td>301.5793450525113</td><td>6fb1ff48-24bb-4f9...</td><td>2021-08-20</td><td>Nullam Enim Ltd</td><td>computers, comput...</td><td>3.22</td><td>b</td></tr>\n",
       "<tr><td>70501974849</td><td>18482</td><td>68.75486276223054</td><td>8505fb33-b69a-412...</td><td>2021-08-20</td><td>Facilisis Lorem T...</td><td>computers, comput...</td><td>3.3</td><td>b</td></tr>\n",
       "<tr><td>49891706470</td><td>4</td><td>48.89796461900801</td><td>ed11e477-b09f-4ae...</td><td>2021-08-20</td><td>Non Vestibulum In...</td><td>tent and awning s...</td><td>5.8</td><td>a</td></tr>\n",
       "<tr><td>46804135891</td><td>18482</td><td>6.6168976971833615</td><td>05b5edb5-b925-414...</td><td>2021-08-20</td><td>Suspendisse Dui C...</td><td>opticians, optica...</td><td>2.93</td><td>c</td></tr>\n",
       "<tr><td>33064796871</td><td>7</td><td>373.0873675184212</td><td>fe188788-b89f-4dd...</td><td>2021-08-20</td><td>Curabitur Massa C...</td><td>computer programm...</td><td>3.75</td><td>b</td></tr>\n",
       "<tr><td>44160392990</td><td>18483</td><td>83.98473054761176</td><td>7c44302d-98b3-48b...</td><td>2021-08-20</td><td>Sociis Natoque In...</td><td>digital goods: bo...</td><td>5.97</td><td>a</td></tr>\n",
       "<tr><td>68435002949</td><td>7</td><td>232.5364986739752</td><td>b4a89891-a113-45e...</td><td>2021-08-20</td><td>Aliquam Eu Inc.</td><td>artist supply and...</td><td>6.65</td><td>a</td></tr>\n",
       "<tr><td>70033549200</td><td>18484</td><td>871.7678061729196</td><td>4b1d941a-21a1-43e...</td><td>2021-08-20</td><td>Mus Proin LLP</td><td>tent and awning s...</td><td>4.78</td><td>b</td></tr>\n",
       "<tr><td>41944909975</td><td>7</td><td>30.910755230234322</td><td>302ae628-8eba-4a5...</td><td>2021-08-20</td><td>Et Nunc Consulting</td><td>books, periodical...</td><td>0.16</td><td>e</td></tr>\n",
       "<tr><td>41705715409</td><td>18485</td><td>309.5417224575787</td><td>67f4f98e-3149-4e8...</td><td>2021-08-20</td><td>Augue Eu LLP</td><td>furniture, home f...</td><td>6.05</td><td>a</td></tr>\n",
       "<tr><td>29566626791</td><td>8</td><td>74.15732460440282</td><td>71a81652-cc91-4bf...</td><td>2021-08-20</td><td>null</td><td>null</td><td>null</td><td>null</td></tr>\n",
       "<tr><td>32361057556</td><td>18487</td><td>119.19055863068847</td><td>15577921-1104-470...</td><td>2021-08-20</td><td>Orci In Consequat...</td><td>gift, card, novel...</td><td>6.61</td><td>a</td></tr>\n",
       "<tr><td>47663262928</td><td>9</td><td>36.69873283148887</td><td>c4fcb49a-ce87-4e1...</td><td>2021-08-20</td><td>Eget Lacus LLP</td><td>cable, satellite,...</td><td>6.66</td><td>a</td></tr>\n",
       "</table>\n",
       "only showing top 20 rows\n"
      ],
      "text/plain": [
       "+------------+-------+------------------+--------------------+--------------+--------------------+--------------------+---------+----+\n",
       "|merchant_abn|user_id|      dollar_value|            order_id|order_datetime|       merchant_name|                tags|take_rate|type|\n",
       "+------------+-------+------------------+--------------------+--------------+--------------------+--------------------+---------+----+\n",
       "| 62191208634|  18478|63.255848959735246|949a63c8-29f7-4ab...|    2021-08-20|Cursus Non Egesta...|furniture, home f...|     2.17|   c|\n",
       "| 15549624934|      2| 130.3505283105634|6a84c3cf-612a-457...|    2021-08-20|  Commodo Associates|opticians, optica...|     2.76|   c|\n",
       "| 64403598239|  18479|120.15860593212783|b10dcc33-e53f-425...|    2021-08-20|Lobortis Ultrices...|music shops - mus...|     6.31|   a|\n",
       "| 60956456424|      3| 136.6785200286976|0f09c5a5-784e-447...|    2021-08-20|Ultricies Digniss...|gift, card, novel...|     4.69|   b|\n",
       "| 94493496784|  18479| 72.96316578355305|f6c78c1a-4600-4c5...|    2021-08-20|Dictum Phasellus ...|gift, card, novel...|     5.65|   a|\n",
       "| 76819856970|      3|  448.529684285612|5ace6a24-cdf0-4aa...|    2021-08-20| Egestas Blandit Ltd|tent and awning s...|     3.19|   b|\n",
       "| 67609108741|  18479|  86.4040605836911|d0e180f0-cb06-42a...|    2021-08-20|Metus Sit Amet In...|cable, satellite,...|     0.38|   e|\n",
       "| 34096466752|      3| 301.5793450525113|6fb1ff48-24bb-4f9...|    2021-08-20|     Nullam Enim Ltd|computers, comput...|     3.22|   b|\n",
       "| 70501974849|  18482| 68.75486276223054|8505fb33-b69a-412...|    2021-08-20|Facilisis Lorem T...|computers, comput...|      3.3|   b|\n",
       "| 49891706470|      4| 48.89796461900801|ed11e477-b09f-4ae...|    2021-08-20|Non Vestibulum In...|tent and awning s...|      5.8|   a|\n",
       "| 46804135891|  18482|6.6168976971833615|05b5edb5-b925-414...|    2021-08-20|Suspendisse Dui C...|opticians, optica...|     2.93|   c|\n",
       "| 33064796871|      7| 373.0873675184212|fe188788-b89f-4dd...|    2021-08-20|Curabitur Massa C...|computer programm...|     3.75|   b|\n",
       "| 44160392990|  18483| 83.98473054761176|7c44302d-98b3-48b...|    2021-08-20|Sociis Natoque In...|digital goods: bo...|     5.97|   a|\n",
       "| 68435002949|      7| 232.5364986739752|b4a89891-a113-45e...|    2021-08-20|     Aliquam Eu Inc.|artist supply and...|     6.65|   a|\n",
       "| 70033549200|  18484| 871.7678061729196|4b1d941a-21a1-43e...|    2021-08-20|       Mus Proin LLP|tent and awning s...|     4.78|   b|\n",
       "| 41944909975|      7|30.910755230234322|302ae628-8eba-4a5...|    2021-08-20|  Et Nunc Consulting|books, periodical...|     0.16|   e|\n",
       "| 41705715409|  18485| 309.5417224575787|67f4f98e-3149-4e8...|    2021-08-20|        Augue Eu LLP|furniture, home f...|     6.05|   a|\n",
       "| 29566626791|      8| 74.15732460440282|71a81652-cc91-4bf...|    2021-08-20|                null|                null|     null|null|\n",
       "| 32361057556|  18487|119.19055863068847|15577921-1104-470...|    2021-08-20|Orci In Consequat...|gift, card, novel...|     6.61|   a|\n",
       "| 47663262928|      9| 36.69873283148887|c4fcb49a-ce87-4e1...|    2021-08-20|      Eget Lacus LLP|cable, satellite,...|     6.66|   a|\n",
       "+------------+-------+------------------+--------------------+--------------+--------------------+--------------------+---------+----+\n",
       "only showing top 20 rows"
      ]
     },
     "execution_count": 25,
     "metadata": {},
     "output_type": "execute_result"
    }
   ],
   "source": [
    "sdf"
   ]
  },
  {
   "cell_type": "code",
   "execution_count": 26,
   "metadata": {},
   "outputs": [
    {
     "name": "stderr",
     "output_type": "stream",
     "text": [
      "                                                                                \r"
     ]
    },
    {
     "name": "stdout",
     "output_type": "stream",
     "text": [
      "There are 14195505 data, and 14195505 of them have no null value.\n"
     ]
    }
   ],
   "source": [
    "sdf = sdf.join(consumer, how='left', on='user_id')\n",
    "temp = sdf.dropna(how='any', subset=['consumer_id']).count()\n",
    "print( f'There are {sdf.count()} data, and {temp} of them have no null value.')"
   ]
  },
  {
   "cell_type": "code",
   "execution_count": 27,
   "metadata": {},
   "outputs": [
    {
     "name": "stderr",
     "output_type": "stream",
     "text": [
      "[Stage 146:=======>                                                 (1 + 7) / 8]\r"
     ]
    },
    {
     "name": "stdout",
     "output_type": "stream",
     "text": [
      "+-------+------------+------------------+--------------------+--------------+--------------------+--------------------+---------+----+--------+-----------+-------------+--------------------+-----+------+----------+-----------------+-----------------+------------------+-------------------+\n",
      "|user_id|merchant_abn|      dollar_value|            order_id|order_datetime|       merchant_name|                tags|take_rate|type|postcode|consumer_id|         name|             address|state|gender|POA_CODE21|        2020_popu|        2021_popu|          latitude|          longitude|\n",
      "+-------+------------+------------------+--------------------+--------------+--------------------+--------------------+---------+----+--------+-----------+-------------+--------------------+-----+------+----------+-----------------+-----------------+------------------+-------------------+\n",
      "|      7| 96442520325|29.863817960377617|48dd50dd-291d-43d...|    2021-04-07|Nullam Lobortis Q...|computers, comput...|     3.65|   b|    4606|     511685| Andrea Jones|   122 Brandon Cliff|  QLD|Female|      4606|552.6292160121676|557.0307901493427|151.80006629311015|-26.268858171309105|\n",
      "|      7| 29566626791| 80.43460573195489|13d12435-4f1d-4b6...|    2021-04-07|                null|                null|     null|null|    4606|     511685| Andrea Jones|   122 Brandon Cliff|  QLD|Female|      4606|552.6292160121676|557.0307901493427|151.80006629311015|-26.268858171309105|\n",
      "|  11142| 94690988633|147.22077037120164|5f83973a-71b3-4ab...|    2022-08-29|     Eu Placerat LLC|computers, comput...|     6.16|   a|    3501|     926065|Joseph Bailey|8110 Collins Key ...|  VIC|  Male|      3501|2208.389619654873|2256.061918113987|142.29171160591616| -34.65567436632965|\n",
      "|  11142| 77013874702| 1.401182039422642|f6d1ce9f-9f11-4e6...|    2022-07-13|  Pretium Neque Inc.|tent and awning s...|      5.8|   a|    3501|     926065|Joseph Bailey|8110 Collins Key ...|  VIC|  Male|      3501|2208.389619654873|2256.061918113987|142.29171160591616| -34.65567436632965|\n",
      "|  11142| 95508140753| 65.56769712069814|324d9288-8e7a-44b...|    2022-04-12|Ullamcorper Velit...|cable, satellite,...|     3.88|   b|    3501|     926065|Joseph Bailey|8110 Collins Key ...|  VIC|  Male|      3501|2208.389619654873|2256.061918113987|142.29171160591616| -34.65567436632965|\n",
      "+-------+------------+------------------+--------------------+--------------+--------------------+--------------------+---------+----+--------+-----------+-------------+--------------------+-----+------+----------+-----------------+-----------------+------------------+-------------------+\n",
      "only showing top 5 rows\n",
      "\n"
     ]
    },
    {
     "name": "stderr",
     "output_type": "stream",
     "text": [
      "                                                                                \r"
     ]
    }
   ],
   "source": [
    "sdf.show(5)"
   ]
  },
  {
   "cell_type": "markdown",
   "metadata": {},
   "source": [
    "### 3. `sdf` join with the external dataset  --- ncd"
   ]
  },
  {
   "cell_type": "code",
   "execution_count": 28,
   "metadata": {},
   "outputs": [
    {
     "name": "stdout",
     "output_type": "stream",
     "text": [
      "================  ================\n",
      "|> Loading File...\n",
      "|> Loading Finished!\n",
      "-RECORD 0---------------------\n",
      " Date            | 2020-01-25 \n",
      " New cases / day | 4          \n",
      "only showing top 1 row\n",
      "\n",
      "There are 980 data, and 980 have no null value.\n"
     ]
    }
   ],
   "source": [
    "print(\"================  ================\")\n",
    "ncd_sdf = read_file(spark, 'external_ncd.parquet', '../data/curated/')\n",
    "temp = ncd_sdf.dropna(how='any').count()\n",
    "print( f'There are {ncd_sdf.count()} data, and {temp} have no null value.')"
   ]
  },
  {
   "cell_type": "code",
   "execution_count": 29,
   "metadata": {},
   "outputs": [
    {
     "name": "stdout",
     "output_type": "stream",
     "text": [
      "+----------+---------------+\n",
      "|      Date|New cases / day|\n",
      "+----------+---------------+\n",
      "|2020-01-25|              4|\n",
      "|2020-01-26|              0|\n",
      "|2020-01-27|              1|\n",
      "|2020-01-28|              0|\n",
      "|2020-01-29|              4|\n",
      "+----------+---------------+\n",
      "only showing top 5 rows\n",
      "\n"
     ]
    }
   ],
   "source": [
    "ncd_sdf.show(5)"
   ]
  },
  {
   "cell_type": "code",
   "execution_count": 30,
   "metadata": {},
   "outputs": [
    {
     "name": "stdout",
     "output_type": "stream",
     "text": [
      "+-------+------------+------------------+--------------------+--------------+--------------------+--------------------+---------+----+--------+-----------+-------------+--------------------+-----+------+----------+-----------------+-----------------+------------------+-------------------+----------+---------------+\n",
      "|user_id|merchant_abn|      dollar_value|            order_id|order_datetime|       merchant_name|                tags|take_rate|type|postcode|consumer_id|         name|             address|state|gender|POA_CODE21|        2020_popu|        2021_popu|          latitude|          longitude|      Date|New cases / day|\n",
      "+-------+------------+------------------+--------------------+--------------+--------------------+--------------------+---------+----+--------+-----------+-------------+--------------------+-----+------+----------+-----------------+-----------------+------------------+-------------------+----------+---------------+\n",
      "|      7| 96442520325|29.863817960377617|48dd50dd-291d-43d...|    2021-04-07|Nullam Lobortis Q...|computers, comput...|     3.65|   b|    4606|     511685| Andrea Jones|   122 Brandon Cliff|  QLD|Female|      4606|552.6292160121676|557.0307901493427|151.80006629311015|-26.268858171309105|2021-04-07|             14|\n",
      "|      7| 29566626791| 80.43460573195489|13d12435-4f1d-4b6...|    2021-04-07|                null|                null|     null|null|    4606|     511685| Andrea Jones|   122 Brandon Cliff|  QLD|Female|      4606|552.6292160121676|557.0307901493427|151.80006629311015|-26.268858171309105|2021-04-07|             14|\n",
      "|  11142| 94690988633|147.22077037120164|5f83973a-71b3-4ab...|    2022-08-29|     Eu Placerat LLC|computers, comput...|     6.16|   a|    3501|     926065|Joseph Bailey|8110 Collins Key ...|  VIC|  Male|      3501|2208.389619654873|2256.061918113987|142.29171160591616| -34.65567436632965|2022-08-29|          8,589|\n",
      "|  11142| 77013874702| 1.401182039422642|f6d1ce9f-9f11-4e6...|    2022-07-13|  Pretium Neque Inc.|tent and awning s...|      5.8|   a|    3501|     926065|Joseph Bailey|8110 Collins Key ...|  VIC|  Male|      3501|2208.389619654873|2256.061918113987|142.29171160591616| -34.65567436632965|2022-07-13|         44,243|\n",
      "|  11142| 95508140753| 65.56769712069814|324d9288-8e7a-44b...|    2022-04-12|Ullamcorper Velit...|cable, satellite,...|     3.88|   b|    3501|     926065|Joseph Bailey|8110 Collins Key ...|  VIC|  Male|      3501|2208.389619654873|2256.061918113987|142.29171160591616| -34.65567436632965|2022-04-12|         45,679|\n",
      "+-------+------------+------------------+--------------------+--------------+--------------------+--------------------+---------+----+--------+-----------+-------------+--------------------+-----+------+----------+-----------------+-----------------+------------------+-------------------+----------+---------------+\n",
      "only showing top 5 rows\n",
      "\n"
     ]
    }
   ],
   "source": [
    "sdf = sdf.join(ncd_sdf, sdf.order_datetime == ncd_sdf.Date, 'left')\n",
    "sdf.show(5)"
   ]
  },
  {
   "cell_type": "code",
   "execution_count": 31,
   "metadata": {},
   "outputs": [
    {
     "name": "stderr",
     "output_type": "stream",
     "text": [
      "[Stage 193:>                                                        (0 + 8) / 9]\r"
     ]
    },
    {
     "name": "stdout",
     "output_type": "stream",
     "text": [
      "There are 14213202 data, and 13458582 have no null value.\n"
     ]
    },
    {
     "name": "stderr",
     "output_type": "stream",
     "text": [
      "                                                                                \r"
     ]
    }
   ],
   "source": [
    "temp = sdf.dropna(how='any', subset=['Date']).count()\n",
    "print( f'There are {sdf.count()} data, and {temp} have no null value.')"
   ]
  },
  {
   "cell_type": "code",
   "execution_count": 32,
   "metadata": {},
   "outputs": [],
   "source": [
    "sdf = sdf.drop('Date')"
   ]
  },
  {
   "cell_type": "code",
   "execution_count": 33,
   "metadata": {},
   "outputs": [],
   "source": [
    "# temp = sdf.to_pandas_on_spark()\n",
    "# temp[temp.Date.isna()]"
   ]
  },
  {
   "cell_type": "markdown",
   "metadata": {},
   "source": [
    "### 4. join with external retail trade seasonal"
   ]
  },
  {
   "cell_type": "code",
   "execution_count": 34,
   "metadata": {},
   "outputs": [
    {
     "name": "stdout",
     "output_type": "stream",
     "text": [
      "================  ================\n",
      "|> Loading File...\n",
      "|> Loading Finished!\n",
      "-RECORD 0----------------------------------------------\n",
      " month                                    | 2022-04-01 \n",
      " food                                     | 13182.7    \n",
      " household goods                          | 6023.3     \n",
      " clothing footwear and personal accessory | 2912.8     \n",
      " department store                         | 1782.5     \n",
      " other                                    | 5317.8     \n",
      " cafes restaurants and takeway foods      | 4704       \n",
      " total                                    | 33923.1    \n",
      "only showing top 1 row\n",
      "\n",
      "There are 19 data, and 19 have no null value.\n"
     ]
    }
   ],
   "source": [
    "print(\"================  ================\")\n",
    "rts_sdf = read_file(spark, 'external_retail_trade_seasonal.parquet', '../data/curated/')\n",
    "temp = rts_sdf.dropna(how='any').count()\n",
    "print( f'There are {rts_sdf.count()} data, and {temp} have no null value.')"
   ]
  },
  {
   "cell_type": "code",
   "execution_count": 35,
   "metadata": {},
   "outputs": [
    {
     "name": "stdout",
     "output_type": "stream",
     "text": [
      "root\n",
      " |-- month: string (nullable = true)\n",
      " |-- food: string (nullable = true)\n",
      " |-- household goods: string (nullable = true)\n",
      " |-- clothing footwear and personal accessory: string (nullable = true)\n",
      " |-- department store: string (nullable = true)\n",
      " |-- other: string (nullable = true)\n",
      " |-- cafes restaurants and takeway foods: string (nullable = true)\n",
      " |-- total: string (nullable = true)\n",
      "\n"
     ]
    }
   ],
   "source": [
    "rts_sdf.printSchema()"
   ]
  },
  {
   "cell_type": "code",
   "execution_count": 36,
   "metadata": {},
   "outputs": [],
   "source": [
    "rts_sdf = rts_sdf.select(['month', 'total'])"
   ]
  },
  {
   "cell_type": "code",
   "execution_count": 37,
   "metadata": {},
   "outputs": [],
   "source": [
    "sdf = sdf.join(rts_sdf, (F.months_between(sdf.order_datetime, rts_sdf.month) < 1) & (F.months_between(sdf.order_datetime, rts_sdf.month) >= 0), 'left')"
   ]
  },
  {
   "cell_type": "code",
   "execution_count": 38,
   "metadata": {},
   "outputs": [
    {
     "name": "stderr",
     "output_type": "stream",
     "text": [
      "[Stage 227:==================================================>      (8 + 1) / 9]\r"
     ]
    },
    {
     "name": "stdout",
     "output_type": "stream",
     "text": [
      "There are 14213202 data, and 11831330 have no null value.\n"
     ]
    },
    {
     "name": "stderr",
     "output_type": "stream",
     "text": [
      "                                                                                \r"
     ]
    }
   ],
   "source": [
    "temp = sdf.dropna(how='any', subset=['month']).count()\n",
    "print( f'There are {sdf.count()} data, and {temp} have no null value.')"
   ]
  },
  {
   "cell_type": "code",
   "execution_count": 39,
   "metadata": {},
   "outputs": [],
   "source": [
    "# sdf.show(5)"
   ]
  },
  {
   "cell_type": "code",
   "execution_count": 40,
   "metadata": {},
   "outputs": [],
   "source": [
    "sdf = sdf.drop('2020_popu')"
   ]
  },
  {
   "cell_type": "code",
   "execution_count": 41,
   "metadata": {},
   "outputs": [
    {
     "name": "stdout",
     "output_type": "stream",
     "text": [
      "22/10/10 01:54:02 WARN package: Truncated the string representation of a plan since it was too large. This behavior can be adjusted by setting 'spark.sql.debug.maxToStringFields'.\n"
     ]
    },
    {
     "name": "stderr",
     "output_type": "stream",
     "text": [
      "                                                                                \r"
     ]
    },
    {
     "data": {
      "text/html": [
       "<table border='1'>\n",
       "<tr><th>user_id</th><th>merchant_abn</th><th>dollar_value</th><th>order_id</th><th>order_datetime</th><th>merchant_name</th><th>tags</th><th>take_rate</th><th>type</th><th>postcode</th><th>consumer_id</th><th>name</th><th>address</th><th>state</th><th>gender</th><th>POA_CODE21</th><th>2021_popu</th><th>latitude</th><th>longitude</th><th>New cases / day</th><th>month</th><th>total</th></tr>\n",
       "</table>\n"
      ],
      "text/plain": [
       "+-------+------------+------------+--------+--------------+-------------+----+---------+----+--------+-----------+----+-------+-----+------+----------+---------+--------+---------+---------------+-----+-----+\n",
       "|user_id|merchant_abn|dollar_value|order_id|order_datetime|merchant_name|tags|take_rate|type|postcode|consumer_id|name|address|state|gender|POA_CODE21|2021_popu|latitude|longitude|New cases / day|month|total|\n",
       "+-------+------------+------------+--------+--------------+-------------+----+---------+----+--------+-----------+----+-------+-----+------+----------+---------+--------+---------+---------------+-----+-----+\n",
       "+-------+------------+------------+--------+--------------+-------------+----+---------+----+--------+-----------+----+-------+-----+------+----------+---------+--------+---------+---------------+-----+-----+"
      ]
     },
     "execution_count": 41,
     "metadata": {},
     "output_type": "execute_result"
    }
   ],
   "source": [
    "sdf[sdf.POA_CODE21.isNull()].drop_duplicates(['postcode'])"
   ]
  },
  {
   "cell_type": "code",
   "execution_count": 42,
   "metadata": {},
   "outputs": [],
   "source": [
    "# sdf.show(5)"
   ]
  },
  {
   "cell_type": "code",
   "execution_count": 43,
   "metadata": {},
   "outputs": [],
   "source": [
    "# from pyspark.sql.functions import datediff, months_between\n",
    "\n",
    "# # 1.日期差\n",
    "# df = spark.createDataFrame([('2015-04-08','2015-05-10')], ['d1', 'd2'])\n",
    "# df.select(datediff(df.d1, df.d2).alias('diff')).show()\n",
    "\n",
    "# # 2. 月份差\n",
    "# df = spark.createDataFrame([('1999-02-28 10:30:00', '1996-10-30')], ['t', 'd'])\n",
    "# df.select(months_between(df.t, df.d).alias('months')).show()"
   ]
  },
  {
   "cell_type": "code",
   "execution_count": 45,
   "metadata": {},
   "outputs": [
    {
     "name": "stderr",
     "output_type": "stream",
     "text": [
      "                                                                                \r"
     ]
    }
   ],
   "source": [
    "path = '../data/curated/data'\n",
    "sdf.write.partitionBy('order_datetime').parquet(path, mode='overwrite')"
   ]
  },
  {
   "cell_type": "code",
   "execution_count": null,
   "metadata": {},
   "outputs": [
    {
     "name": "stderr",
     "output_type": "stream",
     "text": [
      "                                                                                \r"
     ]
    },
    {
     "data": {
      "text/html": [
       "<table border='1'>\n",
       "<tr><th>user_id</th><th>merchant_abn</th><th>dollar_value</th><th>order_id</th><th>order_datetime</th><th>merchant_name</th><th>tags</th><th>take_rate</th><th>type</th><th>postcode</th><th>consumer_id</th><th>name</th><th>address</th><th>state</th><th>gender</th><th>POA_CODE21</th><th>2021_popu</th><th>latitude</th><th>longitude</th><th>New cases / day</th><th>month</th><th>total</th></tr>\n",
       "<tr><td>7</td><td>33064796871</td><td>373.0873675184212</td><td>fe188788-b89f-4dd...</td><td>2021-08-20</td><td>Curabitur Massa C...</td><td>computer programm...</td><td>3.75</td><td>b</td><td>4606</td><td>511685</td><td>Andrea Jones</td><td>122 Brandon Cliff</td><td>QLD</td><td>Female</td><td>4606</td><td>557.0307901493427</td><td>151.80006629311015</td><td>-26.268858171309105</td><td>706</td><td>2021-08-01</td><td>29261.9</td></tr>\n",
       "<tr><td>7</td><td>68435002949</td><td>232.5364986739752</td><td>b4a89891-a113-45e...</td><td>2021-08-20</td><td>Aliquam Eu Inc.</td><td>artist supply and...</td><td>6.65</td><td>a</td><td>4606</td><td>511685</td><td>Andrea Jones</td><td>122 Brandon Cliff</td><td>QLD</td><td>Female</td><td>4606</td><td>557.0307901493427</td><td>151.80006629311015</td><td>-26.268858171309105</td><td>706</td><td>2021-08-01</td><td>29261.9</td></tr>\n",
       "<tr><td>7</td><td>41944909975</td><td>30.910755230234322</td><td>302ae628-8eba-4a5...</td><td>2021-08-20</td><td>Et Nunc Consulting</td><td>books, periodical...</td><td>0.16</td><td>e</td><td>4606</td><td>511685</td><td>Andrea Jones</td><td>122 Brandon Cliff</td><td>QLD</td><td>Female</td><td>4606</td><td>557.0307901493427</td><td>151.80006629311015</td><td>-26.268858171309105</td><td>706</td><td>2021-08-01</td><td>29261.9</td></tr>\n",
       "<tr><td>7</td><td>89726005175</td><td>42.507331805214285</td><td>a8e087f3-c713-45c...</td><td>2021-05-24</td><td>Est Nunc Consulting</td><td>tent and awning s...</td><td>6.01</td><td>a</td><td>4606</td><td>511685</td><td>Andrea Jones</td><td>122 Brandon Cliff</td><td>QLD</td><td>Female</td><td>4606</td><td>557.0307901493427</td><td>151.80006629311015</td><td>-26.268858171309105</td><td>10</td><td>2021-05-01</td><td>31007.7</td></tr>\n",
       "<tr><td>7</td><td>96442520325</td><td>29.863817960377617</td><td>48dd50dd-291d-43d...</td><td>2021-04-07</td><td>Nullam Lobortis Q...</td><td>computers, comput...</td><td>3.65</td><td>b</td><td>4606</td><td>511685</td><td>Andrea Jones</td><td>122 Brandon Cliff</td><td>QLD</td><td>Female</td><td>4606</td><td>557.0307901493427</td><td>151.80006629311015</td><td>-26.268858171309105</td><td>14</td><td>2021-04-01</td><td>30960</td></tr>\n",
       "<tr><td>7</td><td>29566626791</td><td>80.43460573195489</td><td>13d12435-4f1d-4b6...</td><td>2021-04-07</td><td>null</td><td>null</td><td>null</td><td>null</td><td>4606</td><td>511685</td><td>Andrea Jones</td><td>122 Brandon Cliff</td><td>QLD</td><td>Female</td><td>4606</td><td>557.0307901493427</td><td>151.80006629311015</td><td>-26.268858171309105</td><td>14</td><td>2021-04-01</td><td>30960</td></tr>\n",
       "<tr><td>7</td><td>15269431008</td><td>75.4571735676935</td><td>74adc91d-44a1-436...</td><td>2021-04-07</td><td>Nisi Limited</td><td>gift, card, novel...</td><td>6.48</td><td>a</td><td>4606</td><td>511685</td><td>Andrea Jones</td><td>122 Brandon Cliff</td><td>QLD</td><td>Female</td><td>4606</td><td>557.0307901493427</td><td>151.80006629311015</td><td>-26.268858171309105</td><td>14</td><td>2021-04-01</td><td>30960</td></tr>\n",
       "<tr><td>7</td><td>62224020443</td><td>212.60670786220882</td><td>3dfa8cb9-b785-40d...</td><td>2021-12-21</td><td>Hendrerit A Corpo...</td><td>watch, clock, and...</td><td>6.64</td><td>a</td><td>4606</td><td>511685</td><td>Andrea Jones</td><td>122 Brandon Cliff</td><td>QLD</td><td>Female</td><td>4606</td><td>557.0307901493427</td><td>151.80006629311015</td><td>-26.268858171309105</td><td>4,522</td><td>2021-12-01</td><td>31967.9</td></tr>\n",
       "<tr><td>7</td><td>99275601275</td><td>111.48028697136225</td><td>58af5b18-f28b-464...</td><td>2021-10-14</td><td>Proin Velit Sed F...</td><td>furniture, home f...</td><td>1.87</td><td>c</td><td>4606</td><td>511685</td><td>Andrea Jones</td><td>122 Brandon Cliff</td><td>QLD</td><td>Female</td><td>4606</td><td>557.0307901493427</td><td>151.80006629311015</td><td>-26.268858171309105</td><td>2,683</td><td>2021-10-01</td><td>31132.7</td></tr>\n",
       "<tr><td>7</td><td>26749181046</td><td>154.59228188209104</td><td>8673c0d9-1515-487...</td><td>2021-10-14</td><td>Neque Tellus Inco...</td><td>watch, clock, and...</td><td>3.34</td><td>b</td><td>4606</td><td>511685</td><td>Andrea Jones</td><td>122 Brandon Cliff</td><td>QLD</td><td>Female</td><td>4606</td><td>557.0307901493427</td><td>151.80006629311015</td><td>-26.268858171309105</td><td>2,683</td><td>2021-10-01</td><td>31132.7</td></tr>\n",
       "<tr><td>7</td><td>63685007785</td><td>63.33801058439837</td><td>a5962e5d-ab47-431...</td><td>2021-10-14</td><td>Augue Eu Tempor A...</td><td>cable, satellite,...</td><td>0.38</td><td>e</td><td>4606</td><td>511685</td><td>Andrea Jones</td><td>122 Brandon Cliff</td><td>QLD</td><td>Female</td><td>4606</td><td>557.0307901493427</td><td>151.80006629311015</td><td>-26.268858171309105</td><td>2,683</td><td>2021-10-01</td><td>31132.7</td></tr>\n",
       "<tr><td>7</td><td>88435572170</td><td>43.22350867054218</td><td>abaae4de-a0ff-4b1...</td><td>2021-09-10</td><td>Et LLP</td><td>gift, card, novel...</td><td>2.84</td><td>c</td><td>4606</td><td>511685</td><td>Andrea Jones</td><td>122 Brandon Cliff</td><td>QLD</td><td>Female</td><td>4606</td><td>557.0307901493427</td><td>151.80006629311015</td><td>-26.268858171309105</td><td>1,866</td><td>2021-09-01</td><td>29756.7</td></tr>\n",
       "<tr><td>7</td><td>52065114842</td><td>96.79882878080512</td><td>04a5a999-4756-4b3...</td><td>2021-09-09</td><td>Gravida Non PC</td><td>digital goods: bo...</td><td>3.98</td><td>b</td><td>4606</td><td>511685</td><td>Andrea Jones</td><td>122 Brandon Cliff</td><td>QLD</td><td>Female</td><td>4606</td><td>557.0307901493427</td><td>151.80006629311015</td><td>-26.268858171309105</td><td>1,727</td><td>2021-09-01</td><td>29756.7</td></tr>\n",
       "<tr><td>7</td><td>82065156333</td><td>27.987127270166056</td><td>f3149d19-98df-4fc...</td><td>2021-09-09</td><td>Nascetur Ridiculu...</td><td>tent and awning s...</td><td>5.88</td><td>a</td><td>4606</td><td>511685</td><td>Andrea Jones</td><td>122 Brandon Cliff</td><td>QLD</td><td>Female</td><td>4606</td><td>557.0307901493427</td><td>151.80006629311015</td><td>-26.268858171309105</td><td>1,727</td><td>2021-09-01</td><td>29756.7</td></tr>\n",
       "<tr><td>7</td><td>43698901053</td><td>504.8594541188235</td><td>f58962c7-4d0d-4bd...</td><td>2022-02-07</td><td>Pede Praesent Ltd</td><td>tent and awning s...</td><td>5.98</td><td>a</td><td>4606</td><td>511685</td><td>Andrea Jones</td><td>122 Brandon Cliff</td><td>QLD</td><td>Female</td><td>4606</td><td>557.0307901493427</td><td>151.80006629311015</td><td>-26.268858171309105</td><td>20,276</td><td>2022-02-01</td><td>33085.4</td></tr>\n",
       "<tr><td>7</td><td>76314317957</td><td>11.774892752790667</td><td>0b6a695c-503d-432...</td><td>2022-01-14</td><td>Semper Corp.</td><td>florists supplies...</td><td>5.93</td><td>a</td><td>4606</td><td>511685</td><td>Andrea Jones</td><td>122 Brandon Cliff</td><td>QLD</td><td>Female</td><td>4606</td><td>557.0307901493427</td><td>151.80006629311015</td><td>-26.268858171309105</td><td>66,635</td><td>2022-01-01</td><td>32492</td></tr>\n",
       "<tr><td>7</td><td>92681936901</td><td>217.2372943457977</td><td>fdaaa57d-b2ef-438...</td><td>2022-08-20</td><td>Eget Volutpat Orn...</td><td>motor vehicle sup...</td><td>2.08</td><td>c</td><td>4606</td><td>511685</td><td>Andrea Jones</td><td>122 Brandon Cliff</td><td>QLD</td><td>Female</td><td>4606</td><td>557.0307901493427</td><td>151.80006629311015</td><td>-26.268858171309105</td><td>15,301</td><td>null</td><td>null</td></tr>\n",
       "<tr><td>7</td><td>23255291705</td><td>94.2599505983067</td><td>3ae1b4c2-d28b-438...</td><td>2022-10-12</td><td>Interdum Nunc Sol...</td><td>cable, satellite,...</td><td>6.6</td><td>a</td><td>4606</td><td>511685</td><td>Andrea Jones</td><td>122 Brandon Cliff</td><td>QLD</td><td>Female</td><td>4606</td><td>557.0307901493427</td><td>151.80006629311015</td><td>-26.268858171309105</td><td>null</td><td>null</td><td>null</td></tr>\n",
       "<tr><td>7</td><td>17431888602</td><td>599.3726132111268</td><td>af363b2e-bc1c-449...</td><td>2022-04-10</td><td>Metus Inc.</td><td>shoe shops</td><td>4.27</td><td>b</td><td>4606</td><td>511685</td><td>Andrea Jones</td><td>122 Brandon Cliff</td><td>QLD</td><td>Female</td><td>4606</td><td>557.0307901493427</td><td>151.80006629311015</td><td>-26.268858171309105</td><td>46,501</td><td>2022-04-01</td><td>33923.1</td></tr>\n",
       "<tr><td>7</td><td>46804135891</td><td>6.298521232964794</td><td>4ef4ad18-aa48-44d...</td><td>2022-04-12</td><td>Suspendisse Dui C...</td><td>opticians, optica...</td><td>2.93</td><td>c</td><td>4606</td><td>511685</td><td>Andrea Jones</td><td>122 Brandon Cliff</td><td>QLD</td><td>Female</td><td>4606</td><td>557.0307901493427</td><td>151.80006629311015</td><td>-26.268858171309105</td><td>45,679</td><td>2022-04-01</td><td>33923.1</td></tr>\n",
       "</table>\n",
       "only showing top 20 rows\n"
      ],
      "text/plain": [
       "+-------+------------+------------------+--------------------+--------------+--------------------+--------------------+---------+----+--------+-----------+------------+-----------------+-----+------+----------+-----------------+------------------+-------------------+---------------+----------+-------+\n",
       "|user_id|merchant_abn|      dollar_value|            order_id|order_datetime|       merchant_name|                tags|take_rate|type|postcode|consumer_id|        name|          address|state|gender|POA_CODE21|        2021_popu|          latitude|          longitude|New cases / day|     month|  total|\n",
       "+-------+------------+------------------+--------------------+--------------+--------------------+--------------------+---------+----+--------+-----------+------------+-----------------+-----+------+----------+-----------------+------------------+-------------------+---------------+----------+-------+\n",
       "|      7| 33064796871| 373.0873675184212|fe188788-b89f-4dd...|    2021-08-20|Curabitur Massa C...|computer programm...|     3.75|   b|    4606|     511685|Andrea Jones|122 Brandon Cliff|  QLD|Female|      4606|557.0307901493427|151.80006629311015|-26.268858171309105|            706|2021-08-01|29261.9|\n",
       "|      7| 68435002949| 232.5364986739752|b4a89891-a113-45e...|    2021-08-20|     Aliquam Eu Inc.|artist supply and...|     6.65|   a|    4606|     511685|Andrea Jones|122 Brandon Cliff|  QLD|Female|      4606|557.0307901493427|151.80006629311015|-26.268858171309105|            706|2021-08-01|29261.9|\n",
       "|      7| 41944909975|30.910755230234322|302ae628-8eba-4a5...|    2021-08-20|  Et Nunc Consulting|books, periodical...|     0.16|   e|    4606|     511685|Andrea Jones|122 Brandon Cliff|  QLD|Female|      4606|557.0307901493427|151.80006629311015|-26.268858171309105|            706|2021-08-01|29261.9|\n",
       "|      7| 89726005175|42.507331805214285|a8e087f3-c713-45c...|    2021-05-24| Est Nunc Consulting|tent and awning s...|     6.01|   a|    4606|     511685|Andrea Jones|122 Brandon Cliff|  QLD|Female|      4606|557.0307901493427|151.80006629311015|-26.268858171309105|             10|2021-05-01|31007.7|\n",
       "|      7| 96442520325|29.863817960377617|48dd50dd-291d-43d...|    2021-04-07|Nullam Lobortis Q...|computers, comput...|     3.65|   b|    4606|     511685|Andrea Jones|122 Brandon Cliff|  QLD|Female|      4606|557.0307901493427|151.80006629311015|-26.268858171309105|             14|2021-04-01|  30960|\n",
       "|      7| 29566626791| 80.43460573195489|13d12435-4f1d-4b6...|    2021-04-07|                null|                null|     null|null|    4606|     511685|Andrea Jones|122 Brandon Cliff|  QLD|Female|      4606|557.0307901493427|151.80006629311015|-26.268858171309105|             14|2021-04-01|  30960|\n",
       "|      7| 15269431008|  75.4571735676935|74adc91d-44a1-436...|    2021-04-07|        Nisi Limited|gift, card, novel...|     6.48|   a|    4606|     511685|Andrea Jones|122 Brandon Cliff|  QLD|Female|      4606|557.0307901493427|151.80006629311015|-26.268858171309105|             14|2021-04-01|  30960|\n",
       "|      7| 62224020443|212.60670786220882|3dfa8cb9-b785-40d...|    2021-12-21|Hendrerit A Corpo...|watch, clock, and...|     6.64|   a|    4606|     511685|Andrea Jones|122 Brandon Cliff|  QLD|Female|      4606|557.0307901493427|151.80006629311015|-26.268858171309105|          4,522|2021-12-01|31967.9|\n",
       "|      7| 99275601275|111.48028697136225|58af5b18-f28b-464...|    2021-10-14|Proin Velit Sed F...|furniture, home f...|     1.87|   c|    4606|     511685|Andrea Jones|122 Brandon Cliff|  QLD|Female|      4606|557.0307901493427|151.80006629311015|-26.268858171309105|          2,683|2021-10-01|31132.7|\n",
       "|      7| 26749181046|154.59228188209104|8673c0d9-1515-487...|    2021-10-14|Neque Tellus Inco...|watch, clock, and...|     3.34|   b|    4606|     511685|Andrea Jones|122 Brandon Cliff|  QLD|Female|      4606|557.0307901493427|151.80006629311015|-26.268858171309105|          2,683|2021-10-01|31132.7|\n",
       "|      7| 63685007785| 63.33801058439837|a5962e5d-ab47-431...|    2021-10-14|Augue Eu Tempor A...|cable, satellite,...|     0.38|   e|    4606|     511685|Andrea Jones|122 Brandon Cliff|  QLD|Female|      4606|557.0307901493427|151.80006629311015|-26.268858171309105|          2,683|2021-10-01|31132.7|\n",
       "|      7| 88435572170| 43.22350867054218|abaae4de-a0ff-4b1...|    2021-09-10|              Et LLP|gift, card, novel...|     2.84|   c|    4606|     511685|Andrea Jones|122 Brandon Cliff|  QLD|Female|      4606|557.0307901493427|151.80006629311015|-26.268858171309105|          1,866|2021-09-01|29756.7|\n",
       "|      7| 52065114842| 96.79882878080512|04a5a999-4756-4b3...|    2021-09-09|      Gravida Non PC|digital goods: bo...|     3.98|   b|    4606|     511685|Andrea Jones|122 Brandon Cliff|  QLD|Female|      4606|557.0307901493427|151.80006629311015|-26.268858171309105|          1,727|2021-09-01|29756.7|\n",
       "|      7| 82065156333|27.987127270166056|f3149d19-98df-4fc...|    2021-09-09|Nascetur Ridiculu...|tent and awning s...|     5.88|   a|    4606|     511685|Andrea Jones|122 Brandon Cliff|  QLD|Female|      4606|557.0307901493427|151.80006629311015|-26.268858171309105|          1,727|2021-09-01|29756.7|\n",
       "|      7| 43698901053| 504.8594541188235|f58962c7-4d0d-4bd...|    2022-02-07|   Pede Praesent Ltd|tent and awning s...|     5.98|   a|    4606|     511685|Andrea Jones|122 Brandon Cliff|  QLD|Female|      4606|557.0307901493427|151.80006629311015|-26.268858171309105|         20,276|2022-02-01|33085.4|\n",
       "|      7| 76314317957|11.774892752790667|0b6a695c-503d-432...|    2022-01-14|        Semper Corp.|florists supplies...|     5.93|   a|    4606|     511685|Andrea Jones|122 Brandon Cliff|  QLD|Female|      4606|557.0307901493427|151.80006629311015|-26.268858171309105|         66,635|2022-01-01|  32492|\n",
       "|      7| 92681936901| 217.2372943457977|fdaaa57d-b2ef-438...|    2022-08-20|Eget Volutpat Orn...|motor vehicle sup...|     2.08|   c|    4606|     511685|Andrea Jones|122 Brandon Cliff|  QLD|Female|      4606|557.0307901493427|151.80006629311015|-26.268858171309105|         15,301|      null|   null|\n",
       "|      7| 23255291705|  94.2599505983067|3ae1b4c2-d28b-438...|    2022-10-12|Interdum Nunc Sol...|cable, satellite,...|      6.6|   a|    4606|     511685|Andrea Jones|122 Brandon Cliff|  QLD|Female|      4606|557.0307901493427|151.80006629311015|-26.268858171309105|           null|      null|   null|\n",
       "|      7| 17431888602| 599.3726132111268|af363b2e-bc1c-449...|    2022-04-10|          Metus Inc.|          shoe shops|     4.27|   b|    4606|     511685|Andrea Jones|122 Brandon Cliff|  QLD|Female|      4606|557.0307901493427|151.80006629311015|-26.268858171309105|         46,501|2022-04-01|33923.1|\n",
       "|      7| 46804135891| 6.298521232964794|4ef4ad18-aa48-44d...|    2022-04-12|Suspendisse Dui C...|opticians, optica...|     2.93|   c|    4606|     511685|Andrea Jones|122 Brandon Cliff|  QLD|Female|      4606|557.0307901493427|151.80006629311015|-26.268858171309105|         45,679|2022-04-01|33923.1|\n",
       "+-------+------------+------------------+--------------------+--------------+--------------------+--------------------+---------+----+--------+-----------+------------+-----------------+-----+------+----------+-----------------+------------------+-------------------+---------------+----------+-------+\n",
       "only showing top 20 rows"
      ]
     },
     "execution_count": 59,
     "metadata": {},
     "output_type": "execute_result"
    }
   ],
   "source": [
    "# sdf"
   ]
  },
  {
   "cell_type": "code",
   "execution_count": null,
   "metadata": {},
   "outputs": [
    {
     "name": "stderr",
     "output_type": "stream",
     "text": [
      "                                                                                \r"
     ]
    },
    {
     "data": {
      "text/html": [
       "<table border='1'>\n",
       "<tr><th>user_id</th><th>merchant_abn</th><th>dollar_value</th><th>order_id</th><th>order_datetime</th><th>merchant_name</th><th>tags</th><th>take_rate</th><th>type</th><th>postcode</th><th>consumer_id</th><th>name</th><th>address</th><th>state</th><th>gender</th><th>POA_CODE21</th><th>2021_popu</th><th>latitude</th><th>longitude</th><th>New cases / day</th><th>month</th><th>total</th></tr>\n",
       "<tr><td>0</td><td>0</td><td>0</td><td>0</td><td>0</td><td>581559</td><td>581559</td><td>581559</td><td>581559</td><td>0</td><td>0</td><td>0</td><td>0</td><td>0</td><td>0</td><td>0</td><td>0</td><td>0</td><td>0</td><td>754620</td><td>2381872</td><td>2381872</td></tr>\n",
       "</table>\n"
      ],
      "text/plain": [
       "+-------+------------+------------+--------+--------------+-------------+------+---------+------+--------+-----------+----+-------+-----+------+----------+---------+--------+---------+---------------+-------+-------+\n",
       "|user_id|merchant_abn|dollar_value|order_id|order_datetime|merchant_name|  tags|take_rate|  type|postcode|consumer_id|name|address|state|gender|POA_CODE21|2021_popu|latitude|longitude|New cases / day|  month|  total|\n",
       "+-------+------------+------------+--------+--------------+-------------+------+---------+------+--------+-----------+----+-------+-----+------+----------+---------+--------+---------+---------------+-------+-------+\n",
       "|      0|           0|           0|       0|             0|       581559|581559|   581559|581559|       0|          0|   0|      0|    0|     0|         0|        0|       0|        0|         754620|2381872|2381872|\n",
       "+-------+------------+------------+--------+--------------+-------------+------+---------+------+--------+-----------+----+-------+-----+------+----------+---------+--------+---------+---------------+-------+-------+"
      ]
     },
     "execution_count": 60,
     "metadata": {},
     "output_type": "execute_result"
    }
   ],
   "source": [
    "sdf_agg = sdf.agg(*[F.count(F.when(F.isnull(c), c)).alias(c) for c in sdf.columns])\n",
    "sdf_agg"
   ]
  },
  {
   "cell_type": "code",
   "execution_count": null,
   "metadata": {},
   "outputs": [
    {
     "name": "stderr",
     "output_type": "stream",
     "text": [
      "                                                                                \r"
     ]
    },
    {
     "data": {
      "text/html": [
       "<table border='1'>\n",
       "<tr><th>user_id</th><th>merchant_abn</th><th>dollar_value</th><th>order_id</th><th>order_datetime</th><th>merchant_name</th><th>tags</th><th>take_rate</th><th>type</th><th>postcode</th><th>consumer_id</th><th>name</th><th>address</th><th>state</th><th>gender</th><th>POA_CODE21</th><th>2021_popu</th><th>latitude</th><th>longitude</th><th>New cases / day</th><th>month</th><th>total</th></tr>\n",
       "<tr><td>26</td><td>89726005175</td><td>28.60583008450375</td><td>86c7eaee-3318-4d8...</td><td>2022-08-01</td><td>Est Nunc Consulting</td><td>tent and awning s...</td><td>6.01</td><td>a</td><td>3469</td><td>1421465</td><td>Kristi Adkins</td><td>051 Snyder Hollow...</td><td>VIC</td><td>Female</td><td>3469</td><td>495.0634561440711</td><td>143.26387846511204</td><td>-37.17472419953752</td><td>34,112</td><td>null</td><td>null</td></tr>\n",
       "<tr><td>19</td><td>34459028045</td><td>629.6095943808523</td><td>682a5310-8ab2-42f...</td><td>2022-08-02</td><td>Tellus Eu Inc.</td><td>stationery, offic...</td><td>6.05</td><td>a</td><td>7276</td><td>1226530</td><td>Victoria Gonzalez</td><td>68657 Johnson Gle...</td><td>TAS</td><td>Female</td><td>7276</td><td>108.99254564781535</td><td>146.9635580479313</td><td>-41.28259951036976</td><td>35,505</td><td>null</td><td>null</td></tr>\n",
       "<tr><td>26</td><td>38523562929</td><td>109.86688348566284</td><td>a1ab64e6-4c6b-40f...</td><td>2022-08-03</td><td>Sed Dictum Corp.</td><td>cable, satellite,...</td><td>6.56</td><td>a</td><td>3469</td><td>1421465</td><td>Kristi Adkins</td><td>051 Snyder Hollow...</td><td>VIC</td><td>Female</td><td>3469</td><td>495.0634561440711</td><td>143.26387846511204</td><td>-37.17472419953752</td><td>41,014</td><td>null</td><td>null</td></tr>\n",
       "<tr><td>19</td><td>94493496784</td><td>66.43822913988639</td><td>e5f8afbb-7fda-4a7...</td><td>2022-08-04</td><td>Dictum Phasellus ...</td><td>gift, card, novel...</td><td>5.65</td><td>a</td><td>7276</td><td>1226530</td><td>Victoria Gonzalez</td><td>68657 Johnson Gle...</td><td>TAS</td><td>Female</td><td>7276</td><td>108.99254564781535</td><td>146.9635580479313</td><td>-41.28259951036976</td><td>37,206</td><td>null</td><td>null</td></tr>\n",
       "<tr><td>19</td><td>80779820715</td><td>18.315831932281192</td><td>152041f3-5d0a-456...</td><td>2022-08-05</td><td>Euismod Enim LLC</td><td>watch, clock, and...</td><td>4.71</td><td>b</td><td>7276</td><td>1226530</td><td>Victoria Gonzalez</td><td>68657 Johnson Gle...</td><td>TAS</td><td>Female</td><td>7276</td><td>108.99254564781535</td><td>146.9635580479313</td><td>-41.28259951036976</td><td>32,607</td><td>null</td><td>null</td></tr>\n",
       "<tr><td>19</td><td>31397959824</td><td>204.7083359839957</td><td>66227d13-a66b-4d1...</td><td>2022-08-06</td><td>Blandit Congue In...</td><td>books, periodical...</td><td>6.89</td><td>a</td><td>7276</td><td>1226530</td><td>Victoria Gonzalez</td><td>68657 Johnson Gle...</td><td>TAS</td><td>Female</td><td>7276</td><td>108.99254564781535</td><td>146.9635580479313</td><td>-41.28259951036976</td><td>28,699</td><td>null</td><td>null</td></tr>\n",
       "<tr><td>26</td><td>85139489422</td><td>30.03349461165711</td><td>d202d0ab-994f-407...</td><td>2022-08-07</td><td>Ut Institute</td><td>cable, satellite,...</td><td>4.25</td><td>b</td><td>3469</td><td>1421465</td><td>Kristi Adkins</td><td>051 Snyder Hollow...</td><td>VIC</td><td>Female</td><td>3469</td><td>495.0634561440711</td><td>143.26387846511204</td><td>-37.17472419953752</td><td>22,847</td><td>null</td><td>null</td></tr>\n",
       "<tr><td>155</td><td>29639699851</td><td>561.4443737909377</td><td>f1398b22-b0d2-4d6...</td><td>2022-08-08</td><td>Sodales Elit Erat...</td><td>lawn and garden s...</td><td>6.21</td><td>a</td><td>4895</td><td>539251</td><td>Joseph Johnston</td><td>58700 Suzanne Rapid</td><td>QLD</td><td>Male</td><td>4895</td><td>2702.5590815949613</td><td>144.92385742559097</td><td>-15.139850882523248</td><td>17,564</td><td>null</td><td>null</td></tr>\n",
       "<tr><td>19</td><td>70038202360</td><td>41.844723075865055</td><td>b19c635d-29f8-4f7...</td><td>2022-08-09</td><td>Varius Orci Insti...</td><td>tent and awning s...</td><td>6.3</td><td>a</td><td>7276</td><td>1226530</td><td>Victoria Gonzalez</td><td>68657 Johnson Gle...</td><td>TAS</td><td>Female</td><td>7276</td><td>108.99254564781535</td><td>146.9635580479313</td><td>-41.28259951036976</td><td>26,537</td><td>null</td><td>null</td></tr>\n",
       "<tr><td>19</td><td>76275088055</td><td>21.068973724951874</td><td>3cb22c6f-2a3a-47c...</td><td>2022-08-10</td><td>Vitae Risus Indus...</td><td>opticians, optica...</td><td>4.74</td><td>b</td><td>7276</td><td>1226530</td><td>Victoria Gonzalez</td><td>68657 Johnson Gle...</td><td>TAS</td><td>Female</td><td>7276</td><td>108.99254564781535</td><td>146.9635580479313</td><td>-41.28259951036976</td><td>27,284</td><td>null</td><td>null</td></tr>\n",
       "<tr><td>19</td><td>96152467973</td><td>9.247349892273517</td><td>5960c854-e4ff-4d1...</td><td>2022-08-11</td><td>Rhoncus Donec Ass...</td><td>tent and awning s...</td><td>4.45</td><td>b</td><td>7276</td><td>1226530</td><td>Victoria Gonzalez</td><td>68657 Johnson Gle...</td><td>TAS</td><td>Female</td><td>7276</td><td>108.99254564781535</td><td>146.9635580479313</td><td>-41.28259951036976</td><td>25,281</td><td>null</td><td>null</td></tr>\n",
       "<tr><td>26</td><td>64203420245</td><td>40.29723285260889</td><td>84e9ef3e-70cc-41c...</td><td>2022-08-12</td><td>Pede Nonummy Corp.</td><td>tent and awning s...</td><td>2.86</td><td>c</td><td>3469</td><td>1421465</td><td>Kristi Adkins</td><td>051 Snyder Hollow...</td><td>VIC</td><td>Female</td><td>3469</td><td>495.0634561440711</td><td>143.26387846511204</td><td>-37.17472419953752</td><td>22,958</td><td>null</td><td>null</td></tr>\n",
       "<tr><td>19</td><td>31630375469</td><td>481.3664944601607</td><td>eafbd447-5c37-4cb...</td><td>2022-08-13</td><td>Ante Bibendum Cor...</td><td>motor vehicle sup...</td><td>1.08</td><td>d</td><td>7276</td><td>1226530</td><td>Victoria Gonzalez</td><td>68657 Johnson Gle...</td><td>TAS</td><td>Female</td><td>7276</td><td>108.99254564781535</td><td>146.9635580479313</td><td>-41.28259951036976</td><td>20,150</td><td>null</td><td>null</td></tr>\n",
       "<tr><td>26</td><td>17950989709</td><td>374.62775128086827</td><td>b28b68f0-f86c-4ae...</td><td>2022-08-14</td><td>A Dui Institute</td><td>health and beauty...</td><td>5.74</td><td>a</td><td>3469</td><td>1421465</td><td>Kristi Adkins</td><td>051 Snyder Hollow...</td><td>VIC</td><td>Female</td><td>3469</td><td>495.0634561440711</td><td>143.26387846511204</td><td>-37.17472419953752</td><td>15,728</td><td>null</td><td>null</td></tr>\n",
       "<tr><td>26</td><td>76482197253</td><td>23.409561312852034</td><td>120ff602-bb76-498...</td><td>2022-08-15</td><td>Enim Nisl Element...</td><td>cable, satellite,...</td><td>1.49</td><td>c</td><td>3469</td><td>1421465</td><td>Kristi Adkins</td><td>051 Snyder Hollow...</td><td>VIC</td><td>Female</td><td>3469</td><td>495.0634561440711</td><td>143.26387846511204</td><td>-37.17472419953752</td><td>14,489</td><td>null</td><td>null</td></tr>\n",
       "<tr><td>26</td><td>35016722348</td><td>21.71360486782977</td><td>797efe09-c600-4e2...</td><td>2022-08-16</td><td>Lacus PC</td><td>tent and awning s...</td><td>6.09</td><td>a</td><td>3469</td><td>1421465</td><td>Kristi Adkins</td><td>051 Snyder Hollow...</td><td>VIC</td><td>Female</td><td>3469</td><td>495.0634561440711</td><td>143.26387846511204</td><td>-37.17472419953752</td><td>19,776</td><td>null</td><td>null</td></tr>\n",
       "<tr><td>19</td><td>66000151638</td><td>813.6052346452574</td><td>a9b00d2b-86f5-48a...</td><td>2022-08-17</td><td>null</td><td>null</td><td>null</td><td>null</td><td>7276</td><td>1226530</td><td>Victoria Gonzalez</td><td>68657 Johnson Gle...</td><td>TAS</td><td>Female</td><td>7276</td><td>108.99254564781535</td><td>146.9635580479313</td><td>-41.28259951036976</td><td>20,708</td><td>null</td><td>null</td></tr>\n",
       "<tr><td>19</td><td>46804135891</td><td>0.9382056229273833</td><td>64f5e281-1337-458...</td><td>2022-08-18</td><td>Suspendisse Dui C...</td><td>opticians, optica...</td><td>2.93</td><td>c</td><td>7276</td><td>1226530</td><td>Victoria Gonzalez</td><td>68657 Johnson Gle...</td><td>TAS</td><td>Female</td><td>7276</td><td>108.99254564781535</td><td>146.9635580479313</td><td>-41.28259951036976</td><td>19,703</td><td>null</td><td>null</td></tr>\n",
       "<tr><td>26</td><td>32825608803</td><td>411.19752490186727</td><td>62cc6c2a-769c-401...</td><td>2022-08-19</td><td>Dapibus Quam Quis...</td><td>lawn and garden s...</td><td>1.4</td><td>d</td><td>3469</td><td>1421465</td><td>Kristi Adkins</td><td>051 Snyder Hollow...</td><td>VIC</td><td>Female</td><td>3469</td><td>495.0634561440711</td><td>143.26387846511204</td><td>-37.17472419953752</td><td>16,958</td><td>null</td><td>null</td></tr>\n",
       "<tr><td>19</td><td>68216911708</td><td>22.23437313077882</td><td>fc47acab-a864-4a3...</td><td>2022-08-20</td><td>Placerat Eget Ven...</td><td>computers, comput...</td><td>3.05</td><td>c</td><td>7276</td><td>1226530</td><td>Victoria Gonzalez</td><td>68657 Johnson Gle...</td><td>TAS</td><td>Female</td><td>7276</td><td>108.99254564781535</td><td>146.9635580479313</td><td>-41.28259951036976</td><td>15,301</td><td>null</td><td>null</td></tr>\n",
       "</table>\n",
       "only showing top 20 rows\n"
      ],
      "text/plain": [
       "+-------+------------+------------------+--------------------+--------------+--------------------+--------------------+---------+----+--------+-----------+-----------------+--------------------+-----+------+----------+------------------+------------------+-------------------+---------------+-----+-----+\n",
       "|user_id|merchant_abn|      dollar_value|            order_id|order_datetime|       merchant_name|                tags|take_rate|type|postcode|consumer_id|             name|             address|state|gender|POA_CODE21|         2021_popu|          latitude|          longitude|New cases / day|month|total|\n",
       "+-------+------------+------------------+--------------------+--------------+--------------------+--------------------+---------+----+--------+-----------+-----------------+--------------------+-----+------+----------+------------------+------------------+-------------------+---------------+-----+-----+\n",
       "|     26| 89726005175| 28.60583008450375|86c7eaee-3318-4d8...|    2022-08-01| Est Nunc Consulting|tent and awning s...|     6.01|   a|    3469|    1421465|    Kristi Adkins|051 Snyder Hollow...|  VIC|Female|      3469| 495.0634561440711|143.26387846511204| -37.17472419953752|         34,112| null| null|\n",
       "|     19| 34459028045| 629.6095943808523|682a5310-8ab2-42f...|    2022-08-02|      Tellus Eu Inc.|stationery, offic...|     6.05|   a|    7276|    1226530|Victoria Gonzalez|68657 Johnson Gle...|  TAS|Female|      7276|108.99254564781535| 146.9635580479313| -41.28259951036976|         35,505| null| null|\n",
       "|     26| 38523562929|109.86688348566284|a1ab64e6-4c6b-40f...|    2022-08-03|    Sed Dictum Corp.|cable, satellite,...|     6.56|   a|    3469|    1421465|    Kristi Adkins|051 Snyder Hollow...|  VIC|Female|      3469| 495.0634561440711|143.26387846511204| -37.17472419953752|         41,014| null| null|\n",
       "|     19| 94493496784| 66.43822913988639|e5f8afbb-7fda-4a7...|    2022-08-04|Dictum Phasellus ...|gift, card, novel...|     5.65|   a|    7276|    1226530|Victoria Gonzalez|68657 Johnson Gle...|  TAS|Female|      7276|108.99254564781535| 146.9635580479313| -41.28259951036976|         37,206| null| null|\n",
       "|     19| 80779820715|18.315831932281192|152041f3-5d0a-456...|    2022-08-05|    Euismod Enim LLC|watch, clock, and...|     4.71|   b|    7276|    1226530|Victoria Gonzalez|68657 Johnson Gle...|  TAS|Female|      7276|108.99254564781535| 146.9635580479313| -41.28259951036976|         32,607| null| null|\n",
       "|     19| 31397959824| 204.7083359839957|66227d13-a66b-4d1...|    2022-08-06|Blandit Congue In...|books, periodical...|     6.89|   a|    7276|    1226530|Victoria Gonzalez|68657 Johnson Gle...|  TAS|Female|      7276|108.99254564781535| 146.9635580479313| -41.28259951036976|         28,699| null| null|\n",
       "|     26| 85139489422| 30.03349461165711|d202d0ab-994f-407...|    2022-08-07|        Ut Institute|cable, satellite,...|     4.25|   b|    3469|    1421465|    Kristi Adkins|051 Snyder Hollow...|  VIC|Female|      3469| 495.0634561440711|143.26387846511204| -37.17472419953752|         22,847| null| null|\n",
       "|    155| 29639699851| 561.4443737909377|f1398b22-b0d2-4d6...|    2022-08-08|Sodales Elit Erat...|lawn and garden s...|     6.21|   a|    4895|     539251|  Joseph Johnston| 58700 Suzanne Rapid|  QLD|  Male|      4895|2702.5590815949613|144.92385742559097|-15.139850882523248|         17,564| null| null|\n",
       "|     19| 70038202360|41.844723075865055|b19c635d-29f8-4f7...|    2022-08-09|Varius Orci Insti...|tent and awning s...|      6.3|   a|    7276|    1226530|Victoria Gonzalez|68657 Johnson Gle...|  TAS|Female|      7276|108.99254564781535| 146.9635580479313| -41.28259951036976|         26,537| null| null|\n",
       "|     19| 76275088055|21.068973724951874|3cb22c6f-2a3a-47c...|    2022-08-10|Vitae Risus Indus...|opticians, optica...|     4.74|   b|    7276|    1226530|Victoria Gonzalez|68657 Johnson Gle...|  TAS|Female|      7276|108.99254564781535| 146.9635580479313| -41.28259951036976|         27,284| null| null|\n",
       "|     19| 96152467973| 9.247349892273517|5960c854-e4ff-4d1...|    2022-08-11|Rhoncus Donec Ass...|tent and awning s...|     4.45|   b|    7276|    1226530|Victoria Gonzalez|68657 Johnson Gle...|  TAS|Female|      7276|108.99254564781535| 146.9635580479313| -41.28259951036976|         25,281| null| null|\n",
       "|     26| 64203420245| 40.29723285260889|84e9ef3e-70cc-41c...|    2022-08-12|  Pede Nonummy Corp.|tent and awning s...|     2.86|   c|    3469|    1421465|    Kristi Adkins|051 Snyder Hollow...|  VIC|Female|      3469| 495.0634561440711|143.26387846511204| -37.17472419953752|         22,958| null| null|\n",
       "|     19| 31630375469| 481.3664944601607|eafbd447-5c37-4cb...|    2022-08-13|Ante Bibendum Cor...|motor vehicle sup...|     1.08|   d|    7276|    1226530|Victoria Gonzalez|68657 Johnson Gle...|  TAS|Female|      7276|108.99254564781535| 146.9635580479313| -41.28259951036976|         20,150| null| null|\n",
       "|     26| 17950989709|374.62775128086827|b28b68f0-f86c-4ae...|    2022-08-14|     A Dui Institute|health and beauty...|     5.74|   a|    3469|    1421465|    Kristi Adkins|051 Snyder Hollow...|  VIC|Female|      3469| 495.0634561440711|143.26387846511204| -37.17472419953752|         15,728| null| null|\n",
       "|     26| 76482197253|23.409561312852034|120ff602-bb76-498...|    2022-08-15|Enim Nisl Element...|cable, satellite,...|     1.49|   c|    3469|    1421465|    Kristi Adkins|051 Snyder Hollow...|  VIC|Female|      3469| 495.0634561440711|143.26387846511204| -37.17472419953752|         14,489| null| null|\n",
       "|     26| 35016722348| 21.71360486782977|797efe09-c600-4e2...|    2022-08-16|            Lacus PC|tent and awning s...|     6.09|   a|    3469|    1421465|    Kristi Adkins|051 Snyder Hollow...|  VIC|Female|      3469| 495.0634561440711|143.26387846511204| -37.17472419953752|         19,776| null| null|\n",
       "|     19| 66000151638| 813.6052346452574|a9b00d2b-86f5-48a...|    2022-08-17|                null|                null|     null|null|    7276|    1226530|Victoria Gonzalez|68657 Johnson Gle...|  TAS|Female|      7276|108.99254564781535| 146.9635580479313| -41.28259951036976|         20,708| null| null|\n",
       "|     19| 46804135891|0.9382056229273833|64f5e281-1337-458...|    2022-08-18|Suspendisse Dui C...|opticians, optica...|     2.93|   c|    7276|    1226530|Victoria Gonzalez|68657 Johnson Gle...|  TAS|Female|      7276|108.99254564781535| 146.9635580479313| -41.28259951036976|         19,703| null| null|\n",
       "|     26| 32825608803|411.19752490186727|62cc6c2a-769c-401...|    2022-08-19|Dapibus Quam Quis...|lawn and garden s...|      1.4|   d|    3469|    1421465|    Kristi Adkins|051 Snyder Hollow...|  VIC|Female|      3469| 495.0634561440711|143.26387846511204| -37.17472419953752|         16,958| null| null|\n",
       "|     19| 68216911708| 22.23437313077882|fc47acab-a864-4a3...|    2022-08-20|Placerat Eget Ven...|computers, comput...|     3.05|   c|    7276|    1226530|Victoria Gonzalez|68657 Johnson Gle...|  TAS|Female|      7276|108.99254564781535| 146.9635580479313| -41.28259951036976|         15,301| null| null|\n",
       "+-------+------------+------------------+--------------------+--------------+--------------------+--------------------+---------+----+--------+-----------+-----------------+--------------------+-----+------+----------+------------------+------------------+-------------------+---------------+-----+-----+\n",
       "only showing top 20 rows"
      ]
     },
     "execution_count": 63,
     "metadata": {},
     "output_type": "execute_result"
    },
    {
     "name": "stdout",
     "output_type": "stream",
     "text": [
      "22/10/08 14:32:02 WARN TransportChannelHandler: Exception in connection from /100.70.11.210:60585\n",
      "java.io.IOException: Operation timed out\n",
      "\tat java.base/sun.nio.ch.FileDispatcherImpl.read0(Native Method)\n",
      "\tat java.base/sun.nio.ch.SocketDispatcher.read(SocketDispatcher.java:39)\n",
      "\tat java.base/sun.nio.ch.IOUtil.readIntoNativeBuffer(IOUtil.java:276)\n",
      "\tat java.base/sun.nio.ch.IOUtil.read(IOUtil.java:233)\n",
      "\tat java.base/sun.nio.ch.IOUtil.read(IOUtil.java:223)\n",
      "\tat java.base/sun.nio.ch.SocketChannelImpl.read(SocketChannelImpl.java:356)\n",
      "\tat io.netty.buffer.PooledByteBuf.setBytes(PooledByteBuf.java:258)\n",
      "\tat io.netty.buffer.AbstractByteBuf.writeBytes(AbstractByteBuf.java:1132)\n",
      "\tat io.netty.channel.socket.nio.NioSocketChannel.doReadBytes(NioSocketChannel.java:350)\n",
      "\tat io.netty.channel.nio.AbstractNioByteChannel$NioByteUnsafe.read(AbstractNioByteChannel.java:151)\n",
      "\tat io.netty.channel.nio.NioEventLoop.processSelectedKey(NioEventLoop.java:722)\n",
      "\tat io.netty.channel.nio.NioEventLoop.processSelectedKeysOptimized(NioEventLoop.java:658)\n",
      "\tat io.netty.channel.nio.NioEventLoop.processSelectedKeys(NioEventLoop.java:584)\n",
      "\tat io.netty.channel.nio.NioEventLoop.run(NioEventLoop.java:496)\n",
      "\tat io.netty.util.concurrent.SingleThreadEventExecutor$4.run(SingleThreadEventExecutor.java:986)\n",
      "\tat io.netty.util.internal.ThreadExecutorMap$2.run(ThreadExecutorMap.java:74)\n",
      "\tat io.netty.util.concurrent.FastThreadLocalRunnable.run(FastThreadLocalRunnable.java:30)\n",
      "\tat java.base/java.lang.Thread.run(Thread.java:829)\n"
     ]
    }
   ],
   "source": [
    "sdf[sdf.month.isNull()].drop_duplicates(['order_datetime'])"
   ]
  },
  {
   "cell_type": "code",
   "execution_count": null,
   "metadata": {},
   "outputs": [],
   "source": []
  }
 ],
 "metadata": {
  "kernelspec": {
   "display_name": "Python 3.7.9 64-bit",
   "language": "python",
   "name": "python3"
  },
  "language_info": {
   "codemirror_mode": {
    "name": "ipython",
    "version": 3
   },
   "file_extension": ".py",
   "mimetype": "text/x-python",
   "name": "python",
   "nbconvert_exporter": "python",
   "pygments_lexer": "ipython3",
   "version": "3.7.9"
  },
  "orig_nbformat": 4,
  "vscode": {
   "interpreter": {
    "hash": "aee8b7b246df8f9039afb4144a1f6fd8d2ca17a180786b69acc140d282b71a49"
   }
  }
 },
 "nbformat": 4,
 "nbformat_minor": 2
}
