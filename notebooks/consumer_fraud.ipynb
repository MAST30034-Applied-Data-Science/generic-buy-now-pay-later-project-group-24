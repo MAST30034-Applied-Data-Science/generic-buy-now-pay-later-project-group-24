{
 "cells": [
  {
   "cell_type": "code",
   "execution_count": 1,
   "metadata": {},
   "outputs": [],
   "source": [
    "import sys\n",
    "sys.path.append('../scripts/')\n",
    "from utility import read_file, create_folder, temp_record_query, temp_record_sdf"
   ]
  },
  {
   "cell_type": "code",
   "execution_count": 2,
   "metadata": {},
   "outputs": [],
   "source": [
    "from pyspark.sql import SparkSession\n",
    "import pyspark.sql.functions as F"
   ]
  },
  {
   "cell_type": "code",
   "execution_count": 3,
   "metadata": {},
   "outputs": [
    {
     "name": "stdout",
     "output_type": "stream",
     "text": [
      "22/10/03 11:06:28 WARN Utils: Your hostname, Runyus-MacBook-Pro.local resolves to a loopback address: 127.0.0.1; using 192.168.0.103 instead (on interface en0)\n",
      "22/10/03 11:06:28 WARN Utils: Set SPARK_LOCAL_IP if you need to bind to another address\n"
     ]
    },
    {
     "name": "stderr",
     "output_type": "stream",
     "text": [
      "Setting default log level to \"WARN\".\n",
      "To adjust logging level use sc.setLogLevel(newLevel). For SparkR, use setLogLevel(newLevel).\n"
     ]
    },
    {
     "name": "stdout",
     "output_type": "stream",
     "text": [
      "22/10/03 11:06:28 WARN NativeCodeLoader: Unable to load native-hadoop library for your platform... using builtin-java classes where applicable\n",
      "22/10/03 11:06:29 WARN Utils: Service 'SparkUI' could not bind on port 4040. Attempting port 4041.\n"
     ]
    }
   ],
   "source": [
    "spark = (\n",
    "    # Create a spark session (which will run spark jobs)\n",
    "    SparkSession.builder.appName(\"Project 2\")\n",
    "    .config(\"spark.sql.repl.eagerEval.enabled\", True) \n",
    "    .config(\"spark.sql.parquet.cacheMetadata\", \"true\")\n",
    "    .config('spark.executor.memory','10g')\n",
    "    .config('spark.driver.memory','12g')\n",
    "    .config('spark.driver.maxResultsSize', '10GiB')\n",
    "    # .config(\"spark.network.timeout\", \"3600s\")\n",
    "    # .master(\"local[6]\")\n",
    "    .getOrCreate()\n",
    "    )"
   ]
  },
  {
   "cell_type": "code",
   "execution_count": 8,
   "metadata": {},
   "outputs": [
    {
     "name": "stdout",
     "output_type": "stream",
     "text": [
      "|> Loading File...\n",
      "|> Loading Finished!\n",
      "-RECORD 0--------------------------------------------------------------------------\n",
      " user_id           | 8972                                                          \n",
      " merchant_abn      | 59658193201                                                   \n",
      " dollar_value      | 182.16129389048888                                            \n",
      " order_id          | 5a2112b5-6a59-4ceb-95a5-655fa5915c7a                          \n",
      " merchant_name     | Id Ante Institute                                             \n",
      " tags              | cable, satellite, and other pay television and radio services \n",
      " take_rate         | 6.16                                                          \n",
      " type              | a                                                             \n",
      " postcode          | 5311                                                          \n",
      " consumer_id       | 1115127                                                       \n",
      " name              | Mr. Bradley Moore                                             \n",
      " address           | 181 Jackson Path Suite 308                                    \n",
      " state             | SA                                                            \n",
      " gender            | Male                                                          \n",
      " POA_CODE21        | 5311                                                          \n",
      " 2021_popu         | 1446.630618186354                                             \n",
      " New cases / day   | 1,621                                                         \n",
      " month             | 2021-11-01                                                    \n",
      " total             | 33345                                                         \n",
      " __index_level_0__ | 2262869                                                       \n",
      " genderIndex       | 0.0                                                           \n",
      " typeIndex         | 0.0                                                           \n",
      " tagIndex          | 4.0                                                           \n",
      " tag_vec           | (24,[4],[1.0])                                                \n",
      " order_datetime    | 2021-11-26                                                    \n",
      "only showing top 1 row\n",
      "\n"
     ]
    }
   ],
   "source": [
    "trans_sdf = read_file(spark, 'changed_data', '../data/curated/')"
   ]
  },
  {
   "cell_type": "code",
   "execution_count": 9,
   "metadata": {},
   "outputs": [
    {
     "name": "stdout",
     "output_type": "stream",
     "text": [
      "|> Loading File...\n",
      "|> Loading Finished!\n",
      "-RECORD 0-----------------------------\n",
      " user_id           | 6228             \n",
      " order_datetime    | 2021-12-19       \n",
      " fraud_probability | 97.6298077657765 \n",
      "only showing top 1 row\n",
      "\n"
     ]
    }
   ],
   "source": [
    "consumer_fraud_sdf = read_file(spark,'consumer_fraud_probability.csv', '../data/tables/', 'csv')"
   ]
  },
  {
   "cell_type": "code",
   "execution_count": null,
   "metadata": {},
   "outputs": [],
   "source": [
    "consumer_fraud_sdf = (consumer_fraud_sdf\n",
    "                   .withColumnRenamed(\"user_id\", 'id')\n",
    "                   .withColumnRenamed('order_datetime','total_retail')\n",
    "                   )"
   ]
  },
  {
   "cell_type": "code",
   "execution_count": null,
   "metadata": {},
   "outputs": [],
   "source": [
    "consumer_fraud_table = trans_sdf.join(consumer_fraud_sdf, how='inner', on=(consumer_fraud_sdf.order_datetime == trans_sdf.order) < 1) & (F.months_between(sdf.order_datetime, rts_sdf.month) >= 0))"
   ]
  }
 ],
 "metadata": {
  "kernelspec": {
   "display_name": "Python 3.7.9 64-bit",
   "language": "python",
   "name": "python3"
  },
  "language_info": {
   "codemirror_mode": {
    "name": "ipython",
    "version": 3
   },
   "file_extension": ".py",
   "mimetype": "text/x-python",
   "name": "python",
   "nbconvert_exporter": "python",
   "pygments_lexer": "ipython3",
   "version": "3.7.9"
  },
  "orig_nbformat": 4,
  "vscode": {
   "interpreter": {
    "hash": "aee8b7b246df8f9039afb4144a1f6fd8d2ca17a180786b69acc140d282b71a49"
   }
  }
 },
 "nbformat": 4,
 "nbformat_minor": 2
}
