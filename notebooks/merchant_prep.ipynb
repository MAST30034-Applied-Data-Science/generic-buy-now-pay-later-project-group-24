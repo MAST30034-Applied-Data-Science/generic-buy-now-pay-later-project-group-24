{
 "cells": [
  {
   "cell_type": "code",
   "execution_count": 1,
   "metadata": {},
   "outputs": [],
   "source": [
    "import sys\n",
    "sys.path.append('../scripts/')\n",
    "from utility import read_file, create_folder, temp_record_query, temp_record_sdf\n",
    "# from read_untils import read_file, create_folder, temp_record_query, temp_record_sdf"
   ]
  },
  {
   "cell_type": "code",
   "execution_count": 2,
   "metadata": {},
   "outputs": [],
   "source": [
    "from pyspark.sql import SparkSession"
   ]
  },
  {
   "cell_type": "code",
   "execution_count": 3,
   "metadata": {},
   "outputs": [
    {
     "name": "stdout",
     "output_type": "stream",
     "text": [
      "22/09/20 09:57:16 WARN Utils: Your hostname, SukiXuudeMacBook-Pro.local resolves to a loopback address: 127.0.0.1; using 100.71.5.183 instead (on interface en0)\n",
      "22/09/20 09:57:16 WARN Utils: Set SPARK_LOCAL_IP if you need to bind to another address\n"
     ]
    },
    {
     "name": "stderr",
     "output_type": "stream",
     "text": [
      "Setting default log level to \"WARN\".\n",
      "To adjust logging level use sc.setLogLevel(newLevel). For SparkR, use setLogLevel(newLevel).\n"
     ]
    },
    {
     "name": "stdout",
     "output_type": "stream",
     "text": [
      "22/09/20 09:57:17 WARN NativeCodeLoader: Unable to load native-hadoop library for your platform... using builtin-java classes where applicable\n",
      "22/09/20 09:57:19 WARN Utils: Service 'SparkUI' could not bind on port 4040. Attempting port 4041.\n",
      "22/09/20 09:57:19 WARN Utils: Service 'SparkUI' could not bind on port 4041. Attempting port 4042.\n",
      "22/09/20 09:57:19 WARN Utils: Service 'SparkUI' could not bind on port 4042. Attempting port 4043.\n",
      "22/09/20 09:57:19 WARN Utils: Service 'SparkUI' could not bind on port 4043. Attempting port 4044.\n"
     ]
    }
   ],
   "source": [
    "spark = (\n",
    "    # Create a spark session (which will run spark jobs)\n",
    "    SparkSession.builder.appName(\"Project 2\")\n",
    "    .config(\"spark.sql.repl.eagerEval.enabled\", True) \n",
    "    .config(\"spark.sql.parquet.cacheMetadata\", \"true\")\n",
    "    .config('spark.executor.memory','10g')\n",
    "    .config('spark.driver.memory','12g')\n",
    "    .config('spark.driver.maxResultsSize', '10 GiB')\n",
    "    .config('spark.shuffle.file.buffer', '64k')\n",
    "    # .config(\"spark.network.timeout\", \"3600s\")\n",
    "    # .master(\"local[6]\")\n",
    "    .getOrCreate()\n",
    "    )"
   ]
  },
  {
   "cell_type": "code",
   "execution_count": 4,
   "metadata": {},
   "outputs": [],
   "source": [
    "import re\n",
    "import pandas as pd"
   ]
  },
  {
   "cell_type": "code",
   "execution_count": 5,
   "metadata": {},
   "outputs": [],
   "source": [
    "PLOT_PATH = '../plots/'"
   ]
  },
  {
   "cell_type": "code",
   "execution_count": 6,
   "metadata": {},
   "outputs": [
    {
     "name": "stdout",
     "output_type": "stream",
     "text": [
      "================ Merchant ================\n",
      "|> Loading File...\n"
     ]
    },
    {
     "name": "stderr",
     "output_type": "stream",
     "text": [
      "                                                                                \r"
     ]
    },
    {
     "name": "stdout",
     "output_type": "stream",
     "text": [
      "|> Loading Finished!\n",
      "-RECORD 0----------------------------\n",
      " name         | Felis Limited        \n",
      " tags         | ((furniture, home... \n",
      " merchant_abn | 10023283211          \n",
      "only showing top 1 row\n",
      "\n"
     ]
    },
    {
     "name": "stderr",
     "output_type": "stream",
     "text": [
      "                                                                                \r"
     ]
    }
   ],
   "source": [
    "print(\"================ Merchant ================\")\n",
    "merchants_sdf = read_file(spark, 'tbl_merchants.parquet', truncate=20)"
   ]
  },
  {
   "cell_type": "code",
   "execution_count": 7,
   "metadata": {},
   "outputs": [
    {
     "name": "stdout",
     "output_type": "stream",
     "text": [
      "================ Transactions ================\n",
      "|> Loading File...\n"
     ]
    },
    {
     "name": "stderr",
     "output_type": "stream",
     "text": [
      "                                                                                \r"
     ]
    },
    {
     "name": "stdout",
     "output_type": "stream",
     "text": [
      "|> Loading Finished!\n",
      "-RECORD 0----------------------------------------------\n",
      " user_id        | 18478                                \n",
      " merchant_abn   | 62191208634                          \n",
      " dollar_value   | 63.255848959735246                   \n",
      " order_id       | 949a63c8-29f7-4ab0-ada4-99ac50a88952 \n",
      " order_datetime | 2021-08-20                           \n",
      "only showing top 1 row\n",
      "\n"
     ]
    }
   ],
   "source": [
    "print(\"================ Transactions ================\")\n",
    "transactions_sdf = read_file(spark, 'transactions_20210228_20210827_snapshot')"
   ]
  },
  {
   "cell_type": "markdown",
   "metadata": {},
   "source": [
    "### 1. 根据 Transaction 数据可以推测：商家是使用他们的 ABN 作为标识来对应 Transaction 数据\n"
   ]
  },
  {
   "cell_type": "markdown",
   "metadata": {},
   "source": [
    "- 由于数量不大，使用 pandas 对与商家的 Tags 数据进行预处理\n"
   ]
  },
  {
   "cell_type": "code",
   "execution_count": 8,
   "metadata": {},
   "outputs": [
    {
     "data": {
      "text/plain": [
       "4026"
      ]
     },
     "execution_count": 8,
     "metadata": {},
     "output_type": "execute_result"
    }
   ],
   "source": [
    "merchants_sdf.count()"
   ]
  },
  {
   "cell_type": "code",
   "execution_count": 9,
   "metadata": {},
   "outputs": [],
   "source": [
    "merchants_df_origin = pd.DataFrame(merchants_sdf.collect(), columns=['merchant_name', 'tags', 'merchant_abn']) \n",
    "merchants_df = merchants_df_origin.copy()"
   ]
  },
  {
   "cell_type": "code",
   "execution_count": 10,
   "metadata": {},
   "outputs": [
    {
     "data": {
      "text/plain": [
       "'((furniture, home furnishings and equipment shops, and manufacturers, except appliances), (e), (take rate: 0.18))'"
      ]
     },
     "execution_count": 10,
     "metadata": {},
     "output_type": "execute_result"
    }
   ],
   "source": [
    "merchants_df_origin.tags.iloc[0]"
   ]
  },
  {
   "cell_type": "markdown",
   "metadata": {},
   "source": [
    "- 查看商家和商家 abn 是不是一一对应的 (是一一对应)\n"
   ]
  },
  {
   "cell_type": "code",
   "execution_count": 11,
   "metadata": {},
   "outputs": [
    {
     "data": {
      "text/plain": [
       "0"
      ]
     },
     "execution_count": 11,
     "metadata": {},
     "output_type": "execute_result"
    }
   ],
   "source": [
    "# Is there have duplicated merchant abn\n",
    "merchants_df.loc[merchants_df.duplicated(['merchant_abn'])].size"
   ]
  },
  {
   "cell_type": "code",
   "execution_count": 12,
   "metadata": {},
   "outputs": [
    {
     "data": {
      "text/plain": [
       "0"
      ]
     },
     "execution_count": 12,
     "metadata": {},
     "output_type": "execute_result"
    }
   ],
   "source": [
    "# Is there have duplicated merchants name\n",
    "merchants_df.loc[merchants_df.duplicated(['merchant_name'])].size"
   ]
  },
  {
   "cell_type": "markdown",
   "metadata": {},
   "source": [
    "### 2. 处理 tags 文本信息\n"
   ]
  },
  {
   "cell_type": "code",
   "execution_count": 13,
   "metadata": {},
   "outputs": [],
   "source": [
    "merchants_df = merchants_df_origin.copy()"
   ]
  },
  {
   "cell_type": "code",
   "execution_count": 14,
   "metadata": {},
   "outputs": [
    {
     "name": "stdout",
     "output_type": "stream",
     "text": [
      "((furniture, home furnishings and equipment shops, and manufacturers, except appliances), (e), (take rate: 0.18))\n",
      "([cable, satellite, and otHer pay television and radio services], [b], [take rate: 4.22])\n",
      "([jewelry, watch, clock, and silverware shops], [b], [take rate: 4.40])\n",
      "([wAtch, clock, and jewelry repair shops], [b], [take rate: 3.29])\n",
      "([music shops - musical instruments, pianos, and sheet music], [a], [take rate: 6.33])\n",
      "[(gift, card, novelty, and souvenir shops), (a), (take rate: 6.34)]\n",
      "[(computers, comPUter peripheral equipment, and softwAre), (b), (take rate: 4.32)]\n",
      "[[watch, clock, and jewelry repair shops], [c], [take rate: 2.39]]\n",
      "([computer programming , data processing, and integrated systems design services], [a], [take rate: 5.71])\n",
      "[(furniture, home furnishings and equipment shopS, and manufacturers, except appliances), (a), (take rate: 6.61)]\n"
     ]
    }
   ],
   "source": [
    "for i in range(10):\n",
    "    print(merchants_df.tags.loc[i])"
   ]
  },
  {
   "cell_type": "code",
   "execution_count": 15,
   "metadata": {},
   "outputs": [],
   "source": [
    "# 把tags里的信息，划分成三个column\n",
    "\n",
    "def tags_reg_func(s):\n",
    "    s = re.sub(r'\\(|\\[', '', s[:-2])\n",
    "    return re.split(r'\\), |\\], ', s)\n",
    "\n",
    "merchants_df.tags = merchants_df.tags.apply(lambda x: tags_reg_func(x))"
   ]
  },
  {
   "cell_type": "code",
   "execution_count": 16,
   "metadata": {},
   "outputs": [],
   "source": [
    "merchants_df['take_rate']  = merchants_df.tags.apply(lambda x: float(re.findall(r\"\\d+\\.?\\d*\", x[2])[0]) )"
   ]
  },
  {
   "cell_type": "code",
   "execution_count": 17,
   "metadata": {},
   "outputs": [],
   "source": [
    "merchants_df['type']  = merchants_df.tags.apply(lambda x: x[1] )"
   ]
  },
  {
   "cell_type": "code",
   "execution_count": 18,
   "metadata": {},
   "outputs": [],
   "source": [
    "# tags信息全小写\n",
    "merchants_df['tags']  = merchants_df.tags.apply(lambda x: x[0].lower() )"
   ]
  },
  {
   "cell_type": "code",
   "execution_count": null,
   "metadata": {},
   "outputs": [],
   "source": [
    "from collections import defaultdict\n",
    "new_dict = defaultdict(int)"
   ]
  },
  {
   "cell_type": "code",
   "execution_count": null,
   "metadata": {},
   "outputs": [],
   "source": [
    "merchants_df.tags = merchants_df.tags.apply(lambda x: re.sub(r'\\ +', ' ', x))"
   ]
  },
  {
   "cell_type": "code",
   "execution_count": 307,
   "metadata": {},
   "outputs": [],
   "source": [
    "merchants_df.to_parquet('../data/curated/merchants_data.parquet')"
   ]
  },
  {
   "cell_type": "markdown",
   "metadata": {},
   "source": [
    "### PLOT\n",
    "\n",
    "- Sunburst\n"
   ]
  },
  {
   "cell_type": "code",
   "execution_count": 308,
   "metadata": {},
   "outputs": [],
   "source": [
    "merchants_df = pd.read_parquet('../data/curated/merchants_data.parquet')"
   ]
  },
  {
   "cell_type": "code",
   "execution_count": 309,
   "metadata": {},
   "outputs": [],
   "source": [
    "merchants_tag = merchants_df.drop_duplicates('tags').reset_index(drop=True)"
   ]
  },
  {
   "cell_type": "code",
   "execution_count": 310,
   "metadata": {},
   "outputs": [],
   "source": [
    "# 缩短标签画图\n",
    "merchants_df_simplised = merchants_df.copy()\n",
    "# merchants_df_simplised.tags = merchants_df.tags.apply(lambda x: re.sub(r'[^(a-z)]', '', x.split(' ')[0]) )\n",
    "merchants_df_simplised.tags = merchants_df.tags.apply(lambda x: x.split(',')[0] )\n",
    "merchants_df_simplised.merchant_name = merchants_df.merchant_name.apply(lambda x: x.split(' ')[0])"
   ]
  },
  {
   "cell_type": "code",
   "execution_count": 311,
   "metadata": {},
   "outputs": [],
   "source": [
    "# dict_data = defaultdict()\n",
    "# groupby_tag = merchants_df_simplised.groupby('tags')\n",
    "# for head, f in groupby_tag:\n",
    "#     children = defaultdict()\n",
    "#     grouped = f.groupby('type')\n",
    "#     for a, b in grouped:\n",
    "#         child = list(f.groupby('merchant_name').size().reset_index().rename({'merchant_name': 'name', 0:'value'}, axis=1).T.to_dict().values())\n",
    "#         children[a] = { 'name':a, 'children': child }\n",
    "#     dict_data[head] = { 'name':head, 'children': list(children.values()) }\n"
   ]
  },
  {
   "cell_type": "code",
   "execution_count": 312,
   "metadata": {},
   "outputs": [],
   "source": [
    "# dict_data = defaultdict()\n",
    "# groupby_tag = merchants_df_simplised.groupby('type')\n",
    "# for head, f in groupby_tag:\n",
    "#     child = list(f.groupby('tags').size().reset_index().rename({'tags': 'name', 0:'value'}, axis=1).T.to_dict().values())\n",
    "#     dict_data[head] = { 'name':head, 'children': child }"
   ]
  },
  {
   "cell_type": "code",
   "execution_count": 313,
   "metadata": {},
   "outputs": [],
   "source": [
    "dict_data = defaultdict()\n",
    "groupby_tag = merchants_df_simplised.groupby('tags')\n",
    "for head, f in groupby_tag:\n",
    "    child = list(f.groupby('type').size().reset_index().rename({'type': 'name', 0:'value'}, axis=1).T.to_dict().values())\n",
    "    dict_data[head] = { 'name':head, 'children': child }"
   ]
  },
  {
   "cell_type": "code",
   "execution_count": 314,
   "metadata": {},
   "outputs": [],
   "source": [
    "from pyecharts.charts import Sunburst\n",
    "from pyecharts import options as opts\n",
    "\n",
    "\"\"\"\n",
    "Gallery 使用 pyecharts 1.2.1\n",
    "参考地址: https://www.echartsjs.com/examples/editor.html?c=sunburst-simple\n",
    "\n",
    "目前无法实现的功能:\n",
    "\n",
    "1、暂无\n",
    "\"\"\"\n",
    "data = list(dict_data.values())\n",
    "c = (\n",
    "    Sunburst(init_opts=opts.InitOpts(width=\"1000px\", height=\"900px\"))\n",
    "    .add(\n",
    "        \"\",\n",
    "        data_pair=data,\n",
    "        highlight_policy=\"ancestor\",\n",
    "        radius=[0, \"95%\"],\n",
    "        sort_=\"null\",\n",
    "        levels=[\n",
    "            {},\n",
    "            {\n",
    "                \"r0\": \"10%\",\n",
    "                \"r\": \"60%\",\n",
    "                \"itemStyle\": {\"borderWidth\": 2},\n",
    "                \"label\": {\n",
    "                    # \"rotate\": 'tangential',\n",
    "                }\n",
    "            },\n",
    "            {\"r0\": \"60%\", \"r\": \"70%\", \"label\": {\n",
    "                \"align\": \"right\"\n",
    "                }\n",
    "            },\n",
    "            {\n",
    "                \"r0\": \"70%\",\n",
    "                \"r\": \"72%\",\n",
    "                \"label\": {\"position\": \"outside\", \"padding\": 3, \"silent\": False},\n",
    "                \"itemStyle\": {\"borderWidth\": 3},\n",
    "            },\n",
    "        ],\n",
    "    )\n",
    "    .set_global_opts(title_opts=opts.TitleOpts(title=\"Merchants Tags --- Sunburst\"))\n",
    "    .set_series_opts(label_opts=opts.LabelOpts(formatter=\"{b}\"))\n",
    "    .render(f'{PLOT_PATH}merchants_sunburst.html')\n",
    ")\n"
   ]
  },
  {
   "cell_type": "markdown",
   "metadata": {},
   "source": [
    "- Scatter\n"
   ]
  },
  {
   "cell_type": "code",
   "execution_count": 315,
   "metadata": {},
   "outputs": [],
   "source": [
    "merchants_df = pd.read_parquet('../data/curated/merchants_data.parquet')"
   ]
  },
  {
   "cell_type": "code",
   "execution_count": 316,
   "metadata": {},
   "outputs": [],
   "source": [
    "merchants_df = merchants_df.sort_values('type', axis=0)"
   ]
  },
  {
   "cell_type": "code",
   "execution_count": 317,
   "metadata": {},
   "outputs": [],
   "source": [
    "data = [list(merchants_df.columns)] + merchants_df.to_numpy().tolist() "
   ]
  },
  {
   "cell_type": "code",
   "execution_count": 321,
   "metadata": {},
   "outputs": [],
   "source": [
    "from pyecharts import options as opts\n",
    "from pyecharts.charts import Grid, Scatter\n",
    "from pyecharts.globals import ThemeType\n",
    "\n",
    "l1_1 = (\n",
    "    Scatter()\n",
    "    .add_dataset(\n",
    "        dimensions=[\n",
    "            \"merchant_name\",\n",
    "            \"tags\",\n",
    "            \"merchant_abn\",\n",
    "            \"take_rate\",\n",
    "            {\"name\": \"type\", \"type\": \"ordinal\"},\n",
    "        ],\n",
    "        source=[list(merchants_df.columns)] + merchants_df.to_numpy().tolist() \n",
    "    )\n",
    "    .add_yaxis(\n",
    "        series_name=\"\",\n",
    "        y_axis=[],\n",
    "        symbol_size=2.5,\n",
    "        xaxis_index=1,\n",
    "        yaxis_index=1,\n",
    "        encode={\"x\": \"type\", \"y\": \"take_rate\", \"tooltip\": [0, 1, 2, 3]}, \n",
    "        label_opts=opts.LabelOpts(is_show=False),\n",
    "    )\n",
    "    .set_global_opts(\n",
    "        xaxis_opts=opts.AxisOpts(\n",
    "            type_=\"category\",\n",
    "            grid_index=0,\n",
    "            name=\"Type\",\n",
    "            boundary_gap=True,\n",
    "            axislabel_opts=opts.LabelOpts(interval=0),\n",
    "        ),\n",
    "        yaxis_opts=opts.AxisOpts(\n",
    "            type_=\"value\", \n",
    "            name=\"Rate\",\n",
    "        ),\n",
    "        title_opts=opts.TitleOpts(title=\"Encode and Matrix\"),\n",
    "    )\n",
    "    \n",
    ")\n",
    "\n",
    "\n",
    "\n",
    "\n",
    "l1_2 = (\n",
    "    Scatter()\n",
    "    .add_dataset()\n",
    "    .add_yaxis(\n",
    "        series_name=\"\",\n",
    "        y_axis=[],\n",
    "        symbol_size=2.5,\n",
    "        xaxis_index=1,\n",
    "        yaxis_index=1,\n",
    "        encode={\"x\": \"take_rate\", \"y\": \"tags\", \"tooltip\": [0, 1, 2, 3]}, \n",
    "        label_opts=opts.LabelOpts(is_show=False),\n",
    "    )\n",
    "    .set_global_opts(\n",
    "        yaxis_opts=opts.AxisOpts(\n",
    "            type_=\"category\",\n",
    "            grid_index=1,\n",
    "            name=\"Type\",\n",
    "            boundary_gap=True,\n",
    "            axislabel_opts=opts.LabelOpts(rotate=10, interval=0),\n",
    "        ),\n",
    "        xaxis_opts=opts.AxisOpts(\n",
    "            type_=\"value\", \n",
    "            name=\"Rate\",\n",
    "        ),\n",
    "    )\n",
    ")\n",
    "\n",
    "\n",
    "grid = (\n",
    "    # theme: CHALK, ESSOS\n",
    "    Grid(init_opts=opts.InitOpts(width=\"1960px\", height=\"960px\", theme=ThemeType.CHALK))\n",
    "    .add(\n",
    "        chart=l1_1,\n",
    "        grid_opts=opts.GridOpts(pos_left=\"80%\"),\n",
    "        grid_index=0,\n",
    "    )\n",
    "    .add(\n",
    "        chart=l1_2,\n",
    "        grid_opts=opts.GridOpts(pos_left=\"28%\", pos_right=\"25%\"),\n",
    "        grid_index=1,\n",
    "    )\n",
    "    .render(f'{PLOT_PATH}merchants_scatter.html')\n",
    ")"
   ]
  },
  {
   "cell_type": "markdown",
   "metadata": {},
   "source": [
    "- "
   ]
  },
  {
   "cell_type": "code",
   "execution_count": 295,
   "metadata": {},
   "outputs": [
    {
     "data": {
      "text/plain": [
       "(['小米', '三星', '华为', '苹果', '魅族', 'VIVO', 'OPPO'],\n",
       " [68, 29, 102, 47, 28, 118, 94])"
      ]
     },
     "execution_count": 295,
     "metadata": {},
     "output_type": "execute_result"
    }
   ],
   "source": [
    "Faker.choose(), Faker.values()"
   ]
  },
  {
   "cell_type": "code",
   "execution_count": 302,
   "metadata": {},
   "outputs": [
    {
     "data": {
      "text/html": [
       "<div>\n",
       "<style scoped>\n",
       "    .dataframe tbody tr th:only-of-type {\n",
       "        vertical-align: middle;\n",
       "    }\n",
       "\n",
       "    .dataframe tbody tr th {\n",
       "        vertical-align: top;\n",
       "    }\n",
       "\n",
       "    .dataframe thead th {\n",
       "        text-align: right;\n",
       "    }\n",
       "</style>\n",
       "<table border=\"1\" class=\"dataframe\">\n",
       "  <thead>\n",
       "    <tr style=\"text-align: right;\">\n",
       "      <th></th>\n",
       "      <th>merchant_name</th>\n",
       "      <th>merchant_abn</th>\n",
       "      <th>take_rate</th>\n",
       "      <th>type</th>\n",
       "    </tr>\n",
       "    <tr>\n",
       "      <th>tags</th>\n",
       "      <th></th>\n",
       "      <th></th>\n",
       "      <th></th>\n",
       "      <th></th>\n",
       "    </tr>\n",
       "  </thead>\n",
       "  <tbody>\n",
       "    <tr>\n",
       "      <th>antique shops -  sales, repairs, and restoration services</th>\n",
       "      <td>3</td>\n",
       "      <td>3</td>\n",
       "      <td>3</td>\n",
       "      <td>3</td>\n",
       "    </tr>\n",
       "    <tr>\n",
       "      <th>antique shops - sales,  repairs, and restoration services</th>\n",
       "      <td>2</td>\n",
       "      <td>2</td>\n",
       "      <td>2</td>\n",
       "      <td>2</td>\n",
       "    </tr>\n",
       "    <tr>\n",
       "      <th>antique shops - sales, repairs, and restoration services</th>\n",
       "      <td>124</td>\n",
       "      <td>124</td>\n",
       "      <td>124</td>\n",
       "      <td>124</td>\n",
       "    </tr>\n",
       "    <tr>\n",
       "      <th>art dealers and  galleries</th>\n",
       "      <td>1</td>\n",
       "      <td>1</td>\n",
       "      <td>1</td>\n",
       "      <td>1</td>\n",
       "    </tr>\n",
       "    <tr>\n",
       "      <th>art dealers and galleries</th>\n",
       "      <td>111</td>\n",
       "      <td>111</td>\n",
       "      <td>111</td>\n",
       "      <td>111</td>\n",
       "    </tr>\n",
       "    <tr>\n",
       "      <th>...</th>\n",
       "      <td>...</td>\n",
       "      <td>...</td>\n",
       "      <td>...</td>\n",
       "      <td>...</td>\n",
       "    </tr>\n",
       "    <tr>\n",
       "      <th>watch, clock,  and jewelry repair shops</th>\n",
       "      <td>2</td>\n",
       "      <td>2</td>\n",
       "      <td>2</td>\n",
       "      <td>2</td>\n",
       "    </tr>\n",
       "    <tr>\n",
       "      <th>watch, clock, and  jewelry repair shops</th>\n",
       "      <td>4</td>\n",
       "      <td>4</td>\n",
       "      <td>4</td>\n",
       "      <td>4</td>\n",
       "    </tr>\n",
       "    <tr>\n",
       "      <th>watch, clock, and jewelry  repair shops</th>\n",
       "      <td>1</td>\n",
       "      <td>1</td>\n",
       "      <td>1</td>\n",
       "      <td>1</td>\n",
       "    </tr>\n",
       "    <tr>\n",
       "      <th>watch, clock, and jewelry repair  shops</th>\n",
       "      <td>2</td>\n",
       "      <td>2</td>\n",
       "      <td>2</td>\n",
       "      <td>2</td>\n",
       "    </tr>\n",
       "    <tr>\n",
       "      <th>watch, clock, and jewelry repair shops</th>\n",
       "      <td>159</td>\n",
       "      <td>159</td>\n",
       "      <td>159</td>\n",
       "      <td>159</td>\n",
       "    </tr>\n",
       "  </tbody>\n",
       "</table>\n",
       "<p>126 rows × 4 columns</p>\n",
       "</div>"
      ],
      "text/plain": [
       "                                                    merchant_name  \\\n",
       "tags                                                                \n",
       "antique shops -  sales, repairs, and restoratio...              3   \n",
       "antique shops - sales,  repairs, and restoratio...              2   \n",
       "antique shops - sales, repairs, and restoration...            124   \n",
       "art dealers and  galleries                                      1   \n",
       "art dealers and galleries                                     111   \n",
       "...                                                           ...   \n",
       "watch, clock,  and jewelry repair shops                         2   \n",
       "watch, clock, and  jewelry repair shops                         4   \n",
       "watch, clock, and jewelry  repair shops                         1   \n",
       "watch, clock, and jewelry repair  shops                         2   \n",
       "watch, clock, and jewelry repair shops                        159   \n",
       "\n",
       "                                                    merchant_abn  take_rate  \\\n",
       "tags                                                                          \n",
       "antique shops -  sales, repairs, and restoratio...             3          3   \n",
       "antique shops - sales,  repairs, and restoratio...             2          2   \n",
       "antique shops - sales, repairs, and restoration...           124        124   \n",
       "art dealers and  galleries                                     1          1   \n",
       "art dealers and galleries                                    111        111   \n",
       "...                                                          ...        ...   \n",
       "watch, clock,  and jewelry repair shops                        2          2   \n",
       "watch, clock, and  jewelry repair shops                        4          4   \n",
       "watch, clock, and jewelry  repair shops                        1          1   \n",
       "watch, clock, and jewelry repair  shops                        2          2   \n",
       "watch, clock, and jewelry repair shops                       159        159   \n",
       "\n",
       "                                                    type  \n",
       "tags                                                      \n",
       "antique shops -  sales, repairs, and restoratio...     3  \n",
       "antique shops - sales,  repairs, and restoratio...     2  \n",
       "antique shops - sales, repairs, and restoration...   124  \n",
       "art dealers and  galleries                             1  \n",
       "art dealers and galleries                            111  \n",
       "...                                                  ...  \n",
       "watch, clock,  and jewelry repair shops                2  \n",
       "watch, clock, and  jewelry repair shops                4  \n",
       "watch, clock, and jewelry  repair shops                1  \n",
       "watch, clock, and jewelry repair  shops                2  \n",
       "watch, clock, and jewelry repair shops               159  \n",
       "\n",
       "[126 rows x 4 columns]"
      ]
     },
     "execution_count": 302,
     "metadata": {},
     "output_type": "execute_result"
    }
   ],
   "source": [
    "merchants_df.groupby('tags').count()"
   ]
  },
  {
   "cell_type": "code",
   "execution_count": 293,
   "metadata": {},
   "outputs": [],
   "source": [
    "from pyecharts import options as opts\n",
    "from pyecharts.charts import Bar, Grid, Line\n",
    "from pyecharts.faker import Faker\n",
    "\n",
    "bar = (\n",
    "    Bar()\n",
    "    .add_xaxis(Faker.choose())\n",
    "    .add_yaxis(\"商家A\", Faker.values())\n",
    "    .add_yaxis(\"商家B\", Faker.values())\n",
    "    .set_global_opts(title_opts=opts.TitleOpts(title=\"Grid-Bar\"))\n",
    ")\n",
    "line = (\n",
    "    Line()\n",
    "    .add_xaxis(Faker.choose())\n",
    "    .add_yaxis(\"商家A\", Faker.values())\n",
    "    .add_yaxis(\"商家B\", Faker.values())\n",
    "    .set_global_opts(\n",
    "        title_opts=opts.TitleOpts(title=\"Grid-Line\", pos_top=\"48%\"),\n",
    "        legend_opts=opts.LegendOpts(pos_top=\"48%\"),\n",
    "    )\n",
    ")\n",
    "\n",
    "grid = (\n",
    "    Grid()\n",
    "    .add(bar, grid_opts=opts.GridOpts(pos_bottom=\"60%\"))\n",
    "    .add(line, grid_opts=opts.GridOpts(pos_top=\"60%\"))\n",
    "    .render(f'{PLOT_PATH}merchants_com.html'))"
   ]
  },
  {
   "cell_type": "code",
   "execution_count": null,
   "metadata": {},
   "outputs": [],
   "source": []
  }
 ],
 "metadata": {
  "kernelspec": {
   "display_name": "Python 3.7.9 64-bit",
   "language": "python",
   "name": "python3"
  },
  "language_info": {
   "codemirror_mode": {
    "name": "ipython",
    "version": 3
   },
   "file_extension": ".py",
   "mimetype": "text/x-python",
   "name": "python",
   "nbconvert_exporter": "python",
   "pygments_lexer": "ipython3",
   "version": "3.7.9"
  },
  "orig_nbformat": 4,
  "vscode": {
   "interpreter": {
    "hash": "aee8b7b246df8f9039afb4144a1f6fd8d2ca17a180786b69acc140d282b71a49"
   }
  }
 },
 "nbformat": 4,
 "nbformat_minor": 2
}
