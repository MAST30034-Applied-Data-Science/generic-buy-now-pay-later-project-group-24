{
 "cells": [
  {
   "cell_type": "code",
   "execution_count": 2,
   "metadata": {},
   "outputs": [],
   "source": [
    "import sys\n",
    "sys.path.append('../scripts/')\n",
    "from utility import read_file, create_folder, temp_record_query, temp_record_sdf\n",
    "# from read_utils import read_file, create_folder, temp_record_query, temp_record_sdf"
   ]
  },
  {
   "cell_type": "code",
   "execution_count": 2,
   "metadata": {},
   "outputs": [],
   "source": [
    "from pyspark.sql import SparkSession"
   ]
  },
  {
   "cell_type": "code",
   "execution_count": 3,
   "metadata": {},
   "outputs": [
    {
     "name": "stdout",
     "output_type": "stream",
     "text": [
      "22/09/13 15:23:59 WARN Utils: Your hostname, SukiXuudeMacBook-Pro.local resolves to a loopback address: 127.0.0.1; using 100.70.3.168 instead (on interface en0)\n",
      "22/09/13 15:23:59 WARN Utils: Set SPARK_LOCAL_IP if you need to bind to another address\n"
     ]
    },
    {
     "name": "stderr",
     "output_type": "stream",
     "text": [
      "Setting default log level to \"WARN\".\n",
      "To adjust logging level use sc.setLogLevel(newLevel). For SparkR, use setLogLevel(newLevel).\n"
     ]
    },
    {
     "name": "stdout",
     "output_type": "stream",
     "text": [
      "22/09/13 15:24:00 WARN NativeCodeLoader: Unable to load native-hadoop library for your platform... using builtin-java classes where applicable\n"
     ]
    }
   ],
   "source": [
    "spark = (\n",
    "    # Create a spark session (which will run spark jobs)\n",
    "    SparkSession.builder.appName(\"Project 2\")\n",
    "    .config(\"spark.sql.repl.eagerEval.enabled\", True) \n",
    "    .config(\"spark.sql.parquet.cacheMetadata\", \"true\")\n",
    "    .config('spark.executor.memory','10g')\n",
    "    .config('spark.driver.memory','12g')\n",
    "    .config('spark.driver.maxResultsSize', '10 GiB')\n",
    "    .config('spark.shuffle.file.buffer', '64k')\n",
    "    # .config(\"spark.network.timeout\", \"3600s\")\n",
    "    # .master(\"local[6]\")\n",
    "    .getOrCreate()\n",
    "    )"
   ]
  },
  {
   "cell_type": "code",
   "execution_count": 4,
   "metadata": {},
   "outputs": [],
   "source": [
    "import re\n",
    "import pandas as pd"
   ]
  },
  {
   "cell_type": "code",
   "execution_count": 5,
   "metadata": {},
   "outputs": [],
   "source": [
    "PLOT_PATH = '../plots/'"
   ]
  },
  {
   "cell_type": "code",
   "execution_count": 6,
   "metadata": {},
   "outputs": [
    {
     "name": "stdout",
     "output_type": "stream",
     "text": [
      "================ Merchant ================\n",
      "|> Loading File...\n"
     ]
    },
    {
     "name": "stderr",
     "output_type": "stream",
     "text": [
      "                                                                                \r"
     ]
    },
    {
     "name": "stdout",
     "output_type": "stream",
     "text": [
      "|> Loading Finished!\n",
      "-RECORD 0----------------------------\n",
      " name         | Felis Limited        \n",
      " tags         | ((furniture, home... \n",
      " merchant_abn | 10023283211          \n",
      "only showing top 1 row\n",
      "\n"
     ]
    }
   ],
   "source": [
    "print(\"================ Merchant ================\")\n",
    "merchants_sdf = read_file(spark, 'tbl_merchants.parquet', truncate=20)"
   ]
  },
  {
   "cell_type": "code",
   "execution_count": 7,
   "metadata": {},
   "outputs": [
    {
     "name": "stdout",
     "output_type": "stream",
     "text": [
      "|> Loading File...\n"
     ]
    },
    {
     "name": "stderr",
     "output_type": "stream",
     "text": [
      "                                                                                \r"
     ]
    },
    {
     "name": "stdout",
     "output_type": "stream",
     "text": [
      "|> Loading Finished!\n",
      "-RECORD 0----------------------------------------------\n",
      " user_id        | 18478                                \n",
      " merchant_abn   | 62191208634                          \n",
      " dollar_value   | 63.255848959735246                   \n",
      " order_id       | 949a63c8-29f7-4ab0-ada4-99ac50a88952 \n",
      " order_datetime | 2021-08-20                           \n",
      "only showing top 1 row\n",
      "\n"
     ]
    }
   ],
   "source": [
    "transactions_sdf = read_file(spark, 'transactions_20210228_20210827_snapshot')"
   ]
  },
  {
   "cell_type": "markdown",
   "metadata": {},
   "source": [
    "### 1. 根据Transaction数据可以推测：商家是使用他们的 ABN 作为标识来对应Transaction数据"
   ]
  },
  {
   "cell_type": "markdown",
   "metadata": {},
   "source": [
    "- 由于数量不大，使用pandas对与商家的Tags数据进行预处理"
   ]
  },
  {
   "cell_type": "code",
   "execution_count": 8,
   "metadata": {},
   "outputs": [
    {
     "data": {
      "text/plain": [
       "4026"
      ]
     },
     "execution_count": 8,
     "metadata": {},
     "output_type": "execute_result"
    }
   ],
   "source": [
    "merchants_sdf.count()"
   ]
  },
  {
   "cell_type": "code",
   "execution_count": 9,
   "metadata": {},
   "outputs": [],
   "source": [
    "merchants_df_origin = pd.DataFrame(merchants_sdf.collect(), columns=['merchant_name', 'tags', 'merchant_abn']) \n",
    "merchants_df = merchants_df_origin.copy()"
   ]
  },
  {
   "cell_type": "code",
   "execution_count": 10,
   "metadata": {},
   "outputs": [
    {
     "data": {
      "text/plain": [
       "'((furniture, home furnishings and equipment shops, and manufacturers, except appliances), (e), (take rate: 0.18))'"
      ]
     },
     "execution_count": 10,
     "metadata": {},
     "output_type": "execute_result"
    }
   ],
   "source": [
    "merchants_df_origin.tags.iloc[0]"
   ]
  },
  {
   "cell_type": "markdown",
   "metadata": {},
   "source": [
    "- 查看商家和商家abn是不是一一对应的  (是一一对应)"
   ]
  },
  {
   "cell_type": "code",
   "execution_count": 11,
   "metadata": {},
   "outputs": [
    {
     "data": {
      "text/plain": [
       "0"
      ]
     },
     "execution_count": 11,
     "metadata": {},
     "output_type": "execute_result"
    }
   ],
   "source": [
    "# Is there have duplicated merchant abn\n",
    "merchants_df.loc[merchants_df.duplicated(['merchant_abn'])].size"
   ]
  },
  {
   "cell_type": "code",
   "execution_count": 12,
   "metadata": {},
   "outputs": [
    {
     "data": {
      "text/plain": [
       "0"
      ]
     },
     "execution_count": 12,
     "metadata": {},
     "output_type": "execute_result"
    }
   ],
   "source": [
    "# Is there have duplicated merchants name\n",
    "merchants_df.loc[merchants_df.duplicated(['merchant_name'])].size"
   ]
  },
  {
   "cell_type": "markdown",
   "metadata": {},
   "source": [
    "### 2. 处理tags文本信息"
   ]
  },
  {
   "cell_type": "code",
   "execution_count": 13,
   "metadata": {},
   "outputs": [],
   "source": [
    "merchants_df = merchants_df_origin.copy()"
   ]
  },
  {
   "cell_type": "code",
   "execution_count": 14,
   "metadata": {},
   "outputs": [
    {
     "name": "stdout",
     "output_type": "stream",
     "text": [
      "((furniture, home furnishings and equipment shops, and manufacturers, except appliances), (e), (take rate: 0.18))\n",
      "([cable, satellite, and otHer pay television and radio services], [b], [take rate: 4.22])\n",
      "([jewelry, watch, clock, and silverware shops], [b], [take rate: 4.40])\n",
      "([wAtch, clock, and jewelry repair shops], [b], [take rate: 3.29])\n",
      "([music shops - musical instruments, pianos, and sheet music], [a], [take rate: 6.33])\n",
      "[(gift, card, novelty, and souvenir shops), (a), (take rate: 6.34)]\n",
      "[(computers, comPUter peripheral equipment, and softwAre), (b), (take rate: 4.32)]\n",
      "[[watch, clock, and jewelry repair shops], [c], [take rate: 2.39]]\n",
      "([computer programming , data processing, and integrated systems design services], [a], [take rate: 5.71])\n",
      "[(furniture, home furnishings and equipment shopS, and manufacturers, except appliances), (a), (take rate: 6.61)]\n"
     ]
    }
   ],
   "source": [
    "for i in range(10):\n",
    "    print(merchants_df.tags.loc[i])"
   ]
  },
  {
   "cell_type": "code",
   "execution_count": 15,
   "metadata": {},
   "outputs": [],
   "source": [
    "# 把tags里的信息，划分成三个column\n",
    "\n",
    "def tags_reg_func(s):\n",
    "    s = re.sub(r'\\(|\\[', '', s[:-2])\n",
    "    return re.split(r'\\), |\\], ', s)\n",
    "\n",
    "merchants_df.tags = merchants_df.tags.apply(lambda x: tags_reg_func(x))"
   ]
  },
  {
   "cell_type": "code",
   "execution_count": 16,
   "metadata": {},
   "outputs": [],
   "source": [
    "merchants_df['take_rate']  = merchants_df.tags.apply(lambda x: re.findall(r\"\\d+\\.?\\d*\", x[2])[0] )"
   ]
  },
  {
   "cell_type": "code",
   "execution_count": 17,
   "metadata": {},
   "outputs": [],
   "source": [
    "merchants_df['type']  = merchants_df.tags.apply(lambda x: x[1] )"
   ]
  },
  {
   "cell_type": "code",
   "execution_count": 18,
   "metadata": {},
   "outputs": [],
   "source": [
    "# tags信息全小写\n",
    "merchants_df['tags']  = merchants_df.tags.apply(lambda x: x[0].lower() )"
   ]
  },
  {
   "cell_type": "code",
   "execution_count": 19,
   "metadata": {},
   "outputs": [
    {
     "name": "stdout",
     "output_type": "stream",
     "text": [
      "|> The folder already exist!\n",
      "|> Files already exist under this folder:\n",
      "   ['split_tags.parquet']\n"
     ]
    }
   ],
   "source": [
    "create_folder('../data/merchants_preprocess')\n",
    "merchants_df.to_parquet('../data/merchants_preprocess/split_tags.parquet')"
   ]
  },
  {
   "cell_type": "markdown",
   "metadata": {},
   "source": [
    "### 3. 尝试对tags进行处理"
   ]
  },
  {
   "cell_type": "code",
   "execution_count": 20,
   "metadata": {},
   "outputs": [],
   "source": [
    "merchants_df = pd.read_parquet('../data/merchants_preprocess/split_tags.parquet')"
   ]
  },
  {
   "cell_type": "code",
   "execution_count": 21,
   "metadata": {},
   "outputs": [],
   "source": [
    "from collections import defaultdict\n",
    "new_dict = defaultdict(int)"
   ]
  },
  {
   "cell_type": "code",
   "execution_count": 22,
   "metadata": {},
   "outputs": [],
   "source": [
    "merchants_df.tags = merchants_df.tags.apply(lambda x: re.sub(r'\\ +', ' ', x))"
   ]
  },
  {
   "cell_type": "code",
   "execution_count": 23,
   "metadata": {},
   "outputs": [],
   "source": [
    "merchants_tag = merchants_df.drop_duplicates('tags').reset_index(drop=True)"
   ]
  },
  {
   "cell_type": "code",
   "execution_count": 24,
   "metadata": {},
   "outputs": [],
   "source": [
    "# 词云\n",
    "data = merchants_df.groupby('tags').size().reset_index().to_numpy().tolist()\n",
    "\n",
    "from pyecharts import options as opts\n",
    "from pyecharts.charts import WordCloud\n",
    "from pyecharts.globals import SymbolType\n",
    "\n",
    "\n",
    "words = data\n",
    "c = (\n",
    "    WordCloud()\n",
    "    .add(\"\", words, shape=SymbolType.DIAMOND)\n",
    "    .set_global_opts(title_opts=opts.TitleOpts(title=\"Merchants --- WordCloud-diamond\"))\n",
    "    .render(f'{PLOT_PATH}merchants_wordcloud_diamond.html')\n",
    ")\n"
   ]
  },
  {
   "cell_type": "code",
   "execution_count": 25,
   "metadata": {},
   "outputs": [],
   "source": [
    "# 缩短标签画图\n",
    "merchants_df_simplised = merchants_df.copy()\n",
    "# merchants_df_simplised.tags = merchants_df.tags.apply(lambda x: re.sub(r'[^(a-z)]', '', x.split(' ')[0]) )\n",
    "merchants_df_simplised.tags = merchants_df.tags.apply(lambda x: x.split(',')[0] )\n",
    "merchants_df_simplised.merchant_name = merchants_df.merchant_name.apply(lambda x: x.split(' ')[0])"
   ]
  },
  {
   "cell_type": "code",
   "execution_count": 26,
   "metadata": {},
   "outputs": [],
   "source": [
    "dict_data = defaultdict()\n",
    "groupby_tag = merchants_df_simplised.groupby('tags')\n",
    "for head, f in groupby_tag:\n",
    "    children = defaultdict()\n",
    "    grouped = f.groupby('type')\n",
    "    for a, b in grouped:\n",
    "        child = list(f.groupby('merchant_name').size().reset_index().rename({'merchant_name': 'name', 0:'value'}, axis=1).T.to_dict().values())\n",
    "        children[a] = { 'name':a, 'children': child }\n",
    "    dict_data[head] = { 'name':head, 'children': list(children.values()) }\n"
   ]
  },
  {
   "cell_type": "code",
   "execution_count": 27,
   "metadata": {},
   "outputs": [],
   "source": [
    "dict_data = defaultdict()\n",
    "groupby_tag = merchants_df_simplised.groupby('type')\n",
    "for head, f in groupby_tag:\n",
    "    child = list(f.groupby('tags').size().reset_index().rename({'tags': 'name', 0:'value'}, axis=1).T.to_dict().values())\n",
    "    dict_data[head] = { 'name':head, 'children': child }\n"
   ]
  },
  {
   "cell_type": "code",
   "execution_count": 28,
   "metadata": {},
   "outputs": [],
   "source": [
    "dict_data = defaultdict()\n",
    "groupby_tag = merchants_df_simplised.groupby('tags')\n",
    "for head, f in groupby_tag:\n",
    "    child = list(f.groupby('type').size().reset_index().rename({'type': 'name', 0:'value'}, axis=1).T.to_dict().values())\n",
    "    dict_data[head] = { 'name':head, 'children': child }"
   ]
  },
  {
   "cell_type": "code",
   "execution_count": 29,
   "metadata": {},
   "outputs": [],
   "source": [
    "from pyecharts.charts import Sunburst\n",
    "from pyecharts import options as opts\n",
    "\n",
    "\"\"\"\n",
    "Gallery 使用 pyecharts 1.2.1\n",
    "参考地址: https://www.echartsjs.com/examples/editor.html?c=sunburst-simple\n",
    "\n",
    "目前无法实现的功能:\n",
    "\n",
    "1、暂无\n",
    "\"\"\"\n",
    "data = list(dict_data.values())\n",
    "c = (\n",
    "    Sunburst(init_opts=opts.InitOpts(width=\"1000px\", height=\"600px\"))\n",
    "    .add(\n",
    "        \"\",\n",
    "        data_pair=data,\n",
    "        highlight_policy=\"ancestor\",\n",
    "        radius=[0, \"95%\"],\n",
    "        sort_=\"null\",\n",
    "        levels=[\n",
    "            {},\n",
    "            {\n",
    "                \"r0\": \"15%\",\n",
    "                \"r\": \"35%\",\n",
    "                \"itemStyle\": {\"borderWidth\": 2},\n",
    "                \"label\": {\n",
    "                    # \"rotate\": 'tangential',\n",
    "                }\n",
    "            },\n",
    "            {\"r0\": \"35%\", \"r\": \"70%\", \"label\": {\n",
    "                \"align\": \"right\"\n",
    "                }\n",
    "            },\n",
    "            {\n",
    "                \"r0\": \"70%\",\n",
    "                \"r\": \"72%\",\n",
    "                \"label\": {\"position\": \"outside\", \"padding\": 3, \"silent\": False\n",
    "                },\n",
    "                \"itemStyle\": {\"borderWidth\": 3},\n",
    "            },\n",
    "        ],\n",
    "    )\n",
    "    .set_global_opts(title_opts=opts.TitleOpts(title=\"Merchants Tags --- Sunburst\"))\n",
    "    .set_series_opts(label_opts=opts.LabelOpts(formatter=\"{b}\"))\n",
    "    .render(f'{PLOT_PATH}merchants_sunburst.html')\n",
    ")\n"
   ]
  }
 ],
 "metadata": {
  "kernelspec": {
   "display_name": "Python 3.7.9 64-bit",
   "language": "python",
   "name": "python3"
  },
  "language_info": {
   "codemirror_mode": {
    "name": "ipython",
    "version": 3
   },
   "file_extension": ".py",
   "mimetype": "text/x-python",
   "name": "python",
   "nbconvert_exporter": "python",
   "pygments_lexer": "ipython3",
   "version": "3.7.9"
  },
  "orig_nbformat": 4,
  "vscode": {
   "interpreter": {
    "hash": "aee8b7b246df8f9039afb4144a1f6fd8d2ca17a180786b69acc140d282b71a49"
   }
  }
 },
 "nbformat": 4,
 "nbformat_minor": 2
}
