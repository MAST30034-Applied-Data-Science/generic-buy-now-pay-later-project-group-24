{
 "cells": [
  {
   "cell_type": "code",
   "execution_count": null,
   "metadata": {},
   "outputs": [],
   "source": [
    "import pandas as pd\n",
    "import geopandas as gpd\n",
    "import requests, json, geojson\n",
    "from shapely.geometry import shape\n",
    "import shapely.wkt\n",
    "import os\n",
    "\n",
    "import sys\n",
    "sys.path.append('../scripts/')\n",
    "from read_untils import read_file, create_folder, temp_record_query, temp_record_sdf"
   ]
  },
  {
   "cell_type": "code",
   "execution_count": null,
   "metadata": {},
   "outputs": [],
   "source": [
    "from collections import defaultdict"
   ]
  },
  {
   "cell_type": "markdown",
   "metadata": {},
   "source": [
    "### import data"
   ]
  },
  {
   "cell_type": "markdown",
   "metadata": {},
   "source": [
    "- POA(shapefile)"
   ]
  },
  {
   "cell_type": "code",
   "execution_count": null,
   "metadata": {},
   "outputs": [],
   "source": [
    "poa_sf = gpd.read_file('../data/tables/external_POA/POA_2021_AUST_GDA2020.shp')\n",
    "poa_sf['geometry'] = poa_sf['geometry'].to_crs(\"+proj=longlat +ellps=WGS84 +datum=WGS84 +no_defs\")\n",
    "poa_gdf = gpd.GeoDataFrame(poa_sf)"
   ]
  },
  {
   "cell_type": "code",
   "execution_count": null,
   "metadata": {},
   "outputs": [],
   "source": [
    "poa_gdf.head()"
   ]
  },
  {
   "cell_type": "code",
   "execution_count": null,
   "metadata": {},
   "outputs": [],
   "source": [
    "poa_gdf.count()"
   ]
  },
  {
   "cell_type": "code",
   "execution_count": null,
   "metadata": {},
   "outputs": [],
   "source": [
    "poa_gdf[poa_gdf.geometry.isna()]"
   ]
  },
  {
   "cell_type": "code",
   "execution_count": null,
   "metadata": {},
   "outputs": [],
   "source": [
    "poa_gdf = poa_gdf.replace(to_replace='None', value=0).dropna()"
   ]
  },
  {
   "cell_type": "code",
   "execution_count": null,
   "metadata": {},
   "outputs": [],
   "source": [
    "poa_gdf = poa_gdf[['POA_CODE21', 'geometry']]"
   ]
  },
  {
   "cell_type": "markdown",
   "metadata": {},
   "source": [
    "- SA2(shapefile)"
   ]
  },
  {
   "cell_type": "code",
   "execution_count": null,
   "metadata": {},
   "outputs": [],
   "source": [
    "sa2_sf = gpd.read_file('../data/tables/external_SA2/SA2_2021_AUST_GDA2020.shp')\n",
    "sa2_sf['geometry'] = sa2_sf['geometry'].to_crs(\"+proj=longlat +ellps=WGS84 +datum=WGS84 +no_defs\")\n",
    "sa2_sf = gpd.GeoDataFrame(sa2_sf)"
   ]
  },
  {
   "cell_type": "code",
   "execution_count": null,
   "metadata": {},
   "outputs": [],
   "source": [
    "sa2_sf.head()"
   ]
  },
  {
   "cell_type": "code",
   "execution_count": null,
   "metadata": {},
   "outputs": [],
   "source": [
    "sa2_sf = sa2_sf[['SA2_CODE21', 'geometry']]"
   ]
  },
  {
   "cell_type": "markdown",
   "metadata": {},
   "source": [
    "- SA2 population data"
   ]
  },
  {
   "cell_type": "code",
   "execution_count": null,
   "metadata": {},
   "outputs": [],
   "source": [
    "sa2_data = pd.read_csv('../data/tables/external_SA2_data.csv')"
   ]
  },
  {
   "cell_type": "code",
   "execution_count": null,
   "metadata": {},
   "outputs": [],
   "source": [
    "sa2_dt_head = sa2_data.loc[:4]\n",
    "sa2_dt = sa2_data.loc[5:]"
   ]
  },
  {
   "cell_type": "code",
   "execution_count": null,
   "metadata": {},
   "outputs": [],
   "source": [
    "sa2_dt.head()"
   ]
  },
  {
   "cell_type": "code",
   "execution_count": null,
   "metadata": {},
   "outputs": [],
   "source": [
    "sa2_dt = sa2_dt[list(sa2_dt.columns)[9:10] + list(sa2_dt.columns)[30:32]+list(sa2_dt.columns)[36:37]]\n",
    "sa2_dt.head()"
   ]
  },
  {
   "cell_type": "code",
   "execution_count": null,
   "metadata": {},
   "outputs": [],
   "source": [
    "sa2_dt.count()"
   ]
  },
  {
   "cell_type": "code",
   "execution_count": null,
   "metadata": {},
   "outputs": [],
   "source": [
    "col_name1 = sa2_dt.iloc[:1].to_numpy().tolist()[0]\n",
    "col_name2 = sa2_dt.iloc[1:2].to_numpy().tolist()[0]\n",
    "origin_col = list(sa2_dt.columns)"
   ]
  },
  {
   "cell_type": "code",
   "execution_count": null,
   "metadata": {},
   "outputs": [],
   "source": [
    "col_dict = defaultdict()\n",
    "for i in range(4):\n",
    "    if i == 0:\n",
    "        col_dict[origin_col[i]] = col_name2[i]\n",
    "    else:\n",
    "        col_dict[origin_col[i]] = col_name1[i] + '(' + str(col_name2[i]) + ')'"
   ]
  },
  {
   "cell_type": "code",
   "execution_count": null,
   "metadata": {},
   "outputs": [],
   "source": [
    "col_dict"
   ]
  },
  {
   "cell_type": "code",
   "execution_count": null,
   "metadata": {},
   "outputs": [],
   "source": [
    "sa2_dt = sa2_dt.iloc[3:2457].reset_index(drop=True).rename(col_dict, axis=1)"
   ]
  },
  {
   "cell_type": "code",
   "execution_count": null,
   "metadata": {},
   "outputs": [],
   "source": [
    "sa2_dt.head()"
   ]
  },
  {
   "cell_type": "markdown",
   "metadata": {},
   "source": [
    "### SA2 geo join with SA2 data"
   ]
  },
  {
   "cell_type": "code",
   "execution_count": null,
   "metadata": {},
   "outputs": [],
   "source": [
    "sa2_sf.head()"
   ]
  },
  {
   "cell_type": "code",
   "execution_count": null,
   "metadata": {},
   "outputs": [],
   "source": [
    "sa2_dt.count()"
   ]
  },
  {
   "cell_type": "code",
   "execution_count": null,
   "metadata": {},
   "outputs": [],
   "source": [
    "sa2_sf.count()"
   ]
  },
  {
   "cell_type": "code",
   "execution_count": null,
   "metadata": {},
   "outputs": [],
   "source": [
    "sa2_sf = sa2_sf.dropna()\n",
    "sa2_dt = sa2_dt.reset_index(drop=True)\n",
    "sa2_sf.count()"
   ]
  },
  {
   "cell_type": "code",
   "execution_count": null,
   "metadata": {},
   "outputs": [],
   "source": [
    "sa2 = pd.merge( sa2_sf, sa2_dt, left_on='SA2_CODE21', right_on='SA2 code', how='inner').drop('SA2 code', axis=1)"
   ]
  },
  {
   "cell_type": "code",
   "execution_count": null,
   "metadata": {},
   "outputs": [],
   "source": [
    "sa2.head()"
   ]
  },
  {
   "cell_type": "markdown",
   "metadata": {},
   "source": [
    "### geo intersection"
   ]
  },
  {
   "cell_type": "code",
   "execution_count": null,
   "metadata": {},
   "outputs": [],
   "source": [
    "sa2['2020(no.)'] = sa2['2020(no.)'].astype('int')\n",
    "sa2['2021(no.)'] = sa2['2021(no.)'].astype('int')\n",
    "sa2.head()"
   ]
  },
  {
   "cell_type": "code",
   "execution_count": null,
   "metadata": {},
   "outputs": [],
   "source": [
    "poa_gdf.head()"
   ]
  },
  {
   "cell_type": "code",
   "execution_count": null,
   "metadata": {},
   "outputs": [],
   "source": [
    "sa2.iloc[0]['2020(no.)']"
   ]
  },
  {
   "cell_type": "code",
   "execution_count": null,
   "metadata": {},
   "outputs": [],
   "source": [
    "def check_for_population(geom, sa2_gdf=sa2):\n",
    "    total_area = geom.area\n",
    "    sum_2020 = 0\n",
    "    sum_2021 = 0\n",
    "    for i in range(len(sa2)):\n",
    "        if (total_area>0 and geom.intersects(sa2.iloc[i].geometry) == True):\n",
    "            current_area = geom.intersection(sa2.iloc[i].geometry).area\n",
    "            total_area -= current_area\n",
    "            proportion = current_area / sa2.iloc[i].geometry.area\n",
    "            sum_2020 += sa2.iloc[i]['2020(no.)']*proportion\n",
    "            sum_2021 += sa2.iloc[i]['2021(no.)']*proportion\n",
    "            # print(sum_2020, sum_2021, proportion, sa2.iloc[i]['2020(no.)'])\n",
    "    return sum_2020, sum_2021\n"
   ]
  },
  {
   "cell_type": "code",
   "execution_count": null,
   "metadata": {},
   "outputs": [],
   "source": [
    "poa_gdf['2020(no.)'] = None\n",
    "poa_gdf['2021(no.)'] = None\n",
    "for i in range(len(poa_gdf)):\n",
    "    if(i%25==0):\n",
    "        print(i)\n",
    "    temp = poa_gdf.iloc[i]\n",
    "    sum_2020, sum_2021 = check_for_population(temp.geometry)\n",
    "    poa_gdf.iloc[i,2]=sum_2020\n",
    "    poa_gdf.iloc[i,3]=sum_2021"
   ]
  },
  {
   "cell_type": "code",
   "execution_count": null,
   "metadata": {},
   "outputs": [],
   "source": [
    "poa_gdf.head()"
   ]
  },
  {
   "cell_type": "code",
   "execution_count": null,
   "metadata": {},
   "outputs": [],
   "source": [
    "poa_gdf = poa_gdf.drop('geometry', axis=1)"
   ]
  },
  {
   "cell_type": "code",
   "execution_count": null,
   "metadata": {},
   "outputs": [],
   "source": [
    "poa_gdf.to_parquet('../data/curated/geo_pos_population.parquet', index=False)"
   ]
  }
 ],
 "metadata": {
  "kernelspec": {
   "display_name": "Python 3.7.9 64-bit",
   "language": "python",
   "name": "python3"
  },
  "language_info": {
   "codemirror_mode": {
    "name": "ipython",
    "version": 3
   },
   "file_extension": ".py",
   "mimetype": "text/x-python",
   "name": "python",
   "nbconvert_exporter": "python",
   "pygments_lexer": "ipython3",
   "version": "3.7.9"
  },
  "orig_nbformat": 4,
  "vscode": {
   "interpreter": {
    "hash": "aee8b7b246df8f9039afb4144a1f6fd8d2ca17a180786b69acc140d282b71a49"
   }
  }
 },
 "nbformat": 4,
 "nbformat_minor": 2
}
