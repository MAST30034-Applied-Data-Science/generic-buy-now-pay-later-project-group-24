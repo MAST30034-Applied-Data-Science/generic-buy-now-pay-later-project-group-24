{
 "cells": [
  {
   "cell_type": "code",
   "execution_count": 1,
   "metadata": {},
   "outputs": [
    {
     "name": "stderr",
     "output_type": "stream",
     "text": [
      "/Library/Frameworks/Python.framework/Versions/3.7/lib/python3.7/site-packages/geopandas/_compat.py:115: UserWarning: The Shapely GEOS version (3.10.2-CAPI-1.16.0) is incompatible with the GEOS version PyGEOS was compiled with (3.10.1-CAPI-1.16.0). Conversions between both will be slow.\n",
      "  shapely_geos_version, geos_capi_version_string\n"
     ]
    }
   ],
   "source": [
    "import pandas as pd\n",
    "import geopandas as gpd\n",
    "import requests, json, geojson\n",
    "from shapely.geometry import shape\n",
    "import shapely.wkt\n",
    "import os\n",
    "\n",
    "import sys\n",
    "sys.path.append('../scripts/')\n",
    "from utility import read_file, create_folder, temp_record_query, temp_record_sdf"
   ]
  },
  {
   "cell_type": "code",
   "execution_count": 2,
   "metadata": {},
   "outputs": [],
   "source": [
    "from collections import defaultdict"
   ]
  },
  {
   "cell_type": "markdown",
   "metadata": {},
   "source": [
    "### import data"
   ]
  },
  {
   "cell_type": "markdown",
   "metadata": {},
   "source": [
    "- POA(shapefile)"
   ]
  },
  {
   "cell_type": "code",
   "execution_count": 3,
   "metadata": {},
   "outputs": [],
   "source": [
    "poa_sf = gpd.read_file('../data/tables/external_POA/POA_2021_AUST_GDA2020.shp')\n",
    "poa_sf['geometry'] = poa_sf['geometry'].to_crs(\"+proj=longlat +ellps=WGS84 +datum=WGS84 +no_defs\")\n",
    "poa_gdf = gpd.GeoDataFrame(poa_sf)"
   ]
  },
  {
   "cell_type": "code",
   "execution_count": 4,
   "metadata": {},
   "outputs": [
    {
     "data": {
      "text/html": [
       "<div>\n",
       "<style scoped>\n",
       "    .dataframe tbody tr th:only-of-type {\n",
       "        vertical-align: middle;\n",
       "    }\n",
       "\n",
       "    .dataframe tbody tr th {\n",
       "        vertical-align: top;\n",
       "    }\n",
       "\n",
       "    .dataframe thead th {\n",
       "        text-align: right;\n",
       "    }\n",
       "</style>\n",
       "<table border=\"1\" class=\"dataframe\">\n",
       "  <thead>\n",
       "    <tr style=\"text-align: right;\">\n",
       "      <th></th>\n",
       "      <th>POA_CODE21</th>\n",
       "      <th>POA_NAME21</th>\n",
       "      <th>AUS_CODE21</th>\n",
       "      <th>AUS_NAME21</th>\n",
       "      <th>AREASQKM21</th>\n",
       "      <th>LOCI_URI21</th>\n",
       "      <th>SHAPE_Leng</th>\n",
       "      <th>SHAPE_Area</th>\n",
       "      <th>geometry</th>\n",
       "    </tr>\n",
       "  </thead>\n",
       "  <tbody>\n",
       "    <tr>\n",
       "      <th>0</th>\n",
       "      <td>0800</td>\n",
       "      <td>0800</td>\n",
       "      <td>AUS</td>\n",
       "      <td>Australia</td>\n",
       "      <td>3.1731</td>\n",
       "      <td>http://linked.data.gov.au/dataset/asgsed3/POA/...</td>\n",
       "      <td>0.081893</td>\n",
       "      <td>0.000264</td>\n",
       "      <td>POLYGON ((130.83681 -12.45376, 130.83684 -12.4...</td>\n",
       "    </tr>\n",
       "    <tr>\n",
       "      <th>1</th>\n",
       "      <td>0810</td>\n",
       "      <td>0810</td>\n",
       "      <td>AUS</td>\n",
       "      <td>Australia</td>\n",
       "      <td>24.4283</td>\n",
       "      <td>http://linked.data.gov.au/dataset/asgsed3/POA/...</td>\n",
       "      <td>0.241859</td>\n",
       "      <td>0.002031</td>\n",
       "      <td>POLYGON ((130.89986 -12.36567, 130.89875 -12.3...</td>\n",
       "    </tr>\n",
       "    <tr>\n",
       "      <th>2</th>\n",
       "      <td>0812</td>\n",
       "      <td>0812</td>\n",
       "      <td>AUS</td>\n",
       "      <td>Australia</td>\n",
       "      <td>35.8899</td>\n",
       "      <td>http://linked.data.gov.au/dataset/asgsed3/POA/...</td>\n",
       "      <td>0.278788</td>\n",
       "      <td>0.002983</td>\n",
       "      <td>POLYGON ((130.91915 -12.40786, 130.91831 -12.4...</td>\n",
       "    </tr>\n",
       "    <tr>\n",
       "      <th>3</th>\n",
       "      <td>0820</td>\n",
       "      <td>0820</td>\n",
       "      <td>AUS</td>\n",
       "      <td>Australia</td>\n",
       "      <td>39.0642</td>\n",
       "      <td>http://linked.data.gov.au/dataset/asgsed3/POA/...</td>\n",
       "      <td>0.409134</td>\n",
       "      <td>0.003248</td>\n",
       "      <td>POLYGON ((130.85260 -12.43994, 130.85089 -12.4...</td>\n",
       "    </tr>\n",
       "    <tr>\n",
       "      <th>4</th>\n",
       "      <td>0822</td>\n",
       "      <td>0822</td>\n",
       "      <td>AUS</td>\n",
       "      <td>Australia</td>\n",
       "      <td>150775.8030</td>\n",
       "      <td>http://linked.data.gov.au/dataset/asgsed3/POA/...</td>\n",
       "      <td>90.601831</td>\n",
       "      <td>12.564238</td>\n",
       "      <td>MULTIPOLYGON (((136.56648 -12.08392, 136.56704...</td>\n",
       "    </tr>\n",
       "  </tbody>\n",
       "</table>\n",
       "</div>"
      ],
      "text/plain": [
       "  POA_CODE21 POA_NAME21 AUS_CODE21 AUS_NAME21   AREASQKM21  \\\n",
       "0       0800       0800        AUS  Australia       3.1731   \n",
       "1       0810       0810        AUS  Australia      24.4283   \n",
       "2       0812       0812        AUS  Australia      35.8899   \n",
       "3       0820       0820        AUS  Australia      39.0642   \n",
       "4       0822       0822        AUS  Australia  150775.8030   \n",
       "\n",
       "                                          LOCI_URI21  SHAPE_Leng  SHAPE_Area  \\\n",
       "0  http://linked.data.gov.au/dataset/asgsed3/POA/...    0.081893    0.000264   \n",
       "1  http://linked.data.gov.au/dataset/asgsed3/POA/...    0.241859    0.002031   \n",
       "2  http://linked.data.gov.au/dataset/asgsed3/POA/...    0.278788    0.002983   \n",
       "3  http://linked.data.gov.au/dataset/asgsed3/POA/...    0.409134    0.003248   \n",
       "4  http://linked.data.gov.au/dataset/asgsed3/POA/...   90.601831   12.564238   \n",
       "\n",
       "                                            geometry  \n",
       "0  POLYGON ((130.83681 -12.45376, 130.83684 -12.4...  \n",
       "1  POLYGON ((130.89986 -12.36567, 130.89875 -12.3...  \n",
       "2  POLYGON ((130.91915 -12.40786, 130.91831 -12.4...  \n",
       "3  POLYGON ((130.85260 -12.43994, 130.85089 -12.4...  \n",
       "4  MULTIPOLYGON (((136.56648 -12.08392, 136.56704...  "
      ]
     },
     "execution_count": 4,
     "metadata": {},
     "output_type": "execute_result"
    }
   ],
   "source": [
    "poa_gdf.head()"
   ]
  },
  {
   "cell_type": "code",
   "execution_count": 5,
   "metadata": {},
   "outputs": [
    {
     "data": {
      "text/plain": [
       "POA_CODE21    2644\n",
       "POA_NAME21    2644\n",
       "AUS_CODE21    2644\n",
       "AUS_NAME21    2644\n",
       "AREASQKM21    2644\n",
       "LOCI_URI21    2644\n",
       "SHAPE_Leng    2644\n",
       "SHAPE_Area    2644\n",
       "geometry      2641\n",
       "dtype: int64"
      ]
     },
     "execution_count": 5,
     "metadata": {},
     "output_type": "execute_result"
    }
   ],
   "source": [
    "poa_gdf.count()"
   ]
  },
  {
   "cell_type": "code",
   "execution_count": 6,
   "metadata": {},
   "outputs": [
    {
     "data": {
      "text/html": [
       "<div>\n",
       "<style scoped>\n",
       "    .dataframe tbody tr th:only-of-type {\n",
       "        vertical-align: middle;\n",
       "    }\n",
       "\n",
       "    .dataframe tbody tr th {\n",
       "        vertical-align: top;\n",
       "    }\n",
       "\n",
       "    .dataframe thead th {\n",
       "        text-align: right;\n",
       "    }\n",
       "</style>\n",
       "<table border=\"1\" class=\"dataframe\">\n",
       "  <thead>\n",
       "    <tr style=\"text-align: right;\">\n",
       "      <th></th>\n",
       "      <th>POA_CODE21</th>\n",
       "      <th>POA_NAME21</th>\n",
       "      <th>AUS_CODE21</th>\n",
       "      <th>AUS_NAME21</th>\n",
       "      <th>AREASQKM21</th>\n",
       "      <th>LOCI_URI21</th>\n",
       "      <th>SHAPE_Leng</th>\n",
       "      <th>SHAPE_Area</th>\n",
       "      <th>geometry</th>\n",
       "    </tr>\n",
       "  </thead>\n",
       "  <tbody>\n",
       "    <tr>\n",
       "      <th>2641</th>\n",
       "      <td>9494</td>\n",
       "      <td>No usual address (Aust.)</td>\n",
       "      <td>AUS</td>\n",
       "      <td>Australia</td>\n",
       "      <td>0.0</td>\n",
       "      <td>http://linked.data.gov.au/dataset/asgsed3/POA/...</td>\n",
       "      <td>0.0</td>\n",
       "      <td>0.0</td>\n",
       "      <td>None</td>\n",
       "    </tr>\n",
       "    <tr>\n",
       "      <th>2642</th>\n",
       "      <td>9797</td>\n",
       "      <td>Migratory - Offshore - Shipping (Aust.)</td>\n",
       "      <td>AUS</td>\n",
       "      <td>Australia</td>\n",
       "      <td>0.0</td>\n",
       "      <td>http://linked.data.gov.au/dataset/asgsed3/POA/...</td>\n",
       "      <td>0.0</td>\n",
       "      <td>0.0</td>\n",
       "      <td>None</td>\n",
       "    </tr>\n",
       "    <tr>\n",
       "      <th>2643</th>\n",
       "      <td>ZZZZ</td>\n",
       "      <td>Outside Australia</td>\n",
       "      <td>ZZZ</td>\n",
       "      <td>Outside Australia</td>\n",
       "      <td>0.0</td>\n",
       "      <td>http://linked.data.gov.au/dataset/asgsed3/POA/...</td>\n",
       "      <td>0.0</td>\n",
       "      <td>0.0</td>\n",
       "      <td>None</td>\n",
       "    </tr>\n",
       "  </tbody>\n",
       "</table>\n",
       "</div>"
      ],
      "text/plain": [
       "     POA_CODE21                               POA_NAME21 AUS_CODE21  \\\n",
       "2641       9494                 No usual address (Aust.)        AUS   \n",
       "2642       9797  Migratory - Offshore - Shipping (Aust.)        AUS   \n",
       "2643       ZZZZ                        Outside Australia        ZZZ   \n",
       "\n",
       "             AUS_NAME21  AREASQKM21  \\\n",
       "2641          Australia         0.0   \n",
       "2642          Australia         0.0   \n",
       "2643  Outside Australia         0.0   \n",
       "\n",
       "                                             LOCI_URI21  SHAPE_Leng  \\\n",
       "2641  http://linked.data.gov.au/dataset/asgsed3/POA/...         0.0   \n",
       "2642  http://linked.data.gov.au/dataset/asgsed3/POA/...         0.0   \n",
       "2643  http://linked.data.gov.au/dataset/asgsed3/POA/...         0.0   \n",
       "\n",
       "      SHAPE_Area geometry  \n",
       "2641         0.0     None  \n",
       "2642         0.0     None  \n",
       "2643         0.0     None  "
      ]
     },
     "execution_count": 6,
     "metadata": {},
     "output_type": "execute_result"
    }
   ],
   "source": [
    "poa_gdf[poa_gdf.geometry.isna()]"
   ]
  },
  {
   "cell_type": "code",
   "execution_count": 7,
   "metadata": {},
   "outputs": [],
   "source": [
    "poa_gdf = poa_gdf.replace(to_replace='None', value=0).dropna()"
   ]
  },
  {
   "cell_type": "code",
   "execution_count": 8,
   "metadata": {},
   "outputs": [],
   "source": [
    "poa_gdf = poa_gdf[['POA_CODE21', 'geometry']]"
   ]
  },
  {
   "cell_type": "markdown",
   "metadata": {},
   "source": [
    "- SA2(shapefile)"
   ]
  },
  {
   "cell_type": "code",
   "execution_count": 9,
   "metadata": {},
   "outputs": [],
   "source": [
    "sa2_sf = gpd.read_file('../data/tables/external_SA2/SA2_2021_AUST_GDA2020.shp')\n",
    "sa2_sf['geometry'] = sa2_sf['geometry'].to_crs(\"+proj=longlat +ellps=WGS84 +datum=WGS84 +no_defs\")\n",
    "sa2_sf = gpd.GeoDataFrame(sa2_sf)"
   ]
  },
  {
   "cell_type": "code",
   "execution_count": 10,
   "metadata": {},
   "outputs": [
    {
     "data": {
      "text/html": [
       "<div>\n",
       "<style scoped>\n",
       "    .dataframe tbody tr th:only-of-type {\n",
       "        vertical-align: middle;\n",
       "    }\n",
       "\n",
       "    .dataframe tbody tr th {\n",
       "        vertical-align: top;\n",
       "    }\n",
       "\n",
       "    .dataframe thead th {\n",
       "        text-align: right;\n",
       "    }\n",
       "</style>\n",
       "<table border=\"1\" class=\"dataframe\">\n",
       "  <thead>\n",
       "    <tr style=\"text-align: right;\">\n",
       "      <th></th>\n",
       "      <th>SA2_CODE21</th>\n",
       "      <th>SA2_NAME21</th>\n",
       "      <th>CHG_FLAG21</th>\n",
       "      <th>CHG_LBL21</th>\n",
       "      <th>SA3_CODE21</th>\n",
       "      <th>SA3_NAME21</th>\n",
       "      <th>SA4_CODE21</th>\n",
       "      <th>SA4_NAME21</th>\n",
       "      <th>GCC_CODE21</th>\n",
       "      <th>GCC_NAME21</th>\n",
       "      <th>STE_CODE21</th>\n",
       "      <th>STE_NAME21</th>\n",
       "      <th>AUS_CODE21</th>\n",
       "      <th>AUS_NAME21</th>\n",
       "      <th>AREASQKM21</th>\n",
       "      <th>LOCI_URI21</th>\n",
       "      <th>geometry</th>\n",
       "    </tr>\n",
       "  </thead>\n",
       "  <tbody>\n",
       "    <tr>\n",
       "      <th>0</th>\n",
       "      <td>101021007</td>\n",
       "      <td>Braidwood</td>\n",
       "      <td>0</td>\n",
       "      <td>No change</td>\n",
       "      <td>10102</td>\n",
       "      <td>Queanbeyan</td>\n",
       "      <td>101</td>\n",
       "      <td>Capital Region</td>\n",
       "      <td>1RNSW</td>\n",
       "      <td>Rest of NSW</td>\n",
       "      <td>1</td>\n",
       "      <td>New South Wales</td>\n",
       "      <td>AUS</td>\n",
       "      <td>Australia</td>\n",
       "      <td>3418.3525</td>\n",
       "      <td>http://linked.data.gov.au/dataset/asgsed3/SA2/...</td>\n",
       "      <td>POLYGON ((149.58424 -35.44426, 149.58444 -35.4...</td>\n",
       "    </tr>\n",
       "    <tr>\n",
       "      <th>1</th>\n",
       "      <td>101021008</td>\n",
       "      <td>Karabar</td>\n",
       "      <td>0</td>\n",
       "      <td>No change</td>\n",
       "      <td>10102</td>\n",
       "      <td>Queanbeyan</td>\n",
       "      <td>101</td>\n",
       "      <td>Capital Region</td>\n",
       "      <td>1RNSW</td>\n",
       "      <td>Rest of NSW</td>\n",
       "      <td>1</td>\n",
       "      <td>New South Wales</td>\n",
       "      <td>AUS</td>\n",
       "      <td>Australia</td>\n",
       "      <td>6.9825</td>\n",
       "      <td>http://linked.data.gov.au/dataset/asgsed3/SA2/...</td>\n",
       "      <td>POLYGON ((149.21899 -35.36738, 149.21800 -35.3...</td>\n",
       "    </tr>\n",
       "    <tr>\n",
       "      <th>2</th>\n",
       "      <td>101021009</td>\n",
       "      <td>Queanbeyan</td>\n",
       "      <td>0</td>\n",
       "      <td>No change</td>\n",
       "      <td>10102</td>\n",
       "      <td>Queanbeyan</td>\n",
       "      <td>101</td>\n",
       "      <td>Capital Region</td>\n",
       "      <td>1RNSW</td>\n",
       "      <td>Rest of NSW</td>\n",
       "      <td>1</td>\n",
       "      <td>New South Wales</td>\n",
       "      <td>AUS</td>\n",
       "      <td>Australia</td>\n",
       "      <td>4.7620</td>\n",
       "      <td>http://linked.data.gov.au/dataset/asgsed3/SA2/...</td>\n",
       "      <td>POLYGON ((149.21326 -35.34325, 149.21619 -35.3...</td>\n",
       "    </tr>\n",
       "    <tr>\n",
       "      <th>3</th>\n",
       "      <td>101021010</td>\n",
       "      <td>Queanbeyan - East</td>\n",
       "      <td>0</td>\n",
       "      <td>No change</td>\n",
       "      <td>10102</td>\n",
       "      <td>Queanbeyan</td>\n",
       "      <td>101</td>\n",
       "      <td>Capital Region</td>\n",
       "      <td>1RNSW</td>\n",
       "      <td>Rest of NSW</td>\n",
       "      <td>1</td>\n",
       "      <td>New South Wales</td>\n",
       "      <td>AUS</td>\n",
       "      <td>Australia</td>\n",
       "      <td>13.0032</td>\n",
       "      <td>http://linked.data.gov.au/dataset/asgsed3/SA2/...</td>\n",
       "      <td>POLYGON ((149.24034 -35.34781, 149.24024 -35.3...</td>\n",
       "    </tr>\n",
       "    <tr>\n",
       "      <th>4</th>\n",
       "      <td>101021012</td>\n",
       "      <td>Queanbeyan West - Jerrabomberra</td>\n",
       "      <td>0</td>\n",
       "      <td>No change</td>\n",
       "      <td>10102</td>\n",
       "      <td>Queanbeyan</td>\n",
       "      <td>101</td>\n",
       "      <td>Capital Region</td>\n",
       "      <td>1RNSW</td>\n",
       "      <td>Rest of NSW</td>\n",
       "      <td>1</td>\n",
       "      <td>New South Wales</td>\n",
       "      <td>AUS</td>\n",
       "      <td>Australia</td>\n",
       "      <td>13.6748</td>\n",
       "      <td>http://linked.data.gov.au/dataset/asgsed3/SA2/...</td>\n",
       "      <td>POLYGON ((149.19572 -35.36126, 149.19970 -35.3...</td>\n",
       "    </tr>\n",
       "  </tbody>\n",
       "</table>\n",
       "</div>"
      ],
      "text/plain": [
       "  SA2_CODE21                       SA2_NAME21 CHG_FLAG21  CHG_LBL21  \\\n",
       "0  101021007                        Braidwood          0  No change   \n",
       "1  101021008                          Karabar          0  No change   \n",
       "2  101021009                       Queanbeyan          0  No change   \n",
       "3  101021010                Queanbeyan - East          0  No change   \n",
       "4  101021012  Queanbeyan West - Jerrabomberra          0  No change   \n",
       "\n",
       "  SA3_CODE21  SA3_NAME21 SA4_CODE21      SA4_NAME21 GCC_CODE21   GCC_NAME21  \\\n",
       "0      10102  Queanbeyan        101  Capital Region      1RNSW  Rest of NSW   \n",
       "1      10102  Queanbeyan        101  Capital Region      1RNSW  Rest of NSW   \n",
       "2      10102  Queanbeyan        101  Capital Region      1RNSW  Rest of NSW   \n",
       "3      10102  Queanbeyan        101  Capital Region      1RNSW  Rest of NSW   \n",
       "4      10102  Queanbeyan        101  Capital Region      1RNSW  Rest of NSW   \n",
       "\n",
       "  STE_CODE21       STE_NAME21 AUS_CODE21 AUS_NAME21  AREASQKM21  \\\n",
       "0          1  New South Wales        AUS  Australia   3418.3525   \n",
       "1          1  New South Wales        AUS  Australia      6.9825   \n",
       "2          1  New South Wales        AUS  Australia      4.7620   \n",
       "3          1  New South Wales        AUS  Australia     13.0032   \n",
       "4          1  New South Wales        AUS  Australia     13.6748   \n",
       "\n",
       "                                          LOCI_URI21  \\\n",
       "0  http://linked.data.gov.au/dataset/asgsed3/SA2/...   \n",
       "1  http://linked.data.gov.au/dataset/asgsed3/SA2/...   \n",
       "2  http://linked.data.gov.au/dataset/asgsed3/SA2/...   \n",
       "3  http://linked.data.gov.au/dataset/asgsed3/SA2/...   \n",
       "4  http://linked.data.gov.au/dataset/asgsed3/SA2/...   \n",
       "\n",
       "                                            geometry  \n",
       "0  POLYGON ((149.58424 -35.44426, 149.58444 -35.4...  \n",
       "1  POLYGON ((149.21899 -35.36738, 149.21800 -35.3...  \n",
       "2  POLYGON ((149.21326 -35.34325, 149.21619 -35.3...  \n",
       "3  POLYGON ((149.24034 -35.34781, 149.24024 -35.3...  \n",
       "4  POLYGON ((149.19572 -35.36126, 149.19970 -35.3...  "
      ]
     },
     "execution_count": 10,
     "metadata": {},
     "output_type": "execute_result"
    }
   ],
   "source": [
    "sa2_sf.head()"
   ]
  },
  {
   "cell_type": "code",
   "execution_count": 11,
   "metadata": {},
   "outputs": [],
   "source": [
    "sa2_sf = sa2_sf[['SA2_CODE21', 'geometry']]"
   ]
  },
  {
   "cell_type": "markdown",
   "metadata": {},
   "source": [
    "- SA2 population data"
   ]
  },
  {
   "cell_type": "code",
   "execution_count": 12,
   "metadata": {},
   "outputs": [],
   "source": [
    "sa2_data = pd.read_csv('../data/tables/external_SA2_data.csv')"
   ]
  },
  {
   "cell_type": "code",
   "execution_count": 13,
   "metadata": {},
   "outputs": [],
   "source": [
    "sa2_dt_head = sa2_data.loc[:4]\n",
    "sa2_dt = sa2_data.loc[5:]"
   ]
  },
  {
   "cell_type": "code",
   "execution_count": 14,
   "metadata": {},
   "outputs": [
    {
     "data": {
      "text/html": [
       "<div>\n",
       "<style scoped>\n",
       "    .dataframe tbody tr th:only-of-type {\n",
       "        vertical-align: middle;\n",
       "    }\n",
       "\n",
       "    .dataframe tbody tr th {\n",
       "        vertical-align: top;\n",
       "    }\n",
       "\n",
       "    .dataframe thead th {\n",
       "        text-align: right;\n",
       "    }\n",
       "</style>\n",
       "<table border=\"1\" class=\"dataframe\">\n",
       "  <thead>\n",
       "    <tr style=\"text-align: right;\">\n",
       "      <th></th>\n",
       "      <th>Unnamed: 0</th>\n",
       "      <th>Australian Bureau of Statistics</th>\n",
       "      <th>Unnamed: 1</th>\n",
       "      <th>Unnamed: 2</th>\n",
       "      <th>Unnamed: 3</th>\n",
       "      <th>Unnamed: 4</th>\n",
       "      <th>Unnamed: 5</th>\n",
       "      <th>Unnamed: 6</th>\n",
       "      <th>Unnamed: 7</th>\n",
       "      <th>Unnamed: 8</th>\n",
       "      <th>...</th>\n",
       "      <th>Unnamed: 27</th>\n",
       "      <th>Unnamed: 28</th>\n",
       "      <th>Unnamed: 29</th>\n",
       "      <th>Unnamed: 30</th>\n",
       "      <th>Unnamed: 31</th>\n",
       "      <th>Unnamed: 32</th>\n",
       "      <th>Unnamed: 33</th>\n",
       "      <th>Unnamed: 34</th>\n",
       "      <th>Unnamed: 35</th>\n",
       "      <th>Unnamed: 36</th>\n",
       "    </tr>\n",
       "  </thead>\n",
       "  <tbody>\n",
       "    <tr>\n",
       "      <th>5</th>\n",
       "      <td>5</td>\n",
       "      <td>NaN</td>\n",
       "      <td>NaN</td>\n",
       "      <td>NaN</td>\n",
       "      <td>NaN</td>\n",
       "      <td>NaN</td>\n",
       "      <td>NaN</td>\n",
       "      <td>NaN</td>\n",
       "      <td>NaN</td>\n",
       "      <td>NaN</td>\n",
       "      <td>...</td>\n",
       "      <td>2018</td>\n",
       "      <td>2019</td>\n",
       "      <td>2020</td>\n",
       "      <td>2021</td>\n",
       "      <td>NaN</td>\n",
       "      <td>2011-2021</td>\n",
       "      <td>NaN</td>\n",
       "      <td>NaN</td>\n",
       "      <td>Area</td>\n",
       "      <td>Population density 2021</td>\n",
       "    </tr>\n",
       "    <tr>\n",
       "      <th>6</th>\n",
       "      <td>6</td>\n",
       "      <td>S/T code</td>\n",
       "      <td>S/T name</td>\n",
       "      <td>GCCSA code</td>\n",
       "      <td>GCCSA name</td>\n",
       "      <td>SA4 code</td>\n",
       "      <td>SA4 name</td>\n",
       "      <td>SA3 code</td>\n",
       "      <td>SA3 name</td>\n",
       "      <td>SA2 code</td>\n",
       "      <td>...</td>\n",
       "      <td>no.</td>\n",
       "      <td>no.</td>\n",
       "      <td>no.</td>\n",
       "      <td>no.</td>\n",
       "      <td>NaN</td>\n",
       "      <td>no.</td>\n",
       "      <td>%</td>\n",
       "      <td>NaN</td>\n",
       "      <td>km2</td>\n",
       "      <td>persons/km2</td>\n",
       "    </tr>\n",
       "    <tr>\n",
       "      <th>7</th>\n",
       "      <td>7</td>\n",
       "      <td>NaN</td>\n",
       "      <td>NaN</td>\n",
       "      <td>NaN</td>\n",
       "      <td>NaN</td>\n",
       "      <td>NaN</td>\n",
       "      <td>NaN</td>\n",
       "      <td>NaN</td>\n",
       "      <td>NaN</td>\n",
       "      <td>NaN</td>\n",
       "      <td>...</td>\n",
       "      <td>NaN</td>\n",
       "      <td>NaN</td>\n",
       "      <td>NaN</td>\n",
       "      <td>NaN</td>\n",
       "      <td>NaN</td>\n",
       "      <td>NaN</td>\n",
       "      <td>NaN</td>\n",
       "      <td>NaN</td>\n",
       "      <td>NaN</td>\n",
       "      <td>NaN</td>\n",
       "    </tr>\n",
       "    <tr>\n",
       "      <th>8</th>\n",
       "      <td>8</td>\n",
       "      <td>1</td>\n",
       "      <td>New South Wales</td>\n",
       "      <td>1RNSW</td>\n",
       "      <td>Rest of NSW</td>\n",
       "      <td>101</td>\n",
       "      <td>Capital Region</td>\n",
       "      <td>10102</td>\n",
       "      <td>Queanbeyan</td>\n",
       "      <td>101021007</td>\n",
       "      <td>...</td>\n",
       "      <td>4140</td>\n",
       "      <td>4211</td>\n",
       "      <td>4273</td>\n",
       "      <td>4330</td>\n",
       "      <td>NaN</td>\n",
       "      <td>872</td>\n",
       "      <td>25.2</td>\n",
       "      <td>NaN</td>\n",
       "      <td>3418.4</td>\n",
       "      <td>1.3</td>\n",
       "    </tr>\n",
       "    <tr>\n",
       "      <th>9</th>\n",
       "      <td>9</td>\n",
       "      <td>1</td>\n",
       "      <td>New South Wales</td>\n",
       "      <td>1RNSW</td>\n",
       "      <td>Rest of NSW</td>\n",
       "      <td>101</td>\n",
       "      <td>Capital Region</td>\n",
       "      <td>10102</td>\n",
       "      <td>Queanbeyan</td>\n",
       "      <td>101021008</td>\n",
       "      <td>...</td>\n",
       "      <td>8507</td>\n",
       "      <td>8488</td>\n",
       "      <td>8519</td>\n",
       "      <td>8546</td>\n",
       "      <td>NaN</td>\n",
       "      <td>-546</td>\n",
       "      <td>-6</td>\n",
       "      <td>NaN</td>\n",
       "      <td>7</td>\n",
       "      <td>1223.9</td>\n",
       "    </tr>\n",
       "  </tbody>\n",
       "</table>\n",
       "<p>5 rows × 38 columns</p>\n",
       "</div>"
      ],
      "text/plain": [
       "   Unnamed: 0             Australian Bureau of Statistics       Unnamed: 1  \\\n",
       "5           5                                         NaN              NaN   \n",
       "6           6                                    S/T code         S/T name   \n",
       "7           7                                         NaN              NaN   \n",
       "8           8                                           1  New South Wales   \n",
       "9           9                                           1  New South Wales   \n",
       "\n",
       "   Unnamed: 2   Unnamed: 3 Unnamed: 4      Unnamed: 5 Unnamed: 6  Unnamed: 7  \\\n",
       "5         NaN          NaN        NaN             NaN        NaN         NaN   \n",
       "6  GCCSA code   GCCSA name   SA4 code        SA4 name   SA3 code    SA3 name   \n",
       "7         NaN          NaN        NaN             NaN        NaN         NaN   \n",
       "8       1RNSW  Rest of NSW        101  Capital Region      10102  Queanbeyan   \n",
       "9       1RNSW  Rest of NSW        101  Capital Region      10102  Queanbeyan   \n",
       "\n",
       "  Unnamed: 8  ... Unnamed: 27 Unnamed: 28 Unnamed: 29 Unnamed: 30 Unnamed: 31  \\\n",
       "5        NaN  ...        2018        2019        2020        2021         NaN   \n",
       "6   SA2 code  ...         no.         no.         no.         no.         NaN   \n",
       "7        NaN  ...         NaN         NaN         NaN         NaN         NaN   \n",
       "8  101021007  ...        4140        4211        4273        4330         NaN   \n",
       "9  101021008  ...        8507        8488        8519        8546         NaN   \n",
       "\n",
       "  Unnamed: 32 Unnamed: 33 Unnamed: 34 Unnamed: 35              Unnamed: 36  \n",
       "5   2011-2021         NaN         NaN        Area  Population density 2021  \n",
       "6         no.           %         NaN         km2              persons/km2  \n",
       "7         NaN         NaN         NaN         NaN                      NaN  \n",
       "8         872        25.2         NaN      3418.4                      1.3  \n",
       "9        -546          -6         NaN           7                   1223.9  \n",
       "\n",
       "[5 rows x 38 columns]"
      ]
     },
     "execution_count": 14,
     "metadata": {},
     "output_type": "execute_result"
    }
   ],
   "source": [
    "sa2_dt.head()"
   ]
  },
  {
   "cell_type": "code",
   "execution_count": 15,
   "metadata": {},
   "outputs": [
    {
     "data": {
      "text/html": [
       "<div>\n",
       "<style scoped>\n",
       "    .dataframe tbody tr th:only-of-type {\n",
       "        vertical-align: middle;\n",
       "    }\n",
       "\n",
       "    .dataframe tbody tr th {\n",
       "        vertical-align: top;\n",
       "    }\n",
       "\n",
       "    .dataframe thead th {\n",
       "        text-align: right;\n",
       "    }\n",
       "</style>\n",
       "<table border=\"1\" class=\"dataframe\">\n",
       "  <thead>\n",
       "    <tr style=\"text-align: right;\">\n",
       "      <th></th>\n",
       "      <th>Unnamed: 8</th>\n",
       "      <th>Unnamed: 29</th>\n",
       "      <th>Unnamed: 30</th>\n",
       "      <th>Unnamed: 35</th>\n",
       "    </tr>\n",
       "  </thead>\n",
       "  <tbody>\n",
       "    <tr>\n",
       "      <th>5</th>\n",
       "      <td>NaN</td>\n",
       "      <td>2020</td>\n",
       "      <td>2021</td>\n",
       "      <td>Area</td>\n",
       "    </tr>\n",
       "    <tr>\n",
       "      <th>6</th>\n",
       "      <td>SA2 code</td>\n",
       "      <td>no.</td>\n",
       "      <td>no.</td>\n",
       "      <td>km2</td>\n",
       "    </tr>\n",
       "    <tr>\n",
       "      <th>7</th>\n",
       "      <td>NaN</td>\n",
       "      <td>NaN</td>\n",
       "      <td>NaN</td>\n",
       "      <td>NaN</td>\n",
       "    </tr>\n",
       "    <tr>\n",
       "      <th>8</th>\n",
       "      <td>101021007</td>\n",
       "      <td>4273</td>\n",
       "      <td>4330</td>\n",
       "      <td>3418.4</td>\n",
       "    </tr>\n",
       "    <tr>\n",
       "      <th>9</th>\n",
       "      <td>101021008</td>\n",
       "      <td>8519</td>\n",
       "      <td>8546</td>\n",
       "      <td>7</td>\n",
       "    </tr>\n",
       "  </tbody>\n",
       "</table>\n",
       "</div>"
      ],
      "text/plain": [
       "  Unnamed: 8 Unnamed: 29 Unnamed: 30 Unnamed: 35\n",
       "5        NaN        2020        2021        Area\n",
       "6   SA2 code         no.         no.         km2\n",
       "7        NaN         NaN         NaN         NaN\n",
       "8  101021007        4273        4330      3418.4\n",
       "9  101021008        8519        8546           7"
      ]
     },
     "execution_count": 15,
     "metadata": {},
     "output_type": "execute_result"
    }
   ],
   "source": [
    "sa2_dt = sa2_dt[list(sa2_dt.columns)[9:10] + list(sa2_dt.columns)[30:32]+list(sa2_dt.columns)[36:37]]\n",
    "sa2_dt.head()"
   ]
  },
  {
   "cell_type": "code",
   "execution_count": 16,
   "metadata": {},
   "outputs": [
    {
     "data": {
      "text/plain": [
       "Unnamed: 8     2455\n",
       "Unnamed: 29    2457\n",
       "Unnamed: 30    2457\n",
       "Unnamed: 35    2457\n",
       "dtype: int64"
      ]
     },
     "execution_count": 16,
     "metadata": {},
     "output_type": "execute_result"
    }
   ],
   "source": [
    "sa2_dt.count()"
   ]
  },
  {
   "cell_type": "code",
   "execution_count": 17,
   "metadata": {},
   "outputs": [],
   "source": [
    "col_name1 = sa2_dt.iloc[:1].to_numpy().tolist()[0]\n",
    "col_name2 = sa2_dt.iloc[1:2].to_numpy().tolist()[0]\n",
    "origin_col = list(sa2_dt.columns)"
   ]
  },
  {
   "cell_type": "code",
   "execution_count": 18,
   "metadata": {},
   "outputs": [],
   "source": [
    "col_dict = defaultdict()\n",
    "for i in range(4):\n",
    "    if i == 0:\n",
    "        col_dict[origin_col[i]] = col_name2[i]\n",
    "    else:\n",
    "        col_dict[origin_col[i]] = col_name1[i] + '(' + str(col_name2[i]) + ')'"
   ]
  },
  {
   "cell_type": "code",
   "execution_count": 19,
   "metadata": {},
   "outputs": [
    {
     "data": {
      "text/plain": [
       "defaultdict(None,\n",
       "            {'Unnamed: 8': 'SA2 code',\n",
       "             'Unnamed: 29': '2020(no.)',\n",
       "             'Unnamed: 30': '2021(no.)',\n",
       "             'Unnamed: 35': 'Area(km2)'})"
      ]
     },
     "execution_count": 19,
     "metadata": {},
     "output_type": "execute_result"
    }
   ],
   "source": [
    "col_dict"
   ]
  },
  {
   "cell_type": "code",
   "execution_count": 20,
   "metadata": {},
   "outputs": [],
   "source": [
    "sa2_dt = sa2_dt.iloc[3:2457].reset_index(drop=True).rename(col_dict, axis=1)"
   ]
  },
  {
   "cell_type": "code",
   "execution_count": 21,
   "metadata": {},
   "outputs": [
    {
     "data": {
      "text/html": [
       "<div>\n",
       "<style scoped>\n",
       "    .dataframe tbody tr th:only-of-type {\n",
       "        vertical-align: middle;\n",
       "    }\n",
       "\n",
       "    .dataframe tbody tr th {\n",
       "        vertical-align: top;\n",
       "    }\n",
       "\n",
       "    .dataframe thead th {\n",
       "        text-align: right;\n",
       "    }\n",
       "</style>\n",
       "<table border=\"1\" class=\"dataframe\">\n",
       "  <thead>\n",
       "    <tr style=\"text-align: right;\">\n",
       "      <th></th>\n",
       "      <th>SA2 code</th>\n",
       "      <th>2020(no.)</th>\n",
       "      <th>2021(no.)</th>\n",
       "      <th>Area(km2)</th>\n",
       "    </tr>\n",
       "  </thead>\n",
       "  <tbody>\n",
       "    <tr>\n",
       "      <th>0</th>\n",
       "      <td>101021007</td>\n",
       "      <td>4273</td>\n",
       "      <td>4330</td>\n",
       "      <td>3418.4</td>\n",
       "    </tr>\n",
       "    <tr>\n",
       "      <th>1</th>\n",
       "      <td>101021008</td>\n",
       "      <td>8519</td>\n",
       "      <td>8546</td>\n",
       "      <td>7</td>\n",
       "    </tr>\n",
       "    <tr>\n",
       "      <th>2</th>\n",
       "      <td>101021009</td>\n",
       "      <td>11437</td>\n",
       "      <td>11370</td>\n",
       "      <td>4.8</td>\n",
       "    </tr>\n",
       "    <tr>\n",
       "      <th>3</th>\n",
       "      <td>101021010</td>\n",
       "      <td>5077</td>\n",
       "      <td>5093</td>\n",
       "      <td>13</td>\n",
       "    </tr>\n",
       "    <tr>\n",
       "      <th>4</th>\n",
       "      <td>101021012</td>\n",
       "      <td>12796</td>\n",
       "      <td>12743</td>\n",
       "      <td>13.7</td>\n",
       "    </tr>\n",
       "  </tbody>\n",
       "</table>\n",
       "</div>"
      ],
      "text/plain": [
       "    SA2 code 2020(no.) 2021(no.) Area(km2)\n",
       "0  101021007      4273      4330    3418.4\n",
       "1  101021008      8519      8546         7\n",
       "2  101021009     11437     11370       4.8\n",
       "3  101021010      5077      5093        13\n",
       "4  101021012     12796     12743      13.7"
      ]
     },
     "execution_count": 21,
     "metadata": {},
     "output_type": "execute_result"
    }
   ],
   "source": [
    "sa2_dt.head()"
   ]
  },
  {
   "cell_type": "markdown",
   "metadata": {},
   "source": [
    "### SA2 geo join with SA2 data"
   ]
  },
  {
   "cell_type": "code",
   "execution_count": 22,
   "metadata": {},
   "outputs": [
    {
     "data": {
      "text/html": [
       "<div>\n",
       "<style scoped>\n",
       "    .dataframe tbody tr th:only-of-type {\n",
       "        vertical-align: middle;\n",
       "    }\n",
       "\n",
       "    .dataframe tbody tr th {\n",
       "        vertical-align: top;\n",
       "    }\n",
       "\n",
       "    .dataframe thead th {\n",
       "        text-align: right;\n",
       "    }\n",
       "</style>\n",
       "<table border=\"1\" class=\"dataframe\">\n",
       "  <thead>\n",
       "    <tr style=\"text-align: right;\">\n",
       "      <th></th>\n",
       "      <th>SA2_CODE21</th>\n",
       "      <th>geometry</th>\n",
       "    </tr>\n",
       "  </thead>\n",
       "  <tbody>\n",
       "    <tr>\n",
       "      <th>0</th>\n",
       "      <td>101021007</td>\n",
       "      <td>POLYGON ((149.58424 -35.44426, 149.58444 -35.4...</td>\n",
       "    </tr>\n",
       "    <tr>\n",
       "      <th>1</th>\n",
       "      <td>101021008</td>\n",
       "      <td>POLYGON ((149.21899 -35.36738, 149.21800 -35.3...</td>\n",
       "    </tr>\n",
       "    <tr>\n",
       "      <th>2</th>\n",
       "      <td>101021009</td>\n",
       "      <td>POLYGON ((149.21326 -35.34325, 149.21619 -35.3...</td>\n",
       "    </tr>\n",
       "    <tr>\n",
       "      <th>3</th>\n",
       "      <td>101021010</td>\n",
       "      <td>POLYGON ((149.24034 -35.34781, 149.24024 -35.3...</td>\n",
       "    </tr>\n",
       "    <tr>\n",
       "      <th>4</th>\n",
       "      <td>101021012</td>\n",
       "      <td>POLYGON ((149.19572 -35.36126, 149.19970 -35.3...</td>\n",
       "    </tr>\n",
       "  </tbody>\n",
       "</table>\n",
       "</div>"
      ],
      "text/plain": [
       "  SA2_CODE21                                           geometry\n",
       "0  101021007  POLYGON ((149.58424 -35.44426, 149.58444 -35.4...\n",
       "1  101021008  POLYGON ((149.21899 -35.36738, 149.21800 -35.3...\n",
       "2  101021009  POLYGON ((149.21326 -35.34325, 149.21619 -35.3...\n",
       "3  101021010  POLYGON ((149.24034 -35.34781, 149.24024 -35.3...\n",
       "4  101021012  POLYGON ((149.19572 -35.36126, 149.19970 -35.3..."
      ]
     },
     "execution_count": 22,
     "metadata": {},
     "output_type": "execute_result"
    }
   ],
   "source": [
    "sa2_sf.head()"
   ]
  },
  {
   "cell_type": "code",
   "execution_count": 23,
   "metadata": {},
   "outputs": [
    {
     "data": {
      "text/plain": [
       "SA2 code     2454\n",
       "2020(no.)    2454\n",
       "2021(no.)    2454\n",
       "Area(km2)    2454\n",
       "dtype: int64"
      ]
     },
     "execution_count": 23,
     "metadata": {},
     "output_type": "execute_result"
    }
   ],
   "source": [
    "sa2_dt.count()"
   ]
  },
  {
   "cell_type": "code",
   "execution_count": 24,
   "metadata": {},
   "outputs": [
    {
     "data": {
      "text/plain": [
       "SA2_CODE21    2473\n",
       "geometry      2454\n",
       "dtype: int64"
      ]
     },
     "execution_count": 24,
     "metadata": {},
     "output_type": "execute_result"
    }
   ],
   "source": [
    "sa2_sf.count()"
   ]
  },
  {
   "cell_type": "code",
   "execution_count": 25,
   "metadata": {},
   "outputs": [
    {
     "data": {
      "text/plain": [
       "SA2_CODE21    2454\n",
       "geometry      2454\n",
       "dtype: int64"
      ]
     },
     "execution_count": 25,
     "metadata": {},
     "output_type": "execute_result"
    }
   ],
   "source": [
    "sa2_sf = sa2_sf.dropna()\n",
    "sa2_dt = sa2_dt.reset_index(drop=True)\n",
    "sa2_sf.count()"
   ]
  },
  {
   "cell_type": "code",
   "execution_count": 26,
   "metadata": {},
   "outputs": [],
   "source": [
    "sa2 = pd.merge( sa2_sf, sa2_dt, left_on='SA2_CODE21', right_on='SA2 code', how='inner').drop('SA2 code', axis=1)"
   ]
  },
  {
   "cell_type": "code",
   "execution_count": 27,
   "metadata": {},
   "outputs": [
    {
     "data": {
      "text/html": [
       "<div>\n",
       "<style scoped>\n",
       "    .dataframe tbody tr th:only-of-type {\n",
       "        vertical-align: middle;\n",
       "    }\n",
       "\n",
       "    .dataframe tbody tr th {\n",
       "        vertical-align: top;\n",
       "    }\n",
       "\n",
       "    .dataframe thead th {\n",
       "        text-align: right;\n",
       "    }\n",
       "</style>\n",
       "<table border=\"1\" class=\"dataframe\">\n",
       "  <thead>\n",
       "    <tr style=\"text-align: right;\">\n",
       "      <th></th>\n",
       "      <th>SA2_CODE21</th>\n",
       "      <th>geometry</th>\n",
       "      <th>2020(no.)</th>\n",
       "      <th>2021(no.)</th>\n",
       "      <th>Area(km2)</th>\n",
       "    </tr>\n",
       "  </thead>\n",
       "  <tbody>\n",
       "    <tr>\n",
       "      <th>0</th>\n",
       "      <td>101021007</td>\n",
       "      <td>POLYGON ((149.58424 -35.44426, 149.58444 -35.4...</td>\n",
       "      <td>4273</td>\n",
       "      <td>4330</td>\n",
       "      <td>3418.4</td>\n",
       "    </tr>\n",
       "    <tr>\n",
       "      <th>1</th>\n",
       "      <td>101021008</td>\n",
       "      <td>POLYGON ((149.21899 -35.36738, 149.21800 -35.3...</td>\n",
       "      <td>8519</td>\n",
       "      <td>8546</td>\n",
       "      <td>7</td>\n",
       "    </tr>\n",
       "    <tr>\n",
       "      <th>2</th>\n",
       "      <td>101021009</td>\n",
       "      <td>POLYGON ((149.21326 -35.34325, 149.21619 -35.3...</td>\n",
       "      <td>11437</td>\n",
       "      <td>11370</td>\n",
       "      <td>4.8</td>\n",
       "    </tr>\n",
       "    <tr>\n",
       "      <th>3</th>\n",
       "      <td>101021010</td>\n",
       "      <td>POLYGON ((149.24034 -35.34781, 149.24024 -35.3...</td>\n",
       "      <td>5077</td>\n",
       "      <td>5093</td>\n",
       "      <td>13</td>\n",
       "    </tr>\n",
       "    <tr>\n",
       "      <th>4</th>\n",
       "      <td>101021012</td>\n",
       "      <td>POLYGON ((149.19572 -35.36126, 149.19970 -35.3...</td>\n",
       "      <td>12796</td>\n",
       "      <td>12743</td>\n",
       "      <td>13.7</td>\n",
       "    </tr>\n",
       "  </tbody>\n",
       "</table>\n",
       "</div>"
      ],
      "text/plain": [
       "  SA2_CODE21                                           geometry 2020(no.)  \\\n",
       "0  101021007  POLYGON ((149.58424 -35.44426, 149.58444 -35.4...      4273   \n",
       "1  101021008  POLYGON ((149.21899 -35.36738, 149.21800 -35.3...      8519   \n",
       "2  101021009  POLYGON ((149.21326 -35.34325, 149.21619 -35.3...     11437   \n",
       "3  101021010  POLYGON ((149.24034 -35.34781, 149.24024 -35.3...      5077   \n",
       "4  101021012  POLYGON ((149.19572 -35.36126, 149.19970 -35.3...     12796   \n",
       "\n",
       "  2021(no.) Area(km2)  \n",
       "0      4330    3418.4  \n",
       "1      8546         7  \n",
       "2     11370       4.8  \n",
       "3      5093        13  \n",
       "4     12743      13.7  "
      ]
     },
     "execution_count": 27,
     "metadata": {},
     "output_type": "execute_result"
    }
   ],
   "source": [
    "sa2.head()"
   ]
  },
  {
   "cell_type": "markdown",
   "metadata": {},
   "source": [
    "### geo intersection"
   ]
  },
  {
   "cell_type": "code",
   "execution_count": 28,
   "metadata": {},
   "outputs": [
    {
     "data": {
      "text/html": [
       "<div>\n",
       "<style scoped>\n",
       "    .dataframe tbody tr th:only-of-type {\n",
       "        vertical-align: middle;\n",
       "    }\n",
       "\n",
       "    .dataframe tbody tr th {\n",
       "        vertical-align: top;\n",
       "    }\n",
       "\n",
       "    .dataframe thead th {\n",
       "        text-align: right;\n",
       "    }\n",
       "</style>\n",
       "<table border=\"1\" class=\"dataframe\">\n",
       "  <thead>\n",
       "    <tr style=\"text-align: right;\">\n",
       "      <th></th>\n",
       "      <th>SA2_CODE21</th>\n",
       "      <th>geometry</th>\n",
       "      <th>2020(no.)</th>\n",
       "      <th>2021(no.)</th>\n",
       "      <th>Area(km2)</th>\n",
       "    </tr>\n",
       "  </thead>\n",
       "  <tbody>\n",
       "    <tr>\n",
       "      <th>0</th>\n",
       "      <td>101021007</td>\n",
       "      <td>POLYGON ((149.58424 -35.44426, 149.58444 -35.4...</td>\n",
       "      <td>4273</td>\n",
       "      <td>4330</td>\n",
       "      <td>3418.4</td>\n",
       "    </tr>\n",
       "    <tr>\n",
       "      <th>1</th>\n",
       "      <td>101021008</td>\n",
       "      <td>POLYGON ((149.21899 -35.36738, 149.21800 -35.3...</td>\n",
       "      <td>8519</td>\n",
       "      <td>8546</td>\n",
       "      <td>7</td>\n",
       "    </tr>\n",
       "    <tr>\n",
       "      <th>2</th>\n",
       "      <td>101021009</td>\n",
       "      <td>POLYGON ((149.21326 -35.34325, 149.21619 -35.3...</td>\n",
       "      <td>11437</td>\n",
       "      <td>11370</td>\n",
       "      <td>4.8</td>\n",
       "    </tr>\n",
       "    <tr>\n",
       "      <th>3</th>\n",
       "      <td>101021010</td>\n",
       "      <td>POLYGON ((149.24034 -35.34781, 149.24024 -35.3...</td>\n",
       "      <td>5077</td>\n",
       "      <td>5093</td>\n",
       "      <td>13</td>\n",
       "    </tr>\n",
       "    <tr>\n",
       "      <th>4</th>\n",
       "      <td>101021012</td>\n",
       "      <td>POLYGON ((149.19572 -35.36126, 149.19970 -35.3...</td>\n",
       "      <td>12796</td>\n",
       "      <td>12743</td>\n",
       "      <td>13.7</td>\n",
       "    </tr>\n",
       "  </tbody>\n",
       "</table>\n",
       "</div>"
      ],
      "text/plain": [
       "  SA2_CODE21                                           geometry  2020(no.)  \\\n",
       "0  101021007  POLYGON ((149.58424 -35.44426, 149.58444 -35.4...       4273   \n",
       "1  101021008  POLYGON ((149.21899 -35.36738, 149.21800 -35.3...       8519   \n",
       "2  101021009  POLYGON ((149.21326 -35.34325, 149.21619 -35.3...      11437   \n",
       "3  101021010  POLYGON ((149.24034 -35.34781, 149.24024 -35.3...       5077   \n",
       "4  101021012  POLYGON ((149.19572 -35.36126, 149.19970 -35.3...      12796   \n",
       "\n",
       "   2021(no.) Area(km2)  \n",
       "0       4330    3418.4  \n",
       "1       8546         7  \n",
       "2      11370       4.8  \n",
       "3       5093        13  \n",
       "4      12743      13.7  "
      ]
     },
     "execution_count": 28,
     "metadata": {},
     "output_type": "execute_result"
    }
   ],
   "source": [
    "sa2['2020(no.)'] = sa2['2020(no.)'].astype('int')\n",
    "sa2['2021(no.)'] = sa2['2021(no.)'].astype('int')\n",
    "sa2.head()"
   ]
  },
  {
   "cell_type": "code",
   "execution_count": 29,
   "metadata": {},
   "outputs": [
    {
     "data": {
      "text/html": [
       "<div>\n",
       "<style scoped>\n",
       "    .dataframe tbody tr th:only-of-type {\n",
       "        vertical-align: middle;\n",
       "    }\n",
       "\n",
       "    .dataframe tbody tr th {\n",
       "        vertical-align: top;\n",
       "    }\n",
       "\n",
       "    .dataframe thead th {\n",
       "        text-align: right;\n",
       "    }\n",
       "</style>\n",
       "<table border=\"1\" class=\"dataframe\">\n",
       "  <thead>\n",
       "    <tr style=\"text-align: right;\">\n",
       "      <th></th>\n",
       "      <th>POA_CODE21</th>\n",
       "      <th>geometry</th>\n",
       "    </tr>\n",
       "  </thead>\n",
       "  <tbody>\n",
       "    <tr>\n",
       "      <th>0</th>\n",
       "      <td>0800</td>\n",
       "      <td>POLYGON ((130.83681 -12.45376, 130.83684 -12.4...</td>\n",
       "    </tr>\n",
       "    <tr>\n",
       "      <th>1</th>\n",
       "      <td>0810</td>\n",
       "      <td>POLYGON ((130.89986 -12.36567, 130.89875 -12.3...</td>\n",
       "    </tr>\n",
       "    <tr>\n",
       "      <th>2</th>\n",
       "      <td>0812</td>\n",
       "      <td>POLYGON ((130.91915 -12.40786, 130.91831 -12.4...</td>\n",
       "    </tr>\n",
       "    <tr>\n",
       "      <th>3</th>\n",
       "      <td>0820</td>\n",
       "      <td>POLYGON ((130.85260 -12.43994, 130.85089 -12.4...</td>\n",
       "    </tr>\n",
       "    <tr>\n",
       "      <th>4</th>\n",
       "      <td>0822</td>\n",
       "      <td>MULTIPOLYGON (((136.56648 -12.08392, 136.56704...</td>\n",
       "    </tr>\n",
       "  </tbody>\n",
       "</table>\n",
       "</div>"
      ],
      "text/plain": [
       "  POA_CODE21                                           geometry\n",
       "0       0800  POLYGON ((130.83681 -12.45376, 130.83684 -12.4...\n",
       "1       0810  POLYGON ((130.89986 -12.36567, 130.89875 -12.3...\n",
       "2       0812  POLYGON ((130.91915 -12.40786, 130.91831 -12.4...\n",
       "3       0820  POLYGON ((130.85260 -12.43994, 130.85089 -12.4...\n",
       "4       0822  MULTIPOLYGON (((136.56648 -12.08392, 136.56704..."
      ]
     },
     "execution_count": 29,
     "metadata": {},
     "output_type": "execute_result"
    }
   ],
   "source": [
    "poa_gdf.head()"
   ]
  },
  {
   "cell_type": "code",
   "execution_count": 30,
   "metadata": {},
   "outputs": [
    {
     "data": {
      "text/plain": [
       "4273"
      ]
     },
     "execution_count": 30,
     "metadata": {},
     "output_type": "execute_result"
    }
   ],
   "source": [
    "sa2.iloc[0]['2020(no.)']"
   ]
  },
  {
   "cell_type": "code",
   "execution_count": 31,
   "metadata": {},
   "outputs": [],
   "source": [
    "def check_for_population(geom, sa2_gdf=sa2):\n",
    "    total_area = geom.area\n",
    "    sum_2020 = 0\n",
    "    sum_2021 = 0\n",
    "    for i in range(len(sa2)):\n",
    "        if (total_area>0 and geom.intersects(sa2.iloc[i].geometry) == True):\n",
    "            current_area = geom.intersection(sa2.iloc[i].geometry).area\n",
    "            total_area -= current_area\n",
    "            proportion = current_area / sa2.iloc[i].geometry.area\n",
    "            sum_2020 += sa2.iloc[i]['2020(no.)']*proportion\n",
    "            sum_2021 += sa2.iloc[i]['2021(no.)']*proportion\n",
    "            # print(sum_2020, sum_2021, proportion, sa2.iloc[i]['2020(no.)'])\n",
    "    return sum_2020, sum_2021\n"
   ]
  },
  {
   "cell_type": "code",
   "execution_count": 32,
   "metadata": {},
   "outputs": [
    {
     "name": "stdout",
     "output_type": "stream",
     "text": [
      "0\n",
      "25\n",
      "50\n",
      "75\n",
      "100\n",
      "125\n",
      "150\n",
      "175\n",
      "200\n",
      "225\n",
      "250\n",
      "275\n",
      "300\n",
      "325\n",
      "350\n",
      "375\n"
     ]
    },
    {
     "ename": "KeyboardInterrupt",
     "evalue": "",
     "output_type": "error",
     "traceback": [
      "\u001b[0;31m---------------------------------------------------------------------------\u001b[0m",
      "\u001b[0;31mKeyboardInterrupt\u001b[0m                         Traceback (most recent call last)",
      "\u001b[0;32m/var/folders/px/8f9gkhvs7wnf17_m27m6s_fc0000gn/T/ipykernel_42192/1232155444.py\u001b[0m in \u001b[0;36m<module>\u001b[0;34m\u001b[0m\n\u001b[1;32m      5\u001b[0m         \u001b[0mprint\u001b[0m\u001b[0;34m(\u001b[0m\u001b[0mi\u001b[0m\u001b[0;34m)\u001b[0m\u001b[0;34m\u001b[0m\u001b[0;34m\u001b[0m\u001b[0m\n\u001b[1;32m      6\u001b[0m     \u001b[0mtemp\u001b[0m \u001b[0;34m=\u001b[0m \u001b[0mpoa_gdf\u001b[0m\u001b[0;34m.\u001b[0m\u001b[0miloc\u001b[0m\u001b[0;34m[\u001b[0m\u001b[0mi\u001b[0m\u001b[0;34m]\u001b[0m\u001b[0;34m\u001b[0m\u001b[0;34m\u001b[0m\u001b[0m\n\u001b[0;32m----> 7\u001b[0;31m     \u001b[0msum_2020\u001b[0m\u001b[0;34m,\u001b[0m \u001b[0msum_2021\u001b[0m \u001b[0;34m=\u001b[0m \u001b[0mcheck_for_population\u001b[0m\u001b[0;34m(\u001b[0m\u001b[0mtemp\u001b[0m\u001b[0;34m.\u001b[0m\u001b[0mgeometry\u001b[0m\u001b[0;34m)\u001b[0m\u001b[0;34m\u001b[0m\u001b[0;34m\u001b[0m\u001b[0m\n\u001b[0m\u001b[1;32m      8\u001b[0m     \u001b[0mpoa_gdf\u001b[0m\u001b[0;34m.\u001b[0m\u001b[0miloc\u001b[0m\u001b[0;34m[\u001b[0m\u001b[0mi\u001b[0m\u001b[0;34m,\u001b[0m\u001b[0;36m2\u001b[0m\u001b[0;34m]\u001b[0m\u001b[0;34m=\u001b[0m\u001b[0msum_2020\u001b[0m\u001b[0;34m\u001b[0m\u001b[0;34m\u001b[0m\u001b[0m\n\u001b[1;32m      9\u001b[0m     \u001b[0mpoa_gdf\u001b[0m\u001b[0;34m.\u001b[0m\u001b[0miloc\u001b[0m\u001b[0;34m[\u001b[0m\u001b[0mi\u001b[0m\u001b[0;34m,\u001b[0m\u001b[0;36m3\u001b[0m\u001b[0;34m]\u001b[0m\u001b[0;34m=\u001b[0m\u001b[0msum_2021\u001b[0m\u001b[0;34m\u001b[0m\u001b[0;34m\u001b[0m\u001b[0m\n",
      "\u001b[0;32m/var/folders/px/8f9gkhvs7wnf17_m27m6s_fc0000gn/T/ipykernel_42192/1954747320.py\u001b[0m in \u001b[0;36mcheck_for_population\u001b[0;34m(geom, sa2_gdf)\u001b[0m\n\u001b[1;32m      4\u001b[0m     \u001b[0msum_2021\u001b[0m \u001b[0;34m=\u001b[0m \u001b[0;36m0\u001b[0m\u001b[0;34m\u001b[0m\u001b[0;34m\u001b[0m\u001b[0m\n\u001b[1;32m      5\u001b[0m     \u001b[0;32mfor\u001b[0m \u001b[0mi\u001b[0m \u001b[0;32min\u001b[0m \u001b[0mrange\u001b[0m\u001b[0;34m(\u001b[0m\u001b[0mlen\u001b[0m\u001b[0;34m(\u001b[0m\u001b[0msa2\u001b[0m\u001b[0;34m)\u001b[0m\u001b[0;34m)\u001b[0m\u001b[0;34m:\u001b[0m\u001b[0;34m\u001b[0m\u001b[0;34m\u001b[0m\u001b[0m\n\u001b[0;32m----> 6\u001b[0;31m         \u001b[0;32mif\u001b[0m \u001b[0;34m(\u001b[0m\u001b[0mtotal_area\u001b[0m\u001b[0;34m>\u001b[0m\u001b[0;36m0\u001b[0m \u001b[0;32mand\u001b[0m \u001b[0mgeom\u001b[0m\u001b[0;34m.\u001b[0m\u001b[0mintersects\u001b[0m\u001b[0;34m(\u001b[0m\u001b[0msa2\u001b[0m\u001b[0;34m.\u001b[0m\u001b[0miloc\u001b[0m\u001b[0;34m[\u001b[0m\u001b[0mi\u001b[0m\u001b[0;34m]\u001b[0m\u001b[0;34m.\u001b[0m\u001b[0mgeometry\u001b[0m\u001b[0;34m)\u001b[0m \u001b[0;34m==\u001b[0m \u001b[0;32mTrue\u001b[0m\u001b[0;34m)\u001b[0m\u001b[0;34m:\u001b[0m\u001b[0;34m\u001b[0m\u001b[0;34m\u001b[0m\u001b[0m\n\u001b[0m\u001b[1;32m      7\u001b[0m             \u001b[0mcurrent_area\u001b[0m \u001b[0;34m=\u001b[0m \u001b[0mgeom\u001b[0m\u001b[0;34m.\u001b[0m\u001b[0mintersection\u001b[0m\u001b[0;34m(\u001b[0m\u001b[0msa2\u001b[0m\u001b[0;34m.\u001b[0m\u001b[0miloc\u001b[0m\u001b[0;34m[\u001b[0m\u001b[0mi\u001b[0m\u001b[0;34m]\u001b[0m\u001b[0;34m.\u001b[0m\u001b[0mgeometry\u001b[0m\u001b[0;34m)\u001b[0m\u001b[0;34m.\u001b[0m\u001b[0marea\u001b[0m\u001b[0;34m\u001b[0m\u001b[0;34m\u001b[0m\u001b[0m\n\u001b[1;32m      8\u001b[0m             \u001b[0mtotal_area\u001b[0m \u001b[0;34m-=\u001b[0m \u001b[0mcurrent_area\u001b[0m\u001b[0;34m\u001b[0m\u001b[0;34m\u001b[0m\u001b[0m\n",
      "\u001b[0;32m/Library/Frameworks/Python.framework/Versions/3.7/lib/python3.7/site-packages/pandas/core/indexing.py\u001b[0m in \u001b[0;36m__getitem__\u001b[0;34m(self, key)\u001b[0m\n\u001b[1;32m    929\u001b[0m \u001b[0;34m\u001b[0m\u001b[0m\n\u001b[1;32m    930\u001b[0m             \u001b[0mmaybe_callable\u001b[0m \u001b[0;34m=\u001b[0m \u001b[0mcom\u001b[0m\u001b[0;34m.\u001b[0m\u001b[0mapply_if_callable\u001b[0m\u001b[0;34m(\u001b[0m\u001b[0mkey\u001b[0m\u001b[0;34m,\u001b[0m \u001b[0mself\u001b[0m\u001b[0;34m.\u001b[0m\u001b[0mobj\u001b[0m\u001b[0;34m)\u001b[0m\u001b[0;34m\u001b[0m\u001b[0;34m\u001b[0m\u001b[0m\n\u001b[0;32m--> 931\u001b[0;31m             \u001b[0;32mreturn\u001b[0m \u001b[0mself\u001b[0m\u001b[0;34m.\u001b[0m\u001b[0m_getitem_axis\u001b[0m\u001b[0;34m(\u001b[0m\u001b[0mmaybe_callable\u001b[0m\u001b[0;34m,\u001b[0m \u001b[0maxis\u001b[0m\u001b[0;34m=\u001b[0m\u001b[0maxis\u001b[0m\u001b[0;34m)\u001b[0m\u001b[0;34m\u001b[0m\u001b[0;34m\u001b[0m\u001b[0m\n\u001b[0m\u001b[1;32m    932\u001b[0m \u001b[0;34m\u001b[0m\u001b[0m\n\u001b[1;32m    933\u001b[0m     \u001b[0;32mdef\u001b[0m \u001b[0m_is_scalar_access\u001b[0m\u001b[0;34m(\u001b[0m\u001b[0mself\u001b[0m\u001b[0;34m,\u001b[0m \u001b[0mkey\u001b[0m\u001b[0;34m:\u001b[0m \u001b[0mtuple\u001b[0m\u001b[0;34m)\u001b[0m\u001b[0;34m:\u001b[0m\u001b[0;34m\u001b[0m\u001b[0;34m\u001b[0m\u001b[0m\n",
      "\u001b[0;32m/Library/Frameworks/Python.framework/Versions/3.7/lib/python3.7/site-packages/pandas/core/indexing.py\u001b[0m in \u001b[0;36m_getitem_axis\u001b[0;34m(self, key, axis)\u001b[0m\n\u001b[1;32m   1566\u001b[0m             \u001b[0mself\u001b[0m\u001b[0;34m.\u001b[0m\u001b[0m_validate_integer\u001b[0m\u001b[0;34m(\u001b[0m\u001b[0mkey\u001b[0m\u001b[0;34m,\u001b[0m \u001b[0maxis\u001b[0m\u001b[0;34m)\u001b[0m\u001b[0;34m\u001b[0m\u001b[0;34m\u001b[0m\u001b[0m\n\u001b[1;32m   1567\u001b[0m \u001b[0;34m\u001b[0m\u001b[0m\n\u001b[0;32m-> 1568\u001b[0;31m             \u001b[0;32mreturn\u001b[0m \u001b[0mself\u001b[0m\u001b[0;34m.\u001b[0m\u001b[0mobj\u001b[0m\u001b[0;34m.\u001b[0m\u001b[0m_ixs\u001b[0m\u001b[0;34m(\u001b[0m\u001b[0mkey\u001b[0m\u001b[0;34m,\u001b[0m \u001b[0maxis\u001b[0m\u001b[0;34m=\u001b[0m\u001b[0maxis\u001b[0m\u001b[0;34m)\u001b[0m\u001b[0;34m\u001b[0m\u001b[0;34m\u001b[0m\u001b[0m\n\u001b[0m\u001b[1;32m   1569\u001b[0m \u001b[0;34m\u001b[0m\u001b[0m\n\u001b[1;32m   1570\u001b[0m     \u001b[0;32mdef\u001b[0m \u001b[0m_get_slice_axis\u001b[0m\u001b[0;34m(\u001b[0m\u001b[0mself\u001b[0m\u001b[0;34m,\u001b[0m \u001b[0mslice_obj\u001b[0m\u001b[0;34m:\u001b[0m \u001b[0mslice\u001b[0m\u001b[0;34m,\u001b[0m \u001b[0maxis\u001b[0m\u001b[0;34m:\u001b[0m \u001b[0mint\u001b[0m\u001b[0;34m)\u001b[0m\u001b[0;34m:\u001b[0m\u001b[0;34m\u001b[0m\u001b[0;34m\u001b[0m\u001b[0m\n",
      "\u001b[0;32m/Library/Frameworks/Python.framework/Versions/3.7/lib/python3.7/site-packages/pandas/core/frame.py\u001b[0m in \u001b[0;36m_ixs\u001b[0;34m(self, i, axis)\u001b[0m\n\u001b[1;32m   3377\u001b[0m         \u001b[0;31m# irow\u001b[0m\u001b[0;34m\u001b[0m\u001b[0;34m\u001b[0m\u001b[0;34m\u001b[0m\u001b[0m\n\u001b[1;32m   3378\u001b[0m         \u001b[0;32mif\u001b[0m \u001b[0maxis\u001b[0m \u001b[0;34m==\u001b[0m \u001b[0;36m0\u001b[0m\u001b[0;34m:\u001b[0m\u001b[0;34m\u001b[0m\u001b[0;34m\u001b[0m\u001b[0m\n\u001b[0;32m-> 3379\u001b[0;31m             \u001b[0mnew_values\u001b[0m \u001b[0;34m=\u001b[0m \u001b[0mself\u001b[0m\u001b[0;34m.\u001b[0m\u001b[0m_mgr\u001b[0m\u001b[0;34m.\u001b[0m\u001b[0mfast_xs\u001b[0m\u001b[0;34m(\u001b[0m\u001b[0mi\u001b[0m\u001b[0;34m)\u001b[0m\u001b[0;34m\u001b[0m\u001b[0;34m\u001b[0m\u001b[0m\n\u001b[0m\u001b[1;32m   3380\u001b[0m \u001b[0;34m\u001b[0m\u001b[0m\n\u001b[1;32m   3381\u001b[0m             \u001b[0;31m# if we are a copy, mark as such\u001b[0m\u001b[0;34m\u001b[0m\u001b[0;34m\u001b[0m\u001b[0;34m\u001b[0m\u001b[0m\n",
      "\u001b[0;32m/Library/Frameworks/Python.framework/Versions/3.7/lib/python3.7/site-packages/pandas/core/internals/managers.py\u001b[0m in \u001b[0;36mfast_xs\u001b[0;34m(self, loc)\u001b[0m\n\u001b[1;32m    968\u001b[0m             \u001b[0;31m# result[blk.mgr_locs] = blk._slice((slice(None), loc))\u001b[0m\u001b[0;34m\u001b[0m\u001b[0;34m\u001b[0m\u001b[0;34m\u001b[0m\u001b[0m\n\u001b[1;32m    969\u001b[0m             \u001b[0;32mfor\u001b[0m \u001b[0mi\u001b[0m\u001b[0;34m,\u001b[0m \u001b[0mrl\u001b[0m \u001b[0;32min\u001b[0m \u001b[0menumerate\u001b[0m\u001b[0;34m(\u001b[0m\u001b[0mblk\u001b[0m\u001b[0;34m.\u001b[0m\u001b[0mmgr_locs\u001b[0m\u001b[0;34m)\u001b[0m\u001b[0;34m:\u001b[0m\u001b[0;34m\u001b[0m\u001b[0;34m\u001b[0m\u001b[0m\n\u001b[0;32m--> 970\u001b[0;31m                 \u001b[0mresult\u001b[0m\u001b[0;34m[\u001b[0m\u001b[0mrl\u001b[0m\u001b[0;34m]\u001b[0m \u001b[0;34m=\u001b[0m \u001b[0mblk\u001b[0m\u001b[0;34m.\u001b[0m\u001b[0miget\u001b[0m\u001b[0;34m(\u001b[0m\u001b[0;34m(\u001b[0m\u001b[0mi\u001b[0m\u001b[0;34m,\u001b[0m \u001b[0mloc\u001b[0m\u001b[0;34m)\u001b[0m\u001b[0;34m)\u001b[0m\u001b[0;34m\u001b[0m\u001b[0;34m\u001b[0m\u001b[0m\n\u001b[0m\u001b[1;32m    971\u001b[0m \u001b[0;34m\u001b[0m\u001b[0m\n\u001b[1;32m    972\u001b[0m         \u001b[0;32mif\u001b[0m \u001b[0misinstance\u001b[0m\u001b[0;34m(\u001b[0m\u001b[0mdtype\u001b[0m\u001b[0;34m,\u001b[0m \u001b[0mExtensionDtype\u001b[0m\u001b[0;34m)\u001b[0m\u001b[0;34m:\u001b[0m\u001b[0;34m\u001b[0m\u001b[0;34m\u001b[0m\u001b[0m\n",
      "\u001b[0;32m/Library/Frameworks/Python.framework/Versions/3.7/lib/python3.7/site-packages/pandas/core/internals/blocks.py\u001b[0m in \u001b[0;36miget\u001b[0;34m(self, col)\u001b[0m\n\u001b[1;32m   1407\u001b[0m                     \u001b[0;32mraise\u001b[0m \u001b[0mNotImplementedError\u001b[0m\u001b[0;34m(\u001b[0m\u001b[0mcol\u001b[0m\u001b[0;34m)\u001b[0m\u001b[0;34m\u001b[0m\u001b[0;34m\u001b[0m\u001b[0m\n\u001b[1;32m   1408\u001b[0m                 \u001b[0;32mreturn\u001b[0m \u001b[0mself\u001b[0m\u001b[0;34m.\u001b[0m\u001b[0mvalues\u001b[0m\u001b[0;34m[\u001b[0m\u001b[0;34m[\u001b[0m\u001b[0mloc\u001b[0m\u001b[0;34m]\u001b[0m\u001b[0;34m]\u001b[0m\u001b[0;34m\u001b[0m\u001b[0;34m\u001b[0m\u001b[0m\n\u001b[0;32m-> 1409\u001b[0;31m             \u001b[0;32mreturn\u001b[0m \u001b[0mself\u001b[0m\u001b[0;34m.\u001b[0m\u001b[0mvalues\u001b[0m\u001b[0;34m[\u001b[0m\u001b[0mloc\u001b[0m\u001b[0;34m]\u001b[0m\u001b[0;34m\u001b[0m\u001b[0;34m\u001b[0m\u001b[0m\n\u001b[0m\u001b[1;32m   1410\u001b[0m         \u001b[0;32melse\u001b[0m\u001b[0;34m:\u001b[0m\u001b[0;34m\u001b[0m\u001b[0;34m\u001b[0m\u001b[0m\n\u001b[1;32m   1411\u001b[0m             \u001b[0;32mif\u001b[0m \u001b[0mcol\u001b[0m \u001b[0;34m!=\u001b[0m \u001b[0;36m0\u001b[0m\u001b[0;34m:\u001b[0m\u001b[0;34m\u001b[0m\u001b[0;34m\u001b[0m\u001b[0m\n",
      "\u001b[0;32m/Library/Frameworks/Python.framework/Versions/3.7/lib/python3.7/site-packages/geopandas/array.py\u001b[0m in \u001b[0;36m__getitem__\u001b[0;34m(self, idx)\u001b[0m\n\u001b[1;32m    358\u001b[0m     \u001b[0;32mdef\u001b[0m \u001b[0m__getitem__\u001b[0m\u001b[0;34m(\u001b[0m\u001b[0mself\u001b[0m\u001b[0;34m,\u001b[0m \u001b[0midx\u001b[0m\u001b[0;34m)\u001b[0m\u001b[0;34m:\u001b[0m\u001b[0;34m\u001b[0m\u001b[0;34m\u001b[0m\u001b[0m\n\u001b[1;32m    359\u001b[0m         \u001b[0;32mif\u001b[0m \u001b[0misinstance\u001b[0m\u001b[0;34m(\u001b[0m\u001b[0midx\u001b[0m\u001b[0;34m,\u001b[0m \u001b[0mnumbers\u001b[0m\u001b[0;34m.\u001b[0m\u001b[0mIntegral\u001b[0m\u001b[0;34m)\u001b[0m\u001b[0;34m:\u001b[0m\u001b[0;34m\u001b[0m\u001b[0;34m\u001b[0m\u001b[0m\n\u001b[0;32m--> 360\u001b[0;31m             \u001b[0;32mreturn\u001b[0m \u001b[0m_geom_to_shapely\u001b[0m\u001b[0;34m(\u001b[0m\u001b[0mself\u001b[0m\u001b[0;34m.\u001b[0m\u001b[0mdata\u001b[0m\u001b[0;34m[\u001b[0m\u001b[0midx\u001b[0m\u001b[0;34m]\u001b[0m\u001b[0;34m)\u001b[0m\u001b[0;34m\u001b[0m\u001b[0;34m\u001b[0m\u001b[0m\n\u001b[0m\u001b[1;32m    361\u001b[0m         \u001b[0;31m# array-like, slice\u001b[0m\u001b[0;34m\u001b[0m\u001b[0;34m\u001b[0m\u001b[0;34m\u001b[0m\u001b[0m\n\u001b[1;32m    362\u001b[0m         \u001b[0;32mif\u001b[0m \u001b[0mcompat\u001b[0m\u001b[0;34m.\u001b[0m\u001b[0mPANDAS_GE_10\u001b[0m\u001b[0;34m:\u001b[0m\u001b[0;34m\u001b[0m\u001b[0;34m\u001b[0m\u001b[0m\n",
      "\u001b[0;32m/Library/Frameworks/Python.framework/Versions/3.7/lib/python3.7/site-packages/geopandas/array.py\u001b[0m in \u001b[0;36m_geom_to_shapely\u001b[0;34m(geom)\u001b[0m\n\u001b[1;32m    113\u001b[0m         \u001b[0;32mreturn\u001b[0m \u001b[0mgeom\u001b[0m\u001b[0;34m\u001b[0m\u001b[0;34m\u001b[0m\u001b[0m\n\u001b[1;32m    114\u001b[0m     \u001b[0;32melse\u001b[0m\u001b[0;34m:\u001b[0m\u001b[0;34m\u001b[0m\u001b[0;34m\u001b[0m\u001b[0m\n\u001b[0;32m--> 115\u001b[0;31m         \u001b[0;32mreturn\u001b[0m \u001b[0mvectorized\u001b[0m\u001b[0;34m.\u001b[0m\u001b[0m_pygeos_to_shapely\u001b[0m\u001b[0;34m(\u001b[0m\u001b[0mgeom\u001b[0m\u001b[0;34m)\u001b[0m\u001b[0;34m\u001b[0m\u001b[0;34m\u001b[0m\u001b[0m\n\u001b[0m\u001b[1;32m    116\u001b[0m \u001b[0;34m\u001b[0m\u001b[0m\n\u001b[1;32m    117\u001b[0m \u001b[0;34m\u001b[0m\u001b[0m\n",
      "\u001b[0;32m/Library/Frameworks/Python.framework/Versions/3.7/lib/python3.7/site-packages/geopandas/_vectorized.py\u001b[0m in \u001b[0;36m_pygeos_to_shapely\u001b[0;34m(geom)\u001b[0m\n\u001b[1;32m     76\u001b[0m         \u001b[0;32mreturn\u001b[0m \u001b[0mshapely\u001b[0m\u001b[0;34m.\u001b[0m\u001b[0mwkt\u001b[0m\u001b[0;34m.\u001b[0m\u001b[0mloads\u001b[0m\u001b[0;34m(\u001b[0m\u001b[0;34m\"POINT EMPTY\"\u001b[0m\u001b[0;34m)\u001b[0m\u001b[0;34m\u001b[0m\u001b[0;34m\u001b[0m\u001b[0m\n\u001b[1;32m     77\u001b[0m     \u001b[0;32melse\u001b[0m\u001b[0;34m:\u001b[0m\u001b[0;34m\u001b[0m\u001b[0;34m\u001b[0m\u001b[0m\n\u001b[0;32m---> 78\u001b[0;31m         \u001b[0;32mreturn\u001b[0m \u001b[0mshapely\u001b[0m\u001b[0;34m.\u001b[0m\u001b[0mwkb\u001b[0m\u001b[0;34m.\u001b[0m\u001b[0mloads\u001b[0m\u001b[0;34m(\u001b[0m\u001b[0mpygeos\u001b[0m\u001b[0;34m.\u001b[0m\u001b[0mto_wkb\u001b[0m\u001b[0;34m(\u001b[0m\u001b[0mgeom\u001b[0m\u001b[0;34m)\u001b[0m\u001b[0;34m)\u001b[0m\u001b[0;34m\u001b[0m\u001b[0;34m\u001b[0m\u001b[0m\n\u001b[0m\u001b[1;32m     79\u001b[0m \u001b[0;34m\u001b[0m\u001b[0m\n\u001b[1;32m     80\u001b[0m \u001b[0;34m\u001b[0m\u001b[0m\n",
      "\u001b[0;32m/Library/Frameworks/Python.framework/Versions/3.7/lib/python3.7/site-packages/shapely/wkb.py\u001b[0m in \u001b[0;36mloads\u001b[0;34m(data, hex)\u001b[0m\n\u001b[1;32m     21\u001b[0m         \u001b[0;32mreturn\u001b[0m \u001b[0mreader\u001b[0m\u001b[0;34m.\u001b[0m\u001b[0mread_hex\u001b[0m\u001b[0;34m(\u001b[0m\u001b[0mdata\u001b[0m\u001b[0;34m)\u001b[0m\u001b[0;34m\u001b[0m\u001b[0;34m\u001b[0m\u001b[0m\n\u001b[1;32m     22\u001b[0m     \u001b[0;32melse\u001b[0m\u001b[0;34m:\u001b[0m\u001b[0;34m\u001b[0m\u001b[0;34m\u001b[0m\u001b[0m\n\u001b[0;32m---> 23\u001b[0;31m         \u001b[0;32mreturn\u001b[0m \u001b[0mreader\u001b[0m\u001b[0;34m.\u001b[0m\u001b[0mread\u001b[0m\u001b[0;34m(\u001b[0m\u001b[0mdata\u001b[0m\u001b[0;34m)\u001b[0m\u001b[0;34m\u001b[0m\u001b[0;34m\u001b[0m\u001b[0m\n\u001b[0m\u001b[1;32m     24\u001b[0m \u001b[0;34m\u001b[0m\u001b[0m\n\u001b[1;32m     25\u001b[0m \u001b[0;34m\u001b[0m\u001b[0m\n",
      "\u001b[0;32m/Library/Frameworks/Python.framework/Versions/3.7/lib/python3.7/site-packages/shapely/geos.py\u001b[0m in \u001b[0;36mread\u001b[0;34m(self, data)\u001b[0m\n\u001b[1;32m    458\u001b[0m         \u001b[0;34m\"\"\"Returns geometry from WKB\"\"\"\u001b[0m\u001b[0;34m\u001b[0m\u001b[0;34m\u001b[0m\u001b[0m\n\u001b[1;32m    459\u001b[0m         geom = self._lgeos.GEOSWKBReader_read(\n\u001b[0;32m--> 460\u001b[0;31m             self._reader, c_char_p(data), c_size_t(len(data)))\n\u001b[0m\u001b[1;32m    461\u001b[0m         \u001b[0;32mif\u001b[0m \u001b[0;32mnot\u001b[0m \u001b[0mgeom\u001b[0m\u001b[0;34m:\u001b[0m\u001b[0;34m\u001b[0m\u001b[0;34m\u001b[0m\u001b[0m\n\u001b[1;32m    462\u001b[0m             raise WKBReadingError(\n",
      "\u001b[0;31mKeyboardInterrupt\u001b[0m: "
     ]
    }
   ],
   "source": [
    "poa_gdf['2020(no.)'] = None\n",
    "poa_gdf['2021(no.)'] = None\n",
    "for i in range(len(poa_gdf)):\n",
    "    if(i%25==0):\n",
    "        print(i)\n",
    "    temp = poa_gdf.iloc[i]\n",
    "    sum_2020, sum_2021 = check_for_population(temp.geometry)\n",
    "    poa_gdf.iloc[i,2]=sum_2020\n",
    "    poa_gdf.iloc[i,3]=sum_2021"
   ]
  },
  {
   "cell_type": "code",
   "execution_count": null,
   "metadata": {},
   "outputs": [
    {
     "data": {
      "text/html": [
       "<div>\n",
       "<style scoped>\n",
       "    .dataframe tbody tr th:only-of-type {\n",
       "        vertical-align: middle;\n",
       "    }\n",
       "\n",
       "    .dataframe tbody tr th {\n",
       "        vertical-align: top;\n",
       "    }\n",
       "\n",
       "    .dataframe thead th {\n",
       "        text-align: right;\n",
       "    }\n",
       "</style>\n",
       "<table border=\"1\" class=\"dataframe\">\n",
       "  <thead>\n",
       "    <tr style=\"text-align: right;\">\n",
       "      <th></th>\n",
       "      <th>POA_CODE21</th>\n",
       "      <th>2020(no.)</th>\n",
       "      <th>2021(no.)</th>\n",
       "      <th>geometry</th>\n",
       "    </tr>\n",
       "  </thead>\n",
       "  <tbody>\n",
       "    <tr>\n",
       "      <th>0</th>\n",
       "      <td>800</td>\n",
       "      <td>7708.999833965965</td>\n",
       "      <td>7678.999835068511</td>\n",
       "      <td>POLYGON ((130.83681 -12.45376, 130.83684 -12.4...</td>\n",
       "    </tr>\n",
       "    <tr>\n",
       "      <th>1</th>\n",
       "      <td>810</td>\n",
       "      <td>36381.99921240709</td>\n",
       "      <td>36215.99921668285</td>\n",
       "      <td>POLYGON ((130.89986 -12.36567, 130.89875 -12.3...</td>\n",
       "    </tr>\n",
       "    <tr>\n",
       "      <th>2</th>\n",
       "      <td>812</td>\n",
       "      <td>19924.00036161399</td>\n",
       "      <td>19888.00036054116</td>\n",
       "      <td>POLYGON ((130.91915 -12.40786, 130.91831 -12.4...</td>\n",
       "    </tr>\n",
       "    <tr>\n",
       "      <th>3</th>\n",
       "      <td>820</td>\n",
       "      <td>21186.87673475262</td>\n",
       "      <td>21159.06665843644</td>\n",
       "      <td>POLYGON ((130.85260 -12.43994, 130.85089 -12.4...</td>\n",
       "    </tr>\n",
       "    <tr>\n",
       "      <th>4</th>\n",
       "      <td>822</td>\n",
       "      <td>35661.58644259583</td>\n",
       "      <td>35569.3627175903</td>\n",
       "      <td>MULTIPOLYGON (((136.56648 -12.08392, 136.56704...</td>\n",
       "    </tr>\n",
       "  </tbody>\n",
       "</table>\n",
       "</div>"
      ],
      "text/plain": [
       "   POA_CODE21          2020(no.)          2021(no.)  \\\n",
       "0         800  7708.999833965965  7678.999835068511   \n",
       "1         810  36381.99921240709  36215.99921668285   \n",
       "2         812  19924.00036161399  19888.00036054116   \n",
       "3         820  21186.87673475262  21159.06665843644   \n",
       "4         822  35661.58644259583   35569.3627175903   \n",
       "\n",
       "                                            geometry  \n",
       "0  POLYGON ((130.83681 -12.45376, 130.83684 -12.4...  \n",
       "1  POLYGON ((130.89986 -12.36567, 130.89875 -12.3...  \n",
       "2  POLYGON ((130.91915 -12.40786, 130.91831 -12.4...  \n",
       "3  POLYGON ((130.85260 -12.43994, 130.85089 -12.4...  \n",
       "4  MULTIPOLYGON (((136.56648 -12.08392, 136.56704...  "
      ]
     },
     "execution_count": 162,
     "metadata": {},
     "output_type": "execute_result"
    }
   ],
   "source": [
    "poa_gdf.head()"
   ]
  },
  {
   "cell_type": "code",
   "execution_count": null,
   "metadata": {},
   "outputs": [],
   "source": [
    "poa_gdf = poa_gdf.drop('geometry', axis=1)"
   ]
  },
  {
   "cell_type": "code",
   "execution_count": null,
   "metadata": {},
   "outputs": [
    {
     "name": "stderr",
     "output_type": "stream",
     "text": [
      "/Library/Frameworks/Python.framework/Versions/3.7/lib/python3.7/site-packages/ipykernel_launcher.py:1: UserWarning: this is an initial implementation of Parquet/Feather file support and associated metadata.  This is tracking version 0.1.0 of the metadata specification at https://github.com/geopandas/geo-arrow-spec\n",
      "\n",
      "This metadata specification does not yet make stability promises.  We do not yet recommend using this in a production setting unless you are able to rewrite your Parquet/Feather files.\n",
      "\n",
      "To further ignore this warning, you can do: \n",
      "import warnings; warnings.filterwarnings('ignore', message='.*initial implementation of Parquet.*')\n",
      "  \"\"\"Entry point for launching an IPython kernel.\n"
     ]
    }
   ],
   "source": [
    "poa_gdf.to_parquet('../data/curated/geo_pos_population.parquet', index=False)"
   ]
  }
 ],
 "metadata": {
  "kernelspec": {
   "display_name": "Python 3.7.9 64-bit",
   "language": "python",
   "name": "python3"
  },
  "language_info": {
   "codemirror_mode": {
    "name": "ipython",
    "version": 3
   },
   "file_extension": ".py",
   "mimetype": "text/x-python",
   "name": "python",
   "nbconvert_exporter": "python",
   "pygments_lexer": "ipython3",
   "version": "3.7.9"
  },
  "orig_nbformat": 4,
  "vscode": {
   "interpreter": {
    "hash": "aee8b7b246df8f9039afb4144a1f6fd8d2ca17a180786b69acc140d282b71a49"
   }
  }
 },
 "nbformat": 4,
 "nbformat_minor": 2
}
