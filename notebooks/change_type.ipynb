{
 "cells": [
  {
   "cell_type": "markdown",
   "metadata": {},
   "source": [
    "Packages"
   ]
  },
  {
   "cell_type": "code",
   "execution_count": 5,
   "metadata": {},
   "outputs": [],
   "source": [
    "import os\n",
    "import numpy\n",
    "import pandas as pd\n",
    "import tqdm\n",
    "import geopandas as gpd\n",
    "from pyspark.sql import SparkSession\n",
    "from pyspark.ml.feature import OneHotEncoder, StringIndexer\n",
    "from pyspark.ml import Pipeline\n",
    "import sys\n",
    "sys.path.append('../scripts/')\n",
    "from read_utils import read_file, create_folder, temp_record_query, temp_record_sdf"
   ]
  },
  {
   "cell_type": "code",
   "execution_count": 6,
   "metadata": {},
   "outputs": [],
   "source": [
    "from pyspark.sql import SparkSession"
   ]
  },
  {
   "cell_type": "code",
   "execution_count": 7,
   "metadata": {},
   "outputs": [],
   "source": [
    "spark = (\n",
    "    # Create a spark session (which will run spark jobs)\n",
    "    SparkSession.builder.appName(\"Project 2\")\n",
    "    .config(\"spark.sql.repl.eagerEval.enabled\", True) \n",
    "    .config(\"spark.sql.parquet.cacheMetadata\", \"true\")\n",
    "    .config('spark.executor.memory','10g')\n",
    "    .config('spark.driver.memory','12g')\n",
    "    .config('spark.driver.maxResultsSize', '10GiB')\n",
    "    # .config(\"spark.network.timeout\", \"3600s\")\n",
    "    # .master(\"local[6]\")\n",
    "    .getOrCreate()\n",
    "    )"
   ]
  },
  {
   "cell_type": "code",
   "execution_count": 4,
   "metadata": {},
   "outputs": [
    {
     "name": "stdout",
     "output_type": "stream",
     "text": [
      "|> Loading File...\n"
     ]
    },
    {
     "name": "stderr",
     "output_type": "stream",
     "text": [
      "                                                                                \r"
     ]
    },
    {
     "name": "stdout",
     "output_type": "stream",
     "text": [
      "|> Loading Finished!\n"
     ]
    },
    {
     "name": "stderr",
     "output_type": "stream",
     "text": [
      "[Stage 2:============================================>              (3 + 1) / 4]\r"
     ]
    },
    {
     "name": "stdout",
     "output_type": "stream",
     "text": [
      "-RECORD 0--------------------------------------------------------------------------\n",
      " user_id           | 7                                                             \n",
      " merchant_abn      | 17488304283                                                   \n",
      " dollar_value      | 67.95495287248738                                             \n",
      " order_id          | e637ca66-ed07-42c3-a39b-d49a1f97dde8                          \n",
      " merchant_name     | Posuere Cubilia Curae Corporation                             \n",
      " tags              | cable, satellite, and other pay television and radio services \n",
      " take_rate         | 6.18                                                          \n",
      " type              | a                                                             \n",
      " postcode          | 4606                                                          \n",
      " consumer_id       | 511685                                                        \n",
      " name              | Andrea Jones                                                  \n",
      " address           | 122 Brandon Cliff                                             \n",
      " state             | QLD                                                           \n",
      " gender            | Female                                                        \n",
      " POA_CODE21        | 4606                                                          \n",
      " 2021_popu         | 557.0307901493427                                             \n",
      " New cases / day   | 1,122                                                         \n",
      " month             | 2021-08-01                                                    \n",
      " total             | 29261.9                                                       \n",
      " order_datetime    | 2021-08-28                                                    \n",
      " __index_level_0__ | 0                                                             \n",
      "only showing top 1 row\n",
      "\n"
     ]
    },
    {
     "name": "stderr",
     "output_type": "stream",
     "text": [
      "                                                                                \r"
     ]
    }
   ],
   "source": [
    "sdf = read_file(spark, 'filled.parquet', '../data/curated/')"
   ]
  },
  {
   "cell_type": "code",
   "execution_count": 8,
   "metadata": {},
   "outputs": [],
   "source": [
    "poa_sf = gpd.read_file('../data/curated/geo_sa2_pos/geo_sa2_pos.shp')\n",
    "poa_sf['geometry'] = poa_sf['geometry'].to_crs(\"+proj=longlat +ellps=WGS84 +datum=WGS84 +no_defs\")\n",
    "poa_gdf = gpd.GeoDataFrame(poa_sf)"
   ]
  },
  {
   "cell_type": "code",
   "execution_count": 9,
   "metadata": {},
   "outputs": [
    {
     "data": {
      "text/html": [
       "<div>\n",
       "<style scoped>\n",
       "    .dataframe tbody tr th:only-of-type {\n",
       "        vertical-align: middle;\n",
       "    }\n",
       "\n",
       "    .dataframe tbody tr th {\n",
       "        vertical-align: top;\n",
       "    }\n",
       "\n",
       "    .dataframe thead th {\n",
       "        text-align: right;\n",
       "    }\n",
       "</style>\n",
       "<table border=\"1\" class=\"dataframe\">\n",
       "  <thead>\n",
       "    <tr style=\"text-align: right;\">\n",
       "      <th></th>\n",
       "      <th>postcode</th>\n",
       "      <th>POA_CODE21</th>\n",
       "      <th>POA_NAME21</th>\n",
       "      <th>AUS_CODE21</th>\n",
       "      <th>AUS_NAME21</th>\n",
       "      <th>AREASQKM21</th>\n",
       "      <th>LOCI_URI21</th>\n",
       "      <th>SHAPE_Leng</th>\n",
       "      <th>SHAPE_Area</th>\n",
       "      <th>geometry</th>\n",
       "    </tr>\n",
       "  </thead>\n",
       "  <tbody>\n",
       "    <tr>\n",
       "      <th>0</th>\n",
       "      <td>6935</td>\n",
       "      <td>6055</td>\n",
       "      <td>6055</td>\n",
       "      <td>AUS</td>\n",
       "      <td>Australia</td>\n",
       "      <td>58.8100</td>\n",
       "      <td>http://linked.data.gov.au/dataset/asgsed3/POA/...</td>\n",
       "      <td>0.619512</td>\n",
       "      <td>0.005605</td>\n",
       "      <td>POLYGON ((115.96241 -31.89584, 115.96247 -31.8...</td>\n",
       "    </tr>\n",
       "    <tr>\n",
       "      <th>1</th>\n",
       "      <td>1109</td>\n",
       "      <td>2000</td>\n",
       "      <td>2000</td>\n",
       "      <td>AUS</td>\n",
       "      <td>Australia</td>\n",
       "      <td>4.2871</td>\n",
       "      <td>http://linked.data.gov.au/dataset/asgsed3/POA/...</td>\n",
       "      <td>0.157964</td>\n",
       "      <td>0.000418</td>\n",
       "      <td>POLYGON ((151.20909 -33.87978, 151.20888 -33.8...</td>\n",
       "    </tr>\n",
       "    <tr>\n",
       "      <th>2</th>\n",
       "      <td>6849</td>\n",
       "      <td>6014</td>\n",
       "      <td>6014</td>\n",
       "      <td>AUS</td>\n",
       "      <td>Australia</td>\n",
       "      <td>9.5822</td>\n",
       "      <td>http://linked.data.gov.au/dataset/asgsed3/POA/...</td>\n",
       "      <td>0.192095</td>\n",
       "      <td>0.000914</td>\n",
       "      <td>POLYGON ((115.77992 -31.93736, 115.77976 -31.9...</td>\n",
       "    </tr>\n",
       "    <tr>\n",
       "      <th>3</th>\n",
       "      <td>1114</td>\n",
       "      <td>2000</td>\n",
       "      <td>2000</td>\n",
       "      <td>AUS</td>\n",
       "      <td>Australia</td>\n",
       "      <td>4.2871</td>\n",
       "      <td>http://linked.data.gov.au/dataset/asgsed3/POA/...</td>\n",
       "      <td>0.157964</td>\n",
       "      <td>0.000418</td>\n",
       "      <td>POLYGON ((151.20909 -33.87978, 151.20888 -33.8...</td>\n",
       "    </tr>\n",
       "    <tr>\n",
       "      <th>4</th>\n",
       "      <td>1825</td>\n",
       "      <td>2144</td>\n",
       "      <td>2144</td>\n",
       "      <td>AUS</td>\n",
       "      <td>Australia</td>\n",
       "      <td>8.5637</td>\n",
       "      <td>http://linked.data.gov.au/dataset/asgsed3/POA/...</td>\n",
       "      <td>0.153584</td>\n",
       "      <td>0.000834</td>\n",
       "      <td>POLYGON ((151.03050 -33.86727, 151.02930 -33.8...</td>\n",
       "    </tr>\n",
       "  </tbody>\n",
       "</table>\n",
       "</div>"
      ],
      "text/plain": [
       "   postcode  POA_CODE21 POA_NAME21 AUS_CODE21 AUS_NAME21  AREASQKM21  \\\n",
       "0      6935        6055       6055        AUS  Australia     58.8100   \n",
       "1      1109        2000       2000        AUS  Australia      4.2871   \n",
       "2      6849        6014       6014        AUS  Australia      9.5822   \n",
       "3      1114        2000       2000        AUS  Australia      4.2871   \n",
       "4      1825        2144       2144        AUS  Australia      8.5637   \n",
       "\n",
       "                                          LOCI_URI21  SHAPE_Leng  SHAPE_Area  \\\n",
       "0  http://linked.data.gov.au/dataset/asgsed3/POA/...    0.619512    0.005605   \n",
       "1  http://linked.data.gov.au/dataset/asgsed3/POA/...    0.157964    0.000418   \n",
       "2  http://linked.data.gov.au/dataset/asgsed3/POA/...    0.192095    0.000914   \n",
       "3  http://linked.data.gov.au/dataset/asgsed3/POA/...    0.157964    0.000418   \n",
       "4  http://linked.data.gov.au/dataset/asgsed3/POA/...    0.153584    0.000834   \n",
       "\n",
       "                                            geometry  \n",
       "0  POLYGON ((115.96241 -31.89584, 115.96247 -31.8...  \n",
       "1  POLYGON ((151.20909 -33.87978, 151.20888 -33.8...  \n",
       "2  POLYGON ((115.77992 -31.93736, 115.77976 -31.9...  \n",
       "3  POLYGON ((151.20909 -33.87978, 151.20888 -33.8...  \n",
       "4  POLYGON ((151.03050 -33.86727, 151.02930 -33.8...  "
      ]
     },
     "execution_count": 9,
     "metadata": {},
     "output_type": "execute_result"
    }
   ],
   "source": [
    "poa_gdf.head()"
   ]
  },
  {
   "cell_type": "code",
   "execution_count": 10,
   "metadata": {},
   "outputs": [],
   "source": [
    "poa_gdf['longitude'] = poa_gdf['geometry'].apply(lambda x: x.centroid.y)"
   ]
  },
  {
   "cell_type": "code",
   "execution_count": 11,
   "metadata": {},
   "outputs": [],
   "source": [
    "poa_gdf['latitude'] = poa_gdf['geometry'].apply(lambda x: x.centroid.x)"
   ]
  },
  {
   "cell_type": "code",
   "execution_count": 12,
   "metadata": {},
   "outputs": [
    {
     "data": {
      "text/html": [
       "<div>\n",
       "<style scoped>\n",
       "    .dataframe tbody tr th:only-of-type {\n",
       "        vertical-align: middle;\n",
       "    }\n",
       "\n",
       "    .dataframe tbody tr th {\n",
       "        vertical-align: top;\n",
       "    }\n",
       "\n",
       "    .dataframe thead th {\n",
       "        text-align: right;\n",
       "    }\n",
       "</style>\n",
       "<table border=\"1\" class=\"dataframe\">\n",
       "  <thead>\n",
       "    <tr style=\"text-align: right;\">\n",
       "      <th></th>\n",
       "      <th>postcode</th>\n",
       "      <th>POA_CODE21</th>\n",
       "      <th>POA_NAME21</th>\n",
       "      <th>AUS_CODE21</th>\n",
       "      <th>AUS_NAME21</th>\n",
       "      <th>AREASQKM21</th>\n",
       "      <th>LOCI_URI21</th>\n",
       "      <th>SHAPE_Leng</th>\n",
       "      <th>SHAPE_Area</th>\n",
       "      <th>geometry</th>\n",
       "      <th>longitude</th>\n",
       "      <th>latitude</th>\n",
       "    </tr>\n",
       "  </thead>\n",
       "  <tbody>\n",
       "    <tr>\n",
       "      <th>0</th>\n",
       "      <td>6935</td>\n",
       "      <td>6055</td>\n",
       "      <td>6055</td>\n",
       "      <td>AUS</td>\n",
       "      <td>Australia</td>\n",
       "      <td>58.8100</td>\n",
       "      <td>http://linked.data.gov.au/dataset/asgsed3/POA/...</td>\n",
       "      <td>0.619512</td>\n",
       "      <td>0.005605</td>\n",
       "      <td>POLYGON ((115.96241 -31.89584, 115.96247 -31.8...</td>\n",
       "      <td>-31.863787</td>\n",
       "      <td>115.986788</td>\n",
       "    </tr>\n",
       "    <tr>\n",
       "      <th>1</th>\n",
       "      <td>1109</td>\n",
       "      <td>2000</td>\n",
       "      <td>2000</td>\n",
       "      <td>AUS</td>\n",
       "      <td>Australia</td>\n",
       "      <td>4.2871</td>\n",
       "      <td>http://linked.data.gov.au/dataset/asgsed3/POA/...</td>\n",
       "      <td>0.157964</td>\n",
       "      <td>0.000418</td>\n",
       "      <td>POLYGON ((151.20909 -33.87978, 151.20888 -33.8...</td>\n",
       "      <td>-33.868384</td>\n",
       "      <td>151.208220</td>\n",
       "    </tr>\n",
       "    <tr>\n",
       "      <th>2</th>\n",
       "      <td>6849</td>\n",
       "      <td>6014</td>\n",
       "      <td>6014</td>\n",
       "      <td>AUS</td>\n",
       "      <td>Australia</td>\n",
       "      <td>9.5822</td>\n",
       "      <td>http://linked.data.gov.au/dataset/asgsed3/POA/...</td>\n",
       "      <td>0.192095</td>\n",
       "      <td>0.000914</td>\n",
       "      <td>POLYGON ((115.77992 -31.93736, 115.77976 -31.9...</td>\n",
       "      <td>-31.936879</td>\n",
       "      <td>115.804782</td>\n",
       "    </tr>\n",
       "    <tr>\n",
       "      <th>3</th>\n",
       "      <td>1114</td>\n",
       "      <td>2000</td>\n",
       "      <td>2000</td>\n",
       "      <td>AUS</td>\n",
       "      <td>Australia</td>\n",
       "      <td>4.2871</td>\n",
       "      <td>http://linked.data.gov.au/dataset/asgsed3/POA/...</td>\n",
       "      <td>0.157964</td>\n",
       "      <td>0.000418</td>\n",
       "      <td>POLYGON ((151.20909 -33.87978, 151.20888 -33.8...</td>\n",
       "      <td>-33.868384</td>\n",
       "      <td>151.208220</td>\n",
       "    </tr>\n",
       "    <tr>\n",
       "      <th>4</th>\n",
       "      <td>1825</td>\n",
       "      <td>2144</td>\n",
       "      <td>2144</td>\n",
       "      <td>AUS</td>\n",
       "      <td>Australia</td>\n",
       "      <td>8.5637</td>\n",
       "      <td>http://linked.data.gov.au/dataset/asgsed3/POA/...</td>\n",
       "      <td>0.153584</td>\n",
       "      <td>0.000834</td>\n",
       "      <td>POLYGON ((151.03050 -33.86727, 151.02930 -33.8...</td>\n",
       "      <td>-33.854687</td>\n",
       "      <td>151.026208</td>\n",
       "    </tr>\n",
       "  </tbody>\n",
       "</table>\n",
       "</div>"
      ],
      "text/plain": [
       "   postcode  POA_CODE21 POA_NAME21 AUS_CODE21 AUS_NAME21  AREASQKM21  \\\n",
       "0      6935        6055       6055        AUS  Australia     58.8100   \n",
       "1      1109        2000       2000        AUS  Australia      4.2871   \n",
       "2      6849        6014       6014        AUS  Australia      9.5822   \n",
       "3      1114        2000       2000        AUS  Australia      4.2871   \n",
       "4      1825        2144       2144        AUS  Australia      8.5637   \n",
       "\n",
       "                                          LOCI_URI21  SHAPE_Leng  SHAPE_Area  \\\n",
       "0  http://linked.data.gov.au/dataset/asgsed3/POA/...    0.619512    0.005605   \n",
       "1  http://linked.data.gov.au/dataset/asgsed3/POA/...    0.157964    0.000418   \n",
       "2  http://linked.data.gov.au/dataset/asgsed3/POA/...    0.192095    0.000914   \n",
       "3  http://linked.data.gov.au/dataset/asgsed3/POA/...    0.157964    0.000418   \n",
       "4  http://linked.data.gov.au/dataset/asgsed3/POA/...    0.153584    0.000834   \n",
       "\n",
       "                                            geometry  longitude    latitude  \n",
       "0  POLYGON ((115.96241 -31.89584, 115.96247 -31.8... -31.863787  115.986788  \n",
       "1  POLYGON ((151.20909 -33.87978, 151.20888 -33.8... -33.868384  151.208220  \n",
       "2  POLYGON ((115.77992 -31.93736, 115.77976 -31.9... -31.936879  115.804782  \n",
       "3  POLYGON ((151.20909 -33.87978, 151.20888 -33.8... -33.868384  151.208220  \n",
       "4  POLYGON ((151.03050 -33.86727, 151.02930 -33.8... -33.854687  151.026208  "
      ]
     },
     "execution_count": 12,
     "metadata": {},
     "output_type": "execute_result"
    }
   ],
   "source": [
    "poa_gdf.head()"
   ]
  },
  {
   "cell_type": "code",
   "execution_count": 13,
   "metadata": {},
   "outputs": [],
   "source": [
    "poa_lat_long = poa_gdf[['POA_CODE21', 'latitude', 'longitude']]"
   ]
  },
  {
   "cell_type": "code",
   "execution_count": 14,
   "metadata": {},
   "outputs": [],
   "source": [
    "poa_spark = spark.createDataFrame(poa_lat_long).toDF(*['POA_CODE21', 'latitude', 'longitude'])"
   ]
  },
  {
   "cell_type": "code",
   "execution_count": 15,
   "metadata": {},
   "outputs": [
    {
     "name": "stdout",
     "output_type": "stream",
     "text": [
      "+----------+------------------+-------------------+\n",
      "|POA_CODE21|          latitude|          longitude|\n",
      "+----------+------------------+-------------------+\n",
      "|      6055|115.98678832411451|-31.863786871018736|\n",
      "|      2000| 151.2082196508253|  -33.8683837718929|\n",
      "|      6014|115.80478169490398| -31.93687853219304|\n",
      "|      2000| 151.2082196508253|  -33.8683837718929|\n",
      "|      2144|151.02620831540813| -33.85468695739709|\n",
      "|      2000| 151.2082196508253|  -33.8683837718929|\n",
      "|      6163|115.80009620278315|-32.087758359382995|\n",
      "|      5067|138.63158740304542| -34.92212750070141|\n",
      "|      2165|150.94640713083987|-33.870457533229015|\n",
      "|      3000|144.96238093177988| -37.81314234745685|\n",
      "|      2000| 151.2082196508253|  -33.8683837718929|\n",
      "|      4000|153.02369142357665|-27.465171792936314|\n",
      "|      6760|119.67897879465937| -21.15542547643723|\n",
      "|      3004|144.97732514913363| -37.83252018902255|\n",
      "|      6107|115.96624063904017| -32.01711954768857|\n",
      "|      6151|115.86965302590026|-31.981027071771685|\n",
      "|      2000| 151.2082196508253|  -33.8683837718929|\n",
      "|      2000| 151.2082196508253|  -33.8683837718929|\n",
      "|       852|132.80954783541284|-16.828574098647557|\n",
      "|      3620|145.07395111129154|-36.278349974747066|\n",
      "+----------+------------------+-------------------+\n",
      "only showing top 20 rows\n",
      "\n"
     ]
    }
   ],
   "source": [
    "poa_spark.show()"
   ]
  },
  {
   "cell_type": "code",
   "execution_count": 16,
   "metadata": {},
   "outputs": [],
   "source": [
    "sdf = sdf.join(poa_spark, on = ['POA_CODE21'], how='left')"
   ]
  },
  {
   "cell_type": "code",
   "execution_count": 17,
   "metadata": {},
   "outputs": [
    {
     "name": "stderr",
     "output_type": "stream",
     "text": [
      "[Stage 5:===================================================>       (7 + 1) / 8]\r"
     ]
    },
    {
     "name": "stdout",
     "output_type": "stream",
     "text": [
      "+----------+-------+------------+------------------+--------------------+--------------------+--------------------+---------+----+--------+-----------+------------+--------------------+-----+------+-----------------+---------------+----------+-------+--------------+-----------------+------------------+-------------------+\n",
      "|POA_CODE21|user_id|merchant_abn|      dollar_value|            order_id|       merchant_name|                tags|take_rate|type|postcode|consumer_id|        name|             address|state|gender|        2021_popu|New cases / day|     month|  total|order_datetime|__index_level_0__|          latitude|          longitude|\n",
      "+----------+-------+------------+------------------+--------------------+--------------------+--------------------+---------+----+--------+-----------+------------+--------------------+-----+------+-----------------+---------------+----------+-------+--------------+-----------------+------------------+-------------------+\n",
      "|      2573|  10087| 41251795489|43.036903367549215|c8008300-48d1-4b0...|Ultricies Sem Lim...|opticians, optica...|     2.91|   c|    2573|     624829|Julie Snyder|976 Clark Meadows...|  NSW|Female|1705.489731489324|          1,122|2021-08-01|29261.9|    2021-08-28|            15129|150.59078911342706| -34.22882685800176|\n",
      "|      2573|  10087| 52606993642|17.161402492530158|e35e23f4-310e-49e...| Congue Elit Sed Ltd|hobby, toy and ga...|     2.35|   c|    2573|     624829|Julie Snyder|976 Clark Meadows...|  NSW|Female|1705.489731489324|          1,122|2021-08-01|29261.9|    2021-08-28|            15128|150.59078911342706| -34.22882685800176|\n",
      "|      2573|  10087| 45433476494| 237.2802184583022|404cd9a3-ffb8-42a...|Adipiscing Elit F...|computers, comput...|     5.82|   a|    2573|     624829|Julie Snyder|976 Clark Meadows...|  NSW|Female|1705.489731489324|          1,122|2021-08-01|29261.9|    2021-08-28|            15127|150.59078911342706| -34.22882685800176|\n",
      "|      2573|  10087| 46804135891|25.298111765587933|2328217b-2c0c-464...|Suspendisse Dui C...|opticians, optica...|     2.93|   c|    2573|     624829|Julie Snyder|976 Clark Meadows...|  NSW|Female|1705.489731489324|          1,122|2021-08-01|29261.9|    2021-08-28|            15126|150.59078911342706| -34.22882685800176|\n",
      "|      4606|      7| 17488304283| 67.95495287248738|e637ca66-ed07-42c...|Posuere Cubilia C...|cable, satellite,...|     6.18|   a|    4606|     511685|Andrea Jones|   122 Brandon Cliff|  QLD|Female|557.0307901493427|          1,122|2021-08-01|29261.9|    2021-08-28|                0|151.80006629311015|-26.268858171309105|\n",
      "+----------+-------+------------+------------------+--------------------+--------------------+--------------------+---------+----+--------+-----------+------------+--------------------+-----+------+-----------------+---------------+----------+-------+--------------+-----------------+------------------+-------------------+\n",
      "only showing top 5 rows\n",
      "\n"
     ]
    },
    {
     "name": "stderr",
     "output_type": "stream",
     "text": [
      "                                                                                \r"
     ]
    }
   ],
   "source": [
    "sdf.show(5)"
   ]
  },
  {
   "cell_type": "code",
   "execution_count": 18,
   "metadata": {},
   "outputs": [],
   "source": [
    "# type\n",
    "type_indexer = StringIndexer(inputCol = \"type\", outputCol = \"typeIndex\", handleInvalid=\"skip\")\n",
    "\n",
    "# gender\n",
    "gender_indexer = StringIndexer(inputCol = \"gender\", outputCol = \"genderIndex\", handleInvalid=\"skip\")\n",
    "\n",
    "# tag\n",
    "tag_indexer = StringIndexer(inputCol = \"tags\",outputCol = \"tagIndex\", handleInvalid=\"skip\")\n",
    "onehotencoder_tag_vector = OneHotEncoder(inputCol = \"tagIndex\", outputCol = \"tag_vec\")\n",
    "\n",
    "#Create pipeline and pass all stages\n",
    "pipeline = Pipeline(stages=[gender_indexer, \n",
    "                            type_indexer,\n",
    "                            tag_indexer,\n",
    "                            onehotencoder_tag_vector])"
   ]
  },
  {
   "cell_type": "code",
   "execution_count": 19,
   "metadata": {},
   "outputs": [
    {
     "name": "stdout",
     "output_type": "stream",
     "text": [
      "+----------+-------+------------+------------------+--------------------+--------------------+--------------------+---------+----+--------+-----------+--------------+--------------------+-----+------+-----------------+---------------+----------+-------+--------------+-----------------+------------------+------------------+\n",
      "|POA_CODE21|user_id|merchant_abn|      dollar_value|            order_id|       merchant_name|                tags|take_rate|type|postcode|consumer_id|          name|             address|state|gender|        2021_popu|New cases / day|     month|  total|order_datetime|__index_level_0__|          latitude|         longitude|\n",
      "+----------+-------+------------+------------------+--------------------+--------------------+--------------------+---------+----+--------+-----------+--------------+--------------------+-----+------+-----------------+---------------+----------+-------+--------------+-----------------+------------------+------------------+\n",
      "|      5570|  10056| 86578477987|19.952565265080263|35de2567-7d5f-46f...|   Leo In Consulting|watch, clock, and...|     6.43|   a|    5570|     228819|Melissa Martin|1005 Bradley Stre...|   SA|Female|414.3436499522715|          1,122|2021-08-01|29261.9|    2021-08-28|            15125| 137.9484473190459|-34.25824850122549|\n",
      "|      2573|  10087| 41251795489|43.036903367549215|c8008300-48d1-4b0...|Ultricies Sem Lim...|opticians, optica...|     2.91|   c|    2573|     624829|  Julie Snyder|976 Clark Meadows...|  NSW|Female|1705.489731489324|          1,122|2021-08-01|29261.9|    2021-08-28|            15129|150.59078911342706|-34.22882685800176|\n",
      "|      2573|  10087| 52606993642|17.161402492530158|e35e23f4-310e-49e...| Congue Elit Sed Ltd|hobby, toy and ga...|     2.35|   c|    2573|     624829|  Julie Snyder|976 Clark Meadows...|  NSW|Female|1705.489731489324|          1,122|2021-08-01|29261.9|    2021-08-28|            15128|150.59078911342706|-34.22882685800176|\n",
      "|      2573|  10087| 45433476494| 237.2802184583022|404cd9a3-ffb8-42a...|Adipiscing Elit F...|computers, comput...|     5.82|   a|    2573|     624829|  Julie Snyder|976 Clark Meadows...|  NSW|Female|1705.489731489324|          1,122|2021-08-01|29261.9|    2021-08-28|            15127|150.59078911342706|-34.22882685800176|\n",
      "|      2573|  10087| 46804135891|25.298111765587933|2328217b-2c0c-464...|Suspendisse Dui C...|opticians, optica...|     2.93|   c|    2573|     624829|  Julie Snyder|976 Clark Meadows...|  NSW|Female|1705.489731489324|          1,122|2021-08-01|29261.9|    2021-08-28|            15126|150.59078911342706|-34.22882685800176|\n",
      "+----------+-------+------------+------------------+--------------------+--------------------+--------------------+---------+----+--------+-----------+--------------+--------------------+-----+------+-----------------+---------------+----------+-------+--------------+-----------------+------------------+------------------+\n",
      "only showing top 5 rows\n",
      "\n"
     ]
    },
    {
     "name": "stderr",
     "output_type": "stream",
     "text": [
      "                                                                                \r"
     ]
    }
   ],
   "source": [
    "sdf.show(5)"
   ]
  },
  {
   "cell_type": "code",
   "execution_count": 20,
   "metadata": {},
   "outputs": [
    {
     "name": "stderr",
     "output_type": "stream",
     "text": [
      "                                                                                \r"
     ]
    },
    {
     "name": "stdout",
     "output_type": "stream",
     "text": [
      "22/10/06 18:18:17 WARN package: Truncated the string representation of a plan since it was too large. This behavior can be adjusted by setting 'spark.sql.debug.maxToStringFields'.\n"
     ]
    },
    {
     "name": "stderr",
     "output_type": "stream",
     "text": [
      "[Stage 42:==================================================>       (7 + 1) / 8]\r"
     ]
    },
    {
     "name": "stdout",
     "output_type": "stream",
     "text": [
      "+----------+-------+------------+------------------+--------------------+--------------------+--------------------+---------+----+--------+-----------+----------------+--------------------+-----+------+-----------------+---------------+----------+-------+--------------+-----------------+------------------+------------------+-----------+---------+--------+--------------+\n",
      "|POA_CODE21|user_id|merchant_abn|      dollar_value|            order_id|       merchant_name|                tags|take_rate|type|postcode|consumer_id|            name|             address|state|gender|        2021_popu|New cases / day|     month|  total|order_datetime|__index_level_0__|          latitude|         longitude|genderIndex|typeIndex|tagIndex|       tag_vec|\n",
      "+----------+-------+------------+------------------+--------------------+--------------------+--------------------+---------+----+--------+-----------+----------------+--------------------+-----+------+-----------------+---------------+----------+-------+--------------+-----------------+------------------+------------------+-----------+---------+--------+--------------+\n",
      "|      5556|  12642| 68501926042| 89.62674454662323|c1d24d79-4a2e-43d...|         Dolor Corp.|cable, satellite,...|     5.78|   a|    5556|     331077|      Tara Irwin|     10342 Owen Dale|   SA|Female| 4502.99997931746|          1,122|2021-08-01|29261.9|    2021-08-28|            15449|137.66781360935204|-33.89344361937781|        1.0|      0.0|     4.0|(24,[4],[1.0])|\n",
      "|      2040|  11893| 23026499747|10.437888566160465|afd3042f-d181-4f3...|   Metus Aenean Inc.|watch, clock, and...|     6.95|   a|    2040|     245147|Jasmine Delacruz| 4150 Mcdowell Vista|  NSW|Female|24442.03477503719|          1,122|2021-08-01|29261.9|    2021-08-28|            15351|151.15759301879152|-33.87722582700607|        1.0|      0.0|     3.0|(24,[3],[1.0])|\n",
      "|      2040|  11893| 13285958344| 7.900564292530253|d8a23605-e3ba-4ae...|Purus Gravida Sag...|gift, card, novel...|     5.65|   a|    2040|     245147|Jasmine Delacruz| 4150 Mcdowell Vista|  NSW|Female|24442.03477503719|          1,122|2021-08-01|29261.9|    2021-08-28|            15350|151.15759301879152|-33.87722582700607|        1.0|      0.0|     1.0|(24,[1],[1.0])|\n",
      "|      3506|   4521| 35556933338|26.452413058257623|b8863a31-9120-41f...|Semper Cursus Int...|digital goods: bo...|     6.87|   a|    3506|    1046905| Alexandria Webb|3796 Kathleen Hil...|  VIC|Female|74.80310587884506|          1,122|2021-08-01|29261.9|    2021-08-28|            14428|141.36526207519685|-35.18818636789844|        1.0|      0.0|     2.0|(24,[2],[1.0])|\n",
      "|      3506|   4175| 64203420245| 35.59836998586941|d303ee40-fadf-499...|  Pede Nonummy Corp.|tent and awning s...|     2.86|   c|    3506|     960376|    Wendy Bailey|3671 Jessica Squares|  VIC|Female|74.80310587884506|          1,122|2021-08-01|29261.9|    2021-08-28|            14380|141.36526207519685|-35.18818636789844|        1.0|      2.0|     0.0|(24,[0],[1.0])|\n",
      "+----------+-------+------------+------------------+--------------------+--------------------+--------------------+---------+----+--------+-----------+----------------+--------------------+-----+------+-----------------+---------------+----------+-------+--------------+-----------------+------------------+------------------+-----------+---------+--------+--------------+\n",
      "only showing top 5 rows\n",
      "\n"
     ]
    },
    {
     "name": "stderr",
     "output_type": "stream",
     "text": [
      "                                                                                \r"
     ]
    }
   ],
   "source": [
    "sdf_transformed = pipeline.fit(sdf).transform(sdf)\n",
    "sdf_transformed.show(5)"
   ]
  },
  {
   "cell_type": "code",
   "execution_count": 21,
   "metadata": {},
   "outputs": [],
   "source": [
    "sdf_transformed = (sdf_transformed\n",
    "                   .withColumnRenamed(\"2021_popu\", 'population')\n",
    "                   .withColumnRenamed('total','total_retail')\n",
    "                   )"
   ]
  },
  {
   "cell_type": "code",
   "execution_count": 22,
   "metadata": {},
   "outputs": [
    {
     "name": "stderr",
     "output_type": "stream",
     "text": [
      "[Stage 50:==================================================>       (7 + 1) / 8]\r"
     ]
    },
    {
     "name": "stdout",
     "output_type": "stream",
     "text": [
      "+----------+-------+------------+------------------+--------------------+--------------------+--------------------+---------+----+--------+-----------+------------------+--------------------+-----+-----------+-----------------+---------------+----------+------------+--------------+-----------------+------------------+-------------------+-----------+---------+--------+---------------+\n",
      "|POA_CODE21|user_id|merchant_abn|      dollar_value|            order_id|       merchant_name|                tags|take_rate|type|postcode|consumer_id|              name|             address|state|     gender|       population|New cases / day|     month|total_retail|order_datetime|__index_level_0__|          latitude|          longitude|genderIndex|typeIndex|tagIndex|        tag_vec|\n",
      "+----------+-------+------------+------------------+--------------------+--------------------+--------------------+---------+----+--------+-----------+------------------+--------------------+-----+-----------+-----------------+---------------+----------+------------+--------------+-----------------+------------------+-------------------+-----------+---------+--------+---------------+\n",
      "|      5556|  12642| 68501926042| 89.62674454662323|c1d24d79-4a2e-43d...|         Dolor Corp.|cable, satellite,...|     5.78|   a|    5556|     331077|        Tara Irwin|     10342 Owen Dale|   SA|     Female| 4502.99997931746|          1,122|2021-08-01|     29261.9|    2021-08-28|            15449|137.66781360935204| -33.89344361937781|        1.0|      0.0|     4.0| (24,[4],[1.0])|\n",
      "|      2040|  11893| 23026499747|10.437888566160465|afd3042f-d181-4f3...|   Metus Aenean Inc.|watch, clock, and...|     6.95|   a|    2040|     245147|  Jasmine Delacruz| 4150 Mcdowell Vista|  NSW|     Female|24442.03477503719|          1,122|2021-08-01|     29261.9|    2021-08-28|            15351|151.15759301879152| -33.87722582700607|        1.0|      0.0|     3.0| (24,[3],[1.0])|\n",
      "|      2040|  11893| 13285958344| 7.900564292530253|d8a23605-e3ba-4ae...|Purus Gravida Sag...|gift, card, novel...|     5.65|   a|    2040|     245147|  Jasmine Delacruz| 4150 Mcdowell Vista|  NSW|     Female|24442.03477503719|          1,122|2021-08-01|     29261.9|    2021-08-28|            15350|151.15759301879152| -33.87722582700607|        1.0|      0.0|     1.0| (24,[1],[1.0])|\n",
      "|      3506|   4521| 35556933338|26.452413058257623|b8863a31-9120-41f...|Semper Cursus Int...|digital goods: bo...|     6.87|   a|    3506|    1046905|   Alexandria Webb|3796 Kathleen Hil...|  VIC|     Female|74.80310587884506|          1,122|2021-08-01|     29261.9|    2021-08-28|            14428|141.36526207519685| -35.18818636789844|        1.0|      0.0|     2.0| (24,[2],[1.0])|\n",
      "|      3506|   4175| 64203420245| 35.59836998586941|d303ee40-fadf-499...|  Pede Nonummy Corp.|tent and awning s...|     2.86|   c|    3506|     960376|      Wendy Bailey|3671 Jessica Squares|  VIC|     Female|74.80310587884506|          1,122|2021-08-01|     29261.9|    2021-08-28|            14380|141.36526207519685| -35.18818636789844|        1.0|      2.0|     0.0| (24,[0],[1.0])|\n",
      "|      3506|   4175| 45629217853|16.319985591685942|b82edfa9-2d89-4a3...|    Lacus Consulting|gift, card, novel...|     6.98|   a|    3506|     960376|      Wendy Bailey|3671 Jessica Squares|  VIC|     Female|74.80310587884506|          1,122|2021-08-01|     29261.9|    2021-08-28|            14379|141.36526207519685| -35.18818636789844|        1.0|      0.0|     1.0| (24,[1],[1.0])|\n",
      "|      5556|   5019| 52959528548|106.72037395605187|ae2794b6-2a3e-448...|   Libero Et Limited|furniture, home f...|     1.94|   c|    5556|      79193|    Rachel Shaffer|963 Wagner Point ...|   SA|     Female| 4502.99997931746|          1,122|2021-08-01|     29261.9|    2021-08-28|            14513|137.66781360935204| -33.89344361937781|        1.0|      2.0|    10.0|(24,[10],[1.0])|\n",
      "|      2214|   5115| 43186523025| 25.48467478283535|27bf9e27-ab9b-4c6...|Lorem Ipsum Sodal...|florists supplies...|     4.47|   b|    1891|    1432444| Gregory Rodriguez| 6082 Rodney Station|  NSW|       Male|7833.920905657307|          1,122|2021-08-01|     29261.9|    2021-08-28|            14521|  150.981487861616|  -33.9388368430949|        0.0|      1.0|     5.0| (24,[5],[1.0])|\n",
      "|      2214|   5115| 43186523025| 25.48467478283535|27bf9e27-ab9b-4c6...|Lorem Ipsum Sodal...|florists supplies...|     4.47|   b|    1891|    1432444| Gregory Rodriguez| 6082 Rodney Station|  NSW|       Male|7833.920905657307|          1,122|2021-08-01|     29261.9|    2021-08-28|            14521|  150.981487861616|  -33.9388368430949|        0.0|      1.0|     5.0| (24,[5],[1.0])|\n",
      "|      6721|   1630| 77090965820|1300.0149782576964|28796251-b379-4cd...|   A Arcu Industries|florists supplies...|      3.0|   c|    6721|     447534|     Thomas Martin|     5381 Cory Green|   WA|       Male|4471.784851175305|          1,122|2021-08-01|     29261.9|    2021-08-28|            16905| 118.8368457027438|-20.536596488642612|        0.0|      2.0|     5.0| (24,[5],[1.0])|\n",
      "|      3091|   2262| 98269572896| 85.00322667183418|972ea901-e4f7-49a...|Eget Laoreet Posu...|furniture, home f...|     3.59|   b|    3091|     840635|     Carlos Rogers|8197 Margaret Str...|  VIC|       Male|5017.270945592059|          1,122|2021-08-01|     29261.9|    2021-08-28|            16981| 145.1348627068149| -37.63750003701364|        0.0|      1.0|    10.0|(24,[10],[1.0])|\n",
      "|      3091|   2262| 63728747020| 81.43425656614212|b47555db-9ead-495...|Lobortis Ultrices...|gift, card, novel...|     5.73|   a|    3091|     840635|     Carlos Rogers|8197 Margaret Str...|  VIC|       Male|5017.270945592059|          1,122|2021-08-01|     29261.9|    2021-08-28|            16980| 145.1348627068149| -37.63750003701364|        0.0|      0.0|     1.0| (24,[1],[1.0])|\n",
      "|      4823|  23905| 80324045558|  83.6501448258774|ff9e12af-5dbc-412...|Ipsum Dolor Sit C...|gift, card, novel...|     1.47|   c|    4823|     792861|Jennifer Cervantes|8227 Love Oval Ap...|  QLD|Undisclosed|2282.679126056244|          1,122|2021-08-01|     29261.9|    2021-08-28|            16697|141.06109322275086|-20.424052450196143|        2.0|      2.0|     1.0| (24,[1],[1.0])|\n",
      "|      2453|  16578| 40590483301| 38.62106688373364|8bfafbf2-0465-4a5...|Donec Tempus Corp...|cable, satellite,...|      3.1|   c|    2453|    1343942|        Julia Hall|60181 Salinas Isl...|  NSW|     Female|3676.038666295061|          1,122|2021-08-01|     29261.9|    2021-08-28|            15857| 152.5445987851557|-30.250197981223444|        1.0|      2.0|     4.0| (24,[4],[1.0])|\n",
      "|      3506|  14290| 74449830326|12.933764056632096|9c420cae-3401-416...|            Ac Corp.|stationery, offic...|     3.66|   b|    3506|     688891|      Vanessa Shaw|  741 Veronica Lodge|  VIC|     Female|74.80310587884506|          1,122|2021-08-01|     29261.9|    2021-08-28|            12817|141.36526207519685| -35.18818636789844|        1.0|      1.0|    20.0|(24,[20],[1.0])|\n",
      "|      2453|  19799| 32361057556| 8.979823211389771|d9a68aa0-3068-45a...|Orci In Consequat...|gift, card, novel...|     6.61|   a|    2453|    1458768|       Wanda Kelly|53889 Thompson Drive|  NSW|     Female|3676.038666295061|          1,122|2021-08-01|     29261.9|    2021-08-28|            13438| 152.5445987851557|-30.250197981223444|        1.0|      0.0|     1.0| (24,[1],[1.0])|\n",
      "|      2453|  19799| 32361057556| 19.97334025710932|a2a6ccd8-d88b-482...|Orci In Consequat...|gift, card, novel...|     6.61|   a|    2453|    1458768|       Wanda Kelly|53889 Thompson Drive|  NSW|     Female|3676.038666295061|          1,122|2021-08-01|     29261.9|    2021-08-28|            13437| 152.5445987851557|-30.250197981223444|        1.0|      0.0|     1.0| (24,[1],[1.0])|\n",
      "|      3091|  16992| 23290056758|12.249756826813753|b0583941-656d-4a2...|    Sed Incorporated|computers, comput...|     6.74|   a|    3091|      11346|   Jamie Mcfarland| 65183 Vasquez Vista|  VIC|     Female|5017.270945592059|          1,122|2021-08-01|     29261.9|    2021-08-28|            13132| 145.1348627068149| -37.63750003701364|        1.0|      0.0|     7.0| (24,[7],[1.0])|\n",
      "|      3091|  16992| 80324045558|12.632045394288422|75d91288-767c-448...|Ipsum Dolor Sit C...|gift, card, novel...|     1.47|   c|    3091|      11346|   Jamie Mcfarland| 65183 Vasquez Vista|  VIC|     Female|5017.270945592059|          1,122|2021-08-01|     29261.9|    2021-08-28|            13131| 145.1348627068149| -37.63750003701364|        1.0|      2.0|     1.0| (24,[1],[1.0])|\n",
      "|      5556|   9079| 89726005175| 73.54381672915453|c51cf209-6caf-4e1...| Est Nunc Consulting|tent and awning s...|     6.01|   a|    5556|     385446| Daniel Carter III|269 Mackenzie Pra...|   SA|       Male| 4502.99997931746|          1,122|2021-08-01|     29261.9|    2021-08-28|            20567|137.66781360935204| -33.89344361937781|        0.0|      0.0|     0.0| (24,[0],[1.0])|\n",
      "+----------+-------+------------+------------------+--------------------+--------------------+--------------------+---------+----+--------+-----------+------------------+--------------------+-----+-----------+-----------------+---------------+----------+------------+--------------+-----------------+------------------+-------------------+-----------+---------+--------+---------------+\n",
      "only showing top 20 rows\n",
      "\n"
     ]
    },
    {
     "name": "stderr",
     "output_type": "stream",
     "text": [
      "                                                                                \r"
     ]
    }
   ],
   "source": [
    "sdf_transformed.show()"
   ]
  },
  {
   "cell_type": "code",
   "execution_count": 23,
   "metadata": {},
   "outputs": [
    {
     "name": "stdout",
     "output_type": "stream",
     "text": [
      "|> The folder already exist!\n",
      "|> Files already exist under this folder:\n",
      "   []\n"
     ]
    },
    {
     "name": "stderr",
     "output_type": "stream",
     "text": [
      "                                                                                \r"
     ]
    }
   ],
   "source": [
    "path = '../data/curated/changed_data'\n",
    "if (create_folder(path)):\n",
    "    sdf_transformed.write.partitionBy('order_datetime').parquet(path, mode='append')\n",
    "else:\n",
    "    sdf_transformed.write.partitionBy('order_datetime').parquet(path, mode='overwrite')"
   ]
  },
  {
   "cell_type": "markdown",
   "metadata": {},
   "source": [
    "- figure out that tag_vec"
   ]
  },
  {
   "cell_type": "code",
   "execution_count": 33,
   "metadata": {},
   "outputs": [],
   "source": [
    "SAMPLE_SIZE = 0.005\n",
    "sdf_transformed = sdf_transformed.sample(SAMPLE_SIZE, seed=0)"
   ]
  },
  {
   "cell_type": "code",
   "execution_count": 34,
   "metadata": {},
   "outputs": [
    {
     "name": "stderr",
     "output_type": "stream",
     "text": [
      "                                                                                \r"
     ]
    },
    {
     "data": {
      "text/html": [
       "<div>\n",
       "<style scoped>\n",
       "    .dataframe tbody tr th:only-of-type {\n",
       "        vertical-align: middle;\n",
       "    }\n",
       "\n",
       "    .dataframe tbody tr th {\n",
       "        vertical-align: top;\n",
       "    }\n",
       "\n",
       "    .dataframe thead th {\n",
       "        text-align: right;\n",
       "    }\n",
       "</style>\n",
       "<table border=\"1\" class=\"dataframe\">\n",
       "  <thead>\n",
       "    <tr style=\"text-align: right;\">\n",
       "      <th></th>\n",
       "      <th>POA_CODE21</th>\n",
       "      <th>user_id</th>\n",
       "      <th>merchant_abn</th>\n",
       "      <th>dollar_value</th>\n",
       "      <th>order_id</th>\n",
       "      <th>merchant_name</th>\n",
       "      <th>tags</th>\n",
       "      <th>take_rate</th>\n",
       "      <th>type</th>\n",
       "      <th>postcode</th>\n",
       "      <th>...</th>\n",
       "      <th>month</th>\n",
       "      <th>total_retail</th>\n",
       "      <th>order_datetime</th>\n",
       "      <th>__index_level_0__</th>\n",
       "      <th>latitude</th>\n",
       "      <th>longitude</th>\n",
       "      <th>genderIndex</th>\n",
       "      <th>typeIndex</th>\n",
       "      <th>tagIndex</th>\n",
       "      <th>tag_vec</th>\n",
       "    </tr>\n",
       "  </thead>\n",
       "  <tbody>\n",
       "    <tr>\n",
       "      <th>0</th>\n",
       "      <td>4823</td>\n",
       "      <td>6201</td>\n",
       "      <td>49891706470</td>\n",
       "      <td>35.254107</td>\n",
       "      <td>89483b1e-914a-42e3-9325-8f84e44f72f7</td>\n",
       "      <td>Non Vestibulum Industries</td>\n",
       "      <td>tent and awning shops</td>\n",
       "      <td>5.80</td>\n",
       "      <td>a</td>\n",
       "      <td>4823</td>\n",
       "      <td>...</td>\n",
       "      <td>2021-09-01</td>\n",
       "      <td>29756.7</td>\n",
       "      <td>2021-09-04</td>\n",
       "      <td>158204</td>\n",
       "      <td>141.061093</td>\n",
       "      <td>-20.424052</td>\n",
       "      <td>1.0</td>\n",
       "      <td>0.0</td>\n",
       "      <td>0.0</td>\n",
       "      <td>(1.0, 0.0, 0.0, 0.0, 0.0, 0.0, 0.0, 0.0, 0.0, ...</td>\n",
       "    </tr>\n",
       "    <tr>\n",
       "      <th>1</th>\n",
       "      <td>2040</td>\n",
       "      <td>9389</td>\n",
       "      <td>18949610555</td>\n",
       "      <td>30.042452</td>\n",
       "      <td>4240ba87-07d5-4392-9074-710ab1aab8a0</td>\n",
       "      <td>Metus In LLP</td>\n",
       "      <td>shoe shops</td>\n",
       "      <td>6.47</td>\n",
       "      <td>a</td>\n",
       "      <td>2040</td>\n",
       "      <td>...</td>\n",
       "      <td>2021-09-01</td>\n",
       "      <td>29756.7</td>\n",
       "      <td>2021-09-23</td>\n",
       "      <td>592854</td>\n",
       "      <td>151.157593</td>\n",
       "      <td>-33.877226</td>\n",
       "      <td>0.0</td>\n",
       "      <td>0.0</td>\n",
       "      <td>11.0</td>\n",
       "      <td>(0.0, 0.0, 0.0, 0.0, 0.0, 0.0, 0.0, 0.0, 0.0, ...</td>\n",
       "    </tr>\n",
       "    <tr>\n",
       "      <th>2</th>\n",
       "      <td>2214</td>\n",
       "      <td>20548</td>\n",
       "      <td>43162178066</td>\n",
       "      <td>82.802307</td>\n",
       "      <td>973205b9-20af-40eb-93c1-c4bbbbc6b8e7</td>\n",
       "      <td>Nascetur Ridiculus LLP</td>\n",
       "      <td>cable, satellite, and other pay television and...</td>\n",
       "      <td>4.39</td>\n",
       "      <td>b</td>\n",
       "      <td>2214</td>\n",
       "      <td>...</td>\n",
       "      <td>2021-11-01</td>\n",
       "      <td>33345</td>\n",
       "      <td>2021-11-12</td>\n",
       "      <td>1785159</td>\n",
       "      <td>150.981488</td>\n",
       "      <td>-33.938837</td>\n",
       "      <td>1.0</td>\n",
       "      <td>1.0</td>\n",
       "      <td>4.0</td>\n",
       "      <td>(0.0, 0.0, 0.0, 0.0, 1.0, 0.0, 0.0, 0.0, 0.0, ...</td>\n",
       "    </tr>\n",
       "    <tr>\n",
       "      <th>3</th>\n",
       "      <td>5556</td>\n",
       "      <td>21559</td>\n",
       "      <td>89726005175</td>\n",
       "      <td>24.131685</td>\n",
       "      <td>3adee43e-fff4-472e-bb3b-144fb5d8a69e</td>\n",
       "      <td>Est Nunc Consulting</td>\n",
       "      <td>tent and awning shops</td>\n",
       "      <td>6.01</td>\n",
       "      <td>a</td>\n",
       "      <td>5556</td>\n",
       "      <td>...</td>\n",
       "      <td>2021-12-01</td>\n",
       "      <td>31967.9</td>\n",
       "      <td>2021-12-13</td>\n",
       "      <td>2885738</td>\n",
       "      <td>137.667814</td>\n",
       "      <td>-33.893444</td>\n",
       "      <td>0.0</td>\n",
       "      <td>0.0</td>\n",
       "      <td>0.0</td>\n",
       "      <td>(1.0, 0.0, 0.0, 0.0, 0.0, 0.0, 0.0, 0.0, 0.0, ...</td>\n",
       "    </tr>\n",
       "    <tr>\n",
       "      <th>4</th>\n",
       "      <td>2214</td>\n",
       "      <td>4547</td>\n",
       "      <td>82539239304</td>\n",
       "      <td>83.740507</td>\n",
       "      <td>4e6e1069-c6a3-49c0-8613-5eda04742ef9</td>\n",
       "      <td>Vitae Ltd</td>\n",
       "      <td>opticians, optical goods, and eyeglasses</td>\n",
       "      <td>1.06</td>\n",
       "      <td>d</td>\n",
       "      <td>2214</td>\n",
       "      <td>...</td>\n",
       "      <td>2021-12-01</td>\n",
       "      <td>31967.9</td>\n",
       "      <td>2021-12-17</td>\n",
       "      <td>3015106</td>\n",
       "      <td>150.981488</td>\n",
       "      <td>-33.938837</td>\n",
       "      <td>1.0</td>\n",
       "      <td>3.0</td>\n",
       "      <td>6.0</td>\n",
       "      <td>(0.0, 0.0, 0.0, 0.0, 0.0, 0.0, 1.0, 0.0, 0.0, ...</td>\n",
       "    </tr>\n",
       "  </tbody>\n",
       "</table>\n",
       "<p>5 rows × 27 columns</p>\n",
       "</div>"
      ],
      "text/plain": [
       "   POA_CODE21  user_id  merchant_abn  dollar_value  \\\n",
       "0        4823     6201   49891706470     35.254107   \n",
       "1        2040     9389   18949610555     30.042452   \n",
       "2        2214    20548   43162178066     82.802307   \n",
       "3        5556    21559   89726005175     24.131685   \n",
       "4        2214     4547   82539239304     83.740507   \n",
       "\n",
       "                               order_id              merchant_name  \\\n",
       "0  89483b1e-914a-42e3-9325-8f84e44f72f7  Non Vestibulum Industries   \n",
       "1  4240ba87-07d5-4392-9074-710ab1aab8a0               Metus In LLP   \n",
       "2  973205b9-20af-40eb-93c1-c4bbbbc6b8e7     Nascetur Ridiculus LLP   \n",
       "3  3adee43e-fff4-472e-bb3b-144fb5d8a69e        Est Nunc Consulting   \n",
       "4  4e6e1069-c6a3-49c0-8613-5eda04742ef9                  Vitae Ltd   \n",
       "\n",
       "                                                tags  take_rate type postcode  \\\n",
       "0                              tent and awning shops       5.80    a     4823   \n",
       "1                                         shoe shops       6.47    a     2040   \n",
       "2  cable, satellite, and other pay television and...       4.39    b     2214   \n",
       "3                              tent and awning shops       6.01    a     5556   \n",
       "4           opticians, optical goods, and eyeglasses       1.06    d     2214   \n",
       "\n",
       "   ...       month total_retail order_datetime __index_level_0__    latitude  \\\n",
       "0  ...  2021-09-01      29756.7     2021-09-04            158204  141.061093   \n",
       "1  ...  2021-09-01      29756.7     2021-09-23            592854  151.157593   \n",
       "2  ...  2021-11-01        33345     2021-11-12           1785159  150.981488   \n",
       "3  ...  2021-12-01      31967.9     2021-12-13           2885738  137.667814   \n",
       "4  ...  2021-12-01      31967.9     2021-12-17           3015106  150.981488   \n",
       "\n",
       "   longitude genderIndex typeIndex tagIndex  \\\n",
       "0 -20.424052         1.0       0.0      0.0   \n",
       "1 -33.877226         0.0       0.0     11.0   \n",
       "2 -33.938837         1.0       1.0      4.0   \n",
       "3 -33.893444         0.0       0.0      0.0   \n",
       "4 -33.938837         1.0       3.0      6.0   \n",
       "\n",
       "                                             tag_vec  \n",
       "0  (1.0, 0.0, 0.0, 0.0, 0.0, 0.0, 0.0, 0.0, 0.0, ...  \n",
       "1  (0.0, 0.0, 0.0, 0.0, 0.0, 0.0, 0.0, 0.0, 0.0, ...  \n",
       "2  (0.0, 0.0, 0.0, 0.0, 1.0, 0.0, 0.0, 0.0, 0.0, ...  \n",
       "3  (1.0, 0.0, 0.0, 0.0, 0.0, 0.0, 0.0, 0.0, 0.0, ...  \n",
       "4  (0.0, 0.0, 0.0, 0.0, 0.0, 0.0, 1.0, 0.0, 0.0, ...  \n",
       "\n",
       "[5 rows x 27 columns]"
      ]
     },
     "execution_count": 34,
     "metadata": {},
     "output_type": "execute_result"
    }
   ],
   "source": [
    "df_transformed = sdf_transformed.toPandas()\n",
    "df_transformed.head()"
   ]
  },
  {
   "cell_type": "markdown",
   "metadata": {},
   "source": [
    "- Figure out corresponding index"
   ]
  },
  {
   "cell_type": "markdown",
   "metadata": {},
   "source": [
    "gender"
   ]
  },
  {
   "cell_type": "code",
   "execution_count": 27,
   "metadata": {},
   "outputs": [],
   "source": [
    "gender_correspond = sdf_transformed.drop_duplicates(subset=[c for c in sdf_transformed.columns if c in ['gender','genderIndex']])"
   ]
  },
  {
   "cell_type": "code",
   "execution_count": 28,
   "metadata": {},
   "outputs": [
    {
     "name": "stderr",
     "output_type": "stream",
     "text": [
      "Exception in thread \"serve-DataFrame\" java.net.SocketTimeoutException: Accept timed out\n",
      "\tat java.net.PlainSocketImpl.socketAccept(Native Method)\n",
      "\tat java.net.AbstractPlainSocketImpl.accept(AbstractPlainSocketImpl.java:409)\n",
      "\tat java.net.ServerSocket.implAccept(ServerSocket.java:571)\n",
      "\tat java.net.ServerSocket.accept(ServerSocket.java:534)\n",
      "\tat org.apache.spark.security.SocketAuthServer$$anon$1.run(SocketAuthServer.scala:64)\n",
      "[Stage 77:==================================================>       (7 + 1) / 8]\r"
     ]
    },
    {
     "name": "stdout",
     "output_type": "stream",
     "text": [
      "+----------+-------+------------+------------------+---------+--------+-----------+-----------+---------------+------------+--------------+-----------------+-------------------+-----------+\n",
      "|POA_CODE21|user_id|merchant_abn|      dollar_value|take_rate|postcode|consumer_id|     gender|New cases / day|total_retail|order_datetime|         latitude|          longitude|genderIndex|\n",
      "+----------+-------+------------+------------------+---------+--------+-----------+-----------+---------------+------------+--------------+-----------------+-------------------+-----------+\n",
      "|      2453|  16079| 89022158521|3036.6744813688742|     4.41|    2453|     984816|     Female|          1,122|     29261.9|    2021-08-28|152.5445987851557|-30.250197981223444|        1.0|\n",
      "|      2214|  23103| 66186109508| 61.80280843534353|      4.8|    2214|    1313504|       Male|          1,122|     29261.9|    2021-08-28| 150.981487861616|  -33.9388368430949|        0.0|\n",
      "|      6721|   6007| 17324645993|7.7705197714145395|     5.73|    6721|     937112|Undisclosed|          1,122|     29261.9|    2021-08-28|118.8368457027438|-20.536596488642612|        2.0|\n",
      "+----------+-------+------------+------------------+---------+--------+-----------+-----------+---------------+------------+--------------+-----------------+-------------------+-----------+\n",
      "\n"
     ]
    },
    {
     "name": "stderr",
     "output_type": "stream",
     "text": [
      "                                                                                \r"
     ]
    }
   ],
   "source": [
    "gender_correspond.drop('order_id', 'merchant_name', 'tags', 'type', 'name', 'address', 'state', 'population','month','__index_level_0__', 'typeIndex', 'tagIndex','tag_vec').show()"
   ]
  },
  {
   "cell_type": "markdown",
   "metadata": {},
   "source": [
    "type"
   ]
  },
  {
   "cell_type": "code",
   "execution_count": 29,
   "metadata": {},
   "outputs": [],
   "source": [
    "type_correspond = sdf_transformed.drop_duplicates(subset=[c for c in sdf_transformed.columns if c in ['type','typeIndex']])"
   ]
  },
  {
   "cell_type": "code",
   "execution_count": 30,
   "metadata": {},
   "outputs": [
    {
     "name": "stderr",
     "output_type": "stream",
     "text": [
      "[Stage 86:==================================================>       (7 + 1) / 8]\r"
     ]
    },
    {
     "name": "stdout",
     "output_type": "stream",
     "text": [
      "+----------+-------+------------+------------------+---------+----+--------+-----------+-----------------+---------------+------------+--------------+------------------+-------------------+---------+\n",
      "|POA_CODE21|user_id|merchant_abn|      dollar_value|take_rate|type|postcode|consumer_id|       population|New cases / day|total_retail|order_datetime|          latitude|          longitude|typeIndex|\n",
      "+----------+-------+------------+------------------+---------+----+--------+-----------+-----------------+---------------+------------+--------------+------------------+-------------------+---------+\n",
      "|      6721|   6007| 17324645993|7.7705197714145395|     5.73|   a|    6721|     937112|4471.784851175305|          1,122|     29261.9|    2021-08-28| 118.8368457027438|-20.536596488642612|      0.0|\n",
      "|      2453|  16079| 89022158521|3036.6744813688742|     4.41|   b|    2453|     984816|3676.038666295061|          1,122|     29261.9|    2021-08-28| 152.5445987851557|-30.250197981223444|      1.0|\n",
      "|      5556|   8569| 24852446429|11.019453384329521|     2.94|   c|    5556|      33050| 4502.99997931746|          1,122|     29261.9|    2021-08-28|137.66781360935204| -33.89344361937781|      2.0|\n",
      "|      3091|  22300| 60829135130| 2316.868177021359|     1.18|   d|    3091|     397547|5017.270945592059|          2,391|     31132.7|    2021-10-05| 145.1348627068149| -37.63750003701364|      3.0|\n",
      "|      5556|  21559| 63685007785| 46.90876524334313|     0.38|   e|    5556|     896965| 4502.99997931746|          1,662|     29756.7|    2021-09-22|137.66781360935204| -33.89344361937781|      4.0|\n",
      "+----------+-------+------------+------------------+---------+----+--------+-----------+-----------------+---------------+------------+--------------+------------------+-------------------+---------+\n",
      "\n"
     ]
    },
    {
     "name": "stderr",
     "output_type": "stream",
     "text": [
      "                                                                                \r"
     ]
    }
   ],
   "source": [
    "type_correspond.drop('order_id', 'merchant_name', 'tags', 'gender', 'name', 'address', 'state','month','__index_level_0__', 'genderIndex', 'tagIndex','tag_vec').show()"
   ]
  },
  {
   "cell_type": "markdown",
   "metadata": {},
   "source": [
    "tag"
   ]
  },
  {
   "cell_type": "code",
   "execution_count": 31,
   "metadata": {},
   "outputs": [],
   "source": [
    "type_correspond = sdf_transformed.drop_duplicates(subset=[c for c in sdf_transformed.columns if c in ['tag','tagIndex', 'tag_vec']])"
   ]
  },
  {
   "cell_type": "code",
   "execution_count": 32,
   "metadata": {},
   "outputs": [
    {
     "name": "stderr",
     "output_type": "stream",
     "text": [
      "[Stage 95:==================================================>       (7 + 1) / 8]\r"
     ]
    },
    {
     "name": "stdout",
     "output_type": "stream",
     "text": [
      "+----------+-------+------------+------------------+--------------------+---------+--------+-----------+-----------------+---------------+------------+--------------+------------------+-------------------+--------+---------------+\n",
      "|POA_CODE21|user_id|merchant_abn|      dollar_value|                tags|take_rate|postcode|consumer_id|       population|New cases / day|total_retail|order_datetime|          latitude|          longitude|tagIndex|        tag_vec|\n",
      "+----------+-------+------------+------------------+--------------------+---------+--------+-----------+-----------------+---------------+------------+--------------+------------------+-------------------+--------+---------------+\n",
      "|      6721|   6007| 17324645993|7.7705197714145395|tent and awning s...|     5.73|    6721|     937112|4471.784851175305|          1,122|     29261.9|    2021-08-28| 118.8368457027438|-20.536596488642612|     0.0| (24,[0],[1.0])|\n",
      "|      2453|  16175| 50866797623|  75.6266565291164|gift, card, novel...|     2.82|    2453|     116331|3676.038666295061|          1,658|     29756.7|    2021-09-05| 152.5445987851557|-30.250197981223444|     1.0| (24,[1],[1.0])|\n",
      "|      4823|  11051| 72472909171| 89.15245788925267|digital goods: bo...|     6.33|    4823|    1181453|2282.679126056244|          1,122|     29261.9|    2021-08-28|141.06109322275086|-20.424052450196143|     2.0| (24,[2],[1.0])|\n",
      "|      6721|   6007| 62773208456|31.945833877023453|watch, clock, and...|     2.62|    6721|     937112|4471.784851175305|          1,355|     29261.9|    2021-08-30| 118.8368457027438|-20.536596488642612|     3.0| (24,[3],[1.0])|\n",
      "|      2214|  23103| 66186109508| 61.80280843534353|cable, satellite,...|      4.8|    2214|    1313504|7833.920905657307|          1,122|     29261.9|    2021-08-28|  150.981487861616|  -33.9388368430949|     4.0| (24,[4],[1.0])|\n",
      "|      5556|   8569| 24852446429|11.019453384329521|florists supplies...|     2.94|    5556|      33050| 4502.99997931746|          1,122|     29261.9|    2021-08-28|137.66781360935204| -33.89344361937781|     5.0| (24,[5],[1.0])|\n",
      "|      2040|  11893| 46804135891|  29.5054963254339|opticians, optica...|     2.93|    2040|     245147|24442.03477503719|          1,355|     29261.9|    2021-08-30|151.15759301879152| -33.87722582700607|     6.0| (24,[6],[1.0])|\n",
      "|      2529|  20337| 13839274306| 30.92056817780565|computers, comput...|      6.0|    2529|     542949|25801.37595359558|          1,866|     29756.7|    2021-09-10| 150.8386832667038| -34.60046740535162|     7.0| (24,[7],[1.0])|\n",
      "|      2214|  21732| 94729574738| 61.01737413074626|computer programm...|     4.51|    2214|     581451|7833.920905657307|          1,658|     29756.7|    2021-09-05|  150.981487861616|  -33.9388368430949|     8.0| (24,[8],[1.0])|\n",
      "|      2214|  23103| 14246432250|160.21728190560185|artist supply and...|     6.61|    2214|    1313504|7833.920905657307|          1,242|     29756.7|    2021-09-01|  150.981487861616|  -33.9388368430949|     9.0| (24,[9],[1.0])|\n",
      "|      2453|  16079| 76767266140| 269.0191714544737|furniture, home f...|     4.65|    2453|     984816|3676.038666295061|          1,741|     29756.7|    2021-09-04| 152.5445987851557|-30.250197981223444|    10.0|(24,[10],[1.0])|\n",
      "|      2214|  20548| 93558142492| 60.86627010346932|          shoe shops|     3.41|    2214|     957053|7833.920905657307|          1,482|     29756.7|    2021-09-02|  150.981487861616|  -33.9388368430949|    11.0|(24,[11],[1.0])|\n",
      "|      3091|   2262| 72738688428|27.118621560974304|books, periodical...|     5.67|    3091|     840635|5017.270945592059|          1,482|     29756.7|    2021-09-02| 145.1348627068149| -37.63750003701364|    12.0|(24,[12],[1.0])|\n",
      "|      2529|  20337| 82298341051|509.14858827896126|lawn and garden s...|     4.73|    2529|     542949|25801.37595359558|          2,044|     29756.7|    2021-09-11| 150.8386832667038| -34.60046740535162|    13.0|(24,[13],[1.0])|\n",
      "|      4823|  23809| 64403598239| 104.2301937874136|music shops - mus...|     6.31|    4823|    1246076|2282.679126056244|          2,024|     31132.7|    2021-10-06|141.06109322275086|-20.424052450196143|    14.0|(24,[14],[1.0])|\n",
      "|      3091|  16992| 22227727512| 426.7963748237517|motor vehicle sup...|     5.03|    3091|      11346|5017.270945592059|          1,864|     29756.7|    2021-09-25| 145.1348627068149| -37.63750003701364|    15.0|(24,[15],[1.0])|\n",
      "|      5556|  15659| 60706491699| 62.97159049446395|health and beauty...|     4.24|    5556|     105738| 4502.99997931746|          1,546|     29756.7|    2021-09-06|137.66781360935204| -33.89344361937781|    16.0|(24,[16],[1.0])|\n",
      "|      2453|  16079| 89022158521|3036.6744813688742|hobby, toy and ga...|     4.41|    2453|     984816|3676.038666295061|          1,122|     29261.9|    2021-08-28| 152.5445987851557|-30.250197981223444|    17.0|(24,[17],[1.0])|\n",
      "|      3506|  10946| 54272781746| 33.07991535733474|bicycle shops - s...|     4.54|    3506|     729506|74.80310587884506|          1,320|     29261.9|    2021-08-29|141.36526207519685| -35.18818636789844|    18.0|(24,[18],[1.0])|\n",
      "|      2214|  20707| 76626119831|116.63197047272487|antique shops - s...|     1.99|    2214|     372264|7833.920905657307|          1,472|     29756.7|    2021-09-20|  150.981487861616|  -33.9388368430949|    19.0|(24,[19],[1.0])|\n",
      "+----------+-------+------------+------------------+--------------------+---------+--------+-----------+-----------------+---------------+------------+--------------+------------------+-------------------+--------+---------------+\n",
      "only showing top 20 rows\n",
      "\n"
     ]
    },
    {
     "name": "stderr",
     "output_type": "stream",
     "text": [
      "                                                                                \r"
     ]
    }
   ],
   "source": [
    "type_correspond.drop('order_id', 'merchant_name', 'type', 'gender', 'name', 'address', 'state','month','__index_level_0__', 'genderIndex', 'typeIndex').show()"
   ]
  }
 ],
 "metadata": {
  "kernelspec": {
   "display_name": "Python 3.7.9 64-bit",
   "language": "python",
   "name": "python3"
  },
  "language_info": {
   "codemirror_mode": {
    "name": "ipython",
    "version": 3
   },
   "file_extension": ".py",
   "mimetype": "text/x-python",
   "name": "python",
   "nbconvert_exporter": "python",
   "pygments_lexer": "ipython3",
   "version": "3.7.9"
  },
  "orig_nbformat": 4,
  "vscode": {
   "interpreter": {
    "hash": "aee8b7b246df8f9039afb4144a1f6fd8d2ca17a180786b69acc140d282b71a49"
   }
  }
 },
 "nbformat": 4,
 "nbformat_minor": 2
}
