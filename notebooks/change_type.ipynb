{
 "cells": [
  {
   "cell_type": "markdown",
   "metadata": {},
   "source": [
    "Packages"
   ]
  },
  {
   "cell_type": "code",
   "execution_count": 2,
   "metadata": {},
   "outputs": [],
   "source": [
    "import os\n",
    "import numpy\n",
    "import pandas as pd\n",
    "import tqdm\n",
    "from pyspark.sql import SparkSession\n",
    "from pyspark.ml.feature import OneHotEncoder, StringIndexer\n",
    "from pyspark.ml import Pipeline\n",
    "import sys\n",
    "sys.path.append('../scripts/')\n",
    "from read_utils import read_file, create_folder, temp_record_query, temp_record_sdf"
   ]
  },
  {
   "cell_type": "code",
   "execution_count": 4,
   "metadata": {},
   "outputs": [],
   "source": [
    "from pyspark.sql import SparkSession"
   ]
  },
  {
   "cell_type": "code",
   "execution_count": 5,
   "metadata": {},
   "outputs": [
    {
     "name": "stdout",
     "output_type": "stream",
     "text": [
      "22/09/26 21:49:39 WARN Utils: Your hostname, Runyus-MacBook-Pro.local resolves to a loopback address: 127.0.0.1; using 192.168.3.12 instead (on interface en0)\n",
      "22/09/26 21:49:39 WARN Utils: Set SPARK_LOCAL_IP if you need to bind to another address\n"
     ]
    },
    {
     "name": "stderr",
     "output_type": "stream",
     "text": [
      "Setting default log level to \"WARN\".\n",
      "To adjust logging level use sc.setLogLevel(newLevel). For SparkR, use setLogLevel(newLevel).\n"
     ]
    },
    {
     "name": "stdout",
     "output_type": "stream",
     "text": [
      "22/09/26 21:49:39 WARN NativeCodeLoader: Unable to load native-hadoop library for your platform... using builtin-java classes where applicable\n",
      "22/09/26 21:49:40 WARN Utils: Service 'SparkUI' could not bind on port 4040. Attempting port 4041.\n"
     ]
    }
   ],
   "source": [
    "spark = (\n",
    "    # Create a spark session (which will run spark jobs)\n",
    "    SparkSession.builder.appName(\"Project 2\")\n",
    "    .config(\"spark.sql.repl.eagerEval.enabled\", True) \n",
    "    .config(\"spark.sql.parquet.cacheMetadata\", \"true\")\n",
    "    .config('spark.executor.memory','10g')\n",
    "    .config('spark.driver.memory','12g')\n",
    "    .config('spark.driver.maxResultsSize', '10GiB')\n",
    "    # .config(\"spark.network.timeout\", \"3600s\")\n",
    "    # .master(\"local[6]\")\n",
    "    .getOrCreate()\n",
    "    )"
   ]
  },
  {
   "cell_type": "code",
   "execution_count": 3,
   "metadata": {},
   "outputs": [],
   "source": [
    "file_name_list = sorted(os.listdir('../data/curated/data'))"
   ]
  },
  {
   "cell_type": "code",
   "execution_count": 4,
   "metadata": {},
   "outputs": [
    {
     "name": "stdout",
     "output_type": "stream",
     "text": [
      "|> Loading File...\n"
     ]
    },
    {
     "name": "stderr",
     "output_type": "stream",
     "text": [
      "                                                                                \r"
     ]
    },
    {
     "name": "stdout",
     "output_type": "stream",
     "text": [
      "|> Loading Finished!\n",
      "-RECORD 0-----------------------------------------------\n",
      " user_id         | 1                                    \n",
      " merchant_abn    | 46451548968                          \n",
      " dollar_value    | 72.61581642788431                    \n",
      " order_id        | 76bab304-fa2d-4004-8179-8638b56a873e \n",
      " merchant_name   | Tempus Eu Ligula Limited             \n",
      " tags            | health and beauty spas               \n",
      " take_rate       | 6.04                                 \n",
      " type            | a                                    \n",
      " consumer_id     | 1195503                              \n",
      " name            | Yolanda Williams                     \n",
      " address         | 413 Haney Gardens Apt. 742           \n",
      " state           | WA                                   \n",
      " postcode        | 6935                                 \n",
      " gender          | Female                               \n",
      " New cases / day | 1,621                                \n",
      " order_datetime  | 2021-11-26                           \n",
      "only showing top 1 row\n",
      "\n"
     ]
    }
   ],
   "source": [
    "sdf = read_file(spark, 'data', '../data/curated/')"
   ]
  },
  {
   "cell_type": "code",
   "execution_count": 5,
   "metadata": {},
   "outputs": [],
   "source": [
    "# type\n",
    "type_indexer = StringIndexer(inputCol = \"type\", outputCol = \"typeIndex\", handleInvalid=\"skip\")\n",
    "\n",
    "# gender\n",
    "gender_indexer = StringIndexer(inputCol = \"gender\", outputCol = \"genderIndex\", handleInvalid=\"skip\")\n",
    "\n",
    "# tag\n",
    "tag_indexer = StringIndexer(inputCol = \"tags\",outputCol = \"tagIndex\", handleInvalid=\"skip\")\n",
    "onehotencoder_tag_vector = OneHotEncoder(inputCol = \"tagIndex\", outputCol = \"tag_vec\")\n",
    "\n",
    "#Create pipeline and pass all stages\n",
    "pipeline = Pipeline(stages=[gender_indexer, \n",
    "                            type_indexer,\n",
    "                            tag_indexer,\n",
    "                            onehotencoder_tag_vector])"
   ]
  },
  {
   "cell_type": "code",
   "execution_count": 6,
   "metadata": {},
   "outputs": [
    {
     "name": "stdout",
     "output_type": "stream",
     "text": [
      "+-------+------------+------------------+--------------------+--------------------+--------------------+---------+----+-----------+-----------------+--------------------+-----+--------+------+---------------+--------------+\n",
      "|user_id|merchant_abn|      dollar_value|            order_id|       merchant_name|                tags|take_rate|type|consumer_id|             name|             address|state|postcode|gender|New cases / day|order_datetime|\n",
      "+-------+------------+------------------+--------------------+--------------------+--------------------+---------+----+-----------+-----------------+--------------------+-----+--------+------+---------------+--------------+\n",
      "|      1| 46451548968| 72.61581642788431|76bab304-fa2d-400...|Tempus Eu Ligula ...|health and beauty...|     6.04|   a|    1195503| Yolanda Williams|413 Haney Gardens...|   WA|    6935|Female|          1,621|    2021-11-26|\n",
      "|      1| 49167531725| 51.58228625503599|7080c274-17f7-4cc...|     Felis Institute|digital goods: bo...|     6.42|   a|    1195503| Yolanda Williams|413 Haney Gardens...|   WA|    6935|Female|          1,621|    2021-11-26|\n",
      "|      5| 76646764782|35.463129852951695|0c855413-67fa-467...|    Tempor Diam Inc.|florists supplies...|     5.09|   b|     712975|Rebecca Blanchard|9271 Michael Mano...|   WA|    6355|Female|          1,621|    2021-11-26|\n",
      "|      5| 71041015148| 89.76800577775657|93255de9-c8fe-426...|            Orci Ltd|digital goods: bo...|     2.19|   c|     712975|Rebecca Blanchard|9271 Michael Mano...|   WA|    6355|Female|          1,621|    2021-11-26|\n",
      "|      5| 80324045558| 62.79195913018835|564f81c8-c3c1-4f4...|Ipsum Dolor Sit C...|gift, card, novel...|     1.47|   c|     712975|Rebecca Blanchard|9271 Michael Mano...|   WA|    6355|Female|          1,621|    2021-11-26|\n",
      "+-------+------------+------------------+--------------------+--------------------+--------------------+---------+----+-----------+-----------------+--------------------+-----+--------+------+---------------+--------------+\n",
      "only showing top 5 rows\n",
      "\n"
     ]
    }
   ],
   "source": [
    "sdf.show(5)"
   ]
  },
  {
   "cell_type": "code",
   "execution_count": 7,
   "metadata": {},
   "outputs": [
    {
     "name": "stderr",
     "output_type": "stream",
     "text": [
      "                                                                                \r"
     ]
    },
    {
     "name": "stdout",
     "output_type": "stream",
     "text": [
      "+-------+------------+------------------+--------------------+--------------------+--------------------+---------+----+-----------+-----------------+--------------------+-----+--------+------+---------------+--------------+-----------+---------+--------+---------------+\n",
      "|user_id|merchant_abn|      dollar_value|            order_id|       merchant_name|                tags|take_rate|type|consumer_id|             name|             address|state|postcode|gender|New cases / day|order_datetime|genderIndex|typeIndex|tagIndex|        tag_vec|\n",
      "+-------+------------+------------------+--------------------+--------------------+--------------------+---------+----+-----------+-----------------+--------------------+-----+--------+------+---------------+--------------+-----------+---------+--------+---------------+\n",
      "|      1| 46451548968| 72.61581642788431|76bab304-fa2d-400...|Tempus Eu Ligula ...|health and beauty...|     6.04|   a|    1195503| Yolanda Williams|413 Haney Gardens...|   WA|    6935|Female|          1,621|    2021-11-26|        1.0|      0.0|    16.0|(24,[16],[1.0])|\n",
      "|      1| 49167531725| 51.58228625503599|7080c274-17f7-4cc...|     Felis Institute|digital goods: bo...|     6.42|   a|    1195503| Yolanda Williams|413 Haney Gardens...|   WA|    6935|Female|          1,621|    2021-11-26|        1.0|      0.0|     2.0| (24,[2],[1.0])|\n",
      "|      5| 76646764782|35.463129852951695|0c855413-67fa-467...|    Tempor Diam Inc.|florists supplies...|     5.09|   b|     712975|Rebecca Blanchard|9271 Michael Mano...|   WA|    6355|Female|          1,621|    2021-11-26|        1.0|      1.0|     5.0| (24,[5],[1.0])|\n",
      "|      5| 71041015148| 89.76800577775657|93255de9-c8fe-426...|            Orci Ltd|digital goods: bo...|     2.19|   c|     712975|Rebecca Blanchard|9271 Michael Mano...|   WA|    6355|Female|          1,621|    2021-11-26|        1.0|      2.0|     2.0| (24,[2],[1.0])|\n",
      "|      5| 80324045558| 62.79195913018835|564f81c8-c3c1-4f4...|Ipsum Dolor Sit C...|gift, card, novel...|     1.47|   c|     712975|Rebecca Blanchard|9271 Michael Mano...|   WA|    6355|Female|          1,621|    2021-11-26|        1.0|      2.0|     1.0| (24,[1],[1.0])|\n",
      "+-------+------------+------------------+--------------------+--------------------+--------------------+---------+----+-----------+-----------------+--------------------+-----+--------+------+---------------+--------------+-----------+---------+--------+---------------+\n",
      "only showing top 5 rows\n",
      "\n"
     ]
    }
   ],
   "source": [
    "sdf_transformed = pipeline.fit(sdf).transform(sdf)\n",
    "sdf_transformed.show(5)"
   ]
  },
  {
   "cell_type": "markdown",
   "metadata": {},
   "source": [
    "- figure out that tag_vec"
   ]
  },
  {
   "cell_type": "code",
   "execution_count": 8,
   "metadata": {},
   "outputs": [],
   "source": [
    "SAMPLE_SIZE = 0.05\n",
    "sdf_transformed = sdf_transformed.sample(SAMPLE_SIZE, seed=0)"
   ]
  },
  {
   "cell_type": "code",
   "execution_count": 9,
   "metadata": {},
   "outputs": [
    {
     "name": "stderr",
     "output_type": "stream",
     "text": [
      "                                                                                \r"
     ]
    },
    {
     "data": {
      "text/html": [
       "<div>\n",
       "<style scoped>\n",
       "    .dataframe tbody tr th:only-of-type {\n",
       "        vertical-align: middle;\n",
       "    }\n",
       "\n",
       "    .dataframe tbody tr th {\n",
       "        vertical-align: top;\n",
       "    }\n",
       "\n",
       "    .dataframe thead th {\n",
       "        text-align: right;\n",
       "    }\n",
       "</style>\n",
       "<table border=\"1\" class=\"dataframe\">\n",
       "  <thead>\n",
       "    <tr style=\"text-align: right;\">\n",
       "      <th></th>\n",
       "      <th>user_id</th>\n",
       "      <th>merchant_abn</th>\n",
       "      <th>dollar_value</th>\n",
       "      <th>order_id</th>\n",
       "      <th>merchant_name</th>\n",
       "      <th>tags</th>\n",
       "      <th>take_rate</th>\n",
       "      <th>type</th>\n",
       "      <th>consumer_id</th>\n",
       "      <th>name</th>\n",
       "      <th>address</th>\n",
       "      <th>state</th>\n",
       "      <th>postcode</th>\n",
       "      <th>gender</th>\n",
       "      <th>New cases / day</th>\n",
       "      <th>order_datetime</th>\n",
       "      <th>genderIndex</th>\n",
       "      <th>typeIndex</th>\n",
       "      <th>tagIndex</th>\n",
       "      <th>tag_vec</th>\n",
       "    </tr>\n",
       "  </thead>\n",
       "  <tbody>\n",
       "    <tr>\n",
       "      <th>0</th>\n",
       "      <td>17</td>\n",
       "      <td>18709053174</td>\n",
       "      <td>22.392280</td>\n",
       "      <td>901d96f0-5400-47b8-9b84-f4e662aa4ce8</td>\n",
       "      <td>Massa Rutrum Industries</td>\n",
       "      <td>tent and awning shops</td>\n",
       "      <td>3.39</td>\n",
       "      <td>b</td>\n",
       "      <td>1331093</td>\n",
       "      <td>Alyssa Wilson</td>\n",
       "      <td>44353 Nathan Ridge</td>\n",
       "      <td>VIC</td>\n",
       "      <td>3719</td>\n",
       "      <td>Female</td>\n",
       "      <td>1,621</td>\n",
       "      <td>2021-11-26</td>\n",
       "      <td>1.0</td>\n",
       "      <td>1.0</td>\n",
       "      <td>0.0</td>\n",
       "      <td>(1.0, 0.0, 0.0, 0.0, 0.0, 0.0, 0.0, 0.0, 0.0, ...</td>\n",
       "    </tr>\n",
       "    <tr>\n",
       "      <th>1</th>\n",
       "      <td>52</td>\n",
       "      <td>73499119023</td>\n",
       "      <td>16.299283</td>\n",
       "      <td>5f4af1eb-e9aa-437e-850d-e50694a1eff3</td>\n",
       "      <td>Nisi Dictum Company</td>\n",
       "      <td>watch, clock, and jewelry repair shops</td>\n",
       "      <td>5.56</td>\n",
       "      <td>a</td>\n",
       "      <td>95154</td>\n",
       "      <td>Wendy Brown</td>\n",
       "      <td>27343 Rodriguez Ports</td>\n",
       "      <td>WA</td>\n",
       "      <td>6963</td>\n",
       "      <td>Female</td>\n",
       "      <td>1,621</td>\n",
       "      <td>2021-11-26</td>\n",
       "      <td>1.0</td>\n",
       "      <td>0.0</td>\n",
       "      <td>3.0</td>\n",
       "      <td>(0.0, 0.0, 0.0, 1.0, 0.0, 0.0, 0.0, 0.0, 0.0, ...</td>\n",
       "    </tr>\n",
       "    <tr>\n",
       "      <th>2</th>\n",
       "      <td>170</td>\n",
       "      <td>78982081666</td>\n",
       "      <td>106.189382</td>\n",
       "      <td>056852ba-612a-4dc3-a9f3-53a02ff2d888</td>\n",
       "      <td>Lectus Corp.</td>\n",
       "      <td>books, periodicals, and newspapers</td>\n",
       "      <td>4.96</td>\n",
       "      <td>b</td>\n",
       "      <td>1430320</td>\n",
       "      <td>Nicole Russo</td>\n",
       "      <td>661 Moore Island</td>\n",
       "      <td>WA</td>\n",
       "      <td>6313</td>\n",
       "      <td>Female</td>\n",
       "      <td>1,621</td>\n",
       "      <td>2021-11-26</td>\n",
       "      <td>1.0</td>\n",
       "      <td>1.0</td>\n",
       "      <td>12.0</td>\n",
       "      <td>(0.0, 0.0, 0.0, 0.0, 0.0, 0.0, 0.0, 0.0, 0.0, ...</td>\n",
       "    </tr>\n",
       "    <tr>\n",
       "      <th>3</th>\n",
       "      <td>226</td>\n",
       "      <td>94547309480</td>\n",
       "      <td>142.604001</td>\n",
       "      <td>6df86507-6255-4610-a6aa-88474c6c9d93</td>\n",
       "      <td>Lorem Ac Institute</td>\n",
       "      <td>bicycle shops - sales and service</td>\n",
       "      <td>2.66</td>\n",
       "      <td>c</td>\n",
       "      <td>710483</td>\n",
       "      <td>Emily Singh</td>\n",
       "      <td>0107 Flores Street Suite 423</td>\n",
       "      <td>SA</td>\n",
       "      <td>5642</td>\n",
       "      <td>Female</td>\n",
       "      <td>1,621</td>\n",
       "      <td>2021-11-26</td>\n",
       "      <td>1.0</td>\n",
       "      <td>2.0</td>\n",
       "      <td>18.0</td>\n",
       "      <td>(0.0, 0.0, 0.0, 0.0, 0.0, 0.0, 0.0, 0.0, 0.0, ...</td>\n",
       "    </tr>\n",
       "    <tr>\n",
       "      <th>4</th>\n",
       "      <td>250</td>\n",
       "      <td>78327477486</td>\n",
       "      <td>517.366887</td>\n",
       "      <td>45feae7d-f31f-41f3-8b97-73c24ce779c8</td>\n",
       "      <td>Auctor Inc.</td>\n",
       "      <td>lawn and garden supply outlets, including nurs...</td>\n",
       "      <td>1.47</td>\n",
       "      <td>c</td>\n",
       "      <td>470403</td>\n",
       "      <td>Robert Ochoa</td>\n",
       "      <td>326 Hodges Square</td>\n",
       "      <td>VIC</td>\n",
       "      <td>3447</td>\n",
       "      <td>Male</td>\n",
       "      <td>1,621</td>\n",
       "      <td>2021-11-26</td>\n",
       "      <td>0.0</td>\n",
       "      <td>2.0</td>\n",
       "      <td>13.0</td>\n",
       "      <td>(0.0, 0.0, 0.0, 0.0, 0.0, 0.0, 0.0, 0.0, 0.0, ...</td>\n",
       "    </tr>\n",
       "    <tr>\n",
       "      <th>...</th>\n",
       "      <td>...</td>\n",
       "      <td>...</td>\n",
       "      <td>...</td>\n",
       "      <td>...</td>\n",
       "      <td>...</td>\n",
       "      <td>...</td>\n",
       "      <td>...</td>\n",
       "      <td>...</td>\n",
       "      <td>...</td>\n",
       "      <td>...</td>\n",
       "      <td>...</td>\n",
       "      <td>...</td>\n",
       "      <td>...</td>\n",
       "      <td>...</td>\n",
       "      <td>...</td>\n",
       "      <td>...</td>\n",
       "      <td>...</td>\n",
       "      <td>...</td>\n",
       "      <td>...</td>\n",
       "      <td>...</td>\n",
       "    </tr>\n",
       "    <tr>\n",
       "      <th>216722</th>\n",
       "      <td>17961</td>\n",
       "      <td>76767266140</td>\n",
       "      <td>342.948509</td>\n",
       "      <td>7bf22352-e342-4e01-83a0-81ce45219027</td>\n",
       "      <td>Phasellus At Limited</td>\n",
       "      <td>furniture, home furnishings and equipment shop...</td>\n",
       "      <td>4.65</td>\n",
       "      <td>b</td>\n",
       "      <td>1008461</td>\n",
       "      <td>Rebecca Morse</td>\n",
       "      <td>2629 Debra Parks</td>\n",
       "      <td>SA</td>\n",
       "      <td>5276</td>\n",
       "      <td>Female</td>\n",
       "      <td>33,079</td>\n",
       "      <td>2022-01-26</td>\n",
       "      <td>1.0</td>\n",
       "      <td>1.0</td>\n",
       "      <td>9.0</td>\n",
       "      <td>(0.0, 0.0, 0.0, 0.0, 0.0, 0.0, 0.0, 0.0, 0.0, ...</td>\n",
       "    </tr>\n",
       "    <tr>\n",
       "      <th>216723</th>\n",
       "      <td>18639</td>\n",
       "      <td>17488304283</td>\n",
       "      <td>76.787254</td>\n",
       "      <td>397cb2b2-c1f5-4a9f-b22d-3a2d31091bda</td>\n",
       "      <td>Posuere Cubilia Curae Corporation</td>\n",
       "      <td>cable, satellite, and other pay television and...</td>\n",
       "      <td>6.18</td>\n",
       "      <td>a</td>\n",
       "      <td>994231</td>\n",
       "      <td>Mallory Allen</td>\n",
       "      <td>374 Thomas Vista</td>\n",
       "      <td>NSW</td>\n",
       "      <td>4375</td>\n",
       "      <td>Female</td>\n",
       "      <td>33,079</td>\n",
       "      <td>2022-01-26</td>\n",
       "      <td>1.0</td>\n",
       "      <td>0.0</td>\n",
       "      <td>4.0</td>\n",
       "      <td>(0.0, 0.0, 0.0, 0.0, 1.0, 0.0, 0.0, 0.0, 0.0, ...</td>\n",
       "    </tr>\n",
       "    <tr>\n",
       "      <th>216724</th>\n",
       "      <td>19189</td>\n",
       "      <td>80324045558</td>\n",
       "      <td>74.506476</td>\n",
       "      <td>a4af9ede-695a-4479-ad98-bc23979eb236</td>\n",
       "      <td>Ipsum Dolor Sit Corporation</td>\n",
       "      <td>gift, card, novelty, and souvenir shops</td>\n",
       "      <td>1.47</td>\n",
       "      <td>c</td>\n",
       "      <td>1102313</td>\n",
       "      <td>Brandy Robinson</td>\n",
       "      <td>3149 Mary Junction Apt. 899</td>\n",
       "      <td>WA</td>\n",
       "      <td>6923</td>\n",
       "      <td>Female</td>\n",
       "      <td>33,079</td>\n",
       "      <td>2022-01-26</td>\n",
       "      <td>1.0</td>\n",
       "      <td>2.0</td>\n",
       "      <td>1.0</td>\n",
       "      <td>(0.0, 1.0, 0.0, 0.0, 0.0, 0.0, 0.0, 0.0, 0.0, ...</td>\n",
       "    </tr>\n",
       "    <tr>\n",
       "      <th>216725</th>\n",
       "      <td>21171</td>\n",
       "      <td>89726005175</td>\n",
       "      <td>45.786481</td>\n",
       "      <td>ec7d731c-c3d9-47f5-8313-fab3d392840a</td>\n",
       "      <td>Est Nunc Consulting</td>\n",
       "      <td>tent and awning shops</td>\n",
       "      <td>6.01</td>\n",
       "      <td>a</td>\n",
       "      <td>562461</td>\n",
       "      <td>Mark Hughes</td>\n",
       "      <td>28321 Davis Groves Apt. 024</td>\n",
       "      <td>WA</td>\n",
       "      <td>6517</td>\n",
       "      <td>Male</td>\n",
       "      <td>33,079</td>\n",
       "      <td>2022-01-26</td>\n",
       "      <td>0.0</td>\n",
       "      <td>0.0</td>\n",
       "      <td>0.0</td>\n",
       "      <td>(1.0, 0.0, 0.0, 0.0, 0.0, 0.0, 0.0, 0.0, 0.0, ...</td>\n",
       "    </tr>\n",
       "    <tr>\n",
       "      <th>216726</th>\n",
       "      <td>21259</td>\n",
       "      <td>26445720989</td>\n",
       "      <td>93.161062</td>\n",
       "      <td>f075de0d-ce65-4b50-8d00-65062f0ec4a0</td>\n",
       "      <td>Donec Limited</td>\n",
       "      <td>opticians, optical goods, and eyeglasses</td>\n",
       "      <td>4.28</td>\n",
       "      <td>b</td>\n",
       "      <td>653240</td>\n",
       "      <td>Gina Compton</td>\n",
       "      <td>47604 Michael Inlet Apt. 097</td>\n",
       "      <td>VIC</td>\n",
       "      <td>3871</td>\n",
       "      <td>Female</td>\n",
       "      <td>33,079</td>\n",
       "      <td>2022-01-26</td>\n",
       "      <td>1.0</td>\n",
       "      <td>1.0</td>\n",
       "      <td>6.0</td>\n",
       "      <td>(0.0, 0.0, 0.0, 0.0, 0.0, 0.0, 1.0, 0.0, 0.0, ...</td>\n",
       "    </tr>\n",
       "  </tbody>\n",
       "</table>\n",
       "<p>216727 rows × 20 columns</p>\n",
       "</div>"
      ],
      "text/plain": [
       "        user_id  merchant_abn  dollar_value  \\\n",
       "0            17   18709053174     22.392280   \n",
       "1            52   73499119023     16.299283   \n",
       "2           170   78982081666    106.189382   \n",
       "3           226   94547309480    142.604001   \n",
       "4           250   78327477486    517.366887   \n",
       "...         ...           ...           ...   \n",
       "216722    17961   76767266140    342.948509   \n",
       "216723    18639   17488304283     76.787254   \n",
       "216724    19189   80324045558     74.506476   \n",
       "216725    21171   89726005175     45.786481   \n",
       "216726    21259   26445720989     93.161062   \n",
       "\n",
       "                                    order_id  \\\n",
       "0       901d96f0-5400-47b8-9b84-f4e662aa4ce8   \n",
       "1       5f4af1eb-e9aa-437e-850d-e50694a1eff3   \n",
       "2       056852ba-612a-4dc3-a9f3-53a02ff2d888   \n",
       "3       6df86507-6255-4610-a6aa-88474c6c9d93   \n",
       "4       45feae7d-f31f-41f3-8b97-73c24ce779c8   \n",
       "...                                      ...   \n",
       "216722  7bf22352-e342-4e01-83a0-81ce45219027   \n",
       "216723  397cb2b2-c1f5-4a9f-b22d-3a2d31091bda   \n",
       "216724  a4af9ede-695a-4479-ad98-bc23979eb236   \n",
       "216725  ec7d731c-c3d9-47f5-8313-fab3d392840a   \n",
       "216726  f075de0d-ce65-4b50-8d00-65062f0ec4a0   \n",
       "\n",
       "                            merchant_name  \\\n",
       "0                 Massa Rutrum Industries   \n",
       "1                     Nisi Dictum Company   \n",
       "2                            Lectus Corp.   \n",
       "3                      Lorem Ac Institute   \n",
       "4                             Auctor Inc.   \n",
       "...                                   ...   \n",
       "216722               Phasellus At Limited   \n",
       "216723  Posuere Cubilia Curae Corporation   \n",
       "216724        Ipsum Dolor Sit Corporation   \n",
       "216725                Est Nunc Consulting   \n",
       "216726                      Donec Limited   \n",
       "\n",
       "                                                     tags  take_rate type  \\\n",
       "0                                   tent and awning shops       3.39    b   \n",
       "1                  watch, clock, and jewelry repair shops       5.56    a   \n",
       "2                      books, periodicals, and newspapers       4.96    b   \n",
       "3                       bicycle shops - sales and service       2.66    c   \n",
       "4       lawn and garden supply outlets, including nurs...       1.47    c   \n",
       "...                                                   ...        ...  ...   \n",
       "216722  furniture, home furnishings and equipment shop...       4.65    b   \n",
       "216723  cable, satellite, and other pay television and...       6.18    a   \n",
       "216724            gift, card, novelty, and souvenir shops       1.47    c   \n",
       "216725                              tent and awning shops       6.01    a   \n",
       "216726           opticians, optical goods, and eyeglasses       4.28    b   \n",
       "\n",
       "       consumer_id             name                       address state  \\\n",
       "0          1331093    Alyssa Wilson            44353 Nathan Ridge   VIC   \n",
       "1            95154      Wendy Brown         27343 Rodriguez Ports    WA   \n",
       "2          1430320     Nicole Russo              661 Moore Island    WA   \n",
       "3           710483      Emily Singh  0107 Flores Street Suite 423    SA   \n",
       "4           470403     Robert Ochoa             326 Hodges Square   VIC   \n",
       "...            ...              ...                           ...   ...   \n",
       "216722     1008461    Rebecca Morse              2629 Debra Parks    SA   \n",
       "216723      994231    Mallory Allen              374 Thomas Vista   NSW   \n",
       "216724     1102313  Brandy Robinson   3149 Mary Junction Apt. 899    WA   \n",
       "216725      562461      Mark Hughes   28321 Davis Groves Apt. 024    WA   \n",
       "216726      653240     Gina Compton  47604 Michael Inlet Apt. 097   VIC   \n",
       "\n",
       "       postcode  gender New cases / day order_datetime  genderIndex  \\\n",
       "0          3719  Female           1,621     2021-11-26          1.0   \n",
       "1          6963  Female           1,621     2021-11-26          1.0   \n",
       "2          6313  Female           1,621     2021-11-26          1.0   \n",
       "3          5642  Female           1,621     2021-11-26          1.0   \n",
       "4          3447    Male           1,621     2021-11-26          0.0   \n",
       "...         ...     ...             ...            ...          ...   \n",
       "216722     5276  Female          33,079     2022-01-26          1.0   \n",
       "216723     4375  Female          33,079     2022-01-26          1.0   \n",
       "216724     6923  Female          33,079     2022-01-26          1.0   \n",
       "216725     6517    Male          33,079     2022-01-26          0.0   \n",
       "216726     3871  Female          33,079     2022-01-26          1.0   \n",
       "\n",
       "        typeIndex  tagIndex                                            tag_vec  \n",
       "0             1.0       0.0  (1.0, 0.0, 0.0, 0.0, 0.0, 0.0, 0.0, 0.0, 0.0, ...  \n",
       "1             0.0       3.0  (0.0, 0.0, 0.0, 1.0, 0.0, 0.0, 0.0, 0.0, 0.0, ...  \n",
       "2             1.0      12.0  (0.0, 0.0, 0.0, 0.0, 0.0, 0.0, 0.0, 0.0, 0.0, ...  \n",
       "3             2.0      18.0  (0.0, 0.0, 0.0, 0.0, 0.0, 0.0, 0.0, 0.0, 0.0, ...  \n",
       "4             2.0      13.0  (0.0, 0.0, 0.0, 0.0, 0.0, 0.0, 0.0, 0.0, 0.0, ...  \n",
       "...           ...       ...                                                ...  \n",
       "216722        1.0       9.0  (0.0, 0.0, 0.0, 0.0, 0.0, 0.0, 0.0, 0.0, 0.0, ...  \n",
       "216723        0.0       4.0  (0.0, 0.0, 0.0, 0.0, 1.0, 0.0, 0.0, 0.0, 0.0, ...  \n",
       "216724        2.0       1.0  (0.0, 1.0, 0.0, 0.0, 0.0, 0.0, 0.0, 0.0, 0.0, ...  \n",
       "216725        0.0       0.0  (1.0, 0.0, 0.0, 0.0, 0.0, 0.0, 0.0, 0.0, 0.0, ...  \n",
       "216726        1.0       6.0  (0.0, 0.0, 0.0, 0.0, 0.0, 0.0, 1.0, 0.0, 0.0, ...  \n",
       "\n",
       "[216727 rows x 20 columns]"
      ]
     },
     "execution_count": 9,
     "metadata": {},
     "output_type": "execute_result"
    }
   ],
   "source": [
    "df_transformed = sdf_transformed.toPandas()\n",
    "df_transformed"
   ]
  },
  {
   "cell_type": "markdown",
   "metadata": {},
   "source": [
    "- postcode latitude and longitude change"
   ]
  },
  {
   "cell_type": "markdown",
   "metadata": {},
   "source": [
    "According to the size of csv file, choose pandas to do the dataframe slice"
   ]
  },
  {
   "cell_type": "code",
   "execution_count": 44,
   "metadata": {},
   "outputs": [
    {
     "name": "stdout",
     "output_type": "stream",
     "text": [
      "|> Loading File...\n",
      "|> Loading Finished!\n",
      "-RECORD 0-----------------------------------------------\n",
      " user_id         | 1                                    \n",
      " merchant_abn    | 46451548968                          \n",
      " dollar_value    | 72.61581642788431                    \n",
      " order_id        | 76bab304-fa2d-4004-8179-8638b56a873e \n",
      " merchant_name   | Tempus Eu Ligula Limited             \n",
      " tags            | health and beauty spas               \n",
      " take_rate       | 6.04                                 \n",
      " type            | a                                    \n",
      " consumer_id     | 1195503                              \n",
      " name            | Yolanda Williams                     \n",
      " address         | 413 Haney Gardens Apt. 742           \n",
      " state           | WA                                   \n",
      " postcode        | 6935                                 \n",
      " gender          | Female                               \n",
      " New cases / day | 1,621                                \n",
      " order_datetime  | 2021-11-26                           \n",
      "only showing top 1 row\n",
      "\n"
     ]
    }
   ],
   "source": [
    "sdf = read_file(spark, 'data', '../data/curated/')"
   ]
  },
  {
   "cell_type": "code",
   "execution_count": 45,
   "metadata": {},
   "outputs": [
    {
     "name": "stdout",
     "output_type": "stream",
     "text": [
      "|> Loading File...\n",
      "|> Loading Finished!\n",
      "22/09/26 22:04:02 WARN CSVHeaderChecker: CSV header does not conform to the schema.\n",
      " Header: , postcode, place_name, state_name, state_code, latitude, longitude, accuracy, SA2_CODE21, geometry, centroid\n",
      " Schema: _c0, postcode, place_name, state_name, state_code, latitude, longitude, accuracy, SA2_CODE21, geometry, centroid\n",
      "Expected: _c0 but found: \n",
      "CSV file: file:///Users/runyuyang/Downloads/2022S2/generic-buy-now-pay-later-project-group-24/data/curated/sa2_pos_geometry.csv\n",
      "-RECORD 0--------------------------------------------------------------------------------------\n",
      " _c0        | 0                                                                                \n",
      " postcode   | 200                                                                              \n",
      " place_name | Australian National University                                                   \n",
      " state_name | Australian Capital Territory                                                     \n",
      " state_code | ACT                                                                              \n",
      " latitude   | -35.2777                                                                         \n",
      " longitude  | 149.1189                                                                         \n",
      " accuracy   | 1.0                                                                              \n",
      " SA2_CODE21 | 801051049                                                                        \n",
      " geometry   | POLYGON ((149.11001759648548 -35.28399857925649, 149.10987363648582 -35.28417... \n",
      " centroid   | (-35.281339155480744, 149.11505674306417)                                        \n",
      "only showing top 1 row\n",
      "\n"
     ]
    }
   ],
   "source": [
    "postcode_spark = read_file(spark, '../curated/sa2_pos_geometry.csv', type='csv')"
   ]
  },
  {
   "cell_type": "code",
   "execution_count": 46,
   "metadata": {},
   "outputs": [],
   "source": [
    "postcode_spark = (postcode_spark.withColumnRenamed('postcode','pos')).drop('_c0','place_name', 'state_name', 'accuracy')"
   ]
  },
  {
   "cell_type": "code",
   "execution_count": 47,
   "metadata": {},
   "outputs": [
    {
     "name": "stdout",
     "output_type": "stream",
     "text": [
      "+----+----------+--------+---------+----------+--------------------+--------------------+\n",
      "| pos|state_code|latitude|longitude|SA2_CODE21|            geometry|            centroid|\n",
      "+----+----------+--------+---------+----------+--------------------+--------------------+\n",
      "| 200|       ACT|-35.2777| 149.1189| 801051049|POLYGON ((149.110...|(-35.281339155480...|\n",
      "| 221|       ACT|-35.3049| 149.1412| 801061129|POLYGON ((149.129...|(-35.309254259625...|\n",
      "|2540|       ACT|-35.1627| 150.6907| 901031003|MULTIPOLYGON (((1...|(-35.152358580811...|\n",
      "|2600|       ACT|-35.3126| 149.1278| 801061063|POLYGON ((149.117...|(-35.317183221598...|\n",
      "|2601|       ACT|-35.2813| 149.1293| 801051053|POLYGON ((149.124...|(-35.281260337413...|\n",
      "|2602|       ACT|-35.2446| 149.1447| 801051061|POLYGON ((149.151...|(-35.234728334716...|\n",
      "|2603|       ACT|-35.3262| 149.1191| 801061069|POLYGON ((149.116...|(-35.333447598302...|\n",
      "|2604|       ACT|-35.3357| 149.1492| 801061130|POLYGON ((149.149...|(-35.321669776752...|\n",
      "|2605|       ACT|-35.3327| 149.0949| 801111141|POLYGON ((148.804...|(-35.631230117158...|\n",
      "|2611|       ACT|-35.3497| 149.0493| 801111141|POLYGON ((148.804...|(-35.631230117158...|\n",
      "|2900|       ACT|-35.4183| 149.0666| 801111141|POLYGON ((148.804...|(-35.631230117158...|\n",
      "|2902|       ACT|-35.3862|  149.058| 801111141|POLYGON ((148.804...|(-35.631230117158...|\n",
      "|2903|       ACT|-35.3998| 149.0888| 801111141|POLYGON ((148.804...|(-35.631230117158...|\n",
      "|2905|       ACT|-35.4283|  149.088| 801111141|POLYGON ((148.804...|(-35.631230117158...|\n",
      "|2906|       ACT|-35.4593| 149.1042| 801111141|POLYGON ((148.804...|(-35.631230117158...|\n",
      "|2606|       ACT|-35.3525| 149.1128| 801091107|POLYGON ((149.121...|(-35.352521159424...|\n",
      "|2607|       ACT|-35.3686| 149.1156| 801091104|POLYGON ((149.108...|(-35.368611407926...|\n",
      "|2608|       ACT|  -35.31| 149.1933| 801031115|POLYGON ((149.161...|(-35.272917766191...|\n",
      "|2609|       ACT|-35.3201|  149.207| 801031115|POLYGON ((149.161...|(-35.272917766191...|\n",
      "|2610|       ACT|-35.2778| 149.0111| 801111140|POLYGON ((148.883...|(-35.390940848210...|\n",
      "+----+----------+--------+---------+----------+--------------------+--------------------+\n",
      "only showing top 20 rows\n",
      "\n"
     ]
    }
   ],
   "source": [
    "postcode_spark.show()"
   ]
  },
  {
   "cell_type": "code",
   "execution_count": 48,
   "metadata": {},
   "outputs": [
    {
     "name": "stderr",
     "output_type": "stream",
     "text": [
      "                                                                                \r"
     ]
    },
    {
     "data": {
      "text/plain": [
       "4508106"
      ]
     },
     "execution_count": 48,
     "metadata": {},
     "output_type": "execute_result"
    }
   ],
   "source": [
    "sdf.count()"
   ]
  },
  {
   "cell_type": "code",
   "execution_count": 49,
   "metadata": {},
   "outputs": [],
   "source": [
    "sdf = sdf.join(postcode_spark, sdf.postcode == postcode_spark.pos, how = 'left')"
   ]
  },
  {
   "cell_type": "code",
   "execution_count": 50,
   "metadata": {},
   "outputs": [
    {
     "name": "stderr",
     "output_type": "stream",
     "text": [
      "                                                                                \r"
     ]
    },
    {
     "data": {
      "text/plain": [
       "4508106"
      ]
     },
     "execution_count": 50,
     "metadata": {},
     "output_type": "execute_result"
    }
   ],
   "source": [
    "sdf.count()"
   ]
  },
  {
   "cell_type": "code",
   "execution_count": 51,
   "metadata": {},
   "outputs": [
    {
     "name": "stderr",
     "output_type": "stream",
     "text": [
      "[Stage 83:==============>                                           (2 + 6) / 8]\r"
     ]
    },
    {
     "name": "stdout",
     "output_type": "stream",
     "text": [
      "+-------+------------+------------------+--------------------+--------------------+--------------------+---------+----+-----------+---------------+-----------------+-----+--------+------+---------------+--------------+----+----------+--------+---------+----------+--------------------+--------------------+\n",
      "|user_id|merchant_abn|      dollar_value|            order_id|       merchant_name|                tags|take_rate|type|consumer_id|           name|          address|state|postcode|gender|New cases / day|order_datetime| pos|state_code|latitude|longitude|SA2_CODE21|            geometry|            centroid|\n",
      "+-------+------------+------------------+--------------------+--------------------+--------------------+---------+----+-----------+---------------+-----------------+-----+--------+------+---------------+--------------+----+----------+--------+---------+----------+--------------------+--------------------+\n",
      "|     18| 38090089066|121.39424925014715|b10335c0-fd77-4cd...|Interdum Feugiat ...|furniture, home f...|     3.24|   b|      80965|Michael Burnett|89400 Torres Fort|  NSW|    1109|  Male|          1,728|    2021-12-10|1109|       NSW|-33.8678| 151.2073| 117031644|MULTIPOLYGON (((1...|(-33.864733917659...|\n",
      "|     18| 46298404088| 36.39511292803141|7ae8d910-2d84-423...|Feugiat Sed Nec I...|books, periodical...|     6.16|   a|      80965|Michael Burnett|89400 Torres Fort|  NSW|    1109|  Male|          1,703|    2021-12-08|1109|       NSW|-33.8678| 151.2073| 117031644|MULTIPOLYGON (((1...|(-33.864733917659...|\n",
      "|     18| 89726005175| 54.12096006592763|32525a97-c9c5-4c4...| Est Nunc Consulting|tent and awning s...|     6.01|   a|      80965|Michael Burnett|89400 Torres Fort|  NSW|    1109|  Male|          1,703|    2021-12-08|1109|       NSW|-33.8678| 151.2073| 117031644|MULTIPOLYGON (((1...|(-33.864733917659...|\n",
      "|     18| 96442520325| 23.78036913470114|be354771-82cd-4f9...|Nullam Lobortis Q...|computers, comput...|     3.65|   b|      80965|Michael Burnett|89400 Torres Fort|  NSW|    1109|  Male|          1,703|    2021-12-08|1109|       NSW|-33.8678| 151.2073| 117031644|MULTIPOLYGON (((1...|(-33.864733917659...|\n",
      "|     18| 80324045558| 7.766636030391141|6c7b2a61-a497-424...|Ipsum Dolor Sit C...|gift, card, novel...|     1.47|   c|      80965|Michael Burnett|89400 Torres Fort|  NSW|    1109|  Male|          1,440|    2021-12-07|1109|       NSW|-33.8678| 151.2073| 117031644|MULTIPOLYGON (((1...|(-33.864733917659...|\n",
      "+-------+------------+------------------+--------------------+--------------------+--------------------+---------+----+-----------+---------------+-----------------+-----+--------+------+---------------+--------------+----+----------+--------+---------+----------+--------------------+--------------------+\n",
      "only showing top 5 rows\n",
      "\n"
     ]
    },
    {
     "name": "stderr",
     "output_type": "stream",
     "text": [
      "                                                                                \r"
     ]
    }
   ],
   "source": [
    "sdf.show(5)"
   ]
  },
  {
   "cell_type": "code",
   "execution_count": 52,
   "metadata": {},
   "outputs": [],
   "source": [
    "sdf = sdf.drop('state_code', 'pos')"
   ]
  },
  {
   "cell_type": "code",
   "execution_count": 53,
   "metadata": {},
   "outputs": [
    {
     "name": "stderr",
     "output_type": "stream",
     "text": [
      "                                                                                \r"
     ]
    }
   ],
   "source": [
    "temp1 = sdf.dropna(how='any').count()"
   ]
  },
  {
   "cell_type": "code",
   "execution_count": 54,
   "metadata": {},
   "outputs": [
    {
     "name": "stderr",
     "output_type": "stream",
     "text": [
      "                                                                                \r"
     ]
    },
    {
     "name": "stdout",
     "output_type": "stream",
     "text": [
      "There are 4508106 data, and 4288339 have no null value.\n"
     ]
    }
   ],
   "source": [
    "print( f'There are {sdf.count()} data, and {temp1} have no null value.')"
   ]
  },
  {
   "cell_type": "code",
   "execution_count": 55,
   "metadata": {},
   "outputs": [],
   "source": [
    "null_df = sdf.filter(sdf.longitude.isNull())"
   ]
  },
  {
   "cell_type": "code",
   "execution_count": 56,
   "metadata": {},
   "outputs": [
    {
     "name": "stderr",
     "output_type": "stream",
     "text": [
      "                                                                                \r"
     ]
    },
    {
     "data": {
      "text/plain": [
       "36906"
      ]
     },
     "execution_count": 56,
     "metadata": {},
     "output_type": "execute_result"
    }
   ],
   "source": [
    "null_df.count()"
   ]
  },
  {
   "cell_type": "code",
   "execution_count": 57,
   "metadata": {},
   "outputs": [],
   "source": [
    "df1 = null_df.dropDuplicates(subset=[c for c in null_df.columns if c in [\"postcode\"]])"
   ]
  },
  {
   "cell_type": "code",
   "execution_count": 58,
   "metadata": {},
   "outputs": [
    {
     "name": "stderr",
     "output_type": "stream",
     "text": [
      "                                                                                \r"
     ]
    },
    {
     "data": {
      "text/plain": [
       "25"
      ]
     },
     "execution_count": 58,
     "metadata": {},
     "output_type": "execute_result"
    }
   ],
   "source": [
    "df1.count()"
   ]
  },
  {
   "cell_type": "code",
   "execution_count": 59,
   "metadata": {},
   "outputs": [
    {
     "name": "stderr",
     "output_type": "stream",
     "text": [
      "                                                                                \r"
     ]
    }
   ],
   "source": [
    "lose_df = df1.toPandas()"
   ]
  },
  {
   "cell_type": "code",
   "execution_count": 60,
   "metadata": {},
   "outputs": [
    {
     "data": {
      "text/plain": [
       "<AxesSubplot:xlabel='postcode', ylabel='state'>"
      ]
     },
     "execution_count": 60,
     "metadata": {},
     "output_type": "execute_result"
    },
    {
     "data": {
      "image/png": "[encoded data removed]",
      "text/plain": [
       "<Figure size 432x288 with 1 Axes>"
      ]
     },
     "metadata": {
      "needs_background": "light"
     },
     "output_type": "display_data"
    }
   ],
   "source": [
    "lose_df.plot.scatter(x='postcode', y='state')"
   ]
  }
 ],
 "metadata": {
  "kernelspec": {
   "display_name": "Python 3.7.9 64-bit",
   "language": "python",
   "name": "python3"
  },
  "language_info": {
   "codemirror_mode": {
    "name": "ipython",
    "version": 3
   },
   "file_extension": ".py",
   "mimetype": "text/x-python",
   "name": "python",
   "nbconvert_exporter": "python",
   "pygments_lexer": "ipython3",
   "version": "3.7.9"
  },
  "orig_nbformat": 4,
  "vscode": {
   "interpreter": {
    "hash": "aee8b7b246df8f9039afb4144a1f6fd8d2ca17a180786b69acc140d282b71a49"
   }
  }
 },
 "nbformat": 4,
 "nbformat_minor": 2
}
