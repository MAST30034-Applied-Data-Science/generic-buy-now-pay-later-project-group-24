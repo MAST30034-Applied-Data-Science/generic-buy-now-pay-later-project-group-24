{
 "cells": [
  {
   "cell_type": "markdown",
   "metadata": {},
   "source": [
    "Packages"
   ]
  },
  {
   "cell_type": "code",
   "execution_count": 1,
   "metadata": {},
   "outputs": [],
   "source": [
    "import os\n",
    "import numpy\n",
    "import pandas as pd\n",
    "import tqdm\n",
    "from pyspark.sql import SparkSession\n",
    "from pyspark.ml.feature import OneHotEncoder, StringIndexer\n",
    "from pyspark.ml import Pipeline\n",
    "import sys\n",
    "sys.path.append('../scripts/')\n",
    "from read_utils import read_file, create_folder, temp_record_query, temp_record_sdf"
   ]
  },
  {
   "cell_type": "code",
   "execution_count": 2,
   "metadata": {},
   "outputs": [],
   "source": [
    "from pyspark.sql import SparkSession"
   ]
  },
  {
   "cell_type": "code",
   "execution_count": 2,
   "metadata": {},
   "outputs": [
    {
     "name": "stderr",
     "output_type": "stream",
     "text": [
      "Setting default log level to \"WARN\".\n",
      "To adjust logging level use sc.setLogLevel(newLevel). For SparkR, use setLogLevel(newLevel).\n"
     ]
    },
    {
     "name": "stdout",
     "output_type": "stream",
     "text": [
      "22/10/03 09:46:53 WARN NativeCodeLoader: Unable to load native-hadoop library for your platform... using builtin-java classes where applicable\n"
     ]
    }
   ],
   "source": [
    "spark = (\n",
    "    # Create a spark session (which will run spark jobs)\n",
    "    SparkSession.builder.appName(\"Project 2\")\n",
    "    .config(\"spark.sql.repl.eagerEval.enabled\", True) \n",
    "    .config(\"spark.sql.parquet.cacheMetadata\", \"true\")\n",
    "    .config('spark.executor.memory','10g')\n",
    "    .config('spark.driver.memory','12g')\n",
    "    .config('spark.driver.maxResultsSize', '10GiB')\n",
    "    # .config(\"spark.network.timeout\", \"3600s\")\n",
    "    # .master(\"local[6]\")\n",
    "    .getOrCreate()\n",
    "    )"
   ]
  },
  {
   "cell_type": "code",
   "execution_count": 24,
   "metadata": {},
   "outputs": [
    {
     "name": "stdout",
     "output_type": "stream",
     "text": [
      "|> Loading File...\n",
      "|> Loading Finished!\n",
      "-RECORD 0--------------------------------------------------------------------------\n",
      " user_id           | 7                                                             \n",
      " merchant_abn      | 17488304283                                                   \n",
      " dollar_value      | 67.95495287248738                                             \n",
      " order_id          | e637ca66-ed07-42c3-a39b-d49a1f97dde8                          \n",
      " merchant_name     | Posuere Cubilia Curae Corporation                             \n",
      " tags              | cable, satellite, and other pay television and radio services \n",
      " take_rate         | 6.18                                                          \n",
      " type              | a                                                             \n",
      " postcode          | 4606                                                          \n",
      " consumer_id       | 511685                                                        \n",
      " name              | Andrea Jones                                                  \n",
      " address           | 122 Brandon Cliff                                             \n",
      " state             | QLD                                                           \n",
      " gender            | Female                                                        \n",
      " POA_CODE21        | 4606                                                          \n",
      " 2021_popu         | 557.0307901493427                                             \n",
      " New cases / day   | 1,122                                                         \n",
      " month             | 2021-08-01                                                    \n",
      " total             | 29261.9                                                       \n",
      " order_datetime    | 2021-08-28                                                    \n",
      " __index_level_0__ | 0                                                             \n",
      "only showing top 1 row\n",
      "\n"
     ]
    }
   ],
   "source": [
    "sdf = read_file(spark, 'filled.parquet', '../data/curated/')"
   ]
  },
  {
   "cell_type": "code",
   "execution_count": 5,
   "metadata": {},
   "outputs": [],
   "source": [
    "# type\n",
    "type_indexer = StringIndexer(inputCol = \"type\", outputCol = \"typeIndex\", handleInvalid=\"skip\")\n",
    "\n",
    "# gender\n",
    "gender_indexer = StringIndexer(inputCol = \"gender\", outputCol = \"genderIndex\", handleInvalid=\"skip\")\n",
    "\n",
    "# tag\n",
    "tag_indexer = StringIndexer(inputCol = \"tags\",outputCol = \"tagIndex\", handleInvalid=\"skip\")\n",
    "onehotencoder_tag_vector = OneHotEncoder(inputCol = \"tagIndex\", outputCol = \"tag_vec\")\n",
    "\n",
    "#Create pipeline and pass all stages\n",
    "pipeline = Pipeline(stages=[gender_indexer, \n",
    "                            type_indexer,\n",
    "                            tag_indexer,\n",
    "                            onehotencoder_tag_vector])"
   ]
  },
  {
   "cell_type": "code",
   "execution_count": 6,
   "metadata": {},
   "outputs": [
    {
     "name": "stdout",
     "output_type": "stream",
     "text": [
      "+-------+------------+------------------+--------------------+--------------------+--------------------+---------+----+--------+-----------+------------+--------------------+-----+------+----------+-----------------+---------------+----------+-------+--------------+-----------------+\n",
      "|user_id|merchant_abn|      dollar_value|            order_id|       merchant_name|                tags|take_rate|type|postcode|consumer_id|        name|             address|state|gender|POA_CODE21|        2021_popu|New cases / day|     month|  total|order_datetime|__index_level_0__|\n",
      "+-------+------------+------------------+--------------------+--------------------+--------------------+---------+----+--------+-----------+------------+--------------------+-----+------+----------+-----------------+---------------+----------+-------+--------------+-----------------+\n",
      "|      7| 17488304283| 67.95495287248738|e637ca66-ed07-42c...|Posuere Cubilia C...|cable, satellite,...|     6.18|   a|    4606|     511685|Andrea Jones|   122 Brandon Cliff|  QLD|Female|      4606|557.0307901493427|          1,122|2021-08-01|29261.9|    2021-08-28|                0|\n",
      "|  10087| 41251795489|43.036903367549215|c8008300-48d1-4b0...|Ultricies Sem Lim...|opticians, optica...|     2.91|   c|    2573|     624829|Julie Snyder|976 Clark Meadows...|  NSW|Female|      2573|1705.489731489324|          1,122|2021-08-01|29261.9|    2021-08-28|            15129|\n",
      "|  10087| 52606993642|17.161402492530158|e35e23f4-310e-49e...| Congue Elit Sed Ltd|hobby, toy and ga...|     2.35|   c|    2573|     624829|Julie Snyder|976 Clark Meadows...|  NSW|Female|      2573|1705.489731489324|          1,122|2021-08-01|29261.9|    2021-08-28|            15128|\n",
      "|  10087| 45433476494| 237.2802184583022|404cd9a3-ffb8-42a...|Adipiscing Elit F...|computers, comput...|     5.82|   a|    2573|     624829|Julie Snyder|976 Clark Meadows...|  NSW|Female|      2573|1705.489731489324|          1,122|2021-08-01|29261.9|    2021-08-28|            15127|\n",
      "|  10087| 46804135891|25.298111765587933|2328217b-2c0c-464...|Suspendisse Dui C...|opticians, optica...|     2.93|   c|    2573|     624829|Julie Snyder|976 Clark Meadows...|  NSW|Female|      2573|1705.489731489324|          1,122|2021-08-01|29261.9|    2021-08-28|            15126|\n",
      "+-------+------------+------------------+--------------------+--------------------+--------------------+---------+----+--------+-----------+------------+--------------------+-----+------+----------+-----------------+---------------+----------+-------+--------------+-----------------+\n",
      "only showing top 5 rows\n",
      "\n"
     ]
    }
   ],
   "source": [
    "sdf.show(5)"
   ]
  },
  {
   "cell_type": "code",
   "execution_count": 34,
   "metadata": {},
   "outputs": [
    {
     "name": "stderr",
     "output_type": "stream",
     "text": [
      "                                                                                \r"
     ]
    },
    {
     "name": "stdout",
     "output_type": "stream",
     "text": [
      "+-------+------------+------------------+--------------------+--------------------+--------------------+---------+----+--------+-----------+------------+--------------------+-----+------+----------+-----------------+---------------+----------+-------+--------------+-----------------+-----------+---------+--------+---------------+\n",
      "|user_id|merchant_abn|      dollar_value|            order_id|       merchant_name|                tags|take_rate|type|postcode|consumer_id|        name|             address|state|gender|POA_CODE21|        2021_popu|New cases / day|     month|  total|order_datetime|__index_level_0__|genderIndex|typeIndex|tagIndex|        tag_vec|\n",
      "+-------+------------+------------------+--------------------+--------------------+--------------------+---------+----+--------+-----------+------------+--------------------+-----+------+----------+-----------------+---------------+----------+-------+--------------+-----------------+-----------+---------+--------+---------------+\n",
      "|      7| 17488304283| 67.95495287248738|e637ca66-ed07-42c...|Posuere Cubilia C...|cable, satellite,...|     6.18|   a|    4606|     511685|Andrea Jones|   122 Brandon Cliff|  QLD|Female|      4606|557.0307901493427|          1,122|2021-08-01|29261.9|    2021-08-28|                0|        1.0|      0.0|     4.0| (24,[4],[1.0])|\n",
      "|  10087| 41251795489|43.036903367549215|c8008300-48d1-4b0...|Ultricies Sem Lim...|opticians, optica...|     2.91|   c|    2573|     624829|Julie Snyder|976 Clark Meadows...|  NSW|Female|      2573|1705.489731489324|          1,122|2021-08-01|29261.9|    2021-08-28|            15129|        1.0|      2.0|     6.0| (24,[6],[1.0])|\n",
      "|  10087| 52606993642|17.161402492530158|e35e23f4-310e-49e...| Congue Elit Sed Ltd|hobby, toy and ga...|     2.35|   c|    2573|     624829|Julie Snyder|976 Clark Meadows...|  NSW|Female|      2573|1705.489731489324|          1,122|2021-08-01|29261.9|    2021-08-28|            15128|        1.0|      2.0|    17.0|(24,[17],[1.0])|\n",
      "|  10087| 45433476494| 237.2802184583022|404cd9a3-ffb8-42a...|Adipiscing Elit F...|computers, comput...|     5.82|   a|    2573|     624829|Julie Snyder|976 Clark Meadows...|  NSW|Female|      2573|1705.489731489324|          1,122|2021-08-01|29261.9|    2021-08-28|            15127|        1.0|      0.0|     7.0| (24,[7],[1.0])|\n",
      "|  10087| 46804135891|25.298111765587933|2328217b-2c0c-464...|Suspendisse Dui C...|opticians, optica...|     2.93|   c|    2573|     624829|Julie Snyder|976 Clark Meadows...|  NSW|Female|      2573|1705.489731489324|          1,122|2021-08-01|29261.9|    2021-08-28|            15126|        1.0|      2.0|     6.0| (24,[6],[1.0])|\n",
      "+-------+------------+------------------+--------------------+--------------------+--------------------+---------+----+--------+-----------+------------+--------------------+-----+------+----------+-----------------+---------------+----------+-------+--------------+-----------------+-----------+---------+--------+---------------+\n",
      "only showing top 5 rows\n",
      "\n"
     ]
    }
   ],
   "source": [
    "sdf_transformed = pipeline.fit(sdf).transform(sdf)\n",
    "sdf_transformed.show(5)"
   ]
  },
  {
   "cell_type": "markdown",
   "metadata": {},
   "source": [
    "- figure out that tag_vec"
   ]
  },
  {
   "cell_type": "code",
   "execution_count": 8,
   "metadata": {},
   "outputs": [],
   "source": [
    "SAMPLE_SIZE = 0.05\n",
    "sdf_transformed = sdf_transformed.sample(SAMPLE_SIZE, seed=0)"
   ]
  },
  {
   "cell_type": "code",
   "execution_count": 9,
   "metadata": {},
   "outputs": [
    {
     "name": "stderr",
     "output_type": "stream",
     "text": [
      "                                                                                \r"
     ]
    },
    {
     "data": {
      "text/html": [
       "<div>\n",
       "<style scoped>\n",
       "    .dataframe tbody tr th:only-of-type {\n",
       "        vertical-align: middle;\n",
       "    }\n",
       "\n",
       "    .dataframe tbody tr th {\n",
       "        vertical-align: top;\n",
       "    }\n",
       "\n",
       "    .dataframe thead th {\n",
       "        text-align: right;\n",
       "    }\n",
       "</style>\n",
       "<table border=\"1\" class=\"dataframe\">\n",
       "  <thead>\n",
       "    <tr style=\"text-align: right;\">\n",
       "      <th></th>\n",
       "      <th>user_id</th>\n",
       "      <th>merchant_abn</th>\n",
       "      <th>dollar_value</th>\n",
       "      <th>order_id</th>\n",
       "      <th>merchant_name</th>\n",
       "      <th>tags</th>\n",
       "      <th>take_rate</th>\n",
       "      <th>type</th>\n",
       "      <th>postcode</th>\n",
       "      <th>consumer_id</th>\n",
       "      <th>...</th>\n",
       "      <th>2021_popu</th>\n",
       "      <th>New cases / day</th>\n",
       "      <th>month</th>\n",
       "      <th>total</th>\n",
       "      <th>order_datetime</th>\n",
       "      <th>__index_level_0__</th>\n",
       "      <th>genderIndex</th>\n",
       "      <th>typeIndex</th>\n",
       "      <th>tagIndex</th>\n",
       "      <th>tag_vec</th>\n",
       "    </tr>\n",
       "  </thead>\n",
       "  <tbody>\n",
       "    <tr>\n",
       "      <th>0</th>\n",
       "      <td>10203</td>\n",
       "      <td>86578477987</td>\n",
       "      <td>23.913531</td>\n",
       "      <td>54f331ff-9151-4554-b0ff-dd0298f65c53</td>\n",
       "      <td>Leo In Consulting</td>\n",
       "      <td>watch, clock, and jewelry repair shops</td>\n",
       "      <td>6.43</td>\n",
       "      <td>a</td>\n",
       "      <td>3808</td>\n",
       "      <td>1112199</td>\n",
       "      <td>...</td>\n",
       "      <td>1910.435591030362</td>\n",
       "      <td>1,122</td>\n",
       "      <td>2021-08-01</td>\n",
       "      <td>29261.9</td>\n",
       "      <td>2021-08-28</td>\n",
       "      <td>15145</td>\n",
       "      <td>0.0</td>\n",
       "      <td>0.0</td>\n",
       "      <td>3.0</td>\n",
       "      <td>(0.0, 0.0, 0.0, 1.0, 0.0, 0.0, 0.0, 0.0, 0.0, ...</td>\n",
       "    </tr>\n",
       "    <tr>\n",
       "      <th>1</th>\n",
       "      <td>9792</td>\n",
       "      <td>21772962346</td>\n",
       "      <td>136.351214</td>\n",
       "      <td>f6c7d575-4860-4c2f-9de9-ebf34795e01d</td>\n",
       "      <td>Purus Gravida Sagittis Ltd</td>\n",
       "      <td>florists supplies, nursery stock, and flowers</td>\n",
       "      <td>6.63</td>\n",
       "      <td>a</td>\n",
       "      <td>6320</td>\n",
       "      <td>470865</td>\n",
       "      <td>...</td>\n",
       "      <td>704.0596653270673</td>\n",
       "      <td>1,122</td>\n",
       "      <td>2021-08-01</td>\n",
       "      <td>29261.9</td>\n",
       "      <td>2021-08-28</td>\n",
       "      <td>15078</td>\n",
       "      <td>0.0</td>\n",
       "      <td>0.0</td>\n",
       "      <td>5.0</td>\n",
       "      <td>(0.0, 0.0, 0.0, 0.0, 0.0, 1.0, 0.0, 0.0, 0.0, ...</td>\n",
       "    </tr>\n",
       "    <tr>\n",
       "      <th>2</th>\n",
       "      <td>9765</td>\n",
       "      <td>26599529197</td>\n",
       "      <td>18.545336</td>\n",
       "      <td>965c7cde-113e-483d-9c34-84c3241a2836</td>\n",
       "      <td>Neque Company</td>\n",
       "      <td>digital goods: books, movies, music</td>\n",
       "      <td>3.91</td>\n",
       "      <td>b</td>\n",
       "      <td>6937</td>\n",
       "      <td>1222050</td>\n",
       "      <td>...</td>\n",
       "      <td>25647.94680893945</td>\n",
       "      <td>1,122</td>\n",
       "      <td>2021-08-01</td>\n",
       "      <td>29261.9</td>\n",
       "      <td>2021-08-28</td>\n",
       "      <td>15074</td>\n",
       "      <td>0.0</td>\n",
       "      <td>1.0</td>\n",
       "      <td>2.0</td>\n",
       "      <td>(0.0, 0.0, 1.0, 0.0, 0.0, 0.0, 0.0, 0.0, 0.0, ...</td>\n",
       "    </tr>\n",
       "    <tr>\n",
       "      <th>3</th>\n",
       "      <td>9895</td>\n",
       "      <td>99009287608</td>\n",
       "      <td>62.059175</td>\n",
       "      <td>0e924be2-d6e3-4001-bc6e-761b9530fca6</td>\n",
       "      <td>Nunc Risus LLP</td>\n",
       "      <td>computer programming , data processing, and in...</td>\n",
       "      <td>3.15</td>\n",
       "      <td>b</td>\n",
       "      <td>3916</td>\n",
       "      <td>511779</td>\n",
       "      <td>...</td>\n",
       "      <td>737.1457842967403</td>\n",
       "      <td>1,122</td>\n",
       "      <td>2021-08-01</td>\n",
       "      <td>29261.9</td>\n",
       "      <td>2021-08-28</td>\n",
       "      <td>15096</td>\n",
       "      <td>0.0</td>\n",
       "      <td>1.0</td>\n",
       "      <td>8.0</td>\n",
       "      <td>(0.0, 0.0, 0.0, 0.0, 0.0, 0.0, 0.0, 0.0, 1.0, ...</td>\n",
       "    </tr>\n",
       "    <tr>\n",
       "      <th>4</th>\n",
       "      <td>9858</td>\n",
       "      <td>49322182190</td>\n",
       "      <td>89.476384</td>\n",
       "      <td>03ed28e3-e215-41a3-8fd0-ec6eb0f6dc79</td>\n",
       "      <td>Gravida Mauris Incorporated</td>\n",
       "      <td>watch, clock, and jewelry repair shops</td>\n",
       "      <td>6.35</td>\n",
       "      <td>a</td>\n",
       "      <td>6150</td>\n",
       "      <td>548779</td>\n",
       "      <td>...</td>\n",
       "      <td>16506.44877310965</td>\n",
       "      <td>1,122</td>\n",
       "      <td>2021-08-01</td>\n",
       "      <td>29261.9</td>\n",
       "      <td>2021-08-28</td>\n",
       "      <td>15091</td>\n",
       "      <td>1.0</td>\n",
       "      <td>0.0</td>\n",
       "      <td>3.0</td>\n",
       "      <td>(0.0, 0.0, 0.0, 1.0, 0.0, 0.0, 0.0, 0.0, 0.0, ...</td>\n",
       "    </tr>\n",
       "  </tbody>\n",
       "</table>\n",
       "<p>5 rows × 25 columns</p>\n",
       "</div>"
      ],
      "text/plain": [
       "   user_id  merchant_abn  dollar_value                              order_id  \\\n",
       "0    10203   86578477987     23.913531  54f331ff-9151-4554-b0ff-dd0298f65c53   \n",
       "1     9792   21772962346    136.351214  f6c7d575-4860-4c2f-9de9-ebf34795e01d   \n",
       "2     9765   26599529197     18.545336  965c7cde-113e-483d-9c34-84c3241a2836   \n",
       "3     9895   99009287608     62.059175  0e924be2-d6e3-4001-bc6e-761b9530fca6   \n",
       "4     9858   49322182190     89.476384  03ed28e3-e215-41a3-8fd0-ec6eb0f6dc79   \n",
       "\n",
       "                 merchant_name  \\\n",
       "0            Leo In Consulting   \n",
       "1   Purus Gravida Sagittis Ltd   \n",
       "2                Neque Company   \n",
       "3               Nunc Risus LLP   \n",
       "4  Gravida Mauris Incorporated   \n",
       "\n",
       "                                                tags  take_rate type postcode  \\\n",
       "0             watch, clock, and jewelry repair shops       6.43    a     3808   \n",
       "1      florists supplies, nursery stock, and flowers       6.63    a     6320   \n",
       "2                digital goods: books, movies, music       3.91    b     6937   \n",
       "3  computer programming , data processing, and in...       3.15    b     3916   \n",
       "4             watch, clock, and jewelry repair shops       6.35    a     6150   \n",
       "\n",
       "  consumer_id  ...          2021_popu New cases / day       month    total  \\\n",
       "0     1112199  ...  1910.435591030362           1,122  2021-08-01  29261.9   \n",
       "1      470865  ...  704.0596653270673           1,122  2021-08-01  29261.9   \n",
       "2     1222050  ...  25647.94680893945           1,122  2021-08-01  29261.9   \n",
       "3      511779  ...  737.1457842967403           1,122  2021-08-01  29261.9   \n",
       "4      548779  ...  16506.44877310965           1,122  2021-08-01  29261.9   \n",
       "\n",
       "   order_datetime __index_level_0__ genderIndex typeIndex tagIndex  \\\n",
       "0      2021-08-28             15145         0.0       0.0      3.0   \n",
       "1      2021-08-28             15078         0.0       0.0      5.0   \n",
       "2      2021-08-28             15074         0.0       1.0      2.0   \n",
       "3      2021-08-28             15096         0.0       1.0      8.0   \n",
       "4      2021-08-28             15091         1.0       0.0      3.0   \n",
       "\n",
       "                                             tag_vec  \n",
       "0  (0.0, 0.0, 0.0, 1.0, 0.0, 0.0, 0.0, 0.0, 0.0, ...  \n",
       "1  (0.0, 0.0, 0.0, 0.0, 0.0, 1.0, 0.0, 0.0, 0.0, ...  \n",
       "2  (0.0, 0.0, 1.0, 0.0, 0.0, 0.0, 0.0, 0.0, 0.0, ...  \n",
       "3  (0.0, 0.0, 0.0, 0.0, 0.0, 0.0, 0.0, 0.0, 1.0, ...  \n",
       "4  (0.0, 0.0, 0.0, 1.0, 0.0, 0.0, 0.0, 0.0, 0.0, ...  \n",
       "\n",
       "[5 rows x 25 columns]"
      ]
     },
     "execution_count": 9,
     "metadata": {},
     "output_type": "execute_result"
    }
   ],
   "source": [
    "df_transformed = sdf_transformed.toPandas()\n",
    "df_transformed.head()"
   ]
  },
  {
   "cell_type": "markdown",
   "metadata": {},
   "source": [
    "- Figure out corresponding index"
   ]
  },
  {
   "cell_type": "markdown",
   "metadata": {},
   "source": [
    "gender"
   ]
  },
  {
   "cell_type": "code",
   "execution_count": 30,
   "metadata": {},
   "outputs": [],
   "source": [
    "gender_correspond = sdf_transformed.drop_duplicates(subset=[c for c in sdf_transformed.columns if c in ['gender','genderIndex']])"
   ]
  },
  {
   "cell_type": "code",
   "execution_count": 38,
   "metadata": {},
   "outputs": [
    {
     "name": "stderr",
     "output_type": "stream",
     "text": [
      "[Stage 84:==================================================>       (7 + 1) / 8]\r"
     ]
    },
    {
     "name": "stdout",
     "output_type": "stream",
     "text": [
      "+-------+------------+------------------+---------+--------+-----------+-----------+----------+---------------+-------+--------------+-----------+\n",
      "|user_id|merchant_abn|      dollar_value|take_rate|postcode|consumer_id|     gender|POA_CODE21|New cases / day|  total|order_datetime|genderIndex|\n",
      "+-------+------------+------------------+---------+--------+-----------+-----------+----------+---------------+-------+--------------+-----------+\n",
      "|      7| 17488304283| 67.95495287248738|     6.18|    4606|     511685|     Female|      4606|          1,122|29261.9|    2021-08-28|        1.0|\n",
      "|  10042| 57757792876| 751.6376996553432|     5.53|    4401|     774542|       Male|      4401|          1,122|29261.9|    2021-08-28|        0.0|\n",
      "|  10192| 68501926042|24.332077984902156|     5.78|    3581|     698341|Undisclosed|      3581|          1,122|29261.9|    2021-08-28|        2.0|\n",
      "+-------+------------+------------------+---------+--------+-----------+-----------+----------+---------------+-------+--------------+-----------+\n",
      "\n"
     ]
    },
    {
     "name": "stderr",
     "output_type": "stream",
     "text": [
      "                                                                                \r"
     ]
    }
   ],
   "source": [
    "gender_correspond.drop('order_id', 'merchant_name', 'tags', 'type', 'name', 'address', 'state', '2021_popu','month','__index_level_0__', 'typeIndex', 'tagIndex','tag_vec').show()"
   ]
  },
  {
   "cell_type": "markdown",
   "metadata": {},
   "source": [
    "type"
   ]
  },
  {
   "cell_type": "code",
   "execution_count": 35,
   "metadata": {},
   "outputs": [],
   "source": [
    "type_correspond = sdf_transformed.drop_duplicates(subset=[c for c in sdf_transformed.columns if c in ['type','typeIndex']])"
   ]
  },
  {
   "cell_type": "code",
   "execution_count": 39,
   "metadata": {},
   "outputs": [
    {
     "name": "stderr",
     "output_type": "stream",
     "text": [
      "[Stage 87:==================================================>       (7 + 1) / 8]\r"
     ]
    },
    {
     "name": "stdout",
     "output_type": "stream",
     "text": [
      "+-------+------------+------------------+---------+----+--------+-----------+----------+---------------+-------+--------------+---------+\n",
      "|user_id|merchant_abn|      dollar_value|take_rate|type|postcode|consumer_id|POA_CODE21|New cases / day|  total|order_datetime|typeIndex|\n",
      "+-------+------------+------------------+---------+----+--------+-----------+----------+---------------+-------+--------------+---------+\n",
      "|      7| 17488304283| 67.95495287248738|     6.18|   a|    4606|     511685|      4606|          1,122|29261.9|    2021-08-28|      0.0|\n",
      "|  10032| 80779820715|63.361747638275304|     4.71|   b|    2442|     428649|      2446|          1,122|29261.9|    2021-08-28|      1.0|\n",
      "|  10087| 41251795489|43.036903367549215|     2.91|   c|    2573|     624829|      2573|          1,122|29261.9|    2021-08-28|      2.0|\n",
      "|  10093| 42500153308| 37.18737276031798|     0.62|   d|    3962|     102725|      3962|          1,122|29261.9|    2021-08-28|      3.0|\n",
      "|   9991| 99018524323| 108.5909506586931|     0.42|   e|    2783|    1213223|      2783|          1,122|29261.9|    2021-08-28|      4.0|\n",
      "+-------+------------+------------------+---------+----+--------+-----------+----------+---------------+-------+--------------+---------+\n",
      "\n"
     ]
    },
    {
     "name": "stderr",
     "output_type": "stream",
     "text": [
      "                                                                                \r"
     ]
    }
   ],
   "source": [
    "type_correspond.drop('order_id', 'merchant_name', 'tags', 'gender', 'name', 'address', 'state', '2021_popu','month','__index_level_0__', 'genderIndex', 'tagIndex','tag_vec').show()"
   ]
  },
  {
   "cell_type": "markdown",
   "metadata": {},
   "source": [
    "tag"
   ]
  },
  {
   "cell_type": "code",
   "execution_count": 40,
   "metadata": {},
   "outputs": [],
   "source": [
    "type_correspond = sdf_transformed.drop_duplicates(subset=[c for c in sdf_transformed.columns if c in ['tag','tagIndex', 'tag_vec']])"
   ]
  },
  {
   "cell_type": "code",
   "execution_count": 41,
   "metadata": {},
   "outputs": [
    {
     "name": "stderr",
     "output_type": "stream",
     "text": [
      "[Stage 90:==================================================>       (7 + 1) / 8]\r"
     ]
    },
    {
     "name": "stdout",
     "output_type": "stream",
     "text": [
      "+-------+------------+------------------+--------------------+---------+--------+-----------+----------+---------------+-------+--------------+--------+---------------+\n",
      "|user_id|merchant_abn|      dollar_value|                tags|take_rate|postcode|consumer_id|POA_CODE21|New cases / day|  total|order_datetime|tagIndex|        tag_vec|\n",
      "+-------+------------+------------------+--------------------+---------+--------+-----------+----------+---------------+-------+--------------+--------+---------------+\n",
      "|  10013| 20985347699|  7.26688787479366|tent and awning s...|      6.1|    3566|     108587|      3566|          1,122|29261.9|    2021-08-28|     0.0| (24,[0],[1.0])|\n",
      "|   9988| 79417999332|113.04067184838375|gift, card, novel...|     4.95|    3159|    1001620|      3159|          1,122|29261.9|    2021-08-28|     1.0| (24,[1],[1.0])|\n",
      "|   9988| 48701447259|148.91525067330346|digital goods: bo...|     5.65|    3159|    1001620|      3159|          1,122|29261.9|    2021-08-28|     2.0| (24,[2],[1.0])|\n",
      "|  10056| 86578477987|19.952565265080263|watch, clock, and...|     6.43|    5570|     228819|      5570|          1,122|29261.9|    2021-08-28|     3.0| (24,[3],[1.0])|\n",
      "|      7| 17488304283| 67.95495287248738|cable, satellite,...|     6.18|    4606|     511685|      4606|          1,122|29261.9|    2021-08-28|     4.0| (24,[4],[1.0])|\n",
      "|  10013| 43186523025| 47.24624791487761|florists supplies...|     4.47|    3566|     108587|      3566|          1,122|29261.9|    2021-08-28|     5.0| (24,[5],[1.0])|\n",
      "|  10087| 41251795489|43.036903367549215|opticians, optica...|     2.91|    2573|     624829|      2573|          1,122|29261.9|    2021-08-28|     6.0| (24,[6],[1.0])|\n",
      "|  10087| 45433476494| 237.2802184583022|computers, comput...|     5.82|    2573|     624829|      2573|          1,122|29261.9|    2021-08-28|     7.0| (24,[7],[1.0])|\n",
      "|   9962| 67400260923|218.37457276886832|computer programm...|     5.97|    6017|     742098|      6017|          1,122|29261.9|    2021-08-28|     8.0| (24,[8],[1.0])|\n",
      "|  10157| 63290521567|18.589419733068215|artist supply and...|     6.48|    5341|     184924|      5341|          1,122|29261.9|    2021-08-28|     9.0| (24,[9],[1.0])|\n",
      "|  10003| 98269572896| 72.76144633568548|furniture, home f...|     3.59|    2782|     275781|      2782|          1,122|29261.9|    2021-08-28|    10.0|(24,[10],[1.0])|\n",
      "|   9991| 99018524323| 108.5909506586931|          shoe shops|     0.42|    2783|    1213223|      2783|          1,122|29261.9|    2021-08-28|    11.0|(24,[11],[1.0])|\n",
      "|  10206| 46298404088| 47.86040223214094|books, periodical...|     6.16|    2831|     228228|      2831|          1,122|29261.9|    2021-08-28|    12.0|(24,[12],[1.0])|\n",
      "|  10957| 75850458091|187.52793037345978|lawn and garden s...|      6.1|    3483|     149874|      3483|          1,122|29261.9|    2021-08-28|    13.0|(24,[13],[1.0])|\n",
      "|   9931| 35883675055| 54.38589176514643|music shops - mus...|      2.3|    1590|    1470484|      2065|          1,122|29261.9|    2021-08-28|    14.0|(24,[14],[1.0])|\n",
      "|   9931| 41502716433| 381.4087655464996|motor vehicle sup...|     4.81|    1590|    1470484|      2065|          1,122|29261.9|    2021-08-28|    15.0|(24,[15],[1.0])|\n",
      "|   9815| 11588046517|245.75613033340983|health and beauty...|     3.94|    2594|     657856|      2594|          1,122|29261.9|    2021-08-28|    16.0|(24,[16],[1.0])|\n",
      "|  10087| 52606993642|17.161402492530158|hobby, toy and ga...|     2.35|    2573|     624829|      2573|          1,122|29261.9|    2021-08-28|    17.0|(24,[17],[1.0])|\n",
      "|   9843| 82179892802|262.65126583904373|bicycle shops - s...|     5.98|    2399|     839099|      2399|          1,122|29261.9|    2021-08-28|    18.0|(24,[18],[1.0])|\n",
      "|   9857| 76626119831|31.974407895507632|antique shops - s...|     1.99|    1219|    1265093|      2000|          1,122|29261.9|    2021-08-28|    19.0|(24,[19],[1.0])|\n",
      "+-------+------------+------------------+--------------------+---------+--------+-----------+----------+---------------+-------+--------------+--------+---------------+\n",
      "only showing top 20 rows\n",
      "\n"
     ]
    },
    {
     "name": "stderr",
     "output_type": "stream",
     "text": [
      "                                                                                \r"
     ]
    }
   ],
   "source": [
    "type_correspond.drop('order_id', 'merchant_name', 'type', 'gender', 'name', 'address', 'state', '2021_popu','month','__index_level_0__', 'genderIndex', 'typeIndex').show()"
   ]
  },
  {
   "cell_type": "markdown",
   "metadata": {},
   "source": [
    "- Drop unused column"
   ]
  },
  {
   "cell_type": "code",
   "execution_count": 42,
   "metadata": {},
   "outputs": [],
   "source": [
    "sdf_transformed = sdf_transformed.drop('order_id', 'merchant_name', 'tags', 'type', 'name', 'address', 'state', 'gender','month','__index_level_0__')"
   ]
  },
  {
   "cell_type": "code",
   "execution_count": 43,
   "metadata": {},
   "outputs": [
    {
     "name": "stdout",
     "output_type": "stream",
     "text": [
      "+-------+------------+------------------+---------+--------+-----------+----------+-----------------+---------------+-------+--------------+-----------+---------+--------+---------------+\n",
      "|user_id|merchant_abn|      dollar_value|take_rate|postcode|consumer_id|POA_CODE21|        2021_popu|New cases / day|  total|order_datetime|genderIndex|typeIndex|tagIndex|        tag_vec|\n",
      "+-------+------------+------------------+---------+--------+-----------+----------+-----------------+---------------+-------+--------------+-----------+---------+--------+---------------+\n",
      "|      7| 17488304283| 67.95495287248738|     6.18|    4606|     511685|      4606|557.0307901493427|          1,122|29261.9|    2021-08-28|        1.0|      0.0|     4.0| (24,[4],[1.0])|\n",
      "|  10087| 41251795489|43.036903367549215|     2.91|    2573|     624829|      2573|1705.489731489324|          1,122|29261.9|    2021-08-28|        1.0|      2.0|     6.0| (24,[6],[1.0])|\n",
      "|  10087| 52606993642|17.161402492530158|     2.35|    2573|     624829|      2573|1705.489731489324|          1,122|29261.9|    2021-08-28|        1.0|      2.0|    17.0|(24,[17],[1.0])|\n",
      "|  10087| 45433476494| 237.2802184583022|     5.82|    2573|     624829|      2573|1705.489731489324|          1,122|29261.9|    2021-08-28|        1.0|      0.0|     7.0| (24,[7],[1.0])|\n",
      "|  10087| 46804135891|25.298111765587933|     2.93|    2573|     624829|      2573|1705.489731489324|          1,122|29261.9|    2021-08-28|        1.0|      2.0|     6.0| (24,[6],[1.0])|\n",
      "|  10056| 86578477987|19.952565265080263|     6.43|    5570|     228819|      5570|414.3436499522715|          1,122|29261.9|    2021-08-28|        1.0|      0.0|     3.0| (24,[3],[1.0])|\n",
      "|  10050| 98416475066| 44.91981389830167|     6.88|    5279|     120386|      5279|  788.02581045728|          1,122|29261.9|    2021-08-28|        1.0|      0.0|     4.0| (24,[4],[1.0])|\n",
      "|  10045| 41974958954| 85.09871675624079|     5.51|    3328|     282319|      3328|330.4435727009857|          1,122|29261.9|    2021-08-28|        1.0|      0.0|     4.0| (24,[4],[1.0])|\n",
      "|  10042| 57757792876| 751.6376996553432|     5.53|    4401|     774542|      4401|2187.201594446924|          1,122|29261.9|    2021-08-28|        0.0|      0.0|    20.0|(24,[20],[1.0])|\n",
      "|  10087| 28896046710| 188.3430676638626|     6.75|    2573|     624829|      2573|1705.489731489324|          1,122|29261.9|    2021-08-28|        1.0|      0.0|     7.0| (24,[7],[1.0])|\n",
      "|  10032| 80779820715|63.361747638275304|     4.71|    2442|     428649|      2446|22542.84670825958|          1,122|29261.9|    2021-08-28|        0.0|      1.0|     3.0| (24,[3],[1.0])|\n",
      "|  10013| 20985347699|  7.26688787479366|      6.1|    3566|     108587|      3566|311.3319934256672|          1,122|29261.9|    2021-08-28|        1.0|      0.0|     0.0| (24,[0],[1.0])|\n",
      "|  10013| 43186523025| 47.24624791487761|     4.47|    3566|     108587|      3566|311.3319934256672|          1,122|29261.9|    2021-08-28|        1.0|      1.0|     5.0| (24,[5],[1.0])|\n",
      "|  10003| 98269572896| 72.76144633568548|     3.59|    2782|     275781|      2782|6435.999882563711|          1,122|29261.9|    2021-08-28|        1.0|      1.0|    10.0|(24,[10],[1.0])|\n",
      "|   9991| 80682333501|25.949018974832107|     4.88|    2783|    1213223|      2783|1784.463909298242|          1,122|29261.9|    2021-08-28|        1.0|      1.0|     5.0| (24,[5],[1.0])|\n",
      "|   9991| 99018524323| 108.5909506586931|     0.42|    2783|    1213223|      2783|1784.463909298242|          1,122|29261.9|    2021-08-28|        1.0|      4.0|    11.0|(24,[11],[1.0])|\n",
      "|   9990| 38638753805|0.9571226013888998|     4.81|    2207|      76985|      2207|30595.99240140275|          1,122|29261.9|    2021-08-28|        0.0|      1.0|     0.0| (24,[0],[1.0])|\n",
      "|   9990| 77149983383|372.23248407302356|     6.23|    2207|      76985|      2207|30595.99240140275|          1,122|29261.9|    2021-08-28|        0.0|      0.0|     5.0| (24,[5],[1.0])|\n",
      "|   9988| 79417999332|113.04067184838375|     4.95|    3159|    1001620|      3159|2531.708769027262|          1,122|29261.9|    2021-08-28|        0.0|      1.0|     1.0| (24,[1],[1.0])|\n",
      "|  10025| 38012560280|103.85130996477619|     5.67|    2234|    1060454|      2234|30963.18188227802|          1,122|29261.9|    2021-08-28|        1.0|      0.0|     5.0| (24,[5],[1.0])|\n",
      "+-------+------------+------------------+---------+--------+-----------+----------+-----------------+---------------+-------+--------------+-----------+---------+--------+---------------+\n",
      "only showing top 20 rows\n",
      "\n"
     ]
    }
   ],
   "source": [
    "sdf_transformed.show()"
   ]
  },
  {
   "cell_type": "code",
   "execution_count": 44,
   "metadata": {},
   "outputs": [],
   "source": [
    "from pyspark.sql.functions import year, month, dayofmonth"
   ]
  },
  {
   "cell_type": "code",
   "execution_count": 45,
   "metadata": {},
   "outputs": [],
   "source": [
    "sdf_transformed = (sdf_transformed\n",
    "                   .withColumnRenamed(\"2021_popu\", 'population')\n",
    "                   .withColumnRenamed('total','total_retail')\n",
    "                   )"
   ]
  },
  {
   "cell_type": "code",
   "execution_count": 48,
   "metadata": {},
   "outputs": [
    {
     "name": "stdout",
     "output_type": "stream",
     "text": [
      "+-------+------------+------------------+---------+--------+-----------+----------+-----------------+---------------+------------+--------------+-----------+---------+--------+---------------+\n",
      "|user_id|merchant_abn|      dollar_value|take_rate|postcode|consumer_id|POA_CODE21|       population|New cases / day|total_retail|order_datetime|genderIndex|typeIndex|tagIndex|        tag_vec|\n",
      "+-------+------------+------------------+---------+--------+-----------+----------+-----------------+---------------+------------+--------------+-----------+---------+--------+---------------+\n",
      "|      7| 17488304283| 67.95495287248738|     6.18|    4606|     511685|      4606|557.0307901493427|          1,122|     29261.9|    2021-08-28|        1.0|      0.0|     4.0| (24,[4],[1.0])|\n",
      "|  10087| 41251795489|43.036903367549215|     2.91|    2573|     624829|      2573|1705.489731489324|          1,122|     29261.9|    2021-08-28|        1.0|      2.0|     6.0| (24,[6],[1.0])|\n",
      "|  10087| 52606993642|17.161402492530158|     2.35|    2573|     624829|      2573|1705.489731489324|          1,122|     29261.9|    2021-08-28|        1.0|      2.0|    17.0|(24,[17],[1.0])|\n",
      "|  10087| 45433476494| 237.2802184583022|     5.82|    2573|     624829|      2573|1705.489731489324|          1,122|     29261.9|    2021-08-28|        1.0|      0.0|     7.0| (24,[7],[1.0])|\n",
      "|  10087| 46804135891|25.298111765587933|     2.93|    2573|     624829|      2573|1705.489731489324|          1,122|     29261.9|    2021-08-28|        1.0|      2.0|     6.0| (24,[6],[1.0])|\n",
      "|  10056| 86578477987|19.952565265080263|     6.43|    5570|     228819|      5570|414.3436499522715|          1,122|     29261.9|    2021-08-28|        1.0|      0.0|     3.0| (24,[3],[1.0])|\n",
      "|  10050| 98416475066| 44.91981389830167|     6.88|    5279|     120386|      5279|  788.02581045728|          1,122|     29261.9|    2021-08-28|        1.0|      0.0|     4.0| (24,[4],[1.0])|\n",
      "|  10045| 41974958954| 85.09871675624079|     5.51|    3328|     282319|      3328|330.4435727009857|          1,122|     29261.9|    2021-08-28|        1.0|      0.0|     4.0| (24,[4],[1.0])|\n",
      "|  10042| 57757792876| 751.6376996553432|     5.53|    4401|     774542|      4401|2187.201594446924|          1,122|     29261.9|    2021-08-28|        0.0|      0.0|    20.0|(24,[20],[1.0])|\n",
      "|  10087| 28896046710| 188.3430676638626|     6.75|    2573|     624829|      2573|1705.489731489324|          1,122|     29261.9|    2021-08-28|        1.0|      0.0|     7.0| (24,[7],[1.0])|\n",
      "|  10032| 80779820715|63.361747638275304|     4.71|    2442|     428649|      2446|22542.84670825958|          1,122|     29261.9|    2021-08-28|        0.0|      1.0|     3.0| (24,[3],[1.0])|\n",
      "|  10013| 20985347699|  7.26688787479366|      6.1|    3566|     108587|      3566|311.3319934256672|          1,122|     29261.9|    2021-08-28|        1.0|      0.0|     0.0| (24,[0],[1.0])|\n",
      "|  10013| 43186523025| 47.24624791487761|     4.47|    3566|     108587|      3566|311.3319934256672|          1,122|     29261.9|    2021-08-28|        1.0|      1.0|     5.0| (24,[5],[1.0])|\n",
      "|  10003| 98269572896| 72.76144633568548|     3.59|    2782|     275781|      2782|6435.999882563711|          1,122|     29261.9|    2021-08-28|        1.0|      1.0|    10.0|(24,[10],[1.0])|\n",
      "|   9991| 80682333501|25.949018974832107|     4.88|    2783|    1213223|      2783|1784.463909298242|          1,122|     29261.9|    2021-08-28|        1.0|      1.0|     5.0| (24,[5],[1.0])|\n",
      "|   9991| 99018524323| 108.5909506586931|     0.42|    2783|    1213223|      2783|1784.463909298242|          1,122|     29261.9|    2021-08-28|        1.0|      4.0|    11.0|(24,[11],[1.0])|\n",
      "|   9990| 38638753805|0.9571226013888998|     4.81|    2207|      76985|      2207|30595.99240140275|          1,122|     29261.9|    2021-08-28|        0.0|      1.0|     0.0| (24,[0],[1.0])|\n",
      "|   9990| 77149983383|372.23248407302356|     6.23|    2207|      76985|      2207|30595.99240140275|          1,122|     29261.9|    2021-08-28|        0.0|      0.0|     5.0| (24,[5],[1.0])|\n",
      "|   9988| 79417999332|113.04067184838375|     4.95|    3159|    1001620|      3159|2531.708769027262|          1,122|     29261.9|    2021-08-28|        0.0|      1.0|     1.0| (24,[1],[1.0])|\n",
      "|  10025| 38012560280|103.85130996477619|     5.67|    2234|    1060454|      2234|30963.18188227802|          1,122|     29261.9|    2021-08-28|        1.0|      0.0|     5.0| (24,[5],[1.0])|\n",
      "+-------+------------+------------------+---------+--------+-----------+----------+-----------------+---------------+------------+--------------+-----------+---------+--------+---------------+\n",
      "only showing top 20 rows\n",
      "\n"
     ]
    }
   ],
   "source": [
    "sdf_transformed.show()"
   ]
  }
 ],
 "metadata": {
  "kernelspec": {
   "display_name": "Python 3.7.9 64-bit",
   "language": "python",
   "name": "python3"
  },
  "language_info": {
   "codemirror_mode": {
    "name": "ipython",
    "version": 3
   },
   "file_extension": ".py",
   "mimetype": "text/x-python",
   "name": "python",
   "nbconvert_exporter": "python",
   "pygments_lexer": "ipython3",
   "version": "3.7.9"
  },
  "orig_nbformat": 4,
  "vscode": {
   "interpreter": {
    "hash": "aee8b7b246df8f9039afb4144a1f6fd8d2ca17a180786b69acc140d282b71a49"
   }
  }
 },
 "nbformat": 4,
 "nbformat_minor": 2
}
