{
 "cells": [
  {
   "cell_type": "markdown",
   "metadata": {},
   "source": [
    "Packages"
   ]
  },
  {
   "cell_type": "code",
   "execution_count": 35,
   "metadata": {},
   "outputs": [],
   "source": [
    "import os\n",
    "import numpy\n",
    "import pandas as pd\n",
    "import tqdm\n",
    "import geopandas as gpd\n",
    "from pyspark.sql import SparkSession\n",
    "from pyspark.ml.feature import OneHotEncoder, StringIndexer\n",
    "from pyspark.ml import Pipeline\n",
    "import sys\n",
    "sys.path.append('../scripts/')\n",
    "from read_utils import read_file, create_folder, temp_record_query, temp_record_sdf"
   ]
  },
  {
   "cell_type": "code",
   "execution_count": 36,
   "metadata": {},
   "outputs": [],
   "source": [
    "from pyspark.sql import SparkSession"
   ]
  },
  {
   "cell_type": "code",
   "execution_count": 37,
   "metadata": {},
   "outputs": [],
   "source": [
    "spark = (\n",
    "    # Create a spark session (which will run spark jobs)\n",
    "    SparkSession.builder.appName(\"Project 2\")\n",
    "    .config(\"spark.sql.repl.eagerEval.enabled\", True) \n",
    "    .config(\"spark.sql.parquet.cacheMetadata\", \"true\")\n",
    "    .config('spark.executor.memory','10g')\n",
    "    .config('spark.driver.memory','12g')\n",
    "    .config('spark.driver.maxResultsSize', '10GiB')\n",
    "    # .config(\"spark.network.timeout\", \"3600s\")\n",
    "    # .master(\"local[6]\")\n",
    "    .getOrCreate()\n",
    "    )"
   ]
  },
  {
   "cell_type": "code",
   "execution_count": 38,
   "metadata": {},
   "outputs": [
    {
     "name": "stdout",
     "output_type": "stream",
     "text": [
      "|> Loading File...\n",
      "|> Loading Finished!\n"
     ]
    },
    {
     "name": "stderr",
     "output_type": "stream",
     "text": [
      "[Stage 107:==========================================>              (3 + 1) / 4]\r"
     ]
    },
    {
     "name": "stdout",
     "output_type": "stream",
     "text": [
      "-RECORD 0--------------------------------------------------------------------------\n",
      " user_id           | 7                                                             \n",
      " merchant_abn      | 17488304283                                                   \n",
      " dollar_value      | 67.95495287248738                                             \n",
      " order_id          | e637ca66-ed07-42c3-a39b-d49a1f97dde8                          \n",
      " merchant_name     | Posuere Cubilia Curae Corporation                             \n",
      " tags              | cable, satellite, and other pay television and radio services \n",
      " take_rate         | 6.18                                                          \n",
      " type              | a                                                             \n",
      " postcode          | 4606                                                          \n",
      " consumer_id       | 511685                                                        \n",
      " name              | Andrea Jones                                                  \n",
      " address           | 122 Brandon Cliff                                             \n",
      " state             | QLD                                                           \n",
      " gender            | Female                                                        \n",
      " POA_CODE21        | 4606                                                          \n",
      " 2021_popu         | 557.0307901493427                                             \n",
      " New cases / day   | 1,122                                                         \n",
      " month             | 2021-08-01                                                    \n",
      " total             | 29261.9                                                       \n",
      " order_datetime    | 2021-08-28                                                    \n",
      " __index_level_0__ | 0                                                             \n",
      "only showing top 1 row\n",
      "\n"
     ]
    },
    {
     "name": "stderr",
     "output_type": "stream",
     "text": [
      "                                                                                \r"
     ]
    }
   ],
   "source": [
    "sdf = read_file(spark, 'filled.parquet', '../data/curated/')"
   ]
  },
  {
   "cell_type": "code",
   "execution_count": 48,
   "metadata": {},
   "outputs": [
    {
     "name": "stderr",
     "output_type": "stream",
     "text": [
      "                                                                                \r"
     ]
    },
    {
     "name": "stdout",
     "output_type": "stream",
     "text": [
      "+----------+-------+------------+------------------+--------------------+--------------------+--------------------+---------+----+--------+-----------+--------------+--------------------+-----+------+-----------------+---------------+----------+-------+--------------+-----------------+------------------+------------------+\n",
      "|POA_CODE21|user_id|merchant_abn|      dollar_value|            order_id|       merchant_name|                tags|take_rate|type|postcode|consumer_id|          name|             address|state|gender|        2021_popu|New cases / day|     month|  total|order_datetime|__index_level_0__|          latitude|         longitude|\n",
      "+----------+-------+------------+------------------+--------------------+--------------------+--------------------+---------+----+--------+-----------+--------------+--------------------+-----+------+-----------------+---------------+----------+-------+--------------+-----------------+------------------+------------------+\n",
      "|      5570|  10056| 86578477987|19.952565265080263|35de2567-7d5f-46f...|   Leo In Consulting|watch, clock, and...|     6.43|   a|    5570|     228819|Melissa Martin|1005 Bradley Stre...|   SA|Female|414.3436499522715|          1,122|2021-08-01|29261.9|    2021-08-28|            15125| 137.9484473190459|-34.25824850122549|\n",
      "|      2573|  10087| 41251795489|43.036903367549215|c8008300-48d1-4b0...|Ultricies Sem Lim...|opticians, optica...|     2.91|   c|    2573|     624829|  Julie Snyder|976 Clark Meadows...|  NSW|Female|1705.489731489324|          1,122|2021-08-01|29261.9|    2021-08-28|            15129|150.59078911342706|-34.22882685800176|\n",
      "|      2573|  10087| 52606993642|17.161402492530158|e35e23f4-310e-49e...| Congue Elit Sed Ltd|hobby, toy and ga...|     2.35|   c|    2573|     624829|  Julie Snyder|976 Clark Meadows...|  NSW|Female|1705.489731489324|          1,122|2021-08-01|29261.9|    2021-08-28|            15128|150.59078911342706|-34.22882685800176|\n",
      "|      2573|  10087| 45433476494| 237.2802184583022|404cd9a3-ffb8-42a...|Adipiscing Elit F...|computers, comput...|     5.82|   a|    2573|     624829|  Julie Snyder|976 Clark Meadows...|  NSW|Female|1705.489731489324|          1,122|2021-08-01|29261.9|    2021-08-28|            15127|150.59078911342706|-34.22882685800176|\n",
      "|      2573|  10087| 46804135891|25.298111765587933|2328217b-2c0c-464...|Suspendisse Dui C...|opticians, optica...|     2.93|   c|    2573|     624829|  Julie Snyder|976 Clark Meadows...|  NSW|Female|1705.489731489324|          1,122|2021-08-01|29261.9|    2021-08-28|            15126|150.59078911342706|-34.22882685800176|\n",
      "+----------+-------+------------+------------------+--------------------+--------------------+--------------------+---------+----+--------+-----------+--------------+--------------------+-----+------+-----------------+---------------+----------+-------+--------------+-----------------+------------------+------------------+\n",
      "only showing top 5 rows\n",
      "\n"
     ]
    }
   ],
   "source": [
    "sdf.show(5)"
   ]
  },
  {
   "cell_type": "code",
   "execution_count": 49,
   "metadata": {},
   "outputs": [],
   "source": [
    "# type\n",
    "type_indexer = StringIndexer(inputCol = \"type\", outputCol = \"typeIndex\", handleInvalid=\"skip\")\n",
    "\n",
    "# gender\n",
    "gender_indexer = StringIndexer(inputCol = \"gender\", outputCol = \"genderIndex\", handleInvalid=\"skip\")\n",
    "\n",
    "# tag\n",
    "tag_indexer = StringIndexer(inputCol = \"tags\",outputCol = \"tagIndex\", handleInvalid=\"skip\")\n",
    "onehotencoder_tag_vector = OneHotEncoder(inputCol = \"tagIndex\", outputCol = \"tag_vec\")\n",
    "\n",
    "#Create pipeline and pass all stages\n",
    "pipeline = Pipeline(stages=[gender_indexer, \n",
    "                            type_indexer,\n",
    "                            tag_indexer,\n",
    "                            onehotencoder_tag_vector])"
   ]
  },
  {
   "cell_type": "code",
   "execution_count": 50,
   "metadata": {},
   "outputs": [
    {
     "name": "stderr",
     "output_type": "stream",
     "text": [
      "                                                                                \r"
     ]
    },
    {
     "name": "stdout",
     "output_type": "stream",
     "text": [
      "+----------+-------+------------+------------------+--------------------+--------------------+--------------------+---------+----+--------+-----------+--------------+--------------------+-----+------+-----------------+---------------+----------+-------+--------------+-----------------+------------------+------------------+\n",
      "|POA_CODE21|user_id|merchant_abn|      dollar_value|            order_id|       merchant_name|                tags|take_rate|type|postcode|consumer_id|          name|             address|state|gender|        2021_popu|New cases / day|     month|  total|order_datetime|__index_level_0__|          latitude|         longitude|\n",
      "+----------+-------+------------+------------------+--------------------+--------------------+--------------------+---------+----+--------+-----------+--------------+--------------------+-----+------+-----------------+---------------+----------+-------+--------------+-----------------+------------------+------------------+\n",
      "|      5570|  10056| 86578477987|19.952565265080263|35de2567-7d5f-46f...|   Leo In Consulting|watch, clock, and...|     6.43|   a|    5570|     228819|Melissa Martin|1005 Bradley Stre...|   SA|Female|414.3436499522715|          1,122|2021-08-01|29261.9|    2021-08-28|            15125| 137.9484473190459|-34.25824850122549|\n",
      "|      2573|  10087| 41251795489|43.036903367549215|c8008300-48d1-4b0...|Ultricies Sem Lim...|opticians, optica...|     2.91|   c|    2573|     624829|  Julie Snyder|976 Clark Meadows...|  NSW|Female|1705.489731489324|          1,122|2021-08-01|29261.9|    2021-08-28|            15129|150.59078911342706|-34.22882685800176|\n",
      "|      2573|  10087| 52606993642|17.161402492530158|e35e23f4-310e-49e...| Congue Elit Sed Ltd|hobby, toy and ga...|     2.35|   c|    2573|     624829|  Julie Snyder|976 Clark Meadows...|  NSW|Female|1705.489731489324|          1,122|2021-08-01|29261.9|    2021-08-28|            15128|150.59078911342706|-34.22882685800176|\n",
      "|      2573|  10087| 45433476494| 237.2802184583022|404cd9a3-ffb8-42a...|Adipiscing Elit F...|computers, comput...|     5.82|   a|    2573|     624829|  Julie Snyder|976 Clark Meadows...|  NSW|Female|1705.489731489324|          1,122|2021-08-01|29261.9|    2021-08-28|            15127|150.59078911342706|-34.22882685800176|\n",
      "|      2573|  10087| 46804135891|25.298111765587933|2328217b-2c0c-464...|Suspendisse Dui C...|opticians, optica...|     2.93|   c|    2573|     624829|  Julie Snyder|976 Clark Meadows...|  NSW|Female|1705.489731489324|          1,122|2021-08-01|29261.9|    2021-08-28|            15126|150.59078911342706|-34.22882685800176|\n",
      "+----------+-------+------------+------------------+--------------------+--------------------+--------------------+---------+----+--------+-----------+--------------+--------------------+-----+------+-----------------+---------------+----------+-------+--------------+-----------------+------------------+------------------+\n",
      "only showing top 5 rows\n",
      "\n"
     ]
    },
    {
     "name": "stderr",
     "output_type": "stream",
     "text": [
      "                                                                                \r"
     ]
    }
   ],
   "source": [
    "sdf.show(5)"
   ]
  },
  {
   "cell_type": "code",
   "execution_count": 51,
   "metadata": {},
   "outputs": [
    {
     "name": "stderr",
     "output_type": "stream",
     "text": [
      "[Stage 148:=================================================>       (7 + 1) / 8]\r"
     ]
    },
    {
     "name": "stdout",
     "output_type": "stream",
     "text": [
      "+----------+-------+------------+------------------+--------------------+--------------------+--------------------+---------+----+--------+-----------+----------------+--------------------+-----+------+-----------------+---------------+----------+-------+--------------+-----------------+------------------+------------------+-----------+---------+--------+--------------+\n",
      "|POA_CODE21|user_id|merchant_abn|      dollar_value|            order_id|       merchant_name|                tags|take_rate|type|postcode|consumer_id|            name|             address|state|gender|        2021_popu|New cases / day|     month|  total|order_datetime|__index_level_0__|          latitude|         longitude|genderIndex|typeIndex|tagIndex|       tag_vec|\n",
      "+----------+-------+------------+------------------+--------------------+--------------------+--------------------+---------+----+--------+-----------+----------------+--------------------+-----+------+-----------------+---------------+----------+-------+--------------+-----------------+------------------+------------------+-----------+---------+--------+--------------+\n",
      "|      5556|  12642| 68501926042| 89.62674454662323|c1d24d79-4a2e-43d...|         Dolor Corp.|cable, satellite,...|     5.78|   a|    5556|     331077|      Tara Irwin|     10342 Owen Dale|   SA|Female| 4502.99997931746|          1,122|2021-08-01|29261.9|    2021-08-28|            15449|137.66781360935204|-33.89344361937781|        1.0|      0.0|     4.0|(24,[4],[1.0])|\n",
      "|      2040|  11893| 23026499747|10.437888566160465|afd3042f-d181-4f3...|   Metus Aenean Inc.|watch, clock, and...|     6.95|   a|    2040|     245147|Jasmine Delacruz| 4150 Mcdowell Vista|  NSW|Female|24442.03477503719|          1,122|2021-08-01|29261.9|    2021-08-28|            15351|151.15759301879152|-33.87722582700607|        1.0|      0.0|     3.0|(24,[3],[1.0])|\n",
      "|      2040|  11893| 13285958344| 7.900564292530253|d8a23605-e3ba-4ae...|Purus Gravida Sag...|gift, card, novel...|     5.65|   a|    2040|     245147|Jasmine Delacruz| 4150 Mcdowell Vista|  NSW|Female|24442.03477503719|          1,122|2021-08-01|29261.9|    2021-08-28|            15350|151.15759301879152|-33.87722582700607|        1.0|      0.0|     1.0|(24,[1],[1.0])|\n",
      "|      3506|   4521| 35556933338|26.452413058257623|b8863a31-9120-41f...|Semper Cursus Int...|digital goods: bo...|     6.87|   a|    3506|    1046905| Alexandria Webb|3796 Kathleen Hil...|  VIC|Female|74.80310587884506|          1,122|2021-08-01|29261.9|    2021-08-28|            14428|141.36526207519685|-35.18818636789844|        1.0|      0.0|     2.0|(24,[2],[1.0])|\n",
      "|      3506|   4175| 64203420245| 35.59836998586941|d303ee40-fadf-499...|  Pede Nonummy Corp.|tent and awning s...|     2.86|   c|    3506|     960376|    Wendy Bailey|3671 Jessica Squares|  VIC|Female|74.80310587884506|          1,122|2021-08-01|29261.9|    2021-08-28|            14380|141.36526207519685|-35.18818636789844|        1.0|      2.0|     0.0|(24,[0],[1.0])|\n",
      "+----------+-------+------------+------------------+--------------------+--------------------+--------------------+---------+----+--------+-----------+----------------+--------------------+-----+------+-----------------+---------------+----------+-------+--------------+-----------------+------------------+------------------+-----------+---------+--------+--------------+\n",
      "only showing top 5 rows\n",
      "\n"
     ]
    },
    {
     "name": "stderr",
     "output_type": "stream",
     "text": [
      "                                                                                \r"
     ]
    }
   ],
   "source": [
    "sdf_transformed = pipeline.fit(sdf).transform(sdf)\n",
    "sdf_transformed.show(5)"
   ]
  },
  {
   "cell_type": "code",
   "execution_count": 52,
   "metadata": {},
   "outputs": [],
   "source": [
    "sdf_transformed = (sdf_transformed\n",
    "                   .withColumnRenamed(\"2021_popu\", 'population')\n",
    "                   .withColumnRenamed('total','total_retail')\n",
    "                   )"
   ]
  },
  {
   "cell_type": "code",
   "execution_count": 53,
   "metadata": {},
   "outputs": [
    {
     "name": "stderr",
     "output_type": "stream",
     "text": [
      "[Stage 156:=================================================>       (7 + 1) / 8]\r"
     ]
    },
    {
     "name": "stdout",
     "output_type": "stream",
     "text": [
      "+----------+-------+------------+------------------+--------------------+--------------------+--------------------+---------+----+--------+-----------+------------------+--------------------+-----+-----------+-----------------+---------------+----------+------------+--------------+-----------------+------------------+-------------------+-----------+---------+--------+---------------+\n",
      "|POA_CODE21|user_id|merchant_abn|      dollar_value|            order_id|       merchant_name|                tags|take_rate|type|postcode|consumer_id|              name|             address|state|     gender|       population|New cases / day|     month|total_retail|order_datetime|__index_level_0__|          latitude|          longitude|genderIndex|typeIndex|tagIndex|        tag_vec|\n",
      "+----------+-------+------------+------------------+--------------------+--------------------+--------------------+---------+----+--------+-----------+------------------+--------------------+-----+-----------+-----------------+---------------+----------+------------+--------------+-----------------+------------------+-------------------+-----------+---------+--------+---------------+\n",
      "|      5556|  12642| 68501926042| 89.62674454662323|c1d24d79-4a2e-43d...|         Dolor Corp.|cable, satellite,...|     5.78|   a|    5556|     331077|        Tara Irwin|     10342 Owen Dale|   SA|     Female| 4502.99997931746|          1,122|2021-08-01|     29261.9|    2021-08-28|            15449|137.66781360935204| -33.89344361937781|        1.0|      0.0|     4.0| (24,[4],[1.0])|\n",
      "|      2040|  11893| 23026499747|10.437888566160465|afd3042f-d181-4f3...|   Metus Aenean Inc.|watch, clock, and...|     6.95|   a|    2040|     245147|  Jasmine Delacruz| 4150 Mcdowell Vista|  NSW|     Female|24442.03477503719|          1,122|2021-08-01|     29261.9|    2021-08-28|            15351|151.15759301879152| -33.87722582700607|        1.0|      0.0|     3.0| (24,[3],[1.0])|\n",
      "|      2040|  11893| 13285958344| 7.900564292530253|d8a23605-e3ba-4ae...|Purus Gravida Sag...|gift, card, novel...|     5.65|   a|    2040|     245147|  Jasmine Delacruz| 4150 Mcdowell Vista|  NSW|     Female|24442.03477503719|          1,122|2021-08-01|     29261.9|    2021-08-28|            15350|151.15759301879152| -33.87722582700607|        1.0|      0.0|     1.0| (24,[1],[1.0])|\n",
      "|      3506|   4521| 35556933338|26.452413058257623|b8863a31-9120-41f...|Semper Cursus Int...|digital goods: bo...|     6.87|   a|    3506|    1046905|   Alexandria Webb|3796 Kathleen Hil...|  VIC|     Female|74.80310587884506|          1,122|2021-08-01|     29261.9|    2021-08-28|            14428|141.36526207519685| -35.18818636789844|        1.0|      0.0|     2.0| (24,[2],[1.0])|\n",
      "|      3506|   4175| 64203420245| 35.59836998586941|d303ee40-fadf-499...|  Pede Nonummy Corp.|tent and awning s...|     2.86|   c|    3506|     960376|      Wendy Bailey|3671 Jessica Squares|  VIC|     Female|74.80310587884506|          1,122|2021-08-01|     29261.9|    2021-08-28|            14380|141.36526207519685| -35.18818636789844|        1.0|      2.0|     0.0| (24,[0],[1.0])|\n",
      "|      3506|   4175| 45629217853|16.319985591685942|b82edfa9-2d89-4a3...|    Lacus Consulting|gift, card, novel...|     6.98|   a|    3506|     960376|      Wendy Bailey|3671 Jessica Squares|  VIC|     Female|74.80310587884506|          1,122|2021-08-01|     29261.9|    2021-08-28|            14379|141.36526207519685| -35.18818636789844|        1.0|      0.0|     1.0| (24,[1],[1.0])|\n",
      "|      5556|   5019| 52959528548|106.72037395605187|ae2794b6-2a3e-448...|   Libero Et Limited|furniture, home f...|     1.94|   c|    5556|      79193|    Rachel Shaffer|963 Wagner Point ...|   SA|     Female| 4502.99997931746|          1,122|2021-08-01|     29261.9|    2021-08-28|            14513|137.66781360935204| -33.89344361937781|        1.0|      2.0|    10.0|(24,[10],[1.0])|\n",
      "|      2214|   5115| 43186523025| 25.48467478283535|27bf9e27-ab9b-4c6...|Lorem Ipsum Sodal...|florists supplies...|     4.47|   b|    1891|    1432444| Gregory Rodriguez| 6082 Rodney Station|  NSW|       Male|7833.920905657307|          1,122|2021-08-01|     29261.9|    2021-08-28|            14521|  150.981487861616|  -33.9388368430949|        0.0|      1.0|     5.0| (24,[5],[1.0])|\n",
      "|      2214|   5115| 43186523025| 25.48467478283535|27bf9e27-ab9b-4c6...|Lorem Ipsum Sodal...|florists supplies...|     4.47|   b|    1891|    1432444| Gregory Rodriguez| 6082 Rodney Station|  NSW|       Male|7833.920905657307|          1,122|2021-08-01|     29261.9|    2021-08-28|            14521|  150.981487861616|  -33.9388368430949|        0.0|      1.0|     5.0| (24,[5],[1.0])|\n",
      "|      6721|   1630| 77090965820|1300.0149782576964|28796251-b379-4cd...|   A Arcu Industries|florists supplies...|      3.0|   c|    6721|     447534|     Thomas Martin|     5381 Cory Green|   WA|       Male|4471.784851175305|          1,122|2021-08-01|     29261.9|    2021-08-28|            16905| 118.8368457027438|-20.536596488642612|        0.0|      2.0|     5.0| (24,[5],[1.0])|\n",
      "|      3091|   2262| 98269572896| 85.00322667183418|972ea901-e4f7-49a...|Eget Laoreet Posu...|furniture, home f...|     3.59|   b|    3091|     840635|     Carlos Rogers|8197 Margaret Str...|  VIC|       Male|5017.270945592059|          1,122|2021-08-01|     29261.9|    2021-08-28|            16981| 145.1348627068149| -37.63750003701364|        0.0|      1.0|    10.0|(24,[10],[1.0])|\n",
      "|      3091|   2262| 63728747020| 81.43425656614212|b47555db-9ead-495...|Lobortis Ultrices...|gift, card, novel...|     5.73|   a|    3091|     840635|     Carlos Rogers|8197 Margaret Str...|  VIC|       Male|5017.270945592059|          1,122|2021-08-01|     29261.9|    2021-08-28|            16980| 145.1348627068149| -37.63750003701364|        0.0|      0.0|     1.0| (24,[1],[1.0])|\n",
      "|      4823|  23905| 80324045558|  83.6501448258774|ff9e12af-5dbc-412...|Ipsum Dolor Sit C...|gift, card, novel...|     1.47|   c|    4823|     792861|Jennifer Cervantes|8227 Love Oval Ap...|  QLD|Undisclosed|2282.679126056244|          1,122|2021-08-01|     29261.9|    2021-08-28|            16697|141.06109322275086|-20.424052450196143|        2.0|      2.0|     1.0| (24,[1],[1.0])|\n",
      "|      2453|  16578| 40590483301| 38.62106688373364|8bfafbf2-0465-4a5...|Donec Tempus Corp...|cable, satellite,...|      3.1|   c|    2453|    1343942|        Julia Hall|60181 Salinas Isl...|  NSW|     Female|3676.038666295061|          1,122|2021-08-01|     29261.9|    2021-08-28|            15857| 152.5445987851557|-30.250197981223444|        1.0|      2.0|     4.0| (24,[4],[1.0])|\n",
      "|      3506|  14290| 74449830326|12.933764056632096|9c420cae-3401-416...|            Ac Corp.|stationery, offic...|     3.66|   b|    3506|     688891|      Vanessa Shaw|  741 Veronica Lodge|  VIC|     Female|74.80310587884506|          1,122|2021-08-01|     29261.9|    2021-08-28|            12817|141.36526207519685| -35.18818636789844|        1.0|      1.0|    20.0|(24,[20],[1.0])|\n",
      "|      2453|  19799| 32361057556| 8.979823211389771|d9a68aa0-3068-45a...|Orci In Consequat...|gift, card, novel...|     6.61|   a|    2453|    1458768|       Wanda Kelly|53889 Thompson Drive|  NSW|     Female|3676.038666295061|          1,122|2021-08-01|     29261.9|    2021-08-28|            13438| 152.5445987851557|-30.250197981223444|        1.0|      0.0|     1.0| (24,[1],[1.0])|\n",
      "|      2453|  19799| 32361057556| 19.97334025710932|a2a6ccd8-d88b-482...|Orci In Consequat...|gift, card, novel...|     6.61|   a|    2453|    1458768|       Wanda Kelly|53889 Thompson Drive|  NSW|     Female|3676.038666295061|          1,122|2021-08-01|     29261.9|    2021-08-28|            13437| 152.5445987851557|-30.250197981223444|        1.0|      0.0|     1.0| (24,[1],[1.0])|\n",
      "|      3091|  16992| 23290056758|12.249756826813753|b0583941-656d-4a2...|    Sed Incorporated|computers, comput...|     6.74|   a|    3091|      11346|   Jamie Mcfarland| 65183 Vasquez Vista|  VIC|     Female|5017.270945592059|          1,122|2021-08-01|     29261.9|    2021-08-28|            13132| 145.1348627068149| -37.63750003701364|        1.0|      0.0|     7.0| (24,[7],[1.0])|\n",
      "|      3091|  16992| 80324045558|12.632045394288422|75d91288-767c-448...|Ipsum Dolor Sit C...|gift, card, novel...|     1.47|   c|    3091|      11346|   Jamie Mcfarland| 65183 Vasquez Vista|  VIC|     Female|5017.270945592059|          1,122|2021-08-01|     29261.9|    2021-08-28|            13131| 145.1348627068149| -37.63750003701364|        1.0|      2.0|     1.0| (24,[1],[1.0])|\n",
      "|      5556|   9079| 89726005175| 73.54381672915453|c51cf209-6caf-4e1...| Est Nunc Consulting|tent and awning s...|     6.01|   a|    5556|     385446| Daniel Carter III|269 Mackenzie Pra...|   SA|       Male| 4502.99997931746|          1,122|2021-08-01|     29261.9|    2021-08-28|            20567|137.66781360935204| -33.89344361937781|        0.0|      0.0|     0.0| (24,[0],[1.0])|\n",
      "+----------+-------+------------+------------------+--------------------+--------------------+--------------------+---------+----+--------+-----------+------------------+--------------------+-----+-----------+-----------------+---------------+----------+------------+--------------+-----------------+------------------+-------------------+-----------+---------+--------+---------------+\n",
      "only showing top 20 rows\n",
      "\n"
     ]
    },
    {
     "name": "stderr",
     "output_type": "stream",
     "text": [
      "                                                                                \r"
     ]
    }
   ],
   "source": [
    "sdf_transformed.show()"
   ]
  },
  {
   "cell_type": "code",
   "execution_count": 54,
   "metadata": {},
   "outputs": [
    {
     "name": "stdout",
     "output_type": "stream",
     "text": [
      "|> The folder already exist!\n",
      "|> Files already exist under this folder:\n",
      "   ['order_datetime=2021-10-19', 'order_datetime=2021-10-26', 'order_datetime=2021-10-21', 'order_datetime=2021-10-28', 'order_datetime=2021-10-17', 'order_datetime=2021-10-10', 'order_datetime=2022-02-24', 'order_datetime=2022-01-03', 'order_datetime=2022-01-04', 'order_datetime=2022-02-23', 'order_datetime=2022-02-15', 'order_datetime=2022-02-12', 'order_datetime=2021-10-11', 'order_datetime=2021-10-29', 'order_datetime=2021-10-16', 'order_datetime=2021-10-20', 'order_datetime=2021-10-18', 'order_datetime=2021-10-27', 'order_datetime=2022-02-13', 'order_datetime=2022-02-14', 'order_datetime=2022-02-22', 'order_datetime=2022-01-05', 'order_datetime=2022-01-02', 'order_datetime=2022-02-25', 'order_datetime=2021-09-25', 'order_datetime=2021-12-09', 'order_datetime=2021-11-11', 'order_datetime=2021-11-29', 'order_datetime=2021-09-22', 'order_datetime=2021-11-16', 'order_datetime=2021-12-31', 'order_datetime=2021-09-14', 'order_datetime=2021-11-20', 'order_datetime=2021-12-07', 'order_datetime=2021-09-13', 'order_datetime=2021-11-18', 'order_datetime=2021-11-27', 'order_datetime=2021-11-19', 'order_datetime=2021-09-12', 'order_datetime=2021-11-26', 'order_datetime=2021-12-01', 'order_datetime=2021-09-15', 'order_datetime=2021-12-06', 'order_datetime=2021-11-21', 'order_datetime=2021-09-23', 'order_datetime=2021-11-28', 'order_datetime=2021-12-30', 'order_datetime=2021-11-17', 'order_datetime=2021-09-24', 'order_datetime=2021-12-08', 'order_datetime=2021-11-10', '._SUCCESS.crc', 'order_datetime=2021-12-15', 'order_datetime=2021-09-06', 'order_datetime=2021-12-12', 'order_datetime=2021-09-01', 'order_datetime=2021-09-08', 'order_datetime=2021-12-24', 'order_datetime=2021-11-03', 'order_datetime=2021-11-04', 'order_datetime=2021-12-23', 'order_datetime=2021-09-30', 'order_datetime=2021-12-22', 'order_datetime=2021-11-05', 'order_datetime=2021-11-02', 'order_datetime=2021-09-09', 'order_datetime=2021-12-25', 'order_datetime=2021-12-13', 'order_datetime=2021-12-14', 'order_datetime=2021-09-07', 'order_datetime=2022-01-20', 'order_datetime=2022-02-07', 'order_datetime=2022-01-18', 'order_datetime=2022-01-27', 'order_datetime=2022-02-09', 'order_datetime=2022-01-11', 'order_datetime=2022-01-29', 'order_datetime=2022-01-16', 'order_datetime=2021-10-05', 'order_datetime=2021-08-31', 'order_datetime=2021-10-02', 'order_datetime=2022-01-28', 'order_datetime=2022-01-17', 'order_datetime=2022-02-08', 'order_datetime=2022-01-10', 'order_datetime=2022-01-19', 'order_datetime=2022-01-26', 'order_datetime=2022-02-01', 'order_datetime=2022-02-06', 'order_datetime=2022-01-21', 'order_datetime=2021-10-03', 'order_datetime=2021-10-04', 'order_datetime=2021-08-30', 'order_datetime=2022-01-07', 'order_datetime=2022-02-20', 'order_datetime=2022-02-27', 'order_datetime=2022-02-18', 'order_datetime=2022-02-11', 'order_datetime=2022-01-09', 'order_datetime=2022-01-31', 'order_datetime=2022-02-16', 'order_datetime=2021-08-29', 'order_datetime=2021-10-22', 'order_datetime=2021-10-25', 'order_datetime=2021-10-13', 'order_datetime=2021-10-14', 'order_datetime=2022-02-17', 'order_datetime=2022-01-30', 'order_datetime=2022-02-10', 'order_datetime=2022-01-08', 'order_datetime=2022-01-01', 'order_datetime=2022-02-26', 'order_datetime=2022-02-19', 'order_datetime=2022-02-21', 'order_datetime=2022-01-06', 'order_datetime=2021-10-15', 'order_datetime=2021-10-12', 'order_datetime=2021-10-24', 'order_datetime=2021-10-23', 'order_datetime=2021-08-28', 'order_datetime=2021-09-21', 'order_datetime=2021-11-15', 'order_datetime=2021-09-26', 'order_datetime=2021-09-19', 'order_datetime=2021-11-12', 'order_datetime=2021-09-10', 'order_datetime=2021-12-03', 'order_datetime=2021-11-24', 'order_datetime=2021-09-17', 'order_datetime=2021-11-23', 'order_datetime=2021-12-04', 'order_datetime=2021-09-28', 'order_datetime=2021-09-16', 'order_datetime=2021-12-05', 'order_datetime=2021-09-29', 'order_datetime=2021-11-22', 'order_datetime=2021-09-11', 'order_datetime=2021-11-25', 'order_datetime=2021-12-02', 'order_datetime=2021-09-27', 'order_datetime=2021-11-13', 'order_datetime=2021-09-18', 'order_datetime=2021-09-20', 'order_datetime=2021-11-14', 'order_datetime=2021-12-11', 'order_datetime=2021-09-02', 'order_datetime=2021-11-09', 'order_datetime=2021-12-16', 'order_datetime=2021-12-29', 'order_datetime=2021-09-05', 'order_datetime=2021-11-07', 'order_datetime=2021-12-20', 'order_datetime=2021-12-27', 'order_datetime=2021-12-18', '_SUCCESS', 'order_datetime=2021-11-01', 'order_datetime=2021-12-26', 'order_datetime=2021-12-19', 'order_datetime=2021-12-21', 'order_datetime=2021-11-06', 'order_datetime=2021-12-17', 'order_datetime=2021-11-30', 'order_datetime=2021-12-28', 'order_datetime=2021-09-04', 'order_datetime=2021-12-10', 'order_datetime=2021-11-08', 'order_datetime=2021-09-03', 'order_datetime=2021-10-01', 'order_datetime=2021-10-06', 'order_datetime=2021-10-30', 'order_datetime=2021-10-08', 'order_datetime=2022-02-03', 'order_datetime=2022-01-24', 'order_datetime=2022-01-23', 'order_datetime=2022-02-04', 'order_datetime=2022-01-15', 'order_datetime=2022-01-12', 'order_datetime=2021-10-09', 'order_datetime=2021-10-31', 'order_datetime=2021-10-07', 'order_datetime=2022-01-13', 'order_datetime=2022-01-14', 'order_datetime=2022-02-05', 'order_datetime=2022-01-22', 'order_datetime=2022-01-25', 'order_datetime=2022-02-02']\n"
     ]
    },
    {
     "name": "stderr",
     "output_type": "stream",
     "text": [
      "                                                                                \r"
     ]
    }
   ],
   "source": [
    "path = '../data/curated/changed_data'\n",
    "if (create_folder(path)):\n",
    "    sdf_transformed.write.partitionBy('order_datetime').parquet(path, mode='append')\n",
    "else:\n",
    "    sdf_transformed.write.partitionBy('order_datetime').parquet(path, mode='overwrite')"
   ]
  },
  {
   "cell_type": "markdown",
   "metadata": {},
   "source": [
    "- figure out that tag_vec"
   ]
  },
  {
   "cell_type": "code",
   "execution_count": 55,
   "metadata": {},
   "outputs": [],
   "source": [
    "SAMPLE_SIZE = 0.005\n",
    "sdf_transformed = sdf_transformed.sample(SAMPLE_SIZE, seed=0)"
   ]
  },
  {
   "cell_type": "code",
   "execution_count": 56,
   "metadata": {},
   "outputs": [
    {
     "name": "stderr",
     "output_type": "stream",
     "text": [
      "                                                                                \r"
     ]
    },
    {
     "data": {
      "text/html": [
       "<div>\n",
       "<style scoped>\n",
       "    .dataframe tbody tr th:only-of-type {\n",
       "        vertical-align: middle;\n",
       "    }\n",
       "\n",
       "    .dataframe tbody tr th {\n",
       "        vertical-align: top;\n",
       "    }\n",
       "\n",
       "    .dataframe thead th {\n",
       "        text-align: right;\n",
       "    }\n",
       "</style>\n",
       "<table border=\"1\" class=\"dataframe\">\n",
       "  <thead>\n",
       "    <tr style=\"text-align: right;\">\n",
       "      <th></th>\n",
       "      <th>POA_CODE21</th>\n",
       "      <th>user_id</th>\n",
       "      <th>merchant_abn</th>\n",
       "      <th>dollar_value</th>\n",
       "      <th>order_id</th>\n",
       "      <th>merchant_name</th>\n",
       "      <th>tags</th>\n",
       "      <th>take_rate</th>\n",
       "      <th>type</th>\n",
       "      <th>postcode</th>\n",
       "      <th>...</th>\n",
       "      <th>month</th>\n",
       "      <th>total_retail</th>\n",
       "      <th>order_datetime</th>\n",
       "      <th>__index_level_0__</th>\n",
       "      <th>latitude</th>\n",
       "      <th>longitude</th>\n",
       "      <th>genderIndex</th>\n",
       "      <th>typeIndex</th>\n",
       "      <th>tagIndex</th>\n",
       "      <th>tag_vec</th>\n",
       "    </tr>\n",
       "  </thead>\n",
       "  <tbody>\n",
       "    <tr>\n",
       "      <th>0</th>\n",
       "      <td>6721</td>\n",
       "      <td>6007</td>\n",
       "      <td>17324645993</td>\n",
       "      <td>7.770520</td>\n",
       "      <td>971730f8-f855-4721-887b-f6a9931bd3c9</td>\n",
       "      <td>Eget Metus In Corporation</td>\n",
       "      <td>tent and awning shops</td>\n",
       "      <td>5.73</td>\n",
       "      <td>a</td>\n",
       "      <td>6721</td>\n",
       "      <td>...</td>\n",
       "      <td>2021-08-01</td>\n",
       "      <td>29261.9</td>\n",
       "      <td>2021-08-28</td>\n",
       "      <td>17388</td>\n",
       "      <td>118.836846</td>\n",
       "      <td>-20.536596</td>\n",
       "      <td>2.0</td>\n",
       "      <td>0.0</td>\n",
       "      <td>0.0</td>\n",
       "      <td>(1.0, 0.0, 0.0, 0.0, 0.0, 0.0, 0.0, 0.0, 0.0, ...</td>\n",
       "    </tr>\n",
       "    <tr>\n",
       "      <th>1</th>\n",
       "      <td>3506</td>\n",
       "      <td>10946</td>\n",
       "      <td>54272781746</td>\n",
       "      <td>33.079915</td>\n",
       "      <td>a5afeb04-7429-4ee9-bb98-4198d1a71759</td>\n",
       "      <td>Non Massa Institute</td>\n",
       "      <td>bicycle shops - sales and service</td>\n",
       "      <td>4.54</td>\n",
       "      <td>b</td>\n",
       "      <td>3506</td>\n",
       "      <td>...</td>\n",
       "      <td>2021-08-01</td>\n",
       "      <td>29261.9</td>\n",
       "      <td>2021-08-29</td>\n",
       "      <td>23957</td>\n",
       "      <td>141.365262</td>\n",
       "      <td>-35.188186</td>\n",
       "      <td>1.0</td>\n",
       "      <td>1.0</td>\n",
       "      <td>18.0</td>\n",
       "      <td>(0.0, 0.0, 0.0, 0.0, 0.0, 0.0, 0.0, 0.0, 0.0, ...</td>\n",
       "    </tr>\n",
       "    <tr>\n",
       "      <th>2</th>\n",
       "      <td>2453</td>\n",
       "      <td>16578</td>\n",
       "      <td>85139489422</td>\n",
       "      <td>16.731617</td>\n",
       "      <td>b9918232-20b8-4bf2-b1c7-fab2d69a18db</td>\n",
       "      <td>Ut Institute</td>\n",
       "      <td>cable, satellite, and other pay television and...</td>\n",
       "      <td>4.25</td>\n",
       "      <td>b</td>\n",
       "      <td>2453</td>\n",
       "      <td>...</td>\n",
       "      <td>2021-09-01</td>\n",
       "      <td>29756.7</td>\n",
       "      <td>2021-09-01</td>\n",
       "      <td>104265</td>\n",
       "      <td>152.544599</td>\n",
       "      <td>-30.250198</td>\n",
       "      <td>1.0</td>\n",
       "      <td>1.0</td>\n",
       "      <td>4.0</td>\n",
       "      <td>(0.0, 0.0, 0.0, 0.0, 1.0, 0.0, 0.0, 0.0, 0.0, ...</td>\n",
       "    </tr>\n",
       "    <tr>\n",
       "      <th>3</th>\n",
       "      <td>2214</td>\n",
       "      <td>3465</td>\n",
       "      <td>86578477987</td>\n",
       "      <td>20.820330</td>\n",
       "      <td>fb1f1249-4b2c-4042-b667-62c3cc28de21</td>\n",
       "      <td>Leo In Consulting</td>\n",
       "      <td>watch, clock, and jewelry repair shops</td>\n",
       "      <td>6.43</td>\n",
       "      <td>a</td>\n",
       "      <td>2214</td>\n",
       "      <td>...</td>\n",
       "      <td>2021-09-01</td>\n",
       "      <td>29756.7</td>\n",
       "      <td>2021-09-03</td>\n",
       "      <td>137165</td>\n",
       "      <td>150.981488</td>\n",
       "      <td>-33.938837</td>\n",
       "      <td>0.0</td>\n",
       "      <td>0.0</td>\n",
       "      <td>3.0</td>\n",
       "      <td>(0.0, 0.0, 0.0, 1.0, 0.0, 0.0, 0.0, 0.0, 0.0, ...</td>\n",
       "    </tr>\n",
       "    <tr>\n",
       "      <th>4</th>\n",
       "      <td>4823</td>\n",
       "      <td>11051</td>\n",
       "      <td>31101120643</td>\n",
       "      <td>170.777406</td>\n",
       "      <td>afca9de8-4310-44b2-8133-441596774377</td>\n",
       "      <td>Commodo Hendrerit Donec Corp.</td>\n",
       "      <td>cable, satellite, and other pay television and...</td>\n",
       "      <td>6.37</td>\n",
       "      <td>a</td>\n",
       "      <td>4823</td>\n",
       "      <td>...</td>\n",
       "      <td>2021-09-01</td>\n",
       "      <td>29756.7</td>\n",
       "      <td>2021-09-03</td>\n",
       "      <td>141013</td>\n",
       "      <td>141.061093</td>\n",
       "      <td>-20.424052</td>\n",
       "      <td>2.0</td>\n",
       "      <td>0.0</td>\n",
       "      <td>4.0</td>\n",
       "      <td>(0.0, 0.0, 0.0, 0.0, 1.0, 0.0, 0.0, 0.0, 0.0, ...</td>\n",
       "    </tr>\n",
       "  </tbody>\n",
       "</table>\n",
       "<p>5 rows × 27 columns</p>\n",
       "</div>"
      ],
      "text/plain": [
       "   POA_CODE21  user_id  merchant_abn  dollar_value  \\\n",
       "0        6721     6007   17324645993      7.770520   \n",
       "1        3506    10946   54272781746     33.079915   \n",
       "2        2453    16578   85139489422     16.731617   \n",
       "3        2214     3465   86578477987     20.820330   \n",
       "4        4823    11051   31101120643    170.777406   \n",
       "\n",
       "                               order_id                  merchant_name  \\\n",
       "0  971730f8-f855-4721-887b-f6a9931bd3c9      Eget Metus In Corporation   \n",
       "1  a5afeb04-7429-4ee9-bb98-4198d1a71759            Non Massa Institute   \n",
       "2  b9918232-20b8-4bf2-b1c7-fab2d69a18db                   Ut Institute   \n",
       "3  fb1f1249-4b2c-4042-b667-62c3cc28de21              Leo In Consulting   \n",
       "4  afca9de8-4310-44b2-8133-441596774377  Commodo Hendrerit Donec Corp.   \n",
       "\n",
       "                                                tags  take_rate type postcode  \\\n",
       "0                              tent and awning shops       5.73    a     6721   \n",
       "1                  bicycle shops - sales and service       4.54    b     3506   \n",
       "2  cable, satellite, and other pay television and...       4.25    b     2453   \n",
       "3             watch, clock, and jewelry repair shops       6.43    a     2214   \n",
       "4  cable, satellite, and other pay television and...       6.37    a     4823   \n",
       "\n",
       "   ...       month total_retail order_datetime __index_level_0__    latitude  \\\n",
       "0  ...  2021-08-01      29261.9     2021-08-28             17388  118.836846   \n",
       "1  ...  2021-08-01      29261.9     2021-08-29             23957  141.365262   \n",
       "2  ...  2021-09-01      29756.7     2021-09-01            104265  152.544599   \n",
       "3  ...  2021-09-01      29756.7     2021-09-03            137165  150.981488   \n",
       "4  ...  2021-09-01      29756.7     2021-09-03            141013  141.061093   \n",
       "\n",
       "   longitude genderIndex typeIndex tagIndex  \\\n",
       "0 -20.536596         2.0       0.0      0.0   \n",
       "1 -35.188186         1.0       1.0     18.0   \n",
       "2 -30.250198         1.0       1.0      4.0   \n",
       "3 -33.938837         0.0       0.0      3.0   \n",
       "4 -20.424052         2.0       0.0      4.0   \n",
       "\n",
       "                                             tag_vec  \n",
       "0  (1.0, 0.0, 0.0, 0.0, 0.0, 0.0, 0.0, 0.0, 0.0, ...  \n",
       "1  (0.0, 0.0, 0.0, 0.0, 0.0, 0.0, 0.0, 0.0, 0.0, ...  \n",
       "2  (0.0, 0.0, 0.0, 0.0, 1.0, 0.0, 0.0, 0.0, 0.0, ...  \n",
       "3  (0.0, 0.0, 0.0, 1.0, 0.0, 0.0, 0.0, 0.0, 0.0, ...  \n",
       "4  (0.0, 0.0, 0.0, 0.0, 1.0, 0.0, 0.0, 0.0, 0.0, ...  \n",
       "\n",
       "[5 rows x 27 columns]"
      ]
     },
     "execution_count": 56,
     "metadata": {},
     "output_type": "execute_result"
    }
   ],
   "source": [
    "df_transformed = sdf_transformed.toPandas()\n",
    "df_transformed.head()"
   ]
  },
  {
   "cell_type": "markdown",
   "metadata": {},
   "source": [
    "- Figure out corresponding index"
   ]
  },
  {
   "cell_type": "markdown",
   "metadata": {},
   "source": [
    "gender"
   ]
  },
  {
   "cell_type": "code",
   "execution_count": 57,
   "metadata": {},
   "outputs": [],
   "source": [
    "gender_correspond = sdf_transformed.drop_duplicates(subset=[c for c in sdf_transformed.columns if c in ['gender','genderIndex']])"
   ]
  },
  {
   "cell_type": "code",
   "execution_count": 58,
   "metadata": {},
   "outputs": [
    {
     "name": "stderr",
     "output_type": "stream",
     "text": [
      "[Stage 181:=================================================>       (7 + 1) / 8]\r"
     ]
    },
    {
     "name": "stdout",
     "output_type": "stream",
     "text": [
      "+----------+-------+------------+------------------+---------+--------+-----------+-----------+---------------+------------+--------------+------------------+-------------------+-----------+\n",
      "|POA_CODE21|user_id|merchant_abn|      dollar_value|take_rate|postcode|consumer_id|     gender|New cases / day|total_retail|order_datetime|          latitude|          longitude|genderIndex|\n",
      "+----------+-------+------------+------------------+---------+--------+-----------+-----------+---------------+------------+--------------+------------------+-------------------+-----------+\n",
      "|      3506|  10946| 54272781746| 33.07991535733474|     4.54|    3506|     729506|     Female|          1,320|     29261.9|    2021-08-29|141.36526207519685| -35.18818636789844|        1.0|\n",
      "|      2214|   3465| 86578477987| 20.82033031130609|     6.43|    2214|    1073253|       Male|          1,635|     29756.7|    2021-09-03|  150.981487861616|  -33.9388368430949|        0.0|\n",
      "|      6721|   6007| 17324645993|7.7705197714145395|     5.73|    6721|     937112|Undisclosed|          1,122|     29261.9|    2021-08-28| 118.8368457027438|-20.536596488642612|        2.0|\n",
      "+----------+-------+------------+------------------+---------+--------+-----------+-----------+---------------+------------+--------------+------------------+-------------------+-----------+\n",
      "\n"
     ]
    },
    {
     "name": "stderr",
     "output_type": "stream",
     "text": [
      "                                                                                \r"
     ]
    }
   ],
   "source": [
    "gender_correspond.drop('order_id', 'merchant_name', 'tags', 'type', 'name', 'address', 'state', 'population','month','__index_level_0__', 'typeIndex', 'tagIndex','tag_vec').show()"
   ]
  },
  {
   "cell_type": "markdown",
   "metadata": {},
   "source": [
    "type"
   ]
  },
  {
   "cell_type": "code",
   "execution_count": 59,
   "metadata": {},
   "outputs": [],
   "source": [
    "type_correspond = sdf_transformed.drop_duplicates(subset=[c for c in sdf_transformed.columns if c in ['type','typeIndex']])"
   ]
  },
  {
   "cell_type": "code",
   "execution_count": 60,
   "metadata": {},
   "outputs": [
    {
     "name": "stderr",
     "output_type": "stream",
     "text": [
      "[Stage 190:=================================================>       (7 + 1) / 8]\r"
     ]
    },
    {
     "name": "stdout",
     "output_type": "stream",
     "text": [
      "+----------+-------+------------+------------------+---------+----+--------+-----------+-----------------+---------------+------------+--------------+------------------+-------------------+---------+\n",
      "|POA_CODE21|user_id|merchant_abn|      dollar_value|take_rate|type|postcode|consumer_id|       population|New cases / day|total_retail|order_datetime|          latitude|          longitude|typeIndex|\n",
      "+----------+-------+------------+------------------+---------+----+--------+-----------+-----------------+---------------+------------+--------------+------------------+-------------------+---------+\n",
      "|      6721|   6007| 17324645993|7.7705197714145395|     5.73|   a|    6721|     937112|4471.784851175305|          1,122|     29261.9|    2021-08-28| 118.8368457027438|-20.536596488642612|      0.0|\n",
      "|      3506|  10946| 54272781746| 33.07991535733474|     4.54|   b|    3506|     729506|74.80310587884506|          1,320|     29261.9|    2021-08-29|141.36526207519685| -35.18818636789844|      1.0|\n",
      "|      5556|  21559| 46804135891| 5.937982202292221|     2.93|   c|    5556|     896965| 4502.99997931746|          1,866|     29756.7|    2021-09-10|137.66781360935204| -33.89344361937781|      2.0|\n",
      "|      2453|  12888| 60539272146|329.35298651068337|     0.81|   d|    2453|     645300|3676.038666295061|          2,586|     31132.7|    2021-10-15| 152.5445987851557|-30.250197981223444|      3.0|\n",
      "|      3764|  12450| 41944909975| 36.72867103945303|     0.16|   e|    3764|     985703|10233.89761861279|          2,795|     31967.9|    2021-12-15|144.93432575938095|-37.212232152987646|      4.0|\n",
      "+----------+-------+------------+------------------+---------+----+--------+-----------+-----------------+---------------+------------+--------------+------------------+-------------------+---------+\n",
      "\n"
     ]
    },
    {
     "name": "stderr",
     "output_type": "stream",
     "text": [
      "                                                                                \r"
     ]
    }
   ],
   "source": [
    "type_correspond.drop('order_id', 'merchant_name', 'tags', 'gender', 'name', 'address', 'state','month','__index_level_0__', 'genderIndex', 'tagIndex','tag_vec').show()"
   ]
  },
  {
   "cell_type": "markdown",
   "metadata": {},
   "source": [
    "tag"
   ]
  },
  {
   "cell_type": "code",
   "execution_count": 61,
   "metadata": {},
   "outputs": [],
   "source": [
    "type_correspond = sdf_transformed.drop_duplicates(subset=[c for c in sdf_transformed.columns if c in ['tag','tagIndex', 'tag_vec']])"
   ]
  },
  {
   "cell_type": "code",
   "execution_count": 62,
   "metadata": {},
   "outputs": [
    {
     "name": "stderr",
     "output_type": "stream",
     "text": [
      "[Stage 199:=================================================>       (7 + 1) / 8]\r"
     ]
    },
    {
     "name": "stdout",
     "output_type": "stream",
     "text": [
      "+----------+-------+------------+------------------+--------------------+---------+--------+-----------+-----------------+---------------+------------+--------------+------------------+-------------------+--------+---------------+\n",
      "|POA_CODE21|user_id|merchant_abn|      dollar_value|                tags|take_rate|postcode|consumer_id|       population|New cases / day|total_retail|order_datetime|          latitude|          longitude|tagIndex|        tag_vec|\n",
      "+----------+-------+------------+------------------+--------------------+---------+--------+-----------+-----------------+---------------+------------+--------------+------------------+-------------------+--------+---------------+\n",
      "|      6721|   6007| 17324645993|7.7705197714145395|tent and awning s...|     5.73|    6721|     937112|4471.784851175305|          1,122|     29261.9|    2021-08-28| 118.8368457027438|-20.536596488642612|     0.0| (24,[0],[1.0])|\n",
      "|      2453|   2851| 57471217202|129.65436236629736|gift, card, novel...|     4.65|    2453|    1342866|3676.038666295061|          1,473|     29756.7|    2021-09-07| 152.5445987851557|-30.250197981223444|     1.0| (24,[1],[1.0])|\n",
      "|      2529|  13090| 63465140133|24.210038328191796|digital goods: bo...|     3.68|    2529|      56473|25801.37595359558|          1,650|     29756.7|    2021-09-12| 150.8386832667038| -34.60046740535162|     2.0| (24,[2],[1.0])|\n",
      "|      2214|   3465| 86578477987| 20.82033031130609|watch, clock, and...|     6.43|    2214|    1073253|7833.920905657307|          1,635|     29756.7|    2021-09-03|  150.981487861616|  -33.9388368430949|     3.0| (24,[3],[1.0])|\n",
      "|      2453|  16578| 85139489422|16.731617362394367|cable, satellite,...|     4.25|    2453|    1343942|3676.038666295061|          1,242|     29756.7|    2021-09-01| 152.5445987851557|-30.250197981223444|     4.0| (24,[4],[1.0])|\n",
      "|      5556|   5019| 49212265466|164.53037435279134|florists supplies...|      4.5|    5556|      79193| 4502.99997931746|          2,545|     31132.7|    2021-10-21|137.66781360935204| -33.89344361937781|     5.0| (24,[5],[1.0])|\n",
      "|      5556|  21559| 46804135891| 5.937982202292221|opticians, optica...|     2.93|    5556|     896965| 4502.99997931746|          1,866|     29756.7|    2021-09-10|137.66781360935204| -33.89344361937781|     6.0| (24,[6],[1.0])|\n",
      "|      2214|  13070| 91960562098|504.42560152759165|computers, comput...|     1.85|    1891|     602726|7833.920905657307|          1,274|       33345|    2021-11-18|  150.981487861616|  -33.9388368430949|     7.0| (24,[7],[1.0])|\n",
      "|      2214|  23103| 94455880010|  5.77434591199281|computer programm...|     6.33|    2214|    1313504|7833.920905657307|          1,223|       33345|    2021-11-17|  150.981487861616|  -33.9388368430949|     8.0| (24,[8],[1.0])|\n",
      "|      2250|  17329| 63290521567| 37.95407654952545|artist supply and...|     6.48|    2250|    1039027|74098.48410335815|          2,391|     31132.7|    2021-10-05|151.21341456420623|-33.317056427869325|     9.0| (24,[9],[1.0])|\n",
      "|      3764|  13440| 33495932835|299.29816619909803|furniture, home f...|     4.69|    3764|    1065799|10233.89761861279|          1,753|     31132.7|    2021-10-27|144.93432575938095|-37.212232152987646|    10.0|(24,[10],[1.0])|\n",
      "|      5556|   9079| 28935822912| 46.88593108508044|          shoe shops|     2.06|    5556|     385446| 4502.99997931746|          2,400|     29756.7|    2021-09-30|137.66781360935204| -33.89344361937781|    11.0|(24,[11],[1.0])|\n",
      "|      2214|  20548| 22487474791|298.72441793442306|books, periodical...|      2.4|    2214|     957053|7833.920905657307|          2,144|     31132.7|    2021-10-02|  150.981487861616|  -33.9388368430949|    12.0|(24,[12],[1.0])|\n",
      "|      4823|   6360| 75850458091| 74.54298375194911|lawn and garden s...|      6.1|    4823|     659122|2282.679126056244|          2,510|     31132.7|    2021-10-08|141.06109322275086|-20.424052450196143|    13.0|(24,[13],[1.0])|\n",
      "|      5556|   8569| 64403598239| 129.7831457614898|music shops - mus...|     6.31|    5556|      33050| 4502.99997931746|          1,095|       33345|    2021-11-14|137.66781360935204| -33.89344361937781|    14.0|(24,[14],[1.0])|\n",
      "|      2250|   5602| 20269486864|1069.4485471754635|motor vehicle sup...|     2.55|    2250|     469810|74098.48410335815|          2,073|     31132.7|    2021-10-13|151.21341456420623|-33.317056427869325|    15.0|(24,[15],[1.0])|\n",
      "|      5556|  15659| 60706491699| 62.97159049446395|health and beauty...|     4.24|    5556|     105738| 4502.99997931746|          1,546|     29756.7|    2021-09-06|137.66781360935204| -33.89344361937781|    16.0|(24,[16],[1.0])|\n",
      "|      2214|   5115| 98973094975|145.56857536332035|hobby, toy and ga...|     5.98|    1891|    1432444|7833.920905657307|          1,753|     31132.7|    2021-10-27|  150.981487861616|  -33.9388368430949|    17.0|(24,[17],[1.0])|\n",
      "|      3506|  10946| 54272781746| 33.07991535733474|bicycle shops - s...|     4.54|    3506|     729506|74.80310587884506|          1,320|     29261.9|    2021-08-29|141.36526207519685| -35.18818636789844|    18.0|(24,[18],[1.0])|\n",
      "|      2453|  12888| 60539272146|329.35298651068337|antique shops - s...|     0.81|    2453|     645300|3676.038666295061|          2,586|     31132.7|    2021-10-15| 152.5445987851557|-30.250197981223444|    19.0|(24,[19],[1.0])|\n",
      "+----------+-------+------------+------------------+--------------------+---------+--------+-----------+-----------------+---------------+------------+--------------+------------------+-------------------+--------+---------------+\n",
      "only showing top 20 rows\n",
      "\n"
     ]
    },
    {
     "name": "stderr",
     "output_type": "stream",
     "text": [
      "                                                                                \r"
     ]
    }
   ],
   "source": [
    "type_correspond.drop('order_id', 'merchant_name', 'type', 'gender', 'name', 'address', 'state','month','__index_level_0__', 'genderIndex', 'typeIndex').show()"
   ]
  }
 ],
 "metadata": {
  "kernelspec": {
   "display_name": "Python 3.7.9 64-bit",
   "language": "python",
   "name": "python3"
  },
  "language_info": {
   "codemirror_mode": {
    "name": "ipython",
    "version": 3
   },
   "file_extension": ".py",
   "mimetype": "text/x-python",
   "name": "python",
   "nbconvert_exporter": "python",
   "pygments_lexer": "ipython3",
   "version": "3.7.9"
  },
  "orig_nbformat": 4,
  "vscode": {
   "interpreter": {
    "hash": "aee8b7b246df8f9039afb4144a1f6fd8d2ca17a180786b69acc140d282b71a49"
   }
  }
 },
 "nbformat": 4,
 "nbformat_minor": 2
}
