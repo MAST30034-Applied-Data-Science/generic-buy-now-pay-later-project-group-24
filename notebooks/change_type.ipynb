{
 "cells": [
  {
   "cell_type": "markdown",
   "metadata": {},
   "source": [
    "Packages"
   ]
  },
  {
   "cell_type": "code",
   "execution_count": 1,
   "metadata": {},
   "outputs": [
    {
     "name": "stderr",
     "output_type": "stream",
     "text": [
      "/Library/Frameworks/Python.framework/Versions/3.7/lib/python3.7/site-packages/geopandas/_compat.py:115: UserWarning: The Shapely GEOS version (3.10.2-CAPI-1.16.0) is incompatible with the GEOS version PyGEOS was compiled with (3.10.1-CAPI-1.16.0). Conversions between both will be slow.\n",
      "  shapely_geos_version, geos_capi_version_string\n"
     ]
    }
   ],
   "source": [
    "import os\n",
    "import numpy\n",
    "import pandas as pd\n",
    "import tqdm\n",
    "import geopandas as gpd\n",
    "from pyspark.sql import SparkSession\n",
    "from pyspark.ml.feature import OneHotEncoder, StringIndexer\n",
    "from pyspark.ml import Pipeline\n",
    "import sys\n",
    "sys.path.append('../scripts/')\n",
    "from read_utils import read_file, create_folder, temp_record_query, temp_record_sdf"
   ]
  },
  {
   "cell_type": "code",
   "execution_count": 2,
   "metadata": {},
   "outputs": [],
   "source": [
    "from pyspark.sql import SparkSession"
   ]
  },
  {
   "cell_type": "code",
   "execution_count": 3,
   "metadata": {},
   "outputs": [
    {
     "name": "stdout",
     "output_type": "stream",
     "text": [
      "22/10/09 10:44:29 WARN Utils: Your hostname, SukiXuudeMacBook-Pro.local resolves to a loopback address: 127.0.0.1; using 100.70.13.201 instead (on interface en0)\n",
      "22/10/09 10:44:29 WARN Utils: Set SPARK_LOCAL_IP if you need to bind to another address\n"
     ]
    },
    {
     "name": "stderr",
     "output_type": "stream",
     "text": [
      "Setting default log level to \"WARN\".\n",
      "To adjust logging level use sc.setLogLevel(newLevel). For SparkR, use setLogLevel(newLevel).\n"
     ]
    },
    {
     "name": "stdout",
     "output_type": "stream",
     "text": [
      "22/10/09 10:44:29 WARN NativeCodeLoader: Unable to load native-hadoop library for your platform... using builtin-java classes where applicable\n",
      "22/10/09 10:44:31 WARN Utils: Service 'SparkUI' could not bind on port 4040. Attempting port 4041.\n"
     ]
    }
   ],
   "source": [
    "spark = (\n",
    "    # Create a spark session (which will run spark jobs)\n",
    "    SparkSession.builder.appName(\"Project 2\")\n",
    "    .config(\"spark.sql.repl.eagerEval.enabled\", True) \n",
    "    .config(\"spark.sql.parquet.cacheMetadata\", \"true\")\n",
    "    .config('spark.executor.memory','10g')\n",
    "    .config('spark.driver.memory','12g')\n",
    "    .config('spark.driver.maxResultsSize', '10GiB')\n",
    "    # .config(\"spark.network.timeout\", \"3600s\")\n",
    "    # .master(\"local[6]\")\n",
    "    .getOrCreate()\n",
    "    )"
   ]
  },
  {
   "cell_type": "code",
   "execution_count": 4,
   "metadata": {},
   "outputs": [
    {
     "name": "stdout",
     "output_type": "stream",
     "text": [
      "|> Loading File...\n"
     ]
    },
    {
     "name": "stderr",
     "output_type": "stream",
     "text": [
      "                                                                                \r"
     ]
    },
    {
     "name": "stdout",
     "output_type": "stream",
     "text": [
      "|> Loading Finished!\n"
     ]
    },
    {
     "name": "stderr",
     "output_type": "stream",
     "text": [
      "                                                                                \r"
     ]
    },
    {
     "name": "stdout",
     "output_type": "stream",
     "text": [
      "-RECORD 0-------------------------------------------------------------------------------------------\n",
      " user_id         | 10285                                                                            \n",
      " merchant_abn    | 10023283211                                                                      \n",
      " dollar_value    | 311.8728694054186                                                                \n",
      " order_id        | e41d1fb7-d7b9-4758-9c20-1d34337a312d                                             \n",
      " merchant_name   | Felis Limited                                                                    \n",
      " tags            | furniture, home furnishings and equipment shops, and manufacturers, except ap... \n",
      " take_rate       | 0.18                                                                             \n",
      " type            | e                                                                                \n",
      " postcode        | 6479                                                                             \n",
      " consumer_id     | 191378                                                                           \n",
      " name            | Monica Johnson                                                                   \n",
      " address         | 39257 Lisa Coves                                                                 \n",
      " state           | WA                                                                               \n",
      " gender          | Female                                                                           \n",
      " POA_CODE21      | 6479                                                                             \n",
      " 2021_popu       | 243.95979717723918                                                               \n",
      " latitude        | 118.3969352824164                                                                \n",
      " longitude       | -30.651793761742862                                                              \n",
      " New cases / day | 5.0                                                                              \n",
      " month           | 2021-02-01                                                                       \n",
      " total           | 30332.5                                                                          \n",
      " order_datetime  | 2021-02-28                                                                       \n",
      "only showing top 1 row\n",
      "\n"
     ]
    }
   ],
   "source": [
    "sdf = read_file(spark, 'filled.parquet', '../data/curated/')"
   ]
  },
  {
   "cell_type": "code",
   "execution_count": 6,
   "metadata": {},
   "outputs": [
    {
     "name": "stdout",
     "output_type": "stream",
     "text": [
      "+-------+------------+------------------+--------------------+-------------+--------------------+---------+----+--------+-----------+--------------+--------------------+-----+------+----------+------------------+------------------+-------------------+---------------+----------+-------+--------------+\n",
      "|user_id|merchant_abn|      dollar_value|            order_id|merchant_name|                tags|take_rate|type|postcode|consumer_id|          name|             address|state|gender|POA_CODE21|         2021_popu|          latitude|          longitude|New cases / day|     month|  total|order_datetime|\n",
      "+-------+------------+------------------+--------------------+-------------+--------------------+---------+----+--------+-----------+--------------+--------------------+-----+------+----------+------------------+------------------+-------------------+---------------+----------+-------+--------------+\n",
      "|  10285| 10023283211| 311.8728694054186|e41d1fb7-d7b9-475...|Felis Limited|furniture, home f...|     0.18|   e|    6479|     191378|Monica Johnson|    39257 Lisa Coves|   WA|Female|      6479|243.95979717723918| 118.3969352824164|-30.651793761742862|            5.0|2021-02-01|30332.5|    2021-02-28|\n",
      "|    714| 10023283211| 279.6185131488391|2bfa1772-2c93-4aa...|Felis Limited|furniture, home f...|     0.18|   e|    3555|     642522|   Lori Campos|7727 Michelle Por...|  VIC|Female|      3555| 21059.99985801107|144.24265138030677| -36.80638309921391|            5.0|2021-02-01|30332.5|    2021-02-28|\n",
      "|   5568| 10023283211|110.07525568456784|078410a3-9595-44b...|Felis Limited|furniture, home f...|     0.18|   e|    2154|     501304| Linda Holland|879 Benjamin Shor...|  NSW|Female|      2154|41084.207789556036|150.99988049641684| -33.72788658458713|            5.0|2021-02-01|30332.5|    2021-02-28|\n",
      "|  10144| 10023283211|195.74454412745357|6a9f5c53-b014-4d9...|Felis Limited|furniture, home f...|     0.18|   e|    5577|     474931|   Emily Moore|91837 Scott Roads...|   SA|Female|      5577|1774.5426100766806|137.24530255811854| -35.06560326025871|            8.0|2021-03-01|30725.9|    2021-03-01|\n",
      "|  23597| 10023283211|189.25152107635006|1f73f73e-09c3-484...|Felis Limited|furniture, home f...|     0.18|   e|    3660|    1314310|      Juan Kim|72704 Tamara Caus...|  VIC|  Male|      3660| 8067.650237810033|145.26486770504582| -37.05639719101036|            8.0|2021-03-01|30725.9|    2021-03-01|\n",
      "+-------+------------+------------------+--------------------+-------------+--------------------+---------+----+--------+-----------+--------------+--------------------+-----+------+----------+------------------+------------------+-------------------+---------------+----------+-------+--------------+\n",
      "only showing top 5 rows\n",
      "\n"
     ]
    }
   ],
   "source": [
    "sdf.show(5)"
   ]
  },
  {
   "cell_type": "code",
   "execution_count": 7,
   "metadata": {},
   "outputs": [],
   "source": [
    "sdf = sdf.drop('merchant_name')"
   ]
  },
  {
   "cell_type": "code",
   "execution_count": 8,
   "metadata": {},
   "outputs": [],
   "source": [
    "# type\n",
    "type_indexer = StringIndexer(inputCol = \"type\", outputCol = \"typeIndex\", handleInvalid=\"skip\")\n",
    "\n",
    "# gender\n",
    "gender_indexer = StringIndexer(inputCol = \"gender\", outputCol = \"genderIndex\", handleInvalid=\"skip\")\n",
    "\n",
    "# tag\n",
    "tag_indexer = StringIndexer(inputCol = \"tags\",outputCol = \"tagIndex\", handleInvalid=\"skip\")\n",
    "onehotencoder_tag_vector = OneHotEncoder(inputCol = \"tagIndex\", outputCol = \"tag_vec\")\n",
    "\n",
    "#Create pipeline and pass all stages\n",
    "pipeline = Pipeline(stages=[gender_indexer, \n",
    "                            type_indexer,\n",
    "                            tag_indexer,\n",
    "                            onehotencoder_tag_vector])"
   ]
  },
  {
   "cell_type": "code",
   "execution_count": 9,
   "metadata": {},
   "outputs": [
    {
     "name": "stdout",
     "output_type": "stream",
     "text": [
      "+-------+------------+------------------+--------------------+--------------------+---------+----+--------+-----------+--------------+--------------------+-----+------+----------+------------------+------------------+-------------------+---------------+----------+-------+--------------+\n",
      "|user_id|merchant_abn|      dollar_value|            order_id|                tags|take_rate|type|postcode|consumer_id|          name|             address|state|gender|POA_CODE21|         2021_popu|          latitude|          longitude|New cases / day|     month|  total|order_datetime|\n",
      "+-------+------------+------------------+--------------------+--------------------+---------+----+--------+-----------+--------------+--------------------+-----+------+----------+------------------+------------------+-------------------+---------------+----------+-------+--------------+\n",
      "|  10285| 10023283211| 311.8728694054186|e41d1fb7-d7b9-475...|furniture, home f...|     0.18|   e|    6479|     191378|Monica Johnson|    39257 Lisa Coves|   WA|Female|      6479|243.95979717723918| 118.3969352824164|-30.651793761742862|            5.0|2021-02-01|30332.5|    2021-02-28|\n",
      "|    714| 10023283211| 279.6185131488391|2bfa1772-2c93-4aa...|furniture, home f...|     0.18|   e|    3555|     642522|   Lori Campos|7727 Michelle Por...|  VIC|Female|      3555| 21059.99985801107|144.24265138030677| -36.80638309921391|            5.0|2021-02-01|30332.5|    2021-02-28|\n",
      "|   5568| 10023283211|110.07525568456784|078410a3-9595-44b...|furniture, home f...|     0.18|   e|    2154|     501304| Linda Holland|879 Benjamin Shor...|  NSW|Female|      2154|41084.207789556036|150.99988049641684| -33.72788658458713|            5.0|2021-02-01|30332.5|    2021-02-28|\n",
      "|  10144| 10023283211|195.74454412745357|6a9f5c53-b014-4d9...|furniture, home f...|     0.18|   e|    5577|     474931|   Emily Moore|91837 Scott Roads...|   SA|Female|      5577|1774.5426100766806|137.24530255811854| -35.06560326025871|            8.0|2021-03-01|30725.9|    2021-03-01|\n",
      "|  23597| 10023283211|189.25152107635006|1f73f73e-09c3-484...|furniture, home f...|     0.18|   e|    3660|    1314310|      Juan Kim|72704 Tamara Caus...|  VIC|  Male|      3660| 8067.650237810033|145.26486770504582| -37.05639719101036|            8.0|2021-03-01|30725.9|    2021-03-01|\n",
      "+-------+------------+------------------+--------------------+--------------------+---------+----+--------+-----------+--------------+--------------------+-----+------+----------+------------------+------------------+-------------------+---------------+----------+-------+--------------+\n",
      "only showing top 5 rows\n",
      "\n"
     ]
    }
   ],
   "source": [
    "sdf.show(5)"
   ]
  },
  {
   "cell_type": "code",
   "execution_count": 10,
   "metadata": {},
   "outputs": [
    {
     "name": "stderr",
     "output_type": "stream",
     "text": [
      "[Stage 19:===========================================>              (3 + 1) / 4]\r"
     ]
    },
    {
     "name": "stdout",
     "output_type": "stream",
     "text": [
      "+-------+------------+------------------+--------------------+--------------------+---------+----+--------+-----------+--------------+--------------------+-----+------+----------+------------------+------------------+-------------------+---------------+----------+-------+--------------+-----------+---------+--------+--------------+\n",
      "|user_id|merchant_abn|      dollar_value|            order_id|                tags|take_rate|type|postcode|consumer_id|          name|             address|state|gender|POA_CODE21|         2021_popu|          latitude|          longitude|New cases / day|     month|  total|order_datetime|genderIndex|typeIndex|tagIndex|       tag_vec|\n",
      "+-------+------------+------------------+--------------------+--------------------+---------+----+--------+-----------+--------------+--------------------+-----+------+----------+------------------+------------------+-------------------+---------------+----------+-------+--------------+-----------+---------+--------+--------------+\n",
      "|  10285| 10023283211| 311.8728694054186|e41d1fb7-d7b9-475...|furniture, home f...|     0.18|   e|    6479|     191378|Monica Johnson|    39257 Lisa Coves|   WA|Female|      6479|243.95979717723918| 118.3969352824164|-30.651793761742862|            5.0|2021-02-01|30332.5|    2021-02-28|        1.0|      4.0|     9.0|(24,[9],[1.0])|\n",
      "|    714| 10023283211| 279.6185131488391|2bfa1772-2c93-4aa...|furniture, home f...|     0.18|   e|    3555|     642522|   Lori Campos|7727 Michelle Por...|  VIC|Female|      3555| 21059.99985801107|144.24265138030677| -36.80638309921391|            5.0|2021-02-01|30332.5|    2021-02-28|        1.0|      4.0|     9.0|(24,[9],[1.0])|\n",
      "|   5568| 10023283211|110.07525568456784|078410a3-9595-44b...|furniture, home f...|     0.18|   e|    2154|     501304| Linda Holland|879 Benjamin Shor...|  NSW|Female|      2154|41084.207789556036|150.99988049641684| -33.72788658458713|            5.0|2021-02-01|30332.5|    2021-02-28|        1.0|      4.0|     9.0|(24,[9],[1.0])|\n",
      "|  10144| 10023283211|195.74454412745357|6a9f5c53-b014-4d9...|furniture, home f...|     0.18|   e|    5577|     474931|   Emily Moore|91837 Scott Roads...|   SA|Female|      5577|1774.5426100766806|137.24530255811854| -35.06560326025871|            8.0|2021-03-01|30725.9|    2021-03-01|        1.0|      4.0|     9.0|(24,[9],[1.0])|\n",
      "|  23597| 10023283211|189.25152107635006|1f73f73e-09c3-484...|furniture, home f...|     0.18|   e|    3660|    1314310|      Juan Kim|72704 Tamara Caus...|  VIC|  Male|      3660| 8067.650237810033|145.26486770504582| -37.05639719101036|            8.0|2021-03-01|30725.9|    2021-03-01|        0.0|      4.0|     9.0|(24,[9],[1.0])|\n",
      "+-------+------------+------------------+--------------------+--------------------+---------+----+--------+-----------+--------------+--------------------+-----+------+----------+------------------+------------------+-------------------+---------------+----------+-------+--------------+-----------+---------+--------+--------------+\n",
      "only showing top 5 rows\n",
      "\n"
     ]
    },
    {
     "name": "stderr",
     "output_type": "stream",
     "text": [
      "                                                                                \r"
     ]
    }
   ],
   "source": [
    "sdf_transformed = pipeline.fit(sdf).transform(sdf)\n",
    "sdf_transformed.show(5)"
   ]
  },
  {
   "cell_type": "code",
   "execution_count": 11,
   "metadata": {},
   "outputs": [],
   "source": [
    "sdf_transformed = (sdf_transformed\n",
    "                   .withColumnRenamed(\"2021_popu\", 'population')\n",
    "                   .withColumnRenamed('total','total_retail')\n",
    "                   )"
   ]
  },
  {
   "cell_type": "code",
   "execution_count": 12,
   "metadata": {},
   "outputs": [
    {
     "name": "stdout",
     "output_type": "stream",
     "text": [
      "+-------+------------+------------------+--------------------+--------------------+---------+----+--------+-----------+---------------+--------------------+-----+-----------+----------+------------------+------------------+-------------------+---------------+----------+------------+--------------+-----------+---------+--------+--------------+\n",
      "|user_id|merchant_abn|      dollar_value|            order_id|                tags|take_rate|type|postcode|consumer_id|           name|             address|state|     gender|POA_CODE21|        population|          latitude|          longitude|New cases / day|     month|total_retail|order_datetime|genderIndex|typeIndex|tagIndex|       tag_vec|\n",
      "+-------+------------+------------------+--------------------+--------------------+---------+----+--------+-----------+---------------+--------------------+-----+-----------+----------+------------------+------------------+-------------------+---------------+----------+------------+--------------+-----------+---------+--------+--------------+\n",
      "|  10285| 10023283211| 311.8728694054186|e41d1fb7-d7b9-475...|furniture, home f...|     0.18|   e|    6479|     191378| Monica Johnson|    39257 Lisa Coves|   WA|     Female|      6479|243.95979717723918| 118.3969352824164|-30.651793761742862|            5.0|2021-02-01|     30332.5|    2021-02-28|        1.0|      4.0|     9.0|(24,[9],[1.0])|\n",
      "|    714| 10023283211| 279.6185131488391|2bfa1772-2c93-4aa...|furniture, home f...|     0.18|   e|    3555|     642522|    Lori Campos|7727 Michelle Por...|  VIC|     Female|      3555| 21059.99985801107|144.24265138030677| -36.80638309921391|            5.0|2021-02-01|     30332.5|    2021-02-28|        1.0|      4.0|     9.0|(24,[9],[1.0])|\n",
      "|   5568| 10023283211|110.07525568456784|078410a3-9595-44b...|furniture, home f...|     0.18|   e|    2154|     501304|  Linda Holland|879 Benjamin Shor...|  NSW|     Female|      2154|41084.207789556036|150.99988049641684| -33.72788658458713|            5.0|2021-02-01|     30332.5|    2021-02-28|        1.0|      4.0|     9.0|(24,[9],[1.0])|\n",
      "|  10144| 10023283211|195.74454412745357|6a9f5c53-b014-4d9...|furniture, home f...|     0.18|   e|    5577|     474931|    Emily Moore|91837 Scott Roads...|   SA|     Female|      5577|1774.5426100766806|137.24530255811854| -35.06560326025871|            8.0|2021-03-01|     30725.9|    2021-03-01|        1.0|      4.0|     9.0|(24,[9],[1.0])|\n",
      "|  23597| 10023283211|189.25152107635006|1f73f73e-09c3-484...|furniture, home f...|     0.18|   e|    3660|    1314310|       Juan Kim|72704 Tamara Caus...|  VIC|       Male|      3660| 8067.650237810033|145.26486770504582| -37.05639719101036|            8.0|2021-03-01|     30725.9|    2021-03-01|        0.0|      4.0|     9.0|(24,[9],[1.0])|\n",
      "|  22956| 10023283211|230.81574259403658|56a69639-1fe1-467...|furniture, home f...|     0.18|   e|    2839|    1200587| Mariah Collins|2399 Frederick Wa...|  NSW|Undisclosed|      2839| 781.0088596300106| 146.8944444490768|-29.808717076051696|            8.0|2021-03-01|     30725.9|    2021-03-02|        2.0|      4.0|     9.0|(24,[9],[1.0])|\n",
      "|  10581| 10023283211| 211.8864214875864|984bc3e9-1303-41c...|furniture, home f...|     0.18|   e|    3056|    1191666|James Brock Jr.|  26964 Charles View|  VIC|       Male|      3056|25504.650505816073| 144.9612475427364| -37.76634740425029|            8.0|2021-03-01|     30725.9|    2021-03-02|        0.0|      4.0|     9.0|(24,[9],[1.0])|\n",
      "|  14842| 10023283211|167.77961318216884|8a60b07b-cd69-4eb...|furniture, home f...|     0.18|   e|    3871|    1408962|   Kristen Ford|37277 Emily Motorway|  VIC|     Female|      3871| 4082.561135790103| 146.1785733507772| -38.40786414667169|            8.0|2021-03-01|     30725.9|    2021-03-02|        1.0|      4.0|     9.0|(24,[9],[1.0])|\n",
      "|  23856| 10023283211|258.59035309253215|77168f59-04e4-418...|furniture, home f...|     0.18|   e|    3314|      85573|   David Hughes|     671 Mann Street|  VIC|       Male|      3314|1332.8632667717477| 142.1557245821735| -37.38843189849686|            8.0|2021-03-01|     30725.9|    2021-03-02|        0.0|      4.0|     9.0|(24,[9],[1.0])|\n",
      "|  16480| 10023283211|176.83833738806447|52c0ae0c-8503-4fb...|furniture, home f...|     0.18|   e|    4311|     877616|   Sarah Barnes|    8370 Emily Parks|  QLD|     Female|      4311|11135.174471501185|152.45771287368086|  -27.3810504997184|           10.0|2021-03-01|     30725.9|    2021-03-03|        1.0|      4.0|     9.0|(24,[9],[1.0])|\n",
      "|  13780| 10023283211| 175.9890781564819|7066ed23-f18b-456...|furniture, home f...|     0.18|   e|    5942|     804024|   Sandra Lucas|    1611 Holt Street|   SA|     Female|      5013|16794.953167965912| 138.5433510671685| -34.84222441192905|           10.0|2021-03-01|     30725.9|    2021-03-03|        1.0|      4.0|     9.0|(24,[9],[1.0])|\n",
      "|   7828| 10023283211|190.03218887711404|f2adc9eb-d20b-4a9...|furniture, home f...|     0.18|   e|    1116|      73694|Nicholas Cooper|7227 Jocelyn Heights|  NSW|       Male|      2000|29155.593195479523| 151.2082196508253|  -33.8683837718929|           13.0|2021-03-01|     30725.9|    2021-03-05|        0.0|      4.0|     9.0|(24,[9],[1.0])|\n",
      "|   7828| 10023283211|190.03218887711404|f2adc9eb-d20b-4a9...|furniture, home f...|     0.18|   e|    1116|      73694|Nicholas Cooper|7227 Jocelyn Heights|  NSW|       Male|      2000|29155.593195479523| 151.2082196508253|  -33.8683837718929|           13.0|2021-03-01|     30725.9|    2021-03-05|        0.0|      4.0|     9.0|(24,[9],[1.0])|\n",
      "|  21926| 10023283211|287.97722710526716|74b71fa5-6ec4-4c8...|furniture, home f...|     0.18|   e|    6751|    1498856|  Matthew Dixon| 80221 Alvarez Plain|   WA|       Male|      6751| 4578.067880247226|117.26678429492786|-22.756310305611084|           13.0|2021-03-01|     30725.9|    2021-03-05|        0.0|      4.0|     9.0|(24,[9],[1.0])|\n",
      "|  21926| 10023283211|287.97722710526716|74b71fa5-6ec4-4c8...|furniture, home f...|     0.18|   e|    6751|    1498856|  Matthew Dixon| 80221 Alvarez Plain|   WA|       Male|      6751| 4578.067880247226|117.26678429492786|-22.756310305611084|           13.0|2021-03-01|     30725.9|    2021-03-05|        0.0|      4.0|     9.0|(24,[9],[1.0])|\n",
      "|  18886| 10023283211| 124.4583946061434|7abd0bdc-bcfe-4d9...|furniture, home f...|     0.18|   e|    6705|    1414540| Victoria Walsh|23373 Delgado Wal...|   WA|     Female|      6705| 2071.399941758386|116.35512128200551| -24.72657583857869|           13.0|2021-03-01|     30725.9|    2021-03-05|        1.0|      4.0|     9.0|(24,[9],[1.0])|\n",
      "|  18886| 10023283211| 124.4583946061434|7abd0bdc-bcfe-4d9...|furniture, home f...|     0.18|   e|    6705|    1414540| Victoria Walsh|23373 Delgado Wal...|   WA|     Female|      6705| 2071.399941758386|116.35512128200551| -24.72657583857869|           13.0|2021-03-01|     30725.9|    2021-03-05|        1.0|      4.0|     9.0|(24,[9],[1.0])|\n",
      "|    141| 10023283211|233.13110796630062|505fe3e9-b346-4ec...|furniture, home f...|     0.18|   e|    6435|     751248|  James Donovan|455 Trevino Ports...|   WA|Undisclosed|         0|               0.0|142.10512461626408| -32.99312950584857|           13.0|2021-03-01|     30725.9|    2021-03-05|        2.0|      4.0|     9.0|(24,[9],[1.0])|\n",
      "|    141| 10023283211|233.13110796630062|505fe3e9-b346-4ec...|furniture, home f...|     0.18|   e|    6435|     751248|  James Donovan|455 Trevino Ports...|   WA|Undisclosed|         0|               0.0|142.10512461626408| -32.99312950584857|           13.0|2021-03-01|     30725.9|    2021-03-05|        2.0|      4.0|     9.0|(24,[9],[1.0])|\n",
      "|   2502| 10023283211|246.79695046725882|1eec1c50-a897-49b...|furniture, home f...|     0.18|   e|    7262|     287570|  Lauren Glover| 867 Escobar Estates|  TAS|     Female|      7262| 1564.075209633084|147.53805394264813| -40.97557973683373|           13.0|2021-03-01|     30725.9|    2021-03-05|        1.0|      4.0|     9.0|(24,[9],[1.0])|\n",
      "+-------+------------+------------------+--------------------+--------------------+---------+----+--------+-----------+---------------+--------------------+-----+-----------+----------+------------------+------------------+-------------------+---------------+----------+------------+--------------+-----------+---------+--------+--------------+\n",
      "only showing top 20 rows\n",
      "\n"
     ]
    }
   ],
   "source": [
    "sdf_transformed.show()"
   ]
  },
  {
   "cell_type": "code",
   "execution_count": 13,
   "metadata": {},
   "outputs": [
    {
     "name": "stdout",
     "output_type": "stream",
     "text": [
      "|> Create Successfully!\n"
     ]
    },
    {
     "name": "stderr",
     "output_type": "stream",
     "text": [
      "                                                                                \r"
     ]
    }
   ],
   "source": [
    "path = '../data/curated/changed_data'\n",
    "sdf_transformed.write.partitionBy('order_datetime').parquet(path, mode='overwrite')"
   ]
  },
  {
   "cell_type": "markdown",
   "metadata": {},
   "source": [
    "- figure out that tag_vec"
   ]
  },
  {
   "cell_type": "code",
   "execution_count": 14,
   "metadata": {},
   "outputs": [],
   "source": [
    "SAMPLE_SIZE = 0.005\n",
    "sdf_transformed = sdf_transformed.sample(SAMPLE_SIZE, seed=0)"
   ]
  },
  {
   "cell_type": "code",
   "execution_count": 16,
   "metadata": {},
   "outputs": [
    {
     "name": "stderr",
     "output_type": "stream",
     "text": [
      "Exception in thread \"serve-DataFrame\" java.net.SocketTimeoutException: Accept timed out\n",
      "\tat java.base/java.net.PlainSocketImpl.socketAccept(Native Method)\n",
      "\tat java.base/java.net.AbstractPlainSocketImpl.accept(AbstractPlainSocketImpl.java:474)\n",
      "\tat java.base/java.net.ServerSocket.implAccept(ServerSocket.java:576)\n",
      "\tat java.base/java.net.ServerSocket.accept(ServerSocket.java:539)\n",
      "\tat org.apache.spark.security.SocketAuthServer$$anon$1.run(SocketAuthServer.scala:64)\n",
      "                                                                                \r"
     ]
    },
    {
     "data": {
      "text/html": [
       "<div>\n",
       "<style scoped>\n",
       "    .dataframe tbody tr th:only-of-type {\n",
       "        vertical-align: middle;\n",
       "    }\n",
       "\n",
       "    .dataframe tbody tr th {\n",
       "        vertical-align: top;\n",
       "    }\n",
       "\n",
       "    .dataframe thead th {\n",
       "        text-align: right;\n",
       "    }\n",
       "</style>\n",
       "<table border=\"1\" class=\"dataframe\">\n",
       "  <thead>\n",
       "    <tr style=\"text-align: right;\">\n",
       "      <th></th>\n",
       "      <th>user_id</th>\n",
       "      <th>merchant_abn</th>\n",
       "      <th>dollar_value</th>\n",
       "      <th>order_id</th>\n",
       "      <th>tags</th>\n",
       "      <th>take_rate</th>\n",
       "      <th>type</th>\n",
       "      <th>postcode</th>\n",
       "      <th>consumer_id</th>\n",
       "      <th>name</th>\n",
       "      <th>...</th>\n",
       "      <th>latitude</th>\n",
       "      <th>longitude</th>\n",
       "      <th>New cases / day</th>\n",
       "      <th>month</th>\n",
       "      <th>total_retail</th>\n",
       "      <th>order_datetime</th>\n",
       "      <th>genderIndex</th>\n",
       "      <th>typeIndex</th>\n",
       "      <th>tagIndex</th>\n",
       "      <th>tag_vec</th>\n",
       "    </tr>\n",
       "  </thead>\n",
       "  <tbody>\n",
       "    <tr>\n",
       "      <th>0</th>\n",
       "      <td>11244</td>\n",
       "      <td>10023283211</td>\n",
       "      <td>167.336882</td>\n",
       "      <td>3742e7b2-1fba-4874-b2af-1d64d0721395</td>\n",
       "      <td>furniture, home furnishings and equipment shop...</td>\n",
       "      <td>0.18</td>\n",
       "      <td>e</td>\n",
       "      <td>3415</td>\n",
       "      <td>1436472</td>\n",
       "      <td>Katherine Morales</td>\n",
       "      <td>...</td>\n",
       "      <td>141.379244</td>\n",
       "      <td>-36.374078</td>\n",
       "      <td>7.0</td>\n",
       "      <td>2021-03-01</td>\n",
       "      <td>30725.9</td>\n",
       "      <td>2021-03-07</td>\n",
       "      <td>2.0</td>\n",
       "      <td>4.0</td>\n",
       "      <td>9.0</td>\n",
       "      <td>(0.0, 0.0, 0.0, 0.0, 0.0, 0.0, 0.0, 0.0, 0.0, ...</td>\n",
       "    </tr>\n",
       "    <tr>\n",
       "      <th>1</th>\n",
       "      <td>23249</td>\n",
       "      <td>10023283211</td>\n",
       "      <td>265.098473</td>\n",
       "      <td>32eabfa1-98c6-4dad-aef6-d509b7210015</td>\n",
       "      <td>furniture, home furnishings and equipment shop...</td>\n",
       "      <td>0.18</td>\n",
       "      <td>e</td>\n",
       "      <td>4415</td>\n",
       "      <td>5807</td>\n",
       "      <td>Amber Williams</td>\n",
       "      <td>...</td>\n",
       "      <td>150.229142</td>\n",
       "      <td>-26.509155</td>\n",
       "      <td>14.0</td>\n",
       "      <td>2021-04-01</td>\n",
       "      <td>30960.0</td>\n",
       "      <td>2021-04-07</td>\n",
       "      <td>1.0</td>\n",
       "      <td>4.0</td>\n",
       "      <td>9.0</td>\n",
       "      <td>(0.0, 0.0, 0.0, 0.0, 0.0, 0.0, 0.0, 0.0, 0.0, ...</td>\n",
       "    </tr>\n",
       "    <tr>\n",
       "      <th>2</th>\n",
       "      <td>8752</td>\n",
       "      <td>10023283211</td>\n",
       "      <td>43.868484</td>\n",
       "      <td>73091389-498a-4e3d-8d65-68979d7fac8f</td>\n",
       "      <td>furniture, home furnishings and equipment shop...</td>\n",
       "      <td>0.18</td>\n",
       "      <td>e</td>\n",
       "      <td>2315</td>\n",
       "      <td>719183</td>\n",
       "      <td>Anne Cook</td>\n",
       "      <td>...</td>\n",
       "      <td>152.148262</td>\n",
       "      <td>-32.737555</td>\n",
       "      <td>12.0</td>\n",
       "      <td>2021-06-01</td>\n",
       "      <td>30563.8</td>\n",
       "      <td>2021-06-01</td>\n",
       "      <td>1.0</td>\n",
       "      <td>4.0</td>\n",
       "      <td>9.0</td>\n",
       "      <td>(0.0, 0.0, 0.0, 0.0, 0.0, 0.0, 0.0, 0.0, 0.0, ...</td>\n",
       "    </tr>\n",
       "    <tr>\n",
       "      <th>3</th>\n",
       "      <td>23358</td>\n",
       "      <td>10023283211</td>\n",
       "      <td>130.199813</td>\n",
       "      <td>dcf53120-195f-42a0-9cc3-daeb702cc72f</td>\n",
       "      <td>furniture, home furnishings and equipment shop...</td>\n",
       "      <td>0.18</td>\n",
       "      <td>e</td>\n",
       "      <td>2011</td>\n",
       "      <td>1145473</td>\n",
       "      <td>Sierra Parker</td>\n",
       "      <td>...</td>\n",
       "      <td>151.224515</td>\n",
       "      <td>-33.869950</td>\n",
       "      <td>173.0</td>\n",
       "      <td>2021-07-01</td>\n",
       "      <td>29761.4</td>\n",
       "      <td>2021-07-24</td>\n",
       "      <td>1.0</td>\n",
       "      <td>4.0</td>\n",
       "      <td>9.0</td>\n",
       "      <td>(0.0, 0.0, 0.0, 0.0, 0.0, 0.0, 0.0, 0.0, 0.0, ...</td>\n",
       "    </tr>\n",
       "    <tr>\n",
       "      <th>4</th>\n",
       "      <td>22440</td>\n",
       "      <td>10023283211</td>\n",
       "      <td>560.821514</td>\n",
       "      <td>08bc059b-a07b-49dd-9bc2-bbbdda31502c</td>\n",
       "      <td>furniture, home furnishings and equipment shop...</td>\n",
       "      <td>0.18</td>\n",
       "      <td>e</td>\n",
       "      <td>5096</td>\n",
       "      <td>1251295</td>\n",
       "      <td>Jesus Ward</td>\n",
       "      <td>...</td>\n",
       "      <td>138.657568</td>\n",
       "      <td>-34.803244</td>\n",
       "      <td>222.0</td>\n",
       "      <td>2021-07-01</td>\n",
       "      <td>29761.4</td>\n",
       "      <td>2021-07-31</td>\n",
       "      <td>0.0</td>\n",
       "      <td>4.0</td>\n",
       "      <td>9.0</td>\n",
       "      <td>(0.0, 0.0, 0.0, 0.0, 0.0, 0.0, 0.0, 0.0, 0.0, ...</td>\n",
       "    </tr>\n",
       "  </tbody>\n",
       "</table>\n",
       "<p>5 rows × 25 columns</p>\n",
       "</div>"
      ],
      "text/plain": [
       "   user_id  merchant_abn  dollar_value                              order_id  \\\n",
       "0    11244   10023283211    167.336882  3742e7b2-1fba-4874-b2af-1d64d0721395   \n",
       "1    23249   10023283211    265.098473  32eabfa1-98c6-4dad-aef6-d509b7210015   \n",
       "2     8752   10023283211     43.868484  73091389-498a-4e3d-8d65-68979d7fac8f   \n",
       "3    23358   10023283211    130.199813  dcf53120-195f-42a0-9cc3-daeb702cc72f   \n",
       "4    22440   10023283211    560.821514  08bc059b-a07b-49dd-9bc2-bbbdda31502c   \n",
       "\n",
       "                                                tags  take_rate type  \\\n",
       "0  furniture, home furnishings and equipment shop...       0.18    e   \n",
       "1  furniture, home furnishings and equipment shop...       0.18    e   \n",
       "2  furniture, home furnishings and equipment shop...       0.18    e   \n",
       "3  furniture, home furnishings and equipment shop...       0.18    e   \n",
       "4  furniture, home furnishings and equipment shop...       0.18    e   \n",
       "\n",
       "   postcode consumer_id               name  ...    latitude  longitude  \\\n",
       "0      3415     1436472  Katherine Morales  ...  141.379244 -36.374078   \n",
       "1      4415        5807     Amber Williams  ...  150.229142 -26.509155   \n",
       "2      2315      719183          Anne Cook  ...  152.148262 -32.737555   \n",
       "3      2011     1145473      Sierra Parker  ...  151.224515 -33.869950   \n",
       "4      5096     1251295         Jesus Ward  ...  138.657568 -34.803244   \n",
       "\n",
       "  New cases / day       month  total_retail  order_datetime  genderIndex  \\\n",
       "0             7.0  2021-03-01       30725.9      2021-03-07          2.0   \n",
       "1            14.0  2021-04-01       30960.0      2021-04-07          1.0   \n",
       "2            12.0  2021-06-01       30563.8      2021-06-01          1.0   \n",
       "3           173.0  2021-07-01       29761.4      2021-07-24          1.0   \n",
       "4           222.0  2021-07-01       29761.4      2021-07-31          0.0   \n",
       "\n",
       "   typeIndex tagIndex                                            tag_vec  \n",
       "0        4.0      9.0  (0.0, 0.0, 0.0, 0.0, 0.0, 0.0, 0.0, 0.0, 0.0, ...  \n",
       "1        4.0      9.0  (0.0, 0.0, 0.0, 0.0, 0.0, 0.0, 0.0, 0.0, 0.0, ...  \n",
       "2        4.0      9.0  (0.0, 0.0, 0.0, 0.0, 0.0, 0.0, 0.0, 0.0, 0.0, ...  \n",
       "3        4.0      9.0  (0.0, 0.0, 0.0, 0.0, 0.0, 0.0, 0.0, 0.0, 0.0, ...  \n",
       "4        4.0      9.0  (0.0, 0.0, 0.0, 0.0, 0.0, 0.0, 0.0, 0.0, 0.0, ...  \n",
       "\n",
       "[5 rows x 25 columns]"
      ]
     },
     "execution_count": 16,
     "metadata": {},
     "output_type": "execute_result"
    }
   ],
   "source": [
    "df_transformed = sdf_transformed.toPandas()\n",
    "df_transformed.head()"
   ]
  },
  {
   "cell_type": "markdown",
   "metadata": {},
   "source": [
    "- Figure out corresponding index"
   ]
  },
  {
   "cell_type": "markdown",
   "metadata": {},
   "source": [
    "gender"
   ]
  },
  {
   "cell_type": "code",
   "execution_count": 17,
   "metadata": {},
   "outputs": [],
   "source": [
    "gender_correspond = sdf_transformed.drop_duplicates(subset=[c for c in sdf_transformed.columns if c in ['gender','genderIndex']])"
   ]
  },
  {
   "cell_type": "code",
   "execution_count": 18,
   "metadata": {},
   "outputs": [
    {
     "name": "stdout",
     "output_type": "stream",
     "text": [
      "22/10/09 10:52:38 WARN package: Truncated the string representation of a plan since it was too large. This behavior can be adjusted by setting 'spark.sql.debug.maxToStringFields'.\n"
     ]
    },
    {
     "name": "stderr",
     "output_type": "stream",
     "text": [
      "[Stage 25:==================================================>       (7 + 1) / 8]\r"
     ]
    },
    {
     "name": "stdout",
     "output_type": "stream",
     "text": [
      "+-------+------------+-----------------+---------+--------+-----------+-----------+----------+------------------+-------------------+---------------+------------+--------------+-----------+\n",
      "|user_id|merchant_abn|     dollar_value|take_rate|postcode|consumer_id|     gender|POA_CODE21|          latitude|          longitude|New cases / day|total_retail|order_datetime|genderIndex|\n",
      "+-------+------------+-----------------+---------+--------+-----------+-----------+----------+------------------+-------------------+---------------+------------+--------------+-----------+\n",
      "|  23249| 10023283211|265.0984728970495|     0.18|    4415|       5807|     Female|      4415|150.22914199078718|-26.509154619864724|           14.0|     30960.0|    2021-04-07|        1.0|\n",
      "|  22440| 10023283211|560.8215137561789|     0.18|    5096|    1251295|       Male|      5096|138.65756827352445| -34.80324353225051|          222.0|     29761.4|    2021-07-31|        0.0|\n",
      "|  11244| 10023283211|167.3368824231161|     0.18|    3415|    1436472|Undisclosed|      3415|141.37924354861428| -36.37407783408653|            7.0|     30725.9|    2021-03-07|        2.0|\n",
      "+-------+------------+-----------------+---------+--------+-----------+-----------+----------+------------------+-------------------+---------------+------------+--------------+-----------+\n",
      "\n"
     ]
    },
    {
     "name": "stderr",
     "output_type": "stream",
     "text": [
      "                                                                                \r"
     ]
    }
   ],
   "source": [
    "gender_correspond.drop('order_id', 'merchant_name', 'tags', 'type', 'name', 'address', 'state', 'population','month', 'typeIndex', 'tagIndex','tag_vec').show()"
   ]
  },
  {
   "cell_type": "markdown",
   "metadata": {},
   "source": [
    "type"
   ]
  },
  {
   "cell_type": "code",
   "execution_count": 19,
   "metadata": {},
   "outputs": [],
   "source": [
    "type_correspond = sdf_transformed.drop_duplicates(subset=[c for c in sdf_transformed.columns if c in ['type','typeIndex']])"
   ]
  },
  {
   "cell_type": "code",
   "execution_count": 20,
   "metadata": {},
   "outputs": [
    {
     "name": "stderr",
     "output_type": "stream",
     "text": [
      "[Stage 28:==================================================>       (7 + 1) / 8]\r"
     ]
    },
    {
     "name": "stdout",
     "output_type": "stream",
     "text": [
      "+-------+------------+------------------+---------+----+--------+-----------+----------+------------------+------------------+-------------------+---------------+------------+--------------+---------+\n",
      "|user_id|merchant_abn|      dollar_value|take_rate|type|postcode|consumer_id|POA_CODE21|        population|          latitude|          longitude|New cases / day|total_retail|order_datetime|typeIndex|\n",
      "+-------+------------+------------------+---------+----+--------+-----------+----------+------------------+------------------+-------------------+---------------+------------+--------------+---------+\n",
      "|  19997| 10192359162|217.46219992906006|     6.33|   a|    5245|      97642|      5245|1380.8899583589193|138.80813655091683|-35.033796527743796|          153.0|     29761.4|    2021-07-23|      0.0|\n",
      "|  12889| 10142254217|125.75443454681056|     4.22|   b|    3273|    1396189|      3273| 476.2063975243831|142.67937957100315| -37.98311195587978|          107.0|     29761.4|    2021-07-14|      1.0|\n",
      "|  15186| 10264435225| 91.57979011548554|     2.39|   c|    3139|     772282|      3139| 8271.551058526828|145.54429905671648| -37.81260675308728|            8.0|     30725.9|    2021-03-02|      2.0|\n",
      "|   8214| 11173270682|17.839111594004663|     1.26|   d|    5014|     336039|      5014|10656.208138720924| 138.5152832483423| -34.86832828874222|            4.0|     30725.9|    2021-03-21|      3.0|\n",
      "|  11244| 10023283211| 167.3368824231161|     0.18|   e|    3415|    1436472|      3415| 29.79630785996422|141.37924354861428| -36.37407783408653|            7.0|     30725.9|    2021-03-07|      4.0|\n",
      "+-------+------------+------------------+---------+----+--------+-----------+----------+------------------+------------------+-------------------+---------------+------------+--------------+---------+\n",
      "\n"
     ]
    },
    {
     "name": "stderr",
     "output_type": "stream",
     "text": [
      "                                                                                \r"
     ]
    }
   ],
   "source": [
    "type_correspond.drop('order_id', 'merchant_name', 'tags', 'gender', 'name', 'address', 'state', 'month', 'genderIndex', 'tagIndex','tag_vec').show()"
   ]
  },
  {
   "cell_type": "markdown",
   "metadata": {},
   "source": [
    "tag"
   ]
  },
  {
   "cell_type": "code",
   "execution_count": 21,
   "metadata": {},
   "outputs": [],
   "source": [
    "type_correspond = sdf_transformed.drop_duplicates(subset=[c for c in sdf_transformed.columns if c in ['tag','tagIndex', 'tag_vec']])"
   ]
  },
  {
   "cell_type": "code",
   "execution_count": 22,
   "metadata": {},
   "outputs": [
    {
     "name": "stderr",
     "output_type": "stream",
     "text": [
      "[Stage 31:==================================================>       (7 + 1) / 8]\r"
     ]
    },
    {
     "name": "stdout",
     "output_type": "stream",
     "text": [
      "+-------+------------+------------------+--------------------+---------+--------+-----------+----------+------------------+------------------+-------------------+---------------+------------+--------------+--------+---------------+\n",
      "|user_id|merchant_abn|      dollar_value|                tags|take_rate|postcode|consumer_id|POA_CODE21|        population|          latitude|          longitude|New cases / day|total_retail|order_datetime|tagIndex|        tag_vec|\n",
      "+-------+------------+------------------+--------------------+---------+--------+-----------+----------+------------------+------------------+-------------------+---------------+------------+--------------+--------+---------------+\n",
      "|  22992| 11215815177| 715.6209589383707|tent and awning s...|     4.77|    4815|       3357|      4815|22702.718422412596| 146.6502599734605|-19.527645725574185|          164.0|     29761.4|    2021-07-26|     0.0| (24,[0],[1.0])|\n",
      "|  23121| 10206519221|172.50414420078687|gift, card, novel...|     6.34|    6513|     597040|      6513| 334.1141560296801|116.13989351263795|-30.222220489753028|           12.0|     30725.9|    2021-03-12|     1.0| (24,[1],[1.0])|\n",
      "|    391| 10187291046| 111.7602950668596|watch, clock, and...|     3.29|    5810|    1338904|      5000| 18639.00002404289|138.60065438608297| -34.92854526155704|         1703.0|     31967.9|    2021-12-08|     2.0| (24,[2],[1.0])|\n",
      "|   9975| 10945019164| 69.92427541284165|digital goods: bo...|     5.99|    4465|     987053|      4465|1393.2964282725486|147.90784688817615| -26.23585983916069|           12.0|     30960.0|    2021-04-02|     3.0| (24,[3],[1.0])|\n",
      "|  12889| 10142254217|125.75443454681056|cable, satellite,...|     4.22|    3273|    1396189|      3273| 476.2063975243831|142.67937957100315| -37.98311195587978|          107.0|     29761.4|    2021-07-14|     4.0| (24,[4],[1.0])|\n",
      "|   9587| 10545955006| 299.9603453968766|florists supplies...|     6.16|    2089|     591989|      2089|11790.589686244435|151.21873797657483| -33.83590613599813|        23410.0|     34239.3|    2022-06-20|     5.0| (24,[5],[1.0])|\n",
      "|   2998| 11017796471| 10.17187908208659|opticians, optica...|      4.0|    6427|    1018918|      6427| 32.50791224118125|119.56285499465085|-30.821954133235373|           12.0|     30725.9|    2021-03-26|     6.0| (24,[6],[1.0])|\n",
      "|  15055| 10255988167| 544.8658472334755|computers, comput...|     4.32|    3019|     764730|      3019|11188.754121454376|144.85484816567825| -37.78669182332519|          127.0|     29761.4|    2021-07-18|     7.0| (24,[7],[1.0])|\n",
      "|  11647| 10279061213|222.59840440016933|computer programm...|     5.71|    1169|     801018|      2000|29155.593195479523| 151.2082196508253|  -33.8683837718929|            8.0|     30725.9|    2021-03-01|     8.0| (24,[8],[1.0])|\n",
      "|  11244| 10023283211| 167.3368824231161|furniture, home f...|     0.18|    3415|    1436472|      3415| 29.79630785996422|141.37924354861428| -36.37407783408653|            7.0|     30725.9|    2021-03-07|     9.0| (24,[9],[1.0])|\n",
      "|  13053| 10487253336| 399.4131606767563|artist supply and...|     3.92|    3927|    1127296|      3927|3321.1741594568603| 145.1589894958761| -38.38132554854315|            9.0|     30563.8|    2021-06-18|    10.0|(24,[10],[1.0])|\n",
      "|   2354| 10955677986|138.46917675180927|          shoe shops|     5.64|    3520|    1173074|      3520|116.82331118383023|143.76711894104497|-36.355581295265885|           13.0|     30960.0|    2021-04-14|    11.0|(24,[11],[1.0])|\n",
      "|  18854| 10530696903|246.68707400292183|books, periodical...|     6.46|    2157|    1487336|      2157| 7949.907504928672|151.03125285557212|-33.540382709679015|           11.0|     31007.7|    2021-05-07|    12.0|(24,[12],[1.0])|\n",
      "|  19997| 10192359162|217.46219992906006|music shops - mus...|     6.33|    5245|      97642|      5245|1380.8899583589193|138.80813655091683|-35.033796527743796|          153.0|     29761.4|    2021-07-23|    13.0|(24,[13],[1.0])|\n",
      "|   2348| 11633090957|202.31104778541953|lawn and garden s...|      4.0|    3071|     672092|      3071|  19691.9930264142| 145.0058302593363| -37.75817151728167|         1014.0|     33345.0|    2021-11-16|    14.0|(24,[14],[1.0])|\n",
      "|  19989| 10430380319| 409.9593300634479|motor vehicle sup...|     4.97|    5414|     177752|      5414|284.91082999476976|138.80470705772075| -33.99001636361862|           12.0|     30563.8|    2021-06-01|    15.0|(24,[15],[1.0])|\n",
      "|   7524| 11199348915|255.84893518106014|health and beauty...|      4.1|    1710|    1319266|      2122| 27403.02330512393|151.09284322996638|-33.783252288704404|           16.0|     30960.0|    2021-04-20|    16.0|(24,[16],[1.0])|\n",
      "|  22766| 11208869091| 935.3119776020268|hobby, toy and ga...|     6.48|    3551|    1391841|      3551| 37585.26414825486|144.29043537816025|-36.758525359032014|           18.0|     30725.9|    2021-03-29|    17.0|(24,[17],[1.0])|\n",
      "|  17841| 10848766800|122.99708374871499|bicycle shops - s...|     2.08|    5042|     788222|      5042|13353.615263552154|  138.576910994857| -35.00974175048243|         1651.0|     31967.9|    2021-12-09|    18.0|(24,[18],[1.0])|\n",
      "|   1054| 10618089367|182.46119693825872|stationery, offic...|     4.01|    6953|    1100435|      6153|  20784.6386639216|115.84163666283685| -32.02422014114551|           21.0|     30960.0|    2021-04-17|    19.0|(24,[19],[1.0])|\n",
      "+-------+------------+------------------+--------------------+---------+--------+-----------+----------+------------------+------------------+-------------------+---------------+------------+--------------+--------+---------------+\n",
      "only showing top 20 rows\n",
      "\n"
     ]
    },
    {
     "name": "stderr",
     "output_type": "stream",
     "text": [
      "                                                                                \r"
     ]
    }
   ],
   "source": [
    "type_correspond.drop('order_id', 'merchant_name', 'type', 'gender', 'name', 'address', 'state','month', 'genderIndex', 'typeIndex').show()"
   ]
  },
  {
   "cell_type": "code",
   "execution_count": null,
   "metadata": {},
   "outputs": [],
   "source": []
  }
 ],
 "metadata": {
  "kernelspec": {
   "display_name": "Python 3.7.9 64-bit",
   "language": "python",
   "name": "python3"
  },
  "language_info": {
   "codemirror_mode": {
    "name": "ipython",
    "version": 3
   },
   "file_extension": ".py",
   "mimetype": "text/x-python",
   "name": "python",
   "nbconvert_exporter": "python",
   "pygments_lexer": "ipython3",
   "version": "3.7.9"
  },
  "orig_nbformat": 4,
  "vscode": {
   "interpreter": {
    "hash": "aee8b7b246df8f9039afb4144a1f6fd8d2ca17a180786b69acc140d282b71a49"
   }
  }
 },
 "nbformat": 4,
 "nbformat_minor": 2
}
