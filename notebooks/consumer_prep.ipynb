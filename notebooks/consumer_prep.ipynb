{
 "cells": [
  {
   "cell_type": "code",
   "execution_count": 1,
   "metadata": {},
   "outputs": [],
   "source": [
    "import sys\n",
    "sys.path.append('../scripts/')\n",
    "from utility import read_file, create_folder, temp_record_query, temp_record_sdf"
   ]
  },
  {
   "cell_type": "code",
   "execution_count": 2,
   "metadata": {},
   "outputs": [],
   "source": [
    "from pyspark.sql import SparkSession"
   ]
  },
  {
   "cell_type": "code",
   "execution_count": 3,
   "metadata": {},
   "outputs": [
    {
     "name": "stdout",
     "output_type": "stream",
     "text": [
      "22/09/01 17:50:54 WARN Utils: Your hostname, SukiXuudeMacBook-Pro.local resolves to a loopback address: 127.0.0.1; using 100.71.3.59 instead (on interface en0)\n",
      "22/09/01 17:50:54 WARN Utils: Set SPARK_LOCAL_IP if you need to bind to another address\n"
     ]
    },
    {
     "name": "stderr",
     "output_type": "stream",
     "text": [
      "Setting default log level to \"WARN\".\n",
      "To adjust logging level use sc.setLogLevel(newLevel). For SparkR, use setLogLevel(newLevel).\n"
     ]
    },
    {
     "name": "stdout",
     "output_type": "stream",
     "text": [
      "22/09/01 17:50:55 WARN NativeCodeLoader: Unable to load native-hadoop library for your platform... using builtin-java classes where applicable\n"
     ]
    }
   ],
   "source": [
    "spark = (\n",
    "    # Create a spark session (which will run spark jobs)\n",
    "    SparkSession.builder.appName(\"Project 2\")\n",
    "    .config(\"spark.sql.repl.eagerEval.enabled\", True) \n",
    "    .config(\"spark.sql.parquet.cacheMetadata\", \"true\")\n",
    "    .config('spark.executor.memory','10g')\n",
    "    .config('spark.driver.memory','12g')\n",
    "    .config('spark.driver.maxResultsSize', '10 GiB')\n",
    "    .config('spark.shuffle.file.buffer', '64k')\n",
    "    # .config(\"spark.network.timeout\", \"3600s\")\n",
    "    # .master(\"local[6]\")\n",
    "    .getOrCreate()\n",
    "    )"
   ]
  },
  {
   "cell_type": "code",
   "execution_count": 4,
   "metadata": {},
   "outputs": [
    {
     "name": "stdout",
     "output_type": "stream",
     "text": [
      "================ Connect Table ================\n",
      "|> Loading File...\n"
     ]
    },
    {
     "name": "stderr",
     "output_type": "stream",
     "text": [
      "                                                                                \r"
     ]
    },
    {
     "name": "stdout",
     "output_type": "stream",
     "text": [
      "|> Loading Finished!\n",
      "-RECORD 0--------------\n",
      " user_id     | 1       \n",
      " consumer_id | 1195503 \n",
      "only showing top 1 row\n",
      "\n",
      "================ Consumer ================\n",
      "|> Loading File...\n",
      "|> Loading Finished!\n",
      "-RECORD 0---------------------------------\n",
      " name        | Yolanda Williams           \n",
      " address     | 413 Haney Gardens Apt. 742 \n",
      " state       | WA                         \n",
      " postcode    | 6935                       \n",
      " gender      | Female                     \n",
      " consumer_id | 1195503                    \n",
      "only showing top 1 row\n",
      "\n"
     ]
    }
   ],
   "source": [
    "print(\"================ Connect Table ================\")\n",
    "conn = read_file(spark, 'consumer_user_details.parquet')\n",
    "\n",
    "print(\"================ Consumer ================\")\n",
    "sdf = read_file(spark, 'tbl_consumer.csv', type='csv', sep='|')"
   ]
  },
  {
   "cell_type": "code",
   "execution_count": 5,
   "metadata": {},
   "outputs": [
    {
     "name": "stdout",
     "output_type": "stream",
     "text": [
      "|> Loading File...\n"
     ]
    },
    {
     "name": "stderr",
     "output_type": "stream",
     "text": [
      "                                                                                \r"
     ]
    },
    {
     "name": "stdout",
     "output_type": "stream",
     "text": [
      "|> Loading Finished!\n",
      "-RECORD 0----------------------------------------------\n",
      " user_id        | 18478                                \n",
      " merchant_abn   | 62191208634                          \n",
      " dollar_value   | 63.255848959735246                   \n",
      " order_id       | 949a63c8-29f7-4ab0-ada4-99ac50a88952 \n",
      " order_datetime | 2021-08-20                           \n",
      "only showing top 1 row\n",
      "\n"
     ]
    }
   ],
   "source": [
    "transactions_sdf = read_file(spark, 'transactions_20210228_20210827_snapshot')"
   ]
  },
  {
   "cell_type": "markdown",
   "metadata": {},
   "source": [
    "- First, balabala"
   ]
  },
  {
   "cell_type": "code",
   "execution_count": null,
   "metadata": {},
   "outputs": [],
   "source": []
  }
 ],
 "metadata": {
  "kernelspec": {
   "display_name": "Python 3.7.9 64-bit",
   "language": "python",
   "name": "python3"
  },
  "language_info": {
   "codemirror_mode": {
    "name": "ipython",
    "version": 3
   },
   "file_extension": ".py",
   "mimetype": "text/x-python",
   "name": "python",
   "nbconvert_exporter": "python",
   "pygments_lexer": "ipython3",
   "version": "3.7.9"
  },
  "orig_nbformat": 4,
  "vscode": {
   "interpreter": {
    "hash": "aee8b7b246df8f9039afb4144a1f6fd8d2ca17a180786b69acc140d282b71a49"
   }
  }
 },
 "nbformat": 4,
 "nbformat_minor": 2
}
